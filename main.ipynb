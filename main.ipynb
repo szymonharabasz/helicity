{
 "cells": [
  {
   "cell_type": "code",
   "execution_count": 1,
   "metadata": {},
   "outputs": [
    {
     "name": "stdout",
     "output_type": "stream",
     "text": [
      "Welcome to JupyROOT 6.28/04\n"
     ]
    }
   ],
   "source": [
    "from bins import Bins\n",
    "from utils import calcAllChi2, calcOneChi2, HistMaker, diffHist\n",
    "from ROOT import TFile, TH1, TCanvas, TStyle, gStyle, Form\n",
    "import math"
   ]
  },
  {
   "cell_type": "code",
   "execution_count": 2,
   "metadata": {},
   "outputs": [
    {
     "name": "stdout",
     "output_type": "stream",
     "text": [
      "iter 0\n",
      "Before processing events 06:18:18\n",
      "After processing events 06:18:21\n",
      "iter 1\n",
      "Before processing events 06:18:27\n",
      "After processing events 06:18:27\n"
     ]
    }
   ],
   "source": [
    "bins = Bins.readFrom(\"ranges.yml\")\n",
    "histMakerData = HistMaker(\"088_090_ag123ag_2500A_accepted_np.dat\", \"_data\", bins)\n",
    "#histsData = histMakerData.makeHists()\n",
    "histsData = histMakerData.makeHists()\n",
    "#histMakerMC = HistMaker(\"medium_isotropic_eff_ag1230ag_np_9deg.dat\", \"_MC\", bins    )\n",
    "#histMakerMC = HistMaker(\"mar19_diele_inmedium_heli0cm_np.dat\", \"_MC\", bins    )\n",
    "histMakerMC = HistMaker(\"mar19_diele_pi0_heli0cm_np.dat\", \"_MC\", bins    )\n",
    "\n",
    "allHistsMC = []"
   ]
  },
  {
   "cell_type": "code",
   "execution_count": 3,
   "metadata": {},
   "outputs": [],
   "source": [
    "import torch\n",
    "\n",
    "torch.device(\"mps\")\n",
    "torch.manual_seed(0)\n",
    "\n",
    "import gpytorch\n",
    "import botorch\n",
    "\n",
    "import matplotlib.pyplot as plt\n",
    "\n",
    "plt.style.use(\"bmh\")\n",
    "plt.rcParams[\"figure.figsize\"] = (8, 6)\n",
    "\n",
    "from tqdm.notebook import tqdm\n",
    "\n",
    "import warnings"
   ]
  },
  {
   "cell_type": "code",
   "execution_count": 4,
   "metadata": {},
   "outputs": [],
   "source": [
    "TH1.SetDefaultSumw2\n",
    "\n",
    "N_PARAMS = 3"
   ]
  },
  {
   "cell_type": "code",
   "execution_count": 5,
   "metadata": {},
   "outputs": [],
   "source": [
    "#lb = -1\n",
    "#ub = 1\n",
    "\n",
    "#bounds = torch.tensor([[lb]*N_PARAMS, [ub]*N_PARAMS], dtype=torch.float)\n",
    "bounds = torch.tensor([[0, 0,         0],\n",
    "                       [1, 2*math.pi, 2]], dtype=torch.float)\n",
    "\n",
    "grid_r   = torch.linspace(bounds[0][0], bounds[1][0], 101)\n",
    "grid_phi = torch.linspace(bounds[0][1], bounds[1][1], 101)\n",
    "grid_z   = torch.linspace(bounds[0][2], bounds[1][2], 101)\n",
    "\n",
    "grid_x1, grid_x2, grid_x3 = torch.meshgrid(grid_r, grid_phi, grid_z, indexing=\"ij\")\n",
    "\n",
    "xs = torch.vstack([grid_x1.flatten(), grid_x2.flatten(), grid_x3.flatten()]).transpose(-2,-1)"
   ]
  },
  {
   "cell_type": "code",
   "execution_count": 6,
   "metadata": {},
   "outputs": [],
   "source": [
    "class GPModel(gpytorch.models.ExactGP, botorch.models.gpytorch.GPyTorchModel):\n",
    "    _num_outputs = 1\n",
    "\n",
    "    def __init__(self, train_x, train_y, likelihood):\n",
    "        super().__init__(train_x, train_y, likelihood)\n",
    "        self.mean_module = gpytorch.means.ConstantMean()\n",
    "        self.covar_module = gpytorch.kernels.ScaleKernel(\n",
    "            gpytorch.kernels.MaternKernel(nu=2.5, ard_num_dims=1)\n",
    "        )\n",
    "\n",
    "    def forward(self, x):\n",
    "        mean_x = self.mean_module(x)\n",
    "        covar_x = self.covar_module(x)\n",
    "        return gpytorch.distributions.MultivariateNormal(mean_x, covar_x)\n",
    "\n",
    "\n",
    "def fit_gp_model(train_x, train_y, num_train_iters=500):\n",
    "    # declare the GP\n",
    "    noise = 1e-4\n",
    "\n",
    "    likelihood = gpytorch.likelihoods.GaussianLikelihood()\n",
    "    model = GPModel(train_x, train_y, likelihood)\n",
    "    model.likelihood.noise = noise\n",
    "\n",
    "    # train the hyperparameter (the constant)\n",
    "    optimizer = torch.optim.Adam(model.parameters(), lr=0.01)\n",
    "    mll = gpytorch.mlls.ExactMarginalLogLikelihood(likelihood, model)\n",
    "\n",
    "    model.train()\n",
    "    likelihood.train()\n",
    "\n",
    "    for i in range(num_train_iters):\n",
    "        optimizer.zero_grad()\n",
    "\n",
    "        output = model(train_x)\n",
    "        loss = -mll(output, train_y)\n",
    "\n",
    "        loss.backward()\n",
    "        optimizer.step()\n",
    "\n",
    "    model.eval()\n",
    "    likelihood.eval()\n",
    "\n",
    "    return model, likelihood"
   ]
  },
  {
   "cell_type": "code",
   "execution_count": 7,
   "metadata": {},
   "outputs": [],
   "source": [
    "num_queries = 200\n",
    "num_repeats = 1\n",
    "num_samples = 1"
   ]
  },
  {
   "cell_type": "code",
   "execution_count": 8,
   "metadata": {},
   "outputs": [],
   "source": [
    "def lambdas(xx):\n",
    "   # return x[0], x[1], x[2]\n",
    "    r, phi, z = xx[0], xx[1], xx[2]\n",
    "    x = r*math.cos(phi)\n",
    "    y = r*math.sin(phi)\n",
    "    lambda_theta = 0.5 * (2*x + z)\n",
    "    lambda_phi   = 0.25 * (-2 - 2*x + 3*z)\n",
    "    lambda_theta_phi = y/math.sqrt(2.)\n",
    "    return lambda_theta, lambda_phi, lambda_theta_phi\n",
    "\n",
    "def all_lambdas(xx):\n",
    "    def generator(xx):\n",
    "        for x in xx:\n",
    "            lambda_theta, lambda_phi, lambda_theta_phi = lambdas(x)\n",
    "            yield torch.tensor([lambda_theta, lambda_phi, lambda_theta_phi])\n",
    "           # yield torch.tensor([1./(chi2 / ndf)])\n",
    "    return torch.stack([a for a in generator(xx)])\n",
    "    \n",
    "HIST_INDEX = 0\n",
    "\n",
    "def objective(xx):\n",
    "    def generator(xx):\n",
    "        for x in xx:\n",
    "            lambda_theta, lambda_phi, lambda_theta_phi = lambdas(x)\n",
    "\n",
    "            histsMC = histMakerMC.makeHists(lambda_theta, lambda_phi, lambda_theta_phi)\n",
    "            chi2, ndf = calcOneChi2(histsMC[0][HIST_INDEX], histsData[0][HIST_INDEX])\n",
    "            allHistsMC.append(histsMC[0][HIST_INDEX])\n",
    "            if not chi2 or not ndf:\n",
    "                return torch.tensor([0])\n",
    "            yield torch.tensor([1.0/(chi2 / ndf)])\n",
    "           # yield torch.tensor([1./(chi2 / ndf)])\n",
    "    return torch.stack([a for a in generator(xx)])"
   ]
  },
  {
   "cell_type": "code",
   "execution_count": 9,
   "metadata": {},
   "outputs": [
    {
     "name": "stdout",
     "output_type": "stream",
     "text": [
      "trial 0\n",
      "tensor([[0.4963, 4.8269, 0.1770]])\n",
      "torch.Size([1, 3])\n"
     ]
    },
    {
     "data": {
      "application/vnd.jupyter.widget-view+json": {
       "model_id": "5d6aed5048b042849330dc4355616f9a",
       "version_major": 2,
       "version_minor": 0
      },
      "text/plain": [
       "  0%|          | 0/200 [00:00<?, ?it/s]"
      ]
     },
     "metadata": {},
     "output_type": "display_data"
    },
    {
     "name": "stdout",
     "output_type": "stream",
     "text": [
      "Before reweighting hists 06:18:45\n",
      "After reweighting hists 06:18:45\n",
      "Before reweighting hists 06:19:03\n",
      "After reweighting hists 06:19:03\n",
      "Before reweighting hists 06:19:22\n",
      "After reweighting hists 06:19:22\n",
      "Before reweighting hists 06:19:41\n",
      "After reweighting hists 06:19:41\n",
      "Before reweighting hists 06:20:00\n",
      "After reweighting hists 06:20:01\n",
      "Before reweighting hists 06:20:21\n",
      "After reweighting hists 06:20:22\n",
      "Before reweighting hists 06:20:42\n",
      "After reweighting hists 06:20:42\n",
      "Before reweighting hists 06:21:05\n",
      "After reweighting hists 06:21:05\n",
      "Before reweighting hists 06:21:28\n",
      "After reweighting hists 06:21:28\n",
      "Before reweighting hists 06:21:54\n",
      "After reweighting hists 06:21:54\n",
      "Before reweighting hists 06:22:19\n",
      "After reweighting hists 06:22:20\n",
      "Before reweighting hists 06:22:46\n",
      "After reweighting hists 06:22:46\n",
      "Before reweighting hists 06:23:12\n",
      "After reweighting hists 06:23:12\n",
      "Before reweighting hists 06:23:45\n",
      "After reweighting hists 06:23:45\n",
      "Before reweighting hists 06:24:18\n",
      "After reweighting hists 06:24:18\n",
      "Before reweighting hists 06:24:51\n",
      "After reweighting hists 06:24:52\n",
      "Before reweighting hists 06:25:26\n",
      "After reweighting hists 06:25:26\n",
      "Before reweighting hists 06:26:01\n",
      "After reweighting hists 06:26:01\n",
      "Before reweighting hists 06:26:43\n",
      "After reweighting hists 06:26:44\n",
      "Before reweighting hists 06:27:30\n",
      "After reweighting hists 06:27:30\n"
     ]
    }
   ],
   "source": [
    "# -2 is the default value when no feasible has been found\n",
    "default_value = 4000\n",
    "feasible_incumbents = torch.ones((num_repeats, num_queries)) * default_value\n",
    "\n",
    "for trial in range(num_repeats):\n",
    "    print(\"trial\", trial)\n",
    "\n",
    "    torch.manual_seed(trial)\n",
    "    train_x = bounds[0] + (bounds[1] - bounds[0]) * torch.rand(num_samples, 3)\n",
    "###                inequality_constraints=[(torch.tensor([0,2]),torch.tensor([-2.0,-1.0],dtype=torch.float),-2.0)],\n",
    "    while -2.0*train_x[0][0] - 1.0*train_x[0][2] < -2:\n",
    "        train_x = bounds[0] + (bounds[1] - bounds[0]) * torch.rand(num_samples, 3)\n",
    "    print(train_x)\n",
    "    print(train_x.shape)\n",
    "    train_utility = objective(train_x)\n",
    "\n",
    "    for i in tqdm(range(num_queries)):\n",
    "        feasible_incumbents[trial, i] = train_utility.max()\n",
    "        utility_model, utility_likelihood = fit_gp_model(\n",
    "            train_x, train_utility.squeeze(-1)\n",
    "        )\n",
    "        best_f = train_utility.max()\n",
    "                \n",
    "       # policy = botorch.acquisition.monte_carlo.qExpectedImprovement(\n",
    "        policy = botorch.acquisition.analytic.LogExpectedImprovement(\n",
    "       # policy = botorch.acquisition.analytic.ProbabilityOfImprovement(\n",
    "            model=utility_model,\n",
    "            best_f=train_utility.max(),\n",
    "        )\n",
    "\n",
    "        with warnings.catch_warnings():\n",
    "            warnings.filterwarnings('ignore', category=RuntimeWarning)\n",
    "            next_x, acq_val = botorch.optim.optimize_acqf(\n",
    "                policy,\n",
    "                bounds=bounds,\n",
    "                q=1,\n",
    "                num_restarts=40,\n",
    "                raw_samples=100,\n",
    "                inequality_constraints=[(torch.tensor([0,2]),torch.tensor([-2.0,-1.0],dtype=torch.float),-2.0)],\n",
    "            )\n",
    "\n",
    "        next_utility = objective(next_x)\n",
    "\n",
    "        train_x = torch.cat([train_x, next_x])\n",
    "        train_utility = torch.cat([train_utility, next_utility])"
   ]
  },
  {
   "cell_type": "code",
   "execution_count": 10,
   "metadata": {},
   "outputs": [
    {
     "name": "stdout",
     "output_type": "stream",
     "text": [
      "Writing hist:  hist_0to150_m06p00_MC_iter2\n",
      "Writing hist:  hist_0to150_m06p00_MC_iter3\n",
      "Writing hist:  hist_0to150_m06p00_MC_iter4\n",
      "Writing hist:  hist_0to150_m06p00_MC_iter5\n",
      "Writing hist:  hist_0to150_m06p00_MC_iter6\n",
      "Writing hist:  hist_0to150_m06p00_MC_iter7\n",
      "Writing hist:  hist_0to150_m06p00_MC_iter8\n",
      "Writing hist:  hist_0to150_m06p00_MC_iter9\n",
      "Writing hist:  hist_0to150_m06p00_MC_iter10\n",
      "Writing hist:  hist_0to150_m06p00_MC_iter11\n",
      "Writing hist:  hist_0to150_m06p00_MC_iter12\n",
      "Writing hist:  hist_0to150_m06p00_MC_iter13\n",
      "Writing hist:  hist_0to150_m06p00_MC_iter14\n",
      "Writing hist:  hist_0to150_m06p00_MC_iter15\n",
      "Writing hist:  hist_0to150_m06p00_MC_iter16\n",
      "Writing hist:  hist_0to150_m06p00_MC_iter17\n",
      "Writing hist:  hist_0to150_m06p00_MC_iter18\n",
      "Writing hist:  hist_0to150_m06p00_MC_iter19\n",
      "Writing hist:  hist_0to150_m06p00_MC_iter20\n",
      "Writing hist:  hist_0to150_m06p00_MC_iter21\n",
      "Writing hist:  hist_0to150_m06p00_MC_iter22\n",
      "Writing hist:  hist_0to150_m06p00_MC_iter23\n",
      "Writing hist:  hist_0to150_m06p00_MC_iter24\n",
      "Writing hist:  hist_0to150_m06p00_MC_iter25\n",
      "Writing hist:  hist_0to150_m06p00_MC_iter26\n",
      "Writing hist:  hist_0to150_m06p00_MC_iter27\n",
      "Writing hist:  hist_0to150_m06p00_MC_iter28\n",
      "Writing hist:  hist_0to150_m06p00_MC_iter29\n",
      "Writing hist:  hist_0to150_m06p00_MC_iter30\n",
      "Writing hist:  hist_0to150_m06p00_MC_iter31\n",
      "Writing hist:  hist_0to150_m06p00_MC_iter32\n",
      "Writing hist:  hist_0to150_m06p00_MC_iter33\n",
      "Writing hist:  hist_0to150_m06p00_MC_iter34\n",
      "Writing hist:  hist_0to150_m06p00_MC_iter35\n",
      "Writing hist:  hist_0to150_m06p00_MC_iter36\n",
      "Writing hist:  hist_0to150_m06p00_MC_iter37\n",
      "Writing hist:  hist_0to150_m06p00_MC_iter38\n",
      "Writing hist:  hist_0to150_m06p00_MC_iter39\n",
      "Writing hist:  hist_0to150_m06p00_MC_iter40\n",
      "Writing hist:  hist_0to150_m06p00_MC_iter41\n",
      "Writing hist:  hist_0to150_m06p00_MC_iter42\n",
      "Writing hist:  hist_0to150_m06p00_MC_iter43\n",
      "Writing hist:  hist_0to150_m06p00_MC_iter44\n",
      "Writing hist:  hist_0to150_m06p00_MC_iter45\n",
      "Writing hist:  hist_0to150_m06p00_MC_iter46\n",
      "Writing hist:  hist_0to150_m06p00_MC_iter47\n",
      "Writing hist:  hist_0to150_m06p00_MC_iter48\n",
      "Writing hist:  hist_0to150_m06p00_MC_iter49\n",
      "Writing hist:  hist_0to150_m06p00_MC_iter50\n",
      "Writing hist:  hist_0to150_m06p00_MC_iter51\n",
      "Writing hist:  hist_0to150_m06p00_MC_iter52\n",
      "Writing hist:  hist_0to150_m06p00_MC_iter53\n",
      "Writing hist:  hist_0to150_m06p00_MC_iter54\n",
      "Writing hist:  hist_0to150_m06p00_MC_iter55\n",
      "Writing hist:  hist_0to150_m06p00_MC_iter56\n",
      "Writing hist:  hist_0to150_m06p00_MC_iter57\n",
      "Writing hist:  hist_0to150_m06p00_MC_iter58\n",
      "Writing hist:  hist_0to150_m06p00_MC_iter59\n",
      "Writing hist:  hist_0to150_m06p00_MC_iter60\n",
      "Writing hist:  hist_0to150_m06p00_MC_iter61\n",
      "Writing hist:  hist_0to150_m06p00_MC_iter62\n",
      "Writing hist:  hist_0to150_m06p00_MC_iter63\n",
      "Writing hist:  hist_0to150_m06p00_MC_iter64\n",
      "Writing hist:  hist_0to150_m06p00_MC_iter65\n",
      "Writing hist:  hist_0to150_m06p00_MC_iter66\n",
      "Writing hist:  hist_0to150_m06p00_MC_iter67\n",
      "Writing hist:  hist_0to150_m06p00_MC_iter68\n",
      "Writing hist:  hist_0to150_m06p00_MC_iter69\n",
      "Writing hist:  hist_0to150_m06p00_MC_iter70\n",
      "Writing hist:  hist_0to150_m06p00_MC_iter71\n",
      "Writing hist:  hist_0to150_m06p00_MC_iter72\n",
      "Writing hist:  hist_0to150_m06p00_MC_iter73\n",
      "Writing hist:  hist_0to150_m06p00_MC_iter74\n",
      "Writing hist:  hist_0to150_m06p00_MC_iter75\n",
      "Writing hist:  hist_0to150_m06p00_MC_iter76\n",
      "Writing hist:  hist_0to150_m06p00_MC_iter77\n",
      "Writing hist:  hist_0to150_m06p00_MC_iter78\n",
      "Writing hist:  hist_0to150_m06p00_MC_iter79\n",
      "Writing hist:  hist_0to150_m06p00_MC_iter80\n",
      "Writing hist:  hist_0to150_m06p00_MC_iter81\n",
      "Writing hist:  hist_0to150_m06p00_MC_iter82\n",
      "Writing hist:  hist_0to150_m06p00_MC_iter83\n",
      "Writing hist:  hist_0to150_m06p00_MC_iter84\n",
      "Writing hist:  hist_0to150_m06p00_MC_iter85\n",
      "Writing hist:  hist_0to150_m06p00_MC_iter86\n",
      "Writing hist:  hist_0to150_m06p00_MC_iter87\n",
      "Writing hist:  hist_0to150_m06p00_MC_iter88\n",
      "Writing hist:  hist_0to150_m06p00_MC_iter89\n",
      "Writing hist:  hist_0to150_m06p00_MC_iter90\n",
      "Writing hist:  hist_0to150_m06p00_MC_iter91\n",
      "Writing hist:  hist_0to150_m06p00_MC_iter92\n",
      "Writing hist:  hist_0to150_m06p00_MC_iter93\n",
      "Writing hist:  hist_0to150_m06p00_MC_iter94\n",
      "Writing hist:  hist_0to150_m06p00_MC_iter95\n",
      "Writing hist:  hist_0to150_m06p00_MC_iter96\n",
      "Writing hist:  hist_0to150_m06p00_MC_iter97\n",
      "Writing hist:  hist_0to150_m06p00_MC_iter98\n",
      "Writing hist:  hist_0to150_m06p00_MC_iter99\n",
      "Writing hist:  hist_0to150_m06p00_MC_iter100\n",
      "Writing hist:  hist_0to150_m06p00_MC_iter101\n",
      "Writing hist:  hist_0to150_m06p00_MC_iter102\n",
      "Writing hist:  hist_0to150_m06p00_MC_iter103\n",
      "Writing hist:  hist_0to150_m06p00_MC_iter104\n",
      "Writing hist:  hist_0to150_m06p00_MC_iter105\n",
      "Writing hist:  hist_0to150_m06p00_MC_iter106\n",
      "Writing hist:  hist_0to150_m06p00_MC_iter107\n",
      "Writing hist:  hist_0to150_m06p00_MC_iter108\n",
      "Writing hist:  hist_0to150_m06p00_MC_iter109\n",
      "Writing hist:  hist_0to150_m06p00_MC_iter110\n",
      "Writing hist:  hist_0to150_m06p00_MC_iter111\n",
      "Writing hist:  hist_0to150_m06p00_MC_iter112\n",
      "Writing hist:  hist_0to150_m06p00_MC_iter113\n",
      "Writing hist:  hist_0to150_m06p00_MC_iter114\n",
      "Writing hist:  hist_0to150_m06p00_MC_iter115\n",
      "Writing hist:  hist_0to150_m06p00_MC_iter116\n",
      "Writing hist:  hist_0to150_m06p00_MC_iter117\n",
      "Writing hist:  hist_0to150_m06p00_MC_iter118\n",
      "Writing hist:  hist_0to150_m06p00_MC_iter119\n",
      "Writing hist:  hist_0to150_m06p00_MC_iter120\n",
      "Writing hist:  hist_0to150_m06p00_MC_iter121\n",
      "Writing hist:  hist_0to150_m06p00_MC_iter122\n",
      "Writing hist:  hist_0to150_m06p00_MC_iter123\n",
      "Writing hist:  hist_0to150_m06p00_MC_iter124\n",
      "Writing hist:  hist_0to150_m06p00_MC_iter125\n",
      "Writing hist:  hist_0to150_m06p00_MC_iter126\n",
      "Writing hist:  hist_0to150_m06p00_MC_iter127\n",
      "Writing hist:  hist_0to150_m06p00_MC_iter128\n",
      "Writing hist:  hist_0to150_m06p00_MC_iter129\n",
      "Writing hist:  hist_0to150_m06p00_MC_iter130\n",
      "Writing hist:  hist_0to150_m06p00_MC_iter131\n",
      "Writing hist:  hist_0to150_m06p00_MC_iter132\n",
      "Writing hist:  hist_0to150_m06p00_MC_iter133\n",
      "Writing hist:  hist_0to150_m06p00_MC_iter134\n",
      "Writing hist:  hist_0to150_m06p00_MC_iter135\n",
      "Writing hist:  hist_0to150_m06p00_MC_iter136\n",
      "Writing hist:  hist_0to150_m06p00_MC_iter137\n",
      "Writing hist:  hist_0to150_m06p00_MC_iter138\n",
      "Writing hist:  hist_0to150_m06p00_MC_iter139\n",
      "Writing hist:  hist_0to150_m06p00_MC_iter140\n",
      "Writing hist:  hist_0to150_m06p00_MC_iter141\n",
      "Writing hist:  hist_0to150_m06p00_MC_iter142\n",
      "Writing hist:  hist_0to150_m06p00_MC_iter143\n",
      "Writing hist:  hist_0to150_m06p00_MC_iter144\n",
      "Writing hist:  hist_0to150_m06p00_MC_iter145\n",
      "Writing hist:  hist_0to150_m06p00_MC_iter146\n",
      "Writing hist:  hist_0to150_m06p00_MC_iter147\n",
      "Writing hist:  hist_0to150_m06p00_MC_iter148\n",
      "Writing hist:  hist_0to150_m06p00_MC_iter149\n",
      "Writing hist:  hist_0to150_m06p00_MC_iter150\n",
      "Writing hist:  hist_0to150_m06p00_MC_iter151\n",
      "Writing hist:  hist_0to150_m06p00_MC_iter152\n",
      "Writing hist:  hist_0to150_m06p00_MC_iter153\n",
      "Writing hist:  hist_0to150_m06p00_MC_iter154\n",
      "Writing hist:  hist_0to150_m06p00_MC_iter155\n",
      "Writing hist:  hist_0to150_m06p00_MC_iter156\n",
      "Writing hist:  hist_0to150_m06p00_MC_iter157\n",
      "Writing hist:  hist_0to150_m06p00_MC_iter158\n",
      "Writing hist:  hist_0to150_m06p00_MC_iter159\n",
      "Writing hist:  hist_0to150_m06p00_MC_iter160\n",
      "Writing hist:  hist_0to150_m06p00_MC_iter161\n",
      "Writing hist:  hist_0to150_m06p00_MC_iter162\n",
      "Writing hist:  hist_0to150_m06p00_MC_iter163\n",
      "Writing hist:  hist_0to150_m06p00_MC_iter164\n",
      "Writing hist:  hist_0to150_m06p00_MC_iter165\n",
      "Writing hist:  hist_0to150_m06p00_MC_iter166\n",
      "Writing hist:  hist_0to150_m06p00_MC_iter167\n",
      "Writing hist:  hist_0to150_m06p00_MC_iter168\n",
      "Writing hist:  hist_0to150_m06p00_MC_iter169\n",
      "Writing hist:  hist_0to150_m06p00_MC_iter170\n",
      "Writing hist:  hist_0to150_m06p00_MC_iter171\n",
      "Writing hist:  hist_0to150_m06p00_MC_iter172\n",
      "Writing hist:  hist_0to150_m06p00_MC_iter173\n",
      "Writing hist:  hist_0to150_m06p00_MC_iter174\n",
      "Writing hist:  hist_0to150_m06p00_MC_iter175\n",
      "Writing hist:  hist_0to150_m06p00_MC_iter176\n",
      "Writing hist:  hist_0to150_m06p00_MC_iter177\n",
      "Writing hist:  hist_0to150_m06p00_MC_iter178\n",
      "Writing hist:  hist_0to150_m06p00_MC_iter179\n",
      "Writing hist:  hist_0to150_m06p00_MC_iter180\n",
      "Writing hist:  hist_0to150_m06p00_MC_iter181\n",
      "Writing hist:  hist_0to150_m06p00_MC_iter182\n",
      "Writing hist:  hist_0to150_m06p00_MC_iter183\n",
      "Writing hist:  hist_0to150_m06p00_MC_iter184\n",
      "Writing hist:  hist_0to150_m06p00_MC_iter185\n",
      "Writing hist:  hist_0to150_m06p00_MC_iter186\n",
      "Writing hist:  hist_0to150_m06p00_MC_iter187\n",
      "Writing hist:  hist_0to150_m06p00_MC_iter188\n",
      "Writing hist:  hist_0to150_m06p00_MC_iter189\n",
      "Writing hist:  hist_0to150_m06p00_MC_iter190\n",
      "Writing hist:  hist_0to150_m06p00_MC_iter191\n",
      "Writing hist:  hist_0to150_m06p00_MC_iter192\n",
      "Writing hist:  hist_0to150_m06p00_MC_iter193\n",
      "Writing hist:  hist_0to150_m06p00_MC_iter194\n",
      "Writing hist:  hist_0to150_m06p00_MC_iter195\n",
      "Writing hist:  hist_0to150_m06p00_MC_iter196\n",
      "Writing hist:  hist_0to150_m06p00_MC_iter197\n",
      "Writing hist:  hist_0to150_m06p00_MC_iter198\n",
      "Writing hist:  hist_0to150_m06p00_MC_iter199\n",
      "Writing hist:  hist_0to150_m06p00_MC_iter200\n",
      "Writing hist:  hist_0to150_m06p00_MC_iter201\n",
      "Writing hist:  hist_0to150_m06p00_MC_iter202\n",
      "Writing hist:  0 0 Name: hist_0to150_m06p00_data_iter1 Title: hist_0to150_m06p00_data_iter1 NbinsX: 20\n",
      "Writing hist:  0 1 Name: hist_0to150_p00p03_data_iter1 Title: hist_0to150_p00p03_data_iter1 NbinsX: 20\n",
      "Writing hist:  0 2 Name: hist_0to150_p03p08_data_iter1 Title: hist_0to150_p03p08_data_iter1 NbinsX: 20\n",
      "Writing hist:  0 3 Name: hist_150to300_m06p00_data_iter1 Title: hist_150to300_m06p00_data_iter1 NbinsX: 20\n",
      "Writing hist:  0 4 Name: hist_150to300_p00p03_data_iter1 Title: hist_150to300_p00p03_data_iter1 NbinsX: 20\n",
      "Writing hist:  0 5 Name: hist_150to300_p03p08_data_iter1 Title: hist_150to300_p03p08_data_iter1 NbinsX: 20\n",
      "Writing hist:  0 6 Name: hist_300to450_m06p00_data_iter1 Title: hist_300to450_m06p00_data_iter1 NbinsX: 20\n",
      "Writing hist:  0 7 Name: hist_300to450_p00p03_data_iter1 Title: hist_300to450_p00p03_data_iter1 NbinsX: 20\n",
      "Writing hist:  0 8 Name: hist_300to450_p03p08_data_iter1 Title: hist_300to450_p03p08_data_iter1 NbinsX: 20\n",
      "Writing hist:  0 9 Name: hist_450to600_m06p00_data_iter1 Title: hist_450to600_m06p00_data_iter1 NbinsX: 20\n",
      "Writing hist:  0 10 Name: hist_450to600_p00p03_data_iter1 Title: hist_450to600_p00p03_data_iter1 NbinsX: 20\n",
      "Writing hist:  0 11 Name: hist_450to600_p03p08_data_iter1 Title: hist_450to600_p03p08_data_iter1 NbinsX: 20\n",
      "Writing hist:  1 0 Name: hmass_data Title: hmass_data NbinsX: 100\n",
      "Writing hist:  2 0 Name: hz_data Title: hz_data NbinsX: 100\n"
     ]
    }
   ],
   "source": [
    "torch.save(feasible_incumbents, f\"./incumbents.pth\")\n",
    "fout = TFile(\"out_\"+str(HIST_INDEX)+\".root\",\"RECREATE\")\n",
    "fout.cd()\n",
    "for hist in allHistsMC:\n",
    "    print (\"Writing hist: \", hist.GetName())\n",
    "    hist.Write()\n",
    "for j, hists in enumerate(histsData):\n",
    "    for k, hist in enumerate(hists):\n",
    "            hist.Write()\n",
    "            print (\"Writing hist: \", j, k, hist)\n",
    "fout.Close()"
   ]
  },
  {
   "cell_type": "code",
   "execution_count": 11,
   "metadata": {},
   "outputs": [],
   "source": [
    "#t = torch.tensor( [ [-1.0000, -0.4678,  0.5433]])\n",
    "#print(t)\n",
    "#print(t.shape)"
   ]
  },
  {
   "cell_type": "code",
   "execution_count": 12,
   "metadata": {},
   "outputs": [],
   "source": [
    "with torch.no_grad():\n",
    "    predictive_distribution = utility_likelihood(utility_model(xs))\n",
    "    predictive_mean = predictive_distribution.mean\n",
    "    predictive_lower, predictive_upper = predictive_distribution.confidence_region()\n",
    "    acquisition_score = policy(xs.unsqueeze(1))"
   ]
  },
  {
   "cell_type": "code",
   "execution_count": 13,
   "metadata": {},
   "outputs": [
    {
     "data": {
      "application/vnd.jupyter.widget-view+json": {
       "model_id": "889d20ede8934b93a0ae9b66e7a7beb9",
       "version_major": 2,
       "version_minor": 0
      },
      "text/plain": [
       "interactive(children=(IntSlider(value=50, description='x', layout=Layout(width='500px')), Output()), _dom_clas…"
      ]
     },
     "metadata": {},
     "output_type": "display_data"
    },
    {
     "data": {
      "text/plain": [
       "<function __main__.f(x)>"
      ]
     },
     "execution_count": 13,
     "metadata": {},
     "output_type": "execute_result"
    }
   ],
   "source": [
    "from ipywidgets import interact, Layout, IntSlider\n",
    "import numpy as np\n",
    "\n",
    "axis_titles = [r\"R of cone coordinates\", r\"$\\Phi$ of cone coordinates\", r\"Z of cone coordinates\"]\n",
    "\n",
    "def oneplot(ax, tensor, index, cmap, title, transpose=None):\n",
    "        \n",
    "        global xs\n",
    "        tensor_3d = torch.reshape(tensor, (101,101,101))\n",
    "        xs_3d = torch.reshape(xs, (101,101,101,3))\n",
    "        if transpose:\n",
    "               tensor_3d = tensor_3d.transpose(transpose[0],transpose[1])\n",
    "               xs_3d     = xs_3d    .transpose(transpose[0],transpose[1])\n",
    "        if transpose is None:\n",
    "                extent=[\n",
    "                        xs_3d[0][0][0][2],\n",
    "                        xs_3d[0][0][-1][2],\n",
    "                        xs_3d[0][0][0][1],\n",
    "                        xs_3d[0][-1][0][1],\n",
    "                ]\n",
    "        elif transpose == (0,1):\n",
    "                extent=[\n",
    "                        xs_3d[0][0][0][2],\n",
    "                        xs_3d[0][0][-1][2],\n",
    "                        xs_3d[0][0][0][0],\n",
    "                        xs_3d[0][-1][0][0],\n",
    "                ]\n",
    "        elif transpose == (0,2):\n",
    "                extent=[\n",
    "                        xs_3d[0][0][0][0],\n",
    "                        xs_3d[0][0][-1][0],\n",
    "                        xs_3d[0][0][0][1],\n",
    "                        xs_3d[0][-1][0][1],\n",
    "                ]\n",
    "        if transpose is None:\n",
    "                x_title=axis_titles[2]\n",
    "                y_title=axis_titles[1]\n",
    "        elif transpose == (0, 1):\n",
    "                x_title=axis_titles[2]\n",
    "                y_title=axis_titles[0]\n",
    "        elif transpose == (0,2):\n",
    "                x_title=axis_titles[0]\n",
    "                y_title=axis_titles[1]\n",
    "        \n",
    "        pos = ax.imshow(tensor_3d[index], cmap=cmap, interpolation=\"nearest\", origin=\"lower\", \n",
    "                vmin=tensor.min(), vmax=tensor.max(), extent=extent)\n",
    "        ax.set_aspect((extent[1]-extent[0])/(extent[3]-extent[2]))\n",
    "        ax.set_title(title)\n",
    "        ax.set_xlabel(x_title)\n",
    "        ax.set_ylabel(y_title)\n",
    "        plt.colorbar(pos,fraction=0.046, pad=0.04)\n",
    "\n",
    "def ff(x, transpose):\n",
    "        cmap = \"gist_rainbow\"\n",
    "        fig, ax = plt.subplots(nrows=1, ncols=3, sharey=True)\n",
    "        oneplot(ax[0], predictive_mean, x, cmap, \"value\", transpose)\n",
    "        oneplot(ax[1], predictive_upper-predictive_lower, x, cmap, \"confidence int. width\", transpose)\n",
    "        oneplot(ax[2], acquisition_score, x, cmap, \"acquisition score\", transpose)\n",
    "\n",
    "def f(x):\n",
    "        ff(x, None)\n",
    "\n",
    "interact(f, x=IntSlider(50, 0, 100, 1, layout=Layout(width='500px')))\n"
   ]
  },
  {
   "cell_type": "code",
   "execution_count": 14,
   "metadata": {},
   "outputs": [
    {
     "data": {
      "application/vnd.jupyter.widget-view+json": {
       "model_id": "a94e9c69d4bb4657874d9551975a82c8",
       "version_major": 2,
       "version_minor": 0
      },
      "text/plain": [
       "interactive(children=(IntSlider(value=50, description='x', layout=Layout(width='500px')), Output()), _dom_clas…"
      ]
     },
     "metadata": {},
     "output_type": "display_data"
    },
    {
     "data": {
      "text/plain": [
       "<function __main__.g(x)>"
      ]
     },
     "execution_count": 14,
     "metadata": {},
     "output_type": "execute_result"
    }
   ],
   "source": [
    "def g(x):\n",
    "        ff(x, (0,1))\n",
    "           \n",
    "interact(g, x=IntSlider(50, 0, 100, 1, layout=Layout(width='500px')))"
   ]
  },
  {
   "cell_type": "code",
   "execution_count": 15,
   "metadata": {},
   "outputs": [
    {
     "data": {
      "application/vnd.jupyter.widget-view+json": {
       "model_id": "a50959c3eed1404d9a6e776a495b2dfe",
       "version_major": 2,
       "version_minor": 0
      },
      "text/plain": [
       "interactive(children=(IntSlider(value=50, description='x', layout=Layout(width='500px')), Output()), _dom_clas…"
      ]
     },
     "metadata": {},
     "output_type": "display_data"
    },
    {
     "data": {
      "text/plain": [
       "<function __main__.h(x)>"
      ]
     },
     "execution_count": 15,
     "metadata": {},
     "output_type": "execute_result"
    }
   ],
   "source": [
    "def h(x):\n",
    "        ff(x, (0,2))\n",
    "           \n",
    "interact(h, x=IntSlider(50, 0, 100, 1, layout=Layout(width='500px')))"
   ]
  },
  {
   "cell_type": "code",
   "execution_count": 16,
   "metadata": {},
   "outputs": [
    {
     "name": "stdout",
     "output_type": "stream",
     "text": [
      "tensor([[ 1.6100e+02,  8.6775e-01,  9.8526e-01, -7.9068e-02,  1.0570e+03,  0.0000e+00,  2.1782e+04],\n",
      "        [ 1.9300e+02,  1.6962e-01,  9.1108e-01, -2.5941e-03,  1.1116e+03,  1.0000e+00,  2.2583e+04],\n",
      "        [ 1.5600e+02,  9.3470e-01,  9.4080e-01, -2.5472e-03,  1.1392e+03,  0.0000e+00,  2.1782e+04],\n",
      "        [ 1.3300e+02,  8.6379e-01,  8.8199e-01,  2.9832e-02,  1.2582e+03,  0.0000e+00,  2.1782e+04],\n",
      "        [ 1.7100e+02,  9.2882e-01,  8.7045e-01,  4.9636e-02,  1.2879e+03,  0.0000e+00,  2.1782e+04],\n",
      "        [ 1.7400e+02,  8.3373e-01,  8.0537e-01,  7.1767e-03,  1.4777e+03,  0.0000e+00,  2.1782e+04],\n",
      "        [ 1.5400e+02,  8.6359e-01, -8.7805e-01, -3.3259e-01,  1.5039e+03,  0.0000e+00,  2.1782e+04],\n",
      "        [ 1.4400e+02,  8.9552e-01,  7.9768e-01, -2.4881e-02,  1.5259e+03,  0.0000e+00,  2.1782e+04],\n",
      "        [ 1.2400e+02,  9.5481e-01,  7.7250e-01, -4.5609e-03,  1.6098e+03,  0.0000e+00,  2.1782e+04],\n",
      "        [ 1.8200e+02,  9.8691e-01, -9.0431e-01, -3.1653e-02,  1.6338e+03,  1.0000e+00,  2.2583e+04],\n",
      "        [ 1.6500e+02,  9.5803e-01,  7.4179e-01,  5.1311e-02,  1.6883e+03,  0.0000e+00,  2.1782e+04],\n",
      "        [ 1.8700e+02,  8.5538e-01, -8.8743e-01,  2.5098e-01,  1.7742e+03,  1.0000e+00,  2.2583e+04],\n",
      "        [ 1.9400e+02,  3.6218e-01,  7.2998e-01, -2.6779e-01,  1.8003e+03,  1.0000e+00,  2.2583e+04],\n",
      "        [ 1.1500e+02,  8.2431e-01,  6.7158e-01,  4.4193e-02,  1.9658e+03,  0.0000e+00,  2.1782e+04],\n",
      "        [ 1.3700e+02,  9.9017e-01,  6.8038e-01,  6.3074e-03,  1.9836e+03,  0.0000e+00,  2.1782e+04],\n",
      "        [ 1.3100e+02,  7.5995e-01,  6.5739e-01, -4.5440e-02,  2.1031e+03,  0.0000e+00,  2.1782e+04],\n",
      "        [ 1.5000e+02,  7.3922e-01,  6.4124e-01, -1.7327e-02,  2.1590e+03,  0.0000e+00,  2.1782e+04],\n",
      "        [ 1.8900e+02,  5.5826e-01, -6.3874e-01, -4.6018e-01,  2.3057e+03,  1.0000e+00,  2.2583e+04],\n",
      "        [ 1.2200e+02,  7.2262e-01,  6.0920e-01, -4.0218e-03,  2.3237e+03,  0.0000e+00,  2.1782e+04],\n",
      "        [ 1.4700e+02,  5.9726e-01, -7.1325e-01, -4.3305e-02,  2.3411e+03,  0.0000e+00,  2.1782e+04],\n",
      "        [ 1.8500e+02,  5.2028e-01,  5.4812e-01,  1.9824e-01,  2.3847e+03,  1.0000e+00,  2.2583e+04],\n",
      "        [ 1.1700e+02,  7.2272e-01,  5.9386e-01,  1.6448e-02,  2.3926e+03,  0.0000e+00,  2.1782e+04],\n",
      "        [ 1.2300e+02,  4.0612e-01, -6.6262e-01,  1.1088e-05,  2.6010e+03,  0.0000e+00,  2.1782e+04],\n",
      "        [ 1.6700e+02,  7.6599e-01,  5.4060e-01, -2.5023e-02,  2.8319e+03,  0.0000e+00,  2.1782e+04],\n",
      "        [ 1.2700e+02,  4.1122e-01, -6.1820e-01,  5.1471e-01,  2.9189e+03,  0.0000e+00,  2.1782e+04],\n",
      "        [ 1.3900e+02,  6.9756e-02,  5.1231e-01, -1.3347e-01,  3.0012e+03,  0.0000e+00,  2.1782e+04],\n",
      "        [ 1.7200e+02,  2.0000e+00,  5.0000e-01,  0.0000e+00,  3.2714e+03,  0.0000e+00,  2.1782e+04],\n",
      "        [ 1.2100e+02,  2.0000e+00,  5.0000e-01,  1.2363e-07,  3.2714e+03,  0.0000e+00,  2.1782e+04],\n",
      "        [ 1.0300e+02,  6.6068e-01, -5.8730e-01,  2.1700e-01,  3.3632e+03,  0.0000e+00,  2.1176e+04],\n",
      "        [ 1.2500e+02,  1.3766e-01, -5.2961e-01, -1.3563e-01,  3.3861e+03,  0.0000e+00,  2.1782e+04],\n",
      "        [ 8.9000e+01,  4.0421e-01,  4.5068e-01,  2.2598e-02,  3.4365e+03,  0.0000e+00,  2.1176e+04],\n",
      "        [ 1.7800e+02,  8.0749e-02, -5.3059e-01,  3.7390e-02,  3.5083e+03,  0.0000e+00,  2.1782e+04],\n",
      "        [ 1.3200e+02,  8.5662e-01, -5.7656e-01,  2.5350e-03,  3.5196e+03,  0.0000e+00,  2.1782e+04],\n",
      "        [ 8.3000e+01,  2.8161e-01,  3.9772e-01,  1.5883e-01,  3.5638e+03,  0.0000e+00,  2.1176e+04],\n",
      "        [ 1.7600e+02,  3.4998e-02, -4.8944e-01,  5.5739e-01,  3.5705e+03,  0.0000e+00,  2.1782e+04],\n",
      "        [ 1.3500e+02,  4.5456e-01,  2.8985e-01,  4.0327e-01,  3.7817e+03,  0.0000e+00,  2.1782e+04],\n",
      "        [ 1.0900e+02,  9.3112e-02, -4.8221e-01,  7.3213e-02,  4.0539e+03,  0.0000e+00,  2.1176e+04],\n",
      "        [ 1.6800e+02, -2.6639e-01,  1.8613e-01,  4.5603e-01,  4.2746e+03,  0.0000e+00,  2.1782e+04],\n",
      "        [ 1.9600e+02, -1.1437e-01, -4.3198e-01, -3.2327e-02,  4.4138e+03,  1.0000e+00,  2.2583e+04],\n",
      "        [ 9.5000e+01, -5.9766e-02, -4.4107e-01,  7.6576e-02,  4.4171e+03,  0.0000e+00,  2.1176e+04],\n",
      "        [ 1.9800e+02,  6.0292e-01,  3.8451e-01, -2.4148e-02,  4.4488e+03,  1.0000e+00,  2.2583e+04],\n",
      "        [ 1.7500e+02,  5.6507e-01,  3.6532e-01,  4.1382e-03,  4.5992e+03,  0.0000e+00,  2.1782e+04],\n",
      "        [ 0.0000e+00,  1.4517e-01, -3.9563e-01, -3.4861e-01,  4.6385e+03,  0.0000e+00,  4.6385e+03],\n",
      "        [ 1.9100e+02,  8.6592e-01,  2.9261e-01,  2.0930e-01,  4.7033e+03,  1.0000e+00,  2.2583e+04],\n",
      "        [ 1.2600e+02, -6.3245e-01,  2.9340e-01,  1.1524e-02,  4.7247e+03,  0.0000e+00,  2.1782e+04],\n",
      "        [ 2.0000e+00,  1.4453e-01, -3.3421e-01, -5.5085e-01,  4.8077e+03,  0.0000e+00,  6.8585e+03],\n",
      "        [ 1.9200e+02,  5.7516e-02, -4.1655e-01,  1.8625e-02,  4.8631e+03,  1.0000e+00,  2.2583e+04],\n",
      "        [ 1.8100e+02,  1.1216e+00,  4.0232e-01, -1.6693e-01,  4.9091e+03,  1.0000e+00,  2.2583e+04],\n",
      "        [ 9.0000e+01,  8.8237e-02, -3.9710e-01,  2.6008e-01,  4.9804e+03,  0.0000e+00,  2.1176e+04],\n",
      "        [ 7.9000e+01,  1.4390e-01, -4.0812e-01, -1.3194e-02,  5.0790e+03,  0.0000e+00,  2.1176e+04],\n",
      "        [ 1.1900e+02, -5.0183e-01, -2.1499e-01, -5.7715e-01,  5.1621e+03,  0.0000e+00,  2.1782e+04],\n",
      "        [ 8.1000e+01, -1.9378e-01, -3.7130e-01,  2.2655e-02,  5.2416e+03,  0.0000e+00,  2.1176e+04],\n",
      "        [ 1.0800e+02,  8.2833e-01,  3.0626e-01,  6.0967e-02,  5.3289e+03,  0.0000e+00,  2.1176e+04],\n",
      "        [ 1.6000e+02,  2.5570e-01, -1.8752e-01,  5.8272e-01,  5.3546e+03,  0.0000e+00,  2.1782e+04],\n",
      "        [ 1.6200e+02, -2.3128e-01, -3.1281e-01,  3.7556e-01,  5.3640e+03,  0.0000e+00,  2.1782e+04],\n",
      "        [ 1.4800e+02, -6.3056e-01, -1.4763e-01,  5.1111e-01,  5.3812e+03,  0.0000e+00,  2.1782e+04],\n",
      "        [ 1.2800e+02, -8.0940e-02, -1.7724e-01,  5.4194e-01,  5.5114e+03,  0.0000e+00,  2.1782e+04],\n",
      "        [ 1.1800e+02,  7.1354e-01,  1.6797e-01,  3.0564e-01,  5.6962e+03,  0.0000e+00,  2.1782e+04],\n",
      "        [ 8.5000e+01, -3.8791e-01, -2.9959e-01,  2.5892e-01,  5.7261e+03,  0.0000e+00,  2.1176e+04],\n",
      "        [ 1.2900e+02,  5.4887e-01,  2.8706e-01,  2.3153e-03,  5.9333e+03,  0.0000e+00,  2.1782e+04],\n",
      "        [ 6.3000e+01,  9.7176e-01, -4.0230e-01, -9.4612e-02,  6.0552e+03,  0.0000e+00,  2.0229e+04],\n",
      "        [ 1.4000e+02,  9.8421e-01,  3.4306e-01, -2.4225e-01,  6.4276e+03,  0.0000e+00,  2.1782e+04],\n",
      "        [ 9.4000e+01, -7.1689e-01,  6.1372e-02,  2.1773e-01,  6.6791e+03,  0.0000e+00,  2.1176e+04],\n",
      "        [ 7.0000e+01, -5.6139e-02,  2.0430e-01,  6.0259e-02,  6.6791e+03,  0.0000e+00,  2.1176e+04],\n",
      "        [ 1.6400e+02, -4.3016e-01, -2.5894e-01, -8.1119e-02,  6.7793e+03,  0.0000e+00,  2.1782e+04],\n",
      "        [ 5.9000e+01, -4.9276e-01, -2.3038e-01, -2.5165e-01,  6.7807e+03,  0.0000e+00,  2.0229e+04],\n",
      "        [ 1.4600e+02, -3.1515e-01,  2.6452e-01, -2.9305e-01,  6.7864e+03,  0.0000e+00,  2.1782e+04],\n",
      "        [ 1.0000e+00,  9.2873e-02, -2.5498e-01, -4.6146e-01,  6.8585e+03,  0.0000e+00,  6.8585e+03],\n",
      "        [ 5.4000e+01,  3.5760e-02, -2.9477e-01, -1.0597e-01,  7.0785e+03,  0.0000e+00,  2.0229e+04],\n",
      "        [ 1.4500e+02,  1.0414e+00,  2.4974e-01, -2.4477e-02,  7.1396e+03,  0.0000e+00,  2.1782e+04],\n",
      "        [ 9.7000e+01,  4.9047e-01,  2.1090e-01,  4.7920e-02,  7.1453e+03,  0.0000e+00,  2.1176e+04],\n",
      "        [ 1.0000e+02,  5.0502e-01,  2.1734e-01,  1.7586e-02,  7.2928e+03,  0.0000e+00,  2.1176e+04],\n",
      "        [ 1.5500e+02,  4.6477e-01,  2.3318e-01, -3.7381e-02,  7.3807e+03,  0.0000e+00,  2.1782e+04],\n",
      "        [ 1.0500e+02,  2.0026e-01, -2.9274e-01,  1.3071e-02,  7.3818e+03,  0.0000e+00,  2.1176e+04],\n",
      "        [ 1.5900e+02,  1.3654e-01, -2.8734e-01, -3.1977e-02,  7.4570e+03,  0.0000e+00,  2.1782e+04],\n",
      "        [ 7.8000e+01, -1.5172e-01,  5.8612e-02,  2.2653e-01,  7.4774e+03,  0.0000e+00,  2.1176e+04],\n",
      "        [ 8.8000e+01,  1.0208e-01,  2.5424e-02,  2.7786e-01,  7.5396e+03,  0.0000e+00,  2.1176e+04],\n",
      "        [ 1.3400e+02,  6.7610e-01, -1.7296e-01,  3.2816e-01,  7.5957e+03,  0.0000e+00,  2.1782e+04],\n",
      "        [ 1.5300e+02, -7.2742e-01, -6.7070e-02, -4.1731e-01,  7.9382e+03,  0.0000e+00,  2.1782e+04],\n",
      "        [ 5.0000e+01,  6.3932e-03, -2.5311e-01, -7.9549e-02,  8.0480e+03,  0.0000e+00,  1.9749e+04],\n",
      "        [ 9.1000e+01,  4.1722e-01,  1.5969e-01,  6.1866e-02,  8.1190e+03,  0.0000e+00,  2.1176e+04],\n",
      "        [ 9.3000e+01,  4.4407e-01, -3.0218e-02,  2.8459e-01,  8.1212e+03,  0.0000e+00,  2.1176e+04],\n",
      "        [ 7.3000e+01,  3.9301e-01,  1.9231e-01, -3.9232e-02,  8.4099e+03,  0.0000e+00,  2.1176e+04],\n",
      "        [ 1.8400e+02,  1.8553e-01,  1.1545e-01,  8.9066e-02,  8.5408e+03,  1.0000e+00,  2.2583e+04],\n",
      "        [ 6.8000e+01, -6.6853e-01, -1.0076e-01,  2.8564e-02,  8.5531e+03,  0.0000e+00,  2.1176e+04],\n",
      "        [ 1.5200e+02,  1.5137e-01, -2.3006e-01,  5.5187e-02,  8.5709e+03,  0.0000e+00,  2.1782e+04],\n",
      "        [ 5.3000e+01,  7.4197e-01,  1.9198e-01, -2.6926e-02,  8.5800e+03,  0.0000e+00,  2.0229e+04],\n",
      "        [ 7.1000e+01, -5.3210e-02,  1.6611e-01, -6.1205e-02,  8.6137e+03,  0.0000e+00,  2.1176e+04],\n",
      "        [ 7.6000e+01,  1.9133e-02, -2.1046e-01,  5.7261e-02,  8.7008e+03,  0.0000e+00,  2.1176e+04],\n",
      "        [ 1.0200e+02,  9.2146e-01, -2.3656e-01,  1.3899e-01,  8.7894e+03,  0.0000e+00,  2.1176e+04],\n",
      "        [ 1.5700e+02, -8.4170e-01, -5.4939e-03, -1.6644e-01,  8.8568e+03,  0.0000e+00,  2.1782e+04],\n",
      "        [ 1.8300e+02,  2.2082e-01, -2.3070e-01,  2.2654e-02,  8.8598e+03,  1.0000e+00,  2.2583e+04],\n",
      "        [ 1.1000e+02,  5.7573e-01, -2.3878e-01,  8.7713e-02,  8.8676e+03,  0.0000e+00,  2.1176e+04],\n",
      "        [ 9.8000e+01,  4.1255e-01, -2.0888e-01,  1.3688e-01,  8.8693e+03,  0.0000e+00,  2.1176e+04],\n",
      "        [ 3.9000e+01,  9.0881e-02,  2.0929e-01, -2.2816e-01,  9.1025e+03,  0.0000e+00,  1.9749e+04],\n",
      "        [ 8.2000e+01,  3.4680e-01,  1.2231e-01,  4.8881e-02,  9.1029e+03,  0.0000e+00,  2.1176e+04],\n",
      "        [ 1.5100e+02,  4.5408e-01,  1.4819e-01, -1.1385e-04,  9.2256e+03,  0.0000e+00,  2.1782e+04],\n",
      "        [ 7.2000e+01, -2.9264e-01, -8.6991e-02,  8.2095e-02,  9.5257e+03,  0.0000e+00,  2.1176e+04],\n",
      "        [ 5.5000e+01,  2.0223e-01, -2.0735e-01, -2.9383e-03,  9.5292e+03,  0.0000e+00,  2.0229e+04],\n",
      "        [ 9.9000e+01,  7.9384e-01, -3.2384e-02,  1.9229e-01,  9.5839e+03,  0.0000e+00,  2.1176e+04],\n",
      "        [ 7.5000e+01,  3.9294e-01,  1.3251e-01, -5.5945e-03,  9.6591e+03,  0.0000e+00,  2.1176e+04],\n",
      "        [ 6.5000e+01, -4.2926e-01,  1.1046e-01, -1.7992e-01,  9.7321e+03,  0.0000e+00,  2.0229e+04],\n",
      "        [ 1.2000e+02,  2.5741e-01, -1.8263e-01,  6.6057e-02,  9.7357e+03,  0.0000e+00,  2.1782e+04],\n",
      "        [ 1.9900e+02, -3.9913e-01,  6.1292e-02, -4.2102e-02,  9.7432e+03,  1.0000e+00,  2.2583e+04],\n",
      "        [ 8.7000e+01,  9.1265e-02, -1.3381e-01,  1.1081e-01,  9.7588e+03,  0.0000e+00,  2.1176e+04],\n",
      "        [ 1.6600e+02,  4.1643e-01,  1.2372e-01, -1.0214e-03,  9.8648e+03,  0.0000e+00,  2.1782e+04],\n",
      "        [ 9.2000e+01,  2.3787e-01, -1.2006e-01,  1.3396e-01,  9.9113e+03,  0.0000e+00,  2.1176e+04],\n",
      "        [ 6.2000e+01, -1.6523e-01, -1.5682e-01, -2.3804e-01,  1.0003e+04,  0.0000e+00,  2.0229e+04],\n",
      "        [ 7.4000e+01,  1.8965e-01, -1.8513e-01,  7.5645e-04,  1.0031e+04,  0.0000e+00,  2.1176e+04],\n",
      "        [ 3.2000e+01,  5.5812e-01, -2.3610e-01, -1.3375e-01,  1.0060e+04,  0.0000e+00,  1.9749e+04],\n",
      "        [ 1.4900e+02,  1.5397e-01, -1.7638e-01, -1.3294e-02,  1.0243e+04,  0.0000e+00,  2.1782e+04],\n",
      "        [ 1.4200e+02,  9.9824e-01,  1.1643e-01,  1.1615e-02,  1.0249e+04,  0.0000e+00,  2.1782e+04],\n",
      "        [ 6.6000e+01, -8.9833e-02, -1.4811e-01, -3.4711e-02,  1.0254e+04,  0.0000e+00,  2.0229e+04],\n",
      "        [ 1.7300e+02,  3.9357e-01, -1.8231e-01,  3.8256e-03,  1.0574e+04,  0.0000e+00,  2.1782e+04],\n",
      "        [ 1.8600e+02,  2.8596e-01, -1.8865e-01, -6.5964e-02,  1.0614e+04,  1.0000e+00,  2.2583e+04],\n",
      "        [ 5.6000e+01, -4.0828e-02, -1.4128e-01, -3.4609e-01,  1.0622e+04,  0.0000e+00,  2.0229e+04],\n",
      "        [ 4.0000e+01,  2.2643e-01, -1.6624e-01, -8.5129e-03,  1.0658e+04,  0.0000e+00,  1.9749e+04],\n",
      "        [ 1.2000e+01,  5.5382e-01, -1.9494e-01, -4.5125e-01,  1.0701e+04,  0.0000e+00,  1.6585e+04],\n",
      "        [ 1.7700e+02,  3.0325e-02, -1.2591e-02,  5.9171e-02,  1.0729e+04,  0.0000e+00,  2.1782e+04],\n",
      "        [ 8.0000e+01,  3.7913e-01,  7.7065e-02,  1.1351e-03,  1.0998e+04,  0.0000e+00,  2.1176e+04],\n",
      "        [ 1.6900e+02,  4.0210e-01,  3.2964e-02,  4.4772e-02,  1.1179e+04,  0.0000e+00,  2.1782e+04],\n",
      "        [ 1.6300e+02,  3.3206e-01,  6.2324e-02,  1.5788e-03,  1.1251e+04,  0.0000e+00,  2.1782e+04],\n",
      "        [ 1.0400e+02,  7.5160e-01,  1.1059e-02,  7.6393e-02,  1.1262e+04,  0.0000e+00,  2.1176e+04],\n",
      "        [ 2.1000e+01,  4.9100e-01, -1.9331e-01, -2.9763e-01,  1.1513e+04,  0.0000e+00,  1.8484e+04],\n",
      "        [ 4.8000e+01,  5.3534e-01,  8.1117e-02, -2.0444e-02,  1.1529e+04,  0.0000e+00,  1.9749e+04],\n",
      "        [ 3.0000e+00,  1.9447e-01, -1.5751e-01, -3.0896e-01,  1.1549e+04,  0.0000e+00,  1.1549e+04],\n",
      "        [ 1.0600e+02,  4.6665e-01, -1.8246e-02,  6.1492e-02,  1.1613e+04,  0.0000e+00,  2.1176e+04],\n",
      "        [ 6.0000e+01,  6.0160e-01, -1.6444e-01, -1.4390e-02,  1.1662e+04,  0.0000e+00,  2.0229e+04],\n",
      "        [ 1.1400e+02,  6.8965e-01,  6.0447e-02,  6.3623e-03,  1.1710e+04,  0.0000e+00,  2.1782e+04],\n",
      "        [ 1.9500e+02,  2.6649e-01, -6.1020e-02,  2.5297e-02,  1.1958e+04,  1.0000e+00,  2.2583e+04],\n",
      "        [ 3.0000e+01,  5.8533e-01,  1.1934e-01, -1.0727e-01,  1.2022e+04,  0.0000e+00,  1.9749e+04],\n",
      "        [ 1.0100e+02,  5.4041e-01, -1.0573e-01,  3.0550e-02,  1.2089e+04,  0.0000e+00,  2.1176e+04],\n",
      "        [ 1.4300e+02,  9.8113e-01, -1.3271e-01,  2.5509e-02,  1.2271e+04,  0.0000e+00,  2.1782e+04],\n",
      "        [ 1.1200e+02,  3.6251e-01,  4.9349e-03,  4.1545e-03,  1.2292e+04,  0.0000e+00,  2.1176e+04],\n",
      "        [ 1.0700e+02,  2.8775e-01, -4.6174e-02,  4.9226e-03,  1.2390e+04,  0.0000e+00,  2.1176e+04],\n",
      "        [ 4.9000e+01, -1.9592e-01,  3.7664e-02, -4.0356e-01,  1.2501e+04,  0.0000e+00,  1.9749e+04],\n",
      "        [ 6.9000e+01,  1.6892e-01,  2.3622e-02, -5.3624e-02,  1.2543e+04,  0.0000e+00,  2.1176e+04],\n",
      "        [ 1.3600e+02,  3.1942e-01, -5.6906e-02, -5.8696e-04,  1.2545e+04,  0.0000e+00,  2.1782e+04],\n",
      "        [ 5.8000e+01, -1.9929e-01, -1.0423e-02, -1.8763e-01,  1.2571e+04,  0.0000e+00,  2.0229e+04],\n",
      "        [ 1.5800e+02,  4.1674e-01, -1.1817e-01, -3.7022e-02,  1.2609e+04,  0.0000e+00,  2.1782e+04],\n",
      "        [ 1.6000e+01,  5.6106e-01,  1.2633e-01, -1.6088e-01,  1.2673e+04,  0.0000e+00,  1.8235e+04],\n",
      "        [ 6.1000e+01,  3.5234e-01, -1.1947e-02, -1.0637e-02,  1.2724e+04,  0.0000e+00,  2.0229e+04],\n",
      "        [ 7.7000e+01,  2.5992e-01, -6.0482e-02, -2.6375e-02,  1.2777e+04,  0.0000e+00,  2.1176e+04],\n",
      "        [ 6.0000e+00,  3.4174e-01,  1.4557e-01, -2.8524e-01,  1.2945e+04,  0.0000e+00,  1.6503e+04],\n",
      "        [ 2.9000e+01,  2.9020e-01,  7.5838e-02, -1.3150e-01,  1.3142e+04,  0.0000e+00,  1.9749e+04],\n",
      "        [ 9.6000e+01,  1.2603e-01,  1.2650e-01, -4.0971e-01,  1.3248e+04,  0.0000e+00,  2.1176e+04],\n",
      "        [ 1.8000e+01,  3.7038e-01, -1.4579e-02, -4.0669e-02,  1.3374e+04,  0.0000e+00,  1.8235e+04],\n",
      "        [ 1.7000e+01,  4.9754e-01,  1.2982e-01, -2.2300e-01,  1.3403e+04,  0.0000e+00,  1.8235e+04],\n",
      "        [ 1.8800e+02,  5.1326e-02, -2.1258e-02, -1.2313e-01,  1.3440e+04,  1.0000e+00,  2.2583e+04],\n",
      "        [ 1.9000e+02,  2.0080e-01,  8.4703e-02, -5.9782e-01,  1.3524e+04,  1.0000e+00,  2.2583e+04],\n",
      "        [ 5.1000e+01,  9.1392e-01, -2.6205e-02, -5.5647e-03,  1.3599e+04,  0.0000e+00,  1.9749e+04],\n",
      "        [ 8.0000e+00,  3.2981e-01, -1.1597e-02, -7.1381e-02,  1.3815e+04,  0.0000e+00,  1.6503e+04],\n",
      "        [ 1.7000e+02,  8.6104e-02,  1.1798e-03, -4.9773e-01,  1.3928e+04,  0.0000e+00,  2.1782e+04],\n",
      "        [ 2.2000e+01,  2.3247e-01, -7.1650e-02, -1.3927e-01,  1.4111e+04,  0.0000e+00,  1.8484e+04],\n",
      "        [ 2.6000e+01,  1.2521e-01, -2.7222e-02, -1.9596e-01,  1.4650e+04,  0.0000e+00,  1.9749e+04],\n",
      "        [ 2.8000e+01,  7.5858e-01,  1.1165e-01, -2.1686e-01,  1.4910e+04,  0.0000e+00,  1.9749e+04],\n",
      "        [ 2.7000e+01,  1.2857e-01,  4.2239e-02, -2.8448e-01,  1.5108e+04,  0.0000e+00,  1.9749e+04],\n",
      "        [ 3.5000e+01,  5.2923e-01, -7.7734e-02, -1.2338e-01,  1.5115e+04,  0.0000e+00,  1.9749e+04],\n",
      "        [ 1.1000e+01,  3.9377e-01, -9.3017e-02, -2.0994e-01,  1.5127e+04,  0.0000e+00,  1.6585e+04],\n",
      "        [ 4.7000e+01,  7.1064e-01, -5.8049e-02, -8.1500e-02,  1.5135e+04,  0.0000e+00,  1.9749e+04],\n",
      "        [ 3.8000e+01,  7.1841e-01,  3.3935e-02, -1.1723e-01,  1.5283e+04,  0.0000e+00,  1.9749e+04],\n",
      "        [ 9.0000e+00,  5.3632e-01,  1.2727e-01, -3.3305e-01,  1.5304e+04,  0.0000e+00,  1.6503e+04],\n",
      "        [ 1.9700e+02,  1.0032e+00, -8.7314e-02, -8.4037e-02,  1.5320e+04,  1.0000e+00,  2.2583e+04],\n",
      "        [ 4.3000e+01,  8.8231e-01,  3.9390e-02, -1.1930e-01,  1.5493e+04,  0.0000e+00,  1.9749e+04],\n",
      "        [ 5.0000e+00,  3.9293e-01,  1.1121e-01, -3.6816e-01,  1.5555e+04,  0.0000e+00,  1.6503e+04],\n",
      "        [ 4.1000e+01,  9.0360e-01, -1.2318e-01, -1.6273e-01,  1.5663e+04,  0.0000e+00,  1.9749e+04],\n",
      "        [ 3.1000e+01,  7.8063e-01, -1.3053e-01, -2.6069e-01,  1.5928e+04,  0.0000e+00,  1.9749e+04],\n",
      "        [ 7.0000e+00,  3.8290e-01,  5.5983e-02, -2.3787e-01,  1.5967e+04,  0.0000e+00,  1.6503e+04],\n",
      "        [ 4.0000e+00,  2.7091e-01,  1.6919e-02, -2.8348e-01,  1.6503e+04,  0.0000e+00,  1.6503e+04],\n",
      "        [ 1.0000e+01,  2.5797e-01, -1.3796e-02, -3.4319e-01,  1.6585e+04,  0.0000e+00,  1.6585e+04],\n",
      "        [ 2.5000e+01,  5.3489e-01, -9.2134e-03, -1.7566e-01,  1.6716e+04,  0.0000e+00,  1.9749e+04],\n",
      "        [ 1.3000e+01,  3.1181e-01, -1.7364e-02, -3.9638e-01,  1.6901e+04,  0.0000e+00,  1.6901e+04],\n",
      "        [ 1.3000e+02,  1.0849e+00,  1.2893e-02, -1.4313e-01,  1.7060e+04,  0.0000e+00,  2.1782e+04],\n",
      "        [ 4.2000e+01,  8.3419e-01, -5.7570e-02, -1.6909e-01,  1.7474e+04,  0.0000e+00,  1.9749e+04],\n",
      "        [ 3.7000e+01,  6.6506e-01, -2.8040e-02, -2.0042e-01,  1.7840e+04,  0.0000e+00,  1.9749e+04],\n",
      "        [ 1.4000e+01,  4.1806e-01,  3.0329e-02, -3.1726e-01,  1.7842e+04,  0.0000e+00,  1.7842e+04],\n",
      "        [ 4.4000e+01,  6.0173e-01, -6.6568e-02, -4.0075e-01,  1.8047e+04,  0.0000e+00,  1.9749e+04],\n",
      "        [ 2.3000e+01,  6.0318e-01,  5.6337e-02, -2.8941e-01,  1.8155e+04,  0.0000e+00,  1.8484e+04],\n",
      "        [ 1.9000e+01,  4.3170e-01, -1.5469e-02, -3.5841e-01,  1.8183e+04,  0.0000e+00,  1.8235e+04],\n",
      "        [ 6.4000e+01,  8.7979e-01,  3.3720e-02, -2.0920e-01,  1.8205e+04,  0.0000e+00,  2.0229e+04],\n",
      "        [ 1.7900e+02,  4.2466e-01,  3.1339e-02, -4.3663e-01,  1.8211e+04,  0.0000e+00,  2.1782e+04],\n",
      "        [ 1.5000e+01,  5.0784e-01,  3.9965e-02, -3.0618e-01,  1.8235e+04,  0.0000e+00,  1.8235e+04],\n",
      "        [ 4.5000e+01,  7.7843e-01, -2.8482e-02, -2.0498e-01,  1.8446e+04,  0.0000e+00,  1.9749e+04],\n",
      "        [ 2.0000e+01,  5.4196e-01,  6.0800e-03, -2.7328e-01,  1.8484e+04,  0.0000e+00,  1.8484e+04],\n",
      "        [ 3.3000e+01,  7.3458e-01, -1.8582e-02, -2.1333e-01,  1.8486e+04,  0.0000e+00,  1.9749e+04],\n",
      "        [ 1.1600e+02,  1.4769e+00, -6.6243e-02, -1.8440e-01,  1.8512e+04,  0.0000e+00,  2.1782e+04],\n",
      "        [ 3.4000e+01,  6.9777e-01,  1.5980e-02, -2.5509e-01,  1.9018e+04,  0.0000e+00,  1.9749e+04],\n",
      "        [ 3.6000e+01,  6.4368e-01, -4.8210e-02, -3.1292e-01,  1.9051e+04,  0.0000e+00,  1.9749e+04],\n",
      "        [ 1.1100e+02,  7.3149e-01,  6.2224e-02, -3.1299e-01,  1.9166e+04,  0.0000e+00,  2.1176e+04],\n",
      "        [ 4.6000e+01,  5.9154e-01,  2.1526e-02, -3.1981e-01,  1.9386e+04,  0.0000e+00,  1.9749e+04],\n",
      "        [ 1.3800e+02,  7.3355e-01, -5.8488e-02, -3.4448e-01,  1.9578e+04,  0.0000e+00,  2.1782e+04],\n",
      "        [ 2.4000e+01,  6.1809e-01,  3.5902e-02, -3.5034e-01,  1.9749e+04,  0.0000e+00,  1.9749e+04],\n",
      "        [ 5.7000e+01,  6.6095e-01,  6.1314e-02, -3.8368e-01,  1.9776e+04,  0.0000e+00,  2.0229e+04],\n",
      "        [ 1.4100e+02,  6.1661e-01, -9.9857e-03, -4.5880e-01,  1.9818e+04,  0.0000e+00,  2.1782e+04],\n",
      "        [ 5.2000e+01,  6.8792e-01,  4.5469e-02, -3.6116e-01,  2.0229e+04,  0.0000e+00,  2.0229e+04],\n",
      "        [ 8.4000e+01,  8.0082e-01, -3.1777e-02, -2.9393e-01,  2.0346e+04,  0.0000e+00,  2.1176e+04],\n",
      "        [ 8.6000e+01,  8.3290e-01, -2.5888e-02, -3.2362e-01,  2.1139e+04,  0.0000e+00,  2.1176e+04],\n",
      "        [ 6.7000e+01,  7.2168e-01,  3.9200e-02, -4.1515e-01,  2.1176e+04,  0.0000e+00,  2.1176e+04],\n",
      "        [ 1.1300e+02,  8.9294e-01, -4.1632e-02, -3.9515e-01,  2.1782e+04,  0.0000e+00,  2.1782e+04],\n",
      "        [ 1.8000e+02,  8.5607e-01,  8.0228e-04, -4.0157e-01,  2.2583e+04,  1.0000e+00,  2.2583e+04]])\n"
     ]
    }
   ],
   "source": [
    "lds = all_lambdas(train_x)\n",
    "lambda_thetas     = lds.transpose(-2,-1)[0]\n",
    "lambda_phis       = lds.transpose(-2,-1)[1]\n",
    "lambda_theta_phis = lds.transpose(-2,-1)[2]\n",
    "c = torch.stack((\n",
    "    torch.arange(0,200, dtype=int),\n",
    "    lambda_thetas[0:200],\n",
    "    lambda_phis[0:200],\n",
    "    lambda_theta_phis[0:200],\n",
    "    train_utility.squeeze()[0:200],\n",
    "    (feasible_incumbents==feasible_incumbents.max())[0],\n",
    "    feasible_incumbents[0]\n",
    "),0).transpose(-2,-1)\n",
    "torch.set_printoptions(precision=4,threshold=10_000, linewidth=120)\n",
    "c_sorted = c[c[:, 4].sort()[1]]\n",
    "print(c_sorted)"
   ]
  },
  {
   "cell_type": "code",
   "execution_count": 23,
   "metadata": {},
   "outputs": [
    {
     "name": "stderr",
     "output_type": "stream",
     "text": [
      "Warning in <TCanvas::Constructor>: Deleting canvas with same name: can\n"
     ]
    },
    {
     "data": {
      "image/png": "[encoded data removed]",
      "text/plain": [
       "<IPython.core.display.Image object>"
      ]
     },
     "metadata": {},
     "output_type": "display_data"
    }
   ],
   "source": [
    "gStyle.SetOptStat(0)\n",
    "\n",
    "def plotComparison(histMC, histData):\n",
    "    can = TCanvas(\"can\",\"can\",600,600)\n",
    "    can.Divide(2,2)\n",
    "    can.Draw()\n",
    "    can.cd(1)\n",
    "    histMC.Draw(\"COLZ\")\n",
    "    can.cd(2)\n",
    "    histData.Draw(\"COLZ\")\n",
    "    pad = can.cd(3)\n",
    "    pad.SetRightMargin(0.155)\n",
    "    pad = can.cd(3)\n",
    "    hdiff = diffHist(histMC, histData)\n",
    "    hdiff.Draw(\"COLZ\")\n",
    "    can.Update()\n",
    "    palette = hdiff.GetListOfFunctions().FindObject(\"palette\")\n",
    "    palette.SetX1NDC(0.85)\n",
    "    palette.SetX2NDC(0.9)\n",
    "    can.Modified()\n",
    "    can.Update()\n",
    "    can.cd(4)\n",
    "    nby = histMC.GetNbinsX()\n",
    "    py = histMC.ProjectionY(\"py\",1,nby)\n",
    "    py.Draw(\"HIST\")\n",
    "    return can, hdiff, py\n",
    "\n",
    "bestIndex = int(c_sorted[-1][0].item())\n",
    "can1, hdiff1, py1 = plotComparison(allHistsMC[bestIndex], histsData[0][HIST_INDEX])\n"
   ]
  },
  {
   "cell_type": "code",
   "execution_count": 24,
   "metadata": {},
   "outputs": [
    {
     "name": "stderr",
     "output_type": "stream",
     "text": [
      "Warning in <TCanvas::Constructor>: Deleting canvas with same name: can\n"
     ]
    },
    {
     "data": {
      "image/png": "[encoded data removed]",
      "text/plain": [
       "<IPython.core.display.Image object>"
      ]
     },
     "metadata": {},
     "output_type": "display_data"
    }
   ],
   "source": [
    "worstIndex = int(c_sorted[0][0].item())\n",
    "can2, hdiff2, py2 = plotComparison(allHistsMC[worstIndex], histsData[0][HIST_INDEX])"
   ]
  },
  {
   "cell_type": "code",
   "execution_count": 25,
   "metadata": {},
   "outputs": [
    {
     "name": "stderr",
     "output_type": "stream",
     "text": [
      "Warning in <TCanvas::Constructor>: Deleting canvas with same name: c\n"
     ]
    },
    {
     "data": {
      "image/png": "[encoded data removed]",
      "text/plain": [
       "<IPython.core.display.Image object>"
      ]
     },
     "metadata": {},
     "output_type": "display_data"
    }
   ],
   "source": [
    "base_hists = histMakerMC.builder.base_hists\n",
    "can3 = TCanvas(\"c\",\"C\",900,1200)\n",
    "can3.Divide(3,4)\n",
    "can3.Draw()\n",
    "for i, hist in enumerate(base_hists[0]):\n",
    "    can3.cd(i+1)\n",
    "    if not isinstance(hist, list):\n",
    "        hist.Draw(\"COLZ\")\n",
    "    else:\n",
    "        print(hist)\n"
   ]
  },
  {
   "cell_type": "code",
   "execution_count": 26,
   "metadata": {},
   "outputs": [
    {
     "name": "stderr",
     "output_type": "stream",
     "text": [
      "Warning in <TCanvas::Constructor>: Deleting canvas with same name: c\n"
     ]
    },
    {
     "data": {
      "image/png": "[encoded data removed]",
      "text/plain": [
       "<IPython.core.display.Image object>"
      ]
     },
     "metadata": {},
     "output_type": "display_data"
    }
   ],
   "source": [
    "can4 = TCanvas(\"c\",\"C\",900,1200)\n",
    "can4.Divide(3,4)\n",
    "can4.Draw()\n",
    "for i, hist in enumerate(histsData[0]):\n",
    "    can4.cd(i+1)\n",
    "    if not isinstance(hist, list):\n",
    "        hist.Draw(\"COLZ\")\n",
    "    else:\n",
    "        print(hist)"
   ]
  },
  {
   "cell_type": "code",
   "execution_count": 27,
   "metadata": {},
   "outputs": [
    {
     "name": "stdout",
     "output_type": "stream",
     "text": [
      "3271.33251953125\n"
     ]
    },
    {
     "name": "stderr",
     "output_type": "stream",
     "text": [
      "Warning in <TROOT::Append>: Replacing existing TH1: hpm (Potential memory leak).\n",
      "Info in <TH3F::SaveAs>: ROOT file pm.root has been created\n"
     ]
    }
   ],
   "source": [
    "from ROOT import TH3F\n",
    "\n",
    "pm = predictive_mean.reshape(101,101,101)\n",
    "print(pm[100][100][100].item())\n",
    "hpm = TH3F(\"hpm\",\"predictive mean\", 101, 0, 1, 101, 0, 2*math.pi, 101, 0, 2)\n",
    "for binx in range(1,101):\n",
    "    for biny in range(1,101):\n",
    "        for binz in range(1,101):\n",
    "            hpm.SetBinContent(binx,biny,binz,pm[binx-1][biny-1][binz-1].item())\n",
    "hpm.SaveAs(\"pm.root\")"
   ]
  },
  {
   "cell_type": "code",
   "execution_count": null,
   "metadata": {},
   "outputs": [],
   "source": []
  },
  {
   "cell_type": "code",
   "execution_count": 28,
   "metadata": {},
   "outputs": [
    {
     "ename": "ImportError",
     "evalue": "cannot import name 'ntdr' from 'botorch.utils.probability.utils' (/Users/harabasz/helicity/.conda/lib/python3.11/site-packages/botorch/utils/probability/utils.py)",
     "output_type": "error",
     "traceback": [
      "\u001b[0;31m---------------------------------------------------------------------------\u001b[0m",
      "\u001b[0;31mImportError\u001b[0m                               Traceback (most recent call last)",
      "Cell \u001b[0;32mIn[28], line 1\u001b[0m\n\u001b[0;32m----> 1\u001b[0m \u001b[39mfrom\u001b[39;00m \u001b[39mbotorch\u001b[39;00m\u001b[39m.\u001b[39;00m\u001b[39mutils\u001b[39;00m\u001b[39m.\u001b[39;00m\u001b[39mprobability\u001b[39;00m\u001b[39m.\u001b[39;00m\u001b[39mutils\u001b[39;00m \u001b[39mimport\u001b[39;00m ntdr \u001b[39mas\u001b[39;00m Phi\n\u001b[1;32m      2\u001b[0m \u001b[39mfrom\u001b[39;00m \u001b[39mbotorch\u001b[39;00m\u001b[39m.\u001b[39;00m\u001b[39mutils\u001b[39;00m\u001b[39m.\u001b[39;00m\u001b[39mprobability\u001b[39;00m\u001b[39m.\u001b[39;00m\u001b[39mutils\u001b[39;00m \u001b[39mimport\u001b[39;00m phi\n",
      "\u001b[0;31mImportError\u001b[0m: cannot import name 'ntdr' from 'botorch.utils.probability.utils' (/Users/harabasz/helicity/.conda/lib/python3.11/site-packages/botorch/utils/probability/utils.py)"
     ]
    }
   ],
   "source": [
    "from botorch.utils.probability.utils import ntdr as Phi\n",
    "from botorch.utils.probability.utils import phi\n",
    "\n"
   ]
  },
  {
   "cell_type": "code",
   "execution_count": null,
   "metadata": {},
   "outputs": [],
   "source": [
    "from botorch.utils.probability.utils import (\n",
    "    log_ndtr as log_Phi,\n",
    "    log_phi,\n",
    "    log_prob_normal_in,\n",
    "    ndtr as Phi,\n",
    "    phi,\n",
    ")\n",
    "\n",
    "ttt = torch.tensor([-0.1])\n",
    "print(Phi(ttt))"
   ]
  },
  {
   "cell_type": "code",
   "execution_count": null,
   "metadata": {},
   "outputs": [],
   "source": []
  }
 ],
 "metadata": {
  "kernelspec": {
   "display_name": "Python 3",
   "language": "python",
   "name": "python3"
  },
  "language_info": {
   "codemirror_mode": {
    "name": "ipython",
    "version": 3
   },
   "file_extension": ".py",
   "mimetype": "text/x-python",
   "name": "python",
   "nbconvert_exporter": "python",
   "pygments_lexer": "ipython3",
   "version": "3.11.4"
  },
  "orig_nbformat": 4
 },
 "nbformat": 4,
 "nbformat_minor": 2
}
