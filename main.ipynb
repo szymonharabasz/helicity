{
 "cells": [
  {
   "cell_type": "code",
   "execution_count": null,
   "source": [
    "from bins import Bins\n",
    "from utils import calcAllChi2, calcOneChi2, HistMaker\n",
    "from ROOT import TFile, TH1\n",
    "import math\n",
    "\n",
    "bins = Bins.readFrom(\"ranges.yml\")\n",
    "histMakerData = HistMaker(\"apr12_diele_088_090_ag123ag_2500A_accepted_np_2.dat\", \"_data\", bins)\n",
    "histsData = histMakerData.makeHists()\n",
    "histMakerMC = HistMaker(\"medium_isotropic_eff_ag1230ag_np_9deg.dat\", \"_MC\", bins    )\n",
    "\n",
    "#outfile = TFIle(\"out.root\",\"RECREATE\")\n",
    "allHistsMC = []\n",
    "\n",
    "#calcAllChi2(histsMC, histsData)"
   ],
   "outputs": [],
   "metadata": {}
  },
  {
   "cell_type": "code",
   "execution_count": null,
   "source": [
    "import torch\n",
    "\n",
    "torch.manual_seed(0)\n",
    "\n",
    "import gpytorch\n",
    "import botorch\n",
    "\n",
    "import matplotlib.pyplot as plt\n",
    "\n",
    "plt.style.use(\"bmh\")\n",
    "plt.rcParams[\"figure.figsize\"] = (8, 6)\n",
    "\n",
    "from tqdm.notebook import tqdm\n",
    "\n",
    "import warnings"
   ],
   "outputs": [],
   "metadata": {}
  },
  {
   "cell_type": "code",
   "execution_count": null,
   "source": [
    "TH1.SetDefaultSumw2\n",
    "\n",
    "N_PARAMS = 3\n",
    "\n",
    "grid_x = torch.linspace(-1,1,101)\n",
    "\n",
    "grid_x1, grid_x2, grid_x3 = torch.meshgrid(grid_x, grid_x, grid_x, indexing=\"ij\")\n",
    "\n",
    "xs = torch.vstack([grid_x1.flatten(), grid_x2.flatten(), grid_x3.flatten()]).transpose(-2,-1)"
   ],
   "outputs": [],
   "metadata": {}
  },
  {
   "cell_type": "code",
   "execution_count": null,
   "source": [
    "#lb = -1\n",
    "#ub = 1\n",
    "\n",
    "#bounds = torch.tensor([[lb]*N_PARAMS, [ub]*N_PARAMS], dtype=torch.float)\n",
    "bounds = torch.tensor([[0, 0,        -1],\n",
    "                       [1, 2*math.pi, 1]], dtype=torch.float)\n",
    "bounds"
   ],
   "outputs": [],
   "metadata": {}
  },
  {
   "cell_type": "code",
   "execution_count": null,
   "source": [
    "class GPModel(gpytorch.models.ExactGP, botorch.models.gpytorch.GPyTorchModel):\n",
    "    _num_outputs = 1\n",
    "\n",
    "    def __init__(self, train_x, train_y, likelihood):\n",
    "        super().__init__(train_x, train_y, likelihood)\n",
    "        self.mean_module = gpytorch.means.ConstantMean()\n",
    "        self.covar_module = gpytorch.kernels.ScaleKernel(\n",
    "            gpytorch.kernels.MaternKernel(nu=2.5, ard_num_dims=1)\n",
    "        )\n",
    "\n",
    "    def forward(self, x):\n",
    "        mean_x = self.mean_module(x)\n",
    "        covar_x = self.covar_module(x)\n",
    "        return gpytorch.distributions.MultivariateNormal(mean_x, covar_x)\n",
    "\n",
    "\n",
    "def fit_gp_model(train_x, train_y, num_train_iters=500):\n",
    "    # declare the GP\n",
    "    noise = 1e-4\n",
    "\n",
    "    likelihood = gpytorch.likelihoods.GaussianLikelihood()\n",
    "    model = GPModel(train_x, train_y, likelihood)\n",
    "    model.likelihood.noise = noise\n",
    "\n",
    "    # train the hyperparameter (the constant)\n",
    "    optimizer = torch.optim.Adam(model.parameters(), lr=0.01)\n",
    "    mll = gpytorch.mlls.ExactMarginalLogLikelihood(likelihood, model)\n",
    "\n",
    "    model.train()\n",
    "    likelihood.train()\n",
    "\n",
    "    for i in range(num_train_iters):\n",
    "        optimizer.zero_grad()\n",
    "\n",
    "        output = model(train_x)\n",
    "        loss = -mll(output, train_y)\n",
    "\n",
    "        loss.backward()\n",
    "        optimizer.step()\n",
    "\n",
    "    model.eval()\n",
    "    likelihood.eval()\n",
    "\n",
    "    return model, likelihood"
   ],
   "outputs": [],
   "metadata": {}
  },
  {
   "cell_type": "code",
   "execution_count": null,
   "source": [
    "num_queries = 200\n",
    "num_repeats = 1\n",
    "num_samples = 1"
   ],
   "outputs": [],
   "metadata": {}
  },
  {
   "cell_type": "code",
   "execution_count": null,
   "source": [
    "def lambdas(xx):\n",
    "   # return x[0], x[1], x[2]\n",
    "    r, phi, z = xx[0], xx[1], xx[2]\n",
    "    x = r*math.cos(phi)\n",
    "    y = r*math.sin(phi)\n",
    "    lambda_theta = 1 + (2./3.) * (z - 2*x)\n",
    "    lambda_phi   = 1 + (2./3.) * (z + x)\n",
    "    lambda_theta_phi = y/math.sqrt(2.)\n",
    "    return lambda_theta, lambda_phi, lambda_theta_phi\n",
    "\n",
    "def constraint1(xx):\n",
    "    print(\"In the constraint fucntion, xx = \", xx)\n",
    "    input_shape = xx.shape\n",
    "    ll = list(xx.shape)\n",
    "    ll[-1] = 1\n",
    "    if len(input_shape)>1:\n",
    "        xx = torch.reshape(xx, input_shape[1:])\n",
    "        output_shape = tuple(ll)\n",
    "        result = 1+xx[0,0]+xx[0,1]\n",
    "    else:\n",
    "        result = 1+xx[0]+xx[1]\n",
    "        output_shape = (1,)\n",
    "        \n",
    "    print(xx)\n",
    "    print(input_shape)\n",
    "    print(result)\n",
    "    print(output_shape)\n",
    "    \n",
    "    return torch.reshape(torch.tensor([result],requires_grad=xx.requires_grad),output_shape)\n",
    "\n",
    "#def cost(xx):\n",
    "#    def generator(xx):\n",
    "#        for x in xx:\n",
    "#            lambda_theta, lambda_phi, lambda_theta_phi = lambdas(x)#\n",
    "#\n",
    "#            result = 0\n",
    "#\n",
    "#            if pow(1-lambda_phi, 2) - pow(lambda_theta-lambda_phi, 2) < 4*pow(lambda_theta_phi, 2):\n",
    "#                result = 1\n",
    "#            if 1 + lambda_theta + 2*lambda_phi < 0:\n",
    "#                result = 1\n",
    "\n",
    "#            yield torch.tensor([result])\n",
    "#    return torch.stack([a for a in generator(xx)])\n",
    "    \n",
    "def objective(xx):\n",
    "    def generator(xx):\n",
    "        for x in xx:\n",
    "            lambda_theta, lambda_phi, lambda_theta_phi = lambdas(x)\n",
    "\n",
    "            histsMC = histMakerMC.makeHists(lambda_theta, lambda_phi, lambda_theta_phi)\n",
    "            chi2, ndf = calcOneChi2(histsMC[0][0], histsData[0][0])\n",
    "            allHistsMC.append(histsMC[0][0])\n",
    "            if not chi2 or not ndf:\n",
    "                return torch.tensor([0])\n",
    "            yield torch.tensor([1./(chi2 / ndf)])\n",
    "    return torch.stack([a for a in generator(xx)])"
   ],
   "outputs": [],
   "metadata": {}
  },
  {
   "cell_type": "code",
   "execution_count": null,
   "source": [
    "# -2 is the default value when no feasible has been found\n",
    "default_value = -2\n",
    "feasible_incumbents = torch.ones((num_repeats, num_queries)) * default_value\n",
    "\n",
    "for trial in range(num_repeats):\n",
    "    print(\"trial\", trial)\n",
    "\n",
    "    torch.manual_seed(trial)\n",
    "    train_x = bounds[0] + (bounds[1] - bounds[0]) * torch.rand(num_samples, 3)\n",
    "    train_utility = objective(train_x)\n",
    "\n",
    "    for i in tqdm(range(num_queries)):\n",
    "        print(\"query\", i)\n",
    "\n",
    "        feasible_incumbents[trial, i] = train_utility.max()\n",
    "        utility_model, utility_likelihood = fit_gp_model(\n",
    "            train_x, train_utility.squeeze(-1)\n",
    "        )\n",
    "        best_f = train_utility.max()\n",
    "                \n",
    "        policy = botorch.acquisition.monte_carlo.qExpectedImprovement(\n",
    "            model=utility_model,\n",
    "            best_f=train_utility.max(),\n",
    "        )\n",
    "\n",
    "        with warnings.catch_warnings():\n",
    "            warnings.filterwarnings('ignore', category=RuntimeWarning)\n",
    "            next_x, acq_val = botorch.optim.optimize_acqf(\n",
    "                policy,\n",
    "                bounds=bounds,\n",
    "                q=1,\n",
    "                num_restarts=40,\n",
    "                raw_samples=100,\n",
    "            #    nonlinear_inequality_constraints=[constraint1],\n",
    "                inequality_constraints=[(torch.tensor([0,2]),torch.tensor([-1.0,-0.5],dtype=torch.float),-0.5)],\n",
    "            #    ic_generator=botorch.optim.initializers.gen_batch_initial_conditions\n",
    "            )\n",
    "\n",
    "        next_utility = objective(next_x)\n",
    "\n",
    "        train_x = torch.cat([train_x, next_x])\n",
    "        train_utility = torch.cat([train_utility, next_utility])\n"
   ],
   "outputs": [],
   "metadata": {}
  },
  {
   "cell_type": "code",
   "execution_count": null,
   "source": [
    "torch.save(feasible_incumbents, f\"./incumbents.pth\")\n",
    "fout = TFile(\"out.root\", \"RECREATE\")\n",
    "fout.cd()\n",
    "for hist in allHistsMC:\n",
    "    print (\"Writing hist: \", hist.GetName())\n",
    "    hist.Write()\n",
    "for j, hists in enumerate(histsData):\n",
    "    for k, hist in enumerate(hists):\n",
    "            hist.Write()\n",
    "            print (\"Writing hist: \", j, k, hist)\n",
    "fout.Close()"
   ],
   "outputs": [],
   "metadata": {}
  },
  {
   "cell_type": "code",
   "execution_count": null,
   "source": [
    "t = torch.tensor( [ [-1.0000, -0.4678,  0.5433]])\n",
    "print(t)\n",
    "print(t.shape)"
   ],
   "outputs": [],
   "metadata": {}
  },
  {
   "cell_type": "code",
   "execution_count": null,
   "source": [
    "from ipywidgets import interact, Layout, IntSlider\n",
    "import numpy as np\n",
    "\n",
    "def oneplot(ax, tensor, index, cmap):\n",
    "        tensor_3d = torch.reshape(tensor, (101,101,101))\n",
    "        pos = ax.imshow(tensor_3d[index], cmap=cmap, interpolation=\"nearest\", origin=\"lower\", \n",
    "        vmin=tensor.min(), vmax=tensor.max(), extent=[-1,1,-1,1])\n",
    "        plt.colorbar(pos)\n",
    "\n",
    "with torch.no_grad():\n",
    "    predictive_distribution = utility_likelihood(utility_model(xs))\n",
    "    predictive_mean = predictive_distribution.mean\n",
    "    predictive_lower, predictive_upper = predictive_distribution.confidence_region()\n",
    "\n",
    "def f(x):\n",
    "        cmap = \"gist_rainbow\"\n",
    "        fig, ax = plt.subplots(nrows=2, ncols=2, figsize=(6, 6))\n",
    "        oneplot(ax[0][0], predictive_mean, x, cmap)\n",
    "        oneplot(ax[0][1], predictive_lower, x, cmap)\n",
    "        oneplot(ax[1][1], predictive_upper, x, cmap)\n",
    "        oneplot(ax[1][0], predictive_upper-predictive_lower, x, cmap)\n",
    "\n",
    "interact(f, x=IntSlider(50, 0, 100, 1, layout=Layout(width='500px')))\n"
   ],
   "outputs": [],
   "metadata": {}
  },
  {
   "cell_type": "code",
   "execution_count": null,
   "source": [
    "t = torch.tensor([[[0.0538, 0.2096, 0.2256]]])\n",
    "t = torch.reshape(t,(1,3))\n",
    "(1,2,3)[1:]"
   ],
   "outputs": [],
   "metadata": {}
  },
  {
   "cell_type": "code",
   "execution_count": null,
   "source": [
    "(feasible_incumbents==feasible_incumbents.max()).nonzero()"
   ],
   "outputs": [],
   "metadata": {}
  },
  {
   "cell_type": "code",
   "execution_count": null,
   "source": [
    "train_x[49]"
   ],
   "outputs": [],
   "metadata": {}
  },
  {
   "cell_type": "code",
   "execution_count": null,
   "source": [
    "train_x[199]"
   ],
   "outputs": [],
   "metadata": {}
  },
  {
   "cell_type": "code",
   "execution_count": null,
   "source": [],
   "outputs": [],
   "metadata": {}
  }
 ],
 "metadata": {
  "interpreter": {
   "hash": "99cab06c27f02725e88b2dbe1836c12fd9df359a24b9134df2d5dc04c534a853"
  },
  "kernelspec": {
   "name": "python3",
   "display_name": "Python 3.11.4 64-bit ('pyroot': conda)"
  },
  "language_info": {
   "codemirror_mode": {
    "name": "ipython",
    "version": 3
   },
   "file_extension": ".py",
   "mimetype": "text/x-python",
   "name": "python",
   "nbconvert_exporter": "python",
   "pygments_lexer": "ipython3",
   "version": "3.11.4"
  },
  "orig_nbformat": 4
 },
 "nbformat": 4,
 "nbformat_minor": 2
}