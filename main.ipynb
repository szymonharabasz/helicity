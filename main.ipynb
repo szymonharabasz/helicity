{
 "cells": [
  {
   "cell_type": "code",
   "execution_count": 1,
   "source": [
    "from bins import Bins\n",
    "from utils import calcAllChi2, calcOneChi2, HistMaker, diffHist\n",
    "from ROOT import TFile, TH1, TCanvas, TStyle, gStyle\n",
    "import math"
   ],
   "outputs": [
    {
     "output_type": "stream",
     "name": "stdout",
     "text": [
      "Welcome to JupyROOT 6.28/04\n"
     ]
    }
   ],
   "metadata": {}
  },
  {
   "cell_type": "code",
   "execution_count": 2,
   "source": [
    "\n",
    "bins = Bins.readFrom(\"ranges.yml\")\n",
    "histMakerData = HistMaker(\"apr12_diele_088_090_ag123ag_2500A_accepted_np_2.dat\", \"_data\", bins)\n",
    "histsData = histMakerData.makeHists()\n",
    "histMakerMC = HistMaker(\"medium_isotropic_eff_ag1230ag_np_9deg.dat\", \"_MC\", bins    )\n",
    "\n",
    "#outfile = TFIle(\"out.root\",\"RECREATE\")\n",
    "allHistsMC = []\n",
    "\n",
    "#calcAllChi2(histsMC, histsData)"
   ],
   "outputs": [
    {
     "output_type": "stream",
     "name": "stdout",
     "text": [
      "iter 0\n",
      "Before processing events 15:26:10\n",
      "After processing events 15:26:10\n",
      "iter 1\n",
      "Before processing events 15:26:44\n",
      "After processing events 15:26:47\n"
     ]
    }
   ],
   "metadata": {}
  },
  {
   "cell_type": "code",
   "execution_count": 3,
   "source": [
    "import torch\n",
    "\n",
    "torch.manual_seed(0)\n",
    "\n",
    "import gpytorch\n",
    "import botorch\n",
    "\n",
    "import matplotlib.pyplot as plt\n",
    "\n",
    "plt.style.use(\"bmh\")\n",
    "plt.rcParams[\"figure.figsize\"] = (8, 6)\n",
    "\n",
    "from tqdm.notebook import tqdm\n",
    "\n",
    "import warnings"
   ],
   "outputs": [],
   "metadata": {}
  },
  {
   "cell_type": "code",
   "execution_count": 4,
   "source": [
    "TH1.SetDefaultSumw2\n",
    "\n",
    "N_PARAMS = 3"
   ],
   "outputs": [],
   "metadata": {}
  },
  {
   "cell_type": "code",
   "execution_count": 5,
   "source": [
    "#lb = -1\n",
    "#ub = 1\n",
    "\n",
    "#bounds = torch.tensor([[lb]*N_PARAMS, [ub]*N_PARAMS], dtype=torch.float)\n",
    "bounds = torch.tensor([[0, 0,         0],\n",
    "                       [1, 2*math.pi, 2]], dtype=torch.float)\n",
    "\n",
    "grid_r   = torch.linspace(bounds[0][0], bounds[1][0], 101)\n",
    "grid_phi = torch.linspace(bounds[0][1], bounds[1][1], 101)\n",
    "grid_z   = torch.linspace(bounds[0][2], bounds[1][2], 101)\n",
    "\n",
    "grid_x1, grid_x2, grid_x3 = torch.meshgrid(grid_r, grid_phi, grid_z, indexing=\"ij\")\n",
    "\n",
    "xs = torch.vstack([grid_x1.flatten(), grid_x2.flatten(), grid_x3.flatten()]).transpose(-2,-1)"
   ],
   "outputs": [],
   "metadata": {}
  },
  {
   "cell_type": "code",
   "execution_count": 6,
   "source": [
    "class GPModel(gpytorch.models.ExactGP, botorch.models.gpytorch.GPyTorchModel):\n",
    "    _num_outputs = 1\n",
    "\n",
    "    def __init__(self, train_x, train_y, likelihood):\n",
    "        super().__init__(train_x, train_y, likelihood)\n",
    "        self.mean_module = gpytorch.means.ConstantMean()\n",
    "        self.covar_module = gpytorch.kernels.ScaleKernel(\n",
    "            gpytorch.kernels.MaternKernel(nu=2.5, ard_num_dims=1)\n",
    "        )\n",
    "\n",
    "    def forward(self, x):\n",
    "        mean_x = self.mean_module(x)\n",
    "        covar_x = self.covar_module(x)\n",
    "        return gpytorch.distributions.MultivariateNormal(mean_x, covar_x)\n",
    "\n",
    "\n",
    "def fit_gp_model(train_x, train_y, num_train_iters=500):\n",
    "    # declare the GP\n",
    "    noise = 1e-4\n",
    "\n",
    "    likelihood = gpytorch.likelihoods.GaussianLikelihood()\n",
    "    model = GPModel(train_x, train_y, likelihood)\n",
    "    model.likelihood.noise = noise\n",
    "\n",
    "    # train the hyperparameter (the constant)\n",
    "    optimizer = torch.optim.Adam(model.parameters(), lr=0.01)\n",
    "    mll = gpytorch.mlls.ExactMarginalLogLikelihood(likelihood, model)\n",
    "\n",
    "    model.train()\n",
    "    likelihood.train()\n",
    "\n",
    "    for i in range(num_train_iters):\n",
    "        optimizer.zero_grad()\n",
    "\n",
    "        output = model(train_x)\n",
    "        loss = -mll(output, train_y)\n",
    "\n",
    "        loss.backward()\n",
    "        optimizer.step()\n",
    "\n",
    "    model.eval()\n",
    "    likelihood.eval()\n",
    "\n",
    "    return model, likelihood"
   ],
   "outputs": [],
   "metadata": {}
  },
  {
   "cell_type": "code",
   "execution_count": 7,
   "source": [
    "num_queries = 200\n",
    "num_repeats = 1\n",
    "num_samples = 1"
   ],
   "outputs": [],
   "metadata": {}
  },
  {
   "cell_type": "code",
   "execution_count": 8,
   "source": [
    "def lambdas(xx):\n",
    "   # return x[0], x[1], x[2]\n",
    "    r, phi, z = xx[0], xx[1], xx[2]\n",
    "    x = r*math.cos(phi)\n",
    "    y = r*math.sin(phi)\n",
    "    lambda_theta = 0.5 * (2*x + z)\n",
    "    lambda_phi   = 0.25 * (-2 - 2*x + 3*z)\n",
    "    lambda_theta_phi = y/math.sqrt(2.)\n",
    "    return lambda_theta, lambda_phi, lambda_theta_phi\n",
    "\n",
    "def all_lambdas(xx):\n",
    "    def generator(xx):\n",
    "        for x in xx:\n",
    "            lambda_theta, lambda_phi, lambda_theta_phi = lambdas(x)\n",
    "            yield torch.tensor([lambda_theta, lambda_phi, lambda_theta_phi])\n",
    "           # yield torch.tensor([1./(chi2 / ndf)])\n",
    "    return torch.stack([a for a in generator(xx)])\n",
    "\n",
    "def constraint1(xx):\n",
    "    print(\"In the constraint fucntion, xx = \", xx)\n",
    "    input_shape = xx.shape\n",
    "    ll = list(xx.shape)\n",
    "    ll[-1] = 1\n",
    "    if len(input_shape)>1:\n",
    "        xx = torch.reshape(xx, input_shape[1:])\n",
    "        output_shape = tuple(ll)\n",
    "        result = 1+xx[0,0]+xx[0,1]\n",
    "    else:\n",
    "        result = 1+xx[0]+xx[1]\n",
    "        output_shape = (1,)\n",
    "        \n",
    "    print(xx)\n",
    "    print(input_shape)\n",
    "    print(result)\n",
    "    print(output_shape)\n",
    "    \n",
    "    return torch.reshape(torch.tensor([result],requires_grad=xx.requires_grad),output_shape)\n",
    "\n",
    "#def cost(xx):\n",
    "#    def generator(xx):\n",
    "#        for x in xx:\n",
    "#            lambda_theta, lambda_phi, lambda_theta_phi = lambdas(x)#\n",
    "#\n",
    "#            result = 0\n",
    "#\n",
    "#            if pow(1-lambda_phi, 2) - pow(lambda_theta-lambda_phi, 2) < 4*pow(lambda_theta_phi, 2):\n",
    "#                result = 1\n",
    "#            if 1 + lambda_theta + 2*lambda_phi < 0:\n",
    "#                result = 1\n",
    "\n",
    "#            yield torch.tensor([result])\n",
    "#    return torch.stack([a for a in generator(xx)])\n",
    "    \n",
    "HIST_INDEX = 5  \n",
    "\n",
    "def objective(xx):\n",
    "    def generator(xx):\n",
    "        for x in xx:\n",
    "            lambda_theta, lambda_phi, lambda_theta_phi = lambdas(x)\n",
    "\n",
    "            histsMC = histMakerMC.makeHists(lambda_theta, lambda_phi, lambda_theta_phi)\n",
    "            chi2, ndf = calcOneChi2(histsMC[0][HIST_INDEX], histsData[0][HIST_INDEX])\n",
    "            allHistsMC.append(histsMC[0][HIST_INDEX])\n",
    "            if not chi2 or not ndf:\n",
    "                return torch.tensor([0])\n",
    "            yield torch.tensor([1.0/(chi2 / ndf)])\n",
    "           # yield torch.tensor([1./(chi2 / ndf)])\n",
    "    return torch.stack([a for a in generator(xx)])"
   ],
   "outputs": [],
   "metadata": {}
  },
  {
   "cell_type": "code",
   "execution_count": 9,
   "source": [
    "# -2 is the default value when no feasible has been found\n",
    "default_value = 4000\n",
    "feasible_incumbents = torch.ones((num_repeats, num_queries)) * default_value\n",
    "\n",
    "for trial in range(num_repeats):\n",
    "    print(\"trial\", trial)\n",
    "\n",
    "    torch.manual_seed(trial)\n",
    "    train_x = bounds[0] + (bounds[1] - bounds[0]) * torch.rand(num_samples, 3)\n",
    "    train_utility = objective(train_x)\n",
    "\n",
    "    for i in tqdm(range(num_queries)):\n",
    "        print(\"query\", i)\n",
    "\n",
    "        feasible_incumbents[trial, i] = train_utility.max()\n",
    "        utility_model, utility_likelihood = fit_gp_model(\n",
    "            train_x, train_utility.squeeze(-1)\n",
    "        )\n",
    "        best_f = train_utility.max()\n",
    "                \n",
    "        policy = botorch.acquisition.monte_carlo.qExpectedImprovement(\n",
    "            model=utility_model,\n",
    "            best_f=train_utility.max(),\n",
    "        )\n",
    "\n",
    "        with warnings.catch_warnings():\n",
    "            warnings.filterwarnings('ignore', category=RuntimeWarning)\n",
    "            next_x, acq_val = botorch.optim.optimize_acqf(\n",
    "                policy,\n",
    "                bounds=bounds,\n",
    "                q=1,\n",
    "                num_restarts=40,\n",
    "                raw_samples=100,\n",
    "            #    nonlinear_inequality_constraints=[constraint1],\n",
    "                inequality_constraints=[(torch.tensor([0,2]),torch.tensor([-2.0,-1.0],dtype=torch.float),-2.0)],\n",
    "            #    ic_generator=botorch.optim.initializers.gen_batch_initial_conditions\n",
    "            )\n",
    "\n",
    "        next_utility = objective(next_x)\n",
    "\n",
    "        train_x = torch.cat([train_x, next_x])\n",
    "        train_utility = torch.cat([train_utility, next_utility])\n"
   ],
   "outputs": [
    {
     "output_type": "stream",
     "name": "stdout",
     "text": [
      "trial 0\n"
     ]
    },
    {
     "output_type": "display_data",
     "data": {
      "application/vnd.jupyter.widget-view+json": {
       "version_major": 2,
       "version_minor": 0,
       "model_id": "d7e3a8be1e634cfb8999eff5d11dbf65"
      },
      "text/plain": [
       "  0%|          | 0/200 [00:00<?, ?it/s]"
      ]
     },
     "metadata": {}
    },
    {
     "output_type": "stream",
     "name": "stdout",
     "text": [
      "query 0\n"
     ]
    },
    {
     "output_type": "stream",
     "name": "stderr",
     "text": [
      "/Users/harabasz/miniforge3/envs/pyroot/lib/python3.11/site-packages/botorch/optim/initializers.py:403: BadInitialCandidatesWarning: Unable to find non-zero acquisition function values - initial conditions are being selected randomly.\n",
      "  warnings.warn(\n"
     ]
    },
    {
     "output_type": "stream",
     "name": "stdout",
     "text": [
      "query 1\n"
     ]
    },
    {
     "output_type": "stream",
     "name": "stderr",
     "text": [
      "/Users/harabasz/miniforge3/envs/pyroot/lib/python3.11/site-packages/botorch/optim/initializers.py:403: BadInitialCandidatesWarning: Unable to find non-zero acquisition function values - initial conditions are being selected randomly.\n",
      "  warnings.warn(\n"
     ]
    },
    {
     "output_type": "stream",
     "name": "stdout",
     "text": [
      "query 2\n"
     ]
    },
    {
     "output_type": "stream",
     "name": "stderr",
     "text": [
      "/Users/harabasz/miniforge3/envs/pyroot/lib/python3.11/site-packages/botorch/optim/initializers.py:403: BadInitialCandidatesWarning: Unable to find non-zero acquisition function values - initial conditions are being selected randomly.\n",
      "  warnings.warn(\n"
     ]
    },
    {
     "output_type": "stream",
     "name": "stdout",
     "text": [
      "query 3\n",
      "query 4\n",
      "query 5\n",
      "query 6\n"
     ]
    },
    {
     "output_type": "stream",
     "name": "stderr",
     "text": [
      "/Users/harabasz/miniforge3/envs/pyroot/lib/python3.11/site-packages/botorch/optim/initializers.py:403: BadInitialCandidatesWarning: Unable to find non-zero acquisition function values - initial conditions are being selected randomly.\n",
      "  warnings.warn(\n"
     ]
    },
    {
     "output_type": "stream",
     "name": "stdout",
     "text": [
      "query 7\n"
     ]
    },
    {
     "output_type": "stream",
     "name": "stderr",
     "text": [
      "/Users/harabasz/miniforge3/envs/pyroot/lib/python3.11/site-packages/botorch/optim/initializers.py:403: BadInitialCandidatesWarning: Unable to find non-zero acquisition function values - initial conditions are being selected randomly.\n",
      "  warnings.warn(\n"
     ]
    },
    {
     "output_type": "stream",
     "name": "stdout",
     "text": [
      "Before reweighting hists 15:27:11\n",
      "After reweighting hists 15:27:11\n",
      "query 8\n"
     ]
    },
    {
     "output_type": "stream",
     "name": "stderr",
     "text": [
      "/Users/harabasz/miniforge3/envs/pyroot/lib/python3.11/site-packages/botorch/optim/initializers.py:403: BadInitialCandidatesWarning: Unable to find non-zero acquisition function values - initial conditions are being selected randomly.\n",
      "  warnings.warn(\n"
     ]
    },
    {
     "output_type": "stream",
     "name": "stdout",
     "text": [
      "query 9\n"
     ]
    },
    {
     "output_type": "stream",
     "name": "stderr",
     "text": [
      "/Users/harabasz/miniforge3/envs/pyroot/lib/python3.11/site-packages/botorch/optim/initializers.py:403: BadInitialCandidatesWarning: Unable to find non-zero acquisition function values - initial conditions are being selected randomly.\n",
      "  warnings.warn(\n"
     ]
    },
    {
     "output_type": "stream",
     "name": "stdout",
     "text": [
      "query 10\n"
     ]
    },
    {
     "output_type": "stream",
     "name": "stderr",
     "text": [
      "/Users/harabasz/miniforge3/envs/pyroot/lib/python3.11/site-packages/botorch/optim/initializers.py:403: BadInitialCandidatesWarning: Unable to find non-zero acquisition function values - initial conditions are being selected randomly.\n",
      "  warnings.warn(\n"
     ]
    },
    {
     "output_type": "stream",
     "name": "stdout",
     "text": [
      "query 11\n"
     ]
    },
    {
     "output_type": "stream",
     "name": "stderr",
     "text": [
      "/Users/harabasz/miniforge3/envs/pyroot/lib/python3.11/site-packages/botorch/optim/initializers.py:403: BadInitialCandidatesWarning: Unable to find non-zero acquisition function values - initial conditions are being selected randomly.\n",
      "  warnings.warn(\n"
     ]
    },
    {
     "output_type": "stream",
     "name": "stdout",
     "text": [
      "query 12\n"
     ]
    },
    {
     "output_type": "stream",
     "name": "stderr",
     "text": [
      "/Users/harabasz/miniforge3/envs/pyroot/lib/python3.11/site-packages/botorch/optim/initializers.py:403: BadInitialCandidatesWarning: Unable to find non-zero acquisition function values - initial conditions are being selected randomly.\n",
      "  warnings.warn(\n"
     ]
    },
    {
     "output_type": "stream",
     "name": "stdout",
     "text": [
      "query 13\n"
     ]
    },
    {
     "output_type": "stream",
     "name": "stderr",
     "text": [
      "/Users/harabasz/miniforge3/envs/pyroot/lib/python3.11/site-packages/botorch/optim/initializers.py:403: BadInitialCandidatesWarning: Unable to find non-zero acquisition function values - initial conditions are being selected randomly.\n",
      "  warnings.warn(\n"
     ]
    },
    {
     "output_type": "stream",
     "name": "stdout",
     "text": [
      "query 14\n",
      "query 15\n",
      "query 16\n"
     ]
    },
    {
     "output_type": "stream",
     "name": "stderr",
     "text": [
      "/Users/harabasz/miniforge3/envs/pyroot/lib/python3.11/site-packages/botorch/optim/initializers.py:403: BadInitialCandidatesWarning: Unable to find non-zero acquisition function values - initial conditions are being selected randomly.\n",
      "  warnings.warn(\n"
     ]
    },
    {
     "output_type": "stream",
     "name": "stdout",
     "text": [
      "query 17\n"
     ]
    },
    {
     "output_type": "stream",
     "name": "stderr",
     "text": [
      "/Users/harabasz/miniforge3/envs/pyroot/lib/python3.11/site-packages/botorch/optim/initializers.py:403: BadInitialCandidatesWarning: Unable to find non-zero acquisition function values - initial conditions are being selected randomly.\n",
      "  warnings.warn(\n"
     ]
    },
    {
     "output_type": "stream",
     "name": "stdout",
     "text": [
      "Before reweighting hists 15:27:40\n",
      "After reweighting hists 15:27:41\n",
      "query 18\n"
     ]
    },
    {
     "output_type": "stream",
     "name": "stderr",
     "text": [
      "/Users/harabasz/miniforge3/envs/pyroot/lib/python3.11/site-packages/botorch/optim/initializers.py:403: BadInitialCandidatesWarning: Unable to find non-zero acquisition function values - initial conditions are being selected randomly.\n",
      "  warnings.warn(\n"
     ]
    },
    {
     "output_type": "stream",
     "name": "stdout",
     "text": [
      "query 19\n"
     ]
    },
    {
     "output_type": "stream",
     "name": "stderr",
     "text": [
      "/Users/harabasz/miniforge3/envs/pyroot/lib/python3.11/site-packages/botorch/optim/initializers.py:403: BadInitialCandidatesWarning: Unable to find non-zero acquisition function values - initial conditions are being selected randomly.\n",
      "  warnings.warn(\n"
     ]
    },
    {
     "output_type": "stream",
     "name": "stdout",
     "text": [
      "query 20\n"
     ]
    },
    {
     "output_type": "stream",
     "name": "stderr",
     "text": [
      "/Users/harabasz/miniforge3/envs/pyroot/lib/python3.11/site-packages/botorch/optim/initializers.py:403: BadInitialCandidatesWarning: Unable to find non-zero acquisition function values - initial conditions are being selected randomly.\n",
      "  warnings.warn(\n"
     ]
    },
    {
     "output_type": "stream",
     "name": "stdout",
     "text": [
      "query 21\n"
     ]
    },
    {
     "output_type": "stream",
     "name": "stderr",
     "text": [
      "/Users/harabasz/miniforge3/envs/pyroot/lib/python3.11/site-packages/botorch/optim/initializers.py:403: BadInitialCandidatesWarning: Unable to find non-zero acquisition function values - initial conditions are being selected randomly.\n",
      "  warnings.warn(\n"
     ]
    },
    {
     "output_type": "stream",
     "name": "stdout",
     "text": [
      "query 22\n"
     ]
    },
    {
     "output_type": "stream",
     "name": "stderr",
     "text": [
      "/Users/harabasz/miniforge3/envs/pyroot/lib/python3.11/site-packages/botorch/optim/initializers.py:403: BadInitialCandidatesWarning: Unable to find non-zero acquisition function values - initial conditions are being selected randomly.\n",
      "  warnings.warn(\n"
     ]
    },
    {
     "output_type": "stream",
     "name": "stdout",
     "text": [
      "query 23\n"
     ]
    },
    {
     "output_type": "stream",
     "name": "stderr",
     "text": [
      "/Users/harabasz/miniforge3/envs/pyroot/lib/python3.11/site-packages/botorch/optim/initializers.py:403: BadInitialCandidatesWarning: Unable to find non-zero acquisition function values - initial conditions are being selected randomly.\n",
      "  warnings.warn(\n"
     ]
    },
    {
     "output_type": "stream",
     "name": "stdout",
     "text": [
      "query 24\n"
     ]
    },
    {
     "output_type": "stream",
     "name": "stderr",
     "text": [
      "/Users/harabasz/miniforge3/envs/pyroot/lib/python3.11/site-packages/botorch/optim/initializers.py:403: BadInitialCandidatesWarning: Unable to find non-zero acquisition function values - initial conditions are being selected randomly.\n",
      "  warnings.warn(\n"
     ]
    },
    {
     "output_type": "stream",
     "name": "stdout",
     "text": [
      "query 25\n",
      "query 26\n",
      "query 27\n",
      "Before reweighting hists 15:28:09\n",
      "After reweighting hists 15:28:09\n",
      "query 28\n"
     ]
    },
    {
     "output_type": "stream",
     "name": "stderr",
     "text": [
      "/Users/harabasz/miniforge3/envs/pyroot/lib/python3.11/site-packages/botorch/optim/initializers.py:403: BadInitialCandidatesWarning: Unable to find non-zero acquisition function values - initial conditions are being selected randomly.\n",
      "  warnings.warn(\n"
     ]
    },
    {
     "output_type": "stream",
     "name": "stdout",
     "text": [
      "query 29\n"
     ]
    },
    {
     "output_type": "stream",
     "name": "stderr",
     "text": [
      "/Users/harabasz/miniforge3/envs/pyroot/lib/python3.11/site-packages/botorch/optim/initializers.py:403: BadInitialCandidatesWarning: Unable to find non-zero acquisition function values - initial conditions are being selected randomly.\n",
      "  warnings.warn(\n"
     ]
    },
    {
     "output_type": "stream",
     "name": "stdout",
     "text": [
      "query 30\n"
     ]
    },
    {
     "output_type": "stream",
     "name": "stderr",
     "text": [
      "/Users/harabasz/miniforge3/envs/pyroot/lib/python3.11/site-packages/botorch/optim/initializers.py:403: BadInitialCandidatesWarning: Unable to find non-zero acquisition function values - initial conditions are being selected randomly.\n",
      "  warnings.warn(\n"
     ]
    },
    {
     "output_type": "stream",
     "name": "stdout",
     "text": [
      "query 31\n"
     ]
    },
    {
     "output_type": "stream",
     "name": "stderr",
     "text": [
      "/Users/harabasz/miniforge3/envs/pyroot/lib/python3.11/site-packages/botorch/optim/initializers.py:403: BadInitialCandidatesWarning: Unable to find non-zero acquisition function values - initial conditions are being selected randomly.\n",
      "  warnings.warn(\n"
     ]
    },
    {
     "output_type": "stream",
     "name": "stdout",
     "text": [
      "query 32\n"
     ]
    },
    {
     "output_type": "stream",
     "name": "stderr",
     "text": [
      "/Users/harabasz/miniforge3/envs/pyroot/lib/python3.11/site-packages/botorch/optim/initializers.py:403: BadInitialCandidatesWarning: Unable to find non-zero acquisition function values - initial conditions are being selected randomly.\n",
      "  warnings.warn(\n"
     ]
    },
    {
     "output_type": "stream",
     "name": "stdout",
     "text": [
      "query 33\n"
     ]
    },
    {
     "output_type": "stream",
     "name": "stderr",
     "text": [
      "/Users/harabasz/miniforge3/envs/pyroot/lib/python3.11/site-packages/botorch/optim/initializers.py:403: BadInitialCandidatesWarning: Unable to find non-zero acquisition function values - initial conditions are being selected randomly.\n",
      "  warnings.warn(\n"
     ]
    },
    {
     "output_type": "stream",
     "name": "stdout",
     "text": [
      "query 34\n"
     ]
    },
    {
     "output_type": "stream",
     "name": "stderr",
     "text": [
      "/Users/harabasz/miniforge3/envs/pyroot/lib/python3.11/site-packages/botorch/optim/initializers.py:403: BadInitialCandidatesWarning: Unable to find non-zero acquisition function values - initial conditions are being selected randomly.\n",
      "  warnings.warn(\n"
     ]
    },
    {
     "output_type": "stream",
     "name": "stdout",
     "text": [
      "query 35\n"
     ]
    },
    {
     "output_type": "stream",
     "name": "stderr",
     "text": [
      "/Users/harabasz/miniforge3/envs/pyroot/lib/python3.11/site-packages/botorch/optim/initializers.py:403: BadInitialCandidatesWarning: Unable to find non-zero acquisition function values - initial conditions are being selected randomly.\n",
      "  warnings.warn(\n"
     ]
    },
    {
     "output_type": "stream",
     "name": "stdout",
     "text": [
      "query 36\n"
     ]
    },
    {
     "output_type": "stream",
     "name": "stderr",
     "text": [
      "/Users/harabasz/miniforge3/envs/pyroot/lib/python3.11/site-packages/botorch/optim/initializers.py:403: BadInitialCandidatesWarning: Unable to find non-zero acquisition function values - initial conditions are being selected randomly.\n",
      "  warnings.warn(\n"
     ]
    },
    {
     "output_type": "stream",
     "name": "stdout",
     "text": [
      "query 37\n"
     ]
    },
    {
     "output_type": "stream",
     "name": "stderr",
     "text": [
      "/Users/harabasz/miniforge3/envs/pyroot/lib/python3.11/site-packages/botorch/optim/initializers.py:403: BadInitialCandidatesWarning: Unable to find non-zero acquisition function values - initial conditions are being selected randomly.\n",
      "  warnings.warn(\n"
     ]
    },
    {
     "output_type": "stream",
     "name": "stdout",
     "text": [
      "Before reweighting hists 15:28:42\n",
      "After reweighting hists 15:28:42\n",
      "query 38\n"
     ]
    },
    {
     "output_type": "stream",
     "name": "stderr",
     "text": [
      "/Users/harabasz/miniforge3/envs/pyroot/lib/python3.11/site-packages/botorch/optim/initializers.py:403: BadInitialCandidatesWarning: Unable to find non-zero acquisition function values - initial conditions are being selected randomly.\n",
      "  warnings.warn(\n"
     ]
    },
    {
     "output_type": "stream",
     "name": "stdout",
     "text": [
      "query 39\n"
     ]
    },
    {
     "output_type": "stream",
     "name": "stderr",
     "text": [
      "/Users/harabasz/miniforge3/envs/pyroot/lib/python3.11/site-packages/botorch/optim/initializers.py:403: BadInitialCandidatesWarning: Unable to find non-zero acquisition function values - initial conditions are being selected randomly.\n",
      "  warnings.warn(\n"
     ]
    },
    {
     "output_type": "stream",
     "name": "stdout",
     "text": [
      "query 40\n"
     ]
    },
    {
     "output_type": "stream",
     "name": "stderr",
     "text": [
      "/Users/harabasz/miniforge3/envs/pyroot/lib/python3.11/site-packages/botorch/optim/initializers.py:403: BadInitialCandidatesWarning: Unable to find non-zero acquisition function values - initial conditions are being selected randomly.\n",
      "  warnings.warn(\n"
     ]
    },
    {
     "output_type": "stream",
     "name": "stdout",
     "text": [
      "query 41\n"
     ]
    },
    {
     "output_type": "stream",
     "name": "stderr",
     "text": [
      "/Users/harabasz/miniforge3/envs/pyroot/lib/python3.11/site-packages/botorch/optim/initializers.py:403: BadInitialCandidatesWarning: Unable to find non-zero acquisition function values - initial conditions are being selected randomly.\n",
      "  warnings.warn(\n"
     ]
    },
    {
     "output_type": "stream",
     "name": "stdout",
     "text": [
      "query 42\n"
     ]
    },
    {
     "output_type": "stream",
     "name": "stderr",
     "text": [
      "/Users/harabasz/miniforge3/envs/pyroot/lib/python3.11/site-packages/botorch/optim/initializers.py:403: BadInitialCandidatesWarning: Unable to find non-zero acquisition function values - initial conditions are being selected randomly.\n",
      "  warnings.warn(\n"
     ]
    },
    {
     "output_type": "stream",
     "name": "stdout",
     "text": [
      "query 43\n"
     ]
    },
    {
     "output_type": "stream",
     "name": "stderr",
     "text": [
      "/Users/harabasz/miniforge3/envs/pyroot/lib/python3.11/site-packages/botorch/optim/initializers.py:403: BadInitialCandidatesWarning: Unable to find non-zero acquisition function values - initial conditions are being selected randomly.\n",
      "  warnings.warn(\n"
     ]
    },
    {
     "output_type": "stream",
     "name": "stdout",
     "text": [
      "query 44\n"
     ]
    },
    {
     "output_type": "stream",
     "name": "stderr",
     "text": [
      "/Users/harabasz/miniforge3/envs/pyroot/lib/python3.11/site-packages/botorch/optim/initializers.py:403: BadInitialCandidatesWarning: Unable to find non-zero acquisition function values - initial conditions are being selected randomly.\n",
      "  warnings.warn(\n"
     ]
    },
    {
     "output_type": "stream",
     "name": "stdout",
     "text": [
      "query 45\n"
     ]
    },
    {
     "output_type": "stream",
     "name": "stderr",
     "text": [
      "/Users/harabasz/miniforge3/envs/pyroot/lib/python3.11/site-packages/botorch/optim/initializers.py:403: BadInitialCandidatesWarning: Unable to find non-zero acquisition function values - initial conditions are being selected randomly.\n",
      "  warnings.warn(\n"
     ]
    },
    {
     "output_type": "stream",
     "name": "stdout",
     "text": [
      "query 46\n"
     ]
    },
    {
     "output_type": "stream",
     "name": "stderr",
     "text": [
      "/Users/harabasz/miniforge3/envs/pyroot/lib/python3.11/site-packages/botorch/optim/initializers.py:403: BadInitialCandidatesWarning: Unable to find non-zero acquisition function values - initial conditions are being selected randomly.\n",
      "  warnings.warn(\n"
     ]
    },
    {
     "output_type": "stream",
     "name": "stdout",
     "text": [
      "query 47\n"
     ]
    },
    {
     "output_type": "stream",
     "name": "stderr",
     "text": [
      "/Users/harabasz/miniforge3/envs/pyroot/lib/python3.11/site-packages/botorch/optim/initializers.py:403: BadInitialCandidatesWarning: Unable to find non-zero acquisition function values - initial conditions are being selected randomly.\n",
      "  warnings.warn(\n"
     ]
    },
    {
     "output_type": "stream",
     "name": "stdout",
     "text": [
      "Before reweighting hists 15:29:15\n",
      "After reweighting hists 15:29:15\n",
      "query 48\n"
     ]
    },
    {
     "output_type": "stream",
     "name": "stderr",
     "text": [
      "/Users/harabasz/miniforge3/envs/pyroot/lib/python3.11/site-packages/botorch/optim/initializers.py:403: BadInitialCandidatesWarning: Unable to find non-zero acquisition function values - initial conditions are being selected randomly.\n",
      "  warnings.warn(\n"
     ]
    },
    {
     "output_type": "stream",
     "name": "stdout",
     "text": [
      "query 49\n"
     ]
    },
    {
     "output_type": "stream",
     "name": "stderr",
     "text": [
      "/Users/harabasz/miniforge3/envs/pyroot/lib/python3.11/site-packages/botorch/optim/initializers.py:403: BadInitialCandidatesWarning: Unable to find non-zero acquisition function values - initial conditions are being selected randomly.\n",
      "  warnings.warn(\n"
     ]
    },
    {
     "output_type": "stream",
     "name": "stdout",
     "text": [
      "query 50\n"
     ]
    },
    {
     "output_type": "stream",
     "name": "stderr",
     "text": [
      "/Users/harabasz/miniforge3/envs/pyroot/lib/python3.11/site-packages/botorch/optim/initializers.py:403: BadInitialCandidatesWarning: Unable to find non-zero acquisition function values - initial conditions are being selected randomly.\n",
      "  warnings.warn(\n"
     ]
    },
    {
     "output_type": "stream",
     "name": "stdout",
     "text": [
      "query 51\n"
     ]
    },
    {
     "output_type": "stream",
     "name": "stderr",
     "text": [
      "/Users/harabasz/miniforge3/envs/pyroot/lib/python3.11/site-packages/botorch/optim/initializers.py:403: BadInitialCandidatesWarning: Unable to find non-zero acquisition function values - initial conditions are being selected randomly.\n",
      "  warnings.warn(\n"
     ]
    },
    {
     "output_type": "stream",
     "name": "stdout",
     "text": [
      "query 52\n"
     ]
    },
    {
     "output_type": "stream",
     "name": "stderr",
     "text": [
      "/Users/harabasz/miniforge3/envs/pyroot/lib/python3.11/site-packages/botorch/optim/initializers.py:403: BadInitialCandidatesWarning: Unable to find non-zero acquisition function values - initial conditions are being selected randomly.\n",
      "  warnings.warn(\n"
     ]
    },
    {
     "output_type": "stream",
     "name": "stdout",
     "text": [
      "query 53\n"
     ]
    },
    {
     "output_type": "stream",
     "name": "stderr",
     "text": [
      "/Users/harabasz/miniforge3/envs/pyroot/lib/python3.11/site-packages/botorch/optim/initializers.py:403: BadInitialCandidatesWarning: Unable to find non-zero acquisition function values - initial conditions are being selected randomly.\n",
      "  warnings.warn(\n"
     ]
    },
    {
     "output_type": "stream",
     "name": "stdout",
     "text": [
      "query 54\n"
     ]
    },
    {
     "output_type": "stream",
     "name": "stderr",
     "text": [
      "/Users/harabasz/miniforge3/envs/pyroot/lib/python3.11/site-packages/botorch/optim/initializers.py:403: BadInitialCandidatesWarning: Unable to find non-zero acquisition function values - initial conditions are being selected randomly.\n",
      "  warnings.warn(\n"
     ]
    },
    {
     "output_type": "stream",
     "name": "stdout",
     "text": [
      "query 55\n"
     ]
    },
    {
     "output_type": "stream",
     "name": "stderr",
     "text": [
      "/Users/harabasz/miniforge3/envs/pyroot/lib/python3.11/site-packages/botorch/optim/initializers.py:403: BadInitialCandidatesWarning: Unable to find non-zero acquisition function values - initial conditions are being selected randomly.\n",
      "  warnings.warn(\n"
     ]
    },
    {
     "output_type": "stream",
     "name": "stdout",
     "text": [
      "query 56\n"
     ]
    },
    {
     "output_type": "stream",
     "name": "stderr",
     "text": [
      "/Users/harabasz/miniforge3/envs/pyroot/lib/python3.11/site-packages/botorch/optim/initializers.py:403: BadInitialCandidatesWarning: Unable to find non-zero acquisition function values - initial conditions are being selected randomly.\n",
      "  warnings.warn(\n"
     ]
    },
    {
     "output_type": "stream",
     "name": "stdout",
     "text": [
      "query 57\n"
     ]
    },
    {
     "output_type": "stream",
     "name": "stderr",
     "text": [
      "/Users/harabasz/miniforge3/envs/pyroot/lib/python3.11/site-packages/botorch/optim/initializers.py:403: BadInitialCandidatesWarning: Unable to find non-zero acquisition function values - initial conditions are being selected randomly.\n",
      "  warnings.warn(\n"
     ]
    },
    {
     "output_type": "stream",
     "name": "stdout",
     "text": [
      "Before reweighting hists 15:29:48\n",
      "After reweighting hists 15:29:48\n",
      "query 58\n"
     ]
    },
    {
     "output_type": "stream",
     "name": "stderr",
     "text": [
      "/Users/harabasz/miniforge3/envs/pyroot/lib/python3.11/site-packages/botorch/optim/initializers.py:403: BadInitialCandidatesWarning: Unable to find non-zero acquisition function values - initial conditions are being selected randomly.\n",
      "  warnings.warn(\n"
     ]
    },
    {
     "output_type": "stream",
     "name": "stdout",
     "text": [
      "query 59\n"
     ]
    },
    {
     "output_type": "stream",
     "name": "stderr",
     "text": [
      "/Users/harabasz/miniforge3/envs/pyroot/lib/python3.11/site-packages/botorch/optim/initializers.py:403: BadInitialCandidatesWarning: Unable to find non-zero acquisition function values - initial conditions are being selected randomly.\n",
      "  warnings.warn(\n"
     ]
    },
    {
     "output_type": "stream",
     "name": "stdout",
     "text": [
      "query 60\n"
     ]
    },
    {
     "output_type": "stream",
     "name": "stderr",
     "text": [
      "/Users/harabasz/miniforge3/envs/pyroot/lib/python3.11/site-packages/botorch/optim/initializers.py:403: BadInitialCandidatesWarning: Unable to find non-zero acquisition function values - initial conditions are being selected randomly.\n",
      "  warnings.warn(\n"
     ]
    },
    {
     "output_type": "stream",
     "name": "stdout",
     "text": [
      "query 61\n"
     ]
    },
    {
     "output_type": "stream",
     "name": "stderr",
     "text": [
      "/Users/harabasz/miniforge3/envs/pyroot/lib/python3.11/site-packages/botorch/optim/initializers.py:403: BadInitialCandidatesWarning: Unable to find non-zero acquisition function values - initial conditions are being selected randomly.\n",
      "  warnings.warn(\n"
     ]
    },
    {
     "output_type": "stream",
     "name": "stdout",
     "text": [
      "query 62\n"
     ]
    },
    {
     "output_type": "stream",
     "name": "stderr",
     "text": [
      "/Users/harabasz/miniforge3/envs/pyroot/lib/python3.11/site-packages/botorch/optim/initializers.py:403: BadInitialCandidatesWarning: Unable to find non-zero acquisition function values - initial conditions are being selected randomly.\n",
      "  warnings.warn(\n"
     ]
    },
    {
     "output_type": "stream",
     "name": "stdout",
     "text": [
      "query 63\n"
     ]
    },
    {
     "output_type": "stream",
     "name": "stderr",
     "text": [
      "/Users/harabasz/miniforge3/envs/pyroot/lib/python3.11/site-packages/botorch/optim/initializers.py:403: BadInitialCandidatesWarning: Unable to find non-zero acquisition function values - initial conditions are being selected randomly.\n",
      "  warnings.warn(\n"
     ]
    },
    {
     "output_type": "stream",
     "name": "stdout",
     "text": [
      "query 64\n"
     ]
    },
    {
     "output_type": "stream",
     "name": "stderr",
     "text": [
      "/Users/harabasz/miniforge3/envs/pyroot/lib/python3.11/site-packages/botorch/optim/initializers.py:403: BadInitialCandidatesWarning: Unable to find non-zero acquisition function values - initial conditions are being selected randomly.\n",
      "  warnings.warn(\n"
     ]
    },
    {
     "output_type": "stream",
     "name": "stdout",
     "text": [
      "query 65\n"
     ]
    },
    {
     "output_type": "stream",
     "name": "stderr",
     "text": [
      "/Users/harabasz/miniforge3/envs/pyroot/lib/python3.11/site-packages/botorch/optim/initializers.py:403: BadInitialCandidatesWarning: Unable to find non-zero acquisition function values - initial conditions are being selected randomly.\n",
      "  warnings.warn(\n"
     ]
    },
    {
     "output_type": "stream",
     "name": "stdout",
     "text": [
      "query 66\n"
     ]
    },
    {
     "output_type": "stream",
     "name": "stderr",
     "text": [
      "/Users/harabasz/miniforge3/envs/pyroot/lib/python3.11/site-packages/botorch/optim/initializers.py:403: BadInitialCandidatesWarning: Unable to find non-zero acquisition function values - initial conditions are being selected randomly.\n",
      "  warnings.warn(\n"
     ]
    },
    {
     "output_type": "stream",
     "name": "stdout",
     "text": [
      "query 67\n"
     ]
    },
    {
     "output_type": "stream",
     "name": "stderr",
     "text": [
      "/Users/harabasz/miniforge3/envs/pyroot/lib/python3.11/site-packages/botorch/optim/initializers.py:403: BadInitialCandidatesWarning: Unable to find non-zero acquisition function values - initial conditions are being selected randomly.\n",
      "  warnings.warn(\n"
     ]
    },
    {
     "output_type": "stream",
     "name": "stdout",
     "text": [
      "Before reweighting hists 15:30:22\n",
      "After reweighting hists 15:30:23\n",
      "query 68\n"
     ]
    },
    {
     "output_type": "stream",
     "name": "stderr",
     "text": [
      "/Users/harabasz/miniforge3/envs/pyroot/lib/python3.11/site-packages/botorch/optim/initializers.py:403: BadInitialCandidatesWarning: Unable to find non-zero acquisition function values - initial conditions are being selected randomly.\n",
      "  warnings.warn(\n"
     ]
    },
    {
     "output_type": "stream",
     "name": "stdout",
     "text": [
      "query 69\n"
     ]
    },
    {
     "output_type": "stream",
     "name": "stderr",
     "text": [
      "/Users/harabasz/miniforge3/envs/pyroot/lib/python3.11/site-packages/botorch/optim/initializers.py:403: BadInitialCandidatesWarning: Unable to find non-zero acquisition function values - initial conditions are being selected randomly.\n",
      "  warnings.warn(\n"
     ]
    },
    {
     "output_type": "stream",
     "name": "stdout",
     "text": [
      "query 70\n"
     ]
    },
    {
     "output_type": "stream",
     "name": "stderr",
     "text": [
      "/Users/harabasz/miniforge3/envs/pyroot/lib/python3.11/site-packages/botorch/optim/initializers.py:403: BadInitialCandidatesWarning: Unable to find non-zero acquisition function values - initial conditions are being selected randomly.\n",
      "  warnings.warn(\n"
     ]
    },
    {
     "output_type": "stream",
     "name": "stdout",
     "text": [
      "query 71\n"
     ]
    },
    {
     "output_type": "stream",
     "name": "stderr",
     "text": [
      "/Users/harabasz/miniforge3/envs/pyroot/lib/python3.11/site-packages/botorch/optim/initializers.py:403: BadInitialCandidatesWarning: Unable to find non-zero acquisition function values - initial conditions are being selected randomly.\n",
      "  warnings.warn(\n"
     ]
    },
    {
     "output_type": "stream",
     "name": "stdout",
     "text": [
      "query 72\n"
     ]
    },
    {
     "output_type": "stream",
     "name": "stderr",
     "text": [
      "/Users/harabasz/miniforge3/envs/pyroot/lib/python3.11/site-packages/botorch/optim/initializers.py:403: BadInitialCandidatesWarning: Unable to find non-zero acquisition function values - initial conditions are being selected randomly.\n",
      "  warnings.warn(\n"
     ]
    },
    {
     "output_type": "stream",
     "name": "stdout",
     "text": [
      "query 73\n"
     ]
    },
    {
     "output_type": "stream",
     "name": "stderr",
     "text": [
      "/Users/harabasz/miniforge3/envs/pyroot/lib/python3.11/site-packages/botorch/optim/initializers.py:403: BadInitialCandidatesWarning: Unable to find non-zero acquisition function values - initial conditions are being selected randomly.\n",
      "  warnings.warn(\n"
     ]
    },
    {
     "output_type": "stream",
     "name": "stdout",
     "text": [
      "query 74\n"
     ]
    },
    {
     "output_type": "stream",
     "name": "stderr",
     "text": [
      "/Users/harabasz/miniforge3/envs/pyroot/lib/python3.11/site-packages/botorch/optim/initializers.py:403: BadInitialCandidatesWarning: Unable to find non-zero acquisition function values - initial conditions are being selected randomly.\n",
      "  warnings.warn(\n"
     ]
    },
    {
     "output_type": "stream",
     "name": "stdout",
     "text": [
      "query 75\n"
     ]
    },
    {
     "output_type": "stream",
     "name": "stderr",
     "text": [
      "/Users/harabasz/miniforge3/envs/pyroot/lib/python3.11/site-packages/botorch/optim/initializers.py:403: BadInitialCandidatesWarning: Unable to find non-zero acquisition function values - initial conditions are being selected randomly.\n",
      "  warnings.warn(\n"
     ]
    },
    {
     "output_type": "stream",
     "name": "stdout",
     "text": [
      "query 76\n"
     ]
    },
    {
     "output_type": "stream",
     "name": "stderr",
     "text": [
      "/Users/harabasz/miniforge3/envs/pyroot/lib/python3.11/site-packages/botorch/optim/initializers.py:403: BadInitialCandidatesWarning: Unable to find non-zero acquisition function values - initial conditions are being selected randomly.\n",
      "  warnings.warn(\n"
     ]
    },
    {
     "output_type": "stream",
     "name": "stdout",
     "text": [
      "query 77\n"
     ]
    },
    {
     "output_type": "stream",
     "name": "stderr",
     "text": [
      "/Users/harabasz/miniforge3/envs/pyroot/lib/python3.11/site-packages/botorch/optim/initializers.py:403: BadInitialCandidatesWarning: Unable to find non-zero acquisition function values - initial conditions are being selected randomly.\n",
      "  warnings.warn(\n"
     ]
    },
    {
     "output_type": "stream",
     "name": "stdout",
     "text": [
      "Before reweighting hists 15:31:00\n",
      "After reweighting hists 15:31:00\n",
      "query 78\n"
     ]
    },
    {
     "output_type": "stream",
     "name": "stderr",
     "text": [
      "/Users/harabasz/miniforge3/envs/pyroot/lib/python3.11/site-packages/botorch/optim/initializers.py:403: BadInitialCandidatesWarning: Unable to find non-zero acquisition function values - initial conditions are being selected randomly.\n",
      "  warnings.warn(\n"
     ]
    },
    {
     "output_type": "stream",
     "name": "stdout",
     "text": [
      "query 79\n"
     ]
    },
    {
     "output_type": "stream",
     "name": "stderr",
     "text": [
      "/Users/harabasz/miniforge3/envs/pyroot/lib/python3.11/site-packages/botorch/optim/initializers.py:403: BadInitialCandidatesWarning: Unable to find non-zero acquisition function values - initial conditions are being selected randomly.\n",
      "  warnings.warn(\n"
     ]
    },
    {
     "output_type": "stream",
     "name": "stdout",
     "text": [
      "query 80\n"
     ]
    },
    {
     "output_type": "stream",
     "name": "stderr",
     "text": [
      "/Users/harabasz/miniforge3/envs/pyroot/lib/python3.11/site-packages/botorch/optim/initializers.py:403: BadInitialCandidatesWarning: Unable to find non-zero acquisition function values - initial conditions are being selected randomly.\n",
      "  warnings.warn(\n"
     ]
    },
    {
     "output_type": "stream",
     "name": "stdout",
     "text": [
      "query 81\n"
     ]
    },
    {
     "output_type": "stream",
     "name": "stderr",
     "text": [
      "/Users/harabasz/miniforge3/envs/pyroot/lib/python3.11/site-packages/botorch/optim/initializers.py:403: BadInitialCandidatesWarning: Unable to find non-zero acquisition function values - initial conditions are being selected randomly.\n",
      "  warnings.warn(\n"
     ]
    },
    {
     "output_type": "stream",
     "name": "stdout",
     "text": [
      "query 82\n"
     ]
    },
    {
     "output_type": "stream",
     "name": "stderr",
     "text": [
      "/Users/harabasz/miniforge3/envs/pyroot/lib/python3.11/site-packages/botorch/optim/initializers.py:403: BadInitialCandidatesWarning: Unable to find non-zero acquisition function values - initial conditions are being selected randomly.\n",
      "  warnings.warn(\n"
     ]
    },
    {
     "output_type": "stream",
     "name": "stdout",
     "text": [
      "query 83\n"
     ]
    },
    {
     "output_type": "stream",
     "name": "stderr",
     "text": [
      "/Users/harabasz/miniforge3/envs/pyroot/lib/python3.11/site-packages/botorch/optim/initializers.py:403: BadInitialCandidatesWarning: Unable to find non-zero acquisition function values - initial conditions are being selected randomly.\n",
      "  warnings.warn(\n"
     ]
    },
    {
     "output_type": "stream",
     "name": "stdout",
     "text": [
      "query 84\n"
     ]
    },
    {
     "output_type": "stream",
     "name": "stderr",
     "text": [
      "/Users/harabasz/miniforge3/envs/pyroot/lib/python3.11/site-packages/botorch/optim/initializers.py:403: BadInitialCandidatesWarning: Unable to find non-zero acquisition function values - initial conditions are being selected randomly.\n",
      "  warnings.warn(\n"
     ]
    },
    {
     "output_type": "stream",
     "name": "stdout",
     "text": [
      "query 85\n"
     ]
    },
    {
     "output_type": "stream",
     "name": "stderr",
     "text": [
      "/Users/harabasz/miniforge3/envs/pyroot/lib/python3.11/site-packages/botorch/optim/initializers.py:403: BadInitialCandidatesWarning: Unable to find non-zero acquisition function values - initial conditions are being selected randomly.\n",
      "  warnings.warn(\n"
     ]
    },
    {
     "output_type": "stream",
     "name": "stdout",
     "text": [
      "query 86\n"
     ]
    },
    {
     "output_type": "stream",
     "name": "stderr",
     "text": [
      "/Users/harabasz/miniforge3/envs/pyroot/lib/python3.11/site-packages/botorch/optim/initializers.py:403: BadInitialCandidatesWarning: Unable to find non-zero acquisition function values - initial conditions are being selected randomly.\n",
      "  warnings.warn(\n"
     ]
    },
    {
     "output_type": "stream",
     "name": "stdout",
     "text": [
      "query 87\n"
     ]
    },
    {
     "output_type": "stream",
     "name": "stderr",
     "text": [
      "/Users/harabasz/miniforge3/envs/pyroot/lib/python3.11/site-packages/botorch/optim/initializers.py:403: BadInitialCandidatesWarning: Unable to find non-zero acquisition function values - initial conditions are being selected randomly.\n",
      "  warnings.warn(\n"
     ]
    },
    {
     "output_type": "stream",
     "name": "stdout",
     "text": [
      "Before reweighting hists 15:31:38\n",
      "After reweighting hists 15:31:38\n",
      "query 88\n",
      "query 89\n"
     ]
    },
    {
     "output_type": "stream",
     "name": "stderr",
     "text": [
      "/Users/harabasz/miniforge3/envs/pyroot/lib/python3.11/site-packages/botorch/optim/initializers.py:403: BadInitialCandidatesWarning: Unable to find non-zero acquisition function values - initial conditions are being selected randomly.\n",
      "  warnings.warn(\n"
     ]
    },
    {
     "output_type": "stream",
     "name": "stdout",
     "text": [
      "query 90\n"
     ]
    },
    {
     "output_type": "stream",
     "name": "stderr",
     "text": [
      "/Users/harabasz/miniforge3/envs/pyroot/lib/python3.11/site-packages/botorch/optim/initializers.py:403: BadInitialCandidatesWarning: Unable to find non-zero acquisition function values - initial conditions are being selected randomly.\n",
      "  warnings.warn(\n"
     ]
    },
    {
     "output_type": "stream",
     "name": "stdout",
     "text": [
      "query 91\n"
     ]
    },
    {
     "output_type": "stream",
     "name": "stderr",
     "text": [
      "/Users/harabasz/miniforge3/envs/pyroot/lib/python3.11/site-packages/botorch/optim/initializers.py:403: BadInitialCandidatesWarning: Unable to find non-zero acquisition function values - initial conditions are being selected randomly.\n",
      "  warnings.warn(\n"
     ]
    },
    {
     "output_type": "stream",
     "name": "stdout",
     "text": [
      "query 92\n"
     ]
    },
    {
     "output_type": "stream",
     "name": "stderr",
     "text": [
      "/Users/harabasz/miniforge3/envs/pyroot/lib/python3.11/site-packages/botorch/optim/initializers.py:403: BadInitialCandidatesWarning: Unable to find non-zero acquisition function values - initial conditions are being selected randomly.\n",
      "  warnings.warn(\n"
     ]
    },
    {
     "output_type": "stream",
     "name": "stdout",
     "text": [
      "query 93\n"
     ]
    },
    {
     "output_type": "stream",
     "name": "stderr",
     "text": [
      "/Users/harabasz/miniforge3/envs/pyroot/lib/python3.11/site-packages/botorch/optim/initializers.py:403: BadInitialCandidatesWarning: Unable to find non-zero acquisition function values - initial conditions are being selected randomly.\n",
      "  warnings.warn(\n"
     ]
    },
    {
     "output_type": "stream",
     "name": "stdout",
     "text": [
      "query 94\n"
     ]
    },
    {
     "output_type": "stream",
     "name": "stderr",
     "text": [
      "/Users/harabasz/miniforge3/envs/pyroot/lib/python3.11/site-packages/botorch/optim/initializers.py:403: BadInitialCandidatesWarning: Unable to find non-zero acquisition function values - initial conditions are being selected randomly.\n",
      "  warnings.warn(\n"
     ]
    },
    {
     "output_type": "stream",
     "name": "stdout",
     "text": [
      "query 95\n"
     ]
    },
    {
     "output_type": "stream",
     "name": "stderr",
     "text": [
      "/Users/harabasz/miniforge3/envs/pyroot/lib/python3.11/site-packages/botorch/optim/initializers.py:403: BadInitialCandidatesWarning: Unable to find non-zero acquisition function values - initial conditions are being selected randomly.\n",
      "  warnings.warn(\n"
     ]
    },
    {
     "output_type": "stream",
     "name": "stdout",
     "text": [
      "query 96\n"
     ]
    },
    {
     "output_type": "stream",
     "name": "stderr",
     "text": [
      "/Users/harabasz/miniforge3/envs/pyroot/lib/python3.11/site-packages/botorch/optim/initializers.py:403: BadInitialCandidatesWarning: Unable to find non-zero acquisition function values - initial conditions are being selected randomly.\n",
      "  warnings.warn(\n"
     ]
    },
    {
     "output_type": "stream",
     "name": "stdout",
     "text": [
      "query 97\n"
     ]
    },
    {
     "output_type": "stream",
     "name": "stderr",
     "text": [
      "/Users/harabasz/miniforge3/envs/pyroot/lib/python3.11/site-packages/botorch/optim/initializers.py:403: BadInitialCandidatesWarning: Unable to find non-zero acquisition function values - initial conditions are being selected randomly.\n",
      "  warnings.warn(\n"
     ]
    },
    {
     "output_type": "stream",
     "name": "stdout",
     "text": [
      "Before reweighting hists 15:32:17\n",
      "After reweighting hists 15:32:18\n",
      "query 98\n"
     ]
    },
    {
     "output_type": "stream",
     "name": "stderr",
     "text": [
      "/Users/harabasz/miniforge3/envs/pyroot/lib/python3.11/site-packages/botorch/optim/initializers.py:403: BadInitialCandidatesWarning: Unable to find non-zero acquisition function values - initial conditions are being selected randomly.\n",
      "  warnings.warn(\n"
     ]
    },
    {
     "output_type": "stream",
     "name": "stdout",
     "text": [
      "query 99\n"
     ]
    },
    {
     "output_type": "stream",
     "name": "stderr",
     "text": [
      "/Users/harabasz/miniforge3/envs/pyroot/lib/python3.11/site-packages/botorch/optim/initializers.py:403: BadInitialCandidatesWarning: Unable to find non-zero acquisition function values - initial conditions are being selected randomly.\n",
      "  warnings.warn(\n"
     ]
    },
    {
     "output_type": "stream",
     "name": "stdout",
     "text": [
      "query 100\n"
     ]
    },
    {
     "output_type": "stream",
     "name": "stderr",
     "text": [
      "/Users/harabasz/miniforge3/envs/pyroot/lib/python3.11/site-packages/botorch/optim/initializers.py:403: BadInitialCandidatesWarning: Unable to find non-zero acquisition function values - initial conditions are being selected randomly.\n",
      "  warnings.warn(\n"
     ]
    },
    {
     "output_type": "stream",
     "name": "stdout",
     "text": [
      "query 101\n"
     ]
    },
    {
     "output_type": "stream",
     "name": "stderr",
     "text": [
      "/Users/harabasz/miniforge3/envs/pyroot/lib/python3.11/site-packages/botorch/optim/initializers.py:403: BadInitialCandidatesWarning: Unable to find non-zero acquisition function values - initial conditions are being selected randomly.\n",
      "  warnings.warn(\n"
     ]
    },
    {
     "output_type": "stream",
     "name": "stdout",
     "text": [
      "query 102\n"
     ]
    },
    {
     "output_type": "stream",
     "name": "stderr",
     "text": [
      "/Users/harabasz/miniforge3/envs/pyroot/lib/python3.11/site-packages/botorch/optim/initializers.py:403: BadInitialCandidatesWarning: Unable to find non-zero acquisition function values - initial conditions are being selected randomly.\n",
      "  warnings.warn(\n"
     ]
    },
    {
     "output_type": "stream",
     "name": "stdout",
     "text": [
      "query 103\n"
     ]
    },
    {
     "output_type": "stream",
     "name": "stderr",
     "text": [
      "/Users/harabasz/miniforge3/envs/pyroot/lib/python3.11/site-packages/botorch/optim/initializers.py:403: BadInitialCandidatesWarning: Unable to find non-zero acquisition function values - initial conditions are being selected randomly.\n",
      "  warnings.warn(\n"
     ]
    },
    {
     "output_type": "stream",
     "name": "stdout",
     "text": [
      "query 104\n"
     ]
    },
    {
     "output_type": "stream",
     "name": "stderr",
     "text": [
      "/Users/harabasz/miniforge3/envs/pyroot/lib/python3.11/site-packages/botorch/optim/initializers.py:403: BadInitialCandidatesWarning: Unable to find non-zero acquisition function values - initial conditions are being selected randomly.\n",
      "  warnings.warn(\n"
     ]
    },
    {
     "output_type": "stream",
     "name": "stdout",
     "text": [
      "query 105\n"
     ]
    },
    {
     "output_type": "stream",
     "name": "stderr",
     "text": [
      "/Users/harabasz/miniforge3/envs/pyroot/lib/python3.11/site-packages/botorch/optim/initializers.py:403: BadInitialCandidatesWarning: Unable to find non-zero acquisition function values - initial conditions are being selected randomly.\n",
      "  warnings.warn(\n"
     ]
    },
    {
     "output_type": "stream",
     "name": "stdout",
     "text": [
      "query 106\n"
     ]
    },
    {
     "output_type": "stream",
     "name": "stderr",
     "text": [
      "/Users/harabasz/miniforge3/envs/pyroot/lib/python3.11/site-packages/botorch/optim/initializers.py:403: BadInitialCandidatesWarning: Unable to find non-zero acquisition function values - initial conditions are being selected randomly.\n",
      "  warnings.warn(\n"
     ]
    },
    {
     "output_type": "stream",
     "name": "stdout",
     "text": [
      "query 107\n"
     ]
    },
    {
     "output_type": "stream",
     "name": "stderr",
     "text": [
      "/Users/harabasz/miniforge3/envs/pyroot/lib/python3.11/site-packages/botorch/optim/initializers.py:403: BadInitialCandidatesWarning: Unable to find non-zero acquisition function values - initial conditions are being selected randomly.\n",
      "  warnings.warn(\n"
     ]
    },
    {
     "output_type": "stream",
     "name": "stdout",
     "text": [
      "Before reweighting hists 15:32:56\n",
      "After reweighting hists 15:32:56\n",
      "query 108\n"
     ]
    },
    {
     "output_type": "stream",
     "name": "stderr",
     "text": [
      "/Users/harabasz/miniforge3/envs/pyroot/lib/python3.11/site-packages/botorch/optim/initializers.py:403: BadInitialCandidatesWarning: Unable to find non-zero acquisition function values - initial conditions are being selected randomly.\n",
      "  warnings.warn(\n"
     ]
    },
    {
     "output_type": "stream",
     "name": "stdout",
     "text": [
      "query 109\n"
     ]
    },
    {
     "output_type": "stream",
     "name": "stderr",
     "text": [
      "/Users/harabasz/miniforge3/envs/pyroot/lib/python3.11/site-packages/botorch/optim/initializers.py:403: BadInitialCandidatesWarning: Unable to find non-zero acquisition function values - initial conditions are being selected randomly.\n",
      "  warnings.warn(\n"
     ]
    },
    {
     "output_type": "stream",
     "name": "stdout",
     "text": [
      "query 110\n"
     ]
    },
    {
     "output_type": "stream",
     "name": "stderr",
     "text": [
      "/Users/harabasz/miniforge3/envs/pyroot/lib/python3.11/site-packages/botorch/optim/initializers.py:403: BadInitialCandidatesWarning: Unable to find non-zero acquisition function values - initial conditions are being selected randomly.\n",
      "  warnings.warn(\n"
     ]
    },
    {
     "output_type": "stream",
     "name": "stdout",
     "text": [
      "query 111\n"
     ]
    },
    {
     "output_type": "stream",
     "name": "stderr",
     "text": [
      "/Users/harabasz/miniforge3/envs/pyroot/lib/python3.11/site-packages/botorch/optim/initializers.py:403: BadInitialCandidatesWarning: Unable to find non-zero acquisition function values - initial conditions are being selected randomly.\n",
      "  warnings.warn(\n"
     ]
    },
    {
     "output_type": "stream",
     "name": "stdout",
     "text": [
      "query 112\n",
      "query 113\n"
     ]
    },
    {
     "output_type": "stream",
     "name": "stderr",
     "text": [
      "/Users/harabasz/miniforge3/envs/pyroot/lib/python3.11/site-packages/botorch/optim/initializers.py:403: BadInitialCandidatesWarning: Unable to find non-zero acquisition function values - initial conditions are being selected randomly.\n",
      "  warnings.warn(\n"
     ]
    },
    {
     "output_type": "stream",
     "name": "stdout",
     "text": [
      "query 114\n"
     ]
    },
    {
     "output_type": "stream",
     "name": "stderr",
     "text": [
      "/Users/harabasz/miniforge3/envs/pyroot/lib/python3.11/site-packages/botorch/optim/initializers.py:403: BadInitialCandidatesWarning: Unable to find non-zero acquisition function values - initial conditions are being selected randomly.\n",
      "  warnings.warn(\n"
     ]
    },
    {
     "output_type": "stream",
     "name": "stdout",
     "text": [
      "query 115\n"
     ]
    },
    {
     "output_type": "stream",
     "name": "stderr",
     "text": [
      "/Users/harabasz/miniforge3/envs/pyroot/lib/python3.11/site-packages/botorch/optim/initializers.py:403: BadInitialCandidatesWarning: Unable to find non-zero acquisition function values - initial conditions are being selected randomly.\n",
      "  warnings.warn(\n"
     ]
    },
    {
     "output_type": "stream",
     "name": "stdout",
     "text": [
      "query 116\n"
     ]
    },
    {
     "output_type": "stream",
     "name": "stderr",
     "text": [
      "/Users/harabasz/miniforge3/envs/pyroot/lib/python3.11/site-packages/botorch/optim/initializers.py:403: BadInitialCandidatesWarning: Unable to find non-zero acquisition function values - initial conditions are being selected randomly.\n",
      "  warnings.warn(\n"
     ]
    },
    {
     "output_type": "stream",
     "name": "stdout",
     "text": [
      "query 117\n"
     ]
    },
    {
     "output_type": "stream",
     "name": "stderr",
     "text": [
      "/Users/harabasz/miniforge3/envs/pyroot/lib/python3.11/site-packages/botorch/optim/initializers.py:403: BadInitialCandidatesWarning: Unable to find non-zero acquisition function values - initial conditions are being selected randomly.\n",
      "  warnings.warn(\n"
     ]
    },
    {
     "output_type": "stream",
     "name": "stdout",
     "text": [
      "Before reweighting hists 15:33:33\n",
      "After reweighting hists 15:33:33\n",
      "query 118\n"
     ]
    },
    {
     "output_type": "stream",
     "name": "stderr",
     "text": [
      "/Users/harabasz/miniforge3/envs/pyroot/lib/python3.11/site-packages/botorch/optim/initializers.py:403: BadInitialCandidatesWarning: Unable to find non-zero acquisition function values - initial conditions are being selected randomly.\n",
      "  warnings.warn(\n"
     ]
    },
    {
     "output_type": "stream",
     "name": "stdout",
     "text": [
      "query 119\n"
     ]
    },
    {
     "output_type": "stream",
     "name": "stderr",
     "text": [
      "/Users/harabasz/miniforge3/envs/pyroot/lib/python3.11/site-packages/botorch/optim/initializers.py:403: BadInitialCandidatesWarning: Unable to find non-zero acquisition function values - initial conditions are being selected randomly.\n",
      "  warnings.warn(\n"
     ]
    },
    {
     "output_type": "stream",
     "name": "stdout",
     "text": [
      "query 120\n"
     ]
    },
    {
     "output_type": "stream",
     "name": "stderr",
     "text": [
      "/Users/harabasz/miniforge3/envs/pyroot/lib/python3.11/site-packages/botorch/optim/initializers.py:403: BadInitialCandidatesWarning: Unable to find non-zero acquisition function values - initial conditions are being selected randomly.\n",
      "  warnings.warn(\n"
     ]
    },
    {
     "output_type": "stream",
     "name": "stdout",
     "text": [
      "query 121\n"
     ]
    },
    {
     "output_type": "stream",
     "name": "stderr",
     "text": [
      "/Users/harabasz/miniforge3/envs/pyroot/lib/python3.11/site-packages/botorch/optim/initializers.py:403: BadInitialCandidatesWarning: Unable to find non-zero acquisition function values - initial conditions are being selected randomly.\n",
      "  warnings.warn(\n"
     ]
    },
    {
     "output_type": "stream",
     "name": "stdout",
     "text": [
      "query 122\n"
     ]
    },
    {
     "output_type": "stream",
     "name": "stderr",
     "text": [
      "/Users/harabasz/miniforge3/envs/pyroot/lib/python3.11/site-packages/botorch/optim/initializers.py:403: BadInitialCandidatesWarning: Unable to find non-zero acquisition function values - initial conditions are being selected randomly.\n",
      "  warnings.warn(\n"
     ]
    },
    {
     "output_type": "stream",
     "name": "stdout",
     "text": [
      "query 123\n"
     ]
    },
    {
     "output_type": "stream",
     "name": "stderr",
     "text": [
      "/Users/harabasz/miniforge3/envs/pyroot/lib/python3.11/site-packages/botorch/optim/initializers.py:403: BadInitialCandidatesWarning: Unable to find non-zero acquisition function values - initial conditions are being selected randomly.\n",
      "  warnings.warn(\n"
     ]
    },
    {
     "output_type": "stream",
     "name": "stdout",
     "text": [
      "query 124\n"
     ]
    },
    {
     "output_type": "stream",
     "name": "stderr",
     "text": [
      "/Users/harabasz/miniforge3/envs/pyroot/lib/python3.11/site-packages/botorch/optim/initializers.py:403: BadInitialCandidatesWarning: Unable to find non-zero acquisition function values - initial conditions are being selected randomly.\n",
      "  warnings.warn(\n"
     ]
    },
    {
     "output_type": "stream",
     "name": "stdout",
     "text": [
      "query 125\n"
     ]
    },
    {
     "output_type": "stream",
     "name": "stderr",
     "text": [
      "/Users/harabasz/miniforge3/envs/pyroot/lib/python3.11/site-packages/botorch/optim/initializers.py:403: BadInitialCandidatesWarning: Unable to find non-zero acquisition function values - initial conditions are being selected randomly.\n",
      "  warnings.warn(\n"
     ]
    },
    {
     "output_type": "stream",
     "name": "stdout",
     "text": [
      "query 126\n"
     ]
    },
    {
     "output_type": "stream",
     "name": "stderr",
     "text": [
      "/Users/harabasz/miniforge3/envs/pyroot/lib/python3.11/site-packages/botorch/optim/initializers.py:403: BadInitialCandidatesWarning: Unable to find non-zero acquisition function values - initial conditions are being selected randomly.\n",
      "  warnings.warn(\n"
     ]
    },
    {
     "output_type": "stream",
     "name": "stdout",
     "text": [
      "query 127\n"
     ]
    },
    {
     "output_type": "stream",
     "name": "stderr",
     "text": [
      "/Users/harabasz/miniforge3/envs/pyroot/lib/python3.11/site-packages/botorch/optim/initializers.py:403: BadInitialCandidatesWarning: Unable to find non-zero acquisition function values - initial conditions are being selected randomly.\n",
      "  warnings.warn(\n"
     ]
    },
    {
     "output_type": "stream",
     "name": "stdout",
     "text": [
      "Before reweighting hists 15:34:12\n",
      "After reweighting hists 15:34:12\n",
      "query 128\n"
     ]
    },
    {
     "output_type": "stream",
     "name": "stderr",
     "text": [
      "/Users/harabasz/miniforge3/envs/pyroot/lib/python3.11/site-packages/botorch/optim/initializers.py:403: BadInitialCandidatesWarning: Unable to find non-zero acquisition function values - initial conditions are being selected randomly.\n",
      "  warnings.warn(\n"
     ]
    },
    {
     "output_type": "stream",
     "name": "stdout",
     "text": [
      "query 129\n"
     ]
    },
    {
     "output_type": "stream",
     "name": "stderr",
     "text": [
      "/Users/harabasz/miniforge3/envs/pyroot/lib/python3.11/site-packages/botorch/optim/initializers.py:403: BadInitialCandidatesWarning: Unable to find non-zero acquisition function values - initial conditions are being selected randomly.\n",
      "  warnings.warn(\n"
     ]
    },
    {
     "output_type": "stream",
     "name": "stdout",
     "text": [
      "query 130\n"
     ]
    },
    {
     "output_type": "stream",
     "name": "stderr",
     "text": [
      "/Users/harabasz/miniforge3/envs/pyroot/lib/python3.11/site-packages/botorch/optim/initializers.py:403: BadInitialCandidatesWarning: Unable to find non-zero acquisition function values - initial conditions are being selected randomly.\n",
      "  warnings.warn(\n"
     ]
    },
    {
     "output_type": "stream",
     "name": "stdout",
     "text": [
      "query 131\n"
     ]
    },
    {
     "output_type": "stream",
     "name": "stderr",
     "text": [
      "/Users/harabasz/miniforge3/envs/pyroot/lib/python3.11/site-packages/botorch/optim/initializers.py:403: BadInitialCandidatesWarning: Unable to find non-zero acquisition function values - initial conditions are being selected randomly.\n",
      "  warnings.warn(\n"
     ]
    },
    {
     "output_type": "stream",
     "name": "stdout",
     "text": [
      "query 132\n"
     ]
    },
    {
     "output_type": "stream",
     "name": "stderr",
     "text": [
      "/Users/harabasz/miniforge3/envs/pyroot/lib/python3.11/site-packages/botorch/optim/initializers.py:403: BadInitialCandidatesWarning: Unable to find non-zero acquisition function values - initial conditions are being selected randomly.\n",
      "  warnings.warn(\n"
     ]
    },
    {
     "output_type": "stream",
     "name": "stdout",
     "text": [
      "query 133\n"
     ]
    },
    {
     "output_type": "stream",
     "name": "stderr",
     "text": [
      "/Users/harabasz/miniforge3/envs/pyroot/lib/python3.11/site-packages/botorch/optim/initializers.py:403: BadInitialCandidatesWarning: Unable to find non-zero acquisition function values - initial conditions are being selected randomly.\n",
      "  warnings.warn(\n"
     ]
    },
    {
     "output_type": "stream",
     "name": "stdout",
     "text": [
      "query 134\n"
     ]
    },
    {
     "output_type": "stream",
     "name": "stderr",
     "text": [
      "/Users/harabasz/miniforge3/envs/pyroot/lib/python3.11/site-packages/botorch/optim/initializers.py:403: BadInitialCandidatesWarning: Unable to find non-zero acquisition function values - initial conditions are being selected randomly.\n",
      "  warnings.warn(\n"
     ]
    },
    {
     "output_type": "stream",
     "name": "stdout",
     "text": [
      "query 135\n"
     ]
    },
    {
     "output_type": "stream",
     "name": "stderr",
     "text": [
      "/Users/harabasz/miniforge3/envs/pyroot/lib/python3.11/site-packages/botorch/optim/initializers.py:403: BadInitialCandidatesWarning: Unable to find non-zero acquisition function values - initial conditions are being selected randomly.\n",
      "  warnings.warn(\n"
     ]
    },
    {
     "output_type": "stream",
     "name": "stdout",
     "text": [
      "query 136\n"
     ]
    },
    {
     "output_type": "stream",
     "name": "stderr",
     "text": [
      "/Users/harabasz/miniforge3/envs/pyroot/lib/python3.11/site-packages/botorch/optim/initializers.py:403: BadInitialCandidatesWarning: Unable to find non-zero acquisition function values - initial conditions are being selected randomly.\n",
      "  warnings.warn(\n"
     ]
    },
    {
     "output_type": "stream",
     "name": "stdout",
     "text": [
      "query 137\n"
     ]
    },
    {
     "output_type": "stream",
     "name": "stderr",
     "text": [
      "/Users/harabasz/miniforge3/envs/pyroot/lib/python3.11/site-packages/botorch/optim/initializers.py:403: BadInitialCandidatesWarning: Unable to find non-zero acquisition function values - initial conditions are being selected randomly.\n",
      "  warnings.warn(\n"
     ]
    },
    {
     "output_type": "stream",
     "name": "stdout",
     "text": [
      "Before reweighting hists 15:35:00\n",
      "After reweighting hists 15:35:00\n",
      "query 138\n"
     ]
    },
    {
     "output_type": "stream",
     "name": "stderr",
     "text": [
      "/Users/harabasz/miniforge3/envs/pyroot/lib/python3.11/site-packages/botorch/optim/initializers.py:403: BadInitialCandidatesWarning: Unable to find non-zero acquisition function values - initial conditions are being selected randomly.\n",
      "  warnings.warn(\n"
     ]
    },
    {
     "output_type": "stream",
     "name": "stdout",
     "text": [
      "query 139\n"
     ]
    },
    {
     "output_type": "stream",
     "name": "stderr",
     "text": [
      "/Users/harabasz/miniforge3/envs/pyroot/lib/python3.11/site-packages/botorch/optim/initializers.py:403: BadInitialCandidatesWarning: Unable to find non-zero acquisition function values - initial conditions are being selected randomly.\n",
      "  warnings.warn(\n"
     ]
    },
    {
     "output_type": "stream",
     "name": "stdout",
     "text": [
      "query 140\n"
     ]
    },
    {
     "output_type": "stream",
     "name": "stderr",
     "text": [
      "/Users/harabasz/miniforge3/envs/pyroot/lib/python3.11/site-packages/botorch/optim/initializers.py:403: BadInitialCandidatesWarning: Unable to find non-zero acquisition function values - initial conditions are being selected randomly.\n",
      "  warnings.warn(\n"
     ]
    },
    {
     "output_type": "stream",
     "name": "stdout",
     "text": [
      "query 141\n"
     ]
    },
    {
     "output_type": "stream",
     "name": "stderr",
     "text": [
      "/Users/harabasz/miniforge3/envs/pyroot/lib/python3.11/site-packages/botorch/optim/initializers.py:403: BadInitialCandidatesWarning: Unable to find non-zero acquisition function values - initial conditions are being selected randomly.\n",
      "  warnings.warn(\n"
     ]
    },
    {
     "output_type": "stream",
     "name": "stdout",
     "text": [
      "query 142\n"
     ]
    },
    {
     "output_type": "stream",
     "name": "stderr",
     "text": [
      "/Users/harabasz/miniforge3/envs/pyroot/lib/python3.11/site-packages/botorch/optim/initializers.py:403: BadInitialCandidatesWarning: Unable to find non-zero acquisition function values - initial conditions are being selected randomly.\n",
      "  warnings.warn(\n"
     ]
    },
    {
     "output_type": "stream",
     "name": "stdout",
     "text": [
      "query 143\n"
     ]
    },
    {
     "output_type": "stream",
     "name": "stderr",
     "text": [
      "/Users/harabasz/miniforge3/envs/pyroot/lib/python3.11/site-packages/botorch/optim/initializers.py:403: BadInitialCandidatesWarning: Unable to find non-zero acquisition function values - initial conditions are being selected randomly.\n",
      "  warnings.warn(\n"
     ]
    },
    {
     "output_type": "stream",
     "name": "stdout",
     "text": [
      "query 144\n",
      "query 145\n"
     ]
    },
    {
     "output_type": "stream",
     "name": "stderr",
     "text": [
      "/Users/harabasz/miniforge3/envs/pyroot/lib/python3.11/site-packages/botorch/optim/initializers.py:403: BadInitialCandidatesWarning: Unable to find non-zero acquisition function values - initial conditions are being selected randomly.\n",
      "  warnings.warn(\n"
     ]
    },
    {
     "output_type": "stream",
     "name": "stdout",
     "text": [
      "query 146\n"
     ]
    },
    {
     "output_type": "stream",
     "name": "stderr",
     "text": [
      "/Users/harabasz/miniforge3/envs/pyroot/lib/python3.11/site-packages/botorch/optim/initializers.py:403: BadInitialCandidatesWarning: Unable to find non-zero acquisition function values - initial conditions are being selected randomly.\n",
      "  warnings.warn(\n"
     ]
    },
    {
     "output_type": "stream",
     "name": "stdout",
     "text": [
      "query 147\n"
     ]
    },
    {
     "output_type": "stream",
     "name": "stderr",
     "text": [
      "/Users/harabasz/miniforge3/envs/pyroot/lib/python3.11/site-packages/botorch/optim/initializers.py:403: BadInitialCandidatesWarning: Unable to find non-zero acquisition function values - initial conditions are being selected randomly.\n",
      "  warnings.warn(\n"
     ]
    },
    {
     "output_type": "stream",
     "name": "stdout",
     "text": [
      "Before reweighting hists 15:35:44\n",
      "After reweighting hists 15:35:45\n",
      "query 148\n"
     ]
    },
    {
     "output_type": "stream",
     "name": "stderr",
     "text": [
      "/Users/harabasz/miniforge3/envs/pyroot/lib/python3.11/site-packages/botorch/optim/initializers.py:403: BadInitialCandidatesWarning: Unable to find non-zero acquisition function values - initial conditions are being selected randomly.\n",
      "  warnings.warn(\n"
     ]
    },
    {
     "output_type": "stream",
     "name": "stdout",
     "text": [
      "query 149\n"
     ]
    },
    {
     "output_type": "stream",
     "name": "stderr",
     "text": [
      "/Users/harabasz/miniforge3/envs/pyroot/lib/python3.11/site-packages/botorch/optim/initializers.py:403: BadInitialCandidatesWarning: Unable to find non-zero acquisition function values - initial conditions are being selected randomly.\n",
      "  warnings.warn(\n"
     ]
    },
    {
     "output_type": "stream",
     "name": "stdout",
     "text": [
      "query 150\n"
     ]
    },
    {
     "output_type": "stream",
     "name": "stderr",
     "text": [
      "/Users/harabasz/miniforge3/envs/pyroot/lib/python3.11/site-packages/botorch/optim/initializers.py:403: BadInitialCandidatesWarning: Unable to find non-zero acquisition function values - initial conditions are being selected randomly.\n",
      "  warnings.warn(\n"
     ]
    },
    {
     "output_type": "stream",
     "name": "stdout",
     "text": [
      "query 151\n"
     ]
    },
    {
     "output_type": "stream",
     "name": "stderr",
     "text": [
      "/Users/harabasz/miniforge3/envs/pyroot/lib/python3.11/site-packages/botorch/optim/initializers.py:403: BadInitialCandidatesWarning: Unable to find non-zero acquisition function values - initial conditions are being selected randomly.\n",
      "  warnings.warn(\n"
     ]
    },
    {
     "output_type": "stream",
     "name": "stdout",
     "text": [
      "query 152\n"
     ]
    },
    {
     "output_type": "stream",
     "name": "stderr",
     "text": [
      "/Users/harabasz/miniforge3/envs/pyroot/lib/python3.11/site-packages/botorch/optim/initializers.py:403: BadInitialCandidatesWarning: Unable to find non-zero acquisition function values - initial conditions are being selected randomly.\n",
      "  warnings.warn(\n"
     ]
    },
    {
     "output_type": "stream",
     "name": "stdout",
     "text": [
      "query 153\n",
      "query 154\n"
     ]
    },
    {
     "output_type": "stream",
     "name": "stderr",
     "text": [
      "/Users/harabasz/miniforge3/envs/pyroot/lib/python3.11/site-packages/botorch/optim/initializers.py:403: BadInitialCandidatesWarning: Unable to find non-zero acquisition function values - initial conditions are being selected randomly.\n",
      "  warnings.warn(\n"
     ]
    },
    {
     "output_type": "stream",
     "name": "stdout",
     "text": [
      "query 155\n"
     ]
    },
    {
     "output_type": "stream",
     "name": "stderr",
     "text": [
      "/Users/harabasz/miniforge3/envs/pyroot/lib/python3.11/site-packages/botorch/optim/initializers.py:403: BadInitialCandidatesWarning: Unable to find non-zero acquisition function values - initial conditions are being selected randomly.\n",
      "  warnings.warn(\n"
     ]
    },
    {
     "output_type": "stream",
     "name": "stdout",
     "text": [
      "query 156\n"
     ]
    },
    {
     "output_type": "stream",
     "name": "stderr",
     "text": [
      "/Users/harabasz/miniforge3/envs/pyroot/lib/python3.11/site-packages/botorch/optim/initializers.py:403: BadInitialCandidatesWarning: Unable to find non-zero acquisition function values - initial conditions are being selected randomly.\n",
      "  warnings.warn(\n"
     ]
    },
    {
     "output_type": "stream",
     "name": "stdout",
     "text": [
      "query 157\n"
     ]
    },
    {
     "output_type": "stream",
     "name": "stderr",
     "text": [
      "/Users/harabasz/miniforge3/envs/pyroot/lib/python3.11/site-packages/botorch/optim/initializers.py:403: BadInitialCandidatesWarning: Unable to find non-zero acquisition function values - initial conditions are being selected randomly.\n",
      "  warnings.warn(\n"
     ]
    },
    {
     "output_type": "stream",
     "name": "stdout",
     "text": [
      "Before reweighting hists 15:36:30\n",
      "After reweighting hists 15:36:31\n",
      "query 158\n"
     ]
    },
    {
     "output_type": "stream",
     "name": "stderr",
     "text": [
      "/Users/harabasz/miniforge3/envs/pyroot/lib/python3.11/site-packages/botorch/optim/initializers.py:403: BadInitialCandidatesWarning: Unable to find non-zero acquisition function values - initial conditions are being selected randomly.\n",
      "  warnings.warn(\n"
     ]
    },
    {
     "output_type": "stream",
     "name": "stdout",
     "text": [
      "query 159\n"
     ]
    },
    {
     "output_type": "stream",
     "name": "stderr",
     "text": [
      "/Users/harabasz/miniforge3/envs/pyroot/lib/python3.11/site-packages/botorch/optim/initializers.py:403: BadInitialCandidatesWarning: Unable to find non-zero acquisition function values - initial conditions are being selected randomly.\n",
      "  warnings.warn(\n"
     ]
    },
    {
     "output_type": "stream",
     "name": "stdout",
     "text": [
      "query 160\n"
     ]
    },
    {
     "output_type": "stream",
     "name": "stderr",
     "text": [
      "/Users/harabasz/miniforge3/envs/pyroot/lib/python3.11/site-packages/botorch/optim/initializers.py:403: BadInitialCandidatesWarning: Unable to find non-zero acquisition function values - initial conditions are being selected randomly.\n",
      "  warnings.warn(\n"
     ]
    },
    {
     "output_type": "stream",
     "name": "stdout",
     "text": [
      "query 161\n"
     ]
    },
    {
     "output_type": "stream",
     "name": "stderr",
     "text": [
      "/Users/harabasz/miniforge3/envs/pyroot/lib/python3.11/site-packages/botorch/optim/initializers.py:403: BadInitialCandidatesWarning: Unable to find non-zero acquisition function values - initial conditions are being selected randomly.\n",
      "  warnings.warn(\n"
     ]
    },
    {
     "output_type": "stream",
     "name": "stdout",
     "text": [
      "query 162\n"
     ]
    },
    {
     "output_type": "stream",
     "name": "stderr",
     "text": [
      "/Users/harabasz/miniforge3/envs/pyroot/lib/python3.11/site-packages/botorch/optim/initializers.py:403: BadInitialCandidatesWarning: Unable to find non-zero acquisition function values - initial conditions are being selected randomly.\n",
      "  warnings.warn(\n"
     ]
    },
    {
     "output_type": "stream",
     "name": "stdout",
     "text": [
      "query 163\n"
     ]
    },
    {
     "output_type": "stream",
     "name": "stderr",
     "text": [
      "/Users/harabasz/miniforge3/envs/pyroot/lib/python3.11/site-packages/botorch/optim/initializers.py:403: BadInitialCandidatesWarning: Unable to find non-zero acquisition function values - initial conditions are being selected randomly.\n",
      "  warnings.warn(\n"
     ]
    },
    {
     "output_type": "stream",
     "name": "stdout",
     "text": [
      "query 164\n"
     ]
    },
    {
     "output_type": "stream",
     "name": "stderr",
     "text": [
      "/Users/harabasz/miniforge3/envs/pyroot/lib/python3.11/site-packages/botorch/optim/initializers.py:403: BadInitialCandidatesWarning: Unable to find non-zero acquisition function values - initial conditions are being selected randomly.\n",
      "  warnings.warn(\n"
     ]
    },
    {
     "output_type": "stream",
     "name": "stdout",
     "text": [
      "query 165\n"
     ]
    },
    {
     "output_type": "stream",
     "name": "stderr",
     "text": [
      "/Users/harabasz/miniforge3/envs/pyroot/lib/python3.11/site-packages/botorch/optim/initializers.py:403: BadInitialCandidatesWarning: Unable to find non-zero acquisition function values - initial conditions are being selected randomly.\n",
      "  warnings.warn(\n"
     ]
    },
    {
     "output_type": "stream",
     "name": "stdout",
     "text": [
      "query 166\n"
     ]
    },
    {
     "output_type": "stream",
     "name": "stderr",
     "text": [
      "/Users/harabasz/miniforge3/envs/pyroot/lib/python3.11/site-packages/botorch/optim/initializers.py:403: BadInitialCandidatesWarning: Unable to find non-zero acquisition function values - initial conditions are being selected randomly.\n",
      "  warnings.warn(\n"
     ]
    },
    {
     "output_type": "stream",
     "name": "stdout",
     "text": [
      "query 167\n"
     ]
    },
    {
     "output_type": "stream",
     "name": "stderr",
     "text": [
      "/Users/harabasz/miniforge3/envs/pyroot/lib/python3.11/site-packages/botorch/optim/initializers.py:403: BadInitialCandidatesWarning: Unable to find non-zero acquisition function values - initial conditions are being selected randomly.\n",
      "  warnings.warn(\n"
     ]
    },
    {
     "output_type": "stream",
     "name": "stdout",
     "text": [
      "Before reweighting hists 15:37:19\n",
      "After reweighting hists 15:37:19\n",
      "query 168\n"
     ]
    },
    {
     "output_type": "stream",
     "name": "stderr",
     "text": [
      "/Users/harabasz/miniforge3/envs/pyroot/lib/python3.11/site-packages/botorch/optim/initializers.py:403: BadInitialCandidatesWarning: Unable to find non-zero acquisition function values - initial conditions are being selected randomly.\n",
      "  warnings.warn(\n"
     ]
    },
    {
     "output_type": "stream",
     "name": "stdout",
     "text": [
      "query 169\n"
     ]
    },
    {
     "output_type": "stream",
     "name": "stderr",
     "text": [
      "/Users/harabasz/miniforge3/envs/pyroot/lib/python3.11/site-packages/botorch/optim/initializers.py:403: BadInitialCandidatesWarning: Unable to find non-zero acquisition function values - initial conditions are being selected randomly.\n",
      "  warnings.warn(\n"
     ]
    },
    {
     "output_type": "stream",
     "name": "stdout",
     "text": [
      "query 170\n"
     ]
    },
    {
     "output_type": "stream",
     "name": "stderr",
     "text": [
      "/Users/harabasz/miniforge3/envs/pyroot/lib/python3.11/site-packages/botorch/optim/initializers.py:403: BadInitialCandidatesWarning: Unable to find non-zero acquisition function values - initial conditions are being selected randomly.\n",
      "  warnings.warn(\n"
     ]
    },
    {
     "output_type": "stream",
     "name": "stdout",
     "text": [
      "query 171\n"
     ]
    },
    {
     "output_type": "stream",
     "name": "stderr",
     "text": [
      "/Users/harabasz/miniforge3/envs/pyroot/lib/python3.11/site-packages/botorch/optim/initializers.py:403: BadInitialCandidatesWarning: Unable to find non-zero acquisition function values - initial conditions are being selected randomly.\n",
      "  warnings.warn(\n"
     ]
    },
    {
     "output_type": "stream",
     "name": "stdout",
     "text": [
      "query 172\n",
      "query 173\n"
     ]
    },
    {
     "output_type": "stream",
     "name": "stderr",
     "text": [
      "/Users/harabasz/miniforge3/envs/pyroot/lib/python3.11/site-packages/botorch/optim/initializers.py:403: BadInitialCandidatesWarning: Unable to find non-zero acquisition function values - initial conditions are being selected randomly.\n",
      "  warnings.warn(\n"
     ]
    },
    {
     "output_type": "stream",
     "name": "stdout",
     "text": [
      "query 174\n"
     ]
    },
    {
     "output_type": "stream",
     "name": "stderr",
     "text": [
      "/Users/harabasz/miniforge3/envs/pyroot/lib/python3.11/site-packages/botorch/optim/initializers.py:403: BadInitialCandidatesWarning: Unable to find non-zero acquisition function values - initial conditions are being selected randomly.\n",
      "  warnings.warn(\n"
     ]
    },
    {
     "output_type": "stream",
     "name": "stdout",
     "text": [
      "query 175\n"
     ]
    },
    {
     "output_type": "stream",
     "name": "stderr",
     "text": [
      "/Users/harabasz/miniforge3/envs/pyroot/lib/python3.11/site-packages/botorch/optim/initializers.py:403: BadInitialCandidatesWarning: Unable to find non-zero acquisition function values - initial conditions are being selected randomly.\n",
      "  warnings.warn(\n"
     ]
    },
    {
     "output_type": "stream",
     "name": "stdout",
     "text": [
      "query 176\n"
     ]
    },
    {
     "output_type": "stream",
     "name": "stderr",
     "text": [
      "/Users/harabasz/miniforge3/envs/pyroot/lib/python3.11/site-packages/botorch/optim/initializers.py:403: BadInitialCandidatesWarning: Unable to find non-zero acquisition function values - initial conditions are being selected randomly.\n",
      "  warnings.warn(\n"
     ]
    },
    {
     "output_type": "stream",
     "name": "stdout",
     "text": [
      "query 177\n"
     ]
    },
    {
     "output_type": "stream",
     "name": "stderr",
     "text": [
      "/Users/harabasz/miniforge3/envs/pyroot/lib/python3.11/site-packages/botorch/optim/initializers.py:403: BadInitialCandidatesWarning: Unable to find non-zero acquisition function values - initial conditions are being selected randomly.\n",
      "  warnings.warn(\n"
     ]
    },
    {
     "output_type": "stream",
     "name": "stdout",
     "text": [
      "Before reweighting hists 15:38:10\n",
      "After reweighting hists 15:38:11\n",
      "query 178\n"
     ]
    },
    {
     "output_type": "stream",
     "name": "stderr",
     "text": [
      "/Users/harabasz/miniforge3/envs/pyroot/lib/python3.11/site-packages/botorch/optim/initializers.py:403: BadInitialCandidatesWarning: Unable to find non-zero acquisition function values - initial conditions are being selected randomly.\n",
      "  warnings.warn(\n"
     ]
    },
    {
     "output_type": "stream",
     "name": "stdout",
     "text": [
      "query 179\n"
     ]
    },
    {
     "output_type": "stream",
     "name": "stderr",
     "text": [
      "/Users/harabasz/miniforge3/envs/pyroot/lib/python3.11/site-packages/botorch/optim/initializers.py:403: BadInitialCandidatesWarning: Unable to find non-zero acquisition function values - initial conditions are being selected randomly.\n",
      "  warnings.warn(\n"
     ]
    },
    {
     "output_type": "stream",
     "name": "stdout",
     "text": [
      "query 180\n"
     ]
    },
    {
     "output_type": "stream",
     "name": "stderr",
     "text": [
      "/Users/harabasz/miniforge3/envs/pyroot/lib/python3.11/site-packages/botorch/optim/initializers.py:403: BadInitialCandidatesWarning: Unable to find non-zero acquisition function values - initial conditions are being selected randomly.\n",
      "  warnings.warn(\n"
     ]
    },
    {
     "output_type": "stream",
     "name": "stdout",
     "text": [
      "query 181\n"
     ]
    },
    {
     "output_type": "stream",
     "name": "stderr",
     "text": [
      "/Users/harabasz/miniforge3/envs/pyroot/lib/python3.11/site-packages/botorch/optim/initializers.py:403: BadInitialCandidatesWarning: Unable to find non-zero acquisition function values - initial conditions are being selected randomly.\n",
      "  warnings.warn(\n"
     ]
    },
    {
     "output_type": "stream",
     "name": "stdout",
     "text": [
      "query 182\n"
     ]
    },
    {
     "output_type": "stream",
     "name": "stderr",
     "text": [
      "/Users/harabasz/miniforge3/envs/pyroot/lib/python3.11/site-packages/botorch/optim/initializers.py:403: BadInitialCandidatesWarning: Unable to find non-zero acquisition function values - initial conditions are being selected randomly.\n",
      "  warnings.warn(\n"
     ]
    },
    {
     "output_type": "stream",
     "name": "stdout",
     "text": [
      "query 183\n"
     ]
    },
    {
     "output_type": "stream",
     "name": "stderr",
     "text": [
      "/Users/harabasz/miniforge3/envs/pyroot/lib/python3.11/site-packages/botorch/optim/initializers.py:403: BadInitialCandidatesWarning: Unable to find non-zero acquisition function values - initial conditions are being selected randomly.\n",
      "  warnings.warn(\n"
     ]
    },
    {
     "output_type": "stream",
     "name": "stdout",
     "text": [
      "query 184\n"
     ]
    },
    {
     "output_type": "stream",
     "name": "stderr",
     "text": [
      "/Users/harabasz/miniforge3/envs/pyroot/lib/python3.11/site-packages/botorch/optim/initializers.py:403: BadInitialCandidatesWarning: Unable to find non-zero acquisition function values - initial conditions are being selected randomly.\n",
      "  warnings.warn(\n"
     ]
    },
    {
     "output_type": "stream",
     "name": "stdout",
     "text": [
      "query 185\n"
     ]
    },
    {
     "output_type": "stream",
     "name": "stderr",
     "text": [
      "/Users/harabasz/miniforge3/envs/pyroot/lib/python3.11/site-packages/botorch/optim/initializers.py:403: BadInitialCandidatesWarning: Unable to find non-zero acquisition function values - initial conditions are being selected randomly.\n",
      "  warnings.warn(\n"
     ]
    },
    {
     "output_type": "stream",
     "name": "stdout",
     "text": [
      "query 186\n"
     ]
    },
    {
     "output_type": "stream",
     "name": "stderr",
     "text": [
      "/Users/harabasz/miniforge3/envs/pyroot/lib/python3.11/site-packages/botorch/optim/initializers.py:403: BadInitialCandidatesWarning: Unable to find non-zero acquisition function values - initial conditions are being selected randomly.\n",
      "  warnings.warn(\n"
     ]
    },
    {
     "output_type": "stream",
     "name": "stdout",
     "text": [
      "query 187\n"
     ]
    },
    {
     "output_type": "stream",
     "name": "stderr",
     "text": [
      "/Users/harabasz/miniforge3/envs/pyroot/lib/python3.11/site-packages/botorch/optim/initializers.py:403: BadInitialCandidatesWarning: Unable to find non-zero acquisition function values - initial conditions are being selected randomly.\n",
      "  warnings.warn(\n"
     ]
    },
    {
     "output_type": "stream",
     "name": "stdout",
     "text": [
      "Before reweighting hists 15:39:09\n",
      "After reweighting hists 15:39:09\n",
      "query 188\n"
     ]
    },
    {
     "output_type": "stream",
     "name": "stderr",
     "text": [
      "/Users/harabasz/miniforge3/envs/pyroot/lib/python3.11/site-packages/botorch/optim/initializers.py:403: BadInitialCandidatesWarning: Unable to find non-zero acquisition function values - initial conditions are being selected randomly.\n",
      "  warnings.warn(\n"
     ]
    },
    {
     "output_type": "stream",
     "name": "stdout",
     "text": [
      "query 189\n"
     ]
    },
    {
     "output_type": "stream",
     "name": "stderr",
     "text": [
      "/Users/harabasz/miniforge3/envs/pyroot/lib/python3.11/site-packages/botorch/optim/initializers.py:403: BadInitialCandidatesWarning: Unable to find non-zero acquisition function values - initial conditions are being selected randomly.\n",
      "  warnings.warn(\n"
     ]
    },
    {
     "output_type": "stream",
     "name": "stdout",
     "text": [
      "query 190\n"
     ]
    },
    {
     "output_type": "stream",
     "name": "stderr",
     "text": [
      "/Users/harabasz/miniforge3/envs/pyroot/lib/python3.11/site-packages/botorch/optim/initializers.py:403: BadInitialCandidatesWarning: Unable to find non-zero acquisition function values - initial conditions are being selected randomly.\n",
      "  warnings.warn(\n"
     ]
    },
    {
     "output_type": "stream",
     "name": "stdout",
     "text": [
      "query 191\n"
     ]
    },
    {
     "output_type": "stream",
     "name": "stderr",
     "text": [
      "/Users/harabasz/miniforge3/envs/pyroot/lib/python3.11/site-packages/botorch/optim/initializers.py:403: BadInitialCandidatesWarning: Unable to find non-zero acquisition function values - initial conditions are being selected randomly.\n",
      "  warnings.warn(\n"
     ]
    },
    {
     "output_type": "stream",
     "name": "stdout",
     "text": [
      "query 192\n"
     ]
    },
    {
     "output_type": "stream",
     "name": "stderr",
     "text": [
      "/Users/harabasz/miniforge3/envs/pyroot/lib/python3.11/site-packages/botorch/optim/initializers.py:403: BadInitialCandidatesWarning: Unable to find non-zero acquisition function values - initial conditions are being selected randomly.\n",
      "  warnings.warn(\n"
     ]
    },
    {
     "output_type": "stream",
     "name": "stdout",
     "text": [
      "query 193\n"
     ]
    },
    {
     "output_type": "stream",
     "name": "stderr",
     "text": [
      "/Users/harabasz/miniforge3/envs/pyroot/lib/python3.11/site-packages/botorch/optim/initializers.py:403: BadInitialCandidatesWarning: Unable to find non-zero acquisition function values - initial conditions are being selected randomly.\n",
      "  warnings.warn(\n"
     ]
    },
    {
     "output_type": "stream",
     "name": "stdout",
     "text": [
      "query 194\n"
     ]
    },
    {
     "output_type": "stream",
     "name": "stderr",
     "text": [
      "/Users/harabasz/miniforge3/envs/pyroot/lib/python3.11/site-packages/botorch/optim/initializers.py:403: BadInitialCandidatesWarning: Unable to find non-zero acquisition function values - initial conditions are being selected randomly.\n",
      "  warnings.warn(\n"
     ]
    },
    {
     "output_type": "stream",
     "name": "stdout",
     "text": [
      "query 195\n"
     ]
    },
    {
     "output_type": "stream",
     "name": "stderr",
     "text": [
      "/Users/harabasz/miniforge3/envs/pyroot/lib/python3.11/site-packages/botorch/optim/initializers.py:403: BadInitialCandidatesWarning: Unable to find non-zero acquisition function values - initial conditions are being selected randomly.\n",
      "  warnings.warn(\n"
     ]
    },
    {
     "output_type": "stream",
     "name": "stdout",
     "text": [
      "query 196\n"
     ]
    },
    {
     "output_type": "stream",
     "name": "stderr",
     "text": [
      "/Users/harabasz/miniforge3/envs/pyroot/lib/python3.11/site-packages/botorch/optim/initializers.py:403: BadInitialCandidatesWarning: Unable to find non-zero acquisition function values - initial conditions are being selected randomly.\n",
      "  warnings.warn(\n"
     ]
    },
    {
     "output_type": "stream",
     "name": "stdout",
     "text": [
      "query 197\n"
     ]
    },
    {
     "output_type": "stream",
     "name": "stderr",
     "text": [
      "/Users/harabasz/miniforge3/envs/pyroot/lib/python3.11/site-packages/botorch/optim/initializers.py:403: BadInitialCandidatesWarning: Unable to find non-zero acquisition function values - initial conditions are being selected randomly.\n",
      "  warnings.warn(\n"
     ]
    },
    {
     "output_type": "stream",
     "name": "stdout",
     "text": [
      "Before reweighting hists 15:40:10\n",
      "After reweighting hists 15:40:10\n",
      "query 198\n"
     ]
    },
    {
     "output_type": "stream",
     "name": "stderr",
     "text": [
      "/Users/harabasz/miniforge3/envs/pyroot/lib/python3.11/site-packages/botorch/optim/initializers.py:403: BadInitialCandidatesWarning: Unable to find non-zero acquisition function values - initial conditions are being selected randomly.\n",
      "  warnings.warn(\n"
     ]
    },
    {
     "output_type": "stream",
     "name": "stdout",
     "text": [
      "query 199\n"
     ]
    },
    {
     "output_type": "stream",
     "name": "stderr",
     "text": [
      "/Users/harabasz/miniforge3/envs/pyroot/lib/python3.11/site-packages/botorch/optim/initializers.py:403: BadInitialCandidatesWarning: Unable to find non-zero acquisition function values - initial conditions are being selected randomly.\n",
      "  warnings.warn(\n"
     ]
    }
   ],
   "metadata": {}
  },
  {
   "cell_type": "code",
   "execution_count": 10,
   "source": [
    "torch.save(feasible_incumbents, f\"./incumbents.pth\")\n",
    "fout = TFile(\"out.root\", \"RECREATE\")\n",
    "fout.cd()\n",
    "for hist in allHistsMC:\n",
    "    print (\"Writing hist: \", hist.GetName())\n",
    "    hist.Write()\n",
    "for j, hists in enumerate(histsData):\n",
    "    for k, hist in enumerate(hists):\n",
    "            hist.Write()\n",
    "            print (\"Writing hist: \", j, k, hist)\n",
    "fout.Close()"
   ],
   "outputs": [
    {
     "output_type": "stream",
     "name": "stdout",
     "text": [
      "Writing hist:  hist_150to300_p01p08_MC_iter2\n",
      "Writing hist:  hist_150to300_p01p08_MC_iter3\n",
      "Writing hist:  hist_150to300_p01p08_MC_iter4\n",
      "Writing hist:  hist_150to300_p01p08_MC_iter5\n",
      "Writing hist:  hist_150to300_p01p08_MC_iter6\n",
      "Writing hist:  hist_150to300_p01p08_MC_iter7\n",
      "Writing hist:  hist_150to300_p01p08_MC_iter8\n",
      "Writing hist:  hist_150to300_p01p08_MC_iter9\n",
      "Writing hist:  hist_150to300_p01p08_MC_iter10\n",
      "Writing hist:  hist_150to300_p01p08_MC_iter11\n",
      "Writing hist:  hist_150to300_p01p08_MC_iter12\n",
      "Writing hist:  hist_150to300_p01p08_MC_iter13\n",
      "Writing hist:  hist_150to300_p01p08_MC_iter14\n",
      "Writing hist:  hist_150to300_p01p08_MC_iter15\n",
      "Writing hist:  hist_150to300_p01p08_MC_iter16\n",
      "Writing hist:  hist_150to300_p01p08_MC_iter17\n",
      "Writing hist:  hist_150to300_p01p08_MC_iter18\n",
      "Writing hist:  hist_150to300_p01p08_MC_iter19\n",
      "Writing hist:  hist_150to300_p01p08_MC_iter20\n",
      "Writing hist:  hist_150to300_p01p08_MC_iter21\n",
      "Writing hist:  hist_150to300_p01p08_MC_iter22\n",
      "Writing hist:  hist_150to300_p01p08_MC_iter23\n",
      "Writing hist:  hist_150to300_p01p08_MC_iter24\n",
      "Writing hist:  hist_150to300_p01p08_MC_iter25\n",
      "Writing hist:  hist_150to300_p01p08_MC_iter26\n",
      "Writing hist:  hist_150to300_p01p08_MC_iter27\n",
      "Writing hist:  hist_150to300_p01p08_MC_iter28\n",
      "Writing hist:  hist_150to300_p01p08_MC_iter29\n",
      "Writing hist:  hist_150to300_p01p08_MC_iter30\n",
      "Writing hist:  hist_150to300_p01p08_MC_iter31\n",
      "Writing hist:  hist_150to300_p01p08_MC_iter32\n",
      "Writing hist:  hist_150to300_p01p08_MC_iter33\n",
      "Writing hist:  hist_150to300_p01p08_MC_iter34\n",
      "Writing hist:  hist_150to300_p01p08_MC_iter35\n",
      "Writing hist:  hist_150to300_p01p08_MC_iter36\n",
      "Writing hist:  hist_150to300_p01p08_MC_iter37\n",
      "Writing hist:  hist_150to300_p01p08_MC_iter38\n",
      "Writing hist:  hist_150to300_p01p08_MC_iter39\n",
      "Writing hist:  hist_150to300_p01p08_MC_iter40\n",
      "Writing hist:  hist_150to300_p01p08_MC_iter41\n",
      "Writing hist:  hist_150to300_p01p08_MC_iter42\n",
      "Writing hist:  hist_150to300_p01p08_MC_iter43\n",
      "Writing hist:  hist_150to300_p01p08_MC_iter44\n",
      "Writing hist:  hist_150to300_p01p08_MC_iter45\n",
      "Writing hist:  hist_150to300_p01p08_MC_iter46\n",
      "Writing hist:  hist_150to300_p01p08_MC_iter47\n",
      "Writing hist:  hist_150to300_p01p08_MC_iter48\n",
      "Writing hist:  hist_150to300_p01p08_MC_iter49\n",
      "Writing hist:  hist_150to300_p01p08_MC_iter50\n",
      "Writing hist:  hist_150to300_p01p08_MC_iter51\n",
      "Writing hist:  hist_150to300_p01p08_MC_iter52\n",
      "Writing hist:  hist_150to300_p01p08_MC_iter53\n",
      "Writing hist:  hist_150to300_p01p08_MC_iter54\n",
      "Writing hist:  hist_150to300_p01p08_MC_iter55\n",
      "Writing hist:  hist_150to300_p01p08_MC_iter56\n",
      "Writing hist:  hist_150to300_p01p08_MC_iter57\n",
      "Writing hist:  hist_150to300_p01p08_MC_iter58\n",
      "Writing hist:  hist_150to300_p01p08_MC_iter59\n",
      "Writing hist:  hist_150to300_p01p08_MC_iter60\n",
      "Writing hist:  hist_150to300_p01p08_MC_iter61\n",
      "Writing hist:  hist_150to300_p01p08_MC_iter62\n",
      "Writing hist:  hist_150to300_p01p08_MC_iter63\n",
      "Writing hist:  hist_150to300_p01p08_MC_iter64\n",
      "Writing hist:  hist_150to300_p01p08_MC_iter65\n",
      "Writing hist:  hist_150to300_p01p08_MC_iter66\n",
      "Writing hist:  hist_150to300_p01p08_MC_iter67\n",
      "Writing hist:  hist_150to300_p01p08_MC_iter68\n",
      "Writing hist:  hist_150to300_p01p08_MC_iter69\n",
      "Writing hist:  hist_150to300_p01p08_MC_iter70\n",
      "Writing hist:  hist_150to300_p01p08_MC_iter71\n",
      "Writing hist:  hist_150to300_p01p08_MC_iter72\n",
      "Writing hist:  hist_150to300_p01p08_MC_iter73\n",
      "Writing hist:  hist_150to300_p01p08_MC_iter74\n",
      "Writing hist:  hist_150to300_p01p08_MC_iter75\n",
      "Writing hist:  hist_150to300_p01p08_MC_iter76\n",
      "Writing hist:  hist_150to300_p01p08_MC_iter77\n",
      "Writing hist:  hist_150to300_p01p08_MC_iter78\n",
      "Writing hist:  hist_150to300_p01p08_MC_iter79\n",
      "Writing hist:  hist_150to300_p01p08_MC_iter80\n",
      "Writing hist:  hist_150to300_p01p08_MC_iter81\n",
      "Writing hist:  hist_150to300_p01p08_MC_iter82\n",
      "Writing hist:  hist_150to300_p01p08_MC_iter83\n",
      "Writing hist:  hist_150to300_p01p08_MC_iter84\n",
      "Writing hist:  hist_150to300_p01p08_MC_iter85\n",
      "Writing hist:  hist_150to300_p01p08_MC_iter86\n",
      "Writing hist:  hist_150to300_p01p08_MC_iter87\n",
      "Writing hist:  hist_150to300_p01p08_MC_iter88\n",
      "Writing hist:  hist_150to300_p01p08_MC_iter89\n",
      "Writing hist:  hist_150to300_p01p08_MC_iter90\n",
      "Writing hist:  hist_150to300_p01p08_MC_iter91\n",
      "Writing hist:  hist_150to300_p01p08_MC_iter92\n",
      "Writing hist:  hist_150to300_p01p08_MC_iter93\n",
      "Writing hist:  hist_150to300_p01p08_MC_iter94\n",
      "Writing hist:  hist_150to300_p01p08_MC_iter95\n",
      "Writing hist:  hist_150to300_p01p08_MC_iter96\n",
      "Writing hist:  hist_150to300_p01p08_MC_iter97\n",
      "Writing hist:  hist_150to300_p01p08_MC_iter98\n",
      "Writing hist:  hist_150to300_p01p08_MC_iter99\n",
      "Writing hist:  hist_150to300_p01p08_MC_iter100\n",
      "Writing hist:  hist_150to300_p01p08_MC_iter101\n",
      "Writing hist:  hist_150to300_p01p08_MC_iter102\n",
      "Writing hist:  hist_150to300_p01p08_MC_iter103\n",
      "Writing hist:  hist_150to300_p01p08_MC_iter104\n",
      "Writing hist:  hist_150to300_p01p08_MC_iter105\n",
      "Writing hist:  hist_150to300_p01p08_MC_iter106\n",
      "Writing hist:  hist_150to300_p01p08_MC_iter107\n",
      "Writing hist:  hist_150to300_p01p08_MC_iter108\n",
      "Writing hist:  hist_150to300_p01p08_MC_iter109\n",
      "Writing hist:  hist_150to300_p01p08_MC_iter110\n",
      "Writing hist:  hist_150to300_p01p08_MC_iter111\n",
      "Writing hist:  hist_150to300_p01p08_MC_iter112\n",
      "Writing hist:  hist_150to300_p01p08_MC_iter113\n",
      "Writing hist:  hist_150to300_p01p08_MC_iter114\n",
      "Writing hist:  hist_150to300_p01p08_MC_iter115\n",
      "Writing hist:  hist_150to300_p01p08_MC_iter116\n",
      "Writing hist:  hist_150to300_p01p08_MC_iter117\n",
      "Writing hist:  hist_150to300_p01p08_MC_iter118\n",
      "Writing hist:  hist_150to300_p01p08_MC_iter119\n",
      "Writing hist:  hist_150to300_p01p08_MC_iter120\n",
      "Writing hist:  hist_150to300_p01p08_MC_iter121\n",
      "Writing hist:  hist_150to300_p01p08_MC_iter122\n",
      "Writing hist:  hist_150to300_p01p08_MC_iter123\n",
      "Writing hist:  hist_150to300_p01p08_MC_iter124\n",
      "Writing hist:  hist_150to300_p01p08_MC_iter125\n",
      "Writing hist:  hist_150to300_p01p08_MC_iter126\n",
      "Writing hist:  hist_150to300_p01p08_MC_iter127\n",
      "Writing hist:  hist_150to300_p01p08_MC_iter128\n",
      "Writing hist:  hist_150to300_p01p08_MC_iter129\n",
      "Writing hist:  hist_150to300_p01p08_MC_iter130\n",
      "Writing hist:  hist_150to300_p01p08_MC_iter131\n",
      "Writing hist:  hist_150to300_p01p08_MC_iter132\n",
      "Writing hist:  hist_150to300_p01p08_MC_iter133\n",
      "Writing hist:  hist_150to300_p01p08_MC_iter134\n",
      "Writing hist:  hist_150to300_p01p08_MC_iter135\n",
      "Writing hist:  hist_150to300_p01p08_MC_iter136\n",
      "Writing hist:  hist_150to300_p01p08_MC_iter137\n",
      "Writing hist:  hist_150to300_p01p08_MC_iter138\n",
      "Writing hist:  hist_150to300_p01p08_MC_iter139\n",
      "Writing hist:  hist_150to300_p01p08_MC_iter140\n",
      "Writing hist:  hist_150to300_p01p08_MC_iter141\n",
      "Writing hist:  hist_150to300_p01p08_MC_iter142\n",
      "Writing hist:  hist_150to300_p01p08_MC_iter143\n",
      "Writing hist:  hist_150to300_p01p08_MC_iter144\n",
      "Writing hist:  hist_150to300_p01p08_MC_iter145\n",
      "Writing hist:  hist_150to300_p01p08_MC_iter146\n",
      "Writing hist:  hist_150to300_p01p08_MC_iter147\n",
      "Writing hist:  hist_150to300_p01p08_MC_iter148\n",
      "Writing hist:  hist_150to300_p01p08_MC_iter149\n",
      "Writing hist:  hist_150to300_p01p08_MC_iter150\n",
      "Writing hist:  hist_150to300_p01p08_MC_iter151\n",
      "Writing hist:  hist_150to300_p01p08_MC_iter152\n",
      "Writing hist:  hist_150to300_p01p08_MC_iter153\n",
      "Writing hist:  hist_150to300_p01p08_MC_iter154\n",
      "Writing hist:  hist_150to300_p01p08_MC_iter155\n",
      "Writing hist:  hist_150to300_p01p08_MC_iter156\n",
      "Writing hist:  hist_150to300_p01p08_MC_iter157\n",
      "Writing hist:  hist_150to300_p01p08_MC_iter158\n",
      "Writing hist:  hist_150to300_p01p08_MC_iter159\n",
      "Writing hist:  hist_150to300_p01p08_MC_iter160\n",
      "Writing hist:  hist_150to300_p01p08_MC_iter161\n",
      "Writing hist:  hist_150to300_p01p08_MC_iter162\n",
      "Writing hist:  hist_150to300_p01p08_MC_iter163\n",
      "Writing hist:  hist_150to300_p01p08_MC_iter164\n",
      "Writing hist:  hist_150to300_p01p08_MC_iter165\n",
      "Writing hist:  hist_150to300_p01p08_MC_iter166\n",
      "Writing hist:  hist_150to300_p01p08_MC_iter167\n",
      "Writing hist:  hist_150to300_p01p08_MC_iter168\n",
      "Writing hist:  hist_150to300_p01p08_MC_iter169\n",
      "Writing hist:  hist_150to300_p01p08_MC_iter170\n",
      "Writing hist:  hist_150to300_p01p08_MC_iter171\n",
      "Writing hist:  hist_150to300_p01p08_MC_iter172\n",
      "Writing hist:  hist_150to300_p01p08_MC_iter173\n",
      "Writing hist:  hist_150to300_p01p08_MC_iter174\n",
      "Writing hist:  hist_150to300_p01p08_MC_iter175\n",
      "Writing hist:  hist_150to300_p01p08_MC_iter176\n",
      "Writing hist:  hist_150to300_p01p08_MC_iter177\n",
      "Writing hist:  hist_150to300_p01p08_MC_iter178\n",
      "Writing hist:  hist_150to300_p01p08_MC_iter179\n",
      "Writing hist:  hist_150to300_p01p08_MC_iter180\n",
      "Writing hist:  hist_150to300_p01p08_MC_iter181\n",
      "Writing hist:  hist_150to300_p01p08_MC_iter182\n",
      "Writing hist:  hist_150to300_p01p08_MC_iter183\n",
      "Writing hist:  hist_150to300_p01p08_MC_iter184\n",
      "Writing hist:  hist_150to300_p01p08_MC_iter185\n",
      "Writing hist:  hist_150to300_p01p08_MC_iter186\n",
      "Writing hist:  hist_150to300_p01p08_MC_iter187\n",
      "Writing hist:  hist_150to300_p01p08_MC_iter188\n",
      "Writing hist:  hist_150to300_p01p08_MC_iter189\n",
      "Writing hist:  hist_150to300_p01p08_MC_iter190\n",
      "Writing hist:  hist_150to300_p01p08_MC_iter191\n",
      "Writing hist:  hist_150to300_p01p08_MC_iter192\n",
      "Writing hist:  hist_150to300_p01p08_MC_iter193\n",
      "Writing hist:  hist_150to300_p01p08_MC_iter194\n",
      "Writing hist:  hist_150to300_p01p08_MC_iter195\n",
      "Writing hist:  hist_150to300_p01p08_MC_iter196\n",
      "Writing hist:  hist_150to300_p01p08_MC_iter197\n",
      "Writing hist:  hist_150to300_p01p08_MC_iter198\n",
      "Writing hist:  hist_150to300_p01p08_MC_iter199\n",
      "Writing hist:  hist_150to300_p01p08_MC_iter200\n",
      "Writing hist:  hist_150to300_p01p08_MC_iter201\n",
      "Writing hist:  hist_150to300_p01p08_MC_iter202\n",
      "Writing hist:  0 0 Name: hist_0to150_m06m02_data_iter1 Title: hist_0to150_m06m02_data_iter1 NbinsX: 20\n",
      "Writing hist:  0 1 Name: hist_0to150_m02p01_data_iter1 Title: hist_0to150_m02p01_data_iter1 NbinsX: 20\n",
      "Writing hist:  0 2 Name: hist_0to150_p01p08_data_iter1 Title: hist_0to150_p01p08_data_iter1 NbinsX: 20\n",
      "Writing hist:  0 3 Name: hist_150to300_m06m02_data_iter1 Title: hist_150to300_m06m02_data_iter1 NbinsX: 20\n",
      "Writing hist:  0 4 Name: hist_150to300_m02p01_data_iter1 Title: hist_150to300_m02p01_data_iter1 NbinsX: 20\n",
      "Writing hist:  0 5 Name: hist_150to300_p01p08_data_iter1 Title: hist_150to300_p01p08_data_iter1 NbinsX: 20\n",
      "Writing hist:  0 6 Name: hist_300to450_m06m02_data_iter1 Title: hist_300to450_m06m02_data_iter1 NbinsX: 20\n",
      "Writing hist:  0 7 Name: hist_300to450_m02p01_data_iter1 Title: hist_300to450_m02p01_data_iter1 NbinsX: 20\n",
      "Writing hist:  0 8 Name: hist_300to450_p01p08_data_iter1 Title: hist_300to450_p01p08_data_iter1 NbinsX: 20\n",
      "Writing hist:  0 9 Name: hist_450to600_m06m02_data_iter1 Title: hist_450to600_m06m02_data_iter1 NbinsX: 20\n",
      "Writing hist:  0 10 Name: hist_450to600_m02p01_data_iter1 Title: hist_450to600_m02p01_data_iter1 NbinsX: 20\n",
      "Writing hist:  0 11 Name: hist_450to600_p01p08_data_iter1 Title: hist_450to600_p01p08_data_iter1 NbinsX: 20\n",
      "Writing hist:  1 0 Name: hmass_data Title: hmass_data NbinsX: 100\n",
      "Writing hist:  2 0 Name: hz_data Title: hz_data NbinsX: 100\n"
     ]
    }
   ],
   "metadata": {}
  },
  {
   "cell_type": "code",
   "execution_count": 11,
   "source": [
    "t = torch.tensor( [ [-1.0000, -0.4678,  0.5433]])\n",
    "print(t)\n",
    "print(t.shape)"
   ],
   "outputs": [
    {
     "output_type": "stream",
     "name": "stdout",
     "text": [
      "tensor([[-1.0000, -0.4678,  0.5433]])\n",
      "torch.Size([1, 3])\n"
     ]
    }
   ],
   "metadata": {}
  },
  {
   "cell_type": "code",
   "execution_count": 12,
   "source": [
    "with torch.no_grad():\n",
    "    predictive_distribution = utility_likelihood(utility_model(xs))\n",
    "    predictive_mean = predictive_distribution.mean\n",
    "    predictive_lower, predictive_upper = predictive_distribution.confidence_region()\n"
   ],
   "outputs": [],
   "metadata": {}
  },
  {
   "cell_type": "code",
   "execution_count": 13,
   "source": [
    "from ipywidgets import interact, Layout, IntSlider\n",
    "import numpy as np\n",
    "\n",
    "axis_titles = [r\"R of cone coordinates\", r\"$\\Phi$ of cone coordinates\", r\"Z of cone coordinates\"]\n",
    "\n",
    "def oneplot(ax, tensor, index, cmap, title, transpose=None):\n",
    "        \n",
    "        global xs\n",
    "        tensor_3d = torch.reshape(tensor, (101,101,101))\n",
    "        xs_3d = torch.reshape(xs, (101,101,101,3))\n",
    "        if transpose:\n",
    "               tensor_3d = tensor_3d.transpose(transpose[0],transpose[1])\n",
    "               xs_3d     = xs_3d    .transpose(transpose[0],transpose[1])\n",
    "        if transpose is None:\n",
    "                extent=[\n",
    "                        xs_3d[0][0][0][1],\n",
    "                        xs_3d[0][-1][0][1],\n",
    "                        xs_3d[0][0][0][2],\n",
    "                        xs_3d[0][0][-1][2],\n",
    "                ]\n",
    "        elif transpose == (0,1):\n",
    "                extent=[\n",
    "                        xs_3d[0][0][0][0],\n",
    "                        xs_3d[0][-1][0][0],\n",
    "                        xs_3d[0][0][0][2],\n",
    "                        xs_3d[0][0][-1][2],\n",
    "                ]\n",
    "        elif transpose == (0,2):\n",
    "                extent=[\n",
    "                        xs_3d[0][0][0][1],\n",
    "                        xs_3d[0][-1][0][1],\n",
    "                        xs_3d[0][0][0][0],\n",
    "                        xs_3d[0][0][-1][0],\n",
    "                ]\n",
    "        if transpose is None:\n",
    "                x_title=axis_titles[1]\n",
    "                y_title=axis_titles[2]\n",
    "        elif transpose == (0, 1):\n",
    "                x_title=axis_titles[0]\n",
    "                y_title=axis_titles[2]\n",
    "        elif transpose == (0,2):\n",
    "                x_title=axis_titles[1]\n",
    "                y_title=axis_titles[0]\n",
    "        \n",
    "        pos = ax.imshow(tensor_3d[index], cmap=cmap, interpolation=\"nearest\", origin=\"lower\", \n",
    "                vmin=tensor.min(), vmax=tensor.max(), extent=extent)\n",
    "        ax.set_aspect((extent[1]-extent[0])/(extent[3]-extent[2]))\n",
    "        ax.set_title(title)\n",
    "        ax.set_xlabel(x_title)\n",
    "        ax.set_ylabel(y_title)\n",
    "        plt.colorbar(pos,fraction=0.046, pad=0.04)\n",
    "\n",
    "def ff(x, transpose):\n",
    "        cmap = \"gist_rainbow\"\n",
    "        fig, ax = plt.subplots(nrows=1, ncols=2, sharey=True)\n",
    "        oneplot(ax[0], predictive_mean, x, cmap, \"value\", transpose)\n",
    "        oneplot(ax[1], predictive_upper-predictive_lower, x, cmap, \"confidence int. width\", transpose)\n",
    "\n",
    "def f(x):\n",
    "        ff(x, None)\n",
    "\n",
    "interact(f, x=IntSlider(50, 0, 100, 1, layout=Layout(width='500px')))\n"
   ],
   "outputs": [
    {
     "output_type": "display_data",
     "data": {
      "application/vnd.jupyter.widget-view+json": {
       "version_major": 2,
       "version_minor": 0,
       "model_id": "60a8e74762234c3f8b8bcf423c3adeb9"
      },
      "text/plain": [
       "interactive(children=(IntSlider(value=50, description='x', layout=Layout(width='500px')), Output()), _dom_clas…"
      ]
     },
     "metadata": {}
    },
    {
     "output_type": "execute_result",
     "data": {
      "text/plain": [
       "<function __main__.f(x)>"
      ]
     },
     "metadata": {},
     "execution_count": 13
    }
   ],
   "metadata": {}
  },
  {
   "cell_type": "code",
   "execution_count": 14,
   "source": [
    "def g(x):\n",
    "        ff(x, (0,1))\n",
    "           \n",
    "interact(g, x=IntSlider(50, 0, 100, 1, layout=Layout(width='500px')))"
   ],
   "outputs": [
    {
     "output_type": "display_data",
     "data": {
      "application/vnd.jupyter.widget-view+json": {
       "version_major": 2,
       "version_minor": 0,
       "model_id": "ef73bfd98b0a40dc945cefca0008bcf2"
      },
      "text/plain": [
       "interactive(children=(IntSlider(value=50, description='x', layout=Layout(width='500px')), Output()), _dom_clas…"
      ]
     },
     "metadata": {}
    },
    {
     "output_type": "execute_result",
     "data": {
      "text/plain": [
       "<function __main__.g(x)>"
      ]
     },
     "metadata": {},
     "execution_count": 14
    }
   ],
   "metadata": {}
  },
  {
   "cell_type": "code",
   "execution_count": 15,
   "source": [
    "def h(x):\n",
    "        ff(x, (0,2))\n",
    "           \n",
    "interact(h, x=IntSlider(50, 0, 100, 1, layout=Layout(width='500px')))"
   ],
   "outputs": [
    {
     "output_type": "display_data",
     "data": {
      "application/vnd.jupyter.widget-view+json": {
       "version_major": 2,
       "version_minor": 0,
       "model_id": "90c2596f6d9e4359827a7692392cd5f7"
      },
      "text/plain": [
       "interactive(children=(IntSlider(value=50, description='x', layout=Layout(width='500px')), Output()), _dom_clas…"
      ]
     },
     "metadata": {}
    },
    {
     "output_type": "execute_result",
     "data": {
      "text/plain": [
       "<function __main__.h(x)>"
      ]
     },
     "metadata": {},
     "execution_count": 15
    }
   ],
   "metadata": {}
  },
  {
   "cell_type": "code",
   "execution_count": 16,
   "source": [
    "lds = all_lambdas(train_x)\n",
    "lambda_thetas     = lds.transpose(-2,-1)[0]\n",
    "lambda_phis       = lds.transpose(-2,-1)[1]\n",
    "lambda_theta_phis = lds.transpose(-2,-1)[2]\n",
    "c = torch.stack((\n",
    "    torch.arange(0,200, dtype=int),\n",
    "    lambda_thetas[0:200],\n",
    "    lambda_phis[0:200],\n",
    "    lambda_theta_phis[0:200],\n",
    "    train_utility.squeeze()[0:200],\n",
    "    (feasible_incumbents==feasible_incumbents.max())[0],\n",
    "    feasible_incumbents[0]\n",
    "),0).transpose(-2,-1)\n",
    "torch.set_printoptions(precision=4,threshold=10_000, linewidth=120)\n",
    "print(c)"
   ],
   "outputs": [
    {
     "output_type": "stream",
     "name": "stdout",
     "text": [
      "tensor([[ 0.0000e+00,  1.4517e-01, -3.9563e-01, -3.4861e-01,  2.4397e+03,  0.0000e+00,  2.4397e+03],\n",
      "        [ 1.0000e+00,  4.3991e-01, -4.5304e-03, -3.2986e-01,  3.8093e+03,  0.0000e+00,  3.8093e+03],\n",
      "        [ 2.0000e+00, -3.7373e-01, -1.9562e-01, -3.7715e-01,  2.5717e+03,  0.0000e+00,  3.8093e+03],\n",
      "        [ 3.0000e+00,  2.9956e-01,  8.5219e-02, -9.7784e-02,  4.0231e+03,  0.0000e+00,  4.0231e+03],\n",
      "        [ 4.0000e+00,  4.2359e-01,  2.7046e-01, -2.9994e-01,  3.3113e+03,  0.0000e+00,  4.0231e+03],\n",
      "        [ 5.0000e+00,  2.7676e-01,  7.2927e-02, -2.1392e-01,  3.8943e+03,  0.0000e+00,  4.0231e+03],\n",
      "        [ 6.0000e+00,  2.6935e-01,  4.7759e-02, -1.0734e-01,  4.0280e+03,  0.0000e+00,  4.0280e+03],\n",
      "        [ 7.0000e+00,  8.1512e-01, -4.1922e-01, -3.0096e-01,  2.7610e+03,  0.0000e+00,  4.0280e+03],\n",
      "        [ 8.0000e+00,  7.4537e-01,  6.9733e-01, -6.4723e-02,  1.9396e+03,  0.0000e+00,  4.0280e+03],\n",
      "        [ 9.0000e+00,  2.4269e-01, -2.7564e-01, -3.1777e-02,  3.1691e+03,  0.0000e+00,  4.0280e+03],\n",
      "        [ 1.0000e+01,  1.4836e-01, -3.8173e-01, -8.6798e-02,  2.6294e+03,  0.0000e+00,  4.0280e+03],\n",
      "        [ 1.1000e+01,  7.9639e-01,  4.3669e-02,  2.5143e-01,  3.9885e+03,  0.0000e+00,  4.0280e+03],\n",
      "        [ 1.2000e+01,  6.2049e-02, -3.5287e-01, -4.6880e-02,  2.6710e+03,  0.0000e+00,  4.0280e+03],\n",
      "        [ 1.3000e+01,  7.6354e-01, -5.2458e-01, -3.6800e-01,  2.2875e+03,  0.0000e+00,  4.0280e+03],\n",
      "        [ 1.4000e+01,  9.3466e-01, -1.0868e-01, -1.7219e-01,  4.1564e+03,  0.0000e+00,  4.1564e+03],\n",
      "        [ 1.5000e+01,  7.8169e-01,  7.0871e-02, -1.5177e-01,  4.3066e+03,  0.0000e+00,  4.3066e+03],\n",
      "        [ 1.6000e+01,  7.9796e-01,  1.0729e-02, -1.4499e-01,  4.3455e+03,  0.0000e+00,  4.3455e+03],\n",
      "        [ 1.7000e+01,  7.1777e-01,  3.2134e-01,  1.9081e-02,  3.5053e+03,  0.0000e+00,  4.3455e+03],\n",
      "        [ 1.8000e+01,  2.8132e-01, -3.0803e-01, -4.9642e-01,  2.6246e+03,  0.0000e+00,  4.3455e+03],\n",
      "        [ 1.9000e+01,  2.2144e-01, -6.8525e-02,  4.0475e-01,  2.9694e+03,  0.0000e+00,  4.3455e+03],\n",
      "        [ 2.0000e+01,  3.4581e-01,  2.7743e-01, -1.0764e-02,  3.4524e+03,  0.0000e+00,  4.3455e+03],\n",
      "        [ 2.1000e+01,  6.8702e-01, -4.0942e-01,  4.8467e-02,  2.8197e+03,  0.0000e+00,  4.3455e+03],\n",
      "        [ 2.2000e+01,  5.9315e-01, -2.3427e-01,  4.1164e-02,  3.5827e+03,  0.0000e+00,  4.3455e+03],\n",
      "        [ 2.3000e+01,  7.2507e-01, -8.1900e-01, -4.5000e-01,  1.4263e+03,  0.0000e+00,  4.3455e+03],\n",
      "        [ 2.4000e+01,  7.9372e-01,  2.3725e-01,  2.6576e-02,  3.9120e+03,  0.0000e+00,  4.3455e+03],\n",
      "        [ 2.5000e+01,  1.5817e-01,  4.3209e-01,  1.9571e-01,  2.4470e+03,  0.0000e+00,  4.3455e+03],\n",
      "        [ 2.6000e+01,  8.5853e-01,  4.4470e-02,  6.3861e-02,  4.3789e+03,  0.0000e+00,  4.3789e+03],\n",
      "        [ 2.7000e+01,  8.0671e-01, -1.4146e-02,  1.0865e-01,  4.2848e+03,  0.0000e+00,  4.3789e+03],\n",
      "        [ 2.8000e+01,  8.5798e-01,  2.9517e-02,  6.1382e-02,  4.3847e+03,  0.0000e+00,  4.3847e+03],\n",
      "        [ 2.9000e+01,  6.6090e-01, -2.8051e-01, -2.2061e-01,  3.3670e+03,  0.0000e+00,  4.3847e+03],\n",
      "        [ 3.0000e+01,  8.0254e-01, -3.5436e-01,  2.8177e-01,  2.8437e+03,  0.0000e+00,  4.3847e+03],\n",
      "        [ 3.1000e+01,  3.7579e-01,  2.4720e-02,  1.3559e-02,  4.1292e+03,  0.0000e+00,  4.3847e+03],\n",
      "        [ 3.2000e+01,  9.3120e-01,  4.3604e-01,  8.8035e-02,  3.0347e+03,  0.0000e+00,  4.3847e+03],\n",
      "        [ 3.3000e+01,  5.2962e-01,  9.1916e-02, -1.7826e-01,  4.1212e+03,  0.0000e+00,  4.3847e+03],\n",
      "        [ 3.4000e+01, -2.6774e-01, -2.7367e-02, -6.1198e-02,  3.3064e+03,  0.0000e+00,  4.3847e+03],\n",
      "        [ 3.5000e+01,  1.0706e-01, -4.8088e-01,  1.3452e-01,  2.0906e+03,  0.0000e+00,  4.3847e+03],\n",
      "        [ 3.6000e+01,  6.7858e-01,  4.6675e-01,  4.0268e-02,  2.7938e+03,  0.0000e+00,  4.3847e+03],\n",
      "        [ 3.7000e+01,  4.8824e-02, -4.3953e-01,  3.0926e-01,  1.9953e+03,  0.0000e+00,  4.3847e+03],\n",
      "        [ 3.8000e+01,  6.6982e-01,  6.2992e-01,  3.9377e-02,  2.1250e+03,  0.0000e+00,  4.3847e+03],\n",
      "        [ 3.9000e+01,  3.3040e-01,  1.4773e-01,  1.7590e-02,  3.9048e+03,  0.0000e+00,  4.3847e+03],\n",
      "        [ 4.0000e+01,  4.1256e-01,  3.7166e-01, -2.2215e-01,  2.9887e+03,  0.0000e+00,  4.3847e+03],\n",
      "        [ 4.1000e+01, -1.9184e-01, -3.4910e-01,  3.0477e-02,  2.4014e+03,  0.0000e+00,  4.3847e+03],\n",
      "        [ 4.2000e+01, -1.7729e-01,  1.5632e-02, -2.7144e-01,  3.3073e+03,  0.0000e+00,  4.3847e+03],\n",
      "        [ 4.3000e+01,  2.4076e-01,  2.0562e-01, -8.3449e-02,  3.6468e+03,  0.0000e+00,  4.3847e+03],\n",
      "        [ 4.4000e+01,  7.5199e-01, -9.8511e-02, -7.8727e-02,  4.2131e+03,  0.0000e+00,  4.3847e+03],\n",
      "        [ 4.5000e+01,  8.7192e-01,  2.1610e-01, -6.1367e-02,  4.0322e+03,  0.0000e+00,  4.3847e+03],\n",
      "        [ 4.6000e+01, -2.2863e-01, -3.2026e-01,  1.1464e-01,  2.3931e+03,  0.0000e+00,  4.3847e+03],\n",
      "        [ 4.7000e+01,  1.3353e-01,  2.3880e-01,  3.3754e-02,  3.3749e+03,  0.0000e+00,  4.3847e+03],\n",
      "        [ 4.8000e+01, -4.9459e-02, -9.0306e-03,  2.5886e-02,  3.5953e+03,  0.0000e+00,  4.3847e+03],\n",
      "        [ 4.9000e+01,  4.0526e-01, -4.3748e-01, -9.1802e-02,  2.5758e+03,  0.0000e+00,  4.3847e+03],\n",
      "        [ 5.0000e+01,  3.2286e-01, -1.5582e-01,  3.6824e-01,  3.0013e+03,  0.0000e+00,  4.3847e+03],\n",
      "        [ 5.1000e+01,  7.1334e-01,  3.9208e-01,  4.9370e-02,  3.1551e+03,  0.0000e+00,  4.3847e+03],\n",
      "        [ 5.2000e+01,  1.9809e-01,  2.8553e-01, -9.7516e-03,  3.2766e+03,  0.0000e+00,  4.3847e+03],\n",
      "        [ 5.3000e+01,  2.9096e-01, -2.2213e-01, -1.4662e-01,  3.4355e+03,  0.0000e+00,  4.3847e+03],\n",
      "        [ 5.4000e+01,  5.2692e-01, -6.5829e-01,  3.9989e-01,  1.5674e+03,  0.0000e+00,  4.3847e+03],\n",
      "        [ 5.5000e+01,  6.8750e-01, -1.5813e-01, -3.1829e-04,  3.9825e+03,  0.0000e+00,  4.3847e+03],\n",
      "        [ 5.6000e+01,  4.9694e-01,  4.8479e-01,  2.8468e-02,  2.6085e+03,  0.0000e+00,  4.3847e+03],\n",
      "        [ 5.7000e+01,  6.5331e-01, -2.6809e-01, -9.5826e-02,  3.5007e+03,  0.0000e+00,  4.3847e+03],\n",
      "        [ 5.8000e+01, -7.3697e-02,  3.0794e-01,  8.8860e-02,  2.8172e+03,  0.0000e+00,  4.3847e+03],\n",
      "        [ 5.9000e+01, -2.4363e-01,  6.2162e-02, -1.8339e-01,  3.3053e+03,  0.0000e+00,  4.3847e+03],\n",
      "        [ 6.0000e+01,  2.9476e-01, -2.5564e-01,  4.9547e-02,  3.2522e+03,  0.0000e+00,  4.3847e+03],\n",
      "        [ 6.1000e+01,  8.5265e-01, -3.1831e-01,  1.1129e-02,  3.3418e+03,  0.0000e+00,  4.3847e+03],\n",
      "        [ 6.2000e+01,  3.8663e-01, -1.4966e-01, -4.5982e-01,  3.2184e+03,  0.0000e+00,  4.3847e+03],\n",
      "        [ 6.3000e+01, -5.3662e-01,  9.2130e-02,  8.5421e-02,  2.7281e+03,  0.0000e+00,  4.3847e+03],\n",
      "        [ 6.4000e+01,  2.1653e-01, -3.4414e-01,  1.3451e-01,  2.7078e+03,  0.0000e+00,  4.3847e+03],\n",
      "        [ 6.5000e+01,  6.5450e-01,  4.1296e-01, -5.8552e-02,  3.0428e+03,  0.0000e+00,  4.3847e+03],\n",
      "        [ 6.6000e+01,  3.6177e-01, -2.0596e-02,  9.8474e-02,  3.9872e+03,  0.0000e+00,  4.3847e+03],\n",
      "        [ 6.7000e+01,  3.1768e-01, -5.3956e-01, -6.3113e-02,  2.1138e+03,  0.0000e+00,  4.3847e+03],\n",
      "        [ 6.8000e+01, -8.6726e-02, -3.3578e-01, -1.3943e-01,  2.6073e+03,  0.0000e+00,  4.3847e+03],\n",
      "        [ 6.9000e+01,  3.1527e-01,  2.9598e-01, -1.6326e-01,  3.3017e+03,  0.0000e+00,  4.3847e+03],\n",
      "        [ 7.0000e+01,  7.8600e-01,  7.2058e-01, -3.8265e-02,  1.8832e+03,  0.0000e+00,  4.3847e+03],\n",
      "        [ 7.1000e+01,  4.8795e-01,  2.4771e-01,  2.3163e-01,  3.3952e+03,  0.0000e+00,  4.3847e+03],\n",
      "        [ 7.2000e+01,  8.2155e-01, -1.3515e-01,  4.9444e-02,  4.0900e+03,  0.0000e+00,  4.3847e+03],\n",
      "        [ 7.3000e+01,  8.6603e-01,  7.3822e-01, -1.2278e-02,  1.8601e+03,  0.0000e+00,  4.3847e+03],\n",
      "        [ 7.4000e+01,  9.4874e-01, -7.1603e-01, -5.3388e-02,  1.8176e+03,  0.0000e+00,  4.3847e+03],\n",
      "        [ 7.5000e+01,  1.4989e-01, -2.2896e-01, -1.4258e-02,  3.2754e+03,  0.0000e+00,  4.3847e+03],\n",
      "        [ 7.6000e+01,  8.0699e-01, -5.1352e-01,  2.3964e-01,  2.2866e+03,  0.0000e+00,  4.3847e+03],\n",
      "        [ 7.7000e+01,  3.0993e-01, -4.1463e-01, -4.9689e-02,  2.6052e+03,  0.0000e+00,  4.3847e+03],\n",
      "        [ 7.8000e+01,  8.9373e-01,  7.9287e-01,  1.5177e-02,  1.7102e+03,  0.0000e+00,  4.3847e+03],\n",
      "        [ 7.9000e+01,  6.1725e-01,  5.6275e-01, -7.0920e-02,  2.3631e+03,  0.0000e+00,  4.3847e+03],\n",
      "        [ 8.0000e+01,  4.9154e-01, -5.0844e-01, -2.9293e-01,  2.2762e+03,  0.0000e+00,  4.3847e+03],\n",
      "        [ 8.1000e+01,  6.1030e-01,  7.3825e-01,  3.9566e-02,  1.7451e+03,  0.0000e+00,  4.3847e+03],\n",
      "        [ 8.2000e+01,  1.4605e-01, -3.5005e-02,  3.1662e-02,  3.8224e+03,  0.0000e+00,  4.3847e+03],\n",
      "        [ 8.3000e+01, -3.2979e-01,  1.2819e-01, -9.8066e-02,  3.1229e+03,  0.0000e+00,  4.3847e+03],\n",
      "        [ 8.4000e+01,  5.3088e-01,  3.5212e-02, -1.4599e-01,  4.2192e+03,  0.0000e+00,  4.3847e+03],\n",
      "        [ 8.5000e+01, -3.5972e-01,  2.3556e-01,  2.0161e-01,  2.5382e+03,  0.0000e+00,  4.3847e+03],\n",
      "        [ 8.6000e+01,  6.4912e-01,  5.5253e-01,  1.8116e-01,  2.3339e+03,  0.0000e+00,  4.3847e+03],\n",
      "        [ 8.7000e+01,  2.3728e-01, -5.1270e-01,  2.1118e-01,  2.0019e+03,  0.0000e+00,  4.3847e+03],\n",
      "        [ 8.8000e+01,  2.5728e-01, -4.3070e-02, -3.5583e-02,  3.9825e+03,  0.0000e+00,  4.3847e+03],\n",
      "        [ 8.9000e+01,  8.4199e-01,  3.3452e-02,  5.9984e-02,  4.3806e+03,  0.0000e+00,  4.3847e+03],\n",
      "        [ 9.0000e+01,  9.4365e-01,  2.8969e-01,  4.9966e-02,  3.7343e+03,  0.0000e+00,  4.3847e+03],\n",
      "        [ 9.1000e+01,  1.5567e-01, -5.2534e-01,  4.8485e-01,  1.6074e+03,  0.0000e+00,  4.3847e+03],\n",
      "        [ 9.2000e+01,  1.1135e-01, -4.1099e-01,  6.6895e-04,  2.4518e+03,  0.0000e+00,  4.3847e+03],\n",
      "        [ 9.3000e+01, -2.9657e-01, -2.6811e-01, -3.9475e-01,  2.4342e+03,  0.0000e+00,  4.3847e+03],\n",
      "        [ 9.4000e+01,  2.4693e-01, -1.5690e-01, -4.1515e-01,  3.2107e+03,  0.0000e+00,  4.3847e+03],\n",
      "        [ 9.5000e+01,  5.3607e-01, -7.4152e-01,  2.9056e-01,  1.4561e+03,  0.0000e+00,  4.3847e+03],\n",
      "        [ 9.6000e+01,  5.5174e-01,  2.5036e-01,  4.7689e-03,  3.7285e+03,  0.0000e+00,  4.3847e+03],\n",
      "        [ 9.7000e+01,  5.4208e-01, -4.9412e-01, -8.0833e-02,  2.4185e+03,  0.0000e+00,  4.3847e+03],\n",
      "        [ 9.8000e+01, -9.6326e-02, -2.6419e-01,  1.9614e-02,  2.8416e+03,  0.0000e+00,  4.3847e+03],\n",
      "        [ 9.9000e+01,  3.4577e-01, -2.8979e-01, -1.2886e-02,  3.1845e+03,  0.0000e+00,  4.3847e+03],\n",
      "        [ 1.0000e+02, -7.3813e-02,  2.5835e-01, -1.0958e-01,  3.0880e+03,  0.0000e+00,  4.3847e+03],\n",
      "        [ 1.0100e+02,  3.1985e-01,  1.0426e-01,  2.5873e-01,  3.5443e+03,  0.0000e+00,  4.3847e+03],\n",
      "        [ 1.0200e+02,  6.1169e-01, -3.8734e-01, -1.2868e-02,  2.9096e+03,  0.0000e+00,  4.3847e+03],\n",
      "        [ 1.0300e+02, -2.1329e-02,  8.2604e-03,  1.9285e-01,  3.3542e+03,  0.0000e+00,  4.3847e+03],\n",
      "        [ 1.0400e+02,  7.9092e-01,  7.8806e-01, -3.3742e-02,  1.6880e+03,  0.0000e+00,  4.3847e+03],\n",
      "        [ 1.0500e+02,  2.4824e-01, -5.6286e-01, -4.0531e-01,  1.8981e+03,  0.0000e+00,  4.3847e+03],\n",
      "        [ 1.0600e+02,  6.9568e-01,  6.9482e-01, -1.3863e-01,  1.9180e+03,  0.0000e+00,  4.3847e+03],\n",
      "        [ 1.0700e+02,  2.5850e-01, -2.2984e-01, -1.1053e-01,  3.3894e+03,  0.0000e+00,  4.3847e+03],\n",
      "        [ 1.0800e+02,  9.5229e-01, -6.4295e-01, -5.4316e-02,  2.0451e+03,  0.0000e+00,  4.3847e+03],\n",
      "        [ 1.0900e+02,  5.7475e-01,  2.2922e-01,  1.1401e-01,  3.7364e+03,  0.0000e+00,  4.3847e+03],\n",
      "        [ 1.1000e+02, -1.2012e-01,  8.3349e-03, -3.1811e-01,  3.2968e+03,  0.0000e+00,  4.3847e+03],\n",
      "        [ 1.1100e+02,  6.7837e-01,  5.5934e-01,  1.2017e-01,  2.3638e+03,  0.0000e+00,  4.3847e+03],\n",
      "        [ 1.1200e+02,  2.9068e-01,  3.8345e-01, -1.1201e-01,  2.9183e+03,  0.0000e+00,  4.3847e+03],\n",
      "        [ 1.1300e+02,  7.7507e-01,  3.9317e-02, -9.2665e-02,  4.3850e+03,  0.0000e+00,  4.3850e+03],\n",
      "        [ 1.1400e+02, -4.5362e-02, -4.3366e-01,  1.4184e-02,  2.2268e+03,  0.0000e+00,  4.3850e+03],\n",
      "        [ 1.1500e+02,  1.3540e-01, -4.6077e-01, -2.3519e-03,  2.2731e+03,  0.0000e+00,  4.3850e+03],\n",
      "        [ 1.1600e+02, -2.3393e-02,  3.6569e-02, -1.7809e-01,  3.6334e+03,  0.0000e+00,  4.3850e+03],\n",
      "        [ 1.1700e+02,  1.6385e-01, -2.3663e-01,  1.7890e-03,  3.2479e+03,  0.0000e+00,  4.3850e+03],\n",
      "        [ 1.1800e+02,  3.8800e-01,  5.5456e-03,  3.5343e-01,  3.3693e+03,  0.0000e+00,  4.3850e+03],\n",
      "        [ 1.1900e+02,  8.9862e-01, -4.5581e-01,  8.0503e-03,  2.7295e+03,  0.0000e+00,  4.3850e+03],\n",
      "        [ 1.2000e+02,  1.0264e-01, -2.8518e-01, -2.6635e-01,  2.9132e+03,  0.0000e+00,  4.3850e+03],\n",
      "        [ 1.2100e+02,  8.9800e-01, -9.4608e-01, -2.2514e-01,  1.2684e+03,  0.0000e+00,  4.3850e+03],\n",
      "        [ 1.2200e+02,  5.7729e-01,  2.6367e-01, -5.3954e-02,  3.6950e+03,  0.0000e+00,  4.3850e+03],\n",
      "        [ 1.2300e+02, -3.9429e-01,  1.2039e-01,  1.8324e-01,  2.7595e+03,  0.0000e+00,  4.3850e+03],\n",
      "        [ 1.2400e+02,  1.7725e-01, -2.9208e-01, -1.1744e-02,  3.0277e+03,  0.0000e+00,  4.3850e+03],\n",
      "        [ 1.2500e+02,  7.7282e-01, -6.8726e-01,  1.8464e-01,  1.7535e+03,  0.0000e+00,  4.3850e+03],\n",
      "        [ 1.2600e+02,  5.1473e-01,  7.5923e-03,  1.0580e-01,  4.1321e+03,  0.0000e+00,  4.3850e+03],\n",
      "        [ 1.2700e+02,  5.5148e-01,  4.5421e-01, -2.9694e-02,  2.7910e+03,  0.0000e+00,  4.3850e+03],\n",
      "        [ 1.2800e+02,  4.2674e-01, -2.7540e-01,  7.6347e-02,  3.2467e+03,  0.0000e+00,  4.3850e+03],\n",
      "        [ 1.2900e+02,  4.6054e-01,  1.4169e-01,  6.9483e-03,  4.0453e+03,  0.0000e+00,  4.3850e+03],\n",
      "        [ 1.3000e+02,  6.7947e-01,  6.9592e-01,  2.9895e-02,  1.9077e+03,  0.0000e+00,  4.3850e+03],\n",
      "        [ 1.3100e+02,  1.9489e-01, -2.7327e-01, -4.6204e-02,  3.1407e+03,  0.0000e+00,  4.3850e+03],\n",
      "        [ 1.3200e+02,  2.0123e-01, -5.5683e-01,  2.1957e-01,  1.8314e+03,  0.0000e+00,  4.3850e+03],\n",
      "        [ 1.3300e+02,  5.7932e-01,  5.9665e-01, -5.0119e-02,  2.2124e+03,  0.0000e+00,  4.3850e+03],\n",
      "        [ 1.3400e+02,  1.3811e-01,  1.5069e-01,  1.1270e-01,  3.5722e+03,  0.0000e+00,  4.3850e+03],\n",
      "        [ 1.3500e+02,  3.7217e-01, -5.6712e-01, -4.6795e-01,  1.9024e+03,  0.0000e+00,  4.3850e+03],\n",
      "        [ 1.3600e+02,  2.6365e-01, -3.2816e-01,  6.6230e-03,  2.9323e+03,  0.0000e+00,  4.3850e+03],\n",
      "        [ 1.3700e+02,  9.4191e-01,  2.0466e-01,  2.7243e-02,  4.0892e+03,  0.0000e+00,  4.3850e+03],\n",
      "        [ 1.3800e+02,  2.9323e-01, -1.3658e-01, -1.4906e-02,  3.7752e+03,  0.0000e+00,  4.3850e+03],\n",
      "        [ 1.3900e+02,  3.8667e-01,  4.8296e-02,  6.8477e-02,  4.0758e+03,  0.0000e+00,  4.3850e+03],\n",
      "        [ 1.4000e+02, -7.9069e-02, -3.3843e-01, -5.2365e-01,  2.2386e+03,  0.0000e+00,  4.3850e+03],\n",
      "        [ 1.4100e+02,  1.5641e-01,  3.7615e-02,  5.5004e-02,  3.8465e+03,  0.0000e+00,  4.3850e+03],\n",
      "        [ 1.4200e+02,  8.1549e-02, -3.3756e-01, -2.4537e-02,  2.7463e+03,  0.0000e+00,  4.3850e+03],\n",
      "        [ 1.4300e+02,  9.5890e-01,  5.8938e-01,  1.2283e-02,  2.4130e+03,  0.0000e+00,  4.3850e+03],\n",
      "        [ 1.4400e+02,  4.9334e-01,  1.0323e-01, -6.6729e-02,  4.1709e+03,  0.0000e+00,  4.3850e+03],\n",
      "        [ 1.4500e+02,  6.9934e-01,  3.9713e-02, -6.1326e-02,  4.3693e+03,  0.0000e+00,  4.3850e+03],\n",
      "        [ 1.4600e+02,  3.8806e-01, -5.3984e-01,  1.8533e-01,  2.0261e+03,  0.0000e+00,  4.3850e+03],\n",
      "        [ 1.4700e+02,  1.4436e-01, -4.1793e-01,  8.4496e-02,  2.3962e+03,  0.0000e+00,  4.3850e+03],\n",
      "        [ 1.4800e+02,  3.7189e-02, -5.3993e-02,  1.6409e-01,  3.4382e+03,  0.0000e+00,  4.3850e+03],\n",
      "        [ 1.4900e+02,  4.0199e-01,  6.4135e-01, -1.1811e-01,  1.9529e+03,  0.0000e+00,  4.3850e+03],\n",
      "        [ 1.5000e+02,  7.6164e-01, -8.2304e-01, -3.5885e-01,  1.4558e+03,  0.0000e+00,  4.3850e+03],\n",
      "        [ 1.5100e+02, -6.0500e-01, -1.7593e-01,  8.6520e-02,  2.3934e+03,  0.0000e+00,  4.3850e+03],\n",
      "        [ 1.5200e+02,  1.9676e-01,  3.3874e-01,  2.6736e-01,  2.7306e+03,  0.0000e+00,  4.3850e+03],\n",
      "        [ 1.5300e+02,  2.4753e-01, -4.8343e-01, -9.3692e-02,  2.2852e+03,  0.0000e+00,  4.3850e+03],\n",
      "        [ 1.5400e+02,  9.3202e-01,  1.5599e-02,  5.1246e-02,  4.4117e+03,  0.0000e+00,  4.4117e+03],\n",
      "        [ 1.5500e+02, -3.1139e-01, -2.2648e-01,  7.8747e-02,  2.6595e+03,  0.0000e+00,  4.4117e+03],\n",
      "        [ 1.5600e+02,  9.0445e-01,  3.8916e-01, -3.6611e-03,  3.2765e+03,  0.0000e+00,  4.4117e+03],\n",
      "        [ 1.5700e+02,  7.3803e-01,  7.3039e-01,  6.7441e-02,  1.8188e+03,  0.0000e+00,  4.4117e+03],\n",
      "        [ 1.5800e+02, -9.7582e-01,  5.6296e-03,  3.9805e-02,  2.1057e+03,  0.0000e+00,  4.4117e+03],\n",
      "        [ 1.5900e+02,  3.3469e-01,  9.9002e-02,  3.6266e-01,  3.2573e+03,  0.0000e+00,  4.4117e+03],\n",
      "        [ 1.6000e+02,  6.3864e-01,  6.5827e-01, -5.9669e-02,  2.0210e+03,  0.0000e+00,  4.4117e+03],\n",
      "        [ 1.6100e+02,  4.5998e-01, -8.4678e-02, -4.1201e-01,  3.5198e+03,  0.0000e+00,  4.4117e+03],\n",
      "        [ 1.6200e+02,  3.8685e-01,  3.5470e-01,  3.0170e-02,  3.1190e+03,  0.0000e+00,  4.4117e+03],\n",
      "        [ 1.6300e+02, -3.2067e-01, -1.3858e-01, -3.5151e-01,  2.8056e+03,  0.0000e+00,  4.4117e+03],\n",
      "        [ 1.6400e+02,  3.9072e-01,  8.4358e-02, -2.4266e-03,  4.1094e+03,  0.0000e+00,  4.4117e+03],\n",
      "        [ 1.6500e+02,  5.5289e-01, -3.8353e-01, -3.0056e-02,  2.8986e+03,  0.0000e+00,  4.4117e+03],\n",
      "        [ 1.6600e+02,  8.9180e-01,  8.1042e-01, -5.8961e-02,  1.6659e+03,  0.0000e+00,  4.4117e+03],\n",
      "        [ 1.6700e+02, -1.4975e-01, -2.1052e-01,  7.3961e-02,  2.9249e+03,  0.0000e+00,  4.4117e+03],\n",
      "        [ 1.6800e+02,  2.8917e-01, -5.9634e-01, -2.8336e-01,  1.8792e+03,  0.0000e+00,  4.4117e+03],\n",
      "        [ 1.6900e+02,  1.8315e-01, -3.8382e-01,  3.0148e-01,  2.2917e+03,  0.0000e+00,  4.4117e+03],\n",
      "        [ 1.7000e+02,  3.5377e-01, -5.5342e-01, -8.5305e-02,  2.0875e+03,  0.0000e+00,  4.4117e+03],\n",
      "        [ 1.7100e+02,  4.6642e-01, -2.5395e-01, -1.6204e-01,  3.4229e+03,  0.0000e+00,  4.4117e+03],\n",
      "        [ 1.7200e+02,  6.5642e-02, -3.8367e-01,  2.8022e-03,  2.5247e+03,  0.0000e+00,  4.4117e+03],\n",
      "        [ 1.7300e+02,  9.3596e-01,  4.3747e-02,  4.7329e-02,  4.4143e+03,  1.0000e+00,  4.4143e+03],\n",
      "        [ 1.7400e+02,  7.3614e-01, -6.1518e-01,  3.4440e-01,  1.8235e+03,  1.0000e+00,  4.4143e+03],\n",
      "        [ 1.7500e+02,  3.7397e-01, -5.9227e-01, -2.3273e-01,  1.9514e+03,  1.0000e+00,  4.4143e+03],\n",
      "        [ 1.7600e+02,  4.2559e-01,  2.3465e-01,  6.5668e-02,  3.6540e+03,  1.0000e+00,  4.4143e+03],\n",
      "        [ 1.7700e+02, -8.8644e-02, -4.3720e-01,  1.1256e-01,  2.1107e+03,  1.0000e+00,  4.4143e+03],\n",
      "        [ 1.7800e+02,  1.2932e-01,  4.2262e-01,  1.5914e-01,  2.4985e+03,  1.0000e+00,  4.4143e+03],\n",
      "        [ 1.7900e+02,  3.2901e-01, -5.7252e-01,  2.1936e-02,  1.9803e+03,  1.0000e+00,  4.4143e+03],\n",
      "        [ 1.8000e+02,  6.0924e-01,  2.9828e-01,  2.0195e-02,  3.5479e+03,  1.0000e+00,  4.4143e+03],\n",
      "        [ 1.8100e+02,  7.2340e-01,  3.6901e-01,  2.0480e-02,  3.2821e+03,  1.0000e+00,  4.4143e+03],\n",
      "        [ 1.8200e+02,  3.3852e-01, -2.8638e-01, -2.7881e-02,  3.2004e+03,  1.0000e+00,  4.4143e+03],\n",
      "        [ 1.8300e+02, -3.6780e-01,  7.4556e-02,  2.9536e-01,  2.6021e+03,  1.0000e+00,  4.4143e+03],\n",
      "        [ 1.8400e+02, -4.1946e-02,  1.3672e-01,  3.6125e-01,  2.7955e+03,  1.0000e+00,  4.4143e+03],\n",
      "        [ 1.8500e+02,  5.7497e-01,  4.4285e-01,  2.1075e-02,  2.8479e+03,  1.0000e+00,  4.4143e+03],\n",
      "        [ 1.8600e+02,  1.7495e-01, -5.8685e-01,  6.0446e-01,  1.3525e+03,  1.0000e+00,  4.4143e+03],\n",
      "        [ 1.8700e+02,  5.8955e-01,  3.3445e-01, -2.6127e-01,  3.2150e+03,  1.0000e+00,  4.4143e+03],\n",
      "        [ 1.8800e+02, -2.6122e-02, -1.7527e-01, -1.9784e-01,  3.2563e+03,  1.0000e+00,  4.4143e+03],\n",
      "        [ 1.8900e+02,  7.1032e-01,  1.1019e-02,  8.1122e-02,  4.2979e+03,  1.0000e+00,  4.4143e+03],\n",
      "        [ 1.9000e+02,  4.4953e-01,  4.1870e-02,  1.3414e-02,  4.1912e+03,  1.0000e+00,  4.4143e+03],\n",
      "        [ 1.9100e+02, -2.1348e-01,  4.1411e-02, -6.1209e-02,  3.4088e+03,  1.0000e+00,  4.4143e+03],\n",
      "        [ 1.9200e+02,  4.6215e-01,  2.0895e-01,  1.1083e-03,  3.8298e+03,  1.0000e+00,  4.4143e+03],\n",
      "        [ 1.9300e+02,  4.7197e-01, -4.1752e-02,  1.7004e-01,  3.9196e+03,  1.0000e+00,  4.4143e+03],\n",
      "        [ 1.9400e+02,  6.9678e-01, -8.4104e-01,  2.0662e-01,  1.3425e+03,  1.0000e+00,  4.4143e+03],\n",
      "        [ 1.9500e+02,  7.0171e-01, -4.1443e-01, -1.4854e-01,  2.8327e+03,  1.0000e+00,  4.4143e+03],\n",
      "        [ 1.9600e+02,  2.6797e-01,  1.4396e-01,  1.6446e-01,  3.6427e+03,  1.0000e+00,  4.4143e+03],\n",
      "        [ 1.9700e+02,  7.7597e-01,  2.4201e-01,  2.2908e-01,  3.6185e+03,  1.0000e+00,  4.4143e+03],\n",
      "        [ 1.9800e+02,  8.6768e-01,  8.6258e-01,  5.0201e-02,  1.5175e+03,  1.0000e+00,  4.4143e+03],\n",
      "        [ 1.9900e+02,  5.6839e-01, -2.4598e-01,  5.1474e-02,  3.5053e+03,  1.0000e+00,  4.4143e+03]])\n"
     ]
    }
   ],
   "metadata": {}
  },
  {
   "cell_type": "code",
   "execution_count": 21,
   "source": [
    "gStyle.SetOptStat(0)\n",
    "\n",
    "def plotComparison(histMC, histData):\n",
    "    can = TCanvas(\"can\",\"can\",800,800)\n",
    "    can.Divide(2,2)\n",
    "    can.Draw()\n",
    "    can.cd(1)\n",
    "    histMC.Draw(\"COLZ\")\n",
    "    can.cd(2)\n",
    "    histData.Draw(\"COLZ\")\n",
    "    pad = can.cd(3)\n",
    "    pad.SetRightMargin(0.155)\n",
    "    pad = can.cd(3)\n",
    "    hdiff = diffHist(histMC, histData)\n",
    "    hdiff.Draw(\"COLZ\")\n",
    "    can.Update()\n",
    "    palette = hdiff.GetListOfFunctions().FindObject(\"palette\")\n",
    "    palette.SetX1NDC(0.85)\n",
    "    palette.SetX2NDC(0.9)\n",
    "    can.Modified()\n",
    "    can.Update()\n",
    "    return can, hdiff\n",
    "\n",
    "bestIndex = int(c[c[:,5]>0][0][0])\n",
    "\n",
    "can1, hdiff1 = plotComparison(allHistsMC[bestIndex], histsData[0][HIST_INDEX])\n"
   ],
   "outputs": [
    {
     "output_type": "stream",
     "name": "stderr",
     "text": [
      "Warning in <TCanvas::Constructor>: Deleting canvas with same name: can\n"
     ]
    },
    {
     "output_type": "display_data",
     "data": {
      "image/png": "[encoded data removed]",
      "text/plain": [
       "<IPython.core.display.Image object>"
      ]
     },
     "metadata": {}
    }
   ],
   "metadata": {}
  },
  {
   "cell_type": "code",
   "execution_count": 22,
   "source": [
    "can2, hdiff2, = plotComparison(allHistsMC[2], histsData[0][HIST_INDEX])"
   ],
   "outputs": [
    {
     "output_type": "stream",
     "name": "stderr",
     "text": [
      "Warning in <TCanvas::Constructor>: Deleting canvas with same name: can\n"
     ]
    },
    {
     "output_type": "display_data",
     "data": {
      "image/png": "[encoded data removed]",
      "text/plain": [
       "<IPython.core.display.Image object>"
      ]
     },
     "metadata": {}
    }
   ],
   "metadata": {}
  },
  {
   "cell_type": "code",
   "execution_count": 19,
   "source": [
    "base_hists = histMakerMC.builder.base_hists\n",
    "can3 = TCanvas(\"c\",\"C\",900,1200)\n",
    "can3.Divide(3,4)\n",
    "can3.Draw()\n",
    "for i, hist in enumerate(base_hists[0]):\n",
    "    can3.cd(i+1)\n",
    "    if not isinstance(hist, list):\n",
    "        hist.Draw(\"COLZ\")\n",
    "    else:\n",
    "        print(hist)\n"
   ],
   "outputs": [
    {
     "output_type": "display_data",
     "data": {
      "image/png": "[encoded data removed]",
      "text/plain": [
       "<IPython.core.display.Image object>"
      ]
     },
     "metadata": {}
    }
   ],
   "metadata": {}
  },
  {
   "cell_type": "code",
   "execution_count": 20,
   "source": [
    "can4 = TCanvas(\"c\",\"C\",900,1200)\n",
    "can4.Divide(3,4)\n",
    "can4.Draw()\n",
    "for i, hist in enumerate(histsData[0]):\n",
    "    can4.cd(i+1)\n",
    "    if not isinstance(hist, list):\n",
    "        hist.Draw(\"COLZ\")\n",
    "    else:\n",
    "        print(hist)"
   ],
   "outputs": [
    {
     "output_type": "stream",
     "name": "stderr",
     "text": [
      "Warning in <TCanvas::Constructor>: Deleting canvas with same name: c\n"
     ]
    },
    {
     "output_type": "display_data",
     "data": {
      "image/png": "[encoded data removed]",
      "text/plain": [
       "<IPython.core.display.Image object>"
      ]
     },
     "metadata": {}
    }
   ],
   "metadata": {}
  },
  {
   "cell_type": "code",
   "execution_count": null,
   "source": [],
   "outputs": [],
   "metadata": {}
  }
 ],
 "metadata": {
  "interpreter": {
   "hash": "99cab06c27f02725e88b2dbe1836c12fd9df359a24b9134df2d5dc04c534a853"
  },
  "kernelspec": {
   "name": "python3",
   "display_name": "Python 3.11.4 64-bit ('pyroot': conda)"
  },
  "language_info": {
   "codemirror_mode": {
    "name": "ipython",
    "version": 3
   },
   "file_extension": ".py",
   "mimetype": "text/x-python",
   "name": "python",
   "nbconvert_exporter": "python",
   "pygments_lexer": "ipython3",
   "version": "3.11.4"
  },
  "orig_nbformat": 4
 },
 "nbformat": 4,
 "nbformat_minor": 2
}