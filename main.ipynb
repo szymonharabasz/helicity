{
 "cells": [
  {
   "cell_type": "code",
   "execution_count": 1,
   "metadata": {},
   "outputs": [
    {
     "name": "stderr",
     "output_type": "stream",
     "text": [
      "/home/harabasz/miniconda3/envs/pyroot/etc/cling/std.modulemap:257:29: warning: unknown attribute 'optional' [-Wignored-attributes]\n",
      "  module \"memory_resource\" [optional] {\n",
      "                            ^\n",
      "/home/harabasz/miniconda3/envs/pyroot/etc/cling/std.modulemap:447:27: warning: unknown attribute 'optional' [-Wignored-attributes]\n",
      "  module \"bits/chrono.h\" [optional] {\n",
      "                          ^\n",
      "/home/harabasz/miniconda3/envs/pyroot/etc/cling/std.modulemap:531:41: warning: unknown attribute 'optional' [-Wignored-attributes]\n",
      "  explicit module \"bits_ranges_base_h\" [optional] {\n",
      "                                        ^\n",
      "/home/harabasz/miniconda3/envs/pyroot/etc/cling/std.modulemap:538:32: warning: unknown attribute 'optional' [-Wignored-attributes]\n",
      "  module \"bits/ranges_util.h\" [optional] {\n",
      "                               ^\n",
      "/home/harabasz/miniconda3/envs/pyroot/etc/cling/std.modulemap:559:40: warning: unknown attribute 'optional' [-Wignored-attributes]\n",
      "  module \"bits/uses_allocator_args.h\" [optional] {\n",
      "                                       ^\n"
     ]
    },
    {
     "name": "stdout",
     "output_type": "stream",
     "text": [
      "Welcome to JupyROOT 6.28/04\n",
      "iter 0\n",
      "Before processing events 15:44:49\n",
      "After processing events 15:44:49\n",
      "iter 1\n",
      "Before processing events 15:47:48\n",
      "After processing events 15:47:58\n"
     ]
    }
   ],
   "source": [
    "from bins import Bins\n",
    "from utils import calcAllChi2, calcOneChi2, HistMaker\n",
    "from ROOT import TFile, TH1\n",
    "import math\n",
    "\n",
    "bins = Bins.readFrom(\"ranges.yml\")\n",
    "histMakerData = HistMaker(\"apr12_diele_088_090_ag123ag_2500A_accepted_np_2.dat\", \"_data\", bins)\n",
    "histsData = histMakerData.makeHists()\n",
    "histMakerMC = HistMaker(\"medium_isotropic_eff_ag1230ag_np_9deg.dat\", \"_MC\", bins    )\n",
    "\n",
    "#outfile = TFIle(\"out.root\",\"RECREATE\")\n",
    "allHistsMC = []\n",
    "\n",
    "#calcAllChi2(histsMC, histsData)"
   ]
  },
  {
   "cell_type": "code",
   "execution_count": 2,
   "metadata": {},
   "outputs": [],
   "source": [
    "import torch\n",
    "\n",
    "torch.manual_seed(0)\n",
    "\n",
    "import gpytorch\n",
    "import botorch\n",
    "\n",
    "import matplotlib.pyplot as plt\n",
    "\n",
    "plt.style.use(\"bmh\")\n",
    "plt.rcParams[\"figure.figsize\"] = (8, 6)\n",
    "\n",
    "from tqdm.notebook import tqdm\n",
    "\n",
    "import warnings"
   ]
  },
  {
   "cell_type": "code",
   "execution_count": 3,
   "metadata": {},
   "outputs": [],
   "source": [
    "TH1.SetDefaultSumw2\n",
    "\n",
    "N_PARAMS = 3"
   ]
  },
  {
   "cell_type": "code",
   "execution_count": 4,
   "metadata": {},
   "outputs": [],
   "source": [
    "#lb = -1\n",
    "#ub = 1\n",
    "\n",
    "#bounds = torch.tensor([[lb]*N_PARAMS, [ub]*N_PARAMS], dtype=torch.float)\n",
    "bounds = torch.tensor([[0, 0,         0],\n",
    "                       [1, 2*math.pi, 2]], dtype=torch.float)\n",
    "\n",
    "grid_r   = torch.linspace(bounds[0][0], bounds[1][0], 101)\n",
    "grid_phi = torch.linspace(bounds[0][1], bounds[1][1], 101)\n",
    "grid_z   = torch.linspace(bounds[0][2], bounds[1][2], 101)\n",
    "\n",
    "grid_x1, grid_x2, grid_x3 = torch.meshgrid(grid_r, grid_phi, grid_z, indexing=\"ij\")\n",
    "\n",
    "xs = torch.vstack([grid_x1.flatten(), grid_x2.flatten(), grid_x3.flatten()]).transpose(-2,-1)"
   ]
  },
  {
   "cell_type": "code",
   "execution_count": 5,
   "metadata": {},
   "outputs": [],
   "source": [
    "class GPModel(gpytorch.models.ExactGP, botorch.models.gpytorch.GPyTorchModel):\n",
    "    _num_outputs = 1\n",
    "\n",
    "    def __init__(self, train_x, train_y, likelihood):\n",
    "        super().__init__(train_x, train_y, likelihood)\n",
    "        self.mean_module = gpytorch.means.ConstantMean()\n",
    "        self.covar_module = gpytorch.kernels.ScaleKernel(\n",
    "            gpytorch.kernels.MaternKernel(nu=2.5, ard_num_dims=1)\n",
    "        )\n",
    "\n",
    "    def forward(self, x):\n",
    "        mean_x = self.mean_module(x)\n",
    "        covar_x = self.covar_module(x)\n",
    "        return gpytorch.distributions.MultivariateNormal(mean_x, covar_x)\n",
    "\n",
    "\n",
    "def fit_gp_model(train_x, train_y, num_train_iters=500):\n",
    "    # declare the GP\n",
    "    noise = 1e-4\n",
    "\n",
    "    likelihood = gpytorch.likelihoods.GaussianLikelihood()\n",
    "    model = GPModel(train_x, train_y, likelihood)\n",
    "    model.likelihood.noise = noise\n",
    "\n",
    "    # train the hyperparameter (the constant)\n",
    "    optimizer = torch.optim.Adam(model.parameters(), lr=0.01)\n",
    "    mll = gpytorch.mlls.ExactMarginalLogLikelihood(likelihood, model)\n",
    "\n",
    "    model.train()\n",
    "    likelihood.train()\n",
    "\n",
    "    for i in range(num_train_iters):\n",
    "        optimizer.zero_grad()\n",
    "\n",
    "        output = model(train_x)\n",
    "        loss = -mll(output, train_y)\n",
    "\n",
    "        loss.backward()\n",
    "        optimizer.step()\n",
    "\n",
    "    model.eval()\n",
    "    likelihood.eval()\n",
    "\n",
    "    return model, likelihood"
   ]
  },
  {
   "cell_type": "code",
   "execution_count": 6,
   "metadata": {},
   "outputs": [],
   "source": [
    "num_queries = 200\n",
    "num_repeats = 1\n",
    "num_samples = 1"
   ]
  },
  {
   "cell_type": "code",
   "execution_count": 7,
   "metadata": {},
   "outputs": [],
   "source": [
    "def lambdas(xx):\n",
    "   # return x[0], x[1], x[2]\n",
    "    r, phi, z = xx[0], xx[1], xx[2]\n",
    "    x = r*math.cos(phi)\n",
    "    y = r*math.sin(phi)\n",
    "    lambda_theta = 0.5 * (2*x + z)\n",
    "    lambda_phi   = 0.25 * (-2 - 2*x + 3*z)\n",
    "    lambda_theta_phi = y/math.sqrt(2.)\n",
    "    return lambda_theta, lambda_phi, lambda_theta_phi\n",
    "\n",
    "def constraint1(xx):\n",
    "    print(\"In the constraint fucntion, xx = \", xx)\n",
    "    input_shape = xx.shape\n",
    "    ll = list(xx.shape)\n",
    "    ll[-1] = 1\n",
    "    if len(input_shape)>1:\n",
    "        xx = torch.reshape(xx, input_shape[1:])\n",
    "        output_shape = tuple(ll)\n",
    "        result = 1+xx[0,0]+xx[0,1]\n",
    "    else:\n",
    "        result = 1+xx[0]+xx[1]\n",
    "        output_shape = (1,)\n",
    "        \n",
    "    print(xx)\n",
    "    print(input_shape)\n",
    "    print(result)\n",
    "    print(output_shape)\n",
    "    \n",
    "    return torch.reshape(torch.tensor([result],requires_grad=xx.requires_grad),output_shape)\n",
    "\n",
    "#def cost(xx):\n",
    "#    def generator(xx):\n",
    "#        for x in xx:\n",
    "#            lambda_theta, lambda_phi, lambda_theta_phi = lambdas(x)#\n",
    "#\n",
    "#            result = 0\n",
    "#\n",
    "#            if pow(1-lambda_phi, 2) - pow(lambda_theta-lambda_phi, 2) < 4*pow(lambda_theta_phi, 2):\n",
    "#                result = 1\n",
    "#            if 1 + lambda_theta + 2*lambda_phi < 0:\n",
    "#                result = 1\n",
    "\n",
    "#            yield torch.tensor([result])\n",
    "#    return torch.stack([a for a in generator(xx)])\n",
    "    \n",
    "def objective(xx):\n",
    "    def generator(xx):\n",
    "        for x in xx:\n",
    "            lambda_theta, lambda_phi, lambda_theta_phi = lambdas(x)\n",
    "\n",
    "            histsMC = histMakerMC.makeHists(lambda_theta, lambda_phi, lambda_theta_phi)\n",
    "            chi2, ndf = calcOneChi2(histsMC[0][0], histsData[0][0])\n",
    "            allHistsMC.append(histsMC[0][0])\n",
    "            if not chi2 or not ndf:\n",
    "                return torch.tensor([0])\n",
    "            yield torch.tensor([1.0/(chi2 / ndf)])\n",
    "           # yield torch.tensor([1./(chi2 / ndf)])\n",
    "    return torch.stack([a for a in generator(xx)])"
   ]
  },
  {
   "cell_type": "code",
   "execution_count": 8,
   "metadata": {},
   "outputs": [
    {
     "name": "stdout",
     "output_type": "stream",
     "text": [
      "trial 0\n"
     ]
    },
    {
     "data": {
      "application/vnd.jupyter.widget-view+json": {
       "model_id": "7c892d435cfc4b8180f8ff29856381f8",
       "version_major": 2,
       "version_minor": 0
      },
      "text/plain": [
       "  0%|          | 0/200 [00:00<?, ?it/s]"
      ]
     },
     "metadata": {},
     "output_type": "display_data"
    },
    {
     "name": "stdout",
     "output_type": "stream",
     "text": [
      "query 0\n",
      "query 1\n",
      "query 2\n",
      "query 3\n",
      "query 4\n",
      "query 5\n",
      "query 6\n",
      "query 7\n",
      "Before reweighting hists 15:48:34\n",
      "After reweighting hists 15:48:34\n",
      "query 8\n",
      "query 9\n",
      "query 10\n",
      "query 11\n",
      "query 12\n",
      "query 13\n",
      "query 14\n",
      "query 15\n",
      "query 16\n",
      "query 17\n",
      "Before reweighting hists 15:49:15\n",
      "After reweighting hists 15:49:15\n",
      "query 18\n",
      "query 19\n",
      "query 20\n",
      "query 21\n",
      "query 22\n",
      "query 23\n",
      "query 24\n",
      "query 25\n",
      "query 26\n",
      "query 27\n",
      "Before reweighting hists 15:49:47\n",
      "After reweighting hists 15:49:48\n",
      "query 28\n",
      "query 29\n",
      "query 30\n",
      "query 31\n",
      "query 32\n",
      "query 33\n",
      "query 34\n",
      "query 35\n",
      "query 36\n",
      "query 37\n",
      "Before reweighting hists 15:50:18\n",
      "After reweighting hists 15:50:19\n",
      "query 38\n",
      "query 39\n",
      "query 40\n",
      "query 41\n",
      "query 42\n",
      "query 43\n",
      "query 44\n",
      "query 45\n",
      "query 46\n",
      "query 47\n",
      "Before reweighting hists 15:50:49\n",
      "After reweighting hists 15:50:50\n",
      "query 48\n",
      "query 49\n",
      "query 50\n",
      "query 51\n",
      "query 52\n",
      "query 53\n",
      "query 54\n",
      "query 55\n",
      "query 56\n",
      "query 57\n",
      "Before reweighting hists 15:51:21\n",
      "After reweighting hists 15:51:22\n",
      "query 58\n",
      "query 59\n",
      "query 60\n",
      "query 61\n",
      "query 62\n",
      "query 63\n",
      "query 64\n",
      "query 65\n",
      "query 66\n",
      "query 67\n",
      "Before reweighting hists 15:51:57\n",
      "After reweighting hists 15:51:57\n",
      "query 68\n",
      "query 69\n",
      "query 70\n",
      "query 71\n",
      "query 72\n",
      "query 73\n"
     ]
    },
    {
     "name": "stderr",
     "output_type": "stream",
     "text": [
      "/home/harabasz/miniconda3/envs/pyroot/lib/python3.11/site-packages/botorch/optim/initializers.py:403: BadInitialCandidatesWarning: Unable to find non-zero acquisition function values - initial conditions are being selected randomly.\n",
      "  warnings.warn(\n"
     ]
    },
    {
     "name": "stdout",
     "output_type": "stream",
     "text": [
      "query 74\n",
      "query 75\n",
      "query 76\n",
      "query 77\n",
      "Before reweighting hists 15:52:44\n",
      "After reweighting hists 15:52:44\n",
      "query 78\n",
      "query 79\n",
      "query 80\n",
      "query 81\n",
      "query 82\n",
      "query 83\n"
     ]
    },
    {
     "name": "stderr",
     "output_type": "stream",
     "text": [
      "/home/harabasz/miniconda3/envs/pyroot/lib/python3.11/site-packages/botorch/optim/initializers.py:403: BadInitialCandidatesWarning: Unable to find non-zero acquisition function values - initial conditions are being selected randomly.\n",
      "  warnings.warn(\n"
     ]
    },
    {
     "name": "stdout",
     "output_type": "stream",
     "text": [
      "query 84\n"
     ]
    },
    {
     "name": "stderr",
     "output_type": "stream",
     "text": [
      "/home/harabasz/miniconda3/envs/pyroot/lib/python3.11/site-packages/botorch/optim/initializers.py:403: BadInitialCandidatesWarning: Unable to find non-zero acquisition function values - initial conditions are being selected randomly.\n",
      "  warnings.warn(\n"
     ]
    },
    {
     "name": "stdout",
     "output_type": "stream",
     "text": [
      "query 85\n",
      "query 86\n",
      "query 87\n",
      "Before reweighting hists 15:53:37\n",
      "After reweighting hists 15:53:38\n",
      "query 88\n",
      "query 89\n",
      "query 90\n",
      "query 91\n",
      "query 92\n",
      "query 93\n",
      "query 94\n",
      "query 95\n",
      "query 96\n",
      "query 97\n",
      "Before reweighting hists 15:54:27\n",
      "After reweighting hists 15:54:28\n",
      "query 98\n",
      "query 99\n",
      "query 100\n",
      "query 101\n",
      "query 102\n",
      "query 103\n",
      "query 104\n",
      "query 105\n",
      "query 106\n",
      "query 107\n",
      "Before reweighting hists 15:55:18\n",
      "After reweighting hists 15:55:18\n",
      "query 108\n",
      "query 109\n",
      "query 110\n",
      "query 111\n",
      "query 112\n",
      "query 113\n",
      "query 114\n"
     ]
    },
    {
     "name": "stderr",
     "output_type": "stream",
     "text": [
      "/home/harabasz/miniconda3/envs/pyroot/lib/python3.11/site-packages/botorch/optim/initializers.py:403: BadInitialCandidatesWarning: Unable to find non-zero acquisition function values - initial conditions are being selected randomly.\n",
      "  warnings.warn(\n"
     ]
    },
    {
     "name": "stdout",
     "output_type": "stream",
     "text": [
      "query 115\n",
      "query 116\n"
     ]
    },
    {
     "name": "stderr",
     "output_type": "stream",
     "text": [
      "/home/harabasz/miniconda3/envs/pyroot/lib/python3.11/site-packages/botorch/optim/initializers.py:403: BadInitialCandidatesWarning: Unable to find non-zero acquisition function values - initial conditions are being selected randomly.\n",
      "  warnings.warn(\n"
     ]
    },
    {
     "name": "stdout",
     "output_type": "stream",
     "text": [
      "query 117\n",
      "Before reweighting hists 15:56:06\n",
      "After reweighting hists 15:56:06\n",
      "query 118\n"
     ]
    },
    {
     "name": "stderr",
     "output_type": "stream",
     "text": [
      "/home/harabasz/miniconda3/envs/pyroot/lib/python3.11/site-packages/botorch/optim/initializers.py:403: BadInitialCandidatesWarning: Unable to find non-zero acquisition function values - initial conditions are being selected randomly.\n",
      "  warnings.warn(\n"
     ]
    },
    {
     "name": "stdout",
     "output_type": "stream",
     "text": [
      "query 119\n"
     ]
    },
    {
     "name": "stderr",
     "output_type": "stream",
     "text": [
      "/home/harabasz/miniconda3/envs/pyroot/lib/python3.11/site-packages/botorch/optim/initializers.py:403: BadInitialCandidatesWarning: Unable to find non-zero acquisition function values - initial conditions are being selected randomly.\n",
      "  warnings.warn(\n"
     ]
    },
    {
     "name": "stdout",
     "output_type": "stream",
     "text": [
      "query 120\n"
     ]
    },
    {
     "name": "stderr",
     "output_type": "stream",
     "text": [
      "/home/harabasz/miniconda3/envs/pyroot/lib/python3.11/site-packages/botorch/optim/initializers.py:403: BadInitialCandidatesWarning: Unable to find non-zero acquisition function values - initial conditions are being selected randomly.\n",
      "  warnings.warn(\n"
     ]
    },
    {
     "name": "stdout",
     "output_type": "stream",
     "text": [
      "query 121\n",
      "query 122\n",
      "query 123\n",
      "query 124\n",
      "query 125\n",
      "query 126\n",
      "query 127\n",
      "Before reweighting hists 15:56:59\n",
      "After reweighting hists 15:56:59\n",
      "query 128\n",
      "query 129\n",
      "query 130\n",
      "query 131\n",
      "query 132\n",
      "query 133\n"
     ]
    },
    {
     "name": "stderr",
     "output_type": "stream",
     "text": [
      "/home/harabasz/miniconda3/envs/pyroot/lib/python3.11/site-packages/botorch/optim/initializers.py:403: BadInitialCandidatesWarning: Unable to find non-zero acquisition function values - initial conditions are being selected randomly.\n",
      "  warnings.warn(\n"
     ]
    },
    {
     "name": "stdout",
     "output_type": "stream",
     "text": [
      "query 134\n",
      "query 135\n",
      "query 136\n"
     ]
    },
    {
     "name": "stderr",
     "output_type": "stream",
     "text": [
      "/home/harabasz/miniconda3/envs/pyroot/lib/python3.11/site-packages/botorch/optim/initializers.py:403: BadInitialCandidatesWarning: Unable to find non-zero acquisition function values - initial conditions are being selected randomly.\n",
      "  warnings.warn(\n"
     ]
    },
    {
     "name": "stdout",
     "output_type": "stream",
     "text": [
      "query 137\n",
      "Before reweighting hists 15:57:47\n",
      "After reweighting hists 15:57:48\n",
      "query 138\n",
      "query 139\n",
      "query 140\n",
      "query 141\n",
      "query 142\n"
     ]
    },
    {
     "name": "stderr",
     "output_type": "stream",
     "text": [
      "/home/harabasz/miniconda3/envs/pyroot/lib/python3.11/site-packages/botorch/optim/initializers.py:403: BadInitialCandidatesWarning: Unable to find non-zero acquisition function values - initial conditions are being selected randomly.\n",
      "  warnings.warn(\n"
     ]
    },
    {
     "name": "stdout",
     "output_type": "stream",
     "text": [
      "query 143\n",
      "query 144\n"
     ]
    },
    {
     "name": "stderr",
     "output_type": "stream",
     "text": [
      "/home/harabasz/miniconda3/envs/pyroot/lib/python3.11/site-packages/botorch/optim/initializers.py:403: BadInitialCandidatesWarning: Unable to find non-zero acquisition function values - initial conditions are being selected randomly.\n",
      "  warnings.warn(\n"
     ]
    },
    {
     "name": "stdout",
     "output_type": "stream",
     "text": [
      "query 145\n",
      "query 146\n",
      "query 147\n",
      "Before reweighting hists 15:58:43\n",
      "After reweighting hists 15:58:44\n",
      "query 148\n",
      "query 149\n"
     ]
    },
    {
     "name": "stderr",
     "output_type": "stream",
     "text": [
      "/home/harabasz/miniconda3/envs/pyroot/lib/python3.11/site-packages/botorch/optim/initializers.py:403: BadInitialCandidatesWarning: Unable to find non-zero acquisition function values - initial conditions are being selected randomly.\n",
      "  warnings.warn(\n"
     ]
    },
    {
     "name": "stdout",
     "output_type": "stream",
     "text": [
      "query 150\n",
      "query 151\n"
     ]
    },
    {
     "name": "stderr",
     "output_type": "stream",
     "text": [
      "/home/harabasz/miniconda3/envs/pyroot/lib/python3.11/site-packages/botorch/optim/initializers.py:403: BadInitialCandidatesWarning: Unable to find non-zero acquisition function values - initial conditions are being selected randomly.\n",
      "  warnings.warn(\n"
     ]
    },
    {
     "name": "stdout",
     "output_type": "stream",
     "text": [
      "query 152\n",
      "query 153\n"
     ]
    },
    {
     "name": "stderr",
     "output_type": "stream",
     "text": [
      "/home/harabasz/miniconda3/envs/pyroot/lib/python3.11/site-packages/botorch/optim/initializers.py:403: BadInitialCandidatesWarning: Unable to find non-zero acquisition function values - initial conditions are being selected randomly.\n",
      "  warnings.warn(\n"
     ]
    },
    {
     "name": "stdout",
     "output_type": "stream",
     "text": [
      "query 154\n",
      "query 155\n",
      "query 156\n",
      "query 157\n",
      "Before reweighting hists 15:59:40\n",
      "After reweighting hists 15:59:40\n",
      "query 158\n",
      "query 159\n",
      "query 160\n",
      "query 161\n"
     ]
    },
    {
     "name": "stderr",
     "output_type": "stream",
     "text": [
      "/home/harabasz/miniconda3/envs/pyroot/lib/python3.11/site-packages/botorch/optim/initializers.py:403: BadInitialCandidatesWarning: Unable to find non-zero acquisition function values - initial conditions are being selected randomly.\n",
      "  warnings.warn(\n"
     ]
    },
    {
     "name": "stdout",
     "output_type": "stream",
     "text": [
      "query 162\n",
      "query 163\n",
      "query 164\n",
      "query 165\n",
      "query 166\n",
      "query 167\n",
      "Before reweighting hists 16:00:24\n",
      "After reweighting hists 16:00:24\n",
      "query 168\n",
      "query 169\n",
      "query 170\n",
      "query 171\n",
      "query 172\n",
      "query 173\n"
     ]
    },
    {
     "name": "stderr",
     "output_type": "stream",
     "text": [
      "/home/harabasz/miniconda3/envs/pyroot/lib/python3.11/site-packages/botorch/optim/initializers.py:403: BadInitialCandidatesWarning: Unable to find non-zero acquisition function values - initial conditions are being selected randomly.\n",
      "  warnings.warn(\n"
     ]
    },
    {
     "name": "stdout",
     "output_type": "stream",
     "text": [
      "query 174\n",
      "query 175\n",
      "query 176\n",
      "query 177\n"
     ]
    },
    {
     "name": "stderr",
     "output_type": "stream",
     "text": [
      "/home/harabasz/miniconda3/envs/pyroot/lib/python3.11/site-packages/botorch/optim/initializers.py:403: BadInitialCandidatesWarning: Unable to find non-zero acquisition function values - initial conditions are being selected randomly.\n",
      "  warnings.warn(\n"
     ]
    },
    {
     "name": "stdout",
     "output_type": "stream",
     "text": [
      "Before reweighting hists 16:01:18\n",
      "After reweighting hists 16:01:18\n",
      "query 178\n",
      "query 179\n",
      "query 180\n",
      "query 181\n",
      "query 182\n",
      "query 183\n"
     ]
    },
    {
     "name": "stderr",
     "output_type": "stream",
     "text": [
      "/home/harabasz/miniconda3/envs/pyroot/lib/python3.11/site-packages/botorch/optim/initializers.py:403: BadInitialCandidatesWarning: Unable to find non-zero acquisition function values - initial conditions are being selected randomly.\n",
      "  warnings.warn(\n"
     ]
    },
    {
     "name": "stdout",
     "output_type": "stream",
     "text": [
      "query 184\n"
     ]
    },
    {
     "name": "stderr",
     "output_type": "stream",
     "text": [
      "/home/harabasz/miniconda3/envs/pyroot/lib/python3.11/site-packages/botorch/optim/initializers.py:403: BadInitialCandidatesWarning: Unable to find non-zero acquisition function values - initial conditions are being selected randomly.\n",
      "  warnings.warn(\n"
     ]
    },
    {
     "name": "stdout",
     "output_type": "stream",
     "text": [
      "query 185\n"
     ]
    },
    {
     "name": "stderr",
     "output_type": "stream",
     "text": [
      "/home/harabasz/miniconda3/envs/pyroot/lib/python3.11/site-packages/botorch/optim/initializers.py:403: BadInitialCandidatesWarning: Unable to find non-zero acquisition function values - initial conditions are being selected randomly.\n",
      "  warnings.warn(\n"
     ]
    },
    {
     "name": "stdout",
     "output_type": "stream",
     "text": [
      "query 186\n"
     ]
    },
    {
     "name": "stderr",
     "output_type": "stream",
     "text": [
      "/home/harabasz/miniconda3/envs/pyroot/lib/python3.11/site-packages/botorch/optim/initializers.py:403: BadInitialCandidatesWarning: Unable to find non-zero acquisition function values - initial conditions are being selected randomly.\n",
      "  warnings.warn(\n"
     ]
    },
    {
     "name": "stdout",
     "output_type": "stream",
     "text": [
      "query 187\n",
      "Before reweighting hists 16:02:19\n",
      "After reweighting hists 16:02:19\n",
      "query 188\n",
      "query 189\n"
     ]
    },
    {
     "name": "stderr",
     "output_type": "stream",
     "text": [
      "/home/harabasz/miniconda3/envs/pyroot/lib/python3.11/site-packages/botorch/optim/initializers.py:403: BadInitialCandidatesWarning: Unable to find non-zero acquisition function values - initial conditions are being selected randomly.\n",
      "  warnings.warn(\n"
     ]
    },
    {
     "name": "stdout",
     "output_type": "stream",
     "text": [
      "query 190\n",
      "query 191\n",
      "query 192\n",
      "query 193\n",
      "query 194\n"
     ]
    },
    {
     "name": "stderr",
     "output_type": "stream",
     "text": [
      "/home/harabasz/miniconda3/envs/pyroot/lib/python3.11/site-packages/botorch/optim/initializers.py:403: BadInitialCandidatesWarning: Unable to find non-zero acquisition function values - initial conditions are being selected randomly.\n",
      "  warnings.warn(\n"
     ]
    },
    {
     "name": "stdout",
     "output_type": "stream",
     "text": [
      "query 195\n",
      "query 196\n",
      "query 197\n",
      "Before reweighting hists 16:03:22\n",
      "After reweighting hists 16:03:22\n",
      "query 198\n",
      "query 199\n"
     ]
    },
    {
     "name": "stderr",
     "output_type": "stream",
     "text": [
      "/home/harabasz/miniconda3/envs/pyroot/lib/python3.11/site-packages/botorch/optim/initializers.py:403: BadInitialCandidatesWarning: Unable to find non-zero acquisition function values - initial conditions are being selected randomly.\n",
      "  warnings.warn(\n"
     ]
    }
   ],
   "source": [
    "# -2 is the default value when no feasible has been found\n",
    "default_value = -2\n",
    "feasible_incumbents = torch.ones((num_repeats, num_queries)) * default_value\n",
    "\n",
    "for trial in range(num_repeats):\n",
    "    print(\"trial\", trial)\n",
    "\n",
    "    torch.manual_seed(trial)\n",
    "    train_x = bounds[0] + (bounds[1] - bounds[0]) * torch.rand(num_samples, 3)\n",
    "    train_utility = objective(train_x)\n",
    "\n",
    "    for i in tqdm(range(num_queries)):\n",
    "        print(\"query\", i)\n",
    "\n",
    "        feasible_incumbents[trial, i] = train_utility.max()\n",
    "        utility_model, utility_likelihood = fit_gp_model(\n",
    "            train_x, train_utility.squeeze(-1)\n",
    "        )\n",
    "        best_f = train_utility.max()\n",
    "                \n",
    "        policy = botorch.acquisition.monte_carlo.qExpectedImprovement(\n",
    "            model=utility_model,\n",
    "            best_f=train_utility.max(),\n",
    "        )\n",
    "\n",
    "        with warnings.catch_warnings():\n",
    "            warnings.filterwarnings('ignore', category=RuntimeWarning)\n",
    "            next_x, acq_val = botorch.optim.optimize_acqf(\n",
    "                policy,\n",
    "                bounds=bounds,\n",
    "                q=1,\n",
    "                num_restarts=40,\n",
    "                raw_samples=100,\n",
    "            #    nonlinear_inequality_constraints=[constraint1],\n",
    "                inequality_constraints=[(torch.tensor([0,2]),torch.tensor([-2.0,-1.0],dtype=torch.float),-2.0)],\n",
    "            #    ic_generator=botorch.optim.initializers.gen_batch_initial_conditions\n",
    "            )\n",
    "\n",
    "        next_utility = objective(next_x)\n",
    "\n",
    "        train_x = torch.cat([train_x, next_x])\n",
    "        train_utility = torch.cat([train_utility, next_utility])\n"
   ]
  },
  {
   "cell_type": "code",
   "execution_count": 9,
   "metadata": {},
   "outputs": [
    {
     "name": "stdout",
     "output_type": "stream",
     "text": [
      "Writing hist:  hist_0to150_m06m02_MC_iter2\n",
      "Writing hist:  hist_0to150_m06m02_MC_iter3\n",
      "Writing hist:  hist_0to150_m06m02_MC_iter4\n",
      "Writing hist:  hist_0to150_m06m02_MC_iter5\n",
      "Writing hist:  hist_0to150_m06m02_MC_iter6\n",
      "Writing hist:  hist_0to150_m06m02_MC_iter7\n",
      "Writing hist:  hist_0to150_m06m02_MC_iter8\n",
      "Writing hist:  hist_0to150_m06m02_MC_iter9\n",
      "Writing hist:  hist_0to150_m06m02_MC_iter10\n",
      "Writing hist:  hist_0to150_m06m02_MC_iter11\n",
      "Writing hist:  hist_0to150_m06m02_MC_iter12\n",
      "Writing hist:  hist_0to150_m06m02_MC_iter13\n",
      "Writing hist:  hist_0to150_m06m02_MC_iter14\n",
      "Writing hist:  hist_0to150_m06m02_MC_iter15\n",
      "Writing hist:  hist_0to150_m06m02_MC_iter16\n",
      "Writing hist:  hist_0to150_m06m02_MC_iter17\n",
      "Writing hist:  hist_0to150_m06m02_MC_iter18\n",
      "Writing hist:  hist_0to150_m06m02_MC_iter19\n",
      "Writing hist:  hist_0to150_m06m02_MC_iter20\n",
      "Writing hist:  hist_0to150_m06m02_MC_iter21\n",
      "Writing hist:  hist_0to150_m06m02_MC_iter22\n",
      "Writing hist:  hist_0to150_m06m02_MC_iter23\n",
      "Writing hist:  hist_0to150_m06m02_MC_iter24\n",
      "Writing hist:  hist_0to150_m06m02_MC_iter25\n",
      "Writing hist:  hist_0to150_m06m02_MC_iter26\n",
      "Writing hist:  hist_0to150_m06m02_MC_iter27\n",
      "Writing hist:  hist_0to150_m06m02_MC_iter28\n",
      "Writing hist:  hist_0to150_m06m02_MC_iter29\n",
      "Writing hist:  hist_0to150_m06m02_MC_iter30\n",
      "Writing hist:  hist_0to150_m06m02_MC_iter31\n",
      "Writing hist:  hist_0to150_m06m02_MC_iter32\n",
      "Writing hist:  hist_0to150_m06m02_MC_iter33\n",
      "Writing hist:  hist_0to150_m06m02_MC_iter34\n",
      "Writing hist:  hist_0to150_m06m02_MC_iter35\n",
      "Writing hist:  hist_0to150_m06m02_MC_iter36\n",
      "Writing hist:  hist_0to150_m06m02_MC_iter37\n",
      "Writing hist:  hist_0to150_m06m02_MC_iter38\n",
      "Writing hist:  hist_0to150_m06m02_MC_iter39\n",
      "Writing hist:  hist_0to150_m06m02_MC_iter40\n",
      "Writing hist:  hist_0to150_m06m02_MC_iter41\n",
      "Writing hist:  hist_0to150_m06m02_MC_iter42\n",
      "Writing hist:  hist_0to150_m06m02_MC_iter43\n",
      "Writing hist:  hist_0to150_m06m02_MC_iter44\n",
      "Writing hist:  hist_0to150_m06m02_MC_iter45\n",
      "Writing hist:  hist_0to150_m06m02_MC_iter46\n",
      "Writing hist:  hist_0to150_m06m02_MC_iter47\n",
      "Writing hist:  hist_0to150_m06m02_MC_iter48\n",
      "Writing hist:  hist_0to150_m06m02_MC_iter49\n",
      "Writing hist:  hist_0to150_m06m02_MC_iter50\n",
      "Writing hist:  hist_0to150_m06m02_MC_iter51\n",
      "Writing hist:  hist_0to150_m06m02_MC_iter52\n",
      "Writing hist:  hist_0to150_m06m02_MC_iter53\n",
      "Writing hist:  hist_0to150_m06m02_MC_iter54\n",
      "Writing hist:  hist_0to150_m06m02_MC_iter55\n",
      "Writing hist:  hist_0to150_m06m02_MC_iter56\n",
      "Writing hist:  hist_0to150_m06m02_MC_iter57\n",
      "Writing hist:  hist_0to150_m06m02_MC_iter58\n",
      "Writing hist:  hist_0to150_m06m02_MC_iter59\n",
      "Writing hist:  hist_0to150_m06m02_MC_iter60\n",
      "Writing hist:  hist_0to150_m06m02_MC_iter61\n",
      "Writing hist:  hist_0to150_m06m02_MC_iter62\n",
      "Writing hist:  hist_0to150_m06m02_MC_iter63\n",
      "Writing hist:  hist_0to150_m06m02_MC_iter64\n",
      "Writing hist:  hist_0to150_m06m02_MC_iter65\n",
      "Writing hist:  hist_0to150_m06m02_MC_iter66\n",
      "Writing hist:  hist_0to150_m06m02_MC_iter67\n",
      "Writing hist:  hist_0to150_m06m02_MC_iter68\n",
      "Writing hist:  hist_0to150_m06m02_MC_iter69\n",
      "Writing hist:  hist_0to150_m06m02_MC_iter70\n",
      "Writing hist:  hist_0to150_m06m02_MC_iter71\n",
      "Writing hist:  hist_0to150_m06m02_MC_iter72\n",
      "Writing hist:  hist_0to150_m06m02_MC_iter73\n",
      "Writing hist:  hist_0to150_m06m02_MC_iter74\n",
      "Writing hist:  hist_0to150_m06m02_MC_iter75\n",
      "Writing hist:  hist_0to150_m06m02_MC_iter76\n",
      "Writing hist:  hist_0to150_m06m02_MC_iter77\n",
      "Writing hist:  hist_0to150_m06m02_MC_iter78\n",
      "Writing hist:  hist_0to150_m06m02_MC_iter79\n",
      "Writing hist:  hist_0to150_m06m02_MC_iter80\n",
      "Writing hist:  hist_0to150_m06m02_MC_iter81\n",
      "Writing hist:  hist_0to150_m06m02_MC_iter82\n",
      "Writing hist:  hist_0to150_m06m02_MC_iter83\n",
      "Writing hist:  hist_0to150_m06m02_MC_iter84\n",
      "Writing hist:  hist_0to150_m06m02_MC_iter85\n",
      "Writing hist:  hist_0to150_m06m02_MC_iter86\n",
      "Writing hist:  hist_0to150_m06m02_MC_iter87\n",
      "Writing hist:  hist_0to150_m06m02_MC_iter88\n",
      "Writing hist:  hist_0to150_m06m02_MC_iter89\n",
      "Writing hist:  hist_0to150_m06m02_MC_iter90\n",
      "Writing hist:  hist_0to150_m06m02_MC_iter91\n",
      "Writing hist:  hist_0to150_m06m02_MC_iter92\n",
      "Writing hist:  hist_0to150_m06m02_MC_iter93\n",
      "Writing hist:  hist_0to150_m06m02_MC_iter94\n",
      "Writing hist:  hist_0to150_m06m02_MC_iter95\n",
      "Writing hist:  hist_0to150_m06m02_MC_iter96\n",
      "Writing hist:  hist_0to150_m06m02_MC_iter97\n",
      "Writing hist:  hist_0to150_m06m02_MC_iter98\n",
      "Writing hist:  hist_0to150_m06m02_MC_iter99\n",
      "Writing hist:  hist_0to150_m06m02_MC_iter100\n",
      "Writing hist:  hist_0to150_m06m02_MC_iter101\n",
      "Writing hist:  hist_0to150_m06m02_MC_iter102\n",
      "Writing hist:  hist_0to150_m06m02_MC_iter103\n",
      "Writing hist:  hist_0to150_m06m02_MC_iter104\n",
      "Writing hist:  hist_0to150_m06m02_MC_iter105\n",
      "Writing hist:  hist_0to150_m06m02_MC_iter106\n",
      "Writing hist:  hist_0to150_m06m02_MC_iter107\n",
      "Writing hist:  hist_0to150_m06m02_MC_iter108\n",
      "Writing hist:  hist_0to150_m06m02_MC_iter109\n",
      "Writing hist:  hist_0to150_m06m02_MC_iter110\n",
      "Writing hist:  hist_0to150_m06m02_MC_iter111\n",
      "Writing hist:  hist_0to150_m06m02_MC_iter112\n",
      "Writing hist:  hist_0to150_m06m02_MC_iter113\n",
      "Writing hist:  hist_0to150_m06m02_MC_iter114\n",
      "Writing hist:  hist_0to150_m06m02_MC_iter115\n",
      "Writing hist:  hist_0to150_m06m02_MC_iter116\n",
      "Writing hist:  hist_0to150_m06m02_MC_iter117\n",
      "Writing hist:  hist_0to150_m06m02_MC_iter118\n",
      "Writing hist:  hist_0to150_m06m02_MC_iter119\n",
      "Writing hist:  hist_0to150_m06m02_MC_iter120\n",
      "Writing hist:  hist_0to150_m06m02_MC_iter121\n",
      "Writing hist:  hist_0to150_m06m02_MC_iter122\n",
      "Writing hist:  hist_0to150_m06m02_MC_iter123\n",
      "Writing hist:  hist_0to150_m06m02_MC_iter124\n",
      "Writing hist:  hist_0to150_m06m02_MC_iter125\n",
      "Writing hist:  hist_0to150_m06m02_MC_iter126\n",
      "Writing hist:  hist_0to150_m06m02_MC_iter127\n",
      "Writing hist:  hist_0to150_m06m02_MC_iter128\n",
      "Writing hist:  hist_0to150_m06m02_MC_iter129\n",
      "Writing hist:  hist_0to150_m06m02_MC_iter130\n",
      "Writing hist:  hist_0to150_m06m02_MC_iter131\n",
      "Writing hist:  hist_0to150_m06m02_MC_iter132\n",
      "Writing hist:  hist_0to150_m06m02_MC_iter133\n",
      "Writing hist:  hist_0to150_m06m02_MC_iter134\n",
      "Writing hist:  hist_0to150_m06m02_MC_iter135\n",
      "Writing hist:  hist_0to150_m06m02_MC_iter136\n",
      "Writing hist:  hist_0to150_m06m02_MC_iter137\n",
      "Writing hist:  hist_0to150_m06m02_MC_iter138\n",
      "Writing hist:  hist_0to150_m06m02_MC_iter139\n",
      "Writing hist:  hist_0to150_m06m02_MC_iter140\n",
      "Writing hist:  hist_0to150_m06m02_MC_iter141\n",
      "Writing hist:  hist_0to150_m06m02_MC_iter142\n",
      "Writing hist:  hist_0to150_m06m02_MC_iter143\n",
      "Writing hist:  hist_0to150_m06m02_MC_iter144\n",
      "Writing hist:  hist_0to150_m06m02_MC_iter145\n",
      "Writing hist:  hist_0to150_m06m02_MC_iter146\n",
      "Writing hist:  hist_0to150_m06m02_MC_iter147\n",
      "Writing hist:  hist_0to150_m06m02_MC_iter148\n",
      "Writing hist:  hist_0to150_m06m02_MC_iter149\n",
      "Writing hist:  hist_0to150_m06m02_MC_iter150\n",
      "Writing hist:  hist_0to150_m06m02_MC_iter151\n",
      "Writing hist:  hist_0to150_m06m02_MC_iter152\n",
      "Writing hist:  hist_0to150_m06m02_MC_iter153\n",
      "Writing hist:  hist_0to150_m06m02_MC_iter154\n",
      "Writing hist:  hist_0to150_m06m02_MC_iter155\n",
      "Writing hist:  hist_0to150_m06m02_MC_iter156\n",
      "Writing hist:  hist_0to150_m06m02_MC_iter157\n",
      "Writing hist:  hist_0to150_m06m02_MC_iter158\n",
      "Writing hist:  hist_0to150_m06m02_MC_iter159\n",
      "Writing hist:  hist_0to150_m06m02_MC_iter160\n",
      "Writing hist:  hist_0to150_m06m02_MC_iter161\n",
      "Writing hist:  hist_0to150_m06m02_MC_iter162\n",
      "Writing hist:  hist_0to150_m06m02_MC_iter163\n",
      "Writing hist:  hist_0to150_m06m02_MC_iter164\n",
      "Writing hist:  hist_0to150_m06m02_MC_iter165\n",
      "Writing hist:  hist_0to150_m06m02_MC_iter166\n",
      "Writing hist:  hist_0to150_m06m02_MC_iter167\n",
      "Writing hist:  hist_0to150_m06m02_MC_iter168\n",
      "Writing hist:  hist_0to150_m06m02_MC_iter169\n",
      "Writing hist:  hist_0to150_m06m02_MC_iter170\n",
      "Writing hist:  hist_0to150_m06m02_MC_iter171\n",
      "Writing hist:  hist_0to150_m06m02_MC_iter172\n",
      "Writing hist:  hist_0to150_m06m02_MC_iter173\n",
      "Writing hist:  hist_0to150_m06m02_MC_iter174\n",
      "Writing hist:  hist_0to150_m06m02_MC_iter175\n",
      "Writing hist:  hist_0to150_m06m02_MC_iter176\n",
      "Writing hist:  hist_0to150_m06m02_MC_iter177\n",
      "Writing hist:  hist_0to150_m06m02_MC_iter178\n",
      "Writing hist:  hist_0to150_m06m02_MC_iter179\n",
      "Writing hist:  hist_0to150_m06m02_MC_iter180\n",
      "Writing hist:  hist_0to150_m06m02_MC_iter181\n",
      "Writing hist:  hist_0to150_m06m02_MC_iter182\n",
      "Writing hist:  hist_0to150_m06m02_MC_iter183\n",
      "Writing hist:  hist_0to150_m06m02_MC_iter184\n",
      "Writing hist:  hist_0to150_m06m02_MC_iter185\n",
      "Writing hist:  hist_0to150_m06m02_MC_iter186\n",
      "Writing hist:  hist_0to150_m06m02_MC_iter187\n",
      "Writing hist:  hist_0to150_m06m02_MC_iter188\n",
      "Writing hist:  hist_0to150_m06m02_MC_iter189\n",
      "Writing hist:  hist_0to150_m06m02_MC_iter190\n",
      "Writing hist:  hist_0to150_m06m02_MC_iter191\n",
      "Writing hist:  hist_0to150_m06m02_MC_iter192\n",
      "Writing hist:  hist_0to150_m06m02_MC_iter193\n",
      "Writing hist:  hist_0to150_m06m02_MC_iter194\n",
      "Writing hist:  hist_0to150_m06m02_MC_iter195\n",
      "Writing hist:  hist_0to150_m06m02_MC_iter196\n",
      "Writing hist:  hist_0to150_m06m02_MC_iter197\n",
      "Writing hist:  hist_0to150_m06m02_MC_iter198\n",
      "Writing hist:  hist_0to150_m06m02_MC_iter199\n",
      "Writing hist:  hist_0to150_m06m02_MC_iter200\n",
      "Writing hist:  hist_0to150_m06m02_MC_iter201\n",
      "Writing hist:  hist_0to150_m06m02_MC_iter202\n",
      "Writing hist:  0 0 Name: hist_0to150_m06m02_data_iter1 Title: hist_0to150_m06m02_data_iter1 NbinsX: 20\n",
      "Writing hist:  0 1 Name: hist_0to150_m02p01_data_iter1 Title: hist_0to150_m02p01_data_iter1 NbinsX: 20\n",
      "Writing hist:  0 2 Name: hist_0to150_p01p08_data_iter1 Title: hist_0to150_p01p08_data_iter1 NbinsX: 20\n",
      "Writing hist:  0 3 Name: hist_150to300_m06m02_data_iter1 Title: hist_150to300_m06m02_data_iter1 NbinsX: 20\n",
      "Writing hist:  0 4 Name: hist_150to300_m02p01_data_iter1 Title: hist_150to300_m02p01_data_iter1 NbinsX: 20\n",
      "Writing hist:  0 5 Name: hist_150to300_p01p08_data_iter1 Title: hist_150to300_p01p08_data_iter1 NbinsX: 20\n",
      "Writing hist:  0 6 Name: hist_300to450_m06m02_data_iter1 Title: hist_300to450_m06m02_data_iter1 NbinsX: 20\n",
      "Writing hist:  0 7 Name: hist_300to450_m02p01_data_iter1 Title: hist_300to450_m02p01_data_iter1 NbinsX: 20\n",
      "Writing hist:  0 8 Name: hist_300to450_p01p08_data_iter1 Title: hist_300to450_p01p08_data_iter1 NbinsX: 20\n",
      "Writing hist:  0 9 Name: hist_450to600_m06m02_data_iter1 Title: hist_450to600_m06m02_data_iter1 NbinsX: 20\n",
      "Writing hist:  0 10 Name: hist_450to600_m02p01_data_iter1 Title: hist_450to600_m02p01_data_iter1 NbinsX: 20\n",
      "Writing hist:  0 11 Name: hist_450to600_p01p08_data_iter1 Title: hist_450to600_p01p08_data_iter1 NbinsX: 20\n",
      "Writing hist:  1 0 Name: hmass_data Title: hmass_data NbinsX: 100\n",
      "Writing hist:  2 0 Name: hz_data Title: hz_data NbinsX: 100\n"
     ]
    }
   ],
   "source": [
    "torch.save(feasible_incumbents, f\"./incumbents.pth\")\n",
    "fout = TFile(\"out.root\", \"RECREATE\")\n",
    "fout.cd()\n",
    "for hist in allHistsMC:\n",
    "    print (\"Writing hist: \", hist.GetName())\n",
    "    hist.Write()\n",
    "for j, hists in enumerate(histsData):\n",
    "    for k, hist in enumerate(hists):\n",
    "            hist.Write()\n",
    "            print (\"Writing hist: \", j, k, hist)\n",
    "fout.Close()"
   ]
  },
  {
   "cell_type": "code",
   "execution_count": 10,
   "metadata": {},
   "outputs": [
    {
     "name": "stdout",
     "output_type": "stream",
     "text": [
      "tensor([[-1.0000, -0.4678,  0.5433]])\n",
      "torch.Size([1, 3])\n"
     ]
    }
   ],
   "source": [
    "t = torch.tensor( [ [-1.0000, -0.4678,  0.5433]])\n",
    "print(t)\n",
    "print(t.shape)"
   ]
  },
  {
   "cell_type": "code",
   "execution_count": 11,
   "metadata": {},
   "outputs": [],
   "source": [
    "with torch.no_grad():\n",
    "    predictive_distribution = utility_likelihood(utility_model(xs))\n",
    "    predictive_mean = predictive_distribution.mean\n",
    "    predictive_lower, predictive_upper = predictive_distribution.confidence_region()\n"
   ]
  },
  {
   "cell_type": "code",
   "execution_count": 22,
   "metadata": {},
   "outputs": [
    {
     "data": {
      "application/vnd.jupyter.widget-view+json": {
       "model_id": "0e77cab3f28146c8b8b19d9e894d3245",
       "version_major": 2,
       "version_minor": 0
      },
      "text/plain": [
       "interactive(children=(IntSlider(value=50, description='x', layout=Layout(width='500px')), Output()), _dom_clas…"
      ]
     },
     "metadata": {},
     "output_type": "display_data"
    },
    {
     "data": {
      "text/plain": [
       "<function __main__.f(x)>"
      ]
     },
     "execution_count": 22,
     "metadata": {},
     "output_type": "execute_result"
    }
   ],
   "source": [
    "from ipywidgets import interact, Layout, IntSlider\n",
    "import numpy as np\n",
    "\n",
    "axis_titles = [r\"R of cone coordinates\", r\"$\\Phi$ of cone coordinates\", r\"Z of cone coordinates\"]\n",
    "\n",
    "def oneplot(ax, tensor, index, cmap, title, transpose=None):\n",
    "        \n",
    "        global xs\n",
    "        tensor_3d = torch.reshape(tensor, (101,101,101))\n",
    "        xs_3d = torch.reshape(xs, (101,101,101,3))\n",
    "        if transpose:\n",
    "               tensor_3d = tensor_3d.transpose(transpose[0],transpose[1])\n",
    "               xs_3d     = xs_3d    .transpose(transpose[0],transpose[1])\n",
    "        extent=[\n",
    "                xs_3d[0][0][0][1],\n",
    "                xs_3d[0][-1][0][1],\n",
    "                xs_3d[0][0][0][2],\n",
    "                xs_3d[0][0][-1][2],\n",
    "        ]\n",
    "        if transpose is None:\n",
    "                x_title=axis_titles[1]\n",
    "                y_title=axis_titles[2]\n",
    "        elif transpose == (0, 1):\n",
    "                x_title=axis_titles[0]\n",
    "                y_title=axis_titles[2]\n",
    "        elif transpose == (0,2):\n",
    "                x_title=axis_titles[1]\n",
    "                y_title=axis_titles[0]\n",
    "        \n",
    "        pos = ax.imshow(tensor_3d[index], cmap=cmap, interpolation=\"nearest\", origin=\"lower\", \n",
    "                vmin=tensor.min(), vmax=tensor.max(), extent=extent)\n",
    "        print(\"transpose\", transpose)\n",
    "        print(\"extent\", extent)\n",
    "        ax.set_aspect((extent[1]-extent[0])/(extent[3]-extent[2]))\n",
    "        ax.set_title(title)\n",
    "        ax.set_xlabel(x_title)\n",
    "        ax.set_ylabel(y_title)\n",
    "        plt.colorbar(pos)\n",
    "\n",
    "def ff(x, transpose):\n",
    "        cmap = \"gist_rainbow\"\n",
    "        fig, ax = plt.subplots(nrows=2, ncols=2)\n",
    "        oneplot(ax[0][0], predictive_mean, x, cmap, \"value\", transpose)\n",
    "        oneplot(ax[1][1], predictive_lower, x, cmap, \"lower confidence bound\", transpose)\n",
    "        oneplot(ax[0][1], predictive_upper, x, cmap, \"upper confidence bound\", transpose)\n",
    "        oneplot(ax[1][0], predictive_upper-predictive_lower, x, cmap, \"confidence int. width\", transpose)\n",
    "\n",
    "def f(x):\n",
    "        ff(x, None)\n",
    "\n",
    "interact(f, x=IntSlider(50, 0, 100, 1, layout=Layout(width='500px')))\n"
   ]
  },
  {
   "cell_type": "code",
   "execution_count": 23,
   "metadata": {},
   "outputs": [
    {
     "data": {
      "image/png": "[encoded data removed]",
      "text/plain": [
       "<Figure size 800x600 with 4 Axes>"
      ]
     },
     "metadata": {},
     "output_type": "display_data"
    },
    {
     "data": {
      "application/vnd.jupyter.widget-view+json": {
       "model_id": "6a426e1416c1442fa9c3e3cccc982c58",
       "version_major": 2,
       "version_minor": 0
      },
      "text/plain": [
       "interactive(children=(IntSlider(value=50, description='x', layout=Layout(width='500px')), Output()), _dom_clas…"
      ]
     },
     "metadata": {},
     "output_type": "display_data"
    },
    {
     "data": {
      "text/plain": [
       "<function __main__.g(x)>"
      ]
     },
     "execution_count": 23,
     "metadata": {},
     "output_type": "execute_result"
    }
   ],
   "source": [
    "def g(x):\n",
    "        ff(x, (0,1))\n",
    "           \n",
    "interact(g, x=IntSlider(50, 0, 100, 1, layout=Layout(width='500px')))"
   ]
  },
  {
   "cell_type": "code",
   "execution_count": null,
   "metadata": {},
   "outputs": [
    {
     "data": {
      "application/vnd.jupyter.widget-view+json": {
       "model_id": "59cec919879d4c09b8ee7837bcc5b1d2",
       "version_major": 2,
       "version_minor": 0
      },
      "text/plain": [
       "interactive(children=(IntSlider(value=50, description='x', layout=Layout(width='500px')), Output()), _dom_clas…"
      ]
     },
     "metadata": {},
     "output_type": "display_data"
    },
    {
     "data": {
      "text/plain": [
       "<function __main__.h(x)>"
      ]
     },
     "execution_count": 14,
     "metadata": {},
     "output_type": "execute_result"
    }
   ],
   "source": [
    "def h(x):\n",
    "        ff(x, (0,2))\n",
    "           \n",
    "interact(h, x=IntSlider(50, 0, 100, 1, layout=Layout(width='500px')))"
   ]
  },
  {
   "cell_type": "code",
   "execution_count": null,
   "metadata": {},
   "outputs": [
    {
     "data": {
      "text/plain": [
       "tensor([[0.0000, 0.0000, 0.0000],\n",
       "        [0.0000, 0.0000, 0.0200],\n",
       "        [0.0000, 0.0000, 0.0400],\n",
       "        ...,\n",
       "        [1.0000, 6.2832, 1.9600],\n",
       "        [1.0000, 6.2832, 1.9800],\n",
       "        [1.0000, 6.2832, 2.0000]])"
      ]
     },
     "execution_count": 15,
     "metadata": {},
     "output_type": "execute_result"
    }
   ],
   "source": [
    "t = torch.tensor([[[0.0538, 0.2096, 0.2256]]])\n",
    "t = torch.reshape(t,(1,3))\n",
    "(1,2,3)[1:]\n",
    "xs"
   ]
  },
  {
   "cell_type": "code",
   "execution_count": null,
   "metadata": {},
   "outputs": [
    {
     "data": {
      "text/plain": [
       "tensor([[  0,  79],\n",
       "        [  0,  80],\n",
       "        [  0,  81],\n",
       "        [  0,  82],\n",
       "        [  0,  83],\n",
       "        [  0,  84],\n",
       "        [  0,  85],\n",
       "        [  0,  86],\n",
       "        [  0,  87],\n",
       "        [  0,  88],\n",
       "        [  0,  89],\n",
       "        [  0,  90],\n",
       "        [  0,  91],\n",
       "        [  0,  92],\n",
       "        [  0,  93],\n",
       "        [  0,  94],\n",
       "        [  0,  95],\n",
       "        [  0,  96],\n",
       "        [  0,  97],\n",
       "        [  0,  98],\n",
       "        [  0,  99],\n",
       "        [  0, 100],\n",
       "        [  0, 101],\n",
       "        [  0, 102],\n",
       "        [  0, 103],\n",
       "        [  0, 104],\n",
       "        [  0, 105],\n",
       "        [  0, 106],\n",
       "        [  0, 107],\n",
       "        [  0, 108],\n",
       "        [  0, 109],\n",
       "        [  0, 110],\n",
       "        [  0, 111],\n",
       "        [  0, 112],\n",
       "        [  0, 113],\n",
       "        [  0, 114],\n",
       "        [  0, 115],\n",
       "        [  0, 116],\n",
       "        [  0, 117],\n",
       "        [  0, 118],\n",
       "        [  0, 119],\n",
       "        [  0, 120],\n",
       "        [  0, 121],\n",
       "        [  0, 122],\n",
       "        [  0, 123],\n",
       "        [  0, 124],\n",
       "        [  0, 125],\n",
       "        [  0, 126],\n",
       "        [  0, 127],\n",
       "        [  0, 128],\n",
       "        [  0, 129],\n",
       "        [  0, 130],\n",
       "        [  0, 131],\n",
       "        [  0, 132],\n",
       "        [  0, 133],\n",
       "        [  0, 134],\n",
       "        [  0, 135],\n",
       "        [  0, 136],\n",
       "        [  0, 137],\n",
       "        [  0, 138],\n",
       "        [  0, 139],\n",
       "        [  0, 140],\n",
       "        [  0, 141],\n",
       "        [  0, 142],\n",
       "        [  0, 143],\n",
       "        [  0, 144],\n",
       "        [  0, 145],\n",
       "        [  0, 146],\n",
       "        [  0, 147],\n",
       "        [  0, 148],\n",
       "        [  0, 149],\n",
       "        [  0, 150],\n",
       "        [  0, 151],\n",
       "        [  0, 152],\n",
       "        [  0, 153],\n",
       "        [  0, 154],\n",
       "        [  0, 155],\n",
       "        [  0, 156],\n",
       "        [  0, 157],\n",
       "        [  0, 158],\n",
       "        [  0, 159],\n",
       "        [  0, 160],\n",
       "        [  0, 161],\n",
       "        [  0, 162],\n",
       "        [  0, 163],\n",
       "        [  0, 164],\n",
       "        [  0, 165],\n",
       "        [  0, 166],\n",
       "        [  0, 167],\n",
       "        [  0, 168],\n",
       "        [  0, 169],\n",
       "        [  0, 170],\n",
       "        [  0, 171],\n",
       "        [  0, 172],\n",
       "        [  0, 173],\n",
       "        [  0, 174],\n",
       "        [  0, 175],\n",
       "        [  0, 176],\n",
       "        [  0, 177],\n",
       "        [  0, 178],\n",
       "        [  0, 179],\n",
       "        [  0, 180],\n",
       "        [  0, 181],\n",
       "        [  0, 182],\n",
       "        [  0, 183],\n",
       "        [  0, 184],\n",
       "        [  0, 185],\n",
       "        [  0, 186],\n",
       "        [  0, 187],\n",
       "        [  0, 188],\n",
       "        [  0, 189],\n",
       "        [  0, 190],\n",
       "        [  0, 191],\n",
       "        [  0, 192],\n",
       "        [  0, 193],\n",
       "        [  0, 194],\n",
       "        [  0, 195],\n",
       "        [  0, 196],\n",
       "        [  0, 197],\n",
       "        [  0, 198],\n",
       "        [  0, 199]])"
      ]
     },
     "execution_count": 16,
     "metadata": {},
     "output_type": "execute_result"
    }
   ],
   "source": [
    "(feasible_incumbents==feasible_incumbents.max()).nonzero()"
   ]
  },
  {
   "cell_type": "code",
   "execution_count": null,
   "metadata": {},
   "outputs": [
    {
     "data": {
      "text/plain": [
       "tensor(1.0035)"
      ]
     },
     "execution_count": 17,
     "metadata": {},
     "output_type": "execute_result"
    }
   ],
   "source": [
    "best_f / (math.pi/2)"
   ]
  },
  {
   "cell_type": "code",
   "execution_count": 25,
   "metadata": {},
   "outputs": [
    {
     "name": "stdout",
     "output_type": "stream",
     "text": [
      "tensor(0.)\n",
      "tensor(1.)\n"
     ]
    }
   ],
   "source": [
    "#train_x[94]\n",
    "lambdas(train_x[46])\n",
    "#1./math.sqrt(2)\n",
    "len(xs)\n",
    "xs_3d = torch.reshape(xs, (101,101,101,3))\n",
    "print(xs_3d[0][0][0][0])\n",
    "print(xs_3d[-1][0][0][0])"
   ]
  },
  {
   "cell_type": "code",
   "execution_count": null,
   "metadata": {},
   "outputs": [],
   "source": []
  }
 ],
 "metadata": {
  "interpreter": {
   "hash": "99cab06c27f02725e88b2dbe1836c12fd9df359a24b9134df2d5dc04c534a853"
  },
  "kernelspec": {
   "display_name": "Python 3.11.4 64-bit ('pyroot': conda)",
   "name": "python3"
  },
  "language_info": {
   "codemirror_mode": {
    "name": "ipython",
    "version": 3
   },
   "file_extension": ".py",
   "mimetype": "text/x-python",
   "name": "python",
   "nbconvert_exporter": "python",
   "pygments_lexer": "ipython3",
   "version": "3.11.4"
  },
  "orig_nbformat": 4
 },
 "nbformat": 4,
 "nbformat_minor": 2
}
