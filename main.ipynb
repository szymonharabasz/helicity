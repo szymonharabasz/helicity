{
 "cells": [
  {
   "cell_type": "code",
   "execution_count": 1,
   "source": [
    "from bins import Bins\n",
    "from utils import calcAllChi2, calcOneChi2, makeHists\n",
    "from ROOT import TFile, TH1\n",
    "\n",
    "bins = Bins.readFrom(\"ranges.yml\")\n",
    "#histsMC = makeHists(\"medium_isotropic_eff_ag1230ag_np_9deg.dat\", \"_MC\", bins)\n",
    "histsData = makeHists(\"apr12_diele_088_090_ag123ag_2500A_accepted_np_2.dat\", \"_data\", bins)\n",
    "\n",
    "#outfile = TFIle(\"out.root\",\"RECREATE\")\n",
    "allHistsMC = []\n",
    "\n",
    "#calcAllChi2(histsMC, histsData)"
   ],
   "outputs": [
    {
     "output_type": "stream",
     "name": "stdout",
     "text": [
      "Welcome to JupyROOT 6.28/04\n",
      "Before processing events 12:52:48\n"
     ]
    },
    {
     "output_type": "display_data",
     "data": {
      "application/vnd.jupyter.widget-view+json": {
       "version_major": 2,
       "version_minor": 0,
       "model_id": "ca7ea7e93dab41aea0495e347d976581"
      },
      "text/plain": [
       "  0%|          | 0/38546 [00:00<?, ?it/s]"
      ]
     },
     "metadata": {}
    },
    {
     "output_type": "stream",
     "name": "stdout",
     "text": [
      "After processing events 12:52:48\n"
     ]
    }
   ],
   "metadata": {}
  },
  {
   "cell_type": "code",
   "execution_count": 2,
   "source": [
    "len(histsData[0])"
   ],
   "outputs": [
    {
     "output_type": "execute_result",
     "data": {
      "text/plain": [
       "12"
      ]
     },
     "metadata": {},
     "execution_count": 2
    }
   ],
   "metadata": {}
  },
  {
   "cell_type": "code",
   "execution_count": 3,
   "source": [
    "import torch\n",
    "\n",
    "torch.manual_seed(0)\n",
    "\n",
    "import gpytorch\n",
    "import botorch\n",
    "\n",
    "import matplotlib.pyplot as plt\n",
    "\n",
    "plt.style.use(\"bmh\")\n",
    "plt.rcParams[\"figure.figsize\"] = (8, 6)\n",
    "\n",
    "from tqdm.notebook import tqdm\n",
    "\n",
    "import warnings"
   ],
   "outputs": [],
   "metadata": {}
  },
  {
   "cell_type": "code",
   "execution_count": 4,
   "source": [
    "TH1.SetDefaultSumw2\n",
    "\n",
    "N_PARAMS = 3\n",
    "\n",
    "grid_x = torch.linspace(-1,1,101)\n",
    "\n",
    "grid_x1, grid_x2, grid_x3 = torch.meshgrid(grid_x, grid_x, grid_x, indexing=\"ij\")\n",
    "\n",
    "xs = torch.vstack([grid_x1.flatten(), grid_x2.flatten(), grid_x3.flatten()]).transpose(-2,-1)\n",
    "\n",
    "print(xs)\n",
    "print(xs.size())"
   ],
   "outputs": [
    {
     "output_type": "stream",
     "name": "stdout",
     "text": [
      "tensor([[-1.0000, -1.0000, -1.0000],\n",
      "        [-1.0000, -1.0000, -0.9800],\n",
      "        [-1.0000, -1.0000, -0.9600],\n",
      "        ...,\n",
      "        [ 1.0000,  1.0000,  0.9600],\n",
      "        [ 1.0000,  1.0000,  0.9800],\n",
      "        [ 1.0000,  1.0000,  1.0000]])\n",
      "torch.Size([1030301, 3])\n"
     ]
    }
   ],
   "metadata": {}
  },
  {
   "cell_type": "code",
   "execution_count": 5,
   "source": [
    "lb = -1\n",
    "ub = 1\n",
    "\n",
    "bounds = torch.tensor([[lb]*N_PARAMS, [ub]*N_PARAMS], dtype=torch.float)\n",
    "bounds"
   ],
   "outputs": [
    {
     "output_type": "execute_result",
     "data": {
      "text/plain": [
       "tensor([[-1., -1., -1.],\n",
       "        [ 1.,  1.,  1.]])"
      ]
     },
     "metadata": {},
     "execution_count": 5
    }
   ],
   "metadata": {}
  },
  {
   "cell_type": "code",
   "execution_count": 6,
   "source": [
    "class GPModel(gpytorch.models.ExactGP, botorch.models.gpytorch.GPyTorchModel):\n",
    "    _num_outputs = 1\n",
    "\n",
    "    def __init__(self, train_x, train_y, likelihood):\n",
    "        super().__init__(train_x, train_y, likelihood)\n",
    "        self.mean_module = gpytorch.means.ConstantMean()\n",
    "        self.covar_module = gpytorch.kernels.ScaleKernel(\n",
    "            gpytorch.kernels.MaternKernel(nu=2.5, ard_num_dims=1)\n",
    "        )\n",
    "\n",
    "    def forward(self, x):\n",
    "        mean_x = self.mean_module(x)\n",
    "        covar_x = self.covar_module(x)\n",
    "        return gpytorch.distributions.MultivariateNormal(mean_x, covar_x)\n",
    "\n",
    "\n",
    "def fit_gp_model(train_x, train_y, num_train_iters=500):\n",
    "    # declare the GP\n",
    "    noise = 1e-4\n",
    "\n",
    "    likelihood = gpytorch.likelihoods.GaussianLikelihood()\n",
    "    model = GPModel(train_x, train_y, likelihood)\n",
    "    model.likelihood.noise = noise\n",
    "\n",
    "    # train the hyperparameter (the constant)\n",
    "    optimizer = torch.optim.Adam(model.parameters(), lr=0.01)\n",
    "    mll = gpytorch.mlls.ExactMarginalLogLikelihood(likelihood, model)\n",
    "\n",
    "    model.train()\n",
    "    likelihood.train()\n",
    "\n",
    "    for i in range(num_train_iters):\n",
    "        optimizer.zero_grad()\n",
    "\n",
    "        output = model(train_x)\n",
    "        loss = -mll(output, train_y)\n",
    "\n",
    "        loss.backward()\n",
    "        optimizer.step()\n",
    "\n",
    "    model.eval()\n",
    "    likelihood.eval()\n",
    "\n",
    "    return model, likelihood"
   ],
   "outputs": [],
   "metadata": {}
  },
  {
   "cell_type": "code",
   "execution_count": 7,
   "source": [
    "num_queries = 100\n",
    "num_repeats = 1"
   ],
   "outputs": [],
   "metadata": {}
  },
  {
   "cell_type": "code",
   "execution_count": 8,
   "source": [
    "def lambdas(x):\n",
    "    return x[0][0], x[0][1], x[0][2]\n",
    "\n",
    "def cost(x):\n",
    "    lambda_theta, lambda_phi, lambda_theta_phi = lambdas(x)\n",
    "\n",
    "    result = 0\n",
    "\n",
    "    if pow(1-lambda_phi, 2) - pow(lambda_theta-lambda_phi, 2) < 4*pow(lambda_theta_phi, 2):\n",
    "        result = 1\n",
    "    if 1 + lambda_theta + 2*lambda_phi < 0:\n",
    "        result = 1\n",
    "\n",
    "    return torch.tensor([result])\n",
    "\n",
    "def objective(x):\n",
    "    lambda_theta, lambda_phi, lambda_theta_phi = lambdas(x)\n",
    "\n",
    "    histsMC = makeHists(\"medium_isotropic_eff_ag1230ag_np_9deg.dat\", \"_MC\", bins, lambda_theta, lambda_phi, lambda_theta_phi)\n",
    "    chi2, ndf = calcOneChi2(histsMC[0][0], histsData[0][0])\n",
    "    allHistsMC.append(histsMC[0][0])\n",
    "    if not chi2 or not ndf:\n",
    "        return torch.tensor([0])\n",
    "    return torch.tensor([1./(chi2 / ndf)])"
   ],
   "outputs": [],
   "metadata": {}
  },
  {
   "cell_type": "code",
   "execution_count": 9,
   "source": [
    "strategy = \"cei\"  # \"cei\" or \"ei\"\n",
    "strategy = strategy.upper()\n",
    "\n",
    "# -2 is the default value when no feasible has been found\n",
    "default_value = -2\n",
    "feasible_incumbents = torch.ones((num_repeats, num_queries)) * default_value\n",
    "\n",
    "for trial in range(num_repeats):\n",
    "    print(\"trial\", trial)\n",
    "\n",
    "    torch.manual_seed(trial)\n",
    "    train_x = bounds[0] + (bounds[1] - bounds[0]) * torch.rand(1, 3)\n",
    "    train_utility = objective(train_x)\n",
    "    train_cost = cost(train_x)\n",
    "\n",
    "    for i in tqdm(range(num_queries)):\n",
    "        print(\"query\", i)\n",
    "\n",
    "        feasible_flag = (train_cost <= 0).any()\n",
    "\n",
    "        if feasible_flag:\n",
    "            feasible_incumbents[trial, i] = train_utility[train_cost <= 0].max()\n",
    "\n",
    "        utility_model, utility_likelihood = fit_gp_model(\n",
    "            train_x, train_utility.squeeze(-1)\n",
    "        )\n",
    "        cost_model, cost_likelihood = fit_gp_model(train_x, train_cost.squeeze(-1))\n",
    "\n",
    "        if feasible_flag:\n",
    "            best_f = train_utility[train_cost <= 0].max()\n",
    "        else:\n",
    "            best_f = torch.tensor(default_value)\n",
    "\n",
    "        if strategy == \"EI\":\n",
    "            policy = botorch.acquisition.analytic.ExpectedImprovement(\n",
    "                model=utility_model,\n",
    "                best_f=train_utility.max(),\n",
    "            )\n",
    "\n",
    "        if strategy == \"CEI\":\n",
    "            policy = botorch.acquisition.analytic.ConstrainedExpectedImprovement(\n",
    "                model=botorch.models.model_list_gp_regression.ModelListGP(\n",
    "                    utility_model, cost_model\n",
    "                ),\n",
    "                best_f=best_f,\n",
    "                objective_index=0,\n",
    "                constraints={1: [None, 0]}\n",
    "            )\n",
    "        \n",
    "        with warnings.catch_warnings():\n",
    "            warnings.filterwarnings('ignore', category=RuntimeWarning)\n",
    "            next_x, acq_val = botorch.optim.optimize_acqf(\n",
    "                policy,\n",
    "                bounds=bounds,\n",
    "                q=1,\n",
    "                num_restarts=40,\n",
    "                raw_samples=100,\n",
    "            )\n",
    "\n",
    "        next_utility = objective(next_x)\n",
    "        next_cost = cost(next_x)\n",
    "\n",
    "        train_x = torch.cat([train_x, next_x])\n",
    "        train_utility = torch.cat([train_utility, next_utility])\n",
    "        train_cost = torch.cat([train_cost, next_cost])"
   ],
   "outputs": [
    {
     "output_type": "stream",
     "name": "stdout",
     "text": [
      "trial 0\n",
      "Before processing events 12:53:30\n"
     ]
    },
    {
     "output_type": "display_data",
     "data": {
      "application/vnd.jupyter.widget-view+json": {
       "version_major": 2,
       "version_minor": 0,
       "model_id": "d0e3d28346954b06be76e6bafe1fe7bc"
      },
      "text/plain": [
       "  0%|          | 0/1385092 [00:00<?, ?it/s]"
      ]
     },
     "metadata": {}
    },
    {
     "output_type": "stream",
     "name": "stdout",
     "text": [
      "After processing events 12:54:02\n"
     ]
    },
    {
     "output_type": "display_data",
     "data": {
      "application/vnd.jupyter.widget-view+json": {
       "version_major": 2,
       "version_minor": 0,
       "model_id": "e5dcc4a3a3974d4cb55cc7797ca2f59f"
      },
      "text/plain": [
       "  0%|          | 0/100 [00:00<?, ?it/s]"
      ]
     },
     "metadata": {}
    },
    {
     "output_type": "stream",
     "name": "stdout",
     "text": [
      "query 0\n"
     ]
    },
    {
     "output_type": "stream",
     "name": "stderr",
     "text": [
      "/Users/harabasz/miniforge3/envs/pyroot/lib/python3.11/site-packages/botorch/optim/initializers.py:403: BadInitialCandidatesWarning: Unable to find non-zero acquisition function values - initial conditions are being selected randomly.\n",
      "  warnings.warn(\n"
     ]
    },
    {
     "output_type": "stream",
     "name": "stdout",
     "text": [
      "Before processing events 12:54:38\n"
     ]
    },
    {
     "output_type": "display_data",
     "data": {
      "application/vnd.jupyter.widget-view+json": {
       "version_major": 2,
       "version_minor": 0,
       "model_id": "687163aa739f40bb86c55fdde78a6329"
      },
      "text/plain": [
       "  0%|          | 0/1385092 [00:00<?, ?it/s]"
      ]
     },
     "metadata": {}
    },
    {
     "output_type": "stream",
     "name": "stdout",
     "text": [
      "After processing events 12:55:11\n",
      "query 1\n"
     ]
    },
    {
     "output_type": "stream",
     "name": "stderr",
     "text": [
      "/Users/harabasz/miniforge3/envs/pyroot/lib/python3.11/site-packages/botorch/optim/initializers.py:403: BadInitialCandidatesWarning: Unable to find non-zero acquisition function values - initial conditions are being selected randomly.\n",
      "  warnings.warn(\n"
     ]
    },
    {
     "output_type": "stream",
     "name": "stdout",
     "text": [
      "Before processing events 12:55:47\n"
     ]
    },
    {
     "output_type": "display_data",
     "data": {
      "application/vnd.jupyter.widget-view+json": {
       "version_major": 2,
       "version_minor": 0,
       "model_id": "e630ad9d59314bc8beb5cf3510176db7"
      },
      "text/plain": [
       "  0%|          | 0/1385092 [00:00<?, ?it/s]"
      ]
     },
     "metadata": {}
    },
    {
     "output_type": "stream",
     "name": "stdout",
     "text": [
      "After processing events 12:56:19\n",
      "query 2\n"
     ]
    },
    {
     "output_type": "stream",
     "name": "stderr",
     "text": [
      "/Users/harabasz/miniforge3/envs/pyroot/lib/python3.11/site-packages/botorch/optim/initializers.py:403: BadInitialCandidatesWarning: Unable to find non-zero acquisition function values - initial conditions are being selected randomly.\n",
      "  warnings.warn(\n"
     ]
    },
    {
     "output_type": "stream",
     "name": "stdout",
     "text": [
      "Before processing events 12:56:55\n"
     ]
    },
    {
     "output_type": "display_data",
     "data": {
      "application/vnd.jupyter.widget-view+json": {
       "version_major": 2,
       "version_minor": 0,
       "model_id": "c4da585002df447d835846f71651a18a"
      },
      "text/plain": [
       "  0%|          | 0/1385092 [00:00<?, ?it/s]"
      ]
     },
     "metadata": {}
    },
    {
     "output_type": "stream",
     "name": "stdout",
     "text": [
      "After processing events 12:57:27\n",
      "query 3\n"
     ]
    },
    {
     "output_type": "stream",
     "name": "stderr",
     "text": [
      "/Users/harabasz/miniforge3/envs/pyroot/lib/python3.11/site-packages/botorch/optim/initializers.py:403: BadInitialCandidatesWarning: Unable to find non-zero acquisition function values - initial conditions are being selected randomly.\n",
      "  warnings.warn(\n"
     ]
    },
    {
     "output_type": "stream",
     "name": "stdout",
     "text": [
      "Before processing events 12:58:04\n"
     ]
    },
    {
     "output_type": "display_data",
     "data": {
      "application/vnd.jupyter.widget-view+json": {
       "version_major": 2,
       "version_minor": 0,
       "model_id": "35c6ec2c13a0449a90f9bf087f0a256b"
      },
      "text/plain": [
       "  0%|          | 0/1385092 [00:00<?, ?it/s]"
      ]
     },
     "metadata": {}
    },
    {
     "output_type": "stream",
     "name": "stdout",
     "text": [
      "After processing events 12:58:36\n",
      "query 4\n",
      "Before processing events 12:59:13\n"
     ]
    },
    {
     "output_type": "display_data",
     "data": {
      "application/vnd.jupyter.widget-view+json": {
       "version_major": 2,
       "version_minor": 0,
       "model_id": "f4c12f53a86f4e24aa7df465916d4a02"
      },
      "text/plain": [
       "  0%|          | 0/1385092 [00:00<?, ?it/s]"
      ]
     },
     "metadata": {}
    },
    {
     "output_type": "stream",
     "name": "stdout",
     "text": [
      "After processing events 12:59:46\n",
      "query 5\n",
      "Before processing events 13:00:25\n"
     ]
    },
    {
     "output_type": "display_data",
     "data": {
      "application/vnd.jupyter.widget-view+json": {
       "version_major": 2,
       "version_minor": 0,
       "model_id": "a9ce35d0e4e04b8aa95c3e76712d287b"
      },
      "text/plain": [
       "  0%|          | 0/1385092 [00:00<?, ?it/s]"
      ]
     },
     "metadata": {}
    },
    {
     "output_type": "stream",
     "name": "stdout",
     "text": [
      "After processing events 13:00:58\n",
      "query 6\n",
      "Before processing events 13:01:37\n"
     ]
    },
    {
     "output_type": "display_data",
     "data": {
      "application/vnd.jupyter.widget-view+json": {
       "version_major": 2,
       "version_minor": 0,
       "model_id": "aa58dcb27ddc4fb18df0483e75b132a9"
      },
      "text/plain": [
       "  0%|          | 0/1385092 [00:00<?, ?it/s]"
      ]
     },
     "metadata": {}
    },
    {
     "output_type": "stream",
     "name": "stdout",
     "text": [
      "After processing events 13:02:09\n",
      "query 7\n",
      "Before processing events 13:02:50\n"
     ]
    },
    {
     "output_type": "display_data",
     "data": {
      "application/vnd.jupyter.widget-view+json": {
       "version_major": 2,
       "version_minor": 0,
       "model_id": "3e77f69bab2a47009ffe328a01e76d80"
      },
      "text/plain": [
       "  0%|          | 0/1385092 [00:00<?, ?it/s]"
      ]
     },
     "metadata": {}
    },
    {
     "output_type": "stream",
     "name": "stdout",
     "text": [
      "After processing events 13:03:24\n",
      "query 8\n",
      "Before processing events 13:04:02\n"
     ]
    },
    {
     "output_type": "display_data",
     "data": {
      "application/vnd.jupyter.widget-view+json": {
       "version_major": 2,
       "version_minor": 0,
       "model_id": "48e71b142c0f468cb41b938a222e08dc"
      },
      "text/plain": [
       "  0%|          | 0/1385092 [00:00<?, ?it/s]"
      ]
     },
     "metadata": {}
    },
    {
     "output_type": "stream",
     "name": "stdout",
     "text": [
      "After processing events 13:04:34\n",
      "query 9\n",
      "Before processing events 13:05:11\n"
     ]
    },
    {
     "output_type": "display_data",
     "data": {
      "application/vnd.jupyter.widget-view+json": {
       "version_major": 2,
       "version_minor": 0,
       "model_id": "96c5b3d92bf3470080f82526e14170a3"
      },
      "text/plain": [
       "  0%|          | 0/1385092 [00:00<?, ?it/s]"
      ]
     },
     "metadata": {}
    },
    {
     "output_type": "stream",
     "name": "stdout",
     "text": [
      "After processing events 13:05:43\n",
      "query 10\n",
      "Before processing events 13:06:20\n"
     ]
    },
    {
     "output_type": "display_data",
     "data": {
      "application/vnd.jupyter.widget-view+json": {
       "version_major": 2,
       "version_minor": 0,
       "model_id": "65022f064e9c41d293e5960c9ba84d40"
      },
      "text/plain": [
       "  0%|          | 0/1385092 [00:00<?, ?it/s]"
      ]
     },
     "metadata": {}
    },
    {
     "output_type": "stream",
     "name": "stdout",
     "text": [
      "After processing events 13:06:52\n",
      "query 11\n",
      "Before processing events 13:07:29\n"
     ]
    },
    {
     "output_type": "display_data",
     "data": {
      "application/vnd.jupyter.widget-view+json": {
       "version_major": 2,
       "version_minor": 0,
       "model_id": "e40037e61d234f30bf6dfe5ff53e113b"
      },
      "text/plain": [
       "  0%|          | 0/1385092 [00:00<?, ?it/s]"
      ]
     },
     "metadata": {}
    },
    {
     "output_type": "stream",
     "name": "stdout",
     "text": [
      "After processing events 13:08:01\n",
      "query 12\n",
      "Before processing events 13:08:38\n"
     ]
    },
    {
     "output_type": "display_data",
     "data": {
      "application/vnd.jupyter.widget-view+json": {
       "version_major": 2,
       "version_minor": 0,
       "model_id": "b3745e744eff45329826971c29561590"
      },
      "text/plain": [
       "  0%|          | 0/1385092 [00:00<?, ?it/s]"
      ]
     },
     "metadata": {}
    },
    {
     "output_type": "stream",
     "name": "stdout",
     "text": [
      "After processing events 13:09:10\n",
      "query 13\n",
      "Before processing events 13:09:49\n"
     ]
    },
    {
     "output_type": "display_data",
     "data": {
      "application/vnd.jupyter.widget-view+json": {
       "version_major": 2,
       "version_minor": 0,
       "model_id": "945ff97eab9b4d7ba608f1f7a86daf70"
      },
      "text/plain": [
       "  0%|          | 0/1385092 [00:00<?, ?it/s]"
      ]
     },
     "metadata": {}
    },
    {
     "output_type": "stream",
     "name": "stdout",
     "text": [
      "After processing events 13:10:20\n",
      "query 14\n",
      "Before processing events 13:10:57\n"
     ]
    },
    {
     "output_type": "display_data",
     "data": {
      "application/vnd.jupyter.widget-view+json": {
       "version_major": 2,
       "version_minor": 0,
       "model_id": "677084346d934375913bceb558464d3f"
      },
      "text/plain": [
       "  0%|          | 0/1385092 [00:00<?, ?it/s]"
      ]
     },
     "metadata": {}
    },
    {
     "output_type": "stream",
     "name": "stdout",
     "text": [
      "After processing events 13:11:29\n",
      "query 15\n",
      "Before processing events 13:12:06\n"
     ]
    },
    {
     "output_type": "display_data",
     "data": {
      "application/vnd.jupyter.widget-view+json": {
       "version_major": 2,
       "version_minor": 0,
       "model_id": "8c5e192c3cf64d17b8633ace2f002e00"
      },
      "text/plain": [
       "  0%|          | 0/1385092 [00:00<?, ?it/s]"
      ]
     },
     "metadata": {}
    },
    {
     "output_type": "stream",
     "name": "stdout",
     "text": [
      "After processing events 13:12:37\n",
      "query 16\n",
      "Before processing events 13:13:14\n"
     ]
    },
    {
     "output_type": "display_data",
     "data": {
      "application/vnd.jupyter.widget-view+json": {
       "version_major": 2,
       "version_minor": 0,
       "model_id": "4256eec6b3724d7db2c0d9f17f8136bc"
      },
      "text/plain": [
       "  0%|          | 0/1385092 [00:00<?, ?it/s]"
      ]
     },
     "metadata": {}
    },
    {
     "output_type": "stream",
     "name": "stdout",
     "text": [
      "After processing events 13:13:46\n",
      "query 17\n",
      "Before processing events 13:14:23\n"
     ]
    },
    {
     "output_type": "display_data",
     "data": {
      "application/vnd.jupyter.widget-view+json": {
       "version_major": 2,
       "version_minor": 0,
       "model_id": "e819fe92346444c0b203de7015d1756c"
      },
      "text/plain": [
       "  0%|          | 0/1385092 [00:00<?, ?it/s]"
      ]
     },
     "metadata": {}
    },
    {
     "output_type": "stream",
     "name": "stdout",
     "text": [
      "After processing events 13:14:55\n",
      "query 18\n",
      "Before processing events 13:15:31\n"
     ]
    },
    {
     "output_type": "display_data",
     "data": {
      "application/vnd.jupyter.widget-view+json": {
       "version_major": 2,
       "version_minor": 0,
       "model_id": "81d56e09ed9d4c0d9fd7d51d6d5be306"
      },
      "text/plain": [
       "  0%|          | 0/1385092 [00:00<?, ?it/s]"
      ]
     },
     "metadata": {}
    },
    {
     "output_type": "stream",
     "name": "stdout",
     "text": [
      "After processing events 13:16:03\n",
      "query 19\n",
      "Before processing events 13:16:40\n"
     ]
    },
    {
     "output_type": "display_data",
     "data": {
      "application/vnd.jupyter.widget-view+json": {
       "version_major": 2,
       "version_minor": 0,
       "model_id": "09fafe53b7d24284bb69ab40786e9f5e"
      },
      "text/plain": [
       "  0%|          | 0/1385092 [00:00<?, ?it/s]"
      ]
     },
     "metadata": {}
    },
    {
     "output_type": "stream",
     "name": "stdout",
     "text": [
      "After processing events 13:17:12\n",
      "query 20\n",
      "Before processing events 13:17:48\n"
     ]
    },
    {
     "output_type": "display_data",
     "data": {
      "application/vnd.jupyter.widget-view+json": {
       "version_major": 2,
       "version_minor": 0,
       "model_id": "3428447560134c14a02dcee191e07d51"
      },
      "text/plain": [
       "  0%|          | 0/1385092 [00:00<?, ?it/s]"
      ]
     },
     "metadata": {}
    },
    {
     "output_type": "stream",
     "name": "stdout",
     "text": [
      "After processing events 13:18:20\n",
      "query 21\n",
      "Before processing events 13:18:56\n"
     ]
    },
    {
     "output_type": "display_data",
     "data": {
      "application/vnd.jupyter.widget-view+json": {
       "version_major": 2,
       "version_minor": 0,
       "model_id": "aae0b62461a64d9abf445a4f74037a1a"
      },
      "text/plain": [
       "  0%|          | 0/1385092 [00:00<?, ?it/s]"
      ]
     },
     "metadata": {}
    },
    {
     "output_type": "stream",
     "name": "stdout",
     "text": [
      "After processing events 13:19:28\n",
      "query 22\n",
      "Before processing events 13:20:05\n"
     ]
    },
    {
     "output_type": "display_data",
     "data": {
      "application/vnd.jupyter.widget-view+json": {
       "version_major": 2,
       "version_minor": 0,
       "model_id": "820eb20a21c342eab86a7a0340322758"
      },
      "text/plain": [
       "  0%|          | 0/1385092 [00:00<?, ?it/s]"
      ]
     },
     "metadata": {}
    },
    {
     "output_type": "stream",
     "name": "stdout",
     "text": [
      "After processing events 13:20:37\n",
      "query 23\n",
      "Before processing events 13:21:13\n"
     ]
    },
    {
     "output_type": "display_data",
     "data": {
      "application/vnd.jupyter.widget-view+json": {
       "version_major": 2,
       "version_minor": 0,
       "model_id": "db8951b76a554369b7e2d6242b7ca9bf"
      },
      "text/plain": [
       "  0%|          | 0/1385092 [00:00<?, ?it/s]"
      ]
     },
     "metadata": {}
    },
    {
     "output_type": "stream",
     "name": "stdout",
     "text": [
      "After processing events 13:21:45\n",
      "query 24\n",
      "Before processing events 13:22:21\n"
     ]
    },
    {
     "output_type": "display_data",
     "data": {
      "application/vnd.jupyter.widget-view+json": {
       "version_major": 2,
       "version_minor": 0,
       "model_id": "d00ec492bc194d71abe8ea5e55adf9e0"
      },
      "text/plain": [
       "  0%|          | 0/1385092 [00:00<?, ?it/s]"
      ]
     },
     "metadata": {}
    },
    {
     "output_type": "stream",
     "name": "stdout",
     "text": [
      "After processing events 13:22:53\n",
      "query 25\n",
      "Before processing events 13:23:30\n"
     ]
    },
    {
     "output_type": "display_data",
     "data": {
      "application/vnd.jupyter.widget-view+json": {
       "version_major": 2,
       "version_minor": 0,
       "model_id": "cd67da707ef640d99059587fbfb15be7"
      },
      "text/plain": [
       "  0%|          | 0/1385092 [00:00<?, ?it/s]"
      ]
     },
     "metadata": {}
    },
    {
     "output_type": "stream",
     "name": "stdout",
     "text": [
      "After processing events 13:24:02\n",
      "query 26\n",
      "Before processing events 13:24:38\n"
     ]
    },
    {
     "output_type": "display_data",
     "data": {
      "application/vnd.jupyter.widget-view+json": {
       "version_major": 2,
       "version_minor": 0,
       "model_id": "4509570410e04ae3854d4db2f7c64ee7"
      },
      "text/plain": [
       "  0%|          | 0/1385092 [00:00<?, ?it/s]"
      ]
     },
     "metadata": {}
    },
    {
     "output_type": "stream",
     "name": "stdout",
     "text": [
      "After processing events 13:25:09\n",
      "query 27\n",
      "Before processing events 13:25:46\n"
     ]
    },
    {
     "output_type": "display_data",
     "data": {
      "application/vnd.jupyter.widget-view+json": {
       "version_major": 2,
       "version_minor": 0,
       "model_id": "1ee04e41d8c140728e29f45cffcf0158"
      },
      "text/plain": [
       "  0%|          | 0/1385092 [00:00<?, ?it/s]"
      ]
     },
     "metadata": {}
    },
    {
     "output_type": "stream",
     "name": "stdout",
     "text": [
      "After processing events 13:26:17\n",
      "query 28\n",
      "Before processing events 13:26:54\n"
     ]
    },
    {
     "output_type": "display_data",
     "data": {
      "application/vnd.jupyter.widget-view+json": {
       "version_major": 2,
       "version_minor": 0,
       "model_id": "3f341ac6eb0b4458b51725046d4bb457"
      },
      "text/plain": [
       "  0%|          | 0/1385092 [00:00<?, ?it/s]"
      ]
     },
     "metadata": {}
    },
    {
     "output_type": "stream",
     "name": "stdout",
     "text": [
      "After processing events 13:27:25\n",
      "query 29\n",
      "Before processing events 13:28:02\n"
     ]
    },
    {
     "output_type": "display_data",
     "data": {
      "application/vnd.jupyter.widget-view+json": {
       "version_major": 2,
       "version_minor": 0,
       "model_id": "0648702ed27d471199d6291d096eee31"
      },
      "text/plain": [
       "  0%|          | 0/1385092 [00:00<?, ?it/s]"
      ]
     },
     "metadata": {}
    },
    {
     "output_type": "stream",
     "name": "stdout",
     "text": [
      "After processing events 13:28:33\n",
      "query 30\n",
      "Before processing events 13:29:10\n"
     ]
    },
    {
     "output_type": "display_data",
     "data": {
      "application/vnd.jupyter.widget-view+json": {
       "version_major": 2,
       "version_minor": 0,
       "model_id": "a0c5ad2d68b4479a9b55ca3c187e2fbe"
      },
      "text/plain": [
       "  0%|          | 0/1385092 [00:00<?, ?it/s]"
      ]
     },
     "metadata": {}
    },
    {
     "output_type": "stream",
     "name": "stdout",
     "text": [
      "After processing events 13:29:41\n",
      "query 31\n",
      "Before processing events 13:30:18\n"
     ]
    },
    {
     "output_type": "display_data",
     "data": {
      "application/vnd.jupyter.widget-view+json": {
       "version_major": 2,
       "version_minor": 0,
       "model_id": "1b751c923ace410581f59ab61c1f30b3"
      },
      "text/plain": [
       "  0%|          | 0/1385092 [00:00<?, ?it/s]"
      ]
     },
     "metadata": {}
    },
    {
     "output_type": "stream",
     "name": "stdout",
     "text": [
      "After processing events 13:30:49\n",
      "query 32\n",
      "Before processing events 13:31:25\n"
     ]
    },
    {
     "output_type": "display_data",
     "data": {
      "application/vnd.jupyter.widget-view+json": {
       "version_major": 2,
       "version_minor": 0,
       "model_id": "73e38a82fd2142cfb137b494fbf05d3f"
      },
      "text/plain": [
       "  0%|          | 0/1385092 [00:00<?, ?it/s]"
      ]
     },
     "metadata": {}
    },
    {
     "output_type": "stream",
     "name": "stdout",
     "text": [
      "After processing events 13:31:57\n",
      "query 33\n",
      "Before processing events 13:32:34\n"
     ]
    },
    {
     "output_type": "display_data",
     "data": {
      "application/vnd.jupyter.widget-view+json": {
       "version_major": 2,
       "version_minor": 0,
       "model_id": "e2376ca97e9d47e18d4b60d5e40147cd"
      },
      "text/plain": [
       "  0%|          | 0/1385092 [00:00<?, ?it/s]"
      ]
     },
     "metadata": {}
    },
    {
     "output_type": "stream",
     "name": "stdout",
     "text": [
      "After processing events 13:33:06\n",
      "query 34\n",
      "Before processing events 13:33:42\n"
     ]
    },
    {
     "output_type": "display_data",
     "data": {
      "application/vnd.jupyter.widget-view+json": {
       "version_major": 2,
       "version_minor": 0,
       "model_id": "9abec7bef35840a5b72d453eac738cc1"
      },
      "text/plain": [
       "  0%|          | 0/1385092 [00:00<?, ?it/s]"
      ]
     },
     "metadata": {}
    },
    {
     "output_type": "stream",
     "name": "stdout",
     "text": [
      "After processing events 13:34:13\n",
      "query 35\n",
      "Before processing events 13:34:50\n"
     ]
    },
    {
     "output_type": "display_data",
     "data": {
      "application/vnd.jupyter.widget-view+json": {
       "version_major": 2,
       "version_minor": 0,
       "model_id": "404c23abc52c4291b8a8a4323daf33f7"
      },
      "text/plain": [
       "  0%|          | 0/1385092 [00:00<?, ?it/s]"
      ]
     },
     "metadata": {}
    },
    {
     "output_type": "stream",
     "name": "stdout",
     "text": [
      "After processing events 13:35:22\n",
      "query 36\n",
      "Before processing events 13:35:58\n"
     ]
    },
    {
     "output_type": "display_data",
     "data": {
      "application/vnd.jupyter.widget-view+json": {
       "version_major": 2,
       "version_minor": 0,
       "model_id": "ad534d7b8ad84ad38663884f21af4292"
      },
      "text/plain": [
       "  0%|          | 0/1385092 [00:00<?, ?it/s]"
      ]
     },
     "metadata": {}
    },
    {
     "output_type": "stream",
     "name": "stdout",
     "text": [
      "After processing events 13:36:30\n",
      "query 37\n",
      "Before processing events 13:37:07\n"
     ]
    },
    {
     "output_type": "display_data",
     "data": {
      "application/vnd.jupyter.widget-view+json": {
       "version_major": 2,
       "version_minor": 0,
       "model_id": "21ff8ddab6024c1587bea4fbf38a977f"
      },
      "text/plain": [
       "  0%|          | 0/1385092 [00:00<?, ?it/s]"
      ]
     },
     "metadata": {}
    },
    {
     "output_type": "stream",
     "name": "stdout",
     "text": [
      "After processing events 13:37:38\n",
      "query 38\n",
      "Before processing events 13:38:14\n"
     ]
    },
    {
     "output_type": "display_data",
     "data": {
      "application/vnd.jupyter.widget-view+json": {
       "version_major": 2,
       "version_minor": 0,
       "model_id": "3a913618f7844192844ead260e19da85"
      },
      "text/plain": [
       "  0%|          | 0/1385092 [00:00<?, ?it/s]"
      ]
     },
     "metadata": {}
    },
    {
     "output_type": "stream",
     "name": "stdout",
     "text": [
      "After processing events 13:38:46\n",
      "query 39\n",
      "Before processing events 13:39:22\n"
     ]
    },
    {
     "output_type": "display_data",
     "data": {
      "application/vnd.jupyter.widget-view+json": {
       "version_major": 2,
       "version_minor": 0,
       "model_id": "4bd1200f410f47a197103d732dbf49cd"
      },
      "text/plain": [
       "  0%|          | 0/1385092 [00:00<?, ?it/s]"
      ]
     },
     "metadata": {}
    },
    {
     "output_type": "stream",
     "name": "stdout",
     "text": [
      "After processing events 13:39:54\n",
      "query 40\n",
      "Before processing events 13:40:31\n"
     ]
    },
    {
     "output_type": "display_data",
     "data": {
      "application/vnd.jupyter.widget-view+json": {
       "version_major": 2,
       "version_minor": 0,
       "model_id": "4cd2b19716664d429576d49cb56294f4"
      },
      "text/plain": [
       "  0%|          | 0/1385092 [00:00<?, ?it/s]"
      ]
     },
     "metadata": {}
    },
    {
     "output_type": "stream",
     "name": "stdout",
     "text": [
      "After processing events 13:41:02\n",
      "query 41\n",
      "Before processing events 13:41:39\n"
     ]
    },
    {
     "output_type": "display_data",
     "data": {
      "application/vnd.jupyter.widget-view+json": {
       "version_major": 2,
       "version_minor": 0,
       "model_id": "de9d8f4d14994a64b81e1926dd007483"
      },
      "text/plain": [
       "  0%|          | 0/1385092 [00:00<?, ?it/s]"
      ]
     },
     "metadata": {}
    },
    {
     "output_type": "stream",
     "name": "stdout",
     "text": [
      "After processing events 13:42:10\n",
      "query 42\n",
      "Before processing events 13:42:47\n"
     ]
    },
    {
     "output_type": "display_data",
     "data": {
      "application/vnd.jupyter.widget-view+json": {
       "version_major": 2,
       "version_minor": 0,
       "model_id": "a3f1f7e62e244e88a8d4e309acbc7df3"
      },
      "text/plain": [
       "  0%|          | 0/1385092 [00:00<?, ?it/s]"
      ]
     },
     "metadata": {}
    },
    {
     "output_type": "stream",
     "name": "stdout",
     "text": [
      "After processing events 13:43:18\n",
      "query 43\n",
      "Before processing events 13:43:55\n"
     ]
    },
    {
     "output_type": "display_data",
     "data": {
      "application/vnd.jupyter.widget-view+json": {
       "version_major": 2,
       "version_minor": 0,
       "model_id": "7b22595d1f7f443aa13dd0244e1e4549"
      },
      "text/plain": [
       "  0%|          | 0/1385092 [00:00<?, ?it/s]"
      ]
     },
     "metadata": {}
    },
    {
     "output_type": "stream",
     "name": "stdout",
     "text": [
      "After processing events 13:44:26\n",
      "query 44\n",
      "Before processing events 13:45:03\n"
     ]
    },
    {
     "output_type": "display_data",
     "data": {
      "application/vnd.jupyter.widget-view+json": {
       "version_major": 2,
       "version_minor": 0,
       "model_id": "6f769585ae0a4d2d863e9a7542c8eef5"
      },
      "text/plain": [
       "  0%|          | 0/1385092 [00:00<?, ?it/s]"
      ]
     },
     "metadata": {}
    },
    {
     "output_type": "stream",
     "name": "stdout",
     "text": [
      "After processing events 13:45:34\n",
      "query 45\n",
      "Before processing events 13:46:11\n"
     ]
    },
    {
     "output_type": "display_data",
     "data": {
      "application/vnd.jupyter.widget-view+json": {
       "version_major": 2,
       "version_minor": 0,
       "model_id": "c323db1059e44b52b68e8a3e12b6b729"
      },
      "text/plain": [
       "  0%|          | 0/1385092 [00:00<?, ?it/s]"
      ]
     },
     "metadata": {}
    },
    {
     "output_type": "stream",
     "name": "stdout",
     "text": [
      "After processing events 13:46:43\n",
      "query 46\n",
      "Before processing events 13:47:19\n"
     ]
    },
    {
     "output_type": "display_data",
     "data": {
      "application/vnd.jupyter.widget-view+json": {
       "version_major": 2,
       "version_minor": 0,
       "model_id": "15a7c038924945c6b07e3c32c2180d84"
      },
      "text/plain": [
       "  0%|          | 0/1385092 [00:00<?, ?it/s]"
      ]
     },
     "metadata": {}
    },
    {
     "output_type": "stream",
     "name": "stdout",
     "text": [
      "After processing events 13:47:51\n",
      "query 47\n",
      "Before processing events 13:48:28\n"
     ]
    },
    {
     "output_type": "display_data",
     "data": {
      "application/vnd.jupyter.widget-view+json": {
       "version_major": 2,
       "version_minor": 0,
       "model_id": "f113cccab1ba4906b2c0eccf3891b6f2"
      },
      "text/plain": [
       "  0%|          | 0/1385092 [00:00<?, ?it/s]"
      ]
     },
     "metadata": {}
    },
    {
     "output_type": "stream",
     "name": "stdout",
     "text": [
      "After processing events 13:49:00\n",
      "query 48\n",
      "Before processing events 13:49:39\n"
     ]
    },
    {
     "output_type": "display_data",
     "data": {
      "application/vnd.jupyter.widget-view+json": {
       "version_major": 2,
       "version_minor": 0,
       "model_id": "c64cab8c2c4a43f88b7f42ea28164dfb"
      },
      "text/plain": [
       "  0%|          | 0/1385092 [00:00<?, ?it/s]"
      ]
     },
     "metadata": {}
    },
    {
     "output_type": "stream",
     "name": "stdout",
     "text": [
      "After processing events 13:50:12\n",
      "query 49\n",
      "Before processing events 13:50:48\n"
     ]
    },
    {
     "output_type": "display_data",
     "data": {
      "application/vnd.jupyter.widget-view+json": {
       "version_major": 2,
       "version_minor": 0,
       "model_id": "d834ce06e35d4ff89a3c7966483c9826"
      },
      "text/plain": [
       "  0%|          | 0/1385092 [00:00<?, ?it/s]"
      ]
     },
     "metadata": {}
    },
    {
     "output_type": "stream",
     "name": "stdout",
     "text": [
      "After processing events 13:51:20\n",
      "query 50\n",
      "Before processing events 13:51:57\n"
     ]
    },
    {
     "output_type": "display_data",
     "data": {
      "application/vnd.jupyter.widget-view+json": {
       "version_major": 2,
       "version_minor": 0,
       "model_id": "40255b096bf849f0b74153366691bb86"
      },
      "text/plain": [
       "  0%|          | 0/1385092 [00:00<?, ?it/s]"
      ]
     },
     "metadata": {}
    },
    {
     "output_type": "stream",
     "name": "stdout",
     "text": [
      "After processing events 13:52:28\n",
      "query 51\n",
      "Before processing events 13:53:05\n"
     ]
    },
    {
     "output_type": "display_data",
     "data": {
      "application/vnd.jupyter.widget-view+json": {
       "version_major": 2,
       "version_minor": 0,
       "model_id": "dae7fa2f510b4e86b71214d303947427"
      },
      "text/plain": [
       "  0%|          | 0/1385092 [00:00<?, ?it/s]"
      ]
     },
     "metadata": {}
    },
    {
     "output_type": "stream",
     "name": "stdout",
     "text": [
      "After processing events 13:53:37\n",
      "query 52\n",
      "Before processing events 13:54:14\n"
     ]
    },
    {
     "output_type": "display_data",
     "data": {
      "application/vnd.jupyter.widget-view+json": {
       "version_major": 2,
       "version_minor": 0,
       "model_id": "db6a290bd9f640969471b6b435197887"
      },
      "text/plain": [
       "  0%|          | 0/1385092 [00:00<?, ?it/s]"
      ]
     },
     "metadata": {}
    },
    {
     "output_type": "stream",
     "name": "stdout",
     "text": [
      "After processing events 13:54:45\n",
      "query 53\n",
      "Before processing events 13:55:23\n"
     ]
    },
    {
     "output_type": "display_data",
     "data": {
      "application/vnd.jupyter.widget-view+json": {
       "version_major": 2,
       "version_minor": 0,
       "model_id": "000faedc52b24121a7b688c1fb8b41b5"
      },
      "text/plain": [
       "  0%|          | 0/1385092 [00:00<?, ?it/s]"
      ]
     },
     "metadata": {}
    },
    {
     "output_type": "stream",
     "name": "stdout",
     "text": [
      "After processing events 13:55:54\n",
      "query 54\n",
      "Before processing events 13:56:32\n"
     ]
    },
    {
     "output_type": "display_data",
     "data": {
      "application/vnd.jupyter.widget-view+json": {
       "version_major": 2,
       "version_minor": 0,
       "model_id": "2d6f126337af499f9a1d7f8eec8e8581"
      },
      "text/plain": [
       "  0%|          | 0/1385092 [00:00<?, ?it/s]"
      ]
     },
     "metadata": {}
    },
    {
     "output_type": "stream",
     "name": "stdout",
     "text": [
      "After processing events 13:57:04\n",
      "query 55\n",
      "Before processing events 13:57:40\n"
     ]
    },
    {
     "output_type": "display_data",
     "data": {
      "application/vnd.jupyter.widget-view+json": {
       "version_major": 2,
       "version_minor": 0,
       "model_id": "43c265e34fb74b26b4439c456e750730"
      },
      "text/plain": [
       "  0%|          | 0/1385092 [00:00<?, ?it/s]"
      ]
     },
     "metadata": {}
    },
    {
     "output_type": "stream",
     "name": "stdout",
     "text": [
      "After processing events 13:58:12\n",
      "query 56\n",
      "Before processing events 13:58:49\n"
     ]
    },
    {
     "output_type": "display_data",
     "data": {
      "application/vnd.jupyter.widget-view+json": {
       "version_major": 2,
       "version_minor": 0,
       "model_id": "7fd795fe273e47b9a414932e49f261fc"
      },
      "text/plain": [
       "  0%|          | 0/1385092 [00:00<?, ?it/s]"
      ]
     },
     "metadata": {}
    },
    {
     "output_type": "stream",
     "name": "stdout",
     "text": [
      "After processing events 13:59:20\n",
      "query 57\n",
      "Before processing events 13:59:58\n"
     ]
    },
    {
     "output_type": "display_data",
     "data": {
      "application/vnd.jupyter.widget-view+json": {
       "version_major": 2,
       "version_minor": 0,
       "model_id": "7b1f37fe3de743df9c68063aad610ce3"
      },
      "text/plain": [
       "  0%|          | 0/1385092 [00:00<?, ?it/s]"
      ]
     },
     "metadata": {}
    },
    {
     "output_type": "stream",
     "name": "stdout",
     "text": [
      "After processing events 14:00:29\n",
      "query 58\n",
      "Before processing events 14:01:06\n"
     ]
    },
    {
     "output_type": "display_data",
     "data": {
      "application/vnd.jupyter.widget-view+json": {
       "version_major": 2,
       "version_minor": 0,
       "model_id": "cc20d04d717f4d2092ad88eb397d0265"
      },
      "text/plain": [
       "  0%|          | 0/1385092 [00:00<?, ?it/s]"
      ]
     },
     "metadata": {}
    },
    {
     "output_type": "stream",
     "name": "stdout",
     "text": [
      "After processing events 14:01:37\n",
      "query 59\n",
      "Before processing events 14:02:14\n"
     ]
    },
    {
     "output_type": "display_data",
     "data": {
      "application/vnd.jupyter.widget-view+json": {
       "version_major": 2,
       "version_minor": 0,
       "model_id": "ce55bf2459664db09719f4c76179900a"
      },
      "text/plain": [
       "  0%|          | 0/1385092 [00:00<?, ?it/s]"
      ]
     },
     "metadata": {}
    },
    {
     "output_type": "stream",
     "name": "stdout",
     "text": [
      "After processing events 14:02:46\n",
      "query 60\n",
      "Before processing events 14:03:23\n"
     ]
    },
    {
     "output_type": "display_data",
     "data": {
      "application/vnd.jupyter.widget-view+json": {
       "version_major": 2,
       "version_minor": 0,
       "model_id": "2bad6677f8c84697acb180d9b996f03a"
      },
      "text/plain": [
       "  0%|          | 0/1385092 [00:00<?, ?it/s]"
      ]
     },
     "metadata": {}
    },
    {
     "output_type": "stream",
     "name": "stdout",
     "text": [
      "After processing events 14:03:55\n",
      "query 61\n",
      "Before processing events 14:04:32\n"
     ]
    },
    {
     "output_type": "display_data",
     "data": {
      "application/vnd.jupyter.widget-view+json": {
       "version_major": 2,
       "version_minor": 0,
       "model_id": "a20db68d8f6b473b8845ecdc6dbe3c7d"
      },
      "text/plain": [
       "  0%|          | 0/1385092 [00:00<?, ?it/s]"
      ]
     },
     "metadata": {}
    },
    {
     "output_type": "stream",
     "name": "stdout",
     "text": [
      "After processing events 14:05:03\n",
      "query 62\n",
      "Before processing events 14:05:40\n"
     ]
    },
    {
     "output_type": "display_data",
     "data": {
      "application/vnd.jupyter.widget-view+json": {
       "version_major": 2,
       "version_minor": 0,
       "model_id": "73620c9c96614f88baf43d183847e076"
      },
      "text/plain": [
       "  0%|          | 0/1385092 [00:00<?, ?it/s]"
      ]
     },
     "metadata": {}
    },
    {
     "output_type": "stream",
     "name": "stdout",
     "text": [
      "After processing events 14:06:12\n",
      "query 63\n",
      "Before processing events 14:06:51\n"
     ]
    },
    {
     "output_type": "display_data",
     "data": {
      "application/vnd.jupyter.widget-view+json": {
       "version_major": 2,
       "version_minor": 0,
       "model_id": "3df11d55a9604a2a939b2c52e9226bf8"
      },
      "text/plain": [
       "  0%|          | 0/1385092 [00:00<?, ?it/s]"
      ]
     },
     "metadata": {}
    },
    {
     "output_type": "stream",
     "name": "stdout",
     "text": [
      "After processing events 14:07:24\n",
      "query 64\n",
      "Before processing events 14:08:06\n"
     ]
    },
    {
     "output_type": "display_data",
     "data": {
      "application/vnd.jupyter.widget-view+json": {
       "version_major": 2,
       "version_minor": 0,
       "model_id": "9da02437fbdb4a4b923558f686e10dcf"
      },
      "text/plain": [
       "  0%|          | 0/1385092 [00:00<?, ?it/s]"
      ]
     },
     "metadata": {}
    },
    {
     "output_type": "stream",
     "name": "stdout",
     "text": [
      "After processing events 14:08:39\n",
      "query 65\n",
      "Before processing events 14:09:20\n"
     ]
    },
    {
     "output_type": "display_data",
     "data": {
      "application/vnd.jupyter.widget-view+json": {
       "version_major": 2,
       "version_minor": 0,
       "model_id": "73633492684445d8b38d413dba94e7b1"
      },
      "text/plain": [
       "  0%|          | 0/1385092 [00:00<?, ?it/s]"
      ]
     },
     "metadata": {}
    },
    {
     "output_type": "stream",
     "name": "stdout",
     "text": [
      "After processing events 14:09:52\n",
      "query 66\n",
      "Before processing events 14:10:33\n"
     ]
    },
    {
     "output_type": "display_data",
     "data": {
      "application/vnd.jupyter.widget-view+json": {
       "version_major": 2,
       "version_minor": 0,
       "model_id": "d34352aeb53e43aca2ef35c77a0454c9"
      },
      "text/plain": [
       "  0%|          | 0/1385092 [00:00<?, ?it/s]"
      ]
     },
     "metadata": {}
    },
    {
     "output_type": "stream",
     "name": "stdout",
     "text": [
      "After processing events 14:11:05\n",
      "query 67\n",
      "Before processing events 14:11:46\n"
     ]
    },
    {
     "output_type": "display_data",
     "data": {
      "application/vnd.jupyter.widget-view+json": {
       "version_major": 2,
       "version_minor": 0,
       "model_id": "54d0d8c539ec46319df220eb751404df"
      },
      "text/plain": [
       "  0%|          | 0/1385092 [00:00<?, ?it/s]"
      ]
     },
     "metadata": {}
    },
    {
     "output_type": "stream",
     "name": "stdout",
     "text": [
      "After processing events 14:12:18\n",
      "query 68\n",
      "Before processing events 14:13:02\n"
     ]
    },
    {
     "output_type": "display_data",
     "data": {
      "application/vnd.jupyter.widget-view+json": {
       "version_major": 2,
       "version_minor": 0,
       "model_id": "7115d27efaaf4d078237e2a7bfc163bd"
      },
      "text/plain": [
       "  0%|          | 0/1385092 [00:00<?, ?it/s]"
      ]
     },
     "metadata": {}
    },
    {
     "output_type": "stream",
     "name": "stdout",
     "text": [
      "After processing events 14:13:35\n",
      "query 69\n",
      "Before processing events 14:14:17\n"
     ]
    },
    {
     "output_type": "display_data",
     "data": {
      "application/vnd.jupyter.widget-view+json": {
       "version_major": 2,
       "version_minor": 0,
       "model_id": "ed4a24d650154b4fae50a4dfcfd2f49e"
      },
      "text/plain": [
       "  0%|          | 0/1385092 [00:00<?, ?it/s]"
      ]
     },
     "metadata": {}
    },
    {
     "output_type": "stream",
     "name": "stdout",
     "text": [
      "After processing events 14:14:50\n",
      "query 70\n",
      "Before processing events 14:15:32\n"
     ]
    },
    {
     "output_type": "display_data",
     "data": {
      "application/vnd.jupyter.widget-view+json": {
       "version_major": 2,
       "version_minor": 0,
       "model_id": "0493cccba4ab4dfb8668d00476d0e578"
      },
      "text/plain": [
       "  0%|          | 0/1385092 [00:00<?, ?it/s]"
      ]
     },
     "metadata": {}
    },
    {
     "output_type": "stream",
     "name": "stdout",
     "text": [
      "After processing events 14:16:05\n",
      "query 71\n",
      "Before processing events 14:16:45\n"
     ]
    },
    {
     "output_type": "display_data",
     "data": {
      "application/vnd.jupyter.widget-view+json": {
       "version_major": 2,
       "version_minor": 0,
       "model_id": "3cf2ded2320e41eb9283ea9907f6cfec"
      },
      "text/plain": [
       "  0%|          | 0/1385092 [00:00<?, ?it/s]"
      ]
     },
     "metadata": {}
    },
    {
     "output_type": "stream",
     "name": "stdout",
     "text": [
      "After processing events 14:17:19\n",
      "query 72\n",
      "Before processing events 14:18:02\n"
     ]
    },
    {
     "output_type": "display_data",
     "data": {
      "application/vnd.jupyter.widget-view+json": {
       "version_major": 2,
       "version_minor": 0,
       "model_id": "7f9a924d0e474fbd9a5173836624379d"
      },
      "text/plain": [
       "  0%|          | 0/1385092 [00:00<?, ?it/s]"
      ]
     },
     "metadata": {}
    },
    {
     "output_type": "stream",
     "name": "stdout",
     "text": [
      "After processing events 14:18:34\n",
      "query 73\n",
      "Before processing events 14:19:12\n"
     ]
    },
    {
     "output_type": "display_data",
     "data": {
      "application/vnd.jupyter.widget-view+json": {
       "version_major": 2,
       "version_minor": 0,
       "model_id": "2f3c3cde49e74c628c9689829e6314cb"
      },
      "text/plain": [
       "  0%|          | 0/1385092 [00:00<?, ?it/s]"
      ]
     },
     "metadata": {}
    },
    {
     "output_type": "stream",
     "name": "stdout",
     "text": [
      "After processing events 14:19:44\n",
      "query 74\n",
      "Before processing events 14:20:24\n"
     ]
    },
    {
     "output_type": "display_data",
     "data": {
      "application/vnd.jupyter.widget-view+json": {
       "version_major": 2,
       "version_minor": 0,
       "model_id": "ec71f7e106cc4f43978c8de6067e78b8"
      },
      "text/plain": [
       "  0%|          | 0/1385092 [00:00<?, ?it/s]"
      ]
     },
     "metadata": {}
    },
    {
     "output_type": "stream",
     "name": "stdout",
     "text": [
      "After processing events 14:20:57\n",
      "query 75\n",
      "Before processing events 14:21:38\n"
     ]
    },
    {
     "output_type": "display_data",
     "data": {
      "application/vnd.jupyter.widget-view+json": {
       "version_major": 2,
       "version_minor": 0,
       "model_id": "3893f787406148e980c7d1cad00bdb37"
      },
      "text/plain": [
       "  0%|          | 0/1385092 [00:00<?, ?it/s]"
      ]
     },
     "metadata": {}
    },
    {
     "output_type": "stream",
     "name": "stdout",
     "text": [
      "After processing events 14:22:10\n",
      "query 76\n",
      "Before processing events 14:22:51\n"
     ]
    },
    {
     "output_type": "display_data",
     "data": {
      "application/vnd.jupyter.widget-view+json": {
       "version_major": 2,
       "version_minor": 0,
       "model_id": "341eac5f83004cc9a2761a2274af7b33"
      },
      "text/plain": [
       "  0%|          | 0/1385092 [00:00<?, ?it/s]"
      ]
     },
     "metadata": {}
    },
    {
     "output_type": "stream",
     "name": "stdout",
     "text": [
      "After processing events 14:23:24\n",
      "query 77\n",
      "Before processing events 14:24:04\n"
     ]
    },
    {
     "output_type": "display_data",
     "data": {
      "application/vnd.jupyter.widget-view+json": {
       "version_major": 2,
       "version_minor": 0,
       "model_id": "ecc685a767354b7fb76a7d8014d889b8"
      },
      "text/plain": [
       "  0%|          | 0/1385092 [00:00<?, ?it/s]"
      ]
     },
     "metadata": {}
    },
    {
     "output_type": "stream",
     "name": "stdout",
     "text": [
      "After processing events 14:24:36\n",
      "query 78\n",
      "Before processing events 14:25:18\n"
     ]
    },
    {
     "output_type": "display_data",
     "data": {
      "application/vnd.jupyter.widget-view+json": {
       "version_major": 2,
       "version_minor": 0,
       "model_id": "dcf6fa0d360e4dca8fca174bef07f7ba"
      },
      "text/plain": [
       "  0%|          | 0/1385092 [00:00<?, ?it/s]"
      ]
     },
     "metadata": {}
    },
    {
     "output_type": "stream",
     "name": "stdout",
     "text": [
      "After processing events 14:25:51\n",
      "query 79\n",
      "Before processing events 14:26:33\n"
     ]
    },
    {
     "output_type": "display_data",
     "data": {
      "application/vnd.jupyter.widget-view+json": {
       "version_major": 2,
       "version_minor": 0,
       "model_id": "a0df80e20b4646079e10a2fa884d158e"
      },
      "text/plain": [
       "  0%|          | 0/1385092 [00:00<?, ?it/s]"
      ]
     },
     "metadata": {}
    },
    {
     "output_type": "stream",
     "name": "stdout",
     "text": [
      "After processing events 14:27:09\n",
      "query 80\n",
      "Before processing events 14:27:55\n"
     ]
    },
    {
     "output_type": "display_data",
     "data": {
      "application/vnd.jupyter.widget-view+json": {
       "version_major": 2,
       "version_minor": 0,
       "model_id": "00f039828121424e9ac4137409ac1130"
      },
      "text/plain": [
       "  0%|          | 0/1385092 [00:00<?, ?it/s]"
      ]
     },
     "metadata": {}
    },
    {
     "output_type": "stream",
     "name": "stdout",
     "text": [
      "After processing events 14:28:28\n",
      "query 81\n",
      "Before processing events 14:29:13\n"
     ]
    },
    {
     "output_type": "display_data",
     "data": {
      "application/vnd.jupyter.widget-view+json": {
       "version_major": 2,
       "version_minor": 0,
       "model_id": "2aaf0217e24d4d2e811eb5778ca629f0"
      },
      "text/plain": [
       "  0%|          | 0/1385092 [00:00<?, ?it/s]"
      ]
     },
     "metadata": {}
    },
    {
     "output_type": "stream",
     "name": "stdout",
     "text": [
      "After processing events 14:29:45\n",
      "query 82\n",
      "Before processing events 14:30:28\n"
     ]
    },
    {
     "output_type": "display_data",
     "data": {
      "application/vnd.jupyter.widget-view+json": {
       "version_major": 2,
       "version_minor": 0,
       "model_id": "8fe5fdd63b494ccf9d3a5d5241dadf3c"
      },
      "text/plain": [
       "  0%|          | 0/1385092 [00:00<?, ?it/s]"
      ]
     },
     "metadata": {}
    },
    {
     "output_type": "stream",
     "name": "stdout",
     "text": [
      "After processing events 14:31:01\n",
      "query 83\n",
      "Before processing events 14:31:40\n"
     ]
    },
    {
     "output_type": "display_data",
     "data": {
      "application/vnd.jupyter.widget-view+json": {
       "version_major": 2,
       "version_minor": 0,
       "model_id": "914035d5f06241d1926374574e40b78d"
      },
      "text/plain": [
       "  0%|          | 0/1385092 [00:00<?, ?it/s]"
      ]
     },
     "metadata": {}
    },
    {
     "output_type": "stream",
     "name": "stdout",
     "text": [
      "After processing events 14:32:12\n",
      "query 84\n",
      "Before processing events 14:32:52\n"
     ]
    },
    {
     "output_type": "display_data",
     "data": {
      "application/vnd.jupyter.widget-view+json": {
       "version_major": 2,
       "version_minor": 0,
       "model_id": "7659e30c1c784f7dafa51eae5ce75412"
      },
      "text/plain": [
       "  0%|          | 0/1385092 [00:00<?, ?it/s]"
      ]
     },
     "metadata": {}
    },
    {
     "output_type": "stream",
     "name": "stdout",
     "text": [
      "After processing events 14:33:25\n",
      "query 85\n",
      "Before processing events 14:34:05\n"
     ]
    },
    {
     "output_type": "display_data",
     "data": {
      "application/vnd.jupyter.widget-view+json": {
       "version_major": 2,
       "version_minor": 0,
       "model_id": "8e48fa02d2e14dc7a2b8c62b11604a02"
      },
      "text/plain": [
       "  0%|          | 0/1385092 [00:00<?, ?it/s]"
      ]
     },
     "metadata": {}
    },
    {
     "output_type": "stream",
     "name": "stdout",
     "text": [
      "After processing events 14:34:38\n",
      "query 86\n",
      "Before processing events 14:35:19\n"
     ]
    },
    {
     "output_type": "display_data",
     "data": {
      "application/vnd.jupyter.widget-view+json": {
       "version_major": 2,
       "version_minor": 0,
       "model_id": "b1c2518eb1e6432baea385be0124d511"
      },
      "text/plain": [
       "  0%|          | 0/1385092 [00:00<?, ?it/s]"
      ]
     },
     "metadata": {}
    },
    {
     "output_type": "stream",
     "name": "stdout",
     "text": [
      "After processing events 14:35:52\n",
      "query 87\n",
      "Before processing events 14:36:34\n"
     ]
    },
    {
     "output_type": "display_data",
     "data": {
      "application/vnd.jupyter.widget-view+json": {
       "version_major": 2,
       "version_minor": 0,
       "model_id": "58e53042d4ed411583f3b2a74b8d4771"
      },
      "text/plain": [
       "  0%|          | 0/1385092 [00:00<?, ?it/s]"
      ]
     },
     "metadata": {}
    },
    {
     "output_type": "stream",
     "name": "stdout",
     "text": [
      "After processing events 14:37:07\n",
      "query 88\n",
      "Before processing events 14:37:51\n"
     ]
    },
    {
     "output_type": "display_data",
     "data": {
      "application/vnd.jupyter.widget-view+json": {
       "version_major": 2,
       "version_minor": 0,
       "model_id": "19da99eb09c842169b3a5a5dae84408b"
      },
      "text/plain": [
       "  0%|          | 0/1385092 [00:00<?, ?it/s]"
      ]
     },
     "metadata": {}
    },
    {
     "output_type": "stream",
     "name": "stdout",
     "text": [
      "After processing events 14:38:23\n",
      "query 89\n",
      "Before processing events 14:39:08\n"
     ]
    },
    {
     "output_type": "display_data",
     "data": {
      "application/vnd.jupyter.widget-view+json": {
       "version_major": 2,
       "version_minor": 0,
       "model_id": "bd24328ad95f4b0abf7dbef39197e451"
      },
      "text/plain": [
       "  0%|          | 0/1385092 [00:00<?, ?it/s]"
      ]
     },
     "metadata": {}
    },
    {
     "output_type": "stream",
     "name": "stdout",
     "text": [
      "After processing events 14:39:42\n",
      "query 90\n",
      "Before processing events 14:40:26\n"
     ]
    },
    {
     "output_type": "display_data",
     "data": {
      "application/vnd.jupyter.widget-view+json": {
       "version_major": 2,
       "version_minor": 0,
       "model_id": "bfe90db1ce234d50abaf396102135a06"
      },
      "text/plain": [
       "  0%|          | 0/1385092 [00:00<?, ?it/s]"
      ]
     },
     "metadata": {}
    },
    {
     "output_type": "stream",
     "name": "stdout",
     "text": [
      "After processing events 14:40:59\n",
      "query 91\n",
      "Before processing events 14:41:39\n"
     ]
    },
    {
     "output_type": "display_data",
     "data": {
      "application/vnd.jupyter.widget-view+json": {
       "version_major": 2,
       "version_minor": 0,
       "model_id": "0fc04e551e3b426082ca3026e8e2a0f4"
      },
      "text/plain": [
       "  0%|          | 0/1385092 [00:00<?, ?it/s]"
      ]
     },
     "metadata": {}
    },
    {
     "output_type": "stream",
     "name": "stdout",
     "text": [
      "After processing events 14:42:12\n",
      "query 92\n",
      "Before processing events 14:42:50\n"
     ]
    },
    {
     "output_type": "display_data",
     "data": {
      "application/vnd.jupyter.widget-view+json": {
       "version_major": 2,
       "version_minor": 0,
       "model_id": "ece80343dd644dcfb56789a3031f9706"
      },
      "text/plain": [
       "  0%|          | 0/1385092 [00:00<?, ?it/s]"
      ]
     },
     "metadata": {}
    },
    {
     "output_type": "stream",
     "name": "stdout",
     "text": [
      "After processing events 14:43:22\n",
      "query 93\n",
      "Before processing events 14:44:03\n"
     ]
    },
    {
     "output_type": "display_data",
     "data": {
      "application/vnd.jupyter.widget-view+json": {
       "version_major": 2,
       "version_minor": 0,
       "model_id": "5331f2db9a7f44e89984bc9659bc69c4"
      },
      "text/plain": [
       "  0%|          | 0/1385092 [00:00<?, ?it/s]"
      ]
     },
     "metadata": {}
    },
    {
     "output_type": "stream",
     "name": "stdout",
     "text": [
      "After processing events 14:44:35\n",
      "query 94\n",
      "Before processing events 14:45:19\n"
     ]
    },
    {
     "output_type": "display_data",
     "data": {
      "application/vnd.jupyter.widget-view+json": {
       "version_major": 2,
       "version_minor": 0,
       "model_id": "a907a71af84749f997bcae7f6bda1c1b"
      },
      "text/plain": [
       "  0%|          | 0/1385092 [00:00<?, ?it/s]"
      ]
     },
     "metadata": {}
    },
    {
     "output_type": "stream",
     "name": "stdout",
     "text": [
      "After processing events 14:45:51\n",
      "query 95\n",
      "Before processing events 14:46:34\n"
     ]
    },
    {
     "output_type": "display_data",
     "data": {
      "application/vnd.jupyter.widget-view+json": {
       "version_major": 2,
       "version_minor": 0,
       "model_id": "548aee77d43a40f39bc611e6b8f5289c"
      },
      "text/plain": [
       "  0%|          | 0/1385092 [00:00<?, ?it/s]"
      ]
     },
     "metadata": {}
    },
    {
     "output_type": "stream",
     "name": "stdout",
     "text": [
      "After processing events 14:47:06\n",
      "query 96\n",
      "Before processing events 14:47:47\n"
     ]
    },
    {
     "output_type": "display_data",
     "data": {
      "application/vnd.jupyter.widget-view+json": {
       "version_major": 2,
       "version_minor": 0,
       "model_id": "d2522ecb166e4e22a52aeca21518b559"
      },
      "text/plain": [
       "  0%|          | 0/1385092 [00:00<?, ?it/s]"
      ]
     },
     "metadata": {}
    },
    {
     "output_type": "stream",
     "name": "stdout",
     "text": [
      "After processing events 14:48:19\n",
      "query 97\n",
      "Before processing events 14:48:59\n"
     ]
    },
    {
     "output_type": "display_data",
     "data": {
      "application/vnd.jupyter.widget-view+json": {
       "version_major": 2,
       "version_minor": 0,
       "model_id": "aa0ee09432664ecd88a1ea981e5d1d31"
      },
      "text/plain": [
       "  0%|          | 0/1385092 [00:00<?, ?it/s]"
      ]
     },
     "metadata": {}
    },
    {
     "output_type": "stream",
     "name": "stdout",
     "text": [
      "After processing events 14:49:32\n",
      "query 98\n",
      "Before processing events 14:50:11\n"
     ]
    },
    {
     "output_type": "display_data",
     "data": {
      "application/vnd.jupyter.widget-view+json": {
       "version_major": 2,
       "version_minor": 0,
       "model_id": "66961d42d9604a218081275fa2384a60"
      },
      "text/plain": [
       "  0%|          | 0/1385092 [00:00<?, ?it/s]"
      ]
     },
     "metadata": {}
    },
    {
     "output_type": "stream",
     "name": "stdout",
     "text": [
      "After processing events 14:50:45\n",
      "query 99\n",
      "Before processing events 14:51:28\n"
     ]
    },
    {
     "output_type": "display_data",
     "data": {
      "application/vnd.jupyter.widget-view+json": {
       "version_major": 2,
       "version_minor": 0,
       "model_id": "5393eb89a6014bb2841d030b4ad00ae5"
      },
      "text/plain": [
       "  0%|          | 0/1385092 [00:00<?, ?it/s]"
      ]
     },
     "metadata": {}
    },
    {
     "output_type": "stream",
     "name": "stdout",
     "text": [
      "After processing events 14:52:03\n"
     ]
    }
   ],
   "metadata": {}
  },
  {
   "cell_type": "code",
   "execution_count": 10,
   "source": [
    "torch.save(feasible_incumbents, f\"./{strategy}.pth\")\n",
    "fout = TFile(\"out.root\", \"RECREATE\")\n",
    "fout.cd()\n",
    "for hist in allHistsMC:\n",
    "    print (\"Writing hist: \", hist.GetName())\n",
    "    hist.Write()\n",
    "for j, hists in enumerate(histsData):\n",
    "    for k, hist in enumerate(hists):\n",
    "            hist.Write()\n",
    "            print (\"Writing hist: \", j, k, hist)\n",
    "fout.Close()"
   ],
   "outputs": [
    {
     "output_type": "stream",
     "name": "stdout",
     "text": [
      "Writing hist:  hist_0to150_m06m02_MC_iter1\n",
      "Writing hist:  hist_0to150_m06m02_MC_iter2\n",
      "Writing hist:  hist_0to150_m06m02_MC_iter3\n",
      "Writing hist:  hist_0to150_m06m02_MC_iter4\n",
      "Writing hist:  hist_0to150_m06m02_MC_iter5\n",
      "Writing hist:  hist_0to150_m06m02_MC_iter6\n",
      "Writing hist:  hist_0to150_m06m02_MC_iter7\n",
      "Writing hist:  hist_0to150_m06m02_MC_iter8\n",
      "Writing hist:  hist_0to150_m06m02_MC_iter9\n",
      "Writing hist:  hist_0to150_m06m02_MC_iter10\n",
      "Writing hist:  hist_0to150_m06m02_MC_iter11\n",
      "Writing hist:  hist_0to150_m06m02_MC_iter12\n",
      "Writing hist:  hist_0to150_m06m02_MC_iter13\n",
      "Writing hist:  hist_0to150_m06m02_MC_iter14\n",
      "Writing hist:  hist_0to150_m06m02_MC_iter15\n",
      "Writing hist:  hist_0to150_m06m02_MC_iter16\n",
      "Writing hist:  hist_0to150_m06m02_MC_iter17\n",
      "Writing hist:  hist_0to150_m06m02_MC_iter18\n",
      "Writing hist:  hist_0to150_m06m02_MC_iter19\n",
      "Writing hist:  hist_0to150_m06m02_MC_iter20\n",
      "Writing hist:  hist_0to150_m06m02_MC_iter21\n",
      "Writing hist:  hist_0to150_m06m02_MC_iter22\n",
      "Writing hist:  hist_0to150_m06m02_MC_iter23\n",
      "Writing hist:  hist_0to150_m06m02_MC_iter24\n",
      "Writing hist:  hist_0to150_m06m02_MC_iter25\n",
      "Writing hist:  hist_0to150_m06m02_MC_iter26\n",
      "Writing hist:  hist_0to150_m06m02_MC_iter27\n",
      "Writing hist:  hist_0to150_m06m02_MC_iter28\n",
      "Writing hist:  hist_0to150_m06m02_MC_iter29\n",
      "Writing hist:  hist_0to150_m06m02_MC_iter30\n",
      "Writing hist:  hist_0to150_m06m02_MC_iter31\n",
      "Writing hist:  hist_0to150_m06m02_MC_iter32\n",
      "Writing hist:  hist_0to150_m06m02_MC_iter33\n",
      "Writing hist:  hist_0to150_m06m02_MC_iter34\n",
      "Writing hist:  hist_0to150_m06m02_MC_iter35\n",
      "Writing hist:  hist_0to150_m06m02_MC_iter36\n",
      "Writing hist:  hist_0to150_m06m02_MC_iter37\n",
      "Writing hist:  hist_0to150_m06m02_MC_iter38\n",
      "Writing hist:  hist_0to150_m06m02_MC_iter39\n",
      "Writing hist:  hist_0to150_m06m02_MC_iter40\n",
      "Writing hist:  hist_0to150_m06m02_MC_iter41\n",
      "Writing hist:  hist_0to150_m06m02_MC_iter42\n",
      "Writing hist:  hist_0to150_m06m02_MC_iter43\n",
      "Writing hist:  hist_0to150_m06m02_MC_iter44\n",
      "Writing hist:  hist_0to150_m06m02_MC_iter45\n",
      "Writing hist:  hist_0to150_m06m02_MC_iter46\n",
      "Writing hist:  hist_0to150_m06m02_MC_iter47\n",
      "Writing hist:  hist_0to150_m06m02_MC_iter48\n",
      "Writing hist:  hist_0to150_m06m02_MC_iter49\n",
      "Writing hist:  hist_0to150_m06m02_MC_iter50\n",
      "Writing hist:  hist_0to150_m06m02_MC_iter51\n",
      "Writing hist:  hist_0to150_m06m02_MC_iter52\n",
      "Writing hist:  hist_0to150_m06m02_MC_iter53\n",
      "Writing hist:  hist_0to150_m06m02_MC_iter54\n",
      "Writing hist:  hist_0to150_m06m02_MC_iter55\n",
      "Writing hist:  hist_0to150_m06m02_MC_iter56\n",
      "Writing hist:  hist_0to150_m06m02_MC_iter57\n",
      "Writing hist:  hist_0to150_m06m02_MC_iter58\n",
      "Writing hist:  hist_0to150_m06m02_MC_iter59\n",
      "Writing hist:  hist_0to150_m06m02_MC_iter60\n",
      "Writing hist:  hist_0to150_m06m02_MC_iter61\n",
      "Writing hist:  hist_0to150_m06m02_MC_iter62\n",
      "Writing hist:  hist_0to150_m06m02_MC_iter63\n",
      "Writing hist:  hist_0to150_m06m02_MC_iter64\n",
      "Writing hist:  hist_0to150_m06m02_MC_iter65\n",
      "Writing hist:  hist_0to150_m06m02_MC_iter66\n",
      "Writing hist:  hist_0to150_m06m02_MC_iter67\n",
      "Writing hist:  hist_0to150_m06m02_MC_iter68\n",
      "Writing hist:  hist_0to150_m06m02_MC_iter69\n",
      "Writing hist:  hist_0to150_m06m02_MC_iter70\n",
      "Writing hist:  hist_0to150_m06m02_MC_iter71\n",
      "Writing hist:  hist_0to150_m06m02_MC_iter72\n",
      "Writing hist:  hist_0to150_m06m02_MC_iter73\n",
      "Writing hist:  hist_0to150_m06m02_MC_iter74\n",
      "Writing hist:  hist_0to150_m06m02_MC_iter75\n",
      "Writing hist:  hist_0to150_m06m02_MC_iter76\n",
      "Writing hist:  hist_0to150_m06m02_MC_iter77\n",
      "Writing hist:  hist_0to150_m06m02_MC_iter78\n",
      "Writing hist:  hist_0to150_m06m02_MC_iter79\n",
      "Writing hist:  hist_0to150_m06m02_MC_iter80\n",
      "Writing hist:  hist_0to150_m06m02_MC_iter81\n",
      "Writing hist:  hist_0to150_m06m02_MC_iter82\n",
      "Writing hist:  hist_0to150_m06m02_MC_iter83\n",
      "Writing hist:  hist_0to150_m06m02_MC_iter84\n",
      "Writing hist:  hist_0to150_m06m02_MC_iter85\n",
      "Writing hist:  hist_0to150_m06m02_MC_iter86\n",
      "Writing hist:  hist_0to150_m06m02_MC_iter87\n",
      "Writing hist:  hist_0to150_m06m02_MC_iter88\n",
      "Writing hist:  hist_0to150_m06m02_MC_iter89\n",
      "Writing hist:  hist_0to150_m06m02_MC_iter90\n",
      "Writing hist:  hist_0to150_m06m02_MC_iter91\n",
      "Writing hist:  hist_0to150_m06m02_MC_iter92\n",
      "Writing hist:  hist_0to150_m06m02_MC_iter93\n",
      "Writing hist:  hist_0to150_m06m02_MC_iter94\n",
      "Writing hist:  hist_0to150_m06m02_MC_iter95\n",
      "Writing hist:  hist_0to150_m06m02_MC_iter96\n",
      "Writing hist:  hist_0to150_m06m02_MC_iter97\n",
      "Writing hist:  hist_0to150_m06m02_MC_iter98\n",
      "Writing hist:  hist_0to150_m06m02_MC_iter99\n",
      "Writing hist:  hist_0to150_m06m02_MC_iter100\n",
      "Writing hist:  hist_0to150_m06m02_MC_iter101\n",
      "Writing hist:  0 0 Name: hist_0to150_m06m02_data_iter0 Title: hist_0to150_m06m02_data_iter0 NbinsX: 20\n",
      "Writing hist:  0 1 Name: hist_0to150_m02p01_data_iter0 Title: hist_0to150_m02p01_data_iter0 NbinsX: 20\n",
      "Writing hist:  0 2 Name: hist_0to150_p01p08_data_iter0 Title: hist_0to150_p01p08_data_iter0 NbinsX: 20\n",
      "Writing hist:  0 3 Name: hist_150to300_m06m02_data_iter0 Title: hist_150to300_m06m02_data_iter0 NbinsX: 20\n",
      "Writing hist:  0 4 Name: hist_150to300_m02p01_data_iter0 Title: hist_150to300_m02p01_data_iter0 NbinsX: 20\n",
      "Writing hist:  0 5 Name: hist_150to300_p01p08_data_iter0 Title: hist_150to300_p01p08_data_iter0 NbinsX: 20\n",
      "Writing hist:  0 6 Name: hist_300to450_m06m02_data_iter0 Title: hist_300to450_m06m02_data_iter0 NbinsX: 20\n",
      "Writing hist:  0 7 Name: hist_300to450_m02p01_data_iter0 Title: hist_300to450_m02p01_data_iter0 NbinsX: 20\n",
      "Writing hist:  0 8 Name: hist_300to450_p01p08_data_iter0 Title: hist_300to450_p01p08_data_iter0 NbinsX: 20\n",
      "Writing hist:  0 9 Name: hist_450to600_m06m02_data_iter0 Title: hist_450to600_m06m02_data_iter0 NbinsX: 20\n",
      "Writing hist:  0 10 Name: hist_450to600_m02p01_data_iter0 Title: hist_450to600_m02p01_data_iter0 NbinsX: 20\n",
      "Writing hist:  0 11 Name: hist_450to600_p01p08_data_iter0 Title: hist_450to600_p01p08_data_iter0 NbinsX: 20\n",
      "Writing hist:  1 0 Name: hmass_data Title: hmass_data NbinsX: 100\n",
      "Writing hist:  2 0 Name: hz_data Title: hz_data NbinsX: 100\n"
     ]
    }
   ],
   "metadata": {}
  },
  {
   "cell_type": "code",
   "execution_count": 11,
   "source": [
    "t = torch.tensor( [ [-1.0000, -0.4678,  0.5433]])\n",
    "print(t)\n",
    "print(t.shape)\n",
    "cost(t)"
   ],
   "outputs": [
    {
     "output_type": "stream",
     "name": "stdout",
     "text": [
      "tensor([[-1.0000, -0.4678,  0.5433]])\n",
      "torch.Size([1, 3])\n"
     ]
    },
    {
     "output_type": "execute_result",
     "data": {
      "text/plain": [
       "tensor([1])"
      ]
     },
     "metadata": {},
     "execution_count": 11
    }
   ],
   "metadata": {}
  },
  {
   "cell_type": "code",
   "execution_count": 12,
   "source": [
    "with torch.no_grad():\n",
    "    predictive_distribution = cost_likelihood(cost_model(xs))\n",
    "    predictive_mean = predictive_distribution.mean\n",
    "    predictive_lower, predictive_upper = predictive_distribution.confidence_region()\n"
   ],
   "outputs": [],
   "metadata": {}
  },
  {
   "cell_type": "code",
   "execution_count": 15,
   "source": [
    "from ipywidgets import interact, Layout, IntSlider\n",
    "import numpy as np\n",
    "\n",
    "def oneplot(ax, tensor, index, cmap):\n",
    "        tensor_3d = torch.reshape(tensor, (101,101,101))\n",
    "        pos = ax.imshow(tensor_3d[index], cmap=cmap, interpolation=\"nearest\", origin=\"lower\", \n",
    "        vmin=tensor.min(), vmax=tensor.max(), extent=[-1,1,-1,1])\n",
    "        plt.colorbar(pos)\n",
    "\n",
    "def f(x):\n",
    "        fig, ax = plt.subplots(nrows=2, ncols=2, figsize=(6, 6))\n",
    "        oneplot(ax[0][0], predictive_mean, x, \"hot\")\n",
    "        oneplot(ax[0][1], predictive_lower, x, \"hot\")\n",
    "        oneplot(ax[1][1], predictive_upper, x, \"hot\")\n",
    "        oneplot(ax[1][0], predictive_upper-predictive_lower, x, \"hot\")\n",
    "\n",
    "interact(f, x=IntSlider(50, 0, 100, 1, layout=Layout(width='500px')))\n"
   ],
   "outputs": [
    {
     "output_type": "display_data",
     "data": {
      "application/vnd.jupyter.widget-view+json": {
       "version_major": 2,
       "version_minor": 0,
       "model_id": "70d34b39a5c54528ada61f07e87667de"
      },
      "text/plain": [
       "interactive(children=(IntSlider(value=50, description='x', layout=Layout(width='500px')), Output()), _dom_clas…"
      ]
     },
     "metadata": {}
    },
    {
     "output_type": "execute_result",
     "data": {
      "text/plain": [
       "<function __main__.f(x)>"
      ]
     },
     "metadata": {},
     "execution_count": 15
    }
   ],
   "metadata": {}
  },
  {
   "cell_type": "code",
   "execution_count": 14,
   "source": [
    "with torch.no_grad():\n",
    "    predictive_distribution_cost = cost_likelihood(cost_model(xs))\n",
    "    predictive_mean_cost = predictive_distribution.mean\n",
    "    predictive_lower_cost, predictive_upper_cost = predictive_distribution.confidence_region()\n",
    "\n",
    "\n",
    "def g(x):\n",
    "        fig, ax = plt.subplots(nrows=2, ncols=2, figsize=(6, 6))\n",
    "        oneplot(ax[0][0], predictive_mean_cost, x, \"cool\")\n",
    "        oneplot(ax[0][1], predictive_lower_cost, x, \"cool\")\n",
    "        oneplot(ax[1][1], predictive_upper_cost, x, \"cool\")\n",
    "\n",
    "\n",
    "interact(g, x=IntSlider(50, 0, 100, 1, layout=Layout(width='500px')))"
   ],
   "outputs": [
    {
     "output_type": "display_data",
     "data": {
      "application/vnd.jupyter.widget-view+json": {
       "version_major": 2,
       "version_minor": 0,
       "model_id": "93cae8e41afe4e33b6a0b9f53e7eb1bf"
      },
      "text/plain": [
       "interactive(children=(IntSlider(value=50, description='x', layout=Layout(width='500px')), Output()), _dom_clas…"
      ]
     },
     "metadata": {}
    },
    {
     "output_type": "execute_result",
     "data": {
      "text/plain": [
       "<function __main__.g(x)>"
      ]
     },
     "metadata": {},
     "execution_count": 14
    }
   ],
   "metadata": {}
  },
  {
   "cell_type": "code",
   "execution_count": null,
   "source": [],
   "outputs": [],
   "metadata": {}
  }
 ],
 "metadata": {
  "interpreter": {
   "hash": "99cab06c27f02725e88b2dbe1836c12fd9df359a24b9134df2d5dc04c534a853"
  },
  "kernelspec": {
   "name": "python3",
   "display_name": "Python 3.11.4 64-bit ('pyroot': conda)"
  },
  "language_info": {
   "codemirror_mode": {
    "name": "ipython",
    "version": 3
   },
   "file_extension": ".py",
   "mimetype": "text/x-python",
   "name": "python",
   "nbconvert_exporter": "python",
   "pygments_lexer": "ipython3",
   "version": "3.11.4"
  },
  "orig_nbformat": 4
 },
 "nbformat": 4,
 "nbformat_minor": 2
}