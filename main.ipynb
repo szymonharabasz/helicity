{
 "cells": [
  {
   "cell_type": "code",
   "execution_count": 1,
   "metadata": {},
   "outputs": [
    {
     "name": "stdout",
     "output_type": "stream",
     "text": [
      "Welcome to JupyROOT 6.28/04\n"
     ]
    }
   ],
   "source": [
    "from bins import Bins\n",
    "from utils import calcAllChi2, calcOneChi2, HistMaker, diffHist\n",
    "from ROOT import TFile, TH1, TCanvas, TStyle, gStyle, Form\n",
    "import math"
   ]
  },
  {
   "cell_type": "code",
   "execution_count": 2,
   "metadata": {},
   "outputs": [
    {
     "name": "stdout",
     "output_type": "stream",
     "text": [
      "iter 0\n",
      "Before processing events 14:32:20\n",
      "After processing events 14:32:21\n",
      "iter 1\n",
      "Before processing events 14:32:59\n",
      "After processing events 14:33:01\n"
     ]
    }
   ],
   "source": [
    "bins = Bins.readFrom(\"ranges.yml\")\n",
    "histMakerData = HistMaker(\"apr12_diele_088_090_ag123ag_2500A_accepted_np_2.dat\", \"_data\", bins)\n",
    "histsData = histMakerData.makeHists()\n",
    "histMakerMC = HistMaker(\"medium_isotropic_eff_ag1230ag_np_9deg.dat\", \"_MC\", bins    )\n",
    "\n",
    "allHistsMC = []"
   ]
  },
  {
   "cell_type": "code",
   "execution_count": 3,
   "metadata": {},
   "outputs": [],
   "source": [
    "import torch\n",
    "\n",
    "torch.device(\"mps\")\n",
    "torch.manual_seed(0)\n",
    "\n",
    "import gpytorch\n",
    "import botorch\n",
    "\n",
    "import matplotlib.pyplot as plt\n",
    "\n",
    "plt.style.use(\"bmh\")\n",
    "plt.rcParams[\"figure.figsize\"] = (8, 6)\n",
    "\n",
    "from tqdm.notebook import tqdm\n",
    "\n",
    "import warnings"
   ]
  },
  {
   "cell_type": "code",
   "execution_count": 4,
   "metadata": {},
   "outputs": [],
   "source": [
    "TH1.SetDefaultSumw2\n",
    "\n",
    "N_PARAMS = 3"
   ]
  },
  {
   "cell_type": "code",
   "execution_count": 5,
   "metadata": {},
   "outputs": [],
   "source": [
    "#lb = -1\n",
    "#ub = 1\n",
    "\n",
    "#bounds = torch.tensor([[lb]*N_PARAMS, [ub]*N_PARAMS], dtype=torch.float)\n",
    "bounds = torch.tensor([[0, 0,         0],\n",
    "                       [1, 2*math.pi, 2]], dtype=torch.float)\n",
    "\n",
    "grid_r   = torch.linspace(bounds[0][0], bounds[1][0], 101)\n",
    "grid_phi = torch.linspace(bounds[0][1], bounds[1][1], 101)\n",
    "grid_z   = torch.linspace(bounds[0][2], bounds[1][2], 101)\n",
    "\n",
    "grid_x1, grid_x2, grid_x3 = torch.meshgrid(grid_r, grid_phi, grid_z, indexing=\"ij\")\n",
    "\n",
    "xs = torch.vstack([grid_x1.flatten(), grid_x2.flatten(), grid_x3.flatten()]).transpose(-2,-1)"
   ]
  },
  {
   "cell_type": "code",
   "execution_count": 6,
   "metadata": {},
   "outputs": [],
   "source": [
    "class GPModel(gpytorch.models.ExactGP, botorch.models.gpytorch.GPyTorchModel):\n",
    "    _num_outputs = 1\n",
    "\n",
    "    def __init__(self, train_x, train_y, likelihood):\n",
    "        super().__init__(train_x, train_y, likelihood)\n",
    "        self.mean_module = gpytorch.means.ConstantMean()\n",
    "        self.covar_module = gpytorch.kernels.ScaleKernel(\n",
    "            gpytorch.kernels.MaternKernel(nu=2.5, ard_num_dims=1)\n",
    "        )\n",
    "\n",
    "    def forward(self, x):\n",
    "        mean_x = self.mean_module(x)\n",
    "        covar_x = self.covar_module(x)\n",
    "        return gpytorch.distributions.MultivariateNormal(mean_x, covar_x)\n",
    "\n",
    "\n",
    "def fit_gp_model(train_x, train_y, num_train_iters=500):\n",
    "    # declare the GP\n",
    "    noise = 1e-4\n",
    "\n",
    "    likelihood = gpytorch.likelihoods.GaussianLikelihood()\n",
    "    model = GPModel(train_x, train_y, likelihood)\n",
    "    model.likelihood.noise = noise\n",
    "\n",
    "    # train the hyperparameter (the constant)\n",
    "    optimizer = torch.optim.Adam(model.parameters(), lr=0.01)\n",
    "    mll = gpytorch.mlls.ExactMarginalLogLikelihood(likelihood, model)\n",
    "\n",
    "    model.train()\n",
    "    likelihood.train()\n",
    "\n",
    "    for i in range(num_train_iters):\n",
    "        optimizer.zero_grad()\n",
    "\n",
    "        output = model(train_x)\n",
    "        loss = -mll(output, train_y)\n",
    "\n",
    "        loss.backward()\n",
    "        optimizer.step()\n",
    "\n",
    "    model.eval()\n",
    "    likelihood.eval()\n",
    "\n",
    "    return model, likelihood"
   ]
  },
  {
   "cell_type": "code",
   "execution_count": 7,
   "metadata": {},
   "outputs": [],
   "source": [
    "num_queries = 200\n",
    "num_repeats = 1\n",
    "num_samples = 1"
   ]
  },
  {
   "cell_type": "code",
   "execution_count": 8,
   "metadata": {},
   "outputs": [],
   "source": [
    "def lambdas(xx):\n",
    "   # return x[0], x[1], x[2]\n",
    "    r, phi, z = xx[0], xx[1], xx[2]\n",
    "    x = r*math.cos(phi)\n",
    "    y = r*math.sin(phi)\n",
    "    lambda_theta = 0.5 * (2*x + z)\n",
    "    lambda_phi   = 0.25 * (-2 - 2*x + 3*z)\n",
    "    lambda_theta_phi = y/math.sqrt(2.)\n",
    "    return lambda_theta, lambda_phi, lambda_theta_phi\n",
    "\n",
    "def all_lambdas(xx):\n",
    "    def generator(xx):\n",
    "        for x in xx:\n",
    "            lambda_theta, lambda_phi, lambda_theta_phi = lambdas(x)\n",
    "            yield torch.tensor([lambda_theta, lambda_phi, lambda_theta_phi])\n",
    "           # yield torch.tensor([1./(chi2 / ndf)])\n",
    "    return torch.stack([a for a in generator(xx)])\n",
    "    \n",
    "HIST_INDEX = 1\n",
    "\n",
    "def objective(xx):\n",
    "    def generator(xx):\n",
    "        for x in xx:\n",
    "            lambda_theta, lambda_phi, lambda_theta_phi = lambdas(x)\n",
    "\n",
    "            histsMC = histMakerMC.makeHists(lambda_theta, lambda_phi, lambda_theta_phi)\n",
    "            chi2, ndf = calcOneChi2(histsMC[0][HIST_INDEX], histsData[0][HIST_INDEX])\n",
    "            allHistsMC.append(histsMC[0][HIST_INDEX])\n",
    "            if not chi2 or not ndf:\n",
    "                return torch.tensor([0])\n",
    "            yield torch.tensor([1.0/(chi2 / ndf)])\n",
    "           # yield torch.tensor([1./(chi2 / ndf)])\n",
    "    return torch.stack([a for a in generator(xx)])"
   ]
  },
  {
   "cell_type": "code",
   "execution_count": 9,
   "metadata": {},
   "outputs": [
    {
     "name": "stdout",
     "output_type": "stream",
     "text": [
      "trial 0\n",
      "tensor([[0.4963, 4.8269, 0.1770]])\n",
      "torch.Size([1, 3])\n"
     ]
    },
    {
     "data": {
      "application/vnd.jupyter.widget-view+json": {
       "model_id": "c3c39a6c92fc4aec946186486ad76aea",
       "version_major": 2,
       "version_minor": 0
      },
      "text/plain": [
       "  0%|          | 0/200 [00:00<?, ?it/s]"
      ]
     },
     "metadata": {},
     "output_type": "display_data"
    },
    {
     "name": "stderr",
     "output_type": "stream",
     "text": [
      "/Users/harabasz/helicity/.conda/lib/python3.11/site-packages/botorch/optim/initializers.py:403: BadInitialCandidatesWarning: Unable to find non-zero acquisition function values - initial conditions are being selected randomly.\n",
      "  warnings.warn(\n",
      "/Users/harabasz/helicity/.conda/lib/python3.11/site-packages/botorch/optim/initializers.py:403: BadInitialCandidatesWarning: Unable to find non-zero acquisition function values - initial conditions are being selected randomly.\n",
      "  warnings.warn(\n",
      "/Users/harabasz/helicity/.conda/lib/python3.11/site-packages/botorch/optim/initializers.py:403: BadInitialCandidatesWarning: Unable to find non-zero acquisition function values - initial conditions are being selected randomly.\n",
      "  warnings.warn(\n",
      "/Users/harabasz/helicity/.conda/lib/python3.11/site-packages/botorch/optim/initializers.py:403: BadInitialCandidatesWarning: Unable to find non-zero acquisition function values - initial conditions are being selected randomly.\n",
      "  warnings.warn(\n"
     ]
    },
    {
     "name": "stdout",
     "output_type": "stream",
     "text": [
      "Before reweighting hists 14:33:26\n",
      "After reweighting hists 14:33:26\n"
     ]
    },
    {
     "name": "stderr",
     "output_type": "stream",
     "text": [
      "/Users/harabasz/helicity/.conda/lib/python3.11/site-packages/botorch/optim/initializers.py:403: BadInitialCandidatesWarning: Unable to find non-zero acquisition function values - initial conditions are being selected randomly.\n",
      "  warnings.warn(\n",
      "/Users/harabasz/helicity/.conda/lib/python3.11/site-packages/botorch/optim/initializers.py:403: BadInitialCandidatesWarning: Unable to find non-zero acquisition function values - initial conditions are being selected randomly.\n",
      "  warnings.warn(\n",
      "/Users/harabasz/helicity/.conda/lib/python3.11/site-packages/botorch/optim/initializers.py:403: BadInitialCandidatesWarning: Unable to find non-zero acquisition function values - initial conditions are being selected randomly.\n",
      "  warnings.warn(\n",
      "/Users/harabasz/helicity/.conda/lib/python3.11/site-packages/botorch/optim/initializers.py:403: BadInitialCandidatesWarning: Unable to find non-zero acquisition function values - initial conditions are being selected randomly.\n",
      "  warnings.warn(\n",
      "/Users/harabasz/helicity/.conda/lib/python3.11/site-packages/botorch/optim/initializers.py:403: BadInitialCandidatesWarning: Unable to find non-zero acquisition function values - initial conditions are being selected randomly.\n",
      "  warnings.warn(\n",
      "/Users/harabasz/helicity/.conda/lib/python3.11/site-packages/botorch/optim/initializers.py:403: BadInitialCandidatesWarning: Unable to find non-zero acquisition function values - initial conditions are being selected randomly.\n",
      "  warnings.warn(\n",
      "/Users/harabasz/helicity/.conda/lib/python3.11/site-packages/botorch/optim/initializers.py:403: BadInitialCandidatesWarning: Unable to find non-zero acquisition function values - initial conditions are being selected randomly.\n",
      "  warnings.warn(\n"
     ]
    },
    {
     "name": "stdout",
     "output_type": "stream",
     "text": [
      "Before reweighting hists 14:33:58\n",
      "After reweighting hists 14:33:58\n"
     ]
    },
    {
     "name": "stderr",
     "output_type": "stream",
     "text": [
      "/Users/harabasz/helicity/.conda/lib/python3.11/site-packages/botorch/optim/initializers.py:403: BadInitialCandidatesWarning: Unable to find non-zero acquisition function values - initial conditions are being selected randomly.\n",
      "  warnings.warn(\n",
      "/Users/harabasz/helicity/.conda/lib/python3.11/site-packages/botorch/optim/initializers.py:403: BadInitialCandidatesWarning: Unable to find non-zero acquisition function values - initial conditions are being selected randomly.\n",
      "  warnings.warn(\n",
      "/Users/harabasz/helicity/.conda/lib/python3.11/site-packages/botorch/optim/initializers.py:403: BadInitialCandidatesWarning: Unable to find non-zero acquisition function values - initial conditions are being selected randomly.\n",
      "  warnings.warn(\n",
      "/Users/harabasz/helicity/.conda/lib/python3.11/site-packages/botorch/optim/initializers.py:403: BadInitialCandidatesWarning: Unable to find non-zero acquisition function values - initial conditions are being selected randomly.\n",
      "  warnings.warn(\n",
      "/Users/harabasz/helicity/.conda/lib/python3.11/site-packages/botorch/optim/initializers.py:403: BadInitialCandidatesWarning: Unable to find non-zero acquisition function values - initial conditions are being selected randomly.\n",
      "  warnings.warn(\n",
      "/Users/harabasz/helicity/.conda/lib/python3.11/site-packages/botorch/optim/initializers.py:403: BadInitialCandidatesWarning: Unable to find non-zero acquisition function values - initial conditions are being selected randomly.\n",
      "  warnings.warn(\n",
      "/Users/harabasz/helicity/.conda/lib/python3.11/site-packages/botorch/optim/initializers.py:403: BadInitialCandidatesWarning: Unable to find non-zero acquisition function values - initial conditions are being selected randomly.\n",
      "  warnings.warn(\n",
      "/Users/harabasz/helicity/.conda/lib/python3.11/site-packages/botorch/optim/initializers.py:403: BadInitialCandidatesWarning: Unable to find non-zero acquisition function values - initial conditions are being selected randomly.\n",
      "  warnings.warn(\n",
      "/Users/harabasz/helicity/.conda/lib/python3.11/site-packages/botorch/optim/initializers.py:403: BadInitialCandidatesWarning: Unable to find non-zero acquisition function values - initial conditions are being selected randomly.\n",
      "  warnings.warn(\n"
     ]
    },
    {
     "name": "stdout",
     "output_type": "stream",
     "text": [
      "Before reweighting hists 14:34:33\n",
      "After reweighting hists 14:34:34\n"
     ]
    },
    {
     "name": "stderr",
     "output_type": "stream",
     "text": [
      "/Users/harabasz/helicity/.conda/lib/python3.11/site-packages/botorch/optim/initializers.py:403: BadInitialCandidatesWarning: Unable to find non-zero acquisition function values - initial conditions are being selected randomly.\n",
      "  warnings.warn(\n",
      "/Users/harabasz/helicity/.conda/lib/python3.11/site-packages/botorch/optim/initializers.py:403: BadInitialCandidatesWarning: Unable to find non-zero acquisition function values - initial conditions are being selected randomly.\n",
      "  warnings.warn(\n",
      "/Users/harabasz/helicity/.conda/lib/python3.11/site-packages/botorch/optim/initializers.py:403: BadInitialCandidatesWarning: Unable to find non-zero acquisition function values - initial conditions are being selected randomly.\n",
      "  warnings.warn(\n",
      "/Users/harabasz/helicity/.conda/lib/python3.11/site-packages/botorch/optim/initializers.py:403: BadInitialCandidatesWarning: Unable to find non-zero acquisition function values - initial conditions are being selected randomly.\n",
      "  warnings.warn(\n",
      "/Users/harabasz/helicity/.conda/lib/python3.11/site-packages/botorch/optim/initializers.py:403: BadInitialCandidatesWarning: Unable to find non-zero acquisition function values - initial conditions are being selected randomly.\n",
      "  warnings.warn(\n"
     ]
    },
    {
     "name": "stdout",
     "output_type": "stream",
     "text": [
      "Before reweighting hists 14:35:01\n",
      "After reweighting hists 14:35:02\n"
     ]
    },
    {
     "name": "stderr",
     "output_type": "stream",
     "text": [
      "/Users/harabasz/helicity/.conda/lib/python3.11/site-packages/botorch/optim/initializers.py:403: BadInitialCandidatesWarning: Unable to find non-zero acquisition function values - initial conditions are being selected randomly.\n",
      "  warnings.warn(\n",
      "/Users/harabasz/helicity/.conda/lib/python3.11/site-packages/botorch/optim/initializers.py:403: BadInitialCandidatesWarning: Unable to find non-zero acquisition function values - initial conditions are being selected randomly.\n",
      "  warnings.warn(\n",
      "/Users/harabasz/helicity/.conda/lib/python3.11/site-packages/botorch/optim/initializers.py:403: BadInitialCandidatesWarning: Unable to find non-zero acquisition function values - initial conditions are being selected randomly.\n",
      "  warnings.warn(\n",
      "/Users/harabasz/helicity/.conda/lib/python3.11/site-packages/botorch/optim/initializers.py:403: BadInitialCandidatesWarning: Unable to find non-zero acquisition function values - initial conditions are being selected randomly.\n",
      "  warnings.warn(\n",
      "/Users/harabasz/helicity/.conda/lib/python3.11/site-packages/botorch/optim/initializers.py:403: BadInitialCandidatesWarning: Unable to find non-zero acquisition function values - initial conditions are being selected randomly.\n",
      "  warnings.warn(\n",
      "/Users/harabasz/helicity/.conda/lib/python3.11/site-packages/botorch/optim/initializers.py:403: BadInitialCandidatesWarning: Unable to find non-zero acquisition function values - initial conditions are being selected randomly.\n",
      "  warnings.warn(\n",
      "/Users/harabasz/helicity/.conda/lib/python3.11/site-packages/botorch/optim/initializers.py:403: BadInitialCandidatesWarning: Unable to find non-zero acquisition function values - initial conditions are being selected randomly.\n",
      "  warnings.warn(\n",
      "/Users/harabasz/helicity/.conda/lib/python3.11/site-packages/botorch/optim/initializers.py:403: BadInitialCandidatesWarning: Unable to find non-zero acquisition function values - initial conditions are being selected randomly.\n",
      "  warnings.warn(\n",
      "/Users/harabasz/helicity/.conda/lib/python3.11/site-packages/botorch/optim/initializers.py:403: BadInitialCandidatesWarning: Unable to find non-zero acquisition function values - initial conditions are being selected randomly.\n",
      "  warnings.warn(\n"
     ]
    },
    {
     "name": "stdout",
     "output_type": "stream",
     "text": [
      "Before reweighting hists 14:35:37\n",
      "After reweighting hists 14:35:37\n"
     ]
    },
    {
     "name": "stderr",
     "output_type": "stream",
     "text": [
      "/Users/harabasz/helicity/.conda/lib/python3.11/site-packages/botorch/optim/initializers.py:403: BadInitialCandidatesWarning: Unable to find non-zero acquisition function values - initial conditions are being selected randomly.\n",
      "  warnings.warn(\n",
      "/Users/harabasz/helicity/.conda/lib/python3.11/site-packages/botorch/optim/initializers.py:403: BadInitialCandidatesWarning: Unable to find non-zero acquisition function values - initial conditions are being selected randomly.\n",
      "  warnings.warn(\n",
      "/Users/harabasz/helicity/.conda/lib/python3.11/site-packages/botorch/optim/initializers.py:403: BadInitialCandidatesWarning: Unable to find non-zero acquisition function values - initial conditions are being selected randomly.\n",
      "  warnings.warn(\n",
      "/Users/harabasz/helicity/.conda/lib/python3.11/site-packages/botorch/optim/initializers.py:403: BadInitialCandidatesWarning: Unable to find non-zero acquisition function values - initial conditions are being selected randomly.\n",
      "  warnings.warn(\n",
      "/Users/harabasz/helicity/.conda/lib/python3.11/site-packages/botorch/optim/initializers.py:403: BadInitialCandidatesWarning: Unable to find non-zero acquisition function values - initial conditions are being selected randomly.\n",
      "  warnings.warn(\n",
      "/Users/harabasz/helicity/.conda/lib/python3.11/site-packages/botorch/optim/initializers.py:403: BadInitialCandidatesWarning: Unable to find non-zero acquisition function values - initial conditions are being selected randomly.\n",
      "  warnings.warn(\n",
      "/Users/harabasz/helicity/.conda/lib/python3.11/site-packages/botorch/optim/initializers.py:403: BadInitialCandidatesWarning: Unable to find non-zero acquisition function values - initial conditions are being selected randomly.\n",
      "  warnings.warn(\n",
      "/Users/harabasz/helicity/.conda/lib/python3.11/site-packages/botorch/optim/initializers.py:403: BadInitialCandidatesWarning: Unable to find non-zero acquisition function values - initial conditions are being selected randomly.\n",
      "  warnings.warn(\n",
      "/Users/harabasz/helicity/.conda/lib/python3.11/site-packages/botorch/optim/initializers.py:403: BadInitialCandidatesWarning: Unable to find non-zero acquisition function values - initial conditions are being selected randomly.\n",
      "  warnings.warn(\n"
     ]
    },
    {
     "name": "stdout",
     "output_type": "stream",
     "text": [
      "Before reweighting hists 14:36:13\n",
      "After reweighting hists 14:36:13\n"
     ]
    },
    {
     "name": "stderr",
     "output_type": "stream",
     "text": [
      "/Users/harabasz/helicity/.conda/lib/python3.11/site-packages/botorch/optim/initializers.py:403: BadInitialCandidatesWarning: Unable to find non-zero acquisition function values - initial conditions are being selected randomly.\n",
      "  warnings.warn(\n",
      "/Users/harabasz/helicity/.conda/lib/python3.11/site-packages/botorch/optim/initializers.py:403: BadInitialCandidatesWarning: Unable to find non-zero acquisition function values - initial conditions are being selected randomly.\n",
      "  warnings.warn(\n",
      "/Users/harabasz/helicity/.conda/lib/python3.11/site-packages/botorch/optim/initializers.py:403: BadInitialCandidatesWarning: Unable to find non-zero acquisition function values - initial conditions are being selected randomly.\n",
      "  warnings.warn(\n",
      "/Users/harabasz/helicity/.conda/lib/python3.11/site-packages/botorch/optim/initializers.py:403: BadInitialCandidatesWarning: Unable to find non-zero acquisition function values - initial conditions are being selected randomly.\n",
      "  warnings.warn(\n",
      "/Users/harabasz/helicity/.conda/lib/python3.11/site-packages/botorch/optim/initializers.py:403: BadInitialCandidatesWarning: Unable to find non-zero acquisition function values - initial conditions are being selected randomly.\n",
      "  warnings.warn(\n",
      "/Users/harabasz/helicity/.conda/lib/python3.11/site-packages/botorch/optim/initializers.py:403: BadInitialCandidatesWarning: Unable to find non-zero acquisition function values - initial conditions are being selected randomly.\n",
      "  warnings.warn(\n",
      "/Users/harabasz/helicity/.conda/lib/python3.11/site-packages/botorch/optim/initializers.py:403: BadInitialCandidatesWarning: Unable to find non-zero acquisition function values - initial conditions are being selected randomly.\n",
      "  warnings.warn(\n"
     ]
    },
    {
     "name": "stdout",
     "output_type": "stream",
     "text": [
      "Before reweighting hists 14:36:49\n",
      "After reweighting hists 14:36:49\n"
     ]
    },
    {
     "name": "stderr",
     "output_type": "stream",
     "text": [
      "/Users/harabasz/helicity/.conda/lib/python3.11/site-packages/botorch/optim/initializers.py:403: BadInitialCandidatesWarning: Unable to find non-zero acquisition function values - initial conditions are being selected randomly.\n",
      "  warnings.warn(\n",
      "/Users/harabasz/helicity/.conda/lib/python3.11/site-packages/botorch/optim/initializers.py:403: BadInitialCandidatesWarning: Unable to find non-zero acquisition function values - initial conditions are being selected randomly.\n",
      "  warnings.warn(\n",
      "/Users/harabasz/helicity/.conda/lib/python3.11/site-packages/botorch/optim/initializers.py:403: BadInitialCandidatesWarning: Unable to find non-zero acquisition function values - initial conditions are being selected randomly.\n",
      "  warnings.warn(\n",
      "/Users/harabasz/helicity/.conda/lib/python3.11/site-packages/botorch/optim/initializers.py:403: BadInitialCandidatesWarning: Unable to find non-zero acquisition function values - initial conditions are being selected randomly.\n",
      "  warnings.warn(\n",
      "/Users/harabasz/helicity/.conda/lib/python3.11/site-packages/botorch/optim/initializers.py:403: BadInitialCandidatesWarning: Unable to find non-zero acquisition function values - initial conditions are being selected randomly.\n",
      "  warnings.warn(\n",
      "/Users/harabasz/helicity/.conda/lib/python3.11/site-packages/botorch/optim/initializers.py:403: BadInitialCandidatesWarning: Unable to find non-zero acquisition function values - initial conditions are being selected randomly.\n",
      "  warnings.warn(\n",
      "/Users/harabasz/helicity/.conda/lib/python3.11/site-packages/botorch/optim/initializers.py:403: BadInitialCandidatesWarning: Unable to find non-zero acquisition function values - initial conditions are being selected randomly.\n",
      "  warnings.warn(\n",
      "/Users/harabasz/helicity/.conda/lib/python3.11/site-packages/botorch/optim/initializers.py:403: BadInitialCandidatesWarning: Unable to find non-zero acquisition function values - initial conditions are being selected randomly.\n",
      "  warnings.warn(\n",
      "/Users/harabasz/helicity/.conda/lib/python3.11/site-packages/botorch/optim/initializers.py:403: BadInitialCandidatesWarning: Unable to find non-zero acquisition function values - initial conditions are being selected randomly.\n",
      "  warnings.warn(\n"
     ]
    },
    {
     "name": "stdout",
     "output_type": "stream",
     "text": [
      "Before reweighting hists 14:37:26\n",
      "After reweighting hists 14:37:27\n"
     ]
    },
    {
     "name": "stderr",
     "output_type": "stream",
     "text": [
      "/Users/harabasz/helicity/.conda/lib/python3.11/site-packages/botorch/optim/initializers.py:403: BadInitialCandidatesWarning: Unable to find non-zero acquisition function values - initial conditions are being selected randomly.\n",
      "  warnings.warn(\n",
      "/Users/harabasz/helicity/.conda/lib/python3.11/site-packages/botorch/optim/initializers.py:403: BadInitialCandidatesWarning: Unable to find non-zero acquisition function values - initial conditions are being selected randomly.\n",
      "  warnings.warn(\n",
      "/Users/harabasz/helicity/.conda/lib/python3.11/site-packages/botorch/optim/initializers.py:403: BadInitialCandidatesWarning: Unable to find non-zero acquisition function values - initial conditions are being selected randomly.\n",
      "  warnings.warn(\n",
      "/Users/harabasz/helicity/.conda/lib/python3.11/site-packages/botorch/optim/initializers.py:403: BadInitialCandidatesWarning: Unable to find non-zero acquisition function values - initial conditions are being selected randomly.\n",
      "  warnings.warn(\n",
      "/Users/harabasz/helicity/.conda/lib/python3.11/site-packages/botorch/optim/initializers.py:403: BadInitialCandidatesWarning: Unable to find non-zero acquisition function values - initial conditions are being selected randomly.\n",
      "  warnings.warn(\n",
      "/Users/harabasz/helicity/.conda/lib/python3.11/site-packages/botorch/optim/initializers.py:403: BadInitialCandidatesWarning: Unable to find non-zero acquisition function values - initial conditions are being selected randomly.\n",
      "  warnings.warn(\n",
      "/Users/harabasz/helicity/.conda/lib/python3.11/site-packages/botorch/optim/initializers.py:403: BadInitialCandidatesWarning: Unable to find non-zero acquisition function values - initial conditions are being selected randomly.\n",
      "  warnings.warn(\n",
      "/Users/harabasz/helicity/.conda/lib/python3.11/site-packages/botorch/optim/initializers.py:403: BadInitialCandidatesWarning: Unable to find non-zero acquisition function values - initial conditions are being selected randomly.\n",
      "  warnings.warn(\n"
     ]
    },
    {
     "name": "stdout",
     "output_type": "stream",
     "text": [
      "Before reweighting hists 14:38:04\n",
      "After reweighting hists 14:38:04\n"
     ]
    },
    {
     "name": "stderr",
     "output_type": "stream",
     "text": [
      "/Users/harabasz/helicity/.conda/lib/python3.11/site-packages/botorch/optim/initializers.py:403: BadInitialCandidatesWarning: Unable to find non-zero acquisition function values - initial conditions are being selected randomly.\n",
      "  warnings.warn(\n",
      "/Users/harabasz/helicity/.conda/lib/python3.11/site-packages/botorch/optim/initializers.py:403: BadInitialCandidatesWarning: Unable to find non-zero acquisition function values - initial conditions are being selected randomly.\n",
      "  warnings.warn(\n",
      "/Users/harabasz/helicity/.conda/lib/python3.11/site-packages/botorch/optim/initializers.py:403: BadInitialCandidatesWarning: Unable to find non-zero acquisition function values - initial conditions are being selected randomly.\n",
      "  warnings.warn(\n",
      "/Users/harabasz/helicity/.conda/lib/python3.11/site-packages/botorch/optim/initializers.py:403: BadInitialCandidatesWarning: Unable to find non-zero acquisition function values - initial conditions are being selected randomly.\n",
      "  warnings.warn(\n",
      "/Users/harabasz/helicity/.conda/lib/python3.11/site-packages/botorch/optim/initializers.py:403: BadInitialCandidatesWarning: Unable to find non-zero acquisition function values - initial conditions are being selected randomly.\n",
      "  warnings.warn(\n",
      "/Users/harabasz/helicity/.conda/lib/python3.11/site-packages/botorch/optim/initializers.py:403: BadInitialCandidatesWarning: Unable to find non-zero acquisition function values - initial conditions are being selected randomly.\n",
      "  warnings.warn(\n",
      "/Users/harabasz/helicity/.conda/lib/python3.11/site-packages/botorch/optim/initializers.py:403: BadInitialCandidatesWarning: Unable to find non-zero acquisition function values - initial conditions are being selected randomly.\n",
      "  warnings.warn(\n",
      "/Users/harabasz/helicity/.conda/lib/python3.11/site-packages/botorch/optim/initializers.py:403: BadInitialCandidatesWarning: Unable to find non-zero acquisition function values - initial conditions are being selected randomly.\n",
      "  warnings.warn(\n",
      "/Users/harabasz/helicity/.conda/lib/python3.11/site-packages/botorch/optim/initializers.py:403: BadInitialCandidatesWarning: Unable to find non-zero acquisition function values - initial conditions are being selected randomly.\n",
      "  warnings.warn(\n",
      "/Users/harabasz/helicity/.conda/lib/python3.11/site-packages/botorch/optim/initializers.py:403: BadInitialCandidatesWarning: Unable to find non-zero acquisition function values - initial conditions are being selected randomly.\n",
      "  warnings.warn(\n"
     ]
    },
    {
     "name": "stdout",
     "output_type": "stream",
     "text": [
      "Before reweighting hists 14:38:43\n",
      "After reweighting hists 14:38:44\n"
     ]
    },
    {
     "name": "stderr",
     "output_type": "stream",
     "text": [
      "/Users/harabasz/helicity/.conda/lib/python3.11/site-packages/botorch/optim/initializers.py:403: BadInitialCandidatesWarning: Unable to find non-zero acquisition function values - initial conditions are being selected randomly.\n",
      "  warnings.warn(\n",
      "/Users/harabasz/helicity/.conda/lib/python3.11/site-packages/botorch/optim/initializers.py:403: BadInitialCandidatesWarning: Unable to find non-zero acquisition function values - initial conditions are being selected randomly.\n",
      "  warnings.warn(\n",
      "/Users/harabasz/helicity/.conda/lib/python3.11/site-packages/botorch/optim/initializers.py:403: BadInitialCandidatesWarning: Unable to find non-zero acquisition function values - initial conditions are being selected randomly.\n",
      "  warnings.warn(\n",
      "/Users/harabasz/helicity/.conda/lib/python3.11/site-packages/botorch/optim/initializers.py:403: BadInitialCandidatesWarning: Unable to find non-zero acquisition function values - initial conditions are being selected randomly.\n",
      "  warnings.warn(\n",
      "/Users/harabasz/helicity/.conda/lib/python3.11/site-packages/botorch/optim/initializers.py:403: BadInitialCandidatesWarning: Unable to find non-zero acquisition function values - initial conditions are being selected randomly.\n",
      "  warnings.warn(\n",
      "/Users/harabasz/helicity/.conda/lib/python3.11/site-packages/botorch/optim/initializers.py:403: BadInitialCandidatesWarning: Unable to find non-zero acquisition function values - initial conditions are being selected randomly.\n",
      "  warnings.warn(\n",
      "/Users/harabasz/helicity/.conda/lib/python3.11/site-packages/botorch/optim/initializers.py:403: BadInitialCandidatesWarning: Unable to find non-zero acquisition function values - initial conditions are being selected randomly.\n",
      "  warnings.warn(\n",
      "/Users/harabasz/helicity/.conda/lib/python3.11/site-packages/botorch/optim/initializers.py:403: BadInitialCandidatesWarning: Unable to find non-zero acquisition function values - initial conditions are being selected randomly.\n",
      "  warnings.warn(\n",
      "/Users/harabasz/helicity/.conda/lib/python3.11/site-packages/botorch/optim/initializers.py:403: BadInitialCandidatesWarning: Unable to find non-zero acquisition function values - initial conditions are being selected randomly.\n",
      "  warnings.warn(\n"
     ]
    },
    {
     "name": "stdout",
     "output_type": "stream",
     "text": [
      "Before reweighting hists 14:39:22\n",
      "After reweighting hists 14:39:22\n"
     ]
    },
    {
     "name": "stderr",
     "output_type": "stream",
     "text": [
      "/Users/harabasz/helicity/.conda/lib/python3.11/site-packages/botorch/optim/initializers.py:403: BadInitialCandidatesWarning: Unable to find non-zero acquisition function values - initial conditions are being selected randomly.\n",
      "  warnings.warn(\n",
      "/Users/harabasz/helicity/.conda/lib/python3.11/site-packages/botorch/optim/initializers.py:403: BadInitialCandidatesWarning: Unable to find non-zero acquisition function values - initial conditions are being selected randomly.\n",
      "  warnings.warn(\n",
      "/Users/harabasz/helicity/.conda/lib/python3.11/site-packages/botorch/optim/initializers.py:403: BadInitialCandidatesWarning: Unable to find non-zero acquisition function values - initial conditions are being selected randomly.\n",
      "  warnings.warn(\n",
      "/Users/harabasz/helicity/.conda/lib/python3.11/site-packages/botorch/optim/initializers.py:403: BadInitialCandidatesWarning: Unable to find non-zero acquisition function values - initial conditions are being selected randomly.\n",
      "  warnings.warn(\n",
      "/Users/harabasz/helicity/.conda/lib/python3.11/site-packages/botorch/optim/initializers.py:403: BadInitialCandidatesWarning: Unable to find non-zero acquisition function values - initial conditions are being selected randomly.\n",
      "  warnings.warn(\n",
      "/Users/harabasz/helicity/.conda/lib/python3.11/site-packages/botorch/optim/initializers.py:403: BadInitialCandidatesWarning: Unable to find non-zero acquisition function values - initial conditions are being selected randomly.\n",
      "  warnings.warn(\n",
      "/Users/harabasz/helicity/.conda/lib/python3.11/site-packages/botorch/optim/initializers.py:403: BadInitialCandidatesWarning: Unable to find non-zero acquisition function values - initial conditions are being selected randomly.\n",
      "  warnings.warn(\n",
      "/Users/harabasz/helicity/.conda/lib/python3.11/site-packages/botorch/optim/initializers.py:403: BadInitialCandidatesWarning: Unable to find non-zero acquisition function values - initial conditions are being selected randomly.\n",
      "  warnings.warn(\n",
      "/Users/harabasz/helicity/.conda/lib/python3.11/site-packages/botorch/optim/initializers.py:403: BadInitialCandidatesWarning: Unable to find non-zero acquisition function values - initial conditions are being selected randomly.\n",
      "  warnings.warn(\n",
      "/Users/harabasz/helicity/.conda/lib/python3.11/site-packages/botorch/optim/initializers.py:403: BadInitialCandidatesWarning: Unable to find non-zero acquisition function values - initial conditions are being selected randomly.\n",
      "  warnings.warn(\n"
     ]
    },
    {
     "name": "stdout",
     "output_type": "stream",
     "text": [
      "Before reweighting hists 14:40:02\n",
      "After reweighting hists 14:40:02\n"
     ]
    },
    {
     "name": "stderr",
     "output_type": "stream",
     "text": [
      "/Users/harabasz/helicity/.conda/lib/python3.11/site-packages/botorch/optim/initializers.py:403: BadInitialCandidatesWarning: Unable to find non-zero acquisition function values - initial conditions are being selected randomly.\n",
      "  warnings.warn(\n",
      "/Users/harabasz/helicity/.conda/lib/python3.11/site-packages/botorch/optim/initializers.py:403: BadInitialCandidatesWarning: Unable to find non-zero acquisition function values - initial conditions are being selected randomly.\n",
      "  warnings.warn(\n",
      "/Users/harabasz/helicity/.conda/lib/python3.11/site-packages/botorch/optim/initializers.py:403: BadInitialCandidatesWarning: Unable to find non-zero acquisition function values - initial conditions are being selected randomly.\n",
      "  warnings.warn(\n",
      "/Users/harabasz/helicity/.conda/lib/python3.11/site-packages/botorch/optim/initializers.py:403: BadInitialCandidatesWarning: Unable to find non-zero acquisition function values - initial conditions are being selected randomly.\n",
      "  warnings.warn(\n",
      "/Users/harabasz/helicity/.conda/lib/python3.11/site-packages/botorch/optim/initializers.py:403: BadInitialCandidatesWarning: Unable to find non-zero acquisition function values - initial conditions are being selected randomly.\n",
      "  warnings.warn(\n",
      "/Users/harabasz/helicity/.conda/lib/python3.11/site-packages/botorch/optim/initializers.py:403: BadInitialCandidatesWarning: Unable to find non-zero acquisition function values - initial conditions are being selected randomly.\n",
      "  warnings.warn(\n",
      "/Users/harabasz/helicity/.conda/lib/python3.11/site-packages/botorch/optim/initializers.py:403: BadInitialCandidatesWarning: Unable to find non-zero acquisition function values - initial conditions are being selected randomly.\n",
      "  warnings.warn(\n",
      "/Users/harabasz/helicity/.conda/lib/python3.11/site-packages/botorch/optim/initializers.py:403: BadInitialCandidatesWarning: Unable to find non-zero acquisition function values - initial conditions are being selected randomly.\n",
      "  warnings.warn(\n",
      "/Users/harabasz/helicity/.conda/lib/python3.11/site-packages/botorch/optim/initializers.py:403: BadInitialCandidatesWarning: Unable to find non-zero acquisition function values - initial conditions are being selected randomly.\n",
      "  warnings.warn(\n"
     ]
    },
    {
     "name": "stdout",
     "output_type": "stream",
     "text": [
      "Before reweighting hists 14:40:42\n",
      "After reweighting hists 14:40:42\n"
     ]
    },
    {
     "name": "stderr",
     "output_type": "stream",
     "text": [
      "/Users/harabasz/helicity/.conda/lib/python3.11/site-packages/botorch/optim/initializers.py:403: BadInitialCandidatesWarning: Unable to find non-zero acquisition function values - initial conditions are being selected randomly.\n",
      "  warnings.warn(\n",
      "/Users/harabasz/helicity/.conda/lib/python3.11/site-packages/botorch/optim/initializers.py:403: BadInitialCandidatesWarning: Unable to find non-zero acquisition function values - initial conditions are being selected randomly.\n",
      "  warnings.warn(\n",
      "/Users/harabasz/helicity/.conda/lib/python3.11/site-packages/botorch/optim/initializers.py:403: BadInitialCandidatesWarning: Unable to find non-zero acquisition function values - initial conditions are being selected randomly.\n",
      "  warnings.warn(\n",
      "/Users/harabasz/helicity/.conda/lib/python3.11/site-packages/botorch/optim/initializers.py:403: BadInitialCandidatesWarning: Unable to find non-zero acquisition function values - initial conditions are being selected randomly.\n",
      "  warnings.warn(\n",
      "/Users/harabasz/helicity/.conda/lib/python3.11/site-packages/botorch/optim/initializers.py:403: BadInitialCandidatesWarning: Unable to find non-zero acquisition function values - initial conditions are being selected randomly.\n",
      "  warnings.warn(\n",
      "/Users/harabasz/helicity/.conda/lib/python3.11/site-packages/botorch/optim/initializers.py:403: BadInitialCandidatesWarning: Unable to find non-zero acquisition function values - initial conditions are being selected randomly.\n",
      "  warnings.warn(\n",
      "/Users/harabasz/helicity/.conda/lib/python3.11/site-packages/botorch/optim/initializers.py:403: BadInitialCandidatesWarning: Unable to find non-zero acquisition function values - initial conditions are being selected randomly.\n",
      "  warnings.warn(\n",
      "/Users/harabasz/helicity/.conda/lib/python3.11/site-packages/botorch/optim/initializers.py:403: BadInitialCandidatesWarning: Unable to find non-zero acquisition function values - initial conditions are being selected randomly.\n",
      "  warnings.warn(\n",
      "/Users/harabasz/helicity/.conda/lib/python3.11/site-packages/botorch/optim/initializers.py:403: BadInitialCandidatesWarning: Unable to find non-zero acquisition function values - initial conditions are being selected randomly.\n",
      "  warnings.warn(\n",
      "/Users/harabasz/helicity/.conda/lib/python3.11/site-packages/botorch/optim/initializers.py:403: BadInitialCandidatesWarning: Unable to find non-zero acquisition function values - initial conditions are being selected randomly.\n",
      "  warnings.warn(\n"
     ]
    },
    {
     "name": "stdout",
     "output_type": "stream",
     "text": [
      "Before reweighting hists 14:41:25\n",
      "After reweighting hists 14:41:25\n"
     ]
    },
    {
     "name": "stderr",
     "output_type": "stream",
     "text": [
      "/Users/harabasz/helicity/.conda/lib/python3.11/site-packages/botorch/optim/initializers.py:403: BadInitialCandidatesWarning: Unable to find non-zero acquisition function values - initial conditions are being selected randomly.\n",
      "  warnings.warn(\n",
      "/Users/harabasz/helicity/.conda/lib/python3.11/site-packages/botorch/optim/initializers.py:403: BadInitialCandidatesWarning: Unable to find non-zero acquisition function values - initial conditions are being selected randomly.\n",
      "  warnings.warn(\n",
      "/Users/harabasz/helicity/.conda/lib/python3.11/site-packages/botorch/optim/initializers.py:403: BadInitialCandidatesWarning: Unable to find non-zero acquisition function values - initial conditions are being selected randomly.\n",
      "  warnings.warn(\n",
      "/Users/harabasz/helicity/.conda/lib/python3.11/site-packages/botorch/optim/initializers.py:403: BadInitialCandidatesWarning: Unable to find non-zero acquisition function values - initial conditions are being selected randomly.\n",
      "  warnings.warn(\n",
      "/Users/harabasz/helicity/.conda/lib/python3.11/site-packages/botorch/optim/initializers.py:403: BadInitialCandidatesWarning: Unable to find non-zero acquisition function values - initial conditions are being selected randomly.\n",
      "  warnings.warn(\n",
      "/Users/harabasz/helicity/.conda/lib/python3.11/site-packages/botorch/optim/initializers.py:403: BadInitialCandidatesWarning: Unable to find non-zero acquisition function values - initial conditions are being selected randomly.\n",
      "  warnings.warn(\n",
      "/Users/harabasz/helicity/.conda/lib/python3.11/site-packages/botorch/optim/initializers.py:403: BadInitialCandidatesWarning: Unable to find non-zero acquisition function values - initial conditions are being selected randomly.\n",
      "  warnings.warn(\n",
      "/Users/harabasz/helicity/.conda/lib/python3.11/site-packages/botorch/optim/initializers.py:403: BadInitialCandidatesWarning: Unable to find non-zero acquisition function values - initial conditions are being selected randomly.\n",
      "  warnings.warn(\n",
      "/Users/harabasz/helicity/.conda/lib/python3.11/site-packages/botorch/optim/initializers.py:403: BadInitialCandidatesWarning: Unable to find non-zero acquisition function values - initial conditions are being selected randomly.\n",
      "  warnings.warn(\n",
      "/Users/harabasz/helicity/.conda/lib/python3.11/site-packages/botorch/optim/initializers.py:403: BadInitialCandidatesWarning: Unable to find non-zero acquisition function values - initial conditions are being selected randomly.\n",
      "  warnings.warn(\n"
     ]
    },
    {
     "name": "stdout",
     "output_type": "stream",
     "text": [
      "Before reweighting hists 14:42:09\n",
      "After reweighting hists 14:42:09\n"
     ]
    },
    {
     "name": "stderr",
     "output_type": "stream",
     "text": [
      "/Users/harabasz/helicity/.conda/lib/python3.11/site-packages/botorch/optim/initializers.py:403: BadInitialCandidatesWarning: Unable to find non-zero acquisition function values - initial conditions are being selected randomly.\n",
      "  warnings.warn(\n",
      "/Users/harabasz/helicity/.conda/lib/python3.11/site-packages/botorch/optim/initializers.py:403: BadInitialCandidatesWarning: Unable to find non-zero acquisition function values - initial conditions are being selected randomly.\n",
      "  warnings.warn(\n",
      "/Users/harabasz/helicity/.conda/lib/python3.11/site-packages/botorch/optim/initializers.py:403: BadInitialCandidatesWarning: Unable to find non-zero acquisition function values - initial conditions are being selected randomly.\n",
      "  warnings.warn(\n",
      "/Users/harabasz/helicity/.conda/lib/python3.11/site-packages/botorch/optim/initializers.py:403: BadInitialCandidatesWarning: Unable to find non-zero acquisition function values - initial conditions are being selected randomly.\n",
      "  warnings.warn(\n",
      "/Users/harabasz/helicity/.conda/lib/python3.11/site-packages/botorch/optim/initializers.py:403: BadInitialCandidatesWarning: Unable to find non-zero acquisition function values - initial conditions are being selected randomly.\n",
      "  warnings.warn(\n",
      "/Users/harabasz/helicity/.conda/lib/python3.11/site-packages/botorch/optim/initializers.py:403: BadInitialCandidatesWarning: Unable to find non-zero acquisition function values - initial conditions are being selected randomly.\n",
      "  warnings.warn(\n",
      "/Users/harabasz/helicity/.conda/lib/python3.11/site-packages/botorch/optim/initializers.py:403: BadInitialCandidatesWarning: Unable to find non-zero acquisition function values - initial conditions are being selected randomly.\n",
      "  warnings.warn(\n",
      "/Users/harabasz/helicity/.conda/lib/python3.11/site-packages/botorch/optim/initializers.py:403: BadInitialCandidatesWarning: Unable to find non-zero acquisition function values - initial conditions are being selected randomly.\n",
      "  warnings.warn(\n",
      "/Users/harabasz/helicity/.conda/lib/python3.11/site-packages/botorch/optim/initializers.py:403: BadInitialCandidatesWarning: Unable to find non-zero acquisition function values - initial conditions are being selected randomly.\n",
      "  warnings.warn(\n",
      "/Users/harabasz/helicity/.conda/lib/python3.11/site-packages/botorch/optim/initializers.py:403: BadInitialCandidatesWarning: Unable to find non-zero acquisition function values - initial conditions are being selected randomly.\n",
      "  warnings.warn(\n"
     ]
    },
    {
     "name": "stdout",
     "output_type": "stream",
     "text": [
      "Before reweighting hists 14:42:55\n",
      "After reweighting hists 14:42:55\n"
     ]
    },
    {
     "name": "stderr",
     "output_type": "stream",
     "text": [
      "/Users/harabasz/helicity/.conda/lib/python3.11/site-packages/botorch/optim/initializers.py:403: BadInitialCandidatesWarning: Unable to find non-zero acquisition function values - initial conditions are being selected randomly.\n",
      "  warnings.warn(\n",
      "/Users/harabasz/helicity/.conda/lib/python3.11/site-packages/botorch/optim/initializers.py:403: BadInitialCandidatesWarning: Unable to find non-zero acquisition function values - initial conditions are being selected randomly.\n",
      "  warnings.warn(\n",
      "/Users/harabasz/helicity/.conda/lib/python3.11/site-packages/botorch/optim/initializers.py:403: BadInitialCandidatesWarning: Unable to find non-zero acquisition function values - initial conditions are being selected randomly.\n",
      "  warnings.warn(\n",
      "/Users/harabasz/helicity/.conda/lib/python3.11/site-packages/botorch/optim/initializers.py:403: BadInitialCandidatesWarning: Unable to find non-zero acquisition function values - initial conditions are being selected randomly.\n",
      "  warnings.warn(\n",
      "/Users/harabasz/helicity/.conda/lib/python3.11/site-packages/botorch/optim/initializers.py:403: BadInitialCandidatesWarning: Unable to find non-zero acquisition function values - initial conditions are being selected randomly.\n",
      "  warnings.warn(\n",
      "/Users/harabasz/helicity/.conda/lib/python3.11/site-packages/botorch/optim/initializers.py:403: BadInitialCandidatesWarning: Unable to find non-zero acquisition function values - initial conditions are being selected randomly.\n",
      "  warnings.warn(\n",
      "/Users/harabasz/helicity/.conda/lib/python3.11/site-packages/botorch/optim/initializers.py:403: BadInitialCandidatesWarning: Unable to find non-zero acquisition function values - initial conditions are being selected randomly.\n",
      "  warnings.warn(\n",
      "/Users/harabasz/helicity/.conda/lib/python3.11/site-packages/botorch/optim/initializers.py:403: BadInitialCandidatesWarning: Unable to find non-zero acquisition function values - initial conditions are being selected randomly.\n",
      "  warnings.warn(\n",
      "/Users/harabasz/helicity/.conda/lib/python3.11/site-packages/botorch/optim/initializers.py:403: BadInitialCandidatesWarning: Unable to find non-zero acquisition function values - initial conditions are being selected randomly.\n",
      "  warnings.warn(\n",
      "/Users/harabasz/helicity/.conda/lib/python3.11/site-packages/botorch/optim/initializers.py:403: BadInitialCandidatesWarning: Unable to find non-zero acquisition function values - initial conditions are being selected randomly.\n",
      "  warnings.warn(\n"
     ]
    },
    {
     "name": "stdout",
     "output_type": "stream",
     "text": [
      "Before reweighting hists 14:43:43\n",
      "After reweighting hists 14:43:43\n"
     ]
    },
    {
     "name": "stderr",
     "output_type": "stream",
     "text": [
      "/Users/harabasz/helicity/.conda/lib/python3.11/site-packages/botorch/optim/initializers.py:403: BadInitialCandidatesWarning: Unable to find non-zero acquisition function values - initial conditions are being selected randomly.\n",
      "  warnings.warn(\n",
      "/Users/harabasz/helicity/.conda/lib/python3.11/site-packages/botorch/optim/initializers.py:403: BadInitialCandidatesWarning: Unable to find non-zero acquisition function values - initial conditions are being selected randomly.\n",
      "  warnings.warn(\n",
      "/Users/harabasz/helicity/.conda/lib/python3.11/site-packages/botorch/optim/initializers.py:403: BadInitialCandidatesWarning: Unable to find non-zero acquisition function values - initial conditions are being selected randomly.\n",
      "  warnings.warn(\n",
      "/Users/harabasz/helicity/.conda/lib/python3.11/site-packages/botorch/optim/initializers.py:403: BadInitialCandidatesWarning: Unable to find non-zero acquisition function values - initial conditions are being selected randomly.\n",
      "  warnings.warn(\n",
      "/Users/harabasz/helicity/.conda/lib/python3.11/site-packages/botorch/optim/initializers.py:403: BadInitialCandidatesWarning: Unable to find non-zero acquisition function values - initial conditions are being selected randomly.\n",
      "  warnings.warn(\n",
      "/Users/harabasz/helicity/.conda/lib/python3.11/site-packages/botorch/optim/initializers.py:403: BadInitialCandidatesWarning: Unable to find non-zero acquisition function values - initial conditions are being selected randomly.\n",
      "  warnings.warn(\n",
      "/Users/harabasz/helicity/.conda/lib/python3.11/site-packages/botorch/optim/initializers.py:403: BadInitialCandidatesWarning: Unable to find non-zero acquisition function values - initial conditions are being selected randomly.\n",
      "  warnings.warn(\n",
      "/Users/harabasz/helicity/.conda/lib/python3.11/site-packages/botorch/optim/initializers.py:403: BadInitialCandidatesWarning: Unable to find non-zero acquisition function values - initial conditions are being selected randomly.\n",
      "  warnings.warn(\n",
      "/Users/harabasz/helicity/.conda/lib/python3.11/site-packages/botorch/optim/initializers.py:403: BadInitialCandidatesWarning: Unable to find non-zero acquisition function values - initial conditions are being selected randomly.\n",
      "  warnings.warn(\n",
      "/Users/harabasz/helicity/.conda/lib/python3.11/site-packages/botorch/optim/initializers.py:403: BadInitialCandidatesWarning: Unable to find non-zero acquisition function values - initial conditions are being selected randomly.\n",
      "  warnings.warn(\n"
     ]
    },
    {
     "name": "stdout",
     "output_type": "stream",
     "text": [
      "Before reweighting hists 14:44:34\n",
      "After reweighting hists 14:44:35\n"
     ]
    },
    {
     "name": "stderr",
     "output_type": "stream",
     "text": [
      "/Users/harabasz/helicity/.conda/lib/python3.11/site-packages/botorch/optim/initializers.py:403: BadInitialCandidatesWarning: Unable to find non-zero acquisition function values - initial conditions are being selected randomly.\n",
      "  warnings.warn(\n",
      "/Users/harabasz/helicity/.conda/lib/python3.11/site-packages/botorch/optim/initializers.py:403: BadInitialCandidatesWarning: Unable to find non-zero acquisition function values - initial conditions are being selected randomly.\n",
      "  warnings.warn(\n",
      "/Users/harabasz/helicity/.conda/lib/python3.11/site-packages/botorch/optim/initializers.py:403: BadInitialCandidatesWarning: Unable to find non-zero acquisition function values - initial conditions are being selected randomly.\n",
      "  warnings.warn(\n",
      "/Users/harabasz/helicity/.conda/lib/python3.11/site-packages/botorch/optim/initializers.py:403: BadInitialCandidatesWarning: Unable to find non-zero acquisition function values - initial conditions are being selected randomly.\n",
      "  warnings.warn(\n",
      "/Users/harabasz/helicity/.conda/lib/python3.11/site-packages/botorch/optim/initializers.py:403: BadInitialCandidatesWarning: Unable to find non-zero acquisition function values - initial conditions are being selected randomly.\n",
      "  warnings.warn(\n",
      "/Users/harabasz/helicity/.conda/lib/python3.11/site-packages/botorch/optim/initializers.py:403: BadInitialCandidatesWarning: Unable to find non-zero acquisition function values - initial conditions are being selected randomly.\n",
      "  warnings.warn(\n",
      "/Users/harabasz/helicity/.conda/lib/python3.11/site-packages/botorch/optim/initializers.py:403: BadInitialCandidatesWarning: Unable to find non-zero acquisition function values - initial conditions are being selected randomly.\n",
      "  warnings.warn(\n",
      "/Users/harabasz/helicity/.conda/lib/python3.11/site-packages/botorch/optim/initializers.py:403: BadInitialCandidatesWarning: Unable to find non-zero acquisition function values - initial conditions are being selected randomly.\n",
      "  warnings.warn(\n",
      "/Users/harabasz/helicity/.conda/lib/python3.11/site-packages/botorch/optim/initializers.py:403: BadInitialCandidatesWarning: Unable to find non-zero acquisition function values - initial conditions are being selected randomly.\n",
      "  warnings.warn(\n"
     ]
    },
    {
     "name": "stdout",
     "output_type": "stream",
     "text": [
      "Before reweighting hists 14:45:32\n",
      "After reweighting hists 14:45:32\n"
     ]
    },
    {
     "name": "stderr",
     "output_type": "stream",
     "text": [
      "/Users/harabasz/helicity/.conda/lib/python3.11/site-packages/botorch/optim/initializers.py:403: BadInitialCandidatesWarning: Unable to find non-zero acquisition function values - initial conditions are being selected randomly.\n",
      "  warnings.warn(\n",
      "/Users/harabasz/helicity/.conda/lib/python3.11/site-packages/botorch/optim/initializers.py:403: BadInitialCandidatesWarning: Unable to find non-zero acquisition function values - initial conditions are being selected randomly.\n",
      "  warnings.warn(\n",
      "/Users/harabasz/helicity/.conda/lib/python3.11/site-packages/botorch/optim/initializers.py:403: BadInitialCandidatesWarning: Unable to find non-zero acquisition function values - initial conditions are being selected randomly.\n",
      "  warnings.warn(\n",
      "/Users/harabasz/helicity/.conda/lib/python3.11/site-packages/botorch/optim/initializers.py:403: BadInitialCandidatesWarning: Unable to find non-zero acquisition function values - initial conditions are being selected randomly.\n",
      "  warnings.warn(\n",
      "/Users/harabasz/helicity/.conda/lib/python3.11/site-packages/botorch/optim/initializers.py:403: BadInitialCandidatesWarning: Unable to find non-zero acquisition function values - initial conditions are being selected randomly.\n",
      "  warnings.warn(\n",
      "/Users/harabasz/helicity/.conda/lib/python3.11/site-packages/botorch/optim/initializers.py:403: BadInitialCandidatesWarning: Unable to find non-zero acquisition function values - initial conditions are being selected randomly.\n",
      "  warnings.warn(\n",
      "/Users/harabasz/helicity/.conda/lib/python3.11/site-packages/botorch/optim/initializers.py:403: BadInitialCandidatesWarning: Unable to find non-zero acquisition function values - initial conditions are being selected randomly.\n",
      "  warnings.warn(\n",
      "/Users/harabasz/helicity/.conda/lib/python3.11/site-packages/botorch/optim/initializers.py:403: BadInitialCandidatesWarning: Unable to find non-zero acquisition function values - initial conditions are being selected randomly.\n",
      "  warnings.warn(\n",
      "/Users/harabasz/helicity/.conda/lib/python3.11/site-packages/botorch/optim/initializers.py:403: BadInitialCandidatesWarning: Unable to find non-zero acquisition function values - initial conditions are being selected randomly.\n",
      "  warnings.warn(\n"
     ]
    },
    {
     "name": "stdout",
     "output_type": "stream",
     "text": [
      "Before reweighting hists 14:46:34\n",
      "After reweighting hists 14:46:34\n"
     ]
    },
    {
     "name": "stderr",
     "output_type": "stream",
     "text": [
      "/Users/harabasz/helicity/.conda/lib/python3.11/site-packages/botorch/optim/initializers.py:403: BadInitialCandidatesWarning: Unable to find non-zero acquisition function values - initial conditions are being selected randomly.\n",
      "  warnings.warn(\n"
     ]
    }
   ],
   "source": [
    "# -2 is the default value when no feasible has been found\n",
    "default_value = 4000\n",
    "feasible_incumbents = torch.ones((num_repeats, num_queries)) * default_value\n",
    "\n",
    "for trial in range(num_repeats):\n",
    "    print(\"trial\", trial)\n",
    "\n",
    "    torch.manual_seed(trial)\n",
    "    train_x = bounds[0] + (bounds[1] - bounds[0]) * torch.rand(num_samples, 3)\n",
    "###                inequality_constraints=[(torch.tensor([0,2]),torch.tensor([-2.0,-1.0],dtype=torch.float),-2.0)],\n",
    "    while -2.0*train_x[0][0] - 1.0*train_x[0][2] < -2:\n",
    "        train_x = bounds[0] + (bounds[1] - bounds[0]) * torch.rand(num_samples, 3)\n",
    "    print(train_x)\n",
    "    print(train_x.shape)\n",
    "    train_utility = objective(train_x)\n",
    "\n",
    "    for i in tqdm(range(num_queries)):\n",
    "        feasible_incumbents[trial, i] = train_utility.max()\n",
    "        utility_model, utility_likelihood = fit_gp_model(\n",
    "            train_x, train_utility.squeeze(-1)\n",
    "        )\n",
    "        best_f = train_utility.max()\n",
    "                \n",
    "       # policy = botorch.acquisition.monte_carlo.qExpectedImprovement(\n",
    "       # policy = botorch.acquisition.analytic.ExpectedImprovement(\n",
    "        policy = botorch.acquisition.analytic.ProbabilityOfImprovement(\n",
    "            model=utility_model,\n",
    "            best_f=train_utility.max(),\n",
    "        )\n",
    "\n",
    "        with warnings.catch_warnings():\n",
    "            warnings.filterwarnings('ignore', category=RuntimeWarning)\n",
    "            next_x, acq_val = botorch.optim.optimize_acqf(\n",
    "                policy,\n",
    "                bounds=bounds,\n",
    "                q=1,\n",
    "                num_restarts=40,\n",
    "                raw_samples=100,\n",
    "                inequality_constraints=[(torch.tensor([0,2]),torch.tensor([-2.0,-1.0],dtype=torch.float),-2.0)],\n",
    "            )\n",
    "\n",
    "        next_utility = objective(next_x)\n",
    "\n",
    "        train_x = torch.cat([train_x, next_x])\n",
    "        train_utility = torch.cat([train_utility, next_utility])\n"
   ]
  },
  {
   "cell_type": "code",
   "execution_count": 10,
   "metadata": {},
   "outputs": [
    {
     "name": "stdout",
     "output_type": "stream",
     "text": [
      "Writing hist:  hist_0to150_p00p03_MC_iter2\n",
      "Writing hist:  hist_0to150_p00p03_MC_iter3\n",
      "Writing hist:  hist_0to150_p00p03_MC_iter4\n",
      "Writing hist:  hist_0to150_p00p03_MC_iter5\n",
      "Writing hist:  hist_0to150_p00p03_MC_iter6\n",
      "Writing hist:  hist_0to150_p00p03_MC_iter7\n",
      "Writing hist:  hist_0to150_p00p03_MC_iter8\n",
      "Writing hist:  hist_0to150_p00p03_MC_iter9\n",
      "Writing hist:  hist_0to150_p00p03_MC_iter10\n",
      "Writing hist:  hist_0to150_p00p03_MC_iter11\n",
      "Writing hist:  hist_0to150_p00p03_MC_iter12\n",
      "Writing hist:  hist_0to150_p00p03_MC_iter13\n",
      "Writing hist:  hist_0to150_p00p03_MC_iter14\n",
      "Writing hist:  hist_0to150_p00p03_MC_iter15\n",
      "Writing hist:  hist_0to150_p00p03_MC_iter16\n",
      "Writing hist:  hist_0to150_p00p03_MC_iter17\n",
      "Writing hist:  hist_0to150_p00p03_MC_iter18\n",
      "Writing hist:  hist_0to150_p00p03_MC_iter19\n",
      "Writing hist:  hist_0to150_p00p03_MC_iter20\n",
      "Writing hist:  hist_0to150_p00p03_MC_iter21\n",
      "Writing hist:  hist_0to150_p00p03_MC_iter22\n",
      "Writing hist:  hist_0to150_p00p03_MC_iter23\n",
      "Writing hist:  hist_0to150_p00p03_MC_iter24\n",
      "Writing hist:  hist_0to150_p00p03_MC_iter25\n",
      "Writing hist:  hist_0to150_p00p03_MC_iter26\n",
      "Writing hist:  hist_0to150_p00p03_MC_iter27\n",
      "Writing hist:  hist_0to150_p00p03_MC_iter28\n",
      "Writing hist:  hist_0to150_p00p03_MC_iter29\n",
      "Writing hist:  hist_0to150_p00p03_MC_iter30\n",
      "Writing hist:  hist_0to150_p00p03_MC_iter31\n",
      "Writing hist:  hist_0to150_p00p03_MC_iter32\n",
      "Writing hist:  hist_0to150_p00p03_MC_iter33\n",
      "Writing hist:  hist_0to150_p00p03_MC_iter34\n",
      "Writing hist:  hist_0to150_p00p03_MC_iter35\n",
      "Writing hist:  hist_0to150_p00p03_MC_iter36\n",
      "Writing hist:  hist_0to150_p00p03_MC_iter37\n",
      "Writing hist:  hist_0to150_p00p03_MC_iter38\n",
      "Writing hist:  hist_0to150_p00p03_MC_iter39\n",
      "Writing hist:  hist_0to150_p00p03_MC_iter40\n",
      "Writing hist:  hist_0to150_p00p03_MC_iter41\n",
      "Writing hist:  hist_0to150_p00p03_MC_iter42\n",
      "Writing hist:  hist_0to150_p00p03_MC_iter43\n",
      "Writing hist:  hist_0to150_p00p03_MC_iter44\n",
      "Writing hist:  hist_0to150_p00p03_MC_iter45\n",
      "Writing hist:  hist_0to150_p00p03_MC_iter46\n",
      "Writing hist:  hist_0to150_p00p03_MC_iter47\n",
      "Writing hist:  hist_0to150_p00p03_MC_iter48\n",
      "Writing hist:  hist_0to150_p00p03_MC_iter49\n",
      "Writing hist:  hist_0to150_p00p03_MC_iter50\n",
      "Writing hist:  hist_0to150_p00p03_MC_iter51\n",
      "Writing hist:  hist_0to150_p00p03_MC_iter52\n",
      "Writing hist:  hist_0to150_p00p03_MC_iter53\n",
      "Writing hist:  hist_0to150_p00p03_MC_iter54\n",
      "Writing hist:  hist_0to150_p00p03_MC_iter55\n",
      "Writing hist:  hist_0to150_p00p03_MC_iter56\n",
      "Writing hist:  hist_0to150_p00p03_MC_iter57\n",
      "Writing hist:  hist_0to150_p00p03_MC_iter58\n",
      "Writing hist:  hist_0to150_p00p03_MC_iter59\n",
      "Writing hist:  hist_0to150_p00p03_MC_iter60\n",
      "Writing hist:  hist_0to150_p00p03_MC_iter61\n",
      "Writing hist:  hist_0to150_p00p03_MC_iter62\n",
      "Writing hist:  hist_0to150_p00p03_MC_iter63\n",
      "Writing hist:  hist_0to150_p00p03_MC_iter64\n",
      "Writing hist:  hist_0to150_p00p03_MC_iter65\n",
      "Writing hist:  hist_0to150_p00p03_MC_iter66\n",
      "Writing hist:  hist_0to150_p00p03_MC_iter67\n",
      "Writing hist:  hist_0to150_p00p03_MC_iter68\n",
      "Writing hist:  hist_0to150_p00p03_MC_iter69\n",
      "Writing hist:  hist_0to150_p00p03_MC_iter70\n",
      "Writing hist:  hist_0to150_p00p03_MC_iter71\n",
      "Writing hist:  hist_0to150_p00p03_MC_iter72\n",
      "Writing hist:  hist_0to150_p00p03_MC_iter73\n",
      "Writing hist:  hist_0to150_p00p03_MC_iter74\n",
      "Writing hist:  hist_0to150_p00p03_MC_iter75\n",
      "Writing hist:  hist_0to150_p00p03_MC_iter76\n",
      "Writing hist:  hist_0to150_p00p03_MC_iter77\n",
      "Writing hist:  hist_0to150_p00p03_MC_iter78\n",
      "Writing hist:  hist_0to150_p00p03_MC_iter79\n",
      "Writing hist:  hist_0to150_p00p03_MC_iter80\n",
      "Writing hist:  hist_0to150_p00p03_MC_iter81\n",
      "Writing hist:  hist_0to150_p00p03_MC_iter82\n",
      "Writing hist:  hist_0to150_p00p03_MC_iter83\n",
      "Writing hist:  hist_0to150_p00p03_MC_iter84\n",
      "Writing hist:  hist_0to150_p00p03_MC_iter85\n",
      "Writing hist:  hist_0to150_p00p03_MC_iter86\n",
      "Writing hist:  hist_0to150_p00p03_MC_iter87\n",
      "Writing hist:  hist_0to150_p00p03_MC_iter88\n",
      "Writing hist:  hist_0to150_p00p03_MC_iter89\n",
      "Writing hist:  hist_0to150_p00p03_MC_iter90\n",
      "Writing hist:  hist_0to150_p00p03_MC_iter91\n",
      "Writing hist:  hist_0to150_p00p03_MC_iter92\n",
      "Writing hist:  hist_0to150_p00p03_MC_iter93\n",
      "Writing hist:  hist_0to150_p00p03_MC_iter94\n",
      "Writing hist:  hist_0to150_p00p03_MC_iter95\n",
      "Writing hist:  hist_0to150_p00p03_MC_iter96\n",
      "Writing hist:  hist_0to150_p00p03_MC_iter97\n",
      "Writing hist:  hist_0to150_p00p03_MC_iter98\n",
      "Writing hist:  hist_0to150_p00p03_MC_iter99\n",
      "Writing hist:  hist_0to150_p00p03_MC_iter100\n",
      "Writing hist:  hist_0to150_p00p03_MC_iter101\n",
      "Writing hist:  hist_0to150_p00p03_MC_iter102\n",
      "Writing hist:  hist_0to150_p00p03_MC_iter103\n",
      "Writing hist:  hist_0to150_p00p03_MC_iter104\n",
      "Writing hist:  hist_0to150_p00p03_MC_iter105\n",
      "Writing hist:  hist_0to150_p00p03_MC_iter106\n",
      "Writing hist:  hist_0to150_p00p03_MC_iter107\n",
      "Writing hist:  hist_0to150_p00p03_MC_iter108\n",
      "Writing hist:  hist_0to150_p00p03_MC_iter109\n",
      "Writing hist:  hist_0to150_p00p03_MC_iter110\n",
      "Writing hist:  hist_0to150_p00p03_MC_iter111\n",
      "Writing hist:  hist_0to150_p00p03_MC_iter112\n",
      "Writing hist:  hist_0to150_p00p03_MC_iter113\n",
      "Writing hist:  hist_0to150_p00p03_MC_iter114\n",
      "Writing hist:  hist_0to150_p00p03_MC_iter115\n",
      "Writing hist:  hist_0to150_p00p03_MC_iter116\n",
      "Writing hist:  hist_0to150_p00p03_MC_iter117\n",
      "Writing hist:  hist_0to150_p00p03_MC_iter118\n",
      "Writing hist:  hist_0to150_p00p03_MC_iter119\n",
      "Writing hist:  hist_0to150_p00p03_MC_iter120\n",
      "Writing hist:  hist_0to150_p00p03_MC_iter121\n",
      "Writing hist:  hist_0to150_p00p03_MC_iter122\n",
      "Writing hist:  hist_0to150_p00p03_MC_iter123\n",
      "Writing hist:  hist_0to150_p00p03_MC_iter124\n",
      "Writing hist:  hist_0to150_p00p03_MC_iter125\n",
      "Writing hist:  hist_0to150_p00p03_MC_iter126\n",
      "Writing hist:  hist_0to150_p00p03_MC_iter127\n",
      "Writing hist:  hist_0to150_p00p03_MC_iter128\n",
      "Writing hist:  hist_0to150_p00p03_MC_iter129\n",
      "Writing hist:  hist_0to150_p00p03_MC_iter130\n",
      "Writing hist:  hist_0to150_p00p03_MC_iter131\n",
      "Writing hist:  hist_0to150_p00p03_MC_iter132\n",
      "Writing hist:  hist_0to150_p00p03_MC_iter133\n",
      "Writing hist:  hist_0to150_p00p03_MC_iter134\n",
      "Writing hist:  hist_0to150_p00p03_MC_iter135\n",
      "Writing hist:  hist_0to150_p00p03_MC_iter136\n",
      "Writing hist:  hist_0to150_p00p03_MC_iter137\n",
      "Writing hist:  hist_0to150_p00p03_MC_iter138\n",
      "Writing hist:  hist_0to150_p00p03_MC_iter139\n",
      "Writing hist:  hist_0to150_p00p03_MC_iter140\n",
      "Writing hist:  hist_0to150_p00p03_MC_iter141\n",
      "Writing hist:  hist_0to150_p00p03_MC_iter142\n",
      "Writing hist:  hist_0to150_p00p03_MC_iter143\n",
      "Writing hist:  hist_0to150_p00p03_MC_iter144\n",
      "Writing hist:  hist_0to150_p00p03_MC_iter145\n",
      "Writing hist:  hist_0to150_p00p03_MC_iter146\n",
      "Writing hist:  hist_0to150_p00p03_MC_iter147\n",
      "Writing hist:  hist_0to150_p00p03_MC_iter148\n",
      "Writing hist:  hist_0to150_p00p03_MC_iter149\n",
      "Writing hist:  hist_0to150_p00p03_MC_iter150\n",
      "Writing hist:  hist_0to150_p00p03_MC_iter151\n",
      "Writing hist:  hist_0to150_p00p03_MC_iter152\n",
      "Writing hist:  hist_0to150_p00p03_MC_iter153\n",
      "Writing hist:  hist_0to150_p00p03_MC_iter154\n",
      "Writing hist:  hist_0to150_p00p03_MC_iter155\n",
      "Writing hist:  hist_0to150_p00p03_MC_iter156\n",
      "Writing hist:  hist_0to150_p00p03_MC_iter157\n",
      "Writing hist:  hist_0to150_p00p03_MC_iter158\n",
      "Writing hist:  hist_0to150_p00p03_MC_iter159\n",
      "Writing hist:  hist_0to150_p00p03_MC_iter160\n",
      "Writing hist:  hist_0to150_p00p03_MC_iter161\n",
      "Writing hist:  hist_0to150_p00p03_MC_iter162\n",
      "Writing hist:  hist_0to150_p00p03_MC_iter163\n",
      "Writing hist:  hist_0to150_p00p03_MC_iter164\n",
      "Writing hist:  hist_0to150_p00p03_MC_iter165\n",
      "Writing hist:  hist_0to150_p00p03_MC_iter166\n",
      "Writing hist:  hist_0to150_p00p03_MC_iter167\n",
      "Writing hist:  hist_0to150_p00p03_MC_iter168\n",
      "Writing hist:  hist_0to150_p00p03_MC_iter169\n",
      "Writing hist:  hist_0to150_p00p03_MC_iter170\n",
      "Writing hist:  hist_0to150_p00p03_MC_iter171\n",
      "Writing hist:  hist_0to150_p00p03_MC_iter172\n",
      "Writing hist:  hist_0to150_p00p03_MC_iter173\n",
      "Writing hist:  hist_0to150_p00p03_MC_iter174\n",
      "Writing hist:  hist_0to150_p00p03_MC_iter175\n",
      "Writing hist:  hist_0to150_p00p03_MC_iter176\n",
      "Writing hist:  hist_0to150_p00p03_MC_iter177\n",
      "Writing hist:  hist_0to150_p00p03_MC_iter178\n",
      "Writing hist:  hist_0to150_p00p03_MC_iter179\n",
      "Writing hist:  hist_0to150_p00p03_MC_iter180\n",
      "Writing hist:  hist_0to150_p00p03_MC_iter181\n",
      "Writing hist:  hist_0to150_p00p03_MC_iter182\n",
      "Writing hist:  hist_0to150_p00p03_MC_iter183\n",
      "Writing hist:  hist_0to150_p00p03_MC_iter184\n",
      "Writing hist:  hist_0to150_p00p03_MC_iter185\n",
      "Writing hist:  hist_0to150_p00p03_MC_iter186\n",
      "Writing hist:  hist_0to150_p00p03_MC_iter187\n",
      "Writing hist:  hist_0to150_p00p03_MC_iter188\n",
      "Writing hist:  hist_0to150_p00p03_MC_iter189\n",
      "Writing hist:  hist_0to150_p00p03_MC_iter190\n",
      "Writing hist:  hist_0to150_p00p03_MC_iter191\n",
      "Writing hist:  hist_0to150_p00p03_MC_iter192\n",
      "Writing hist:  hist_0to150_p00p03_MC_iter193\n",
      "Writing hist:  hist_0to150_p00p03_MC_iter194\n",
      "Writing hist:  hist_0to150_p00p03_MC_iter195\n",
      "Writing hist:  hist_0to150_p00p03_MC_iter196\n",
      "Writing hist:  hist_0to150_p00p03_MC_iter197\n",
      "Writing hist:  hist_0to150_p00p03_MC_iter198\n",
      "Writing hist:  hist_0to150_p00p03_MC_iter199\n",
      "Writing hist:  hist_0to150_p00p03_MC_iter200\n",
      "Writing hist:  hist_0to150_p00p03_MC_iter201\n",
      "Writing hist:  hist_0to150_p00p03_MC_iter202\n",
      "Writing hist:  0 0 Name: hist_0to150_m06p00_data_iter1 Title: hist_0to150_m06p00_data_iter1 NbinsX: 20\n",
      "Writing hist:  0 1 Name: hist_0to150_p00p03_data_iter1 Title: hist_0to150_p00p03_data_iter1 NbinsX: 20\n",
      "Writing hist:  0 2 Name: hist_0to150_p03p08_data_iter1 Title: hist_0to150_p03p08_data_iter1 NbinsX: 20\n",
      "Writing hist:  0 3 Name: hist_150to300_m06p00_data_iter1 Title: hist_150to300_m06p00_data_iter1 NbinsX: 20\n",
      "Writing hist:  0 4 Name: hist_150to300_p00p03_data_iter1 Title: hist_150to300_p00p03_data_iter1 NbinsX: 20\n",
      "Writing hist:  0 5 Name: hist_150to300_p03p08_data_iter1 Title: hist_150to300_p03p08_data_iter1 NbinsX: 20\n",
      "Writing hist:  0 6 Name: hist_300to450_m06p00_data_iter1 Title: hist_300to450_m06p00_data_iter1 NbinsX: 20\n",
      "Writing hist:  0 7 Name: hist_300to450_p00p03_data_iter1 Title: hist_300to450_p00p03_data_iter1 NbinsX: 20\n",
      "Writing hist:  0 8 Name: hist_300to450_p03p08_data_iter1 Title: hist_300to450_p03p08_data_iter1 NbinsX: 20\n",
      "Writing hist:  0 9 Name: hist_450to600_m06p00_data_iter1 Title: hist_450to600_m06p00_data_iter1 NbinsX: 20\n",
      "Writing hist:  0 10 Name: hist_450to600_p00p03_data_iter1 Title: hist_450to600_p00p03_data_iter1 NbinsX: 20\n",
      "Writing hist:  0 11 Name: hist_450to600_p03p08_data_iter1 Title: hist_450to600_p03p08_data_iter1 NbinsX: 20\n",
      "Writing hist:  1 0 Name: hmass_data Title: hmass_data NbinsX: 100\n",
      "Writing hist:  2 0 Name: hz_data Title: hz_data NbinsX: 100\n"
     ]
    }
   ],
   "source": [
    "torch.save(feasible_incumbents, f\"./incumbents.pth\")\n",
    "fout = TFile(\"out_\"+str(HIST_INDEX)+\".root\",\"RECREATE\")\n",
    "fout.cd()\n",
    "for hist in allHistsMC:\n",
    "    print (\"Writing hist: \", hist.GetName())\n",
    "    hist.Write()\n",
    "for j, hists in enumerate(histsData):\n",
    "    for k, hist in enumerate(hists):\n",
    "            hist.Write()\n",
    "            print (\"Writing hist: \", j, k, hist)\n",
    "fout.Close()"
   ]
  },
  {
   "cell_type": "code",
   "execution_count": 11,
   "metadata": {},
   "outputs": [],
   "source": [
    "#t = torch.tensor( [ [-1.0000, -0.4678,  0.5433]])\n",
    "#print(t)\n",
    "#print(t.shape)"
   ]
  },
  {
   "cell_type": "code",
   "execution_count": 12,
   "metadata": {},
   "outputs": [],
   "source": [
    "with torch.no_grad():\n",
    "    predictive_distribution = utility_likelihood(utility_model(xs))\n",
    "    predictive_mean = predictive_distribution.mean\n",
    "    predictive_lower, predictive_upper = predictive_distribution.confidence_region()\n"
   ]
  },
  {
   "cell_type": "code",
   "execution_count": 60,
   "metadata": {},
   "outputs": [
    {
     "data": {
      "application/vnd.jupyter.widget-view+json": {
       "model_id": "5c76a00e8be841639a4dd99f7e1f6e3d",
       "version_major": 2,
       "version_minor": 0
      },
      "text/plain": [
       "interactive(children=(IntSlider(value=50, description='x', layout=Layout(width='500px')), Output()), _dom_clas…"
      ]
     },
     "metadata": {},
     "output_type": "display_data"
    },
    {
     "data": {
      "text/plain": [
       "<function __main__.f(x)>"
      ]
     },
     "execution_count": 60,
     "metadata": {},
     "output_type": "execute_result"
    }
   ],
   "source": [
    "from ipywidgets import interact, Layout, IntSlider\n",
    "import numpy as np\n",
    "\n",
    "axis_titles = [r\"R of cone coordinates\", r\"$\\Phi$ of cone coordinates\", r\"Z of cone coordinates\"]\n",
    "\n",
    "def oneplot(ax, tensor, index, cmap, title, transpose=None):\n",
    "        \n",
    "        global xs\n",
    "        tensor_3d = torch.reshape(tensor, (101,101,101))\n",
    "        xs_3d = torch.reshape(xs, (101,101,101,3))\n",
    "        if transpose:\n",
    "               tensor_3d = tensor_3d.transpose(transpose[0],transpose[1])\n",
    "               xs_3d     = xs_3d    .transpose(transpose[0],transpose[1])\n",
    "        if transpose is None:\n",
    "                extent=[\n",
    "                        xs_3d[0][0][0][2],\n",
    "                        xs_3d[0][0][-1][2],\n",
    "                        xs_3d[0][0][0][1],\n",
    "                        xs_3d[0][-1][0][1],\n",
    "                ]\n",
    "        elif transpose == (0,1):\n",
    "                extent=[\n",
    "                        xs_3d[0][0][0][2],\n",
    "                        xs_3d[0][0][-1][2],\n",
    "                        xs_3d[0][0][0][0],\n",
    "                        xs_3d[0][-1][0][0],\n",
    "                ]\n",
    "        elif transpose == (0,2):\n",
    "                extent=[\n",
    "                        xs_3d[0][0][0][0],\n",
    "                        xs_3d[0][0][-1][0],\n",
    "                        xs_3d[0][0][0][1],\n",
    "                        xs_3d[0][-1][0][1],\n",
    "                ]\n",
    "        if transpose is None:\n",
    "                x_title=axis_titles[2]\n",
    "                y_title=axis_titles[1]\n",
    "        elif transpose == (0, 1):\n",
    "                x_title=axis_titles[2]\n",
    "                y_title=axis_titles[0]\n",
    "        elif transpose == (0,2):\n",
    "                x_title=axis_titles[0]\n",
    "                y_title=axis_titles[1]\n",
    "        \n",
    "        pos = ax.imshow(tensor_3d[index], cmap=cmap, interpolation=\"nearest\", origin=\"lower\", \n",
    "                vmin=tensor.min(), vmax=tensor.max(), extent=extent)\n",
    "        ax.set_aspect((extent[1]-extent[0])/(extent[3]-extent[2]))\n",
    "        ax.set_title(title)\n",
    "        ax.set_xlabel(x_title)\n",
    "        ax.set_ylabel(y_title)\n",
    "        plt.colorbar(pos,fraction=0.046, pad=0.04)\n",
    "\n",
    "def ff(x, transpose):\n",
    "        cmap = \"gist_rainbow\"\n",
    "        fig, ax = plt.subplots(nrows=1, ncols=2, sharey=True)\n",
    "        oneplot(ax[0], predictive_mean, x, cmap, \"value\", transpose)\n",
    "        oneplot(ax[1], predictive_upper-predictive_lower, x, cmap, \"confidence int. width\", transpose)\n",
    "\n",
    "def f(x):\n",
    "        ff(x, None)\n",
    "\n",
    "interact(f, x=IntSlider(50, 0, 100, 1, layout=Layout(width='500px')))\n"
   ]
  },
  {
   "cell_type": "code",
   "execution_count": 61,
   "metadata": {},
   "outputs": [
    {
     "data": {
      "application/vnd.jupyter.widget-view+json": {
       "model_id": "914c1fee14ff41229825c0befebc0ed4",
       "version_major": 2,
       "version_minor": 0
      },
      "text/plain": [
       "interactive(children=(IntSlider(value=50, description='x', layout=Layout(width='500px')), Output()), _dom_clas…"
      ]
     },
     "metadata": {},
     "output_type": "display_data"
    },
    {
     "data": {
      "text/plain": [
       "<function __main__.g(x)>"
      ]
     },
     "execution_count": 61,
     "metadata": {},
     "output_type": "execute_result"
    }
   ],
   "source": [
    "def g(x):\n",
    "        ff(x, (0,1))\n",
    "           \n",
    "interact(g, x=IntSlider(50, 0, 100, 1, layout=Layout(width='500px')))"
   ]
  },
  {
   "cell_type": "code",
   "execution_count": 62,
   "metadata": {},
   "outputs": [
    {
     "data": {
      "application/vnd.jupyter.widget-view+json": {
       "model_id": "946754df55844f21893a968ddd7510bf",
       "version_major": 2,
       "version_minor": 0
      },
      "text/plain": [
       "interactive(children=(IntSlider(value=50, description='x', layout=Layout(width='500px')), Output()), _dom_clas…"
      ]
     },
     "metadata": {},
     "output_type": "display_data"
    },
    {
     "data": {
      "text/plain": [
       "<function __main__.h(x)>"
      ]
     },
     "execution_count": 62,
     "metadata": {},
     "output_type": "execute_result"
    }
   ],
   "source": [
    "def h(x):\n",
    "        ff(x, (0,2))\n",
    "           \n",
    "interact(h, x=IntSlider(50, 0, 100, 1, layout=Layout(width='500px')))"
   ]
  },
  {
   "cell_type": "code",
   "execution_count": 63,
   "metadata": {},
   "outputs": [
    {
     "name": "stdout",
     "output_type": "stream",
     "text": [
      "tensor([[ 1.5300e+02,  9.8815e-01,  9.4201e-01,  5.7897e-03,  8.8570e+02,  0.0000e+00,  3.4081e+03],\n",
      "        [ 1.1300e+02,  8.9775e-01, -9.0585e-01,  1.6002e-01,  9.2194e+02,  0.0000e+00,  3.4081e+03],\n",
      "        [ 8.3000e+01,  9.8776e-01,  9.0735e-01,  1.9379e-02,  9.3176e+02,  0.0000e+00,  3.3590e+03],\n",
      "        [ 1.5000e+01,  8.7546e-01,  9.0208e-01,  1.4829e-02,  9.3732e+02,  0.0000e+00,  2.9380e+03],\n",
      "        [ 1.6200e+02,  9.6418e-01,  8.9122e-01,  3.9942e-02,  9.5269e+02,  0.0000e+00,  3.4081e+03],\n",
      "        [ 1.1100e+02,  7.4710e-01, -7.8252e-01, -4.0261e-01,  9.7895e+02,  0.0000e+00,  3.4081e+03],\n",
      "        [ 4.6000e+01,  9.6317e-01, -8.2580e-01,  7.6403e-02,  1.0194e+03,  0.0000e+00,  3.2678e+03],\n",
      "        [ 1.6300e+02,  8.9249e-01, -7.2903e-01, -2.4538e-01,  1.1082e+03,  0.0000e+00,  3.4081e+03],\n",
      "        [ 1.3400e+02,  7.6618e-01, -7.5370e-01, -2.8254e-02,  1.1148e+03,  0.0000e+00,  3.4081e+03],\n",
      "        [ 1.7500e+02,  9.6056e-01,  7.7553e-01,  3.1077e-02,  1.1359e+03,  0.0000e+00,  3.4081e+03],\n",
      "        [ 8.4000e+01,  8.4257e-01,  7.6660e-01,  4.8741e-04,  1.1565e+03,  0.0000e+00,  3.3590e+03],\n",
      "        [ 4.4000e+01,  7.5063e-01,  7.6339e-01,  5.4559e-02,  1.1571e+03,  0.0000e+00,  3.2678e+03],\n",
      "        [ 1.5400e+02,  7.1811e-01,  7.5973e-01, -7.3914e-02,  1.1748e+03,  0.0000e+00,  3.4081e+03],\n",
      "        [ 1.3100e+02,  8.2114e-01, -7.1271e-01,  3.7475e-01,  1.1789e+03,  0.0000e+00,  3.4081e+03],\n",
      "        [ 1.0700e+02,  7.2354e-01, -6.4139e-01, -4.0428e-01,  1.1953e+03,  0.0000e+00,  3.4081e+03],\n",
      "        [ 1.6500e+02,  8.6238e-01,  7.3842e-01,  2.5173e-04,  1.2083e+03,  0.0000e+00,  3.4081e+03],\n",
      "        [ 1.0000e+02,  9.8606e-01,  7.3279e-01,  7.2511e-03,  1.2148e+03,  0.0000e+00,  3.4080e+03],\n",
      "        [ 1.2200e+02,  7.7139e-01, -6.6506e-01, -1.3689e-01,  1.2447e+03,  0.0000e+00,  3.4081e+03],\n",
      "        [ 1.9000e+02,  6.8117e-01,  7.1037e-01,  2.4113e-03,  1.2672e+03,  0.0000e+00,  3.4236e+03],\n",
      "        [ 1.9800e+02,  7.3101e-01,  6.8094e-01,  3.2503e-02,  1.3227e+03,  1.0000e+00,  3.4407e+03],\n",
      "        [ 1.3300e+02,  9.2581e-01,  6.7002e-01, -3.0072e-02,  1.3450e+03,  0.0000e+00,  3.4081e+03],\n",
      "        [ 1.4100e+02,  7.5639e-01,  6.6306e-01, -3.6907e-02,  1.3692e+03,  0.0000e+00,  3.4081e+03],\n",
      "        [ 3.9000e+01,  4.5710e-01, -6.1113e-01,  3.5299e-01,  1.3740e+03,  0.0000e+00,  3.2678e+03],\n",
      "        [ 7.1000e+01,  3.7372e-01, -5.4642e-01, -3.8400e-01,  1.3862e+03,  0.0000e+00,  3.3284e+03],\n",
      "        [ 9.2000e+01,  9.1104e-01,  6.3144e-01, -1.3402e-02,  1.4259e+03,  0.0000e+00,  3.4080e+03],\n",
      "        [ 1.4500e+02,  1.2393e-01, -5.1044e-01, -4.1751e-01,  1.4395e+03,  0.0000e+00,  3.4081e+03],\n",
      "        [ 1.5700e+02,  6.8209e-01,  6.3041e-01, -4.4016e-02,  1.4476e+03,  0.0000e+00,  3.4081e+03],\n",
      "        [ 1.0500e+02,  7.4917e-01,  6.2521e-01, -4.2396e-04,  1.4496e+03,  0.0000e+00,  3.4081e+03],\n",
      "        [ 4.8000e+01,  8.8687e-01,  6.1468e-01,  1.3399e-02,  1.4603e+03,  0.0000e+00,  3.2678e+03],\n",
      "        [ 1.4000e+02,  3.1813e-01, -5.7761e-01,  3.7110e-03,  1.4663e+03,  0.0000e+00,  3.4081e+03],\n",
      "        [ 7.7000e+01,  6.0181e-01, -5.4800e-01, -1.5583e-01,  1.4819e+03,  0.0000e+00,  3.3398e+03],\n",
      "        [ 7.9000e+01,  5.8810e-01,  6.0164e-01, -1.8349e-01,  1.5249e+03,  0.0000e+00,  3.3398e+03],\n",
      "        [ 5.9000e+01,  4.5885e-01, -4.6105e-01, -4.4558e-01,  1.5335e+03,  0.0000e+00,  3.2762e+03],\n",
      "        [ 6.5000e+01,  7.6111e-01,  5.8481e-01, -5.6194e-02,  1.5519e+03,  0.0000e+00,  3.2814e+03],\n",
      "        [ 1.7600e+02,  5.8685e-01, -4.6583e-01, -3.9367e-01,  1.5550e+03,  0.0000e+00,  3.4081e+03],\n",
      "        [ 9.6000e+01,  2.9178e-01, -5.3933e-01,  3.2098e-02,  1.5629e+03,  0.0000e+00,  3.4080e+03],\n",
      "        [ 4.5000e+01,  6.9460e-01,  5.6800e-01,  1.3049e-02,  1.5885e+03,  0.0000e+00,  3.2678e+03],\n",
      "        [ 1.3200e+02,  5.9091e-01, -4.5969e-01, -3.3527e-01,  1.6062e+03,  0.0000e+00,  3.4081e+03],\n",
      "        [ 1.0600e+02,  1.7405e-02, -4.1973e-01, -4.6626e-01,  1.6141e+03,  0.0000e+00,  3.4081e+03],\n",
      "        [ 1.9000e+01,  5.5407e-01, -5.0630e-01,  3.7165e-02,  1.6215e+03,  0.0000e+00,  2.9865e+03],\n",
      "        [ 5.6000e+01,  1.6742e-01, -5.2070e-01,  1.0325e-01,  1.6235e+03,  0.0000e+00,  3.2762e+03],\n",
      "        [ 1.7800e+02,  3.7193e-01, -4.4204e-01, -3.7556e-01,  1.6337e+03,  0.0000e+00,  3.4081e+03],\n",
      "        [ 1.6600e+02,  1.0512e-01, -4.3012e-01, -3.7026e-01,  1.6751e+03,  0.0000e+00,  3.4081e+03],\n",
      "        [ 1.8800e+02,  8.7854e-01,  5.2959e-01, -8.7228e-02,  1.6778e+03,  0.0000e+00,  3.4236e+03],\n",
      "        [ 1.5100e+02, -1.7710e-01, -3.5237e-01, -5.0255e-01,  1.7413e+03,  0.0000e+00,  3.4081e+03],\n",
      "        [ 0.0000e+00,  1.4517e-01, -3.9563e-01, -3.4861e-01,  1.7867e+03,  0.0000e+00,  1.7867e+03],\n",
      "        [ 1.6800e+02,  7.4590e-01, -4.1967e-01, -8.5620e-02,  1.7920e+03,  0.0000e+00,  3.4081e+03],\n",
      "        [ 2.4000e+01,  7.0565e-01,  4.7506e-01,  8.5249e-02,  1.8031e+03,  0.0000e+00,  2.9865e+03],\n",
      "        [ 5.5000e+01,  5.5186e-01,  4.8308e-01,  8.8933e-02,  1.8072e+03,  0.0000e+00,  3.2762e+03],\n",
      "        [ 2.5000e+01,  7.0668e-01,  4.8271e-01, -1.6227e-02,  1.8152e+03,  0.0000e+00,  2.9865e+03],\n",
      "        [ 7.3000e+01, -5.7489e-02, -4.5196e-01, -1.5508e-02,  1.8183e+03,  0.0000e+00,  3.3284e+03],\n",
      "        [ 1.7300e+02,  4.2037e-02, -4.4864e-01,  1.4307e-02,  1.8265e+03,  0.0000e+00,  3.4081e+03],\n",
      "        [ 8.9000e+01, -7.3940e-02, -3.5857e-01, -4.1226e-01,  1.8340e+03,  0.0000e+00,  3.4080e+03],\n",
      "        [ 1.8000e+01,  2.1011e-01, -4.4009e-01,  8.4369e-02,  1.8380e+03,  0.0000e+00,  2.9865e+03],\n",
      "        [ 1.1800e+02,  6.5218e-01,  4.3463e-01,  2.2443e-01,  1.8425e+03,  0.0000e+00,  3.4081e+03],\n",
      "        [ 1.9100e+02,  1.3724e-01, -4.0478e-01,  4.0012e-01,  1.8453e+03,  0.0000e+00,  3.4236e+03],\n",
      "        [ 9.4000e+01,  5.4678e-01,  4.5773e-01,  1.0501e-01,  1.8710e+03,  0.0000e+00,  3.4080e+03],\n",
      "        [ 1.5200e+02,  5.8014e-01,  4.7149e-01, -1.7847e-01,  1.8795e+03,  0.0000e+00,  3.4081e+03],\n",
      "        [ 1.7400e+02,  6.6696e-01,  4.3927e-01,  1.2671e-01,  1.8856e+03,  0.0000e+00,  3.4081e+03],\n",
      "        [ 1.7100e+02,  4.3494e-01, -3.9451e-01, -1.1034e-01,  1.9040e+03,  0.0000e+00,  3.4081e+03],\n",
      "        [ 1.7700e+02,  7.8268e-02, -4.2112e-01,  1.6883e-02,  1.9064e+03,  0.0000e+00,  3.4081e+03],\n",
      "        [ 1.2100e+02,  5.9251e-01,  4.3209e-01,  1.5040e-01,  1.9079e+03,  0.0000e+00,  3.4081e+03],\n",
      "        [ 1.5000e+02,  4.3241e-01,  4.6849e-01, -6.4029e-02,  1.9108e+03,  0.0000e+00,  3.4081e+03],\n",
      "        [ 1.2700e+02,  2.3612e-01,  4.7355e-01, -4.0004e-02,  1.9204e+03,  0.0000e+00,  3.4081e+03],\n",
      "        [ 1.8700e+02,  7.3498e-01, -3.6453e-01, -8.7367e-02,  1.9342e+03,  0.0000e+00,  3.4236e+03],\n",
      "        [ 1.3800e+02, -1.2009e-01, -4.0914e-01,  2.7101e-01,  1.9391e+03,  0.0000e+00,  3.4081e+03],\n",
      "        [ 5.4000e+01,  2.3741e-01, -3.9036e-01,  2.0782e-01,  1.9549e+03,  0.0000e+00,  3.2762e+03],\n",
      "        [ 9.0000e+00, -4.6442e-02, -4.0706e-01,  2.1148e-02,  1.9662e+03,  0.0000e+00,  2.7347e+03],\n",
      "        [ 1.4400e+02,  5.4054e-01, -3.6961e-01,  1.1664e-01,  1.9683e+03,  0.0000e+00,  3.4081e+03],\n",
      "        [ 3.1000e+01,  5.3088e-01, -2.7996e-01, -4.3076e-01,  1.9841e+03,  0.0000e+00,  3.0439e+03],\n",
      "        [ 3.0000e+01,  6.6452e-01, -3.5367e-01, -1.5008e-02,  1.9888e+03,  0.0000e+00,  3.0439e+03],\n",
      "        [ 9.0000e+01,  6.1812e-01,  4.2362e-01, -1.5092e-01,  2.0129e+03,  0.0000e+00,  3.4080e+03],\n",
      "        [ 1.7000e+01,  6.6911e-01,  4.0495e-01, -1.1808e-02,  2.0361e+03,  0.0000e+00,  2.9865e+03],\n",
      "        [ 4.1000e+01,  3.3429e-02, -3.7072e-01, -1.0149e-01,  2.0388e+03,  0.0000e+00,  3.2678e+03],\n",
      "        [ 5.7000e+01,  4.6453e-01, -2.6770e-01, -3.8929e-01,  2.0689e+03,  0.0000e+00,  3.2762e+03],\n",
      "        [ 1.4900e+02, -9.4743e-02, -3.7139e-01,  1.2907e-01,  2.0917e+03,  0.0000e+00,  3.4081e+03],\n",
      "        [ 6.0000e+01,  4.5291e-01, -3.1684e-01, -1.8652e-01,  2.0922e+03,  0.0000e+00,  3.2762e+03],\n",
      "        [ 1.4800e+02,  4.5509e-01,  4.0026e-01,  2.2965e-02,  2.0923e+03,  0.0000e+00,  3.4081e+03],\n",
      "        [ 1.0900e+02,  4.2258e-01, -2.6216e-01,  4.0848e-01,  2.0946e+03,  0.0000e+00,  3.4081e+03],\n",
      "        [ 1.7000e+02,  4.7513e-01, -3.1862e-01, -1.4858e-01,  2.1000e+03,  0.0000e+00,  3.4081e+03],\n",
      "        [ 1.4200e+02,  7.4250e-01,  2.9312e-01,  2.7271e-01,  2.1085e+03,  0.0000e+00,  3.4081e+03],\n",
      "        [ 1.0000e+00,  6.1681e-01,  3.8321e-01, -2.4268e-02,  2.1150e+03,  0.0000e+00,  2.1150e+03],\n",
      "        [ 1.3700e+02,  8.3280e-01,  3.2713e-01,  9.0727e-02,  2.1424e+03,  0.0000e+00,  3.4081e+03],\n",
      "        [ 1.3000e+02, -1.5521e-01, -2.0345e-01,  5.8668e-01,  2.1648e+03,  0.0000e+00,  3.4081e+03],\n",
      "        [ 1.3900e+02,  1.1319e-01, -3.2612e-01, -5.9911e-02,  2.1883e+03,  0.0000e+00,  3.4081e+03],\n",
      "        [ 6.9000e+01,  6.8623e-01,  3.5121e-01, -6.7377e-02,  2.1937e+03,  0.0000e+00,  3.3284e+03],\n",
      "        [ 8.0000e+01,  5.4124e-01, -2.3912e-01,  2.9820e-01,  2.1974e+03,  0.0000e+00,  3.3398e+03],\n",
      "        [ 5.8000e+01,  6.8094e-01,  3.3669e-01, -2.7431e-01,  2.2127e+03,  0.0000e+00,  3.2762e+03],\n",
      "        [ 1.5800e+02, -2.5372e-01, -3.2456e-01,  2.6186e-01,  2.2305e+03,  0.0000e+00,  3.4081e+03],\n",
      "        [ 2.1000e+01,  7.9545e-01,  2.5251e-01,  1.4908e-01,  2.2811e+03,  0.0000e+00,  2.9865e+03],\n",
      "        [ 7.0000e+00,  6.6056e-01,  2.1410e-01,  2.8035e-01,  2.2855e+03,  0.0000e+00,  2.7347e+03],\n",
      "        [ 2.7000e+01, -4.0693e-01, -2.7623e-01,  4.1295e-01,  2.2888e+03,  0.0000e+00,  2.9865e+03],\n",
      "        [ 9.3000e+01,  1.7470e-01,  3.6712e-01, -6.7499e-02,  2.2910e+03,  0.0000e+00,  3.4080e+03],\n",
      "        [ 1.9700e+02,  2.9937e-01,  2.6708e-01,  2.8857e-01,  2.3103e+03,  1.0000e+00,  3.4407e+03],\n",
      "        [ 1.1000e+02,  5.1034e-01,  2.8099e-01,  1.7295e-01,  2.3147e+03,  0.0000e+00,  3.4081e+03],\n",
      "        [ 1.3500e+02, -7.7364e-02, -2.4197e-01,  3.6807e-01,  2.3407e+03,  0.0000e+00,  3.4081e+03],\n",
      "        [ 1.6900e+02,  3.2932e-01,  3.3918e-01, -7.8071e-02,  2.3423e+03,  0.0000e+00,  3.4081e+03],\n",
      "        [ 9.9000e+01,  7.1628e-01, -2.0493e-01, -7.8383e-02,  2.3481e+03,  0.0000e+00,  3.4080e+03],\n",
      "        [ 1.2400e+02,  1.3330e-01, -2.7501e-01, -6.5283e-02,  2.3510e+03,  0.0000e+00,  3.4081e+03],\n",
      "        [ 1.3600e+02, -4.5456e-01, -2.0295e-01,  5.0792e-01,  2.3645e+03,  0.0000e+00,  3.4081e+03],\n",
      "        [ 1.8400e+02,  3.1653e-01,  2.5942e-01,  2.4080e-01,  2.3771e+03,  0.0000e+00,  3.4081e+03],\n",
      "        [ 1.1500e+02,  1.2109e-02, -1.4422e-01, -4.4947e-01,  2.3793e+03,  0.0000e+00,  3.4081e+03],\n",
      "        [ 6.1000e+01,  8.9824e-02,  3.4225e-01, -1.7387e-01,  2.3866e+03,  0.0000e+00,  3.2762e+03],\n",
      "        [ 5.3000e+01, -3.8249e-01, -1.8492e-01, -3.7711e-01,  2.4248e+03,  0.0000e+00,  3.2762e+03],\n",
      "        [ 2.0000e+00,  6.4945e-01,  2.6952e-01, -1.2859e-01,  2.4263e+03,  0.0000e+00,  2.4263e+03],\n",
      "        [ 1.5900e+02,  2.9591e-01, -2.3011e-01, -1.0467e-01,  2.4308e+03,  0.0000e+00,  3.4081e+03],\n",
      "        [ 6.6000e+01,  1.7283e-01, -2.4874e-01,  4.1364e-02,  2.4349e+03,  0.0000e+00,  3.2814e+03],\n",
      "        [ 3.8000e+01,  5.7705e-01, -1.2957e-01,  2.1410e-01,  2.4581e+03,  0.0000e+00,  3.2678e+03],\n",
      "        [ 1.0200e+02,  6.2841e-01,  2.0976e-01,  1.2601e-01,  2.4604e+03,  0.0000e+00,  3.4081e+03],\n",
      "        [ 2.2000e+01,  6.4440e-01, -8.8902e-02, -3.5312e-01,  2.4636e+03,  0.0000e+00,  2.9865e+03],\n",
      "        [ 5.2000e+01,  1.7858e-01,  2.8936e-01, -2.9771e-01,  2.4665e+03,  0.0000e+00,  3.2762e+03],\n",
      "        [ 1.1900e+02,  1.2694e-01, -3.3523e-02,  4.5232e-01,  2.4731e+03,  0.0000e+00,  3.4081e+03],\n",
      "        [ 1.5500e+02,  3.8463e-01,  2.7195e-01, -2.3745e-01,  2.4944e+03,  0.0000e+00,  3.4081e+03],\n",
      "        [ 5.1000e+01,  2.0323e-01, -2.2504e-01, -3.4321e-02,  2.4962e+03,  0.0000e+00,  3.2762e+03],\n",
      "        [ 1.9600e+02,  6.5007e-01,  2.2232e-01,  1.7781e-02,  2.4966e+03,  1.0000e+00,  3.4407e+03],\n",
      "        [ 8.0000e+00,  2.1313e-02,  3.0779e-01, -2.2300e-01,  2.4983e+03,  0.0000e+00,  2.7347e+03],\n",
      "        [ 1.3000e+01, -1.5629e-01, -7.0653e-02,  4.9275e-01,  2.4990e+03,  0.0000e+00,  2.9204e+03],\n",
      "        [ 1.1400e+02,  3.8447e-01, -1.9871e-01,  1.0563e-02,  2.5021e+03,  0.0000e+00,  3.4081e+03],\n",
      "        [ 8.8000e+01,  5.8420e-01,  2.2657e-01,  4.7633e-02,  2.5031e+03,  0.0000e+00,  3.4080e+03],\n",
      "        [ 1.4300e+02,  5.0317e-01, -1.3590e-01, -2.7090e-01,  2.5041e+03,  0.0000e+00,  3.4081e+03],\n",
      "        [ 6.3000e+01,  4.8832e-01,  2.5210e-01, -5.0392e-03,  2.5142e+03,  0.0000e+00,  3.2814e+03],\n",
      "        [ 6.0000e+00,  7.3111e-01, -1.0013e-01,  5.9653e-02,  2.5259e+03,  0.0000e+00,  2.7347e+03],\n",
      "        [ 1.6700e+02,  8.8489e-01,  1.1930e-02,  6.5859e-02,  2.5338e+03,  0.0000e+00,  3.4081e+03],\n",
      "        [ 1.0400e+02,  3.2337e-01, -1.2321e-02, -4.5138e-01,  2.5433e+03,  0.0000e+00,  3.4081e+03],\n",
      "        [ 8.6000e+01,  1.6621e-01, -2.1368e-01, -1.3947e-03,  2.5473e+03,  0.0000e+00,  3.3590e+03],\n",
      "        [ 1.1200e+02,  5.4127e-01,  1.8155e-01,  1.2785e-01,  2.5547e+03,  0.0000e+00,  3.4081e+03],\n",
      "        [ 1.0300e+02,  7.5000e-01, -5.2871e-02, -2.4002e-01,  2.5645e+03,  0.0000e+00,  3.4081e+03],\n",
      "        [ 7.2000e+01,  6.1835e-01,  2.0882e-01, -5.5283e-02,  2.5671e+03,  0.0000e+00,  3.3284e+03],\n",
      "        [ 6.4000e+01,  1.0056e-02,  2.7307e-01,  1.2663e-01,  2.5700e+03,  0.0000e+00,  3.2814e+03],\n",
      "        [ 1.8300e+02,  7.3956e-01, -5.0131e-02, -2.3357e-01,  2.5767e+03,  0.0000e+00,  3.4081e+03],\n",
      "        [ 9.7000e+01,  6.8448e-01,  1.8013e-01, -3.6138e-02,  2.5804e+03,  0.0000e+00,  3.4080e+03],\n",
      "        [ 3.0000e+00,  6.4355e-01,  1.9359e-01, -1.8903e-01,  2.5822e+03,  0.0000e+00,  2.5822e+03],\n",
      "        [ 1.9200e+02,  8.8650e-01,  4.3111e-02, -1.5446e-01,  2.5886e+03,  0.0000e+00,  3.4236e+03],\n",
      "        [ 1.8200e+02,  6.3305e-01, -7.7049e-02, -2.2996e-01,  2.5922e+03,  0.0000e+00,  3.4081e+03],\n",
      "        [ 1.6400e+02, -3.8369e-02, -1.8387e-01, -1.8986e-01,  2.6283e+03,  0.0000e+00,  3.4081e+03],\n",
      "        [ 7.0000e+01,  5.8528e-01,  1.5724e-01,  4.6047e-02,  2.6321e+03,  0.0000e+00,  3.3284e+03],\n",
      "        [ 4.0000e+00,  5.8958e-01,  1.4720e-01, -2.7690e-01,  2.6344e+03,  0.0000e+00,  2.6344e+03],\n",
      "        [ 1.8500e+02, -1.3410e-01, -2.1232e-01,  1.3157e-01,  2.6358e+03,  0.0000e+00,  3.4081e+03],\n",
      "        [ 7.8000e+01,  6.5392e-01, -6.8563e-02, -1.1433e-01,  2.6409e+03,  0.0000e+00,  3.3398e+03],\n",
      "        [ 1.1600e+02,  5.5618e-01, -5.0666e-02,  1.2847e-01,  2.6435e+03,  0.0000e+00,  3.4081e+03],\n",
      "        [ 1.4600e+02,  5.6658e-01, -8.1106e-02, -1.0877e-02,  2.6678e+03,  0.0000e+00,  3.4081e+03],\n",
      "        [ 1.0800e+02,  6.6400e-01, -5.0259e-03,  4.5294e-02,  2.6684e+03,  0.0000e+00,  3.4081e+03],\n",
      "        [ 1.6000e+02,  5.9164e-01,  1.2868e-01, -2.1367e-01,  2.6909e+03,  0.0000e+00,  3.4081e+03],\n",
      "        [ 8.1000e+01,  6.0122e-01,  1.1744e-01, -1.1942e-02,  2.7030e+03,  0.0000e+00,  3.3398e+03],\n",
      "        [ 1.2800e+02,  2.0336e-01,  2.1914e-01, -2.1186e-01,  2.7113e+03,  0.0000e+00,  3.4081e+03],\n",
      "        [ 1.6100e+02,  6.7136e-02, -1.5740e-01,  1.0223e-01,  2.7281e+03,  0.0000e+00,  3.4081e+03],\n",
      "        [ 5.0000e+00,  5.5235e-01,  4.9378e-02, -2.4157e-01,  2.7347e+03,  0.0000e+00,  2.7347e+03],\n",
      "        [ 3.2000e+01, -5.5396e-01, -1.9373e-01, -1.4314e-01,  2.7486e+03,  0.0000e+00,  3.0439e+03],\n",
      "        [ 1.0000e+01,  2.2441e-01,  8.6836e-02, -3.4842e-01,  2.7673e+03,  0.0000e+00,  2.7673e+03],\n",
      "        [ 4.3000e+01,  4.8242e-01,  1.0624e-01,  2.3531e-02,  2.7679e+03,  0.0000e+00,  3.2678e+03],\n",
      "        [ 2.3000e+01, -4.8629e-02, -2.1816e-02,  3.2405e-01,  2.7761e+03,  0.0000e+00,  2.9865e+03],\n",
      "        [ 1.8900e+02,  3.7680e-01, -5.0023e-02, -1.6695e-01,  2.7965e+03,  0.0000e+00,  3.4236e+03],\n",
      "        [ 1.2000e+02,  6.3641e-02,  1.7702e-01,  1.3932e-01,  2.7998e+03,  0.0000e+00,  3.4081e+03],\n",
      "        [ 4.9000e+01,  4.0658e-01,  1.0960e-01,  3.2308e-02,  2.8048e+03,  0.0000e+00,  3.2678e+03],\n",
      "        [ 1.8100e+02,  1.9757e-01,  4.6875e-02, -3.2202e-01,  2.8188e+03,  0.0000e+00,  3.4081e+03],\n",
      "        [ 1.4700e+02,  1.0383e-01, -1.0470e-01, -1.6458e-01,  2.8227e+03,  0.0000e+00,  3.4081e+03],\n",
      "        [ 1.8000e+02,  3.3748e-01,  2.7174e-02, -2.5730e-01,  2.8244e+03,  0.0000e+00,  3.4081e+03],\n",
      "        [ 1.9400e+02,  3.7045e-01, -1.4810e-02,  6.7967e-02,  2.8269e+03,  1.0000e+00,  3.4407e+03],\n",
      "        [ 1.7900e+02,  3.0727e-01,  1.4917e-01, -1.4971e-01,  2.8350e+03,  0.0000e+00,  3.4081e+03],\n",
      "        [ 1.9900e+02, -7.6741e-01, -1.1321e-01,  3.9325e-01,  2.8443e+03,  1.0000e+00,  3.4407e+03],\n",
      "        [ 7.6000e+01,  2.9039e-01, -6.4635e-02,  1.5324e-03,  2.8461e+03,  0.0000e+00,  3.3398e+03],\n",
      "        [ 1.1000e+01,  2.6482e-01,  9.6741e-02, -2.5910e-01,  2.8485e+03,  0.0000e+00,  2.8485e+03],\n",
      "        [ 1.5600e+02,  3.3709e-01, -2.1281e-02,  3.6024e-02,  2.8592e+03,  0.0000e+00,  3.4081e+03],\n",
      "        [ 2.6000e+01,  9.6119e-02, -1.1208e-02,  2.0909e-01,  2.8648e+03,  0.0000e+00,  2.9865e+03],\n",
      "        [ 1.2500e+02,  2.4256e-01, -3.9434e-02, -2.0528e-02,  2.9137e+03,  0.0000e+00,  3.4081e+03],\n",
      "        [ 9.8000e+01,  2.2937e-01, -3.7854e-02,  3.0598e-03,  2.9185e+03,  0.0000e+00,  3.4080e+03],\n",
      "        [ 1.2000e+01,  9.6481e-02, -3.2616e-02, -2.1783e-01,  2.9204e+03,  0.0000e+00,  2.9204e+03],\n",
      "        [ 8.5000e+01, -8.7855e-02,  1.1561e-02,  2.4421e-01,  2.9324e+03,  0.0000e+00,  3.3590e+03],\n",
      "        [ 1.4000e+01,  1.9975e-01,  8.5395e-02, -1.9655e-01,  2.9380e+03,  0.0000e+00,  2.9380e+03],\n",
      "        [ 1.9500e+02,  8.1168e-02,  4.7800e-02, -2.6104e-01,  2.9436e+03,  1.0000e+00,  3.4407e+03],\n",
      "        [ 4.2000e+01,  2.4898e-01,  5.1933e-02,  2.3445e-02,  2.9439e+03,  0.0000e+00,  3.2678e+03],\n",
      "        [ 1.1700e+02, -2.7248e-02,  6.3953e-03,  2.0002e-01,  2.9560e+03,  0.0000e+00,  3.4081e+03],\n",
      "        [ 2.0000e+01,  1.4814e-01, -1.6754e-02, -1.3398e-01,  2.9762e+03,  0.0000e+00,  2.9865e+03],\n",
      "        [ 1.6000e+01,  1.4806e-01,  5.2881e-03, -1.5335e-01,  2.9865e+03,  0.0000e+00,  2.9865e+03],\n",
      "        [ 7.5000e+01,  1.7792e-01,  7.1426e-02, -1.3808e-01,  2.9883e+03,  0.0000e+00,  3.3398e+03],\n",
      "        [ 3.5000e+01, -3.1845e-01, -1.2881e-01,  6.1088e-02,  2.9981e+03,  0.0000e+00,  3.1202e+03],\n",
      "        [ 1.7200e+02, -7.0021e-01, -7.5285e-02, -2.4622e-01,  3.0130e+03,  0.0000e+00,  3.4081e+03],\n",
      "        [ 2.9000e+01,  1.1447e-01,  2.0384e-02, -1.1259e-01,  3.0324e+03,  0.0000e+00,  3.0439e+03],\n",
      "        [ 2.8000e+01,  1.0527e-01,  2.9340e-02, -1.0304e-01,  3.0439e+03,  0.0000e+00,  3.0439e+03],\n",
      "        [ 9.1000e+01, -4.9330e-01, -1.3500e-01,  5.8153e-02,  3.0476e+03,  0.0000e+00,  3.4080e+03],\n",
      "        [ 3.3000e+01, -3.8204e-02, -4.7517e-03, -1.7574e-01,  3.0551e+03,  0.0000e+00,  3.0551e+03],\n",
      "        [ 1.2900e+02, -2.1494e-01,  2.6612e-02, -2.5778e-01,  3.0557e+03,  0.0000e+00,  3.4081e+03],\n",
      "        [ 3.4000e+01, -1.3536e-01,  5.6058e-03, -1.6343e-01,  3.1202e+03,  0.0000e+00,  3.1202e+03],\n",
      "        [ 3.6000e+01, -1.8828e-01,  1.1655e-01, -4.9112e-02,  3.1581e+03,  0.0000e+00,  3.1581e+03],\n",
      "        [ 4.7000e+01, -4.8887e-01,  1.3743e-01,  1.1980e-01,  3.1779e+03,  0.0000e+00,  3.2678e+03],\n",
      "        [ 4.0000e+01, -3.4590e-01, -2.2095e-02, -5.2763e-02,  3.2524e+03,  0.0000e+00,  3.2678e+03],\n",
      "        [ 1.2600e+02, -3.3684e-01,  1.2855e-02, -9.4752e-02,  3.2664e+03,  0.0000e+00,  3.4081e+03],\n",
      "        [ 3.7000e+01, -3.4184e-01, -3.9695e-03, -6.6186e-02,  3.2678e+03,  0.0000e+00,  3.2678e+03],\n",
      "        [ 5.0000e+01, -3.1291e-01,  4.4651e-02, -7.0763e-02,  3.2762e+03,  0.0000e+00,  3.2762e+03],\n",
      "        [ 6.2000e+01, -3.1569e-01,  2.8447e-02, -4.9827e-02,  3.2814e+03,  0.0000e+00,  3.2814e+03],\n",
      "        [ 9.5000e+01, -4.1664e-01,  1.1595e-03,  5.2213e-02,  3.3059e+03,  0.0000e+00,  3.4080e+03],\n",
      "        [ 6.7000e+01, -3.8564e-01,  1.6108e-02, -5.0132e-02,  3.3094e+03,  0.0000e+00,  3.3094e+03],\n",
      "        [ 6.8000e+01, -4.0516e-01,  4.9099e-02, -1.6281e-02,  3.3284e+03,  0.0000e+00,  3.3284e+03],\n",
      "        [ 7.4000e+01, -4.2943e-01,  3.6047e-02, -3.2204e-02,  3.3398e+03,  0.0000e+00,  3.3398e+03],\n",
      "        [ 8.2000e+01, -4.7230e-01,  5.0669e-02, -8.2294e-03,  3.3590e+03,  0.0000e+00,  3.3590e+03],\n",
      "        [ 1.2300e+02, -6.0908e-01,  6.8004e-02, -2.9361e-02,  3.4041e+03,  0.0000e+00,  3.4081e+03],\n",
      "        [ 8.7000e+01, -5.8521e-01,  4.0908e-02, -1.8654e-02,  3.4080e+03,  0.0000e+00,  3.4080e+03],\n",
      "        [ 1.0100e+02, -6.0047e-01,  6.1082e-02, -6.5580e-03,  3.4081e+03,  0.0000e+00,  3.4081e+03],\n",
      "        [ 1.8600e+02, -6.3331e-01,  2.2044e-02, -1.4909e-02,  3.4236e+03,  0.0000e+00,  3.4236e+03],\n",
      "        [ 1.9300e+02, -6.7520e-01,  5.0837e-02,  1.0768e-02,  3.4407e+03,  1.0000e+00,  3.4407e+03]])\n"
     ]
    }
   ],
   "source": [
    "lds = all_lambdas(train_x)\n",
    "lambda_thetas     = lds.transpose(-2,-1)[0]\n",
    "lambda_phis       = lds.transpose(-2,-1)[1]\n",
    "lambda_theta_phis = lds.transpose(-2,-1)[2]\n",
    "c = torch.stack((\n",
    "    torch.arange(0,200, dtype=int),\n",
    "    lambda_thetas[0:200],\n",
    "    lambda_phis[0:200],\n",
    "    lambda_theta_phis[0:200],\n",
    "    train_utility.squeeze()[0:200],\n",
    "    (feasible_incumbents==feasible_incumbents.max())[0],\n",
    "    feasible_incumbents[0]\n",
    "),0).transpose(-2,-1)\n",
    "torch.set_printoptions(precision=4,threshold=10_000, linewidth=120)\n",
    "c_sorted = c[c[:, 4].sort()[1]]\n",
    "print(c_sorted)"
   ]
  },
  {
   "cell_type": "code",
   "execution_count": 64,
   "metadata": {},
   "outputs": [
    {
     "name": "stderr",
     "output_type": "stream",
     "text": [
      "Warning in <TCanvas::Constructor>: Deleting canvas with same name: can\n"
     ]
    },
    {
     "data": {
      "image/png": "[encoded data removed]",
      "text/plain": [
       "<IPython.core.display.Image object>"
      ]
     },
     "metadata": {},
     "output_type": "display_data"
    }
   ],
   "source": [
    "gStyle.SetOptStat(0)\n",
    "\n",
    "def plotComparison(histMC, histData):\n",
    "    can = TCanvas(\"can\",\"can\",600,600)\n",
    "    can.Divide(2,2)\n",
    "    can.Draw()\n",
    "    can.cd(1)\n",
    "    histMC.Draw(\"COLZ\")\n",
    "    can.cd(2)\n",
    "    histData.Draw(\"COLZ\")\n",
    "    pad = can.cd(3)\n",
    "    pad.SetRightMargin(0.155)\n",
    "    pad = can.cd(3)\n",
    "    hdiff = diffHist(histMC, histData)\n",
    "    hdiff.Draw(\"COLZ\")\n",
    "    can.Update()\n",
    "    palette = hdiff.GetListOfFunctions().FindObject(\"palette\")\n",
    "    palette.SetX1NDC(0.85)\n",
    "    palette.SetX2NDC(0.9)\n",
    "    can.Modified()\n",
    "    can.Update()\n",
    "    can.cd(4)\n",
    "    nby = histMC.GetNbinsX()\n",
    "    py = histMC.ProjectionY(\"py\",1,nby)\n",
    "    py.Draw(\"HIST\")\n",
    "    return can, hdiff, py\n",
    "\n",
    "bestIndex = int(c_sorted[-1][0].item())\n",
    "can1, hdiff1, py1 = plotComparison(allHistsMC[bestIndex], histsData[0][HIST_INDEX])\n"
   ]
  },
  {
   "cell_type": "code",
   "execution_count": 65,
   "metadata": {},
   "outputs": [
    {
     "name": "stderr",
     "output_type": "stream",
     "text": [
      "Warning in <TCanvas::Constructor>: Deleting canvas with same name: can\n"
     ]
    },
    {
     "data": {
      "image/png": "[encoded data removed]",
      "text/plain": [
       "<IPython.core.display.Image object>"
      ]
     },
     "metadata": {},
     "output_type": "display_data"
    }
   ],
   "source": [
    "worstIndex = int(c_sorted[0][0].item())\n",
    "can2, hdiff2, py2 = plotComparison(allHistsMC[worstIndex], histsData[0][HIST_INDEX])"
   ]
  },
  {
   "cell_type": "code",
   "execution_count": 66,
   "metadata": {},
   "outputs": [
    {
     "name": "stderr",
     "output_type": "stream",
     "text": [
      "Warning in <TCanvas::Constructor>: Deleting canvas with same name: c\n"
     ]
    },
    {
     "data": {
      "image/png": "[encoded data removed]",
      "text/plain": [
       "<IPython.core.display.Image object>"
      ]
     },
     "metadata": {},
     "output_type": "display_data"
    }
   ],
   "source": [
    "base_hists = histMakerMC.builder.base_hists\n",
    "can3 = TCanvas(\"c\",\"C\",900,1200)\n",
    "can3.Divide(3,4)\n",
    "can3.Draw()\n",
    "for i, hist in enumerate(base_hists[0]):\n",
    "    can3.cd(i+1)\n",
    "    if not isinstance(hist, list):\n",
    "        hist.Draw(\"COLZ\")\n",
    "    else:\n",
    "        print(hist)\n"
   ]
  },
  {
   "cell_type": "code",
   "execution_count": 67,
   "metadata": {},
   "outputs": [
    {
     "name": "stderr",
     "output_type": "stream",
     "text": [
      "Warning in <TCanvas::Constructor>: Deleting canvas with same name: c\n"
     ]
    },
    {
     "data": {
      "image/png": "[encoded data removed]",
      "text/plain": [
       "<IPython.core.display.Image object>"
      ]
     },
     "metadata": {},
     "output_type": "display_data"
    }
   ],
   "source": [
    "can4 = TCanvas(\"c\",\"C\",900,1200)\n",
    "can4.Divide(3,4)\n",
    "can4.Draw()\n",
    "for i, hist in enumerate(histsData[0]):\n",
    "    can4.cd(i+1)\n",
    "    if not isinstance(hist, list):\n",
    "        hist.Draw(\"COLZ\")\n",
    "    else:\n",
    "        print(hist)"
   ]
  },
  {
   "cell_type": "code",
   "execution_count": 68,
   "metadata": {},
   "outputs": [
    {
     "name": "stdout",
     "output_type": "stream",
     "text": [
      "586.8909912109375\n"
     ]
    },
    {
     "name": "stderr",
     "output_type": "stream",
     "text": [
      "Warning in <TROOT::Append>: Replacing existing TH1: hpm (Potential memory leak).\n",
      "Info in <TH3F::SaveAs>: ROOT file pm.root has been created\n"
     ]
    }
   ],
   "source": [
    "from ROOT import TH3F\n",
    "\n",
    "pm = predictive_mean.reshape(101,101,101)\n",
    "print(pm[100][100][100].item())\n",
    "hpm = TH3F(\"hpm\",\"predictive mean\", 101, 0, 1, 101, 0, 2*math.pi, 101, 0, 2)\n",
    "for binx in range(1,101):\n",
    "    for biny in range(1,101):\n",
    "        for binz in range(1,101):\n",
    "            hpm.SetBinContent(binx,biny,binz,pm[binx-1][biny-1][binz-1].item())\n",
    "hpm.SaveAs(\"pm.root\")"
   ]
  },
  {
   "cell_type": "code",
   "execution_count": null,
   "metadata": {},
   "outputs": [],
   "source": []
  }
 ],
 "metadata": {
  "kernelspec": {
   "display_name": "Python 3",
   "language": "python",
   "name": "python3"
  },
  "language_info": {
   "codemirror_mode": {
    "name": "ipython",
    "version": 3
   },
   "file_extension": ".py",
   "mimetype": "text/x-python",
   "name": "python",
   "nbconvert_exporter": "python",
   "pygments_lexer": "ipython3",
   "version": "3.11.4"
  },
  "orig_nbformat": 4
 },
 "nbformat": 4,
 "nbformat_minor": 2
}
