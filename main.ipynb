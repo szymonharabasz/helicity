{
 "cells": [
  {
   "cell_type": "code",
   "execution_count": 1,
   "source": [
    "from bins import Bins\n",
    "from utils import calcAllChi2, calcOneChi2, HistMaker\n",
    "from ROOT import TFile, TH1, TCanvas\n",
    "import math"
   ],
   "outputs": [
    {
     "output_type": "stream",
     "name": "stdout",
     "text": [
      "Welcome to JupyROOT 6.28/04\n"
     ]
    }
   ],
   "metadata": {}
  },
  {
   "cell_type": "code",
   "execution_count": 2,
   "source": [
    "\n",
    "bins = Bins.readFrom(\"ranges.yml\")\n",
    "histMakerData = HistMaker(\"apr12_diele_088_090_ag123ag_2500A_accepted_np_2.dat\", \"_data\", bins)\n",
    "histsData = histMakerData.makeHists()\n",
    "histMakerMC = HistMaker(\"medium_isotropic_eff_ag1230ag_np_9deg.dat\", \"_MC\", bins    )\n",
    "\n",
    "#outfile = TFIle(\"out.root\",\"RECREATE\")\n",
    "allHistsMC = []\n",
    "\n",
    "#calcAllChi2(histsMC, histsData)"
   ],
   "outputs": [
    {
     "output_type": "stream",
     "name": "stdout",
     "text": [
      "iter 0\n",
      "Before processing events 18:18:06\n",
      "After processing events 18:18:06\n",
      "iter 1\n",
      "Before processing events 18:18:40\n",
      "After processing events 18:18:42\n"
     ]
    }
   ],
   "metadata": {}
  },
  {
   "cell_type": "code",
   "execution_count": 3,
   "source": [
    "import torch\n",
    "\n",
    "torch.manual_seed(0)\n",
    "\n",
    "import gpytorch\n",
    "import botorch\n",
    "\n",
    "import matplotlib.pyplot as plt\n",
    "\n",
    "plt.style.use(\"bmh\")\n",
    "plt.rcParams[\"figure.figsize\"] = (8, 6)\n",
    "\n",
    "from tqdm.notebook import tqdm\n",
    "\n",
    "import warnings"
   ],
   "outputs": [],
   "metadata": {}
  },
  {
   "cell_type": "code",
   "execution_count": 4,
   "source": [
    "TH1.SetDefaultSumw2\n",
    "\n",
    "N_PARAMS = 3"
   ],
   "outputs": [],
   "metadata": {}
  },
  {
   "cell_type": "code",
   "execution_count": 5,
   "source": [
    "#lb = -1\n",
    "#ub = 1\n",
    "\n",
    "#bounds = torch.tensor([[lb]*N_PARAMS, [ub]*N_PARAMS], dtype=torch.float)\n",
    "bounds = torch.tensor([[0, 0,         0],\n",
    "                       [1, 2*math.pi, 2]], dtype=torch.float)\n",
    "\n",
    "grid_r   = torch.linspace(bounds[0][0], bounds[1][0], 101)\n",
    "grid_phi = torch.linspace(bounds[0][1], bounds[1][1], 101)\n",
    "grid_z   = torch.linspace(bounds[0][2], bounds[1][2], 101)\n",
    "\n",
    "grid_x1, grid_x2, grid_x3 = torch.meshgrid(grid_r, grid_phi, grid_z, indexing=\"ij\")\n",
    "\n",
    "xs = torch.vstack([grid_x1.flatten(), grid_x2.flatten(), grid_x3.flatten()]).transpose(-2,-1)"
   ],
   "outputs": [],
   "metadata": {}
  },
  {
   "cell_type": "code",
   "execution_count": 6,
   "source": [
    "class GPModel(gpytorch.models.ExactGP, botorch.models.gpytorch.GPyTorchModel):\n",
    "    _num_outputs = 1\n",
    "\n",
    "    def __init__(self, train_x, train_y, likelihood):\n",
    "        super().__init__(train_x, train_y, likelihood)\n",
    "        self.mean_module = gpytorch.means.ConstantMean()\n",
    "        self.covar_module = gpytorch.kernels.ScaleKernel(\n",
    "            gpytorch.kernels.MaternKernel(nu=2.5, ard_num_dims=1)\n",
    "        )\n",
    "\n",
    "    def forward(self, x):\n",
    "        mean_x = self.mean_module(x)\n",
    "        covar_x = self.covar_module(x)\n",
    "        return gpytorch.distributions.MultivariateNormal(mean_x, covar_x)\n",
    "\n",
    "\n",
    "def fit_gp_model(train_x, train_y, num_train_iters=500):\n",
    "    # declare the GP\n",
    "    noise = 1e-4\n",
    "\n",
    "    likelihood = gpytorch.likelihoods.GaussianLikelihood()\n",
    "    model = GPModel(train_x, train_y, likelihood)\n",
    "    model.likelihood.noise = noise\n",
    "\n",
    "    # train the hyperparameter (the constant)\n",
    "    optimizer = torch.optim.Adam(model.parameters(), lr=0.01)\n",
    "    mll = gpytorch.mlls.ExactMarginalLogLikelihood(likelihood, model)\n",
    "\n",
    "    model.train()\n",
    "    likelihood.train()\n",
    "\n",
    "    for i in range(num_train_iters):\n",
    "        optimizer.zero_grad()\n",
    "\n",
    "        output = model(train_x)\n",
    "        loss = -mll(output, train_y)\n",
    "\n",
    "        loss.backward()\n",
    "        optimizer.step()\n",
    "\n",
    "    model.eval()\n",
    "    likelihood.eval()\n",
    "\n",
    "    return model, likelihood"
   ],
   "outputs": [],
   "metadata": {}
  },
  {
   "cell_type": "code",
   "execution_count": 7,
   "source": [
    "num_queries = 200\n",
    "num_repeats = 1\n",
    "num_samples = 1"
   ],
   "outputs": [],
   "metadata": {}
  },
  {
   "cell_type": "code",
   "execution_count": 8,
   "source": [
    "def lambdas(xx):\n",
    "   # return x[0], x[1], x[2]\n",
    "    r, phi, z = xx[0], xx[1], xx[2]\n",
    "    x = r*math.cos(phi)\n",
    "    y = r*math.sin(phi)\n",
    "    lambda_theta = 0.5 * (2*x + z)\n",
    "    lambda_phi   = 0.25 * (-2 - 2*x + 3*z)\n",
    "    lambda_theta_phi = y/math.sqrt(2.)\n",
    "    return lambda_theta, lambda_phi, lambda_theta_phi\n",
    "\n",
    "def all_lambdas(xx):\n",
    "    def generator(xx):\n",
    "        for x in xx:\n",
    "            lambda_theta, lambda_phi, lambda_theta_phi = lambdas(x)\n",
    "            yield torch.tensor([lambda_theta, lambda_phi, lambda_theta_phi])\n",
    "           # yield torch.tensor([1./(chi2 / ndf)])\n",
    "    return torch.stack([a for a in generator(xx)])\n",
    "\n",
    "def constraint1(xx):\n",
    "    print(\"In the constraint fucntion, xx = \", xx)\n",
    "    input_shape = xx.shape\n",
    "    ll = list(xx.shape)\n",
    "    ll[-1] = 1\n",
    "    if len(input_shape)>1:\n",
    "        xx = torch.reshape(xx, input_shape[1:])\n",
    "        output_shape = tuple(ll)\n",
    "        result = 1+xx[0,0]+xx[0,1]\n",
    "    else:\n",
    "        result = 1+xx[0]+xx[1]\n",
    "        output_shape = (1,)\n",
    "        \n",
    "    print(xx)\n",
    "    print(input_shape)\n",
    "    print(result)\n",
    "    print(output_shape)\n",
    "    \n",
    "    return torch.reshape(torch.tensor([result],requires_grad=xx.requires_grad),output_shape)\n",
    "\n",
    "#def cost(xx):\n",
    "#    def generator(xx):\n",
    "#        for x in xx:\n",
    "#            lambda_theta, lambda_phi, lambda_theta_phi = lambdas(x)#\n",
    "#\n",
    "#            result = 0\n",
    "#\n",
    "#            if pow(1-lambda_phi, 2) - pow(lambda_theta-lambda_phi, 2) < 4*pow(lambda_theta_phi, 2):\n",
    "#                result = 1\n",
    "#            if 1 + lambda_theta + 2*lambda_phi < 0:\n",
    "#                result = 1\n",
    "\n",
    "#            yield torch.tensor([result])\n",
    "#    return torch.stack([a for a in generator(xx)])\n",
    "    \n",
    "HIST_INDEX = 3\n",
    "\n",
    "def objective(xx):\n",
    "    def generator(xx):\n",
    "        for x in xx:\n",
    "            lambda_theta, lambda_phi, lambda_theta_phi = lambdas(x)\n",
    "\n",
    "            histsMC = histMakerMC.makeHists(lambda_theta, lambda_phi, lambda_theta_phi)\n",
    "            chi2, ndf = calcOneChi2(histsMC[0][HIST_INDEX], histsData[0][HIST_INDEX])\n",
    "            allHistsMC.append(histsMC[0][HIST_INDEX])\n",
    "            if not chi2 or not ndf:\n",
    "                return torch.tensor([0])\n",
    "            yield torch.tensor([1.0/(chi2 / ndf)])\n",
    "           # yield torch.tensor([1./(chi2 / ndf)])\n",
    "    return torch.stack([a for a in generator(xx)])"
   ],
   "outputs": [],
   "metadata": {}
  },
  {
   "cell_type": "code",
   "execution_count": 9,
   "source": [
    "# -2 is the default value when no feasible has been found\n",
    "default_value = 1200\n",
    "feasible_incumbents = torch.ones((num_repeats, num_queries)) * default_value\n",
    "\n",
    "for trial in range(num_repeats):\n",
    "    print(\"trial\", trial)\n",
    "\n",
    "    torch.manual_seed(trial)\n",
    "    train_x = bounds[0] + (bounds[1] - bounds[0]) * torch.rand(num_samples, 3)\n",
    "    train_utility = objective(train_x)\n",
    "\n",
    "    for i in tqdm(range(num_queries)):\n",
    "        print(\"query\", i)\n",
    "\n",
    "        feasible_incumbents[trial, i] = train_utility.max()\n",
    "        utility_model, utility_likelihood = fit_gp_model(\n",
    "            train_x, train_utility.squeeze(-1)\n",
    "        )\n",
    "        best_f = train_utility.max()\n",
    "                \n",
    "        policy = botorch.acquisition.monte_carlo.qExpectedImprovement(\n",
    "            model=utility_model,\n",
    "            best_f=train_utility.max(),\n",
    "        )\n",
    "\n",
    "        with warnings.catch_warnings():\n",
    "            warnings.filterwarnings('ignore', category=RuntimeWarning)\n",
    "            next_x, acq_val = botorch.optim.optimize_acqf(\n",
    "                policy,\n",
    "                bounds=bounds,\n",
    "                q=1,\n",
    "                num_restarts=40,\n",
    "                raw_samples=100,\n",
    "            #    nonlinear_inequality_constraints=[constraint1],\n",
    "                inequality_constraints=[(torch.tensor([0,2]),torch.tensor([-2.0,-1.0],dtype=torch.float),-2.0)],\n",
    "            #    ic_generator=botorch.optim.initializers.gen_batch_initial_conditions\n",
    "            )\n",
    "\n",
    "        next_utility = objective(next_x)\n",
    "\n",
    "        train_x = torch.cat([train_x, next_x])\n",
    "        train_utility = torch.cat([train_utility, next_utility])\n"
   ],
   "outputs": [
    {
     "output_type": "stream",
     "name": "stdout",
     "text": [
      "trial 0\n"
     ]
    },
    {
     "output_type": "display_data",
     "data": {
      "application/vnd.jupyter.widget-view+json": {
       "version_major": 2,
       "version_minor": 0,
       "model_id": "ab6a347bd9af4128b12d536964678e23"
      },
      "text/plain": [
       "  0%|          | 0/200 [00:00<?, ?it/s]"
      ]
     },
     "metadata": {}
    },
    {
     "output_type": "stream",
     "name": "stdout",
     "text": [
      "query 0\n"
     ]
    },
    {
     "output_type": "stream",
     "name": "stderr",
     "text": [
      "/Users/harabasz/miniforge3/envs/pyroot/lib/python3.11/site-packages/botorch/optim/initializers.py:403: BadInitialCandidatesWarning: Unable to find non-zero acquisition function values - initial conditions are being selected randomly.\n",
      "  warnings.warn(\n"
     ]
    },
    {
     "output_type": "stream",
     "name": "stdout",
     "text": [
      "query 1\n"
     ]
    },
    {
     "output_type": "stream",
     "name": "stderr",
     "text": [
      "/Users/harabasz/miniforge3/envs/pyroot/lib/python3.11/site-packages/botorch/optim/initializers.py:403: BadInitialCandidatesWarning: Unable to find non-zero acquisition function values - initial conditions are being selected randomly.\n",
      "  warnings.warn(\n"
     ]
    },
    {
     "output_type": "stream",
     "name": "stdout",
     "text": [
      "query 2\n"
     ]
    },
    {
     "output_type": "stream",
     "name": "stderr",
     "text": [
      "/Users/harabasz/miniforge3/envs/pyroot/lib/python3.11/site-packages/botorch/optim/initializers.py:403: BadInitialCandidatesWarning: Unable to find non-zero acquisition function values - initial conditions are being selected randomly.\n",
      "  warnings.warn(\n"
     ]
    },
    {
     "output_type": "stream",
     "name": "stdout",
     "text": [
      "query 3\n",
      "query 4\n",
      "query 5\n"
     ]
    },
    {
     "output_type": "stream",
     "name": "stderr",
     "text": [
      "/Users/harabasz/miniforge3/envs/pyroot/lib/python3.11/site-packages/botorch/optim/initializers.py:403: BadInitialCandidatesWarning: Unable to find non-zero acquisition function values - initial conditions are being selected randomly.\n",
      "  warnings.warn(\n"
     ]
    },
    {
     "output_type": "stream",
     "name": "stdout",
     "text": [
      "query 6\n",
      "query 7\n"
     ]
    },
    {
     "output_type": "stream",
     "name": "stderr",
     "text": [
      "/Users/harabasz/miniforge3/envs/pyroot/lib/python3.11/site-packages/botorch/optim/initializers.py:403: BadInitialCandidatesWarning: Unable to find non-zero acquisition function values - initial conditions are being selected randomly.\n",
      "  warnings.warn(\n"
     ]
    },
    {
     "output_type": "stream",
     "name": "stdout",
     "text": [
      "Before reweighting hists 18:19:08\n",
      "After reweighting hists 18:19:09\n",
      "query 8\n"
     ]
    },
    {
     "output_type": "stream",
     "name": "stderr",
     "text": [
      "/Users/harabasz/miniforge3/envs/pyroot/lib/python3.11/site-packages/botorch/optim/initializers.py:403: BadInitialCandidatesWarning: Unable to find non-zero acquisition function values - initial conditions are being selected randomly.\n",
      "  warnings.warn(\n"
     ]
    },
    {
     "output_type": "stream",
     "name": "stdout",
     "text": [
      "query 9\n",
      "query 10\n"
     ]
    },
    {
     "output_type": "stream",
     "name": "stderr",
     "text": [
      "/Users/harabasz/miniforge3/envs/pyroot/lib/python3.11/site-packages/botorch/optim/initializers.py:403: BadInitialCandidatesWarning: Unable to find non-zero acquisition function values - initial conditions are being selected randomly.\n",
      "  warnings.warn(\n"
     ]
    },
    {
     "output_type": "stream",
     "name": "stdout",
     "text": [
      "query 11\n"
     ]
    },
    {
     "output_type": "stream",
     "name": "stderr",
     "text": [
      "/Users/harabasz/miniforge3/envs/pyroot/lib/python3.11/site-packages/botorch/optim/initializers.py:403: BadInitialCandidatesWarning: Unable to find non-zero acquisition function values - initial conditions are being selected randomly.\n",
      "  warnings.warn(\n"
     ]
    },
    {
     "output_type": "stream",
     "name": "stdout",
     "text": [
      "query 12\n",
      "query 13\n",
      "query 14\n"
     ]
    },
    {
     "output_type": "stream",
     "name": "stderr",
     "text": [
      "/Users/harabasz/miniforge3/envs/pyroot/lib/python3.11/site-packages/botorch/optim/initializers.py:403: BadInitialCandidatesWarning: Unable to find non-zero acquisition function values - initial conditions are being selected randomly.\n",
      "  warnings.warn(\n"
     ]
    },
    {
     "output_type": "stream",
     "name": "stdout",
     "text": [
      "query 15\n"
     ]
    },
    {
     "output_type": "stream",
     "name": "stderr",
     "text": [
      "/Users/harabasz/miniforge3/envs/pyroot/lib/python3.11/site-packages/botorch/optim/initializers.py:403: BadInitialCandidatesWarning: Unable to find non-zero acquisition function values - initial conditions are being selected randomly.\n",
      "  warnings.warn(\n"
     ]
    },
    {
     "output_type": "stream",
     "name": "stdout",
     "text": [
      "query 16\n"
     ]
    },
    {
     "output_type": "stream",
     "name": "stderr",
     "text": [
      "/Users/harabasz/miniforge3/envs/pyroot/lib/python3.11/site-packages/botorch/optim/initializers.py:403: BadInitialCandidatesWarning: Unable to find non-zero acquisition function values - initial conditions are being selected randomly.\n",
      "  warnings.warn(\n"
     ]
    },
    {
     "output_type": "stream",
     "name": "stdout",
     "text": [
      "query 17\n"
     ]
    },
    {
     "output_type": "stream",
     "name": "stderr",
     "text": [
      "/Users/harabasz/miniforge3/envs/pyroot/lib/python3.11/site-packages/botorch/optim/initializers.py:403: BadInitialCandidatesWarning: Unable to find non-zero acquisition function values - initial conditions are being selected randomly.\n",
      "  warnings.warn(\n"
     ]
    },
    {
     "output_type": "stream",
     "name": "stdout",
     "text": [
      "Before reweighting hists 18:19:41\n",
      "After reweighting hists 18:19:41\n",
      "query 18\n",
      "query 19\n",
      "query 20\n"
     ]
    },
    {
     "output_type": "stream",
     "name": "stderr",
     "text": [
      "/Users/harabasz/miniforge3/envs/pyroot/lib/python3.11/site-packages/botorch/optim/initializers.py:403: BadInitialCandidatesWarning: Unable to find non-zero acquisition function values - initial conditions are being selected randomly.\n",
      "  warnings.warn(\n"
     ]
    },
    {
     "output_type": "stream",
     "name": "stdout",
     "text": [
      "query 21\n"
     ]
    },
    {
     "output_type": "stream",
     "name": "stderr",
     "text": [
      "/Users/harabasz/miniforge3/envs/pyroot/lib/python3.11/site-packages/botorch/optim/initializers.py:403: BadInitialCandidatesWarning: Unable to find non-zero acquisition function values - initial conditions are being selected randomly.\n",
      "  warnings.warn(\n"
     ]
    },
    {
     "output_type": "stream",
     "name": "stdout",
     "text": [
      "query 22\n"
     ]
    },
    {
     "output_type": "stream",
     "name": "stderr",
     "text": [
      "/Users/harabasz/miniforge3/envs/pyroot/lib/python3.11/site-packages/botorch/optim/initializers.py:403: BadInitialCandidatesWarning: Unable to find non-zero acquisition function values - initial conditions are being selected randomly.\n",
      "  warnings.warn(\n"
     ]
    },
    {
     "output_type": "stream",
     "name": "stdout",
     "text": [
      "query 23\n"
     ]
    },
    {
     "output_type": "stream",
     "name": "stderr",
     "text": [
      "/Users/harabasz/miniforge3/envs/pyroot/lib/python3.11/site-packages/botorch/optim/initializers.py:403: BadInitialCandidatesWarning: Unable to find non-zero acquisition function values - initial conditions are being selected randomly.\n",
      "  warnings.warn(\n"
     ]
    },
    {
     "output_type": "stream",
     "name": "stdout",
     "text": [
      "query 24\n"
     ]
    },
    {
     "output_type": "stream",
     "name": "stderr",
     "text": [
      "/Users/harabasz/miniforge3/envs/pyroot/lib/python3.11/site-packages/botorch/optim/initializers.py:403: BadInitialCandidatesWarning: Unable to find non-zero acquisition function values - initial conditions are being selected randomly.\n",
      "  warnings.warn(\n"
     ]
    },
    {
     "output_type": "stream",
     "name": "stdout",
     "text": [
      "query 25\n"
     ]
    },
    {
     "output_type": "stream",
     "name": "stderr",
     "text": [
      "/Users/harabasz/miniforge3/envs/pyroot/lib/python3.11/site-packages/botorch/optim/initializers.py:403: BadInitialCandidatesWarning: Unable to find non-zero acquisition function values - initial conditions are being selected randomly.\n",
      "  warnings.warn(\n"
     ]
    },
    {
     "output_type": "stream",
     "name": "stdout",
     "text": [
      "query 26\n",
      "query 27\n"
     ]
    },
    {
     "output_type": "stream",
     "name": "stderr",
     "text": [
      "/Users/harabasz/miniforge3/envs/pyroot/lib/python3.11/site-packages/botorch/optim/initializers.py:403: BadInitialCandidatesWarning: Unable to find non-zero acquisition function values - initial conditions are being selected randomly.\n",
      "  warnings.warn(\n"
     ]
    },
    {
     "output_type": "stream",
     "name": "stdout",
     "text": [
      "Before reweighting hists 18:20:11\n",
      "After reweighting hists 18:20:11\n",
      "query 28\n"
     ]
    },
    {
     "output_type": "stream",
     "name": "stderr",
     "text": [
      "/Users/harabasz/miniforge3/envs/pyroot/lib/python3.11/site-packages/botorch/optim/initializers.py:403: BadInitialCandidatesWarning: Unable to find non-zero acquisition function values - initial conditions are being selected randomly.\n",
      "  warnings.warn(\n"
     ]
    },
    {
     "output_type": "stream",
     "name": "stdout",
     "text": [
      "query 29\n"
     ]
    },
    {
     "output_type": "stream",
     "name": "stderr",
     "text": [
      "/Users/harabasz/miniforge3/envs/pyroot/lib/python3.11/site-packages/botorch/optim/initializers.py:403: BadInitialCandidatesWarning: Unable to find non-zero acquisition function values - initial conditions are being selected randomly.\n",
      "  warnings.warn(\n"
     ]
    },
    {
     "output_type": "stream",
     "name": "stdout",
     "text": [
      "query 30\n"
     ]
    },
    {
     "output_type": "stream",
     "name": "stderr",
     "text": [
      "/Users/harabasz/miniforge3/envs/pyroot/lib/python3.11/site-packages/botorch/optim/initializers.py:403: BadInitialCandidatesWarning: Unable to find non-zero acquisition function values - initial conditions are being selected randomly.\n",
      "  warnings.warn(\n"
     ]
    },
    {
     "output_type": "stream",
     "name": "stdout",
     "text": [
      "query 31\n"
     ]
    },
    {
     "output_type": "stream",
     "name": "stderr",
     "text": [
      "/Users/harabasz/miniforge3/envs/pyroot/lib/python3.11/site-packages/botorch/optim/initializers.py:403: BadInitialCandidatesWarning: Unable to find non-zero acquisition function values - initial conditions are being selected randomly.\n",
      "  warnings.warn(\n"
     ]
    },
    {
     "output_type": "stream",
     "name": "stdout",
     "text": [
      "query 32\n"
     ]
    },
    {
     "output_type": "stream",
     "name": "stderr",
     "text": [
      "/Users/harabasz/miniforge3/envs/pyroot/lib/python3.11/site-packages/botorch/optim/initializers.py:403: BadInitialCandidatesWarning: Unable to find non-zero acquisition function values - initial conditions are being selected randomly.\n",
      "  warnings.warn(\n"
     ]
    },
    {
     "output_type": "stream",
     "name": "stdout",
     "text": [
      "query 33\n"
     ]
    },
    {
     "output_type": "stream",
     "name": "stderr",
     "text": [
      "/Users/harabasz/miniforge3/envs/pyroot/lib/python3.11/site-packages/botorch/optim/initializers.py:403: BadInitialCandidatesWarning: Unable to find non-zero acquisition function values - initial conditions are being selected randomly.\n",
      "  warnings.warn(\n"
     ]
    },
    {
     "output_type": "stream",
     "name": "stdout",
     "text": [
      "query 34\n"
     ]
    },
    {
     "output_type": "stream",
     "name": "stderr",
     "text": [
      "/Users/harabasz/miniforge3/envs/pyroot/lib/python3.11/site-packages/botorch/optim/initializers.py:403: BadInitialCandidatesWarning: Unable to find non-zero acquisition function values - initial conditions are being selected randomly.\n",
      "  warnings.warn(\n"
     ]
    },
    {
     "output_type": "stream",
     "name": "stdout",
     "text": [
      "query 35\n"
     ]
    },
    {
     "output_type": "stream",
     "name": "stderr",
     "text": [
      "/Users/harabasz/miniforge3/envs/pyroot/lib/python3.11/site-packages/botorch/optim/initializers.py:403: BadInitialCandidatesWarning: Unable to find non-zero acquisition function values - initial conditions are being selected randomly.\n",
      "  warnings.warn(\n"
     ]
    },
    {
     "output_type": "stream",
     "name": "stdout",
     "text": [
      "query 36\n",
      "query 37\n"
     ]
    },
    {
     "output_type": "stream",
     "name": "stderr",
     "text": [
      "/Users/harabasz/miniforge3/envs/pyroot/lib/python3.11/site-packages/botorch/optim/initializers.py:403: BadInitialCandidatesWarning: Unable to find non-zero acquisition function values - initial conditions are being selected randomly.\n",
      "  warnings.warn(\n"
     ]
    },
    {
     "output_type": "stream",
     "name": "stdout",
     "text": [
      "Before reweighting hists 18:20:43\n",
      "After reweighting hists 18:20:43\n",
      "query 38\n"
     ]
    },
    {
     "output_type": "stream",
     "name": "stderr",
     "text": [
      "/Users/harabasz/miniforge3/envs/pyroot/lib/python3.11/site-packages/botorch/optim/initializers.py:403: BadInitialCandidatesWarning: Unable to find non-zero acquisition function values - initial conditions are being selected randomly.\n",
      "  warnings.warn(\n"
     ]
    },
    {
     "output_type": "stream",
     "name": "stdout",
     "text": [
      "query 39\n"
     ]
    },
    {
     "output_type": "stream",
     "name": "stderr",
     "text": [
      "/Users/harabasz/miniforge3/envs/pyroot/lib/python3.11/site-packages/botorch/optim/initializers.py:403: BadInitialCandidatesWarning: Unable to find non-zero acquisition function values - initial conditions are being selected randomly.\n",
      "  warnings.warn(\n"
     ]
    },
    {
     "output_type": "stream",
     "name": "stdout",
     "text": [
      "query 40\n"
     ]
    },
    {
     "output_type": "stream",
     "name": "stderr",
     "text": [
      "/Users/harabasz/miniforge3/envs/pyroot/lib/python3.11/site-packages/botorch/optim/initializers.py:403: BadInitialCandidatesWarning: Unable to find non-zero acquisition function values - initial conditions are being selected randomly.\n",
      "  warnings.warn(\n"
     ]
    },
    {
     "output_type": "stream",
     "name": "stdout",
     "text": [
      "query 41\n"
     ]
    },
    {
     "output_type": "stream",
     "name": "stderr",
     "text": [
      "/Users/harabasz/miniforge3/envs/pyroot/lib/python3.11/site-packages/botorch/optim/initializers.py:403: BadInitialCandidatesWarning: Unable to find non-zero acquisition function values - initial conditions are being selected randomly.\n",
      "  warnings.warn(\n"
     ]
    },
    {
     "output_type": "stream",
     "name": "stdout",
     "text": [
      "query 42\n"
     ]
    },
    {
     "output_type": "stream",
     "name": "stderr",
     "text": [
      "/Users/harabasz/miniforge3/envs/pyroot/lib/python3.11/site-packages/botorch/optim/initializers.py:403: BadInitialCandidatesWarning: Unable to find non-zero acquisition function values - initial conditions are being selected randomly.\n",
      "  warnings.warn(\n"
     ]
    },
    {
     "output_type": "stream",
     "name": "stdout",
     "text": [
      "query 43\n"
     ]
    },
    {
     "output_type": "stream",
     "name": "stderr",
     "text": [
      "/Users/harabasz/miniforge3/envs/pyroot/lib/python3.11/site-packages/botorch/optim/initializers.py:403: BadInitialCandidatesWarning: Unable to find non-zero acquisition function values - initial conditions are being selected randomly.\n",
      "  warnings.warn(\n"
     ]
    },
    {
     "output_type": "stream",
     "name": "stdout",
     "text": [
      "query 44\n"
     ]
    },
    {
     "output_type": "stream",
     "name": "stderr",
     "text": [
      "/Users/harabasz/miniforge3/envs/pyroot/lib/python3.11/site-packages/botorch/optim/initializers.py:403: BadInitialCandidatesWarning: Unable to find non-zero acquisition function values - initial conditions are being selected randomly.\n",
      "  warnings.warn(\n"
     ]
    },
    {
     "output_type": "stream",
     "name": "stdout",
     "text": [
      "query 45\n"
     ]
    },
    {
     "output_type": "stream",
     "name": "stderr",
     "text": [
      "/Users/harabasz/miniforge3/envs/pyroot/lib/python3.11/site-packages/botorch/optim/initializers.py:403: BadInitialCandidatesWarning: Unable to find non-zero acquisition function values - initial conditions are being selected randomly.\n",
      "  warnings.warn(\n"
     ]
    },
    {
     "output_type": "stream",
     "name": "stdout",
     "text": [
      "query 46\n"
     ]
    },
    {
     "output_type": "stream",
     "name": "stderr",
     "text": [
      "/Users/harabasz/miniforge3/envs/pyroot/lib/python3.11/site-packages/botorch/optim/initializers.py:403: BadInitialCandidatesWarning: Unable to find non-zero acquisition function values - initial conditions are being selected randomly.\n",
      "  warnings.warn(\n"
     ]
    },
    {
     "output_type": "stream",
     "name": "stdout",
     "text": [
      "query 47\n"
     ]
    },
    {
     "output_type": "stream",
     "name": "stderr",
     "text": [
      "/Users/harabasz/miniforge3/envs/pyroot/lib/python3.11/site-packages/botorch/optim/initializers.py:403: BadInitialCandidatesWarning: Unable to find non-zero acquisition function values - initial conditions are being selected randomly.\n",
      "  warnings.warn(\n"
     ]
    },
    {
     "output_type": "stream",
     "name": "stdout",
     "text": [
      "Before reweighting hists 18:21:16\n",
      "After reweighting hists 18:21:17\n",
      "query 48\n"
     ]
    },
    {
     "output_type": "stream",
     "name": "stderr",
     "text": [
      "/Users/harabasz/miniforge3/envs/pyroot/lib/python3.11/site-packages/botorch/optim/initializers.py:403: BadInitialCandidatesWarning: Unable to find non-zero acquisition function values - initial conditions are being selected randomly.\n",
      "  warnings.warn(\n"
     ]
    },
    {
     "output_type": "stream",
     "name": "stdout",
     "text": [
      "query 49\n"
     ]
    },
    {
     "output_type": "stream",
     "name": "stderr",
     "text": [
      "/Users/harabasz/miniforge3/envs/pyroot/lib/python3.11/site-packages/botorch/optim/initializers.py:403: BadInitialCandidatesWarning: Unable to find non-zero acquisition function values - initial conditions are being selected randomly.\n",
      "  warnings.warn(\n"
     ]
    },
    {
     "output_type": "stream",
     "name": "stdout",
     "text": [
      "query 50\n"
     ]
    },
    {
     "output_type": "stream",
     "name": "stderr",
     "text": [
      "/Users/harabasz/miniforge3/envs/pyroot/lib/python3.11/site-packages/botorch/optim/initializers.py:403: BadInitialCandidatesWarning: Unable to find non-zero acquisition function values - initial conditions are being selected randomly.\n",
      "  warnings.warn(\n"
     ]
    },
    {
     "output_type": "stream",
     "name": "stdout",
     "text": [
      "query 51\n"
     ]
    },
    {
     "output_type": "stream",
     "name": "stderr",
     "text": [
      "/Users/harabasz/miniforge3/envs/pyroot/lib/python3.11/site-packages/botorch/optim/initializers.py:403: BadInitialCandidatesWarning: Unable to find non-zero acquisition function values - initial conditions are being selected randomly.\n",
      "  warnings.warn(\n"
     ]
    },
    {
     "output_type": "stream",
     "name": "stdout",
     "text": [
      "query 52\n"
     ]
    },
    {
     "output_type": "stream",
     "name": "stderr",
     "text": [
      "/Users/harabasz/miniforge3/envs/pyroot/lib/python3.11/site-packages/botorch/optim/initializers.py:403: BadInitialCandidatesWarning: Unable to find non-zero acquisition function values - initial conditions are being selected randomly.\n",
      "  warnings.warn(\n"
     ]
    },
    {
     "output_type": "stream",
     "name": "stdout",
     "text": [
      "query 53\n"
     ]
    },
    {
     "output_type": "stream",
     "name": "stderr",
     "text": [
      "/Users/harabasz/miniforge3/envs/pyroot/lib/python3.11/site-packages/botorch/optim/initializers.py:403: BadInitialCandidatesWarning: Unable to find non-zero acquisition function values - initial conditions are being selected randomly.\n",
      "  warnings.warn(\n"
     ]
    },
    {
     "output_type": "stream",
     "name": "stdout",
     "text": [
      "query 54\n"
     ]
    },
    {
     "output_type": "stream",
     "name": "stderr",
     "text": [
      "/Users/harabasz/miniforge3/envs/pyroot/lib/python3.11/site-packages/botorch/optim/initializers.py:403: BadInitialCandidatesWarning: Unable to find non-zero acquisition function values - initial conditions are being selected randomly.\n",
      "  warnings.warn(\n"
     ]
    },
    {
     "output_type": "stream",
     "name": "stdout",
     "text": [
      "query 55\n"
     ]
    },
    {
     "output_type": "stream",
     "name": "stderr",
     "text": [
      "/Users/harabasz/miniforge3/envs/pyroot/lib/python3.11/site-packages/botorch/optim/initializers.py:403: BadInitialCandidatesWarning: Unable to find non-zero acquisition function values - initial conditions are being selected randomly.\n",
      "  warnings.warn(\n"
     ]
    },
    {
     "output_type": "stream",
     "name": "stdout",
     "text": [
      "query 56\n"
     ]
    },
    {
     "output_type": "stream",
     "name": "stderr",
     "text": [
      "/Users/harabasz/miniforge3/envs/pyroot/lib/python3.11/site-packages/botorch/optim/initializers.py:403: BadInitialCandidatesWarning: Unable to find non-zero acquisition function values - initial conditions are being selected randomly.\n",
      "  warnings.warn(\n"
     ]
    },
    {
     "output_type": "stream",
     "name": "stdout",
     "text": [
      "query 57\n"
     ]
    },
    {
     "output_type": "stream",
     "name": "stderr",
     "text": [
      "/Users/harabasz/miniforge3/envs/pyroot/lib/python3.11/site-packages/botorch/optim/initializers.py:403: BadInitialCandidatesWarning: Unable to find non-zero acquisition function values - initial conditions are being selected randomly.\n",
      "  warnings.warn(\n"
     ]
    },
    {
     "output_type": "stream",
     "name": "stdout",
     "text": [
      "Before reweighting hists 18:21:50\n",
      "After reweighting hists 18:21:50\n",
      "query 58\n"
     ]
    },
    {
     "output_type": "stream",
     "name": "stderr",
     "text": [
      "/Users/harabasz/miniforge3/envs/pyroot/lib/python3.11/site-packages/botorch/optim/initializers.py:403: BadInitialCandidatesWarning: Unable to find non-zero acquisition function values - initial conditions are being selected randomly.\n",
      "  warnings.warn(\n"
     ]
    },
    {
     "output_type": "stream",
     "name": "stdout",
     "text": [
      "query 59\n"
     ]
    },
    {
     "output_type": "stream",
     "name": "stderr",
     "text": [
      "/Users/harabasz/miniforge3/envs/pyroot/lib/python3.11/site-packages/botorch/optim/initializers.py:403: BadInitialCandidatesWarning: Unable to find non-zero acquisition function values - initial conditions are being selected randomly.\n",
      "  warnings.warn(\n"
     ]
    },
    {
     "output_type": "stream",
     "name": "stdout",
     "text": [
      "query 60\n"
     ]
    },
    {
     "output_type": "stream",
     "name": "stderr",
     "text": [
      "/Users/harabasz/miniforge3/envs/pyroot/lib/python3.11/site-packages/botorch/optim/initializers.py:403: BadInitialCandidatesWarning: Unable to find non-zero acquisition function values - initial conditions are being selected randomly.\n",
      "  warnings.warn(\n"
     ]
    },
    {
     "output_type": "stream",
     "name": "stdout",
     "text": [
      "query 61\n"
     ]
    },
    {
     "output_type": "stream",
     "name": "stderr",
     "text": [
      "/Users/harabasz/miniforge3/envs/pyroot/lib/python3.11/site-packages/botorch/optim/initializers.py:403: BadInitialCandidatesWarning: Unable to find non-zero acquisition function values - initial conditions are being selected randomly.\n",
      "  warnings.warn(\n"
     ]
    },
    {
     "output_type": "stream",
     "name": "stdout",
     "text": [
      "query 62\n"
     ]
    },
    {
     "output_type": "stream",
     "name": "stderr",
     "text": [
      "/Users/harabasz/miniforge3/envs/pyroot/lib/python3.11/site-packages/botorch/optim/initializers.py:403: BadInitialCandidatesWarning: Unable to find non-zero acquisition function values - initial conditions are being selected randomly.\n",
      "  warnings.warn(\n"
     ]
    },
    {
     "output_type": "stream",
     "name": "stdout",
     "text": [
      "query 63\n"
     ]
    },
    {
     "output_type": "stream",
     "name": "stderr",
     "text": [
      "/Users/harabasz/miniforge3/envs/pyroot/lib/python3.11/site-packages/botorch/optim/initializers.py:403: BadInitialCandidatesWarning: Unable to find non-zero acquisition function values - initial conditions are being selected randomly.\n",
      "  warnings.warn(\n"
     ]
    },
    {
     "output_type": "stream",
     "name": "stdout",
     "text": [
      "query 64\n"
     ]
    },
    {
     "output_type": "stream",
     "name": "stderr",
     "text": [
      "/Users/harabasz/miniforge3/envs/pyroot/lib/python3.11/site-packages/botorch/optim/initializers.py:403: BadInitialCandidatesWarning: Unable to find non-zero acquisition function values - initial conditions are being selected randomly.\n",
      "  warnings.warn(\n"
     ]
    },
    {
     "output_type": "stream",
     "name": "stdout",
     "text": [
      "query 65\n"
     ]
    },
    {
     "output_type": "stream",
     "name": "stderr",
     "text": [
      "/Users/harabasz/miniforge3/envs/pyroot/lib/python3.11/site-packages/botorch/optim/initializers.py:403: BadInitialCandidatesWarning: Unable to find non-zero acquisition function values - initial conditions are being selected randomly.\n",
      "  warnings.warn(\n"
     ]
    },
    {
     "output_type": "stream",
     "name": "stdout",
     "text": [
      "query 66\n"
     ]
    },
    {
     "output_type": "stream",
     "name": "stderr",
     "text": [
      "/Users/harabasz/miniforge3/envs/pyroot/lib/python3.11/site-packages/botorch/optim/initializers.py:403: BadInitialCandidatesWarning: Unable to find non-zero acquisition function values - initial conditions are being selected randomly.\n",
      "  warnings.warn(\n"
     ]
    },
    {
     "output_type": "stream",
     "name": "stdout",
     "text": [
      "query 67\n",
      "Before reweighting hists 18:22:24\n",
      "After reweighting hists 18:22:24\n",
      "query 68\n"
     ]
    },
    {
     "output_type": "stream",
     "name": "stderr",
     "text": [
      "/Users/harabasz/miniforge3/envs/pyroot/lib/python3.11/site-packages/botorch/optim/initializers.py:403: BadInitialCandidatesWarning: Unable to find non-zero acquisition function values - initial conditions are being selected randomly.\n",
      "  warnings.warn(\n"
     ]
    },
    {
     "output_type": "stream",
     "name": "stdout",
     "text": [
      "query 69\n"
     ]
    },
    {
     "output_type": "stream",
     "name": "stderr",
     "text": [
      "/Users/harabasz/miniforge3/envs/pyroot/lib/python3.11/site-packages/botorch/optim/initializers.py:403: BadInitialCandidatesWarning: Unable to find non-zero acquisition function values - initial conditions are being selected randomly.\n",
      "  warnings.warn(\n"
     ]
    },
    {
     "output_type": "stream",
     "name": "stdout",
     "text": [
      "query 70\n"
     ]
    },
    {
     "output_type": "stream",
     "name": "stderr",
     "text": [
      "/Users/harabasz/miniforge3/envs/pyroot/lib/python3.11/site-packages/botorch/optim/initializers.py:403: BadInitialCandidatesWarning: Unable to find non-zero acquisition function values - initial conditions are being selected randomly.\n",
      "  warnings.warn(\n"
     ]
    },
    {
     "output_type": "stream",
     "name": "stdout",
     "text": [
      "query 71\n"
     ]
    },
    {
     "output_type": "stream",
     "name": "stderr",
     "text": [
      "/Users/harabasz/miniforge3/envs/pyroot/lib/python3.11/site-packages/botorch/optim/initializers.py:403: BadInitialCandidatesWarning: Unable to find non-zero acquisition function values - initial conditions are being selected randomly.\n",
      "  warnings.warn(\n"
     ]
    },
    {
     "output_type": "stream",
     "name": "stdout",
     "text": [
      "query 72\n"
     ]
    },
    {
     "output_type": "stream",
     "name": "stderr",
     "text": [
      "/Users/harabasz/miniforge3/envs/pyroot/lib/python3.11/site-packages/botorch/optim/initializers.py:403: BadInitialCandidatesWarning: Unable to find non-zero acquisition function values - initial conditions are being selected randomly.\n",
      "  warnings.warn(\n"
     ]
    },
    {
     "output_type": "stream",
     "name": "stdout",
     "text": [
      "query 73\n"
     ]
    },
    {
     "output_type": "stream",
     "name": "stderr",
     "text": [
      "/Users/harabasz/miniforge3/envs/pyroot/lib/python3.11/site-packages/botorch/optim/initializers.py:403: BadInitialCandidatesWarning: Unable to find non-zero acquisition function values - initial conditions are being selected randomly.\n",
      "  warnings.warn(\n"
     ]
    },
    {
     "output_type": "stream",
     "name": "stdout",
     "text": [
      "query 74\n"
     ]
    },
    {
     "output_type": "stream",
     "name": "stderr",
     "text": [
      "/Users/harabasz/miniforge3/envs/pyroot/lib/python3.11/site-packages/botorch/optim/initializers.py:403: BadInitialCandidatesWarning: Unable to find non-zero acquisition function values - initial conditions are being selected randomly.\n",
      "  warnings.warn(\n"
     ]
    },
    {
     "output_type": "stream",
     "name": "stdout",
     "text": [
      "query 75\n"
     ]
    },
    {
     "output_type": "stream",
     "name": "stderr",
     "text": [
      "/Users/harabasz/miniforge3/envs/pyroot/lib/python3.11/site-packages/botorch/optim/initializers.py:403: BadInitialCandidatesWarning: Unable to find non-zero acquisition function values - initial conditions are being selected randomly.\n",
      "  warnings.warn(\n"
     ]
    },
    {
     "output_type": "stream",
     "name": "stdout",
     "text": [
      "query 76\n"
     ]
    },
    {
     "output_type": "stream",
     "name": "stderr",
     "text": [
      "/Users/harabasz/miniforge3/envs/pyroot/lib/python3.11/site-packages/botorch/optim/initializers.py:403: BadInitialCandidatesWarning: Unable to find non-zero acquisition function values - initial conditions are being selected randomly.\n",
      "  warnings.warn(\n"
     ]
    },
    {
     "output_type": "stream",
     "name": "stdout",
     "text": [
      "query 77\n"
     ]
    },
    {
     "output_type": "stream",
     "name": "stderr",
     "text": [
      "/Users/harabasz/miniforge3/envs/pyroot/lib/python3.11/site-packages/botorch/optim/initializers.py:403: BadInitialCandidatesWarning: Unable to find non-zero acquisition function values - initial conditions are being selected randomly.\n",
      "  warnings.warn(\n"
     ]
    },
    {
     "output_type": "stream",
     "name": "stdout",
     "text": [
      "Before reweighting hists 18:23:02\n",
      "After reweighting hists 18:23:02\n",
      "query 78\n"
     ]
    },
    {
     "output_type": "stream",
     "name": "stderr",
     "text": [
      "/Users/harabasz/miniforge3/envs/pyroot/lib/python3.11/site-packages/botorch/optim/initializers.py:403: BadInitialCandidatesWarning: Unable to find non-zero acquisition function values - initial conditions are being selected randomly.\n",
      "  warnings.warn(\n"
     ]
    },
    {
     "output_type": "stream",
     "name": "stdout",
     "text": [
      "query 79\n"
     ]
    },
    {
     "output_type": "stream",
     "name": "stderr",
     "text": [
      "/Users/harabasz/miniforge3/envs/pyroot/lib/python3.11/site-packages/botorch/optim/initializers.py:403: BadInitialCandidatesWarning: Unable to find non-zero acquisition function values - initial conditions are being selected randomly.\n",
      "  warnings.warn(\n"
     ]
    },
    {
     "output_type": "stream",
     "name": "stdout",
     "text": [
      "query 80\n"
     ]
    },
    {
     "output_type": "stream",
     "name": "stderr",
     "text": [
      "/Users/harabasz/miniforge3/envs/pyroot/lib/python3.11/site-packages/botorch/optim/initializers.py:403: BadInitialCandidatesWarning: Unable to find non-zero acquisition function values - initial conditions are being selected randomly.\n",
      "  warnings.warn(\n"
     ]
    },
    {
     "output_type": "stream",
     "name": "stdout",
     "text": [
      "query 81\n"
     ]
    },
    {
     "output_type": "stream",
     "name": "stderr",
     "text": [
      "/Users/harabasz/miniforge3/envs/pyroot/lib/python3.11/site-packages/botorch/optim/initializers.py:403: BadInitialCandidatesWarning: Unable to find non-zero acquisition function values - initial conditions are being selected randomly.\n",
      "  warnings.warn(\n"
     ]
    },
    {
     "output_type": "stream",
     "name": "stdout",
     "text": [
      "query 82\n",
      "query 83\n",
      "query 84\n",
      "query 85\n"
     ]
    },
    {
     "output_type": "stream",
     "name": "stderr",
     "text": [
      "/Users/harabasz/miniforge3/envs/pyroot/lib/python3.11/site-packages/botorch/optim/initializers.py:403: BadInitialCandidatesWarning: Unable to find non-zero acquisition function values - initial conditions are being selected randomly.\n",
      "  warnings.warn(\n"
     ]
    },
    {
     "output_type": "stream",
     "name": "stdout",
     "text": [
      "query 86\n"
     ]
    },
    {
     "output_type": "stream",
     "name": "stderr",
     "text": [
      "/Users/harabasz/miniforge3/envs/pyroot/lib/python3.11/site-packages/botorch/optim/initializers.py:403: BadInitialCandidatesWarning: Unable to find non-zero acquisition function values - initial conditions are being selected randomly.\n",
      "  warnings.warn(\n"
     ]
    },
    {
     "output_type": "stream",
     "name": "stdout",
     "text": [
      "query 87\n"
     ]
    },
    {
     "output_type": "stream",
     "name": "stderr",
     "text": [
      "/Users/harabasz/miniforge3/envs/pyroot/lib/python3.11/site-packages/botorch/optim/initializers.py:403: BadInitialCandidatesWarning: Unable to find non-zero acquisition function values - initial conditions are being selected randomly.\n",
      "  warnings.warn(\n"
     ]
    },
    {
     "output_type": "stream",
     "name": "stdout",
     "text": [
      "Before reweighting hists 18:23:39\n",
      "After reweighting hists 18:23:39\n",
      "query 88\n"
     ]
    },
    {
     "output_type": "stream",
     "name": "stderr",
     "text": [
      "/Users/harabasz/miniforge3/envs/pyroot/lib/python3.11/site-packages/botorch/optim/initializers.py:403: BadInitialCandidatesWarning: Unable to find non-zero acquisition function values - initial conditions are being selected randomly.\n",
      "  warnings.warn(\n"
     ]
    },
    {
     "output_type": "stream",
     "name": "stdout",
     "text": [
      "query 89\n"
     ]
    },
    {
     "output_type": "stream",
     "name": "stderr",
     "text": [
      "/Users/harabasz/miniforge3/envs/pyroot/lib/python3.11/site-packages/botorch/optim/initializers.py:403: BadInitialCandidatesWarning: Unable to find non-zero acquisition function values - initial conditions are being selected randomly.\n",
      "  warnings.warn(\n"
     ]
    },
    {
     "output_type": "stream",
     "name": "stdout",
     "text": [
      "query 90\n"
     ]
    },
    {
     "output_type": "stream",
     "name": "stderr",
     "text": [
      "/Users/harabasz/miniforge3/envs/pyroot/lib/python3.11/site-packages/botorch/optim/initializers.py:403: BadInitialCandidatesWarning: Unable to find non-zero acquisition function values - initial conditions are being selected randomly.\n",
      "  warnings.warn(\n"
     ]
    },
    {
     "output_type": "stream",
     "name": "stdout",
     "text": [
      "query 91\n"
     ]
    },
    {
     "output_type": "stream",
     "name": "stderr",
     "text": [
      "/Users/harabasz/miniforge3/envs/pyroot/lib/python3.11/site-packages/botorch/optim/initializers.py:403: BadInitialCandidatesWarning: Unable to find non-zero acquisition function values - initial conditions are being selected randomly.\n",
      "  warnings.warn(\n"
     ]
    },
    {
     "output_type": "stream",
     "name": "stdout",
     "text": [
      "query 92\n"
     ]
    },
    {
     "output_type": "stream",
     "name": "stderr",
     "text": [
      "/Users/harabasz/miniforge3/envs/pyroot/lib/python3.11/site-packages/botorch/optim/initializers.py:403: BadInitialCandidatesWarning: Unable to find non-zero acquisition function values - initial conditions are being selected randomly.\n",
      "  warnings.warn(\n"
     ]
    },
    {
     "output_type": "stream",
     "name": "stdout",
     "text": [
      "query 93\n"
     ]
    },
    {
     "output_type": "stream",
     "name": "stderr",
     "text": [
      "/Users/harabasz/miniforge3/envs/pyroot/lib/python3.11/site-packages/botorch/optim/initializers.py:403: BadInitialCandidatesWarning: Unable to find non-zero acquisition function values - initial conditions are being selected randomly.\n",
      "  warnings.warn(\n"
     ]
    },
    {
     "output_type": "stream",
     "name": "stdout",
     "text": [
      "query 94\n"
     ]
    },
    {
     "output_type": "stream",
     "name": "stderr",
     "text": [
      "/Users/harabasz/miniforge3/envs/pyroot/lib/python3.11/site-packages/botorch/optim/initializers.py:403: BadInitialCandidatesWarning: Unable to find non-zero acquisition function values - initial conditions are being selected randomly.\n",
      "  warnings.warn(\n"
     ]
    },
    {
     "output_type": "stream",
     "name": "stdout",
     "text": [
      "query 95\n"
     ]
    },
    {
     "output_type": "stream",
     "name": "stderr",
     "text": [
      "/Users/harabasz/miniforge3/envs/pyroot/lib/python3.11/site-packages/botorch/optim/initializers.py:403: BadInitialCandidatesWarning: Unable to find non-zero acquisition function values - initial conditions are being selected randomly.\n",
      "  warnings.warn(\n"
     ]
    },
    {
     "output_type": "stream",
     "name": "stdout",
     "text": [
      "query 96\n"
     ]
    },
    {
     "output_type": "stream",
     "name": "stderr",
     "text": [
      "/Users/harabasz/miniforge3/envs/pyroot/lib/python3.11/site-packages/botorch/optim/initializers.py:403: BadInitialCandidatesWarning: Unable to find non-zero acquisition function values - initial conditions are being selected randomly.\n",
      "  warnings.warn(\n"
     ]
    },
    {
     "output_type": "stream",
     "name": "stdout",
     "text": [
      "query 97\n"
     ]
    },
    {
     "output_type": "stream",
     "name": "stderr",
     "text": [
      "/Users/harabasz/miniforge3/envs/pyroot/lib/python3.11/site-packages/botorch/optim/initializers.py:403: BadInitialCandidatesWarning: Unable to find non-zero acquisition function values - initial conditions are being selected randomly.\n",
      "  warnings.warn(\n"
     ]
    },
    {
     "output_type": "stream",
     "name": "stdout",
     "text": [
      "Before reweighting hists 18:24:18\n",
      "After reweighting hists 18:24:18\n",
      "query 98\n"
     ]
    },
    {
     "output_type": "stream",
     "name": "stderr",
     "text": [
      "/Users/harabasz/miniforge3/envs/pyroot/lib/python3.11/site-packages/botorch/optim/initializers.py:403: BadInitialCandidatesWarning: Unable to find non-zero acquisition function values - initial conditions are being selected randomly.\n",
      "  warnings.warn(\n"
     ]
    },
    {
     "output_type": "stream",
     "name": "stdout",
     "text": [
      "query 99\n"
     ]
    },
    {
     "output_type": "stream",
     "name": "stderr",
     "text": [
      "/Users/harabasz/miniforge3/envs/pyroot/lib/python3.11/site-packages/botorch/optim/initializers.py:403: BadInitialCandidatesWarning: Unable to find non-zero acquisition function values - initial conditions are being selected randomly.\n",
      "  warnings.warn(\n"
     ]
    },
    {
     "output_type": "stream",
     "name": "stdout",
     "text": [
      "query 100\n"
     ]
    },
    {
     "output_type": "stream",
     "name": "stderr",
     "text": [
      "/Users/harabasz/miniforge3/envs/pyroot/lib/python3.11/site-packages/botorch/optim/initializers.py:403: BadInitialCandidatesWarning: Unable to find non-zero acquisition function values - initial conditions are being selected randomly.\n",
      "  warnings.warn(\n"
     ]
    },
    {
     "output_type": "stream",
     "name": "stdout",
     "text": [
      "query 101\n"
     ]
    },
    {
     "output_type": "stream",
     "name": "stderr",
     "text": [
      "/Users/harabasz/miniforge3/envs/pyroot/lib/python3.11/site-packages/botorch/optim/initializers.py:403: BadInitialCandidatesWarning: Unable to find non-zero acquisition function values - initial conditions are being selected randomly.\n",
      "  warnings.warn(\n"
     ]
    },
    {
     "output_type": "stream",
     "name": "stdout",
     "text": [
      "query 102\n"
     ]
    },
    {
     "output_type": "stream",
     "name": "stderr",
     "text": [
      "/Users/harabasz/miniforge3/envs/pyroot/lib/python3.11/site-packages/botorch/optim/initializers.py:403: BadInitialCandidatesWarning: Unable to find non-zero acquisition function values - initial conditions are being selected randomly.\n",
      "  warnings.warn(\n"
     ]
    },
    {
     "output_type": "stream",
     "name": "stdout",
     "text": [
      "query 103\n"
     ]
    },
    {
     "output_type": "stream",
     "name": "stderr",
     "text": [
      "/Users/harabasz/miniforge3/envs/pyroot/lib/python3.11/site-packages/botorch/optim/initializers.py:403: BadInitialCandidatesWarning: Unable to find non-zero acquisition function values - initial conditions are being selected randomly.\n",
      "  warnings.warn(\n"
     ]
    },
    {
     "output_type": "stream",
     "name": "stdout",
     "text": [
      "query 104\n"
     ]
    },
    {
     "output_type": "stream",
     "name": "stderr",
     "text": [
      "/Users/harabasz/miniforge3/envs/pyroot/lib/python3.11/site-packages/botorch/optim/initializers.py:403: BadInitialCandidatesWarning: Unable to find non-zero acquisition function values - initial conditions are being selected randomly.\n",
      "  warnings.warn(\n"
     ]
    },
    {
     "output_type": "stream",
     "name": "stdout",
     "text": [
      "query 105\n"
     ]
    },
    {
     "output_type": "stream",
     "name": "stderr",
     "text": [
      "/Users/harabasz/miniforge3/envs/pyroot/lib/python3.11/site-packages/botorch/optim/initializers.py:403: BadInitialCandidatesWarning: Unable to find non-zero acquisition function values - initial conditions are being selected randomly.\n",
      "  warnings.warn(\n"
     ]
    },
    {
     "output_type": "stream",
     "name": "stdout",
     "text": [
      "query 106\n"
     ]
    },
    {
     "output_type": "stream",
     "name": "stderr",
     "text": [
      "/Users/harabasz/miniforge3/envs/pyroot/lib/python3.11/site-packages/botorch/optim/initializers.py:403: BadInitialCandidatesWarning: Unable to find non-zero acquisition function values - initial conditions are being selected randomly.\n",
      "  warnings.warn(\n"
     ]
    },
    {
     "output_type": "stream",
     "name": "stdout",
     "text": [
      "query 107\n"
     ]
    },
    {
     "output_type": "stream",
     "name": "stderr",
     "text": [
      "/Users/harabasz/miniforge3/envs/pyroot/lib/python3.11/site-packages/botorch/optim/initializers.py:403: BadInitialCandidatesWarning: Unable to find non-zero acquisition function values - initial conditions are being selected randomly.\n",
      "  warnings.warn(\n"
     ]
    },
    {
     "output_type": "stream",
     "name": "stdout",
     "text": [
      "Before reweighting hists 18:24:56\n",
      "After reweighting hists 18:24:57\n",
      "query 108\n"
     ]
    },
    {
     "output_type": "stream",
     "name": "stderr",
     "text": [
      "/Users/harabasz/miniforge3/envs/pyroot/lib/python3.11/site-packages/botorch/optim/initializers.py:403: BadInitialCandidatesWarning: Unable to find non-zero acquisition function values - initial conditions are being selected randomly.\n",
      "  warnings.warn(\n"
     ]
    },
    {
     "output_type": "stream",
     "name": "stdout",
     "text": [
      "query 109\n"
     ]
    },
    {
     "output_type": "stream",
     "name": "stderr",
     "text": [
      "/Users/harabasz/miniforge3/envs/pyroot/lib/python3.11/site-packages/botorch/optim/initializers.py:403: BadInitialCandidatesWarning: Unable to find non-zero acquisition function values - initial conditions are being selected randomly.\n",
      "  warnings.warn(\n"
     ]
    },
    {
     "output_type": "stream",
     "name": "stdout",
     "text": [
      "query 110\n"
     ]
    },
    {
     "output_type": "stream",
     "name": "stderr",
     "text": [
      "/Users/harabasz/miniforge3/envs/pyroot/lib/python3.11/site-packages/botorch/optim/initializers.py:403: BadInitialCandidatesWarning: Unable to find non-zero acquisition function values - initial conditions are being selected randomly.\n",
      "  warnings.warn(\n"
     ]
    },
    {
     "output_type": "stream",
     "name": "stdout",
     "text": [
      "query 111\n"
     ]
    },
    {
     "output_type": "stream",
     "name": "stderr",
     "text": [
      "/Users/harabasz/miniforge3/envs/pyroot/lib/python3.11/site-packages/botorch/optim/initializers.py:403: BadInitialCandidatesWarning: Unable to find non-zero acquisition function values - initial conditions are being selected randomly.\n",
      "  warnings.warn(\n"
     ]
    },
    {
     "output_type": "stream",
     "name": "stdout",
     "text": [
      "query 112\n"
     ]
    },
    {
     "output_type": "stream",
     "name": "stderr",
     "text": [
      "/Users/harabasz/miniforge3/envs/pyroot/lib/python3.11/site-packages/botorch/optim/initializers.py:403: BadInitialCandidatesWarning: Unable to find non-zero acquisition function values - initial conditions are being selected randomly.\n",
      "  warnings.warn(\n"
     ]
    },
    {
     "output_type": "stream",
     "name": "stdout",
     "text": [
      "query 113\n"
     ]
    },
    {
     "output_type": "stream",
     "name": "stderr",
     "text": [
      "/Users/harabasz/miniforge3/envs/pyroot/lib/python3.11/site-packages/botorch/optim/initializers.py:403: BadInitialCandidatesWarning: Unable to find non-zero acquisition function values - initial conditions are being selected randomly.\n",
      "  warnings.warn(\n"
     ]
    },
    {
     "output_type": "stream",
     "name": "stdout",
     "text": [
      "query 114\n"
     ]
    },
    {
     "output_type": "stream",
     "name": "stderr",
     "text": [
      "/Users/harabasz/miniforge3/envs/pyroot/lib/python3.11/site-packages/botorch/optim/initializers.py:403: BadInitialCandidatesWarning: Unable to find non-zero acquisition function values - initial conditions are being selected randomly.\n",
      "  warnings.warn(\n"
     ]
    },
    {
     "output_type": "stream",
     "name": "stdout",
     "text": [
      "query 115\n"
     ]
    },
    {
     "output_type": "stream",
     "name": "stderr",
     "text": [
      "/Users/harabasz/miniforge3/envs/pyroot/lib/python3.11/site-packages/botorch/optim/initializers.py:403: BadInitialCandidatesWarning: Unable to find non-zero acquisition function values - initial conditions are being selected randomly.\n",
      "  warnings.warn(\n"
     ]
    },
    {
     "output_type": "stream",
     "name": "stdout",
     "text": [
      "query 116\n"
     ]
    },
    {
     "output_type": "stream",
     "name": "stderr",
     "text": [
      "/Users/harabasz/miniforge3/envs/pyroot/lib/python3.11/site-packages/botorch/optim/initializers.py:403: BadInitialCandidatesWarning: Unable to find non-zero acquisition function values - initial conditions are being selected randomly.\n",
      "  warnings.warn(\n"
     ]
    },
    {
     "output_type": "stream",
     "name": "stdout",
     "text": [
      "query 117\n"
     ]
    },
    {
     "output_type": "stream",
     "name": "stderr",
     "text": [
      "/Users/harabasz/miniforge3/envs/pyroot/lib/python3.11/site-packages/botorch/optim/initializers.py:403: BadInitialCandidatesWarning: Unable to find non-zero acquisition function values - initial conditions are being selected randomly.\n",
      "  warnings.warn(\n"
     ]
    },
    {
     "output_type": "stream",
     "name": "stdout",
     "text": [
      "Before reweighting hists 18:25:35\n",
      "After reweighting hists 18:25:35\n",
      "query 118\n"
     ]
    },
    {
     "output_type": "stream",
     "name": "stderr",
     "text": [
      "/Users/harabasz/miniforge3/envs/pyroot/lib/python3.11/site-packages/botorch/optim/initializers.py:403: BadInitialCandidatesWarning: Unable to find non-zero acquisition function values - initial conditions are being selected randomly.\n",
      "  warnings.warn(\n"
     ]
    },
    {
     "output_type": "stream",
     "name": "stdout",
     "text": [
      "query 119\n"
     ]
    },
    {
     "output_type": "stream",
     "name": "stderr",
     "text": [
      "/Users/harabasz/miniforge3/envs/pyroot/lib/python3.11/site-packages/botorch/optim/initializers.py:403: BadInitialCandidatesWarning: Unable to find non-zero acquisition function values - initial conditions are being selected randomly.\n",
      "  warnings.warn(\n"
     ]
    },
    {
     "output_type": "stream",
     "name": "stdout",
     "text": [
      "query 120\n"
     ]
    },
    {
     "output_type": "stream",
     "name": "stderr",
     "text": [
      "/Users/harabasz/miniforge3/envs/pyroot/lib/python3.11/site-packages/botorch/optim/initializers.py:403: BadInitialCandidatesWarning: Unable to find non-zero acquisition function values - initial conditions are being selected randomly.\n",
      "  warnings.warn(\n"
     ]
    },
    {
     "output_type": "stream",
     "name": "stdout",
     "text": [
      "query 121\n"
     ]
    },
    {
     "output_type": "stream",
     "name": "stderr",
     "text": [
      "/Users/harabasz/miniforge3/envs/pyroot/lib/python3.11/site-packages/botorch/optim/initializers.py:403: BadInitialCandidatesWarning: Unable to find non-zero acquisition function values - initial conditions are being selected randomly.\n",
      "  warnings.warn(\n"
     ]
    },
    {
     "output_type": "stream",
     "name": "stdout",
     "text": [
      "query 122\n"
     ]
    },
    {
     "output_type": "stream",
     "name": "stderr",
     "text": [
      "/Users/harabasz/miniforge3/envs/pyroot/lib/python3.11/site-packages/botorch/optim/initializers.py:403: BadInitialCandidatesWarning: Unable to find non-zero acquisition function values - initial conditions are being selected randomly.\n",
      "  warnings.warn(\n"
     ]
    },
    {
     "output_type": "stream",
     "name": "stdout",
     "text": [
      "query 123\n"
     ]
    },
    {
     "output_type": "stream",
     "name": "stderr",
     "text": [
      "/Users/harabasz/miniforge3/envs/pyroot/lib/python3.11/site-packages/botorch/optim/initializers.py:403: BadInitialCandidatesWarning: Unable to find non-zero acquisition function values - initial conditions are being selected randomly.\n",
      "  warnings.warn(\n"
     ]
    },
    {
     "output_type": "stream",
     "name": "stdout",
     "text": [
      "query 124\n"
     ]
    },
    {
     "output_type": "stream",
     "name": "stderr",
     "text": [
      "/Users/harabasz/miniforge3/envs/pyroot/lib/python3.11/site-packages/botorch/optim/initializers.py:403: BadInitialCandidatesWarning: Unable to find non-zero acquisition function values - initial conditions are being selected randomly.\n",
      "  warnings.warn(\n"
     ]
    },
    {
     "output_type": "stream",
     "name": "stdout",
     "text": [
      "query 125\n"
     ]
    },
    {
     "output_type": "stream",
     "name": "stderr",
     "text": [
      "/Users/harabasz/miniforge3/envs/pyroot/lib/python3.11/site-packages/botorch/optim/initializers.py:403: BadInitialCandidatesWarning: Unable to find non-zero acquisition function values - initial conditions are being selected randomly.\n",
      "  warnings.warn(\n"
     ]
    },
    {
     "output_type": "stream",
     "name": "stdout",
     "text": [
      "query 126\n"
     ]
    },
    {
     "output_type": "stream",
     "name": "stderr",
     "text": [
      "/Users/harabasz/miniforge3/envs/pyroot/lib/python3.11/site-packages/botorch/optim/initializers.py:403: BadInitialCandidatesWarning: Unable to find non-zero acquisition function values - initial conditions are being selected randomly.\n",
      "  warnings.warn(\n"
     ]
    },
    {
     "output_type": "stream",
     "name": "stdout",
     "text": [
      "query 127\n"
     ]
    },
    {
     "output_type": "stream",
     "name": "stderr",
     "text": [
      "/Users/harabasz/miniforge3/envs/pyroot/lib/python3.11/site-packages/botorch/optim/initializers.py:403: BadInitialCandidatesWarning: Unable to find non-zero acquisition function values - initial conditions are being selected randomly.\n",
      "  warnings.warn(\n"
     ]
    },
    {
     "output_type": "stream",
     "name": "stdout",
     "text": [
      "Before reweighting hists 18:26:14\n",
      "After reweighting hists 18:26:15\n",
      "query 128\n"
     ]
    },
    {
     "output_type": "stream",
     "name": "stderr",
     "text": [
      "/Users/harabasz/miniforge3/envs/pyroot/lib/python3.11/site-packages/botorch/optim/initializers.py:403: BadInitialCandidatesWarning: Unable to find non-zero acquisition function values - initial conditions are being selected randomly.\n",
      "  warnings.warn(\n"
     ]
    },
    {
     "output_type": "stream",
     "name": "stdout",
     "text": [
      "query 129\n"
     ]
    },
    {
     "output_type": "stream",
     "name": "stderr",
     "text": [
      "/Users/harabasz/miniforge3/envs/pyroot/lib/python3.11/site-packages/botorch/optim/initializers.py:403: BadInitialCandidatesWarning: Unable to find non-zero acquisition function values - initial conditions are being selected randomly.\n",
      "  warnings.warn(\n"
     ]
    },
    {
     "output_type": "stream",
     "name": "stdout",
     "text": [
      "query 130\n"
     ]
    },
    {
     "output_type": "stream",
     "name": "stderr",
     "text": [
      "/Users/harabasz/miniforge3/envs/pyroot/lib/python3.11/site-packages/botorch/optim/initializers.py:403: BadInitialCandidatesWarning: Unable to find non-zero acquisition function values - initial conditions are being selected randomly.\n",
      "  warnings.warn(\n"
     ]
    },
    {
     "output_type": "stream",
     "name": "stdout",
     "text": [
      "query 131\n"
     ]
    },
    {
     "output_type": "stream",
     "name": "stderr",
     "text": [
      "/Users/harabasz/miniforge3/envs/pyroot/lib/python3.11/site-packages/botorch/optim/initializers.py:403: BadInitialCandidatesWarning: Unable to find non-zero acquisition function values - initial conditions are being selected randomly.\n",
      "  warnings.warn(\n"
     ]
    },
    {
     "output_type": "stream",
     "name": "stdout",
     "text": [
      "query 132\n"
     ]
    },
    {
     "output_type": "stream",
     "name": "stderr",
     "text": [
      "/Users/harabasz/miniforge3/envs/pyroot/lib/python3.11/site-packages/botorch/optim/initializers.py:403: BadInitialCandidatesWarning: Unable to find non-zero acquisition function values - initial conditions are being selected randomly.\n",
      "  warnings.warn(\n"
     ]
    },
    {
     "output_type": "stream",
     "name": "stdout",
     "text": [
      "query 133\n"
     ]
    },
    {
     "output_type": "stream",
     "name": "stderr",
     "text": [
      "/Users/harabasz/miniforge3/envs/pyroot/lib/python3.11/site-packages/botorch/optim/initializers.py:403: BadInitialCandidatesWarning: Unable to find non-zero acquisition function values - initial conditions are being selected randomly.\n",
      "  warnings.warn(\n"
     ]
    },
    {
     "output_type": "stream",
     "name": "stdout",
     "text": [
      "query 134\n"
     ]
    },
    {
     "output_type": "stream",
     "name": "stderr",
     "text": [
      "/Users/harabasz/miniforge3/envs/pyroot/lib/python3.11/site-packages/botorch/optim/initializers.py:403: BadInitialCandidatesWarning: Unable to find non-zero acquisition function values - initial conditions are being selected randomly.\n",
      "  warnings.warn(\n"
     ]
    },
    {
     "output_type": "stream",
     "name": "stdout",
     "text": [
      "query 135\n"
     ]
    },
    {
     "output_type": "stream",
     "name": "stderr",
     "text": [
      "/Users/harabasz/miniforge3/envs/pyroot/lib/python3.11/site-packages/botorch/optim/initializers.py:403: BadInitialCandidatesWarning: Unable to find non-zero acquisition function values - initial conditions are being selected randomly.\n",
      "  warnings.warn(\n"
     ]
    },
    {
     "output_type": "stream",
     "name": "stdout",
     "text": [
      "query 136\n"
     ]
    },
    {
     "output_type": "stream",
     "name": "stderr",
     "text": [
      "/Users/harabasz/miniforge3/envs/pyroot/lib/python3.11/site-packages/botorch/optim/initializers.py:403: BadInitialCandidatesWarning: Unable to find non-zero acquisition function values - initial conditions are being selected randomly.\n",
      "  warnings.warn(\n"
     ]
    },
    {
     "output_type": "stream",
     "name": "stdout",
     "text": [
      "query 137\n"
     ]
    },
    {
     "output_type": "stream",
     "name": "stderr",
     "text": [
      "/Users/harabasz/miniforge3/envs/pyroot/lib/python3.11/site-packages/botorch/optim/initializers.py:403: BadInitialCandidatesWarning: Unable to find non-zero acquisition function values - initial conditions are being selected randomly.\n",
      "  warnings.warn(\n"
     ]
    },
    {
     "output_type": "stream",
     "name": "stdout",
     "text": [
      "Before reweighting hists 18:26:59\n",
      "After reweighting hists 18:26:59\n",
      "query 138\n"
     ]
    },
    {
     "output_type": "stream",
     "name": "stderr",
     "text": [
      "/Users/harabasz/miniforge3/envs/pyroot/lib/python3.11/site-packages/botorch/optim/initializers.py:403: BadInitialCandidatesWarning: Unable to find non-zero acquisition function values - initial conditions are being selected randomly.\n",
      "  warnings.warn(\n"
     ]
    },
    {
     "output_type": "stream",
     "name": "stdout",
     "text": [
      "query 139\n"
     ]
    },
    {
     "output_type": "stream",
     "name": "stderr",
     "text": [
      "/Users/harabasz/miniforge3/envs/pyroot/lib/python3.11/site-packages/botorch/optim/initializers.py:403: BadInitialCandidatesWarning: Unable to find non-zero acquisition function values - initial conditions are being selected randomly.\n",
      "  warnings.warn(\n"
     ]
    },
    {
     "output_type": "stream",
     "name": "stdout",
     "text": [
      "query 140\n"
     ]
    },
    {
     "output_type": "stream",
     "name": "stderr",
     "text": [
      "/Users/harabasz/miniforge3/envs/pyroot/lib/python3.11/site-packages/botorch/optim/initializers.py:403: BadInitialCandidatesWarning: Unable to find non-zero acquisition function values - initial conditions are being selected randomly.\n",
      "  warnings.warn(\n"
     ]
    },
    {
     "output_type": "stream",
     "name": "stdout",
     "text": [
      "query 141\n"
     ]
    },
    {
     "output_type": "stream",
     "name": "stderr",
     "text": [
      "/Users/harabasz/miniforge3/envs/pyroot/lib/python3.11/site-packages/botorch/optim/initializers.py:403: BadInitialCandidatesWarning: Unable to find non-zero acquisition function values - initial conditions are being selected randomly.\n",
      "  warnings.warn(\n"
     ]
    },
    {
     "output_type": "stream",
     "name": "stdout",
     "text": [
      "query 142\n"
     ]
    },
    {
     "output_type": "stream",
     "name": "stderr",
     "text": [
      "/Users/harabasz/miniforge3/envs/pyroot/lib/python3.11/site-packages/botorch/optim/initializers.py:403: BadInitialCandidatesWarning: Unable to find non-zero acquisition function values - initial conditions are being selected randomly.\n",
      "  warnings.warn(\n"
     ]
    },
    {
     "output_type": "stream",
     "name": "stdout",
     "text": [
      "query 143\n"
     ]
    },
    {
     "output_type": "stream",
     "name": "stderr",
     "text": [
      "/Users/harabasz/miniforge3/envs/pyroot/lib/python3.11/site-packages/botorch/optim/initializers.py:403: BadInitialCandidatesWarning: Unable to find non-zero acquisition function values - initial conditions are being selected randomly.\n",
      "  warnings.warn(\n"
     ]
    },
    {
     "output_type": "stream",
     "name": "stdout",
     "text": [
      "query 144\n"
     ]
    },
    {
     "output_type": "stream",
     "name": "stderr",
     "text": [
      "/Users/harabasz/miniforge3/envs/pyroot/lib/python3.11/site-packages/botorch/optim/initializers.py:403: BadInitialCandidatesWarning: Unable to find non-zero acquisition function values - initial conditions are being selected randomly.\n",
      "  warnings.warn(\n"
     ]
    },
    {
     "output_type": "stream",
     "name": "stdout",
     "text": [
      "query 145\n"
     ]
    },
    {
     "output_type": "stream",
     "name": "stderr",
     "text": [
      "/Users/harabasz/miniforge3/envs/pyroot/lib/python3.11/site-packages/botorch/optim/initializers.py:403: BadInitialCandidatesWarning: Unable to find non-zero acquisition function values - initial conditions are being selected randomly.\n",
      "  warnings.warn(\n"
     ]
    },
    {
     "output_type": "stream",
     "name": "stdout",
     "text": [
      "query 146\n"
     ]
    },
    {
     "output_type": "stream",
     "name": "stderr",
     "text": [
      "/Users/harabasz/miniforge3/envs/pyroot/lib/python3.11/site-packages/botorch/optim/initializers.py:403: BadInitialCandidatesWarning: Unable to find non-zero acquisition function values - initial conditions are being selected randomly.\n",
      "  warnings.warn(\n"
     ]
    },
    {
     "output_type": "stream",
     "name": "stdout",
     "text": [
      "query 147\n"
     ]
    },
    {
     "output_type": "stream",
     "name": "stderr",
     "text": [
      "/Users/harabasz/miniforge3/envs/pyroot/lib/python3.11/site-packages/botorch/optim/initializers.py:403: BadInitialCandidatesWarning: Unable to find non-zero acquisition function values - initial conditions are being selected randomly.\n",
      "  warnings.warn(\n"
     ]
    },
    {
     "output_type": "stream",
     "name": "stdout",
     "text": [
      "Before reweighting hists 18:27:43\n",
      "After reweighting hists 18:27:44\n",
      "query 148\n"
     ]
    },
    {
     "output_type": "stream",
     "name": "stderr",
     "text": [
      "/Users/harabasz/miniforge3/envs/pyroot/lib/python3.11/site-packages/botorch/optim/initializers.py:403: BadInitialCandidatesWarning: Unable to find non-zero acquisition function values - initial conditions are being selected randomly.\n",
      "  warnings.warn(\n"
     ]
    },
    {
     "output_type": "stream",
     "name": "stdout",
     "text": [
      "query 149\n"
     ]
    },
    {
     "output_type": "stream",
     "name": "stderr",
     "text": [
      "/Users/harabasz/miniforge3/envs/pyroot/lib/python3.11/site-packages/botorch/optim/initializers.py:403: BadInitialCandidatesWarning: Unable to find non-zero acquisition function values - initial conditions are being selected randomly.\n",
      "  warnings.warn(\n"
     ]
    },
    {
     "output_type": "stream",
     "name": "stdout",
     "text": [
      "query 150\n"
     ]
    },
    {
     "output_type": "stream",
     "name": "stderr",
     "text": [
      "/Users/harabasz/miniforge3/envs/pyroot/lib/python3.11/site-packages/botorch/optim/initializers.py:403: BadInitialCandidatesWarning: Unable to find non-zero acquisition function values - initial conditions are being selected randomly.\n",
      "  warnings.warn(\n"
     ]
    },
    {
     "output_type": "stream",
     "name": "stdout",
     "text": [
      "query 151\n",
      "query 152\n"
     ]
    },
    {
     "output_type": "stream",
     "name": "stderr",
     "text": [
      "/Users/harabasz/miniforge3/envs/pyroot/lib/python3.11/site-packages/botorch/optim/initializers.py:403: BadInitialCandidatesWarning: Unable to find non-zero acquisition function values - initial conditions are being selected randomly.\n",
      "  warnings.warn(\n"
     ]
    },
    {
     "output_type": "stream",
     "name": "stdout",
     "text": [
      "query 153\n"
     ]
    },
    {
     "output_type": "stream",
     "name": "stderr",
     "text": [
      "/Users/harabasz/miniforge3/envs/pyroot/lib/python3.11/site-packages/botorch/optim/initializers.py:403: BadInitialCandidatesWarning: Unable to find non-zero acquisition function values - initial conditions are being selected randomly.\n",
      "  warnings.warn(\n"
     ]
    },
    {
     "output_type": "stream",
     "name": "stdout",
     "text": [
      "query 154\n"
     ]
    },
    {
     "output_type": "stream",
     "name": "stderr",
     "text": [
      "/Users/harabasz/miniforge3/envs/pyroot/lib/python3.11/site-packages/botorch/optim/initializers.py:403: BadInitialCandidatesWarning: Unable to find non-zero acquisition function values - initial conditions are being selected randomly.\n",
      "  warnings.warn(\n"
     ]
    },
    {
     "output_type": "stream",
     "name": "stdout",
     "text": [
      "query 155\n"
     ]
    },
    {
     "output_type": "stream",
     "name": "stderr",
     "text": [
      "/Users/harabasz/miniforge3/envs/pyroot/lib/python3.11/site-packages/botorch/optim/initializers.py:403: BadInitialCandidatesWarning: Unable to find non-zero acquisition function values - initial conditions are being selected randomly.\n",
      "  warnings.warn(\n"
     ]
    },
    {
     "output_type": "stream",
     "name": "stdout",
     "text": [
      "query 156\n"
     ]
    },
    {
     "output_type": "stream",
     "name": "stderr",
     "text": [
      "/Users/harabasz/miniforge3/envs/pyroot/lib/python3.11/site-packages/botorch/optim/initializers.py:403: BadInitialCandidatesWarning: Unable to find non-zero acquisition function values - initial conditions are being selected randomly.\n",
      "  warnings.warn(\n"
     ]
    },
    {
     "output_type": "stream",
     "name": "stdout",
     "text": [
      "query 157\n"
     ]
    },
    {
     "output_type": "stream",
     "name": "stderr",
     "text": [
      "/Users/harabasz/miniforge3/envs/pyroot/lib/python3.11/site-packages/botorch/optim/initializers.py:403: BadInitialCandidatesWarning: Unable to find non-zero acquisition function values - initial conditions are being selected randomly.\n",
      "  warnings.warn(\n"
     ]
    },
    {
     "output_type": "stream",
     "name": "stdout",
     "text": [
      "Before reweighting hists 18:28:26\n",
      "After reweighting hists 18:28:26\n",
      "query 158\n"
     ]
    },
    {
     "output_type": "stream",
     "name": "stderr",
     "text": [
      "/Users/harabasz/miniforge3/envs/pyroot/lib/python3.11/site-packages/botorch/optim/initializers.py:403: BadInitialCandidatesWarning: Unable to find non-zero acquisition function values - initial conditions are being selected randomly.\n",
      "  warnings.warn(\n"
     ]
    },
    {
     "output_type": "stream",
     "name": "stdout",
     "text": [
      "query 159\n"
     ]
    },
    {
     "output_type": "stream",
     "name": "stderr",
     "text": [
      "/Users/harabasz/miniforge3/envs/pyroot/lib/python3.11/site-packages/botorch/optim/initializers.py:403: BadInitialCandidatesWarning: Unable to find non-zero acquisition function values - initial conditions are being selected randomly.\n",
      "  warnings.warn(\n"
     ]
    },
    {
     "output_type": "stream",
     "name": "stdout",
     "text": [
      "query 160\n"
     ]
    },
    {
     "output_type": "stream",
     "name": "stderr",
     "text": [
      "/Users/harabasz/miniforge3/envs/pyroot/lib/python3.11/site-packages/botorch/optim/initializers.py:403: BadInitialCandidatesWarning: Unable to find non-zero acquisition function values - initial conditions are being selected randomly.\n",
      "  warnings.warn(\n"
     ]
    },
    {
     "output_type": "stream",
     "name": "stdout",
     "text": [
      "query 161\n"
     ]
    },
    {
     "output_type": "stream",
     "name": "stderr",
     "text": [
      "/Users/harabasz/miniforge3/envs/pyroot/lib/python3.11/site-packages/botorch/optim/initializers.py:403: BadInitialCandidatesWarning: Unable to find non-zero acquisition function values - initial conditions are being selected randomly.\n",
      "  warnings.warn(\n"
     ]
    },
    {
     "output_type": "stream",
     "name": "stdout",
     "text": [
      "query 162\n"
     ]
    },
    {
     "output_type": "stream",
     "name": "stderr",
     "text": [
      "/Users/harabasz/miniforge3/envs/pyroot/lib/python3.11/site-packages/botorch/optim/initializers.py:403: BadInitialCandidatesWarning: Unable to find non-zero acquisition function values - initial conditions are being selected randomly.\n",
      "  warnings.warn(\n"
     ]
    },
    {
     "output_type": "stream",
     "name": "stdout",
     "text": [
      "query 163\n"
     ]
    },
    {
     "output_type": "stream",
     "name": "stderr",
     "text": [
      "/Users/harabasz/miniforge3/envs/pyroot/lib/python3.11/site-packages/botorch/optim/initializers.py:403: BadInitialCandidatesWarning: Unable to find non-zero acquisition function values - initial conditions are being selected randomly.\n",
      "  warnings.warn(\n"
     ]
    },
    {
     "output_type": "stream",
     "name": "stdout",
     "text": [
      "query 164\n"
     ]
    },
    {
     "output_type": "stream",
     "name": "stderr",
     "text": [
      "/Users/harabasz/miniforge3/envs/pyroot/lib/python3.11/site-packages/botorch/optim/initializers.py:403: BadInitialCandidatesWarning: Unable to find non-zero acquisition function values - initial conditions are being selected randomly.\n",
      "  warnings.warn(\n"
     ]
    },
    {
     "output_type": "stream",
     "name": "stdout",
     "text": [
      "query 165\n"
     ]
    },
    {
     "output_type": "stream",
     "name": "stderr",
     "text": [
      "/Users/harabasz/miniforge3/envs/pyroot/lib/python3.11/site-packages/botorch/optim/initializers.py:403: BadInitialCandidatesWarning: Unable to find non-zero acquisition function values - initial conditions are being selected randomly.\n",
      "  warnings.warn(\n"
     ]
    },
    {
     "output_type": "stream",
     "name": "stdout",
     "text": [
      "query 166\n"
     ]
    },
    {
     "output_type": "stream",
     "name": "stderr",
     "text": [
      "/Users/harabasz/miniforge3/envs/pyroot/lib/python3.11/site-packages/botorch/optim/initializers.py:403: BadInitialCandidatesWarning: Unable to find non-zero acquisition function values - initial conditions are being selected randomly.\n",
      "  warnings.warn(\n"
     ]
    },
    {
     "output_type": "stream",
     "name": "stdout",
     "text": [
      "query 167\n",
      "Before reweighting hists 18:29:12\n",
      "After reweighting hists 18:29:12\n",
      "query 168\n"
     ]
    },
    {
     "output_type": "stream",
     "name": "stderr",
     "text": [
      "/Users/harabasz/miniforge3/envs/pyroot/lib/python3.11/site-packages/botorch/optim/initializers.py:403: BadInitialCandidatesWarning: Unable to find non-zero acquisition function values - initial conditions are being selected randomly.\n",
      "  warnings.warn(\n"
     ]
    },
    {
     "output_type": "stream",
     "name": "stdout",
     "text": [
      "query 169\n"
     ]
    },
    {
     "output_type": "stream",
     "name": "stderr",
     "text": [
      "/Users/harabasz/miniforge3/envs/pyroot/lib/python3.11/site-packages/botorch/optim/initializers.py:403: BadInitialCandidatesWarning: Unable to find non-zero acquisition function values - initial conditions are being selected randomly.\n",
      "  warnings.warn(\n"
     ]
    },
    {
     "output_type": "stream",
     "name": "stdout",
     "text": [
      "query 170\n"
     ]
    },
    {
     "output_type": "stream",
     "name": "stderr",
     "text": [
      "/Users/harabasz/miniforge3/envs/pyroot/lib/python3.11/site-packages/botorch/optim/initializers.py:403: BadInitialCandidatesWarning: Unable to find non-zero acquisition function values - initial conditions are being selected randomly.\n",
      "  warnings.warn(\n"
     ]
    },
    {
     "output_type": "stream",
     "name": "stdout",
     "text": [
      "query 171\n"
     ]
    },
    {
     "output_type": "stream",
     "name": "stderr",
     "text": [
      "/Users/harabasz/miniforge3/envs/pyroot/lib/python3.11/site-packages/botorch/optim/initializers.py:403: BadInitialCandidatesWarning: Unable to find non-zero acquisition function values - initial conditions are being selected randomly.\n",
      "  warnings.warn(\n"
     ]
    },
    {
     "output_type": "stream",
     "name": "stdout",
     "text": [
      "query 172\n"
     ]
    },
    {
     "output_type": "stream",
     "name": "stderr",
     "text": [
      "/Users/harabasz/miniforge3/envs/pyroot/lib/python3.11/site-packages/botorch/optim/initializers.py:403: BadInitialCandidatesWarning: Unable to find non-zero acquisition function values - initial conditions are being selected randomly.\n",
      "  warnings.warn(\n"
     ]
    },
    {
     "output_type": "stream",
     "name": "stdout",
     "text": [
      "query 173\n"
     ]
    },
    {
     "output_type": "stream",
     "name": "stderr",
     "text": [
      "/Users/harabasz/miniforge3/envs/pyroot/lib/python3.11/site-packages/botorch/optim/initializers.py:403: BadInitialCandidatesWarning: Unable to find non-zero acquisition function values - initial conditions are being selected randomly.\n",
      "  warnings.warn(\n"
     ]
    },
    {
     "output_type": "stream",
     "name": "stdout",
     "text": [
      "query 174\n"
     ]
    },
    {
     "output_type": "stream",
     "name": "stderr",
     "text": [
      "/Users/harabasz/miniforge3/envs/pyroot/lib/python3.11/site-packages/botorch/optim/initializers.py:403: BadInitialCandidatesWarning: Unable to find non-zero acquisition function values - initial conditions are being selected randomly.\n",
      "  warnings.warn(\n"
     ]
    },
    {
     "output_type": "stream",
     "name": "stdout",
     "text": [
      "query 175\n",
      "query 176\n"
     ]
    },
    {
     "output_type": "stream",
     "name": "stderr",
     "text": [
      "/Users/harabasz/miniforge3/envs/pyroot/lib/python3.11/site-packages/botorch/optim/initializers.py:403: BadInitialCandidatesWarning: Unable to find non-zero acquisition function values - initial conditions are being selected randomly.\n",
      "  warnings.warn(\n"
     ]
    },
    {
     "output_type": "stream",
     "name": "stdout",
     "text": [
      "query 177\n"
     ]
    },
    {
     "output_type": "stream",
     "name": "stderr",
     "text": [
      "/Users/harabasz/miniforge3/envs/pyroot/lib/python3.11/site-packages/botorch/optim/initializers.py:403: BadInitialCandidatesWarning: Unable to find non-zero acquisition function values - initial conditions are being selected randomly.\n",
      "  warnings.warn(\n"
     ]
    },
    {
     "output_type": "stream",
     "name": "stdout",
     "text": [
      "Before reweighting hists 18:30:02\n",
      "After reweighting hists 18:30:02\n",
      "query 178\n"
     ]
    },
    {
     "output_type": "stream",
     "name": "stderr",
     "text": [
      "/Users/harabasz/miniforge3/envs/pyroot/lib/python3.11/site-packages/botorch/optim/initializers.py:403: BadInitialCandidatesWarning: Unable to find non-zero acquisition function values - initial conditions are being selected randomly.\n",
      "  warnings.warn(\n"
     ]
    },
    {
     "output_type": "stream",
     "name": "stdout",
     "text": [
      "query 179\n"
     ]
    },
    {
     "output_type": "stream",
     "name": "stderr",
     "text": [
      "/Users/harabasz/miniforge3/envs/pyroot/lib/python3.11/site-packages/botorch/optim/initializers.py:403: BadInitialCandidatesWarning: Unable to find non-zero acquisition function values - initial conditions are being selected randomly.\n",
      "  warnings.warn(\n"
     ]
    },
    {
     "output_type": "stream",
     "name": "stdout",
     "text": [
      "query 180\n"
     ]
    },
    {
     "output_type": "stream",
     "name": "stderr",
     "text": [
      "/Users/harabasz/miniforge3/envs/pyroot/lib/python3.11/site-packages/botorch/optim/initializers.py:403: BadInitialCandidatesWarning: Unable to find non-zero acquisition function values - initial conditions are being selected randomly.\n",
      "  warnings.warn(\n"
     ]
    },
    {
     "output_type": "stream",
     "name": "stdout",
     "text": [
      "query 181\n"
     ]
    },
    {
     "output_type": "stream",
     "name": "stderr",
     "text": [
      "/Users/harabasz/miniforge3/envs/pyroot/lib/python3.11/site-packages/botorch/optim/initializers.py:403: BadInitialCandidatesWarning: Unable to find non-zero acquisition function values - initial conditions are being selected randomly.\n",
      "  warnings.warn(\n"
     ]
    },
    {
     "output_type": "stream",
     "name": "stdout",
     "text": [
      "query 182\n"
     ]
    },
    {
     "output_type": "stream",
     "name": "stderr",
     "text": [
      "/Users/harabasz/miniforge3/envs/pyroot/lib/python3.11/site-packages/botorch/optim/initializers.py:403: BadInitialCandidatesWarning: Unable to find non-zero acquisition function values - initial conditions are being selected randomly.\n",
      "  warnings.warn(\n"
     ]
    },
    {
     "output_type": "stream",
     "name": "stdout",
     "text": [
      "query 183\n"
     ]
    },
    {
     "output_type": "stream",
     "name": "stderr",
     "text": [
      "/Users/harabasz/miniforge3/envs/pyroot/lib/python3.11/site-packages/botorch/optim/initializers.py:403: BadInitialCandidatesWarning: Unable to find non-zero acquisition function values - initial conditions are being selected randomly.\n",
      "  warnings.warn(\n"
     ]
    },
    {
     "output_type": "stream",
     "name": "stdout",
     "text": [
      "query 184\n"
     ]
    },
    {
     "output_type": "stream",
     "name": "stderr",
     "text": [
      "/Users/harabasz/miniforge3/envs/pyroot/lib/python3.11/site-packages/botorch/optim/initializers.py:403: BadInitialCandidatesWarning: Unable to find non-zero acquisition function values - initial conditions are being selected randomly.\n",
      "  warnings.warn(\n"
     ]
    },
    {
     "output_type": "stream",
     "name": "stdout",
     "text": [
      "query 185\n"
     ]
    },
    {
     "output_type": "stream",
     "name": "stderr",
     "text": [
      "/Users/harabasz/miniforge3/envs/pyroot/lib/python3.11/site-packages/botorch/optim/initializers.py:403: BadInitialCandidatesWarning: Unable to find non-zero acquisition function values - initial conditions are being selected randomly.\n",
      "  warnings.warn(\n"
     ]
    },
    {
     "output_type": "stream",
     "name": "stdout",
     "text": [
      "query 186\n"
     ]
    },
    {
     "output_type": "stream",
     "name": "stderr",
     "text": [
      "/Users/harabasz/miniforge3/envs/pyroot/lib/python3.11/site-packages/botorch/optim/initializers.py:403: BadInitialCandidatesWarning: Unable to find non-zero acquisition function values - initial conditions are being selected randomly.\n",
      "  warnings.warn(\n"
     ]
    },
    {
     "output_type": "stream",
     "name": "stdout",
     "text": [
      "query 187\n"
     ]
    },
    {
     "output_type": "stream",
     "name": "stderr",
     "text": [
      "/Users/harabasz/miniforge3/envs/pyroot/lib/python3.11/site-packages/botorch/optim/initializers.py:403: BadInitialCandidatesWarning: Unable to find non-zero acquisition function values - initial conditions are being selected randomly.\n",
      "  warnings.warn(\n"
     ]
    },
    {
     "output_type": "stream",
     "name": "stdout",
     "text": [
      "Before reweighting hists 18:30:59\n",
      "After reweighting hists 18:30:59\n",
      "query 188\n"
     ]
    },
    {
     "output_type": "stream",
     "name": "stderr",
     "text": [
      "/Users/harabasz/miniforge3/envs/pyroot/lib/python3.11/site-packages/botorch/optim/initializers.py:403: BadInitialCandidatesWarning: Unable to find non-zero acquisition function values - initial conditions are being selected randomly.\n",
      "  warnings.warn(\n"
     ]
    },
    {
     "output_type": "stream",
     "name": "stdout",
     "text": [
      "query 189\n"
     ]
    },
    {
     "output_type": "stream",
     "name": "stderr",
     "text": [
      "/Users/harabasz/miniforge3/envs/pyroot/lib/python3.11/site-packages/botorch/optim/initializers.py:403: BadInitialCandidatesWarning: Unable to find non-zero acquisition function values - initial conditions are being selected randomly.\n",
      "  warnings.warn(\n"
     ]
    },
    {
     "output_type": "stream",
     "name": "stdout",
     "text": [
      "query 190\n"
     ]
    },
    {
     "output_type": "stream",
     "name": "stderr",
     "text": [
      "/Users/harabasz/miniforge3/envs/pyroot/lib/python3.11/site-packages/botorch/optim/initializers.py:403: BadInitialCandidatesWarning: Unable to find non-zero acquisition function values - initial conditions are being selected randomly.\n",
      "  warnings.warn(\n"
     ]
    },
    {
     "output_type": "stream",
     "name": "stdout",
     "text": [
      "query 191\n"
     ]
    },
    {
     "output_type": "stream",
     "name": "stderr",
     "text": [
      "/Users/harabasz/miniforge3/envs/pyroot/lib/python3.11/site-packages/botorch/optim/initializers.py:403: BadInitialCandidatesWarning: Unable to find non-zero acquisition function values - initial conditions are being selected randomly.\n",
      "  warnings.warn(\n"
     ]
    },
    {
     "output_type": "stream",
     "name": "stdout",
     "text": [
      "query 192\n"
     ]
    },
    {
     "output_type": "stream",
     "name": "stderr",
     "text": [
      "/Users/harabasz/miniforge3/envs/pyroot/lib/python3.11/site-packages/botorch/optim/initializers.py:403: BadInitialCandidatesWarning: Unable to find non-zero acquisition function values - initial conditions are being selected randomly.\n",
      "  warnings.warn(\n"
     ]
    },
    {
     "output_type": "stream",
     "name": "stdout",
     "text": [
      "query 193\n",
      "query 194\n"
     ]
    },
    {
     "output_type": "stream",
     "name": "stderr",
     "text": [
      "/Users/harabasz/miniforge3/envs/pyroot/lib/python3.11/site-packages/botorch/optim/initializers.py:403: BadInitialCandidatesWarning: Unable to find non-zero acquisition function values - initial conditions are being selected randomly.\n",
      "  warnings.warn(\n"
     ]
    },
    {
     "output_type": "stream",
     "name": "stdout",
     "text": [
      "query 195\n"
     ]
    },
    {
     "output_type": "stream",
     "name": "stderr",
     "text": [
      "/Users/harabasz/miniforge3/envs/pyroot/lib/python3.11/site-packages/botorch/optim/initializers.py:403: BadInitialCandidatesWarning: Unable to find non-zero acquisition function values - initial conditions are being selected randomly.\n",
      "  warnings.warn(\n"
     ]
    },
    {
     "output_type": "stream",
     "name": "stdout",
     "text": [
      "query 196\n"
     ]
    },
    {
     "output_type": "stream",
     "name": "stderr",
     "text": [
      "/Users/harabasz/miniforge3/envs/pyroot/lib/python3.11/site-packages/botorch/optim/initializers.py:403: BadInitialCandidatesWarning: Unable to find non-zero acquisition function values - initial conditions are being selected randomly.\n",
      "  warnings.warn(\n"
     ]
    },
    {
     "output_type": "stream",
     "name": "stdout",
     "text": [
      "query 197\n"
     ]
    },
    {
     "output_type": "stream",
     "name": "stderr",
     "text": [
      "/Users/harabasz/miniforge3/envs/pyroot/lib/python3.11/site-packages/botorch/optim/initializers.py:403: BadInitialCandidatesWarning: Unable to find non-zero acquisition function values - initial conditions are being selected randomly.\n",
      "  warnings.warn(\n"
     ]
    },
    {
     "output_type": "stream",
     "name": "stdout",
     "text": [
      "Before reweighting hists 18:32:01\n",
      "After reweighting hists 18:32:01\n",
      "query 198\n"
     ]
    },
    {
     "output_type": "stream",
     "name": "stderr",
     "text": [
      "/Users/harabasz/miniforge3/envs/pyroot/lib/python3.11/site-packages/botorch/optim/initializers.py:403: BadInitialCandidatesWarning: Unable to find non-zero acquisition function values - initial conditions are being selected randomly.\n",
      "  warnings.warn(\n"
     ]
    },
    {
     "output_type": "stream",
     "name": "stdout",
     "text": [
      "query 199\n"
     ]
    },
    {
     "output_type": "stream",
     "name": "stderr",
     "text": [
      "/Users/harabasz/miniforge3/envs/pyroot/lib/python3.11/site-packages/botorch/optim/initializers.py:403: BadInitialCandidatesWarning: Unable to find non-zero acquisition function values - initial conditions are being selected randomly.\n",
      "  warnings.warn(\n"
     ]
    }
   ],
   "metadata": {}
  },
  {
   "cell_type": "code",
   "execution_count": 10,
   "source": [
    "torch.save(feasible_incumbents, f\"./incumbents.pth\")\n",
    "fout = TFile(\"out.root\", \"RECREATE\")\n",
    "fout.cd()\n",
    "for hist in allHistsMC:\n",
    "    print (\"Writing hist: \", hist.GetName())\n",
    "    hist.Write()\n",
    "for j, hists in enumerate(histsData):\n",
    "    for k, hist in enumerate(hists):\n",
    "            hist.Write()\n",
    "            print (\"Writing hist: \", j, k, hist)\n",
    "fout.Close()"
   ],
   "outputs": [
    {
     "output_type": "stream",
     "name": "stdout",
     "text": [
      "Writing hist:  hist_150to300_m06m02_MC_iter2\n",
      "Writing hist:  hist_150to300_m06m02_MC_iter3\n",
      "Writing hist:  hist_150to300_m06m02_MC_iter4\n",
      "Writing hist:  hist_150to300_m06m02_MC_iter5\n",
      "Writing hist:  hist_150to300_m06m02_MC_iter6\n",
      "Writing hist:  hist_150to300_m06m02_MC_iter7\n",
      "Writing hist:  hist_150to300_m06m02_MC_iter8\n",
      "Writing hist:  hist_150to300_m06m02_MC_iter9\n",
      "Writing hist:  hist_150to300_m06m02_MC_iter10\n",
      "Writing hist:  hist_150to300_m06m02_MC_iter11\n",
      "Writing hist:  hist_150to300_m06m02_MC_iter12\n",
      "Writing hist:  hist_150to300_m06m02_MC_iter13\n",
      "Writing hist:  hist_150to300_m06m02_MC_iter14\n",
      "Writing hist:  hist_150to300_m06m02_MC_iter15\n",
      "Writing hist:  hist_150to300_m06m02_MC_iter16\n",
      "Writing hist:  hist_150to300_m06m02_MC_iter17\n",
      "Writing hist:  hist_150to300_m06m02_MC_iter18\n",
      "Writing hist:  hist_150to300_m06m02_MC_iter19\n",
      "Writing hist:  hist_150to300_m06m02_MC_iter20\n",
      "Writing hist:  hist_150to300_m06m02_MC_iter21\n",
      "Writing hist:  hist_150to300_m06m02_MC_iter22\n",
      "Writing hist:  hist_150to300_m06m02_MC_iter23\n",
      "Writing hist:  hist_150to300_m06m02_MC_iter24\n",
      "Writing hist:  hist_150to300_m06m02_MC_iter25\n",
      "Writing hist:  hist_150to300_m06m02_MC_iter26\n",
      "Writing hist:  hist_150to300_m06m02_MC_iter27\n",
      "Writing hist:  hist_150to300_m06m02_MC_iter28\n",
      "Writing hist:  hist_150to300_m06m02_MC_iter29\n",
      "Writing hist:  hist_150to300_m06m02_MC_iter30\n",
      "Writing hist:  hist_150to300_m06m02_MC_iter31\n",
      "Writing hist:  hist_150to300_m06m02_MC_iter32\n",
      "Writing hist:  hist_150to300_m06m02_MC_iter33\n",
      "Writing hist:  hist_150to300_m06m02_MC_iter34\n",
      "Writing hist:  hist_150to300_m06m02_MC_iter35\n",
      "Writing hist:  hist_150to300_m06m02_MC_iter36\n",
      "Writing hist:  hist_150to300_m06m02_MC_iter37\n",
      "Writing hist:  hist_150to300_m06m02_MC_iter38\n",
      "Writing hist:  hist_150to300_m06m02_MC_iter39\n",
      "Writing hist:  hist_150to300_m06m02_MC_iter40\n",
      "Writing hist:  hist_150to300_m06m02_MC_iter41\n",
      "Writing hist:  hist_150to300_m06m02_MC_iter42\n",
      "Writing hist:  hist_150to300_m06m02_MC_iter43\n",
      "Writing hist:  hist_150to300_m06m02_MC_iter44\n",
      "Writing hist:  hist_150to300_m06m02_MC_iter45\n",
      "Writing hist:  hist_150to300_m06m02_MC_iter46\n",
      "Writing hist:  hist_150to300_m06m02_MC_iter47\n",
      "Writing hist:  hist_150to300_m06m02_MC_iter48\n",
      "Writing hist:  hist_150to300_m06m02_MC_iter49\n",
      "Writing hist:  hist_150to300_m06m02_MC_iter50\n",
      "Writing hist:  hist_150to300_m06m02_MC_iter51\n",
      "Writing hist:  hist_150to300_m06m02_MC_iter52\n",
      "Writing hist:  hist_150to300_m06m02_MC_iter53\n",
      "Writing hist:  hist_150to300_m06m02_MC_iter54\n",
      "Writing hist:  hist_150to300_m06m02_MC_iter55\n",
      "Writing hist:  hist_150to300_m06m02_MC_iter56\n",
      "Writing hist:  hist_150to300_m06m02_MC_iter57\n",
      "Writing hist:  hist_150to300_m06m02_MC_iter58\n",
      "Writing hist:  hist_150to300_m06m02_MC_iter59\n",
      "Writing hist:  hist_150to300_m06m02_MC_iter60\n",
      "Writing hist:  hist_150to300_m06m02_MC_iter61\n",
      "Writing hist:  hist_150to300_m06m02_MC_iter62\n",
      "Writing hist:  hist_150to300_m06m02_MC_iter63\n",
      "Writing hist:  hist_150to300_m06m02_MC_iter64\n",
      "Writing hist:  hist_150to300_m06m02_MC_iter65\n",
      "Writing hist:  hist_150to300_m06m02_MC_iter66\n",
      "Writing hist:  hist_150to300_m06m02_MC_iter67\n",
      "Writing hist:  hist_150to300_m06m02_MC_iter68\n",
      "Writing hist:  hist_150to300_m06m02_MC_iter69\n",
      "Writing hist:  hist_150to300_m06m02_MC_iter70\n",
      "Writing hist:  hist_150to300_m06m02_MC_iter71\n",
      "Writing hist:  hist_150to300_m06m02_MC_iter72\n",
      "Writing hist:  hist_150to300_m06m02_MC_iter73\n",
      "Writing hist:  hist_150to300_m06m02_MC_iter74\n",
      "Writing hist:  hist_150to300_m06m02_MC_iter75\n",
      "Writing hist:  hist_150to300_m06m02_MC_iter76\n",
      "Writing hist:  hist_150to300_m06m02_MC_iter77\n",
      "Writing hist:  hist_150to300_m06m02_MC_iter78\n",
      "Writing hist:  hist_150to300_m06m02_MC_iter79\n",
      "Writing hist:  hist_150to300_m06m02_MC_iter80\n",
      "Writing hist:  hist_150to300_m06m02_MC_iter81\n",
      "Writing hist:  hist_150to300_m06m02_MC_iter82\n",
      "Writing hist:  hist_150to300_m06m02_MC_iter83\n",
      "Writing hist:  hist_150to300_m06m02_MC_iter84\n",
      "Writing hist:  hist_150to300_m06m02_MC_iter85\n",
      "Writing hist:  hist_150to300_m06m02_MC_iter86\n",
      "Writing hist:  hist_150to300_m06m02_MC_iter87\n",
      "Writing hist:  hist_150to300_m06m02_MC_iter88\n",
      "Writing hist:  hist_150to300_m06m02_MC_iter89\n",
      "Writing hist:  hist_150to300_m06m02_MC_iter90\n",
      "Writing hist:  hist_150to300_m06m02_MC_iter91\n",
      "Writing hist:  hist_150to300_m06m02_MC_iter92\n",
      "Writing hist:  hist_150to300_m06m02_MC_iter93\n",
      "Writing hist:  hist_150to300_m06m02_MC_iter94\n",
      "Writing hist:  hist_150to300_m06m02_MC_iter95\n",
      "Writing hist:  hist_150to300_m06m02_MC_iter96\n",
      "Writing hist:  hist_150to300_m06m02_MC_iter97\n",
      "Writing hist:  hist_150to300_m06m02_MC_iter98\n",
      "Writing hist:  hist_150to300_m06m02_MC_iter99\n",
      "Writing hist:  hist_150to300_m06m02_MC_iter100\n",
      "Writing hist:  hist_150to300_m06m02_MC_iter101\n",
      "Writing hist:  hist_150to300_m06m02_MC_iter102\n",
      "Writing hist:  hist_150to300_m06m02_MC_iter103\n",
      "Writing hist:  hist_150to300_m06m02_MC_iter104\n",
      "Writing hist:  hist_150to300_m06m02_MC_iter105\n",
      "Writing hist:  hist_150to300_m06m02_MC_iter106\n",
      "Writing hist:  hist_150to300_m06m02_MC_iter107\n",
      "Writing hist:  hist_150to300_m06m02_MC_iter108\n",
      "Writing hist:  hist_150to300_m06m02_MC_iter109\n",
      "Writing hist:  hist_150to300_m06m02_MC_iter110\n",
      "Writing hist:  hist_150to300_m06m02_MC_iter111\n",
      "Writing hist:  hist_150to300_m06m02_MC_iter112\n",
      "Writing hist:  hist_150to300_m06m02_MC_iter113\n",
      "Writing hist:  hist_150to300_m06m02_MC_iter114\n",
      "Writing hist:  hist_150to300_m06m02_MC_iter115\n",
      "Writing hist:  hist_150to300_m06m02_MC_iter116\n",
      "Writing hist:  hist_150to300_m06m02_MC_iter117\n",
      "Writing hist:  hist_150to300_m06m02_MC_iter118\n",
      "Writing hist:  hist_150to300_m06m02_MC_iter119\n",
      "Writing hist:  hist_150to300_m06m02_MC_iter120\n",
      "Writing hist:  hist_150to300_m06m02_MC_iter121\n",
      "Writing hist:  hist_150to300_m06m02_MC_iter122\n",
      "Writing hist:  hist_150to300_m06m02_MC_iter123\n",
      "Writing hist:  hist_150to300_m06m02_MC_iter124\n",
      "Writing hist:  hist_150to300_m06m02_MC_iter125\n",
      "Writing hist:  hist_150to300_m06m02_MC_iter126\n",
      "Writing hist:  hist_150to300_m06m02_MC_iter127\n",
      "Writing hist:  hist_150to300_m06m02_MC_iter128\n",
      "Writing hist:  hist_150to300_m06m02_MC_iter129\n",
      "Writing hist:  hist_150to300_m06m02_MC_iter130\n",
      "Writing hist:  hist_150to300_m06m02_MC_iter131\n",
      "Writing hist:  hist_150to300_m06m02_MC_iter132\n",
      "Writing hist:  hist_150to300_m06m02_MC_iter133\n",
      "Writing hist:  hist_150to300_m06m02_MC_iter134\n",
      "Writing hist:  hist_150to300_m06m02_MC_iter135\n",
      "Writing hist:  hist_150to300_m06m02_MC_iter136\n",
      "Writing hist:  hist_150to300_m06m02_MC_iter137\n",
      "Writing hist:  hist_150to300_m06m02_MC_iter138\n",
      "Writing hist:  hist_150to300_m06m02_MC_iter139\n",
      "Writing hist:  hist_150to300_m06m02_MC_iter140\n",
      "Writing hist:  hist_150to300_m06m02_MC_iter141\n",
      "Writing hist:  hist_150to300_m06m02_MC_iter142\n",
      "Writing hist:  hist_150to300_m06m02_MC_iter143\n",
      "Writing hist:  hist_150to300_m06m02_MC_iter144\n",
      "Writing hist:  hist_150to300_m06m02_MC_iter145\n",
      "Writing hist:  hist_150to300_m06m02_MC_iter146\n",
      "Writing hist:  hist_150to300_m06m02_MC_iter147\n",
      "Writing hist:  hist_150to300_m06m02_MC_iter148\n",
      "Writing hist:  hist_150to300_m06m02_MC_iter149\n",
      "Writing hist:  hist_150to300_m06m02_MC_iter150\n",
      "Writing hist:  hist_150to300_m06m02_MC_iter151\n",
      "Writing hist:  hist_150to300_m06m02_MC_iter152\n",
      "Writing hist:  hist_150to300_m06m02_MC_iter153\n",
      "Writing hist:  hist_150to300_m06m02_MC_iter154\n",
      "Writing hist:  hist_150to300_m06m02_MC_iter155\n",
      "Writing hist:  hist_150to300_m06m02_MC_iter156\n",
      "Writing hist:  hist_150to300_m06m02_MC_iter157\n",
      "Writing hist:  hist_150to300_m06m02_MC_iter158\n",
      "Writing hist:  hist_150to300_m06m02_MC_iter159\n",
      "Writing hist:  hist_150to300_m06m02_MC_iter160\n",
      "Writing hist:  hist_150to300_m06m02_MC_iter161\n",
      "Writing hist:  hist_150to300_m06m02_MC_iter162\n",
      "Writing hist:  hist_150to300_m06m02_MC_iter163\n",
      "Writing hist:  hist_150to300_m06m02_MC_iter164\n",
      "Writing hist:  hist_150to300_m06m02_MC_iter165\n",
      "Writing hist:  hist_150to300_m06m02_MC_iter166\n",
      "Writing hist:  hist_150to300_m06m02_MC_iter167\n",
      "Writing hist:  hist_150to300_m06m02_MC_iter168\n",
      "Writing hist:  hist_150to300_m06m02_MC_iter169\n",
      "Writing hist:  hist_150to300_m06m02_MC_iter170\n",
      "Writing hist:  hist_150to300_m06m02_MC_iter171\n",
      "Writing hist:  hist_150to300_m06m02_MC_iter172\n",
      "Writing hist:  hist_150to300_m06m02_MC_iter173\n",
      "Writing hist:  hist_150to300_m06m02_MC_iter174\n",
      "Writing hist:  hist_150to300_m06m02_MC_iter175\n",
      "Writing hist:  hist_150to300_m06m02_MC_iter176\n",
      "Writing hist:  hist_150to300_m06m02_MC_iter177\n",
      "Writing hist:  hist_150to300_m06m02_MC_iter178\n",
      "Writing hist:  hist_150to300_m06m02_MC_iter179\n",
      "Writing hist:  hist_150to300_m06m02_MC_iter180\n",
      "Writing hist:  hist_150to300_m06m02_MC_iter181\n",
      "Writing hist:  hist_150to300_m06m02_MC_iter182\n",
      "Writing hist:  hist_150to300_m06m02_MC_iter183\n",
      "Writing hist:  hist_150to300_m06m02_MC_iter184\n",
      "Writing hist:  hist_150to300_m06m02_MC_iter185\n",
      "Writing hist:  hist_150to300_m06m02_MC_iter186\n",
      "Writing hist:  hist_150to300_m06m02_MC_iter187\n",
      "Writing hist:  hist_150to300_m06m02_MC_iter188\n",
      "Writing hist:  hist_150to300_m06m02_MC_iter189\n",
      "Writing hist:  hist_150to300_m06m02_MC_iter190\n",
      "Writing hist:  hist_150to300_m06m02_MC_iter191\n",
      "Writing hist:  hist_150to300_m06m02_MC_iter192\n",
      "Writing hist:  hist_150to300_m06m02_MC_iter193\n",
      "Writing hist:  hist_150to300_m06m02_MC_iter194\n",
      "Writing hist:  hist_150to300_m06m02_MC_iter195\n",
      "Writing hist:  hist_150to300_m06m02_MC_iter196\n",
      "Writing hist:  hist_150to300_m06m02_MC_iter197\n",
      "Writing hist:  hist_150to300_m06m02_MC_iter198\n",
      "Writing hist:  hist_150to300_m06m02_MC_iter199\n",
      "Writing hist:  hist_150to300_m06m02_MC_iter200\n",
      "Writing hist:  hist_150to300_m06m02_MC_iter201\n",
      "Writing hist:  hist_150to300_m06m02_MC_iter202\n",
      "Writing hist:  0 0 Name: hist_0to150_m06m02_data_iter1 Title: hist_0to150_m06m02_data_iter1 NbinsX: 20\n",
      "Writing hist:  0 1 Name: hist_0to150_m02p01_data_iter1 Title: hist_0to150_m02p01_data_iter1 NbinsX: 20\n",
      "Writing hist:  0 2 Name: hist_0to150_p01p08_data_iter1 Title: hist_0to150_p01p08_data_iter1 NbinsX: 20\n",
      "Writing hist:  0 3 Name: hist_150to300_m06m02_data_iter1 Title: hist_150to300_m06m02_data_iter1 NbinsX: 20\n",
      "Writing hist:  0 4 Name: hist_150to300_m02p01_data_iter1 Title: hist_150to300_m02p01_data_iter1 NbinsX: 20\n",
      "Writing hist:  0 5 Name: hist_150to300_p01p08_data_iter1 Title: hist_150to300_p01p08_data_iter1 NbinsX: 20\n",
      "Writing hist:  0 6 Name: hist_300to450_m06m02_data_iter1 Title: hist_300to450_m06m02_data_iter1 NbinsX: 20\n",
      "Writing hist:  0 7 Name: hist_300to450_m02p01_data_iter1 Title: hist_300to450_m02p01_data_iter1 NbinsX: 20\n",
      "Writing hist:  0 8 Name: hist_300to450_p01p08_data_iter1 Title: hist_300to450_p01p08_data_iter1 NbinsX: 20\n",
      "Writing hist:  0 9 Name: hist_450to600_m06m02_data_iter1 Title: hist_450to600_m06m02_data_iter1 NbinsX: 20\n",
      "Writing hist:  0 10 Name: hist_450to600_m02p01_data_iter1 Title: hist_450to600_m02p01_data_iter1 NbinsX: 20\n",
      "Writing hist:  0 11 Name: hist_450to600_p01p08_data_iter1 Title: hist_450to600_p01p08_data_iter1 NbinsX: 20\n",
      "Writing hist:  1 0 Name: hmass_data Title: hmass_data NbinsX: 100\n",
      "Writing hist:  2 0 Name: hz_data Title: hz_data NbinsX: 100\n"
     ]
    }
   ],
   "metadata": {}
  },
  {
   "cell_type": "code",
   "execution_count": 11,
   "source": [
    "t = torch.tensor( [ [-1.0000, -0.4678,  0.5433]])\n",
    "print(t)\n",
    "print(t.shape)"
   ],
   "outputs": [
    {
     "output_type": "stream",
     "name": "stdout",
     "text": [
      "tensor([[-1.0000, -0.4678,  0.5433]])\n",
      "torch.Size([1, 3])\n"
     ]
    }
   ],
   "metadata": {}
  },
  {
   "cell_type": "code",
   "execution_count": 12,
   "source": [
    "with torch.no_grad():\n",
    "    predictive_distribution = utility_likelihood(utility_model(xs))\n",
    "    predictive_mean = predictive_distribution.mean\n",
    "    predictive_lower, predictive_upper = predictive_distribution.confidence_region()\n"
   ],
   "outputs": [],
   "metadata": {}
  },
  {
   "cell_type": "code",
   "execution_count": 13,
   "source": [
    "from ipywidgets import interact, Layout, IntSlider\n",
    "import numpy as np\n",
    "\n",
    "axis_titles = [r\"R of cone coordinates\", r\"$\\Phi$ of cone coordinates\", r\"Z of cone coordinates\"]\n",
    "\n",
    "def oneplot(ax, tensor, index, cmap, title, transpose=None):\n",
    "        \n",
    "        global xs\n",
    "        tensor_3d = torch.reshape(tensor, (101,101,101))\n",
    "        xs_3d = torch.reshape(xs, (101,101,101,3))\n",
    "        if transpose:\n",
    "               tensor_3d = tensor_3d.transpose(transpose[0],transpose[1])\n",
    "               xs_3d     = xs_3d    .transpose(transpose[0],transpose[1])\n",
    "        if transpose is None:\n",
    "                extent=[\n",
    "                        xs_3d[0][0][0][1],\n",
    "                        xs_3d[0][-1][0][1],\n",
    "                        xs_3d[0][0][0][2],\n",
    "                        xs_3d[0][0][-1][2],\n",
    "                ]\n",
    "        elif transpose == (0,1):\n",
    "                extent=[\n",
    "                        xs_3d[0][0][0][0],\n",
    "                        xs_3d[0][-1][0][0],\n",
    "                        xs_3d[0][0][0][2],\n",
    "                        xs_3d[0][0][-1][2],\n",
    "                ]\n",
    "        elif transpose == (0,2):\n",
    "                extent=[\n",
    "                        xs_3d[0][0][0][1],\n",
    "                        xs_3d[0][-1][0][1],\n",
    "                        xs_3d[0][0][0][0],\n",
    "                        xs_3d[0][0][-1][0],\n",
    "                ]\n",
    "        if transpose is None:\n",
    "                x_title=axis_titles[1]\n",
    "                y_title=axis_titles[2]\n",
    "        elif transpose == (0, 1):\n",
    "                x_title=axis_titles[0]\n",
    "                y_title=axis_titles[2]\n",
    "        elif transpose == (0,2):\n",
    "                x_title=axis_titles[1]\n",
    "                y_title=axis_titles[0]\n",
    "        \n",
    "        pos = ax.imshow(tensor_3d[index], cmap=cmap, interpolation=\"nearest\", origin=\"lower\", \n",
    "                vmin=tensor.min(), vmax=tensor.max(), extent=extent)\n",
    "        ax.set_aspect((extent[1]-extent[0])/(extent[3]-extent[2]))\n",
    "        ax.set_title(title)\n",
    "        ax.set_xlabel(x_title)\n",
    "        ax.set_ylabel(y_title)\n",
    "        plt.colorbar(pos,fraction=0.046, pad=0.04)\n",
    "\n",
    "def ff(x, transpose):\n",
    "        cmap = \"gist_rainbow\"\n",
    "        fig, ax = plt.subplots(nrows=1, ncols=2, sharey=True)\n",
    "        oneplot(ax[0], predictive_mean, x, cmap, \"value\", transpose)\n",
    "        oneplot(ax[1], predictive_upper-predictive_lower, x, cmap, \"confidence int. width\", transpose)\n",
    "\n",
    "def f(x):\n",
    "        ff(x, None)\n",
    "\n",
    "interact(f, x=IntSlider(50, 0, 100, 1, layout=Layout(width='500px')))\n"
   ],
   "outputs": [
    {
     "output_type": "display_data",
     "data": {
      "application/vnd.jupyter.widget-view+json": {
       "version_major": 2,
       "version_minor": 0,
       "model_id": "1ebfe799b3d64ad6a79054fe9d652af6"
      },
      "text/plain": [
       "interactive(children=(IntSlider(value=50, description='x', layout=Layout(width='500px')), Output()), _dom_clas…"
      ]
     },
     "metadata": {}
    },
    {
     "output_type": "execute_result",
     "data": {
      "text/plain": [
       "<function __main__.f(x)>"
      ]
     },
     "metadata": {},
     "execution_count": 13
    }
   ],
   "metadata": {}
  },
  {
   "cell_type": "code",
   "execution_count": 14,
   "source": [
    "def g(x):\n",
    "        ff(x, (0,1))\n",
    "           \n",
    "interact(g, x=IntSlider(50, 0, 100, 1, layout=Layout(width='500px')))"
   ],
   "outputs": [
    {
     "output_type": "display_data",
     "data": {
      "application/vnd.jupyter.widget-view+json": {
       "version_major": 2,
       "version_minor": 0,
       "model_id": "fca5db1021094a48a38ce55b4f86db8a"
      },
      "text/plain": [
       "interactive(children=(IntSlider(value=50, description='x', layout=Layout(width='500px')), Output()), _dom_clas…"
      ]
     },
     "metadata": {}
    },
    {
     "output_type": "execute_result",
     "data": {
      "text/plain": [
       "<function __main__.g(x)>"
      ]
     },
     "metadata": {},
     "execution_count": 14
    }
   ],
   "metadata": {}
  },
  {
   "cell_type": "code",
   "execution_count": 15,
   "source": [
    "def h(x):\n",
    "        ff(x, (0,2))\n",
    "           \n",
    "interact(h, x=IntSlider(50, 0, 100, 1, layout=Layout(width='500px')))"
   ],
   "outputs": [
    {
     "output_type": "display_data",
     "data": {
      "application/vnd.jupyter.widget-view+json": {
       "version_major": 2,
       "version_minor": 0,
       "model_id": "bd6e0794aea644d997b7690727cd9453"
      },
      "text/plain": [
       "interactive(children=(IntSlider(value=50, description='x', layout=Layout(width='500px')), Output()), _dom_clas…"
      ]
     },
     "metadata": {}
    },
    {
     "output_type": "execute_result",
     "data": {
      "text/plain": [
       "<function __main__.h(x)>"
      ]
     },
     "metadata": {},
     "execution_count": 15
    }
   ],
   "metadata": {}
  },
  {
   "cell_type": "code",
   "execution_count": 16,
   "source": [
    "lds = all_lambdas(train_x)\n",
    "lambda_thetas     = lds.transpose(-2,-1)[0]\n",
    "lambda_phis       = lds.transpose(-2,-1)[1]\n",
    "lambda_theta_phis = lds.transpose(-2,-1)[2]\n",
    "c = torch.stack((\n",
    "    torch.arange(0,200, dtype=int),\n",
    "    lambda_thetas[0:200],\n",
    "    lambda_phis[0:200],\n",
    "    lambda_theta_phis[0:200],\n",
    "    train_utility.squeeze()[0:200],\n",
    "    (feasible_incumbents==feasible_incumbents.max())[0],\n",
    "    feasible_incumbents[0]\n",
    "),0).transpose(-2,-1)\n",
    "torch.set_printoptions(precision=4,threshold=10_000, linewidth=120)\n",
    "print(c)"
   ],
   "outputs": [
    {
     "output_type": "stream",
     "name": "stdout",
     "text": [
      "tensor([[ 0.0000e+00,  1.4517e-01, -3.9563e-01, -3.4861e-01,  1.5016e+03,  0.0000e+00,  1.5016e+03],\n",
      "        [ 1.0000e+00,  4.3991e-01, -4.5304e-03, -3.2986e-01,  2.3159e+03,  0.0000e+00,  2.3159e+03],\n",
      "        [ 2.0000e+00, -3.7373e-01, -1.9562e-01, -3.7715e-01,  1.6148e+03,  0.0000e+00,  2.3159e+03],\n",
      "        [ 3.0000e+00,  2.9956e-01,  8.5219e-02, -9.7784e-02,  2.6021e+03,  0.0000e+00,  2.6021e+03],\n",
      "        [ 4.0000e+00,  4.2767e-01,  2.1275e-01, -9.8776e-02,  2.4187e+03,  0.0000e+00,  2.6021e+03],\n",
      "        [ 5.0000e+00,  2.4926e-01,  1.1828e-01, -2.8194e-01,  2.2922e+03,  0.0000e+00,  2.6021e+03],\n",
      "        [ 6.0000e+00,  2.7761e-01, -5.2928e-01,  1.5710e-02,  1.3425e+03,  0.0000e+00,  2.6021e+03],\n",
      "        [ 7.0000e+00,  3.3824e-01,  2.9721e-02, -1.5726e-02,  2.7111e+03,  0.0000e+00,  2.7111e+03],\n",
      "        [ 8.0000e+00,  3.7124e-01, -5.9183e-01,  5.7932e-01,  1.0154e+03,  0.0000e+00,  2.7111e+03],\n",
      "        [ 9.0000e+00,  3.1788e-01, -3.6938e-01, -1.7612e-01,  1.7448e+03,  0.0000e+00,  2.7111e+03],\n",
      "        [ 1.0000e+01,  2.9518e-01, -2.7499e-02, -2.8346e-02,  2.6604e+03,  0.0000e+00,  2.7111e+03],\n",
      "        [ 1.1000e+01,  7.9090e-01,  7.3737e-01,  1.0010e-01,  1.1755e+03,  0.0000e+00,  2.7111e+03],\n",
      "        [ 1.2000e+01,  6.8856e-01,  6.9658e-01,  6.3083e-02,  1.2314e+03,  0.0000e+00,  2.7111e+03],\n",
      "        [ 1.3000e+01,  3.4728e-01,  2.8341e-02, -3.8471e-03,  2.7209e+03,  0.0000e+00,  2.7209e+03],\n",
      "        [ 1.4000e+01,  3.0472e-01, -2.0461e-02, -1.3212e-02,  2.6791e+03,  0.0000e+00,  2.7209e+03],\n",
      "        [ 1.5000e+01,  2.2128e-01, -1.5824e-01, -1.5960e-03,  2.3936e+03,  0.0000e+00,  2.7209e+03],\n",
      "        [ 1.6000e+01, -2.2956e-01,  8.6887e-03, -1.0793e-01,  2.2650e+03,  0.0000e+00,  2.7209e+03],\n",
      "        [ 1.7000e+01,  5.6897e-01, -3.4379e-01, -6.3469e-02,  1.9478e+03,  0.0000e+00,  2.7209e+03],\n",
      "        [ 1.8000e+01,  5.5018e-01,  7.8836e-02,  3.8812e-02,  2.7697e+03,  0.0000e+00,  2.7697e+03],\n",
      "        [ 1.9000e+01,  5.1853e-01,  1.2204e-01,  2.7706e-02,  2.7105e+03,  0.0000e+00,  2.7697e+03],\n",
      "        [ 2.0000e+01,  5.6940e-01,  2.0326e-02,  3.8877e-02,  2.7911e+03,  0.0000e+00,  2.7911e+03],\n",
      "        [ 2.1000e+01,  4.3665e-02, -4.8040e-01, -3.4986e-03,  1.3640e+03,  0.0000e+00,  2.7911e+03],\n",
      "        [ 2.2000e+01,  4.5393e-02, -2.9355e-01,  5.4908e-02,  1.8917e+03,  0.0000e+00,  2.7911e+03],\n",
      "        [ 2.3000e+01,  9.3888e-02, -1.8820e-01, -1.5195e-01,  2.1623e+03,  0.0000e+00,  2.7911e+03],\n",
      "        [ 2.4000e+01,  6.3807e-01,  1.0813e-01, -6.8243e-02,  2.6774e+03,  0.0000e+00,  2.7911e+03],\n",
      "        [ 2.5000e+01, -4.9193e-01,  2.3618e-03, -8.2299e-02,  2.0014e+03,  0.0000e+00,  2.7911e+03],\n",
      "        [ 2.6000e+01, -2.3047e-01, -3.4401e-01, -3.4689e-01,  1.4390e+03,  0.0000e+00,  2.7911e+03],\n",
      "        [ 2.7000e+01,  6.0200e-01,  5.5218e-04,  4.6736e-02,  2.7904e+03,  0.0000e+00,  2.7911e+03],\n",
      "        [ 2.8000e+01,  5.8748e-01,  3.3547e-01, -1.8413e-01,  2.0523e+03,  0.0000e+00,  2.7911e+03],\n",
      "        [ 2.9000e+01, -6.5852e-02,  6.9049e-02,  4.2123e-03,  2.4579e+03,  0.0000e+00,  2.7911e+03],\n",
      "        [ 3.0000e+01, -3.2786e-01, -3.0610e-01,  2.4578e-03,  1.5973e+03,  0.0000e+00,  2.7911e+03],\n",
      "        [ 3.1000e+01,  6.7805e-01,  4.5479e-01,  8.7018e-03,  1.8371e+03,  0.0000e+00,  2.7911e+03],\n",
      "        [ 3.2000e+01,  6.0981e-01,  3.4224e-01, -9.8027e-02,  2.1081e+03,  0.0000e+00,  2.7911e+03],\n",
      "        [ 3.3000e+01,  6.2296e-01,  4.9149e-01,  7.6690e-02,  1.7236e+03,  0.0000e+00,  2.7911e+03],\n",
      "        [ 3.4000e+01,  2.4448e-01, -4.1857e-01, -4.3381e-01,  1.4246e+03,  0.0000e+00,  2.7911e+03],\n",
      "        [ 3.5000e+01,  2.2734e-01,  3.4462e-01, -1.1489e-01,  1.9615e+03,  0.0000e+00,  2.7911e+03],\n",
      "        [ 3.6000e+01,  2.3298e-02,  5.6189e-02, -2.9923e-01,  2.2083e+03,  0.0000e+00,  2.7911e+03],\n",
      "        [ 3.7000e+01,  5.2636e-01, -8.6601e-03,  4.0374e-02,  2.7733e+03,  0.0000e+00,  2.7911e+03],\n",
      "        [ 3.8000e+01,  6.7131e-01, -3.4334e-01,  1.6142e-01,  1.9765e+03,  0.0000e+00,  2.7911e+03],\n",
      "        [ 3.9000e+01,  6.2962e-01, -5.6290e-01,  1.6545e-01,  1.3579e+03,  0.0000e+00,  2.7911e+03],\n",
      "        [ 4.0000e+01,  7.5254e-01,  2.8078e-01, -1.5394e-01,  2.2501e+03,  0.0000e+00,  2.7911e+03],\n",
      "        [ 4.1000e+01,  1.5616e-01,  1.1776e-01,  3.0682e-01,  2.3890e+03,  0.0000e+00,  2.7911e+03],\n",
      "        [ 4.2000e+01,  5.7866e-01, -6.1532e-01,  2.5674e-01,  1.2007e+03,  0.0000e+00,  2.7911e+03],\n",
      "        [ 4.3000e+01,  1.9053e-01, -4.1683e-01,  5.5523e-01,  1.2784e+03,  0.0000e+00,  2.7911e+03],\n",
      "        [ 4.4000e+01,  4.3023e-01,  9.5545e-02, -1.1867e-02,  2.7047e+03,  0.0000e+00,  2.7911e+03],\n",
      "        [ 4.5000e+01, -2.2119e-01,  1.6154e-01,  2.6519e-01,  2.0419e+03,  0.0000e+00,  2.7911e+03],\n",
      "        [ 4.6000e+01, -2.9494e-01,  2.1179e-02,  1.6325e-01,  2.1839e+03,  0.0000e+00,  2.7911e+03],\n",
      "        [ 4.7000e+01,  8.8208e-01,  4.9473e-01, -1.0375e-01,  1.7267e+03,  0.0000e+00,  2.7911e+03],\n",
      "        [ 4.8000e+01,  5.9222e-01, -5.0722e-01,  8.4862e-02,  1.4995e+03,  0.0000e+00,  2.7911e+03],\n",
      "        [ 4.9000e+01,  4.1116e-01, -2.9636e-01,  1.7308e-01,  2.0335e+03,  0.0000e+00,  2.7911e+03],\n",
      "        [ 5.0000e+01,  1.2453e-01,  4.4516e-02,  6.0029e-02,  2.6212e+03,  0.0000e+00,  2.7911e+03],\n",
      "        [ 5.1000e+01, -4.9859e-02, -3.8042e-01,  1.0803e-01,  1.5617e+03,  0.0000e+00,  2.7911e+03],\n",
      "        [ 5.2000e+01,  5.8094e-01,  1.0015e-01,  2.9335e-01,  2.6417e+03,  0.0000e+00,  2.7911e+03],\n",
      "        [ 5.3000e+01, -4.2520e-01, -2.0142e-01, -1.2603e-01,  1.7595e+03,  0.0000e+00,  2.7911e+03],\n",
      "        [ 5.4000e+01,  1.5984e-01, -4.5114e-01, -2.7317e-01,  1.4247e+03,  0.0000e+00,  2.7911e+03],\n",
      "        [ 5.5000e+01,  4.1053e-01,  4.3246e-01, -1.3030e-02,  1.8163e+03,  0.0000e+00,  2.7911e+03],\n",
      "        [ 5.6000e+01, -3.0207e-02, -2.6802e-01, -2.5283e-01,  1.8034e+03,  0.0000e+00,  2.7911e+03],\n",
      "        [ 5.7000e+01,  7.3162e-01,  2.9700e-01, -9.6391e-02,  2.2570e+03,  0.0000e+00,  2.7911e+03],\n",
      "        [ 5.8000e+01,  6.3340e-01,  2.6563e-01,  5.9918e-02,  2.4127e+03,  0.0000e+00,  2.7911e+03],\n",
      "        [ 5.9000e+01,  8.0671e-01, -4.8601e-01, -2.5606e-01,  1.5347e+03,  0.0000e+00,  2.7911e+03],\n",
      "        [ 6.0000e+01,  4.8884e-01, -4.0718e-02, -4.0346e-01,  2.1759e+03,  0.0000e+00,  2.7911e+03],\n",
      "        [ 6.1000e+01,  6.3064e-01,  6.0597e-01,  1.9067e-01,  1.4094e+03,  0.0000e+00,  2.7911e+03],\n",
      "        [ 6.2000e+01,  6.5341e-01,  4.9787e-01, -1.4701e-03,  1.7043e+03,  0.0000e+00,  2.7911e+03],\n",
      "        [ 6.3000e+01,  4.4859e-01,  1.2091e-01, -1.5697e-01,  2.5349e+03,  0.0000e+00,  2.7911e+03],\n",
      "        [ 6.4000e+01,  5.9237e-01, -4.9217e-01, -6.4682e-02,  1.5363e+03,  0.0000e+00,  2.7911e+03],\n",
      "        [ 6.5000e+01,  4.5058e-01,  3.5073e-03,  3.3328e-01,  2.5645e+03,  0.0000e+00,  2.7911e+03],\n",
      "        [ 6.6000e+01,  6.6541e-01,  1.4091e-01,  1.8894e-02,  2.6951e+03,  0.0000e+00,  2.7911e+03],\n",
      "        [ 6.7000e+01,  1.6279e-01, -9.7597e-03,  1.1841e-01,  2.6205e+03,  0.0000e+00,  2.7911e+03],\n",
      "        [ 6.8000e+01,  5.6795e-01,  2.8046e-02,  4.1531e-02,  2.7926e+03,  0.0000e+00,  2.7926e+03],\n",
      "        [ 6.9000e+01,  6.4600e-01, -7.8786e-01, -2.8696e-01,  9.3294e+02,  0.0000e+00,  2.7926e+03],\n",
      "        [ 7.0000e+01,  6.4226e-01,  4.7763e-01,  2.3420e-01,  1.7441e+03,  0.0000e+00,  2.7926e+03],\n",
      "        [ 7.1000e+01,  6.3801e-01,  5.0565e-01, -2.4469e-02,  1.6730e+03,  0.0000e+00,  2.7926e+03],\n",
      "        [ 7.2000e+01,  2.2441e-01, -1.3018e-01,  1.4448e-02,  2.4694e+03,  0.0000e+00,  2.7926e+03],\n",
      "        [ 7.3000e+01,  3.5483e-02, -4.2756e-01, -3.6533e-02,  1.4974e+03,  0.0000e+00,  2.7926e+03],\n",
      "        [ 7.4000e+01,  5.0531e-01,  4.3230e-02,  6.0723e-02,  2.7857e+03,  0.0000e+00,  2.7926e+03],\n",
      "        [ 7.5000e+01,  3.1735e-01,  1.7884e-03,  3.5629e-02,  2.7175e+03,  0.0000e+00,  2.7926e+03],\n",
      "        [ 7.6000e+01,  1.6892e-01, -2.1158e-01,  1.5032e-02,  2.2182e+03,  0.0000e+00,  2.7926e+03],\n",
      "        [ 7.7000e+01,  2.2845e-01,  2.9830e-01, -1.9191e-01,  2.0316e+03,  0.0000e+00,  2.7926e+03],\n",
      "        [ 7.8000e+01,  6.3458e-01,  2.5620e-01,  2.5126e-01,  2.3896e+03,  0.0000e+00,  2.7926e+03],\n",
      "        [ 7.9000e+01,  2.5007e-01, -1.9544e-02,  3.2650e-01,  2.4517e+03,  0.0000e+00,  2.7926e+03],\n",
      "        [ 8.0000e+01,  1.8929e-01,  1.9447e-01,  4.7267e-03,  2.4322e+03,  0.0000e+00,  2.7926e+03],\n",
      "        [ 8.1000e+01,  4.9587e-01,  2.1428e-01,  1.1833e-01,  2.5232e+03,  0.0000e+00,  2.7926e+03],\n",
      "        [ 8.2000e+01,  6.1658e-01,  7.5886e-01, -4.1924e-02,  1.0857e+03,  0.0000e+00,  2.7926e+03],\n",
      "        [ 8.3000e+01,  6.2060e-01,  8.2150e-03,  6.5728e-02,  2.7999e+03,  0.0000e+00,  2.7999e+03],\n",
      "        [ 8.4000e+01,  5.6401e-01,  4.7481e-02,  9.2178e-02,  2.7979e+03,  0.0000e+00,  2.7999e+03],\n",
      "        [ 8.5000e+01,  5.5301e-01,  7.2813e-03,  7.3824e-02,  2.7926e+03,  0.0000e+00,  2.7999e+03],\n",
      "        [ 8.6000e+01,  3.7363e-01,  1.6067e-01,  5.5601e-02,  2.6081e+03,  0.0000e+00,  2.7999e+03],\n",
      "        [ 8.7000e+01,  1.3213e-01,  1.0100e-01,  1.0076e-01,  2.5782e+03,  0.0000e+00,  2.7999e+03],\n",
      "        [ 8.8000e+01, -9.9754e-02,  1.3923e-01, -2.5281e-01,  2.1225e+03,  0.0000e+00,  2.7999e+03],\n",
      "        [ 8.9000e+01,  6.0425e-01, -2.3546e-02, -9.3432e-02,  2.6787e+03,  0.0000e+00,  2.7999e+03],\n",
      "        [ 9.0000e+01,  2.8663e-01, -1.3315e-01,  1.2888e-01,  2.4810e+03,  0.0000e+00,  2.7999e+03],\n",
      "        [ 9.1000e+01, -1.2264e-03,  1.2598e-01,  5.5599e-02,  2.4514e+03,  0.0000e+00,  2.7999e+03],\n",
      "        [ 9.2000e+01,  6.0858e-01,  4.5343e-01, -5.1154e-02,  1.8051e+03,  0.0000e+00,  2.7999e+03],\n",
      "        [ 9.3000e+01,  9.1207e-01, -4.6726e-01, -1.0945e-01,  1.6577e+03,  0.0000e+00,  2.7999e+03],\n",
      "        [ 9.4000e+01,  3.3725e-01,  3.9639e-02,  3.4009e-02,  2.7311e+03,  0.0000e+00,  2.7999e+03],\n",
      "        [ 9.5000e+01,  4.9277e-01,  6.1496e-01,  4.6487e-02,  1.3547e+03,  0.0000e+00,  2.7999e+03],\n",
      "        [ 9.6000e+01,  6.4015e-02, -4.2551e-01, -2.0316e-02,  1.5179e+03,  0.0000e+00,  2.7999e+03],\n",
      "        [ 9.7000e+01,  4.7159e-01,  3.7903e-01, -1.1970e-01,  1.9495e+03,  0.0000e+00,  2.7999e+03],\n",
      "        [ 9.8000e+01,  8.9673e-01,  8.3620e-01,  6.8173e-02,  1.0254e+03,  0.0000e+00,  2.7999e+03],\n",
      "        [ 9.9000e+01,  5.2777e-01,  2.5950e-01, -1.6632e-02,  2.3804e+03,  0.0000e+00,  2.7999e+03],\n",
      "        [ 1.0000e+02, -4.6208e-02, -3.5079e-03,  4.0065e-02,  2.4838e+03,  0.0000e+00,  2.7999e+03],\n",
      "        [ 1.0100e+02,  8.1014e-02, -4.0997e-01,  1.8687e-01,  1.5231e+03,  0.0000e+00,  2.7999e+03],\n",
      "        [ 1.0200e+02,  6.5833e-01, -5.6722e-01,  1.7582e-01,  1.3536e+03,  0.0000e+00,  2.7999e+03],\n",
      "        [ 1.0300e+02,  5.8926e-01,  4.6949e-01,  5.2920e-03,  1.7693e+03,  0.0000e+00,  2.7999e+03],\n",
      "        [ 1.0400e+02,  6.7653e-01,  2.4126e-01,  1.8217e-01,  2.4774e+03,  0.0000e+00,  2.7999e+03],\n",
      "        [ 1.0500e+02,  1.2457e-01, -3.5351e-01,  4.3359e-03,  1.7568e+03,  0.0000e+00,  2.7999e+03],\n",
      "        [ 1.0600e+02,  1.2413e-01, -3.7497e-01, -9.4859e-02,  1.6791e+03,  0.0000e+00,  2.7999e+03],\n",
      "        [ 1.0700e+02,  5.3050e-01, -1.4276e-01,  3.7254e-01,  2.3242e+03,  0.0000e+00,  2.7999e+03],\n",
      "        [ 1.0800e+02, -7.5149e-01, -4.9915e-02,  3.0286e-01,  1.4501e+03,  0.0000e+00,  2.7999e+03],\n",
      "        [ 1.0900e+02,  1.5241e-01, -4.4307e-01,  1.8732e-01,  1.4702e+03,  0.0000e+00,  2.7999e+03],\n",
      "        [ 1.1000e+02, -1.2447e-01,  3.3608e-01, -1.7520e-01,  1.7495e+03,  0.0000e+00,  2.7999e+03],\n",
      "        [ 1.1100e+02,  4.9569e-01,  2.7634e-01,  9.9658e-02,  2.3497e+03,  0.0000e+00,  2.7999e+03],\n",
      "        [ 1.1200e+02,  6.9661e-01,  5.3788e-01, -7.7543e-02,  1.5862e+03,  0.0000e+00,  2.7999e+03],\n",
      "        [ 1.1300e+02,  5.7749e-01,  4.2115e-01,  3.1713e-02,  1.9162e+03,  0.0000e+00,  2.7999e+03],\n",
      "        [ 1.1400e+02,  7.5196e-01, -7.5417e-01, -3.4106e-01,  9.9390e+02,  0.0000e+00,  2.7999e+03],\n",
      "        [ 1.1500e+02, -3.5892e-02,  4.3373e-01, -1.4763e-01,  1.5555e+03,  0.0000e+00,  2.7999e+03],\n",
      "        [ 1.1600e+02,  2.6571e-01, -1.9645e-01, -3.4979e-01,  1.9939e+03,  0.0000e+00,  2.7999e+03],\n",
      "        [ 1.1700e+02,  3.0872e-01, -2.4937e-01,  2.2953e-01,  2.0972e+03,  0.0000e+00,  2.7999e+03],\n",
      "        [ 1.1800e+02,  3.4882e-01, -6.1597e-01, -3.3106e-01,  1.1242e+03,  0.0000e+00,  2.7999e+03],\n",
      "        [ 1.1900e+02,  7.1726e-01,  5.6595e-01,  3.6549e-03,  1.5385e+03,  0.0000e+00,  2.7999e+03],\n",
      "        [ 1.2000e+02, -6.2247e-02, -4.0430e-02,  1.9063e-01,  2.3608e+03,  0.0000e+00,  2.7999e+03],\n",
      "        [ 1.2100e+02,  1.5904e-02, -7.9660e-02, -3.1298e-01,  2.1281e+03,  0.0000e+00,  2.7999e+03],\n",
      "        [ 1.2200e+02,  4.8792e-01,  3.1780e-01,  4.4411e-02,  2.2152e+03,  0.0000e+00,  2.7999e+03],\n",
      "        [ 1.2300e+02,  4.9937e-01,  4.5907e-01,  1.2867e-01,  1.7768e+03,  0.0000e+00,  2.7999e+03],\n",
      "        [ 1.2400e+02,  2.3583e-01, -1.5483e-01,  5.9862e-03,  2.4117e+03,  0.0000e+00,  2.7999e+03],\n",
      "        [ 1.2500e+02,  5.0956e-02,  2.4276e-01, -8.5564e-02,  2.1781e+03,  0.0000e+00,  2.7999e+03],\n",
      "        [ 1.2600e+02,  1.5483e-01,  6.6059e-02, -5.0695e-02,  2.5908e+03,  0.0000e+00,  2.7999e+03],\n",
      "        [ 1.2700e+02,  7.5116e-01,  6.4775e-01, -7.3440e-02,  1.3376e+03,  0.0000e+00,  2.7999e+03],\n",
      "        [ 1.2800e+02,  2.3015e-01, -4.7610e-01, -5.5317e-02,  1.4561e+03,  0.0000e+00,  2.7999e+03],\n",
      "        [ 1.2900e+02,  6.8844e-01,  4.1227e-01,  2.6179e-02,  1.9710e+03,  0.0000e+00,  2.7999e+03],\n",
      "        [ 1.3000e+02,  1.0069e-01, -4.4441e-01,  4.9869e-03,  1.4844e+03,  0.0000e+00,  2.7999e+03],\n",
      "        [ 1.3100e+02,  5.4826e-01, -5.7949e-01, -1.0773e-01,  1.3086e+03,  0.0000e+00,  2.7999e+03],\n",
      "        [ 1.3200e+02,  4.9259e-01,  4.2470e-01,  1.9373e-01,  1.8640e+03,  0.0000e+00,  2.7999e+03],\n",
      "        [ 1.3300e+02, -2.9375e-01, -1.3052e-01, -8.9964e-02,  2.0487e+03,  0.0000e+00,  2.7999e+03],\n",
      "        [ 1.3400e+02,  5.6952e-01, -2.0327e-01,  7.2402e-02,  2.4017e+03,  0.0000e+00,  2.7999e+03],\n",
      "        [ 1.3500e+02, -4.7412e-01, -2.0835e-01,  4.3611e-01,  1.3707e+03,  0.0000e+00,  2.7999e+03],\n",
      "        [ 1.3600e+02,  6.4646e-01,  3.6950e-01, -1.3094e-02,  2.0802e+03,  0.0000e+00,  2.7999e+03],\n",
      "        [ 1.3700e+02,  5.2942e-01,  2.0527e-01, -1.3797e-01,  2.4203e+03,  0.0000e+00,  2.7999e+03],\n",
      "        [ 1.3800e+02,  7.2166e-01,  7.3252e-01, -5.2839e-02,  1.1602e+03,  0.0000e+00,  2.7999e+03],\n",
      "        [ 1.3900e+02,  4.3998e-02, -4.4403e-01,  4.1773e-02,  1.4542e+03,  0.0000e+00,  2.7999e+03],\n",
      "        [ 1.4000e+02,  2.9240e-01, -2.3908e-01, -2.5505e-01,  2.0234e+03,  0.0000e+00,  2.7999e+03],\n",
      "        [ 1.4100e+02,  3.9491e-01, -4.2261e-01,  2.1816e-01,  1.6220e+03,  0.0000e+00,  2.7999e+03],\n",
      "        [ 1.4200e+02,  3.0776e-01, -3.4880e-01,  1.9615e-01,  1.8123e+03,  0.0000e+00,  2.7999e+03],\n",
      "        [ 1.4300e+02, -2.6846e-02, -4.8319e-01, -6.7202e-01,  1.0522e+03,  0.0000e+00,  2.7999e+03],\n",
      "        [ 1.4400e+02, -4.7797e-02, -7.6469e-02,  1.3899e-01,  2.3644e+03,  0.0000e+00,  2.7999e+03],\n",
      "        [ 1.4500e+02,  2.0865e-01, -6.7031e-02,  8.7903e-02,  2.5900e+03,  0.0000e+00,  2.7999e+03],\n",
      "        [ 1.4600e+02,  5.8583e-01, -5.2675e-01,  1.3127e-01,  1.4400e+03,  0.0000e+00,  2.7999e+03],\n",
      "        [ 1.4700e+02,  7.5276e-01,  4.6016e-01,  1.2509e-02,  1.8394e+03,  0.0000e+00,  2.7999e+03],\n",
      "        [ 1.4800e+02,  9.4558e-01,  6.9245e-01,  6.7731e-02,  1.3022e+03,  0.0000e+00,  2.7999e+03],\n",
      "        [ 1.4900e+02,  5.2829e-01,  4.7054e-01,  2.1108e-01,  1.7340e+03,  0.0000e+00,  2.7999e+03],\n",
      "        [ 1.5000e+02, -3.2717e-01, -9.7454e-02,  6.5538e-03,  2.0993e+03,  0.0000e+00,  2.7999e+03],\n",
      "        [ 1.5100e+02,  1.7163e-01,  2.3977e-01,  1.3476e-01,  2.2987e+03,  0.0000e+00,  2.7999e+03],\n",
      "        [ 1.5200e+02,  5.8596e-01,  2.4222e-02,  5.6980e-02,  2.7986e+03,  0.0000e+00,  2.7999e+03],\n",
      "        [ 1.5300e+02,  3.6626e-01, -4.4441e-01, -1.0095e-01,  1.5846e+03,  0.0000e+00,  2.7999e+03],\n",
      "        [ 1.5400e+02,  5.7789e-01,  6.1448e-01,  1.7691e-01,  1.3746e+03,  0.0000e+00,  2.7999e+03],\n",
      "        [ 1.5500e+02,  5.2066e-01, -7.3610e-01,  4.0145e-01,  9.1976e+02,  0.0000e+00,  2.7999e+03],\n",
      "        [ 1.5600e+02,  6.5080e-01,  6.9182e-01, -7.8250e-02,  1.2183e+03,  0.0000e+00,  2.7999e+03],\n",
      "        [ 1.5700e+02,  1.7635e-01, -2.7448e-01, -5.7090e-02,  2.0156e+03,  0.0000e+00,  2.7999e+03],\n",
      "        [ 1.5800e+02,  1.7096e-01, -1.7865e-02, -4.7070e-01,  1.9749e+03,  0.0000e+00,  2.7999e+03],\n",
      "        [ 1.5900e+02,  1.5365e-01, -2.4192e-01,  3.9832e-03,  2.1168e+03,  0.0000e+00,  2.7999e+03],\n",
      "        [ 1.6000e+02,  5.1820e-01,  2.6871e-01, -2.5584e-01,  2.1289e+03,  0.0000e+00,  2.7999e+03],\n",
      "        [ 1.6100e+02,  9.7796e-02,  1.7020e-01,  2.1701e-01,  2.3660e+03,  0.0000e+00,  2.7999e+03],\n",
      "        [ 1.6200e+02,  7.0508e-01,  4.0753e-01,  3.0728e-02,  1.9902e+03,  0.0000e+00,  2.7999e+03],\n",
      "        [ 1.6300e+02,  2.6650e-01,  2.5653e-01,  2.4100e-01,  2.2441e+03,  0.0000e+00,  2.7999e+03],\n",
      "        [ 1.6400e+02,  2.2021e-01, -2.1146e-01,  3.1904e-02,  2.2472e+03,  0.0000e+00,  2.7999e+03],\n",
      "        [ 1.6500e+02,  5.5886e-01,  3.4471e-01,  3.0553e-01,  2.0702e+03,  0.0000e+00,  2.7999e+03],\n",
      "        [ 1.6600e+02,  4.9774e-01, -6.7523e-01, -2.9164e-02,  1.1036e+03,  0.0000e+00,  2.7999e+03],\n",
      "        [ 1.6700e+02,  2.1003e-01,  8.6728e-02,  1.8074e-01,  2.6025e+03,  0.0000e+00,  2.7999e+03],\n",
      "        [ 1.6800e+02,  4.8575e-01,  4.1936e-02,  9.7584e-02,  2.7834e+03,  0.0000e+00,  2.7999e+03],\n",
      "        [ 1.6900e+02,  8.0594e-01,  3.7605e-01,  7.8082e-03,  2.0965e+03,  0.0000e+00,  2.7999e+03],\n",
      "        [ 1.7000e+02,  6.3083e-01,  2.5544e-01,  2.2036e-01,  2.4108e+03,  0.0000e+00,  2.7999e+03],\n",
      "        [ 1.7100e+02,  5.7043e-01,  3.7098e-01,  6.5094e-03,  2.0636e+03,  0.0000e+00,  2.7999e+03],\n",
      "        [ 1.7200e+02,  6.2806e-01,  4.7193e-01,  2.3829e-01,  1.7545e+03,  0.0000e+00,  2.7999e+03],\n",
      "        [ 1.7300e+02,  1.1264e-01, -2.4498e-01, -4.1192e-01,  1.7563e+03,  0.0000e+00,  2.7999e+03],\n",
      "        [ 1.7400e+02,  9.6992e-02, -3.8313e-01,  5.4512e-01,  1.3084e+03,  0.0000e+00,  2.7999e+03],\n",
      "        [ 1.7500e+02,  7.6968e-01,  8.6631e-02,  3.0509e-02,  2.7690e+03,  0.0000e+00,  2.7999e+03],\n",
      "        [ 1.7600e+02,  6.7174e-01,  4.5237e-02,  4.5328e-02,  2.7997e+03,  0.0000e+00,  2.7999e+03],\n",
      "        [ 1.7700e+02,  1.5849e-01, -1.0036e-02, -8.0618e-02,  2.5705e+03,  0.0000e+00,  2.7999e+03],\n",
      "        [ 1.7800e+02,  1.1839e-01, -1.7242e-01, -2.7247e-02,  2.2917e+03,  0.0000e+00,  2.7999e+03],\n",
      "        [ 1.7900e+02,  4.5665e-01,  2.9467e-01, -4.6995e-02,  2.2417e+03,  0.0000e+00,  2.7999e+03],\n",
      "        [ 1.8000e+02,  2.9379e-01, -1.9684e-01, -2.6127e-02,  2.3134e+03,  0.0000e+00,  2.7999e+03],\n",
      "        [ 1.8100e+02,  6.2377e-01,  6.4037e-01, -1.1284e-01,  1.3122e+03,  0.0000e+00,  2.7999e+03],\n",
      "        [ 1.8200e+02, -1.8186e-02, -4.8700e-01, -3.5228e-01,  1.2367e+03,  0.0000e+00,  2.7999e+03],\n",
      "        [ 1.8300e+02,  3.5658e-01,  4.8913e-02, -4.0179e-01,  2.1642e+03,  0.0000e+00,  2.7999e+03],\n",
      "        [ 1.8400e+02,  6.1340e-01,  1.2144e-01, -5.2037e-02,  2.6734e+03,  0.0000e+00,  2.7999e+03],\n",
      "        [ 1.8500e+02,  7.0444e-01,  7.9029e-01, -4.0428e-02,  1.0530e+03,  0.0000e+00,  2.7999e+03],\n",
      "        [ 1.8600e+02,  2.7754e-01,  9.8233e-02,  8.9099e-03,  2.6575e+03,  0.0000e+00,  2.7999e+03],\n",
      "        [ 1.8700e+02,  5.6940e-01,  3.0295e-01, -2.6211e-02,  2.2587e+03,  0.0000e+00,  2.7999e+03],\n",
      "        [ 1.8800e+02,  3.0729e-01,  2.4937e-02, -7.6277e-03,  2.7036e+03,  0.0000e+00,  2.7999e+03],\n",
      "        [ 1.8900e+02,  3.5529e-01, -2.0362e-01, -9.9646e-02,  2.2792e+03,  0.0000e+00,  2.7999e+03],\n",
      "        [ 1.9000e+02, -1.8901e-01, -3.2178e-01, -4.8851e-01,  1.3868e+03,  0.0000e+00,  2.7999e+03],\n",
      "        [ 1.9100e+02,  3.2992e-01, -9.4723e-02, -1.4160e-01,  2.4820e+03,  0.0000e+00,  2.7999e+03],\n",
      "        [ 1.9200e+02,  6.3283e-01,  5.6774e-01,  1.6433e-02,  1.5129e+03,  0.0000e+00,  2.7999e+03],\n",
      "        [ 1.9300e+02, -9.6603e-02,  1.1656e-01, -3.4915e-01,  2.0099e+03,  0.0000e+00,  2.7999e+03],\n",
      "        [ 1.9400e+02,  6.3239e-01,  3.4746e-02,  5.3584e-02,  2.8021e+03,  1.0000e+00,  2.8021e+03],\n",
      "        [ 1.9500e+02,  2.9465e-01, -4.7861e-01,  1.2721e-01,  1.4607e+03,  1.0000e+00,  2.8021e+03],\n",
      "        [ 1.9600e+02,  8.3940e-01,  7.6797e-01, -1.6641e-03,  1.1272e+03,  1.0000e+00,  2.8021e+03],\n",
      "        [ 1.9700e+02,  4.2519e-02,  2.9255e-01, -1.5681e-01,  1.9844e+03,  1.0000e+00,  2.8021e+03],\n",
      "        [ 1.9800e+02,  1.8672e-01, -7.6957e-02, -5.4719e-02,  2.5287e+03,  1.0000e+00,  2.8021e+03],\n",
      "        [ 1.9900e+02,  9.3799e-01,  5.7942e-01, -8.8397e-02,  1.5301e+03,  1.0000e+00,  2.8021e+03]])\n"
     ]
    }
   ],
   "metadata": {}
  },
  {
   "cell_type": "code",
   "execution_count": 22,
   "source": [
    "bestIndex = int(c[c[:,5]>0][0][0])\n",
    "can = TCanvas(\"can\",\"can\",800,400)\n",
    "can.Divide(2,1)\n",
    "can.Draw()\n",
    "can.cd(1)\n",
    "allHistsMC[bestIndex].Draw(\"COLZ\")\n",
    "can.cd(2)\n",
    "histsData[0][3].Draw(\"COLZ\")"
   ],
   "outputs": [
    {
     "output_type": "stream",
     "name": "stderr",
     "text": [
      "Warning in <TCanvas::Constructor>: Deleting canvas with same name: can\n"
     ]
    },
    {
     "output_type": "display_data",
     "data": {
      "image/png": "[encoded data removed]",
      "text/plain": [
       "<IPython.core.display.Image object>"
      ]
     },
     "metadata": {}
    }
   ],
   "metadata": {}
  },
  {
   "cell_type": "code",
   "execution_count": 26,
   "source": [
    "can = TCanvas(\"can\",\"can\",800,400)\n",
    "can.Divide(2,1)\n",
    "can.Draw()\n",
    "can.cd(1)\n",
    "allHistsMC[50].Draw(\"COLZ\")\n",
    "can.cd(2)\n",
    "histsData[0][3].Draw(\"COLZ\")"
   ],
   "outputs": [
    {
     "output_type": "stream",
     "name": "stderr",
     "text": [
      "Warning in <TCanvas::Constructor>: Deleting canvas with same name: can\n"
     ]
    },
    {
     "output_type": "display_data",
     "data": {
      "image/png": "[encoded data removed]",
      "text/plain": [
       "<IPython.core.display.Image object>"
      ]
     },
     "metadata": {}
    }
   ],
   "metadata": {}
  },
  {
   "cell_type": "code",
   "execution_count": null,
   "source": [],
   "outputs": [],
   "metadata": {}
  }
 ],
 "metadata": {
  "interpreter": {
   "hash": "99cab06c27f02725e88b2dbe1836c12fd9df359a24b9134df2d5dc04c534a853"
  },
  "kernelspec": {
   "name": "python3",
   "display_name": "Python 3.11.4 64-bit ('pyroot': conda)"
  },
  "language_info": {
   "codemirror_mode": {
    "name": "ipython",
    "version": 3
   },
   "file_extension": ".py",
   "mimetype": "text/x-python",
   "name": "python",
   "nbconvert_exporter": "python",
   "pygments_lexer": "ipython3",
   "version": "3.11.4"
  },
  "orig_nbformat": 4
 },
 "nbformat": 4,
 "nbformat_minor": 2
}