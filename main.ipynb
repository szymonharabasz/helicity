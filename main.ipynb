{
 "cells": [
  {
   "cell_type": "code",
   "execution_count": 1,
   "metadata": {},
   "outputs": [
    {
     "name": "stdout",
     "output_type": "stream",
     "text": [
      "Welcome to JupyROOT 6.28/04\n"
     ]
    }
   ],
   "source": [
    "# %env PYTORCH_ENABLE_MPS_FALLBACK=1\n",
    "\n",
    "from bins import Bins\n",
    "from utils import calcAllChi2, calcOneChi2, HistMaker, diffHist\n",
    "from ROOT import TFile, TH1, TCanvas, TStyle, gStyle, Form\n",
    "import math"
   ]
  },
  {
   "cell_type": "code",
   "execution_count": 2,
   "metadata": {},
   "outputs": [
    {
     "name": "stdout",
     "output_type": "stream",
     "text": [
      "iter 0\n",
      "Before processing events 15:51:54\n",
      "After processing events 15:51:58\n",
      "iter 1\n",
      "Before processing events 15:52:04\n",
      "After processing events 15:52:04\n"
     ]
    }
   ],
   "source": [
    "bins = Bins.readFrom(\"ranges.yml\")\n",
    "histMakerData = HistMaker(\"088_090_ag123ag_2500A_accepted_np.dat\", \"_data\", bins)\n",
    "#histsData = histMakerData.makeHists()\n",
    "histsData = histMakerData.makeHists()\n",
    "#histMakerMC = HistMaker(\"medium_isotropic_eff_ag1230ag_np_9deg.dat\", \"_MC\", bins    )\n",
    "#histMakerMC = HistMaker(\"mar19_diele_inmedium_heli0cm_np.dat\", \"_MC\", bins    )\n",
    "histMakerMC = HistMaker(\"mar19_diele_pi0_heli0cm_np.dat\", \"_MC\", bins    )\n",
    "\n",
    "allHistsMC = []"
   ]
  },
  {
   "cell_type": "code",
   "execution_count": 3,
   "metadata": {},
   "outputs": [],
   "source": [
    "import torch\n",
    "\n",
    "torch.device(\"mps\")\n",
    "torch.manual_seed(0)\n",
    "\n",
    "import gpytorch\n",
    "import botorch\n",
    "\n",
    "import matplotlib.pyplot as plt\n",
    "\n",
    "plt.style.use(\"bmh\")\n",
    "plt.rcParams[\"figure.figsize\"] = (8, 6)\n",
    "\n",
    "from tqdm.notebook import tqdm\n",
    "\n",
    "import warnings"
   ]
  },
  {
   "cell_type": "code",
   "execution_count": 4,
   "metadata": {},
   "outputs": [],
   "source": [
    "TH1.SetDefaultSumw2\n",
    "\n",
    "N_PARAMS = 3"
   ]
  },
  {
   "cell_type": "code",
   "execution_count": 5,
   "metadata": {},
   "outputs": [],
   "source": [
    "#lb = -1\n",
    "#ub = 1\n",
    "\n",
    "#bounds = torch.tensor([[lb]*N_PARAMS, [ub]*N_PARAMS], dtype=torch.float)\n",
    "bounds = torch.tensor([[0, 0,         0],\n",
    "                       [1, 2*math.pi, 2]], dtype=torch.float)\n",
    "\n",
    "grid_r   = torch.linspace(bounds[0][0], bounds[1][0], 101)\n",
    "grid_phi = torch.linspace(bounds[0][1], bounds[1][1], 101)\n",
    "grid_z   = torch.linspace(bounds[0][2], bounds[1][2], 101)\n",
    "\n",
    "grid_x1, grid_x2, grid_x3 = torch.meshgrid(grid_r, grid_phi, grid_z, indexing=\"ij\")\n",
    "\n",
    "xs = torch.vstack([grid_x1.flatten(), grid_x2.flatten(), grid_x3.flatten()]).transpose(-2,-1)"
   ]
  },
  {
   "cell_type": "code",
   "execution_count": 6,
   "metadata": {},
   "outputs": [],
   "source": [
    "class GPModel(gpytorch.models.ExactGP, botorch.models.gpytorch.GPyTorchModel):\n",
    "    _num_outputs = 1\n",
    "\n",
    "    def __init__(self, train_x, train_y, likelihood):\n",
    "        super().__init__(train_x, train_y, likelihood)\n",
    "        self.mean_module = gpytorch.means.ConstantMean()\n",
    "        self.covar_module = gpytorch.kernels.ScaleKernel(\n",
    "            gpytorch.kernels.MaternKernel(nu=2.5, ard_num_dims=1)\n",
    "        )\n",
    "\n",
    "    def forward(self, x):\n",
    "        mean_x = self.mean_module(x)\n",
    "        covar_x = self.covar_module(x)\n",
    "        mean_x = mean_x.to(mps_device)\n",
    "        covar_x = covar_x.to(mps_device)\n",
    "        return gpytorch.distributions.MultivariateNormal(mean_x, covar_x)\n",
    "\n",
    "torch.backends.mps.is_available()\n",
    "#mps_device = torch.device(\"mps\")\n",
    "mps_device = torch.device(\"cpu\")\n",
    "\n",
    "def fit_gp_model(train_x, train_y, num_train_iters=500):\n",
    "    train_x = train_x.to(mps_device)\n",
    "    train_y = train_y.to(mps_device)\n",
    "\n",
    "    # declare the GP\n",
    "    noise = 1e-4\n",
    "\n",
    "    likelihood = gpytorch.likelihoods.GaussianLikelihood()\n",
    "    model = GPModel(train_x, train_y, likelihood)\n",
    "    model.likelihood.noise = noise\n",
    "    likelihood = likelihood.to(mps_device)\n",
    "    model = model.to(mps_device)\n",
    "\n",
    "    # train the hyperparameter (the constant)\n",
    "    optimizer = torch.optim.Adam(model.parameters(), lr=0.01)\n",
    "    mll = gpytorch.mlls.ExactMarginalLogLikelihood(likelihood, model)\n",
    "\n",
    "    model.train()\n",
    "    likelihood.train()\n",
    "\n",
    "    for i in range(num_train_iters):\n",
    "        optimizer.zero_grad()\n",
    "\n",
    "        output = model(train_x)\n",
    "        loss = -mll(output, train_y)\n",
    "\n",
    "        loss.backward()\n",
    "        \n",
    "        optimizer.step()\n",
    "\n",
    "    model.eval()\n",
    "    likelihood.eval()\n",
    "\n",
    "    return model.cpu(), likelihood.cpu()"
   ]
  },
  {
   "cell_type": "code",
   "execution_count": 7,
   "metadata": {},
   "outputs": [],
   "source": [
    "num_queries = 175\n",
    "num_repeats = 1\n",
    "num_samples = 1"
   ]
  },
  {
   "cell_type": "code",
   "execution_count": 8,
   "metadata": {},
   "outputs": [],
   "source": [
    "def lambdas(xx):\n",
    "   # return x[0], x[1], x[2]\n",
    "    r, phi, z = xx[0], xx[1], xx[2]\n",
    "    x = r*math.cos(phi)\n",
    "    y = r*math.sin(phi)\n",
    "    lambda_theta = 0.5 * (2*x + z)\n",
    "    lambda_phi   = 0.25 * (-2 - 2*x + 3*z)\n",
    "    lambda_theta_phi = y/math.sqrt(2.)\n",
    "    return lambda_theta, lambda_phi, lambda_theta_phi\n",
    "\n",
    "def all_lambdas(xx):\n",
    "    def generator(xx):\n",
    "        for x in xx:\n",
    "            lambda_theta, lambda_phi, lambda_theta_phi = lambdas(x)\n",
    "            yield torch.tensor([lambda_theta, lambda_phi, lambda_theta_phi])\n",
    "           # yield torch.tensor([1./(chi2 / ndf)])\n",
    "    return torch.stack([a for a in generator(xx)])\n",
    "    \n",
    "HIST_INDEX = 1\n",
    "\n",
    "def objective(xx):\n",
    "    def generator(xx):\n",
    "        for x in xx:\n",
    "            lambda_theta, lambda_phi, lambda_theta_phi = lambdas(x)\n",
    "\n",
    "            histsMC = histMakerMC.makeHists(lambda_theta, lambda_phi, lambda_theta_phi)\n",
    "            chi2, ndf = calcOneChi2(histsMC[0][HIST_INDEX], histsData[0][HIST_INDEX])\n",
    "            allHistsMC.append(histsMC[0][HIST_INDEX])\n",
    "            if not chi2 or not ndf:\n",
    "                return torch.tensor([0])\n",
    "            yield torch.tensor([1.0/(chi2 / ndf)])\n",
    "           # yield torch.tensor([1./(chi2 / ndf)])\n",
    "    return torch.stack([a for a in generator(xx)])"
   ]
  },
  {
   "cell_type": "code",
   "execution_count": 9,
   "metadata": {},
   "outputs": [
    {
     "name": "stdout",
     "output_type": "stream",
     "text": [
      "trial 0\n",
      "tensor([[0.4963, 4.8269, 0.1770]])\n",
      "torch.Size([1, 3])\n"
     ]
    },
    {
     "data": {
      "application/vnd.jupyter.widget-view+json": {
       "model_id": "57f8188b4cb74e2babd3b99a149f9b8d",
       "version_major": 2,
       "version_minor": 0
      },
      "text/plain": [
       "  0%|          | 0/175 [00:00<?, ?it/s]"
      ]
     },
     "metadata": {},
     "output_type": "display_data"
    }
   ],
   "source": [
    "# -2 is the default value when no feasible has been found\n",
    "default_value = 0\n",
    "feasible_incumbents = torch.ones((num_repeats, num_queries)) * default_value\n",
    "\n",
    "best_fs = []\n",
    "\n",
    "for trial in range(num_repeats):\n",
    "    print(\"trial\", trial)\n",
    "\n",
    "    torch.manual_seed(trial)\n",
    "    train_x = bounds[0] + (bounds[1] - bounds[0]) * torch.rand(num_samples, 3)\n",
    "###                inequality_constraints=[(torch.tensor([0,2]),torch.tensor([-2.0,-1.0],dtype=torch.float),-2.0)],\n",
    "    while -2.0*train_x[0][0] - 1.0*train_x[0][2] < -2:\n",
    "        train_x = bounds[0] + (bounds[1] - bounds[0]) * torch.rand(num_samples, 3)\n",
    "    print(train_x)\n",
    "    print(train_x.shape)\n",
    "    train_utility = objective(train_x).to(mps_device)\n",
    "    train_x = train_x.to(mps_device)\n",
    "\n",
    "    for i in tqdm(range(num_queries)):\n",
    "        feasible_incumbents[trial, i] = train_utility.max()\n",
    "        utility_model, utility_likelihood = fit_gp_model(\n",
    "            train_x, train_utility.squeeze(-1)\n",
    "        )\n",
    "        best_f = train_utility.max()\n",
    "        best_fs.append(best_f.item())\n",
    "                \n",
    "       # policy = botorch.acquisition.monte_carlo.qExpectedImprovement(\n",
    "        policy = botorch.acquisition.analytic.LogExpectedImprovement(\n",
    "       # policy = botorch.acquisition.logei.qLogExpectedImprovement(\n",
    "       # policy = botorch.acquisition.analytic.LogProbabilityOfImprovement(\n",
    "       # policy = botorch.acquisition.analytic.PosteriorMean(\n",
    "            model=utility_model,\n",
    "            best_f=train_utility.max(),\n",
    "        ).to(mps_device)\n",
    "        bounds = bounds.to(mps_device)\n",
    "\n",
    "        with warnings.catch_warnings():\n",
    "            warnings.filterwarnings('ignore', category=RuntimeWarning)\n",
    "            next_x, acq_val = botorch.optim.optimize_acqf(\n",
    "                policy,\n",
    "                bounds=bounds,\n",
    "                q=1,\n",
    "                num_restarts=40,\n",
    "                raw_samples=100,\n",
    "                inequality_constraints=[(torch.tensor([0,2],device=mps_device),torch.tensor([-2.0,-1.0],dtype=torch.float,device=mps_device),-2.0)],\n",
    "            )\n",
    "\n",
    "        next_utility = objective(next_x).to(mps_device)\n",
    "\n",
    "        train_x = torch.cat([train_x, next_x])\n",
    "        train_utility = torch.cat([train_utility, next_utility])"
   ]
  },
  {
   "cell_type": "code",
   "execution_count": 10,
   "metadata": {},
   "outputs": [
    {
     "name": "stdout",
     "output_type": "stream",
     "text": [
      "Writing hist:  hist_0to150_p00p03_MC_iter2\n",
      "Writing hist:  hist_0to150_p00p03_MC_iter3\n",
      "Writing hist:  hist_0to150_p00p03_MC_iter4\n",
      "Writing hist:  hist_0to150_p00p03_MC_iter5\n",
      "Writing hist:  hist_0to150_p00p03_MC_iter6\n",
      "Writing hist:  hist_0to150_p00p03_MC_iter7\n",
      "Writing hist:  hist_0to150_p00p03_MC_iter8\n",
      "Writing hist:  hist_0to150_p00p03_MC_iter9\n",
      "Writing hist:  hist_0to150_p00p03_MC_iter10\n",
      "Writing hist:  hist_0to150_p00p03_MC_iter11\n",
      "Writing hist:  hist_0to150_p00p03_MC_iter12\n",
      "Writing hist:  hist_0to150_p00p03_MC_iter13\n",
      "Writing hist:  hist_0to150_p00p03_MC_iter14\n",
      "Writing hist:  hist_0to150_p00p03_MC_iter15\n",
      "Writing hist:  hist_0to150_p00p03_MC_iter16\n",
      "Writing hist:  hist_0to150_p00p03_MC_iter17\n",
      "Writing hist:  hist_0to150_p00p03_MC_iter18\n",
      "Writing hist:  hist_0to150_p00p03_MC_iter19\n",
      "Writing hist:  hist_0to150_p00p03_MC_iter20\n",
      "Writing hist:  hist_0to150_p00p03_MC_iter21\n",
      "Writing hist:  hist_0to150_p00p03_MC_iter22\n",
      "Writing hist:  hist_0to150_p00p03_MC_iter23\n",
      "Writing hist:  hist_0to150_p00p03_MC_iter24\n",
      "Writing hist:  hist_0to150_p00p03_MC_iter25\n",
      "Writing hist:  hist_0to150_p00p03_MC_iter26\n",
      "Writing hist:  hist_0to150_p00p03_MC_iter27\n",
      "Writing hist:  hist_0to150_p00p03_MC_iter28\n",
      "Writing hist:  hist_0to150_p00p03_MC_iter29\n",
      "Writing hist:  hist_0to150_p00p03_MC_iter30\n",
      "Writing hist:  hist_0to150_p00p03_MC_iter31\n",
      "Writing hist:  hist_0to150_p00p03_MC_iter32\n",
      "Writing hist:  hist_0to150_p00p03_MC_iter33\n",
      "Writing hist:  hist_0to150_p00p03_MC_iter34\n",
      "Writing hist:  hist_0to150_p00p03_MC_iter35\n",
      "Writing hist:  hist_0to150_p00p03_MC_iter36\n",
      "Writing hist:  hist_0to150_p00p03_MC_iter37\n",
      "Writing hist:  hist_0to150_p00p03_MC_iter38\n",
      "Writing hist:  hist_0to150_p00p03_MC_iter39\n",
      "Writing hist:  hist_0to150_p00p03_MC_iter40\n",
      "Writing hist:  hist_0to150_p00p03_MC_iter41\n",
      "Writing hist:  hist_0to150_p00p03_MC_iter42\n",
      "Writing hist:  hist_0to150_p00p03_MC_iter43\n",
      "Writing hist:  hist_0to150_p00p03_MC_iter44\n",
      "Writing hist:  hist_0to150_p00p03_MC_iter45\n",
      "Writing hist:  hist_0to150_p00p03_MC_iter46\n",
      "Writing hist:  hist_0to150_p00p03_MC_iter47\n",
      "Writing hist:  hist_0to150_p00p03_MC_iter48\n",
      "Writing hist:  hist_0to150_p00p03_MC_iter49\n",
      "Writing hist:  hist_0to150_p00p03_MC_iter50\n",
      "Writing hist:  hist_0to150_p00p03_MC_iter51\n",
      "Writing hist:  hist_0to150_p00p03_MC_iter52\n",
      "Writing hist:  hist_0to150_p00p03_MC_iter53\n",
      "Writing hist:  hist_0to150_p00p03_MC_iter54\n",
      "Writing hist:  hist_0to150_p00p03_MC_iter55\n",
      "Writing hist:  hist_0to150_p00p03_MC_iter56\n",
      "Writing hist:  hist_0to150_p00p03_MC_iter57\n",
      "Writing hist:  hist_0to150_p00p03_MC_iter58\n",
      "Writing hist:  hist_0to150_p00p03_MC_iter59\n",
      "Writing hist:  hist_0to150_p00p03_MC_iter60\n",
      "Writing hist:  hist_0to150_p00p03_MC_iter61\n",
      "Writing hist:  hist_0to150_p00p03_MC_iter62\n",
      "Writing hist:  hist_0to150_p00p03_MC_iter63\n",
      "Writing hist:  hist_0to150_p00p03_MC_iter64\n",
      "Writing hist:  hist_0to150_p00p03_MC_iter65\n",
      "Writing hist:  hist_0to150_p00p03_MC_iter66\n",
      "Writing hist:  hist_0to150_p00p03_MC_iter67\n",
      "Writing hist:  hist_0to150_p00p03_MC_iter68\n",
      "Writing hist:  hist_0to150_p00p03_MC_iter69\n",
      "Writing hist:  hist_0to150_p00p03_MC_iter70\n",
      "Writing hist:  hist_0to150_p00p03_MC_iter71\n",
      "Writing hist:  hist_0to150_p00p03_MC_iter72\n",
      "Writing hist:  hist_0to150_p00p03_MC_iter73\n",
      "Writing hist:  hist_0to150_p00p03_MC_iter74\n",
      "Writing hist:  hist_0to150_p00p03_MC_iter75\n",
      "Writing hist:  hist_0to150_p00p03_MC_iter76\n",
      "Writing hist:  hist_0to150_p00p03_MC_iter77\n",
      "Writing hist:  hist_0to150_p00p03_MC_iter78\n",
      "Writing hist:  hist_0to150_p00p03_MC_iter79\n",
      "Writing hist:  hist_0to150_p00p03_MC_iter80\n",
      "Writing hist:  hist_0to150_p00p03_MC_iter81\n",
      "Writing hist:  hist_0to150_p00p03_MC_iter82\n",
      "Writing hist:  hist_0to150_p00p03_MC_iter83\n",
      "Writing hist:  hist_0to150_p00p03_MC_iter84\n",
      "Writing hist:  hist_0to150_p00p03_MC_iter85\n",
      "Writing hist:  hist_0to150_p00p03_MC_iter86\n",
      "Writing hist:  hist_0to150_p00p03_MC_iter87\n",
      "Writing hist:  hist_0to150_p00p03_MC_iter88\n",
      "Writing hist:  hist_0to150_p00p03_MC_iter89\n",
      "Writing hist:  hist_0to150_p00p03_MC_iter90\n",
      "Writing hist:  hist_0to150_p00p03_MC_iter91\n",
      "Writing hist:  hist_0to150_p00p03_MC_iter92\n",
      "Writing hist:  hist_0to150_p00p03_MC_iter93\n",
      "Writing hist:  hist_0to150_p00p03_MC_iter94\n",
      "Writing hist:  hist_0to150_p00p03_MC_iter95\n",
      "Writing hist:  hist_0to150_p00p03_MC_iter96\n",
      "Writing hist:  hist_0to150_p00p03_MC_iter97\n",
      "Writing hist:  hist_0to150_p00p03_MC_iter98\n",
      "Writing hist:  hist_0to150_p00p03_MC_iter99\n",
      "Writing hist:  hist_0to150_p00p03_MC_iter100\n",
      "Writing hist:  hist_0to150_p00p03_MC_iter101\n",
      "Writing hist:  hist_0to150_p00p03_MC_iter102\n",
      "Writing hist:  hist_0to150_p00p03_MC_iter103\n",
      "Writing hist:  hist_0to150_p00p03_MC_iter104\n",
      "Writing hist:  hist_0to150_p00p03_MC_iter105\n",
      "Writing hist:  hist_0to150_p00p03_MC_iter106\n",
      "Writing hist:  hist_0to150_p00p03_MC_iter107\n",
      "Writing hist:  hist_0to150_p00p03_MC_iter108\n",
      "Writing hist:  hist_0to150_p00p03_MC_iter109\n",
      "Writing hist:  hist_0to150_p00p03_MC_iter110\n",
      "Writing hist:  hist_0to150_p00p03_MC_iter111\n",
      "Writing hist:  hist_0to150_p00p03_MC_iter112\n",
      "Writing hist:  hist_0to150_p00p03_MC_iter113\n",
      "Writing hist:  hist_0to150_p00p03_MC_iter114\n",
      "Writing hist:  hist_0to150_p00p03_MC_iter115\n",
      "Writing hist:  hist_0to150_p00p03_MC_iter116\n",
      "Writing hist:  hist_0to150_p00p03_MC_iter117\n",
      "Writing hist:  hist_0to150_p00p03_MC_iter118\n",
      "Writing hist:  hist_0to150_p00p03_MC_iter119\n",
      "Writing hist:  hist_0to150_p00p03_MC_iter120\n",
      "Writing hist:  hist_0to150_p00p03_MC_iter121\n",
      "Writing hist:  hist_0to150_p00p03_MC_iter122\n",
      "Writing hist:  hist_0to150_p00p03_MC_iter123\n",
      "Writing hist:  hist_0to150_p00p03_MC_iter124\n",
      "Writing hist:  hist_0to150_p00p03_MC_iter125\n",
      "Writing hist:  hist_0to150_p00p03_MC_iter126\n",
      "Writing hist:  hist_0to150_p00p03_MC_iter127\n",
      "Writing hist:  hist_0to150_p00p03_MC_iter128\n",
      "Writing hist:  hist_0to150_p00p03_MC_iter129\n",
      "Writing hist:  hist_0to150_p00p03_MC_iter130\n",
      "Writing hist:  hist_0to150_p00p03_MC_iter131\n",
      "Writing hist:  hist_0to150_p00p03_MC_iter132\n",
      "Writing hist:  hist_0to150_p00p03_MC_iter133\n",
      "Writing hist:  hist_0to150_p00p03_MC_iter134\n",
      "Writing hist:  hist_0to150_p00p03_MC_iter135\n",
      "Writing hist:  hist_0to150_p00p03_MC_iter136\n",
      "Writing hist:  hist_0to150_p00p03_MC_iter137\n",
      "Writing hist:  hist_0to150_p00p03_MC_iter138\n",
      "Writing hist:  hist_0to150_p00p03_MC_iter139\n",
      "Writing hist:  hist_0to150_p00p03_MC_iter140\n",
      "Writing hist:  hist_0to150_p00p03_MC_iter141\n",
      "Writing hist:  hist_0to150_p00p03_MC_iter142\n",
      "Writing hist:  hist_0to150_p00p03_MC_iter143\n",
      "Writing hist:  hist_0to150_p00p03_MC_iter144\n",
      "Writing hist:  hist_0to150_p00p03_MC_iter145\n",
      "Writing hist:  hist_0to150_p00p03_MC_iter146\n",
      "Writing hist:  hist_0to150_p00p03_MC_iter147\n",
      "Writing hist:  hist_0to150_p00p03_MC_iter148\n",
      "Writing hist:  hist_0to150_p00p03_MC_iter149\n",
      "Writing hist:  hist_0to150_p00p03_MC_iter150\n",
      "Writing hist:  hist_0to150_p00p03_MC_iter151\n",
      "Writing hist:  hist_0to150_p00p03_MC_iter152\n",
      "Writing hist:  hist_0to150_p00p03_MC_iter153\n",
      "Writing hist:  hist_0to150_p00p03_MC_iter154\n",
      "Writing hist:  hist_0to150_p00p03_MC_iter155\n",
      "Writing hist:  hist_0to150_p00p03_MC_iter156\n",
      "Writing hist:  hist_0to150_p00p03_MC_iter157\n",
      "Writing hist:  hist_0to150_p00p03_MC_iter158\n",
      "Writing hist:  hist_0to150_p00p03_MC_iter159\n",
      "Writing hist:  hist_0to150_p00p03_MC_iter160\n",
      "Writing hist:  hist_0to150_p00p03_MC_iter161\n",
      "Writing hist:  hist_0to150_p00p03_MC_iter162\n",
      "Writing hist:  hist_0to150_p00p03_MC_iter163\n",
      "Writing hist:  hist_0to150_p00p03_MC_iter164\n",
      "Writing hist:  hist_0to150_p00p03_MC_iter165\n",
      "Writing hist:  hist_0to150_p00p03_MC_iter166\n",
      "Writing hist:  hist_0to150_p00p03_MC_iter167\n",
      "Writing hist:  hist_0to150_p00p03_MC_iter168\n",
      "Writing hist:  hist_0to150_p00p03_MC_iter169\n",
      "Writing hist:  hist_0to150_p00p03_MC_iter170\n",
      "Writing hist:  hist_0to150_p00p03_MC_iter171\n",
      "Writing hist:  hist_0to150_p00p03_MC_iter172\n",
      "Writing hist:  hist_0to150_p00p03_MC_iter173\n",
      "Writing hist:  hist_0to150_p00p03_MC_iter174\n",
      "Writing hist:  hist_0to150_p00p03_MC_iter175\n",
      "Writing hist:  hist_0to150_p00p03_MC_iter176\n",
      "Writing hist:  hist_0to150_p00p03_MC_iter177\n",
      "Writing hist:  0 0 Name: hist_0to150_m06p00_data_iter1 Title: hist_0to150_m06p00_data_iter1 NbinsX: 20\n",
      "Writing hist:  0 1 Name: hist_0to150_p00p03_data_iter1 Title: hist_0to150_p00p03_data_iter1 NbinsX: 20\n",
      "Writing hist:  0 2 Name: hist_0to150_p03p08_data_iter1 Title: hist_0to150_p03p08_data_iter1 NbinsX: 20\n",
      "Writing hist:  0 3 Name: hist_150to300_m06p00_data_iter1 Title: hist_150to300_m06p00_data_iter1 NbinsX: 20\n",
      "Writing hist:  0 4 Name: hist_150to300_p00p03_data_iter1 Title: hist_150to300_p00p03_data_iter1 NbinsX: 20\n",
      "Writing hist:  0 5 Name: hist_150to300_p03p08_data_iter1 Title: hist_150to300_p03p08_data_iter1 NbinsX: 20\n",
      "Writing hist:  0 6 Name: hist_300to450_m06p00_data_iter1 Title: hist_300to450_m06p00_data_iter1 NbinsX: 20\n",
      "Writing hist:  0 7 Name: hist_300to450_p00p03_data_iter1 Title: hist_300to450_p00p03_data_iter1 NbinsX: 20\n",
      "Writing hist:  0 8 Name: hist_300to450_p03p08_data_iter1 Title: hist_300to450_p03p08_data_iter1 NbinsX: 20\n",
      "Writing hist:  0 9 Name: hist_450to600_m06p00_data_iter1 Title: hist_450to600_m06p00_data_iter1 NbinsX: 20\n",
      "Writing hist:  0 10 Name: hist_450to600_p00p03_data_iter1 Title: hist_450to600_p00p03_data_iter1 NbinsX: 20\n",
      "Writing hist:  0 11 Name: hist_450to600_p03p08_data_iter1 Title: hist_450to600_p03p08_data_iter1 NbinsX: 20\n",
      "Writing hist:  1 0 Name: hmass_data Title: hmass_data NbinsX: 100\n",
      "Writing hist:  2 0 Name: hz_data Title: hz_data NbinsX: 100\n"
     ]
    }
   ],
   "source": [
    "torch.save(feasible_incumbents, f\"./incumbents.pth\")\n",
    "fout = TFile(\"out_\"+str(HIST_INDEX)+\".root\",\"RECREATE\")\n",
    "fout.cd()\n",
    "for hist in allHistsMC:\n",
    "    print (\"Writing hist: \", hist.GetName())\n",
    "    hist.Write()\n",
    "for j, hists in enumerate(histsData):\n",
    "    for k, hist in enumerate(hists):\n",
    "            hist.Write()\n",
    "            print (\"Writing hist: \", j, k, hist)\n",
    "fout.Close()"
   ]
  },
  {
   "cell_type": "code",
   "execution_count": 11,
   "metadata": {},
   "outputs": [],
   "source": [
    "#t = torch.tensor( [ [-1.0000, -0.4678,  0.5433]])\n",
    "#print(t)\n",
    "#print(t.shape)"
   ]
  },
  {
   "cell_type": "code",
   "execution_count": 12,
   "metadata": {},
   "outputs": [],
   "source": [
    "with torch.no_grad():\n",
    "    predictive_distribution = utility_likelihood(utility_model(xs))\n",
    "    predictive_mean = predictive_distribution.mean\n",
    "    predictive_lower, predictive_upper = predictive_distribution.confidence_region()\n",
    "    acquisition_score = policy(xs.unsqueeze(1))"
   ]
  },
  {
   "cell_type": "code",
   "execution_count": 13,
   "metadata": {},
   "outputs": [
    {
     "data": {
      "application/vnd.jupyter.widget-view+json": {
       "model_id": "43b026fc79584fa19b1aed40c4297861",
       "version_major": 2,
       "version_minor": 0
      },
      "text/plain": [
       "interactive(children=(IntSlider(value=50, description='x', layout=Layout(width='500px')), Output()), _dom_clas…"
      ]
     },
     "metadata": {},
     "output_type": "display_data"
    },
    {
     "data": {
      "text/plain": [
       "<function __main__.f(x)>"
      ]
     },
     "execution_count": 13,
     "metadata": {},
     "output_type": "execute_result"
    }
   ],
   "source": [
    "from ipywidgets import interact, Layout, IntSlider\n",
    "import numpy as np\n",
    "\n",
    "axis_titles = [r\"R of cone coordinates\", r\"$\\Phi$ of cone coordinates\", r\"Z of cone coordinates\"]\n",
    "\n",
    "def oneplot(ax, tensor, index, cmap, title, transpose=None):\n",
    "        \n",
    "        global xs\n",
    "        tensor_3d = torch.reshape(tensor, (101,101,101))\n",
    "        xs_3d = torch.reshape(xs, (101,101,101,3))\n",
    "        if transpose:\n",
    "               tensor_3d = tensor_3d.transpose(transpose[0],transpose[1])\n",
    "               xs_3d     = xs_3d    .transpose(transpose[0],transpose[1])\n",
    "        if transpose is None:\n",
    "                extent=[\n",
    "                        xs_3d[0][0][0][2],\n",
    "                        xs_3d[0][0][-1][2],\n",
    "                        xs_3d[0][0][0][1],\n",
    "                        xs_3d[0][-1][0][1],\n",
    "                ]\n",
    "        elif transpose == (0,1):\n",
    "                extent=[\n",
    "                        xs_3d[0][0][0][2],\n",
    "                        xs_3d[0][0][-1][2],\n",
    "                        xs_3d[0][0][0][0],\n",
    "                        xs_3d[0][-1][0][0],\n",
    "                ]\n",
    "        elif transpose == (0,2):\n",
    "                extent=[\n",
    "                        xs_3d[0][0][0][0],\n",
    "                        xs_3d[0][0][-1][0],\n",
    "                        xs_3d[0][0][0][1],\n",
    "                        xs_3d[0][-1][0][1],\n",
    "                ]\n",
    "        if transpose is None:\n",
    "                x_title=axis_titles[2]\n",
    "                y_title=axis_titles[1]\n",
    "        elif transpose == (0, 1):\n",
    "                x_title=axis_titles[2]\n",
    "                y_title=axis_titles[0]\n",
    "        elif transpose == (0,2):\n",
    "                x_title=axis_titles[0]\n",
    "                y_title=axis_titles[1]\n",
    "        \n",
    "        pos = ax.imshow(tensor_3d[index], cmap=cmap, interpolation=\"nearest\", origin=\"lower\", \n",
    "                vmin=0, vmax=tensor.max(), extent=extent)\n",
    "        ax.set_aspect((extent[1]-extent[0])/(extent[3]-extent[2]))\n",
    "        ax.set_title(title)\n",
    "        ax.set_xlabel(x_title)\n",
    "        ax.set_ylabel(y_title)\n",
    "        plt.colorbar(pos,fraction=0.046, pad=0.04)\n",
    "\n",
    "def ff(x, transpose):\n",
    "        cmap = \"gist_rainbow\"\n",
    "        fig, ax = plt.subplots(nrows=1, ncols=2, sharey=True)\n",
    "        oneplot(ax[0], predictive_mean, x, cmap, \"value\", transpose)\n",
    "        oneplot(ax[1], predictive_upper-predictive_lower, x, cmap, \"confidence int. width\", transpose)\n",
    "       # oneplot(ax[2], acquisition_score, x, cmap, \"acquisition score\", transpose)\n",
    "\n",
    "def f(x):\n",
    "        ff(x, None)\n",
    "\n",
    "interact(f, x=IntSlider(50, 0, 100, 1, layout=Layout(width='500px')))\n"
   ]
  },
  {
   "cell_type": "code",
   "execution_count": 14,
   "metadata": {},
   "outputs": [
    {
     "data": {
      "application/vnd.jupyter.widget-view+json": {
       "model_id": "2c269194a81a4394b1b969f0df20792a",
       "version_major": 2,
       "version_minor": 0
      },
      "text/plain": [
       "interactive(children=(IntSlider(value=50, description='x', layout=Layout(width='500px')), Output()), _dom_clas…"
      ]
     },
     "metadata": {},
     "output_type": "display_data"
    },
    {
     "data": {
      "text/plain": [
       "<function __main__.g(x)>"
      ]
     },
     "execution_count": 14,
     "metadata": {},
     "output_type": "execute_result"
    }
   ],
   "source": [
    "def g(x):\n",
    "        ff(x, (0,1))\n",
    "           \n",
    "interact(g, x=IntSlider(50, 0, 100, 1, layout=Layout(width='500px')))"
   ]
  },
  {
   "cell_type": "code",
   "execution_count": 15,
   "metadata": {},
   "outputs": [
    {
     "data": {
      "application/vnd.jupyter.widget-view+json": {
       "model_id": "f8133cbaccef4ef4923447213885e3ae",
       "version_major": 2,
       "version_minor": 0
      },
      "text/plain": [
       "interactive(children=(IntSlider(value=50, description='x', layout=Layout(width='500px')), Output()), _dom_clas…"
      ]
     },
     "metadata": {},
     "output_type": "display_data"
    },
    {
     "data": {
      "text/plain": [
       "<function __main__.h(x)>"
      ]
     },
     "execution_count": 15,
     "metadata": {},
     "output_type": "execute_result"
    }
   ],
   "source": [
    "def h(x):\n",
    "        ff(x, (0,2))\n",
    "           \n",
    "interact(h, x=IntSlider(50, 0, 100, 1, layout=Layout(width='500px')))"
   ]
  },
  {
   "cell_type": "code",
   "execution_count": 16,
   "metadata": {},
   "outputs": [
    {
     "name": "stdout",
     "output_type": "stream",
     "text": [
      "tensor([[ 9.0000e+00,  1.0000e+00,  1.0000e+00,  2.3359e-28,  6.1586e-03,  0.0000e+00,  3.5731e-02],\n",
      "        [ 5.7000e+01,  1.0000e+00,  1.0000e+00,  2.0047e-12,  6.1586e-03,  0.0000e+00,  1.1513e-01],\n",
      "        [ 2.0000e+00,  1.0000e+00,  1.0000e+00,  0.0000e+00,  6.1586e-03,  0.0000e+00,  2.3276e-02],\n",
      "        [ 1.1000e+01,  1.0000e+00,  1.0000e+00, -1.8715e-12,  6.1586e-03,  0.0000e+00,  3.5731e-02],\n",
      "        [ 7.3000e+01,  1.0000e+00,  1.0000e+00, -0.0000e+00,  6.1586e-03,  0.0000e+00,  1.1513e-01],\n",
      "        [ 7.0000e+01,  9.9996e-01,  9.9998e-01,  2.4239e-06,  6.1588e-03,  0.0000e+00,  1.1513e-01],\n",
      "        [ 3.0000e+00,  1.0000e+00, -1.0000e+00,  1.2215e-11,  6.6794e-03,  0.0000e+00,  2.3276e-02],\n",
      "        [ 4.0000e+00,  1.0000e+00, -1.0000e+00,  1.2363e-07,  6.6794e-03,  0.0000e+00,  2.3276e-02],\n",
      "        [ 8.7000e+01,  5.2013e-01, -7.5950e-01,  6.0210e-01,  1.0094e-02,  0.0000e+00,  1.1513e-01],\n",
      "        [ 1.0000e+00,  6.2682e-01,  6.5124e-01,  9.4398e-02,  1.2111e-02,  0.0000e+00,  2.3276e-02],\n",
      "        [ 9.7000e+01,  1.1025e-01,  5.2622e-01,  1.1323e-01,  1.5183e-02,  0.0000e+00,  1.1513e-01],\n",
      "        [ 5.0000e+00,  4.0519e-22, -5.0000e-01, -0.0000e+00,  1.8283e-02,  0.0000e+00,  2.3276e-02],\n",
      "        [ 1.3000e+01,  1.3309e-12, -5.0000e-01,  0.0000e+00,  1.8283e-02,  0.0000e+00,  3.5731e-02],\n",
      "        [ 7.7000e+01,  4.4089e-10, -5.0000e-01, -2.5290e-10,  1.8283e-02,  0.0000e+00,  1.1513e-01],\n",
      "        [ 2.1000e+01,  1.1200e-12, -5.0000e-01,  7.1248e-26,  1.8283e-02,  0.0000e+00,  3.6148e-02],\n",
      "        [ 1.6000e+01,  1.8543e-14, -5.0000e-01,  1.2637e-21,  1.8283e-02,  0.0000e+00,  3.6148e-02],\n",
      "        [ 6.9000e+01,  1.6270e-08, -5.0000e-01,  1.8348e-10,  1.8283e-02,  0.0000e+00,  1.1513e-01],\n",
      "        [ 1.7000e+01, -3.3833e-01, -3.3083e-01,  6.6541e-01,  2.0263e-02,  0.0000e+00,  3.6148e-02],\n",
      "        [ 0.0000e+00,  1.4517e-01, -3.9563e-01, -3.4861e-01,  2.3276e-02,  0.0000e+00,  2.3276e-02],\n",
      "        [ 8.8000e+01,  6.1270e-01,  4.1922e-01, -2.1455e-04,  2.4254e-02,  0.0000e+00,  1.1513e-01],\n",
      "        [ 2.0000e+01, -6.8342e-01, -1.5829e-01, -5.1620e-01,  2.6857e-02,  0.0000e+00,  3.6148e-02],\n",
      "        [ 1.0000e+01, -7.4341e-01, -1.2829e-01,  4.7294e-01,  2.8430e-02,  0.0000e+00,  3.5731e-02],\n",
      "        [ 1.2000e+01, -7.3953e-01, -1.3023e-01, -4.7597e-01,  2.8690e-02,  0.0000e+00,  3.5731e-02],\n",
      "        [ 6.6000e+01,  3.6783e-01,  3.6253e-01, -3.1873e-01,  2.9068e-02,  0.0000e+00,  1.1513e-01],\n",
      "        [ 7.8000e+01,  9.6971e-01,  3.6700e-01,  9.6717e-02,  2.9446e-02,  0.0000e+00,  1.1513e-01],\n",
      "        [ 1.8000e+01, -4.2320e-01,  2.6335e-01, -1.3350e-01,  3.0378e-02,  0.0000e+00,  3.6148e-02],\n",
      "        [ 2.8000e+01, -5.5760e-01,  2.2120e-01,  1.8206e-04,  3.1526e-02,  0.0000e+00,  3.6148e-02],\n",
      "        [ 1.4000e+01, -9.0333e-01, -4.8334e-02,  3.0331e-01,  3.2426e-02,  0.0000e+00,  3.5731e-02],\n",
      "        [ 8.0000e+00, -8.6799e-01, -6.6004e-02, -3.5113e-01,  3.2994e-02,  0.0000e+00,  3.5731e-02],\n",
      "        [ 4.4000e+01, -6.1542e-01,  1.9212e-01,  1.1805e-02,  3.3039e-02,  0.0000e+00,  3.6148e-02],\n",
      "        [ 7.1000e+01,  7.7866e-01, -3.4072e-01, -3.6893e-01,  3.4325e-02,  0.0000e+00,  1.1513e-01],\n",
      "        [ 7.2000e+01,  3.8730e-01,  1.5731e-01,  4.0535e-01,  3.5599e-02,  0.0000e+00,  1.1513e-01],\n",
      "        [ 4.3000e+01, -9.9665e-01, -1.6760e-03,  5.7848e-02,  3.5611e-02,  0.0000e+00,  3.6148e-02],\n",
      "        [ 7.0000e+00, -9.9722e-01, -1.3892e-03,  5.2674e-02,  3.5650e-02,  0.0000e+00,  3.5731e-02],\n",
      "        [ 9.5000e+01,  5.3463e-01,  3.0195e-01,  3.1055e-06,  3.5665e-02,  0.0000e+00,  1.1513e-01],\n",
      "        [ 4.1000e+01, -9.9771e-01, -1.1464e-03,  4.7856e-02,  3.5685e-02,  0.0000e+00,  3.6148e-02],\n",
      "        [ 6.0000e+00, -9.6352e-01, -1.8241e-02, -1.8925e-01,  3.5731e-02,  0.0000e+00,  3.5731e-02],\n",
      "        [ 1.9000e+01, -9.6354e-01, -1.8232e-02, -1.8921e-01,  3.5732e-02,  0.0000e+00,  3.6148e-02],\n",
      "        [ 2.2000e+01, -9.9988e-01, -5.8383e-05,  1.0805e-02,  3.5916e-02,  0.0000e+00,  3.6148e-02],\n",
      "        [ 3.9000e+01, -9.9990e-01, -5.0366e-05,  1.0035e-02,  3.5920e-02,  0.0000e+00,  3.6148e-02],\n",
      "        [ 2.3000e+01, -9.9992e-01, -4.0412e-05,  8.9913e-03,  3.5925e-02,  0.0000e+00,  3.6148e-02],\n",
      "        [ 2.5000e+01, -9.9996e-01, -1.9878e-05,  6.3057e-03,  3.5939e-02,  0.0000e+00,  3.6148e-02],\n",
      "        [ 2.4000e+01, -9.9996e-01, -1.8268e-05,  6.0442e-03,  3.5940e-02,  0.0000e+00,  3.6148e-02],\n",
      "        [ 2.6000e+01, -9.9999e-01, -6.5565e-06,  3.6235e-03,  3.5953e-02,  0.0000e+00,  3.6148e-02],\n",
      "        [ 2.9000e+01, -1.0000e+00, -4.4703e-07,  9.5583e-04,  3.5966e-02,  0.0000e+00,  3.6148e-02],\n",
      "        [ 2.7000e+01, -9.9999e-01, -3.2782e-06, -2.5563e-03,  3.5982e-02,  0.0000e+00,  3.6148e-02],\n",
      "        [ 3.0000e+01, -9.9999e-01, -3.9041e-06, -2.7897e-03,  3.5983e-02,  0.0000e+00,  3.6148e-02],\n",
      "        [ 3.1000e+01, -9.9997e-01, -1.2517e-05, -5.0050e-03,  3.5993e-02,  0.0000e+00,  3.6148e-02],\n",
      "        [ 3.3000e+01, -9.9993e-01, -3.2961e-05, -8.1177e-03,  3.6007e-02,  0.0000e+00,  3.6148e-02],\n",
      "        [ 3.2000e+01, -9.9992e-01, -3.9637e-05, -8.9044e-03,  3.6010e-02,  0.0000e+00,  3.6148e-02],\n",
      "        [ 3.4000e+01, -9.9991e-01, -4.6134e-05, -9.6066e-03,  3.6013e-02,  0.0000e+00,  3.6148e-02],\n",
      "        [ 3.5000e+01, -9.9979e-01, -1.0383e-04, -1.4411e-02,  3.6033e-02,  0.0000e+00,  3.6148e-02],\n",
      "        [ 3.6000e+01, -9.9978e-01, -1.0881e-04, -1.4751e-02,  3.6034e-02,  0.0000e+00,  3.6148e-02],\n",
      "        [ 3.7000e+01, -9.9971e-01, -1.4526e-04, -1.7043e-02,  3.6043e-02,  0.0000e+00,  3.6148e-02],\n",
      "        [ 4.2000e+01, -9.8166e-01, -9.1694e-03, -1.3480e-01,  3.6066e-02,  0.0000e+00,  3.6148e-02],\n",
      "        [ 3.8000e+01, -9.9904e-01, -4.8220e-04, -3.1048e-02,  3.6091e-02,  0.0000e+00,  3.6148e-02],\n",
      "        [ 4.0000e+01, -9.8849e-01, -5.7562e-03, -1.0699e-01,  3.6145e-02,  0.0000e+00,  3.6148e-02],\n",
      "        [ 1.5000e+01, -9.8888e-01, -5.5601e-03, -1.0516e-01,  3.6148e-02,  0.0000e+00,  3.6148e-02],\n",
      "        [ 6.8000e+01,  9.2861e-01, -3.4668e-01,  2.1631e-01,  3.6240e-02,  0.0000e+00,  1.1513e-01],\n",
      "        [ 4.7000e+01,  5.3103e-01,  2.9655e-01, -5.8037e-14,  3.6327e-02,  0.0000e+00,  7.6367e-02],\n",
      "        [ 7.6000e+01,  5.0839e-01,  2.6258e-01, -2.5044e-11,  4.0787e-02,  0.0000e+00,  1.1513e-01],\n",
      "        [ 5.9000e+01,  4.8341e-01,  2.2510e-01,  1.3804e-10,  4.6300e-02,  0.0000e+00,  1.1513e-01],\n",
      "        [ 7.9000e+01,  1.0000e+00, -3.0744e-01,  1.9530e-10,  4.6514e-02,  0.0000e+00,  1.1513e-01],\n",
      "        [ 9.4000e+01,  3.7307e-01, -2.1081e-01,  2.2074e-01,  4.6787e-02,  0.0000e+00,  1.1513e-01],\n",
      "        [ 7.5000e+01,  4.7135e-01,  2.0702e-01,  9.1077e-06,  4.9159e-02,  0.0000e+00,  1.1513e-01],\n",
      "        [ 5.8000e+01,  4.6467e-01,  1.9700e-01,  7.3909e-19,  5.0790e-02,  0.0000e+00,  1.1513e-01],\n",
      "        [ 9.1000e+01, -3.3691e-03,  2.5902e-02,  2.0629e-01,  5.1389e-02,  0.0000e+00,  1.1513e-01],\n",
      "        [ 8.1000e+01,  9.9997e-01, -2.7747e-01, -9.1815e-06,  5.2274e-02,  0.0000e+00,  1.1513e-01],\n",
      "        [ 7.4000e+01,  1.0000e+00,  2.2722e-01,  4.7771e-08,  5.3312e-02,  0.0000e+00,  1.1513e-01],\n",
      "        [ 6.1000e+01,  9.7777e-01,  2.2863e-01, -9.1893e-02,  5.6443e-02,  0.0000e+00,  1.1513e-01],\n",
      "        [ 8.3000e+01,  2.2849e-01, -1.5731e-01, -1.5982e-05,  5.8892e-02,  0.0000e+00,  1.1513e-01],\n",
      "        [ 5.6000e+01,  8.8242e-01,  8.9924e-02,  2.2372e-01,  6.0563e-02,  0.0000e+00,  1.1513e-01],\n",
      "        [ 6.2000e+01,  9.9982e-01, -2.3608e-01, -4.2988e-06,  6.1378e-02,  0.0000e+00,  1.1513e-01],\n",
      "        [ 9.3000e+01,  5.8794e-01, -1.9246e-01,  4.2078e-06,  6.2087e-02,  0.0000e+00,  1.1513e-01],\n",
      "        [ 9.0000e+01,  2.4264e-01, -1.3464e-01, -4.6978e-04,  6.2769e-02,  0.0000e+00,  1.1513e-01],\n",
      "        [ 6.7000e+01,  1.0000e+00,  1.8496e-01,  1.5085e-11,  6.2775e-02,  0.0000e+00,  1.1513e-01],\n",
      "        [ 9.6000e+01,  6.1325e-01, -1.7368e-01, -1.3972e-05,  6.6642e-02,  0.0000e+00,  1.1513e-01],\n",
      "        [ 8.9000e+01,  2.7207e-01, -9.2526e-02,  1.5721e-04,  6.9315e-02,  0.0000e+00,  1.1513e-01],\n",
      "        [ 4.6000e+01,  8.5024e-01,  1.8027e-01, -2.3616e-01,  6.9531e-02,  0.0000e+00,  7.6367e-02],\n",
      "        [ 6.0000e+01,  9.4990e-01, -2.0598e-01, -1.7199e-01,  6.9821e-02,  0.0000e+00,  1.1513e-01],\n",
      "        [ 8.4000e+01,  3.7779e-01,  6.6685e-02, -1.1102e-11,  7.1321e-02,  0.0000e+00,  1.1513e-01],\n",
      "        [ 8.0000e+01,  3.7037e-01,  5.5556e-02,  2.5505e-13,  7.2548e-02,  0.0000e+00,  1.1513e-01],\n",
      "        [ 8.2000e+01,  3.4516e-01,  1.7805e-02, -4.3167e-05,  7.5336e-02,  0.0000e+00,  1.1513e-01],\n",
      "        [ 8.5000e+01,  3.1740e-01, -2.3895e-02,  1.1126e-07,  7.5508e-02,  0.0000e+00,  1.1513e-01],\n",
      "        [ 8.6000e+01,  3.3723e-01,  8.4810e-03,  4.3901e-04,  7.5557e-02,  0.0000e+00,  1.1513e-01],\n",
      "        [ 4.5000e+01,  7.0319e-01,  1.3048e-01, -3.2713e-01,  7.6367e-02,  0.0000e+00,  7.6367e-02],\n",
      "        [ 5.5000e+01,  1.0000e+00,  8.8396e-02,  5.6353e-08,  8.7507e-02,  0.0000e+00,  1.1513e-01],\n",
      "        [ 6.5000e+01,  1.0000e+00, -1.3115e-01,  9.0294e-09,  8.8143e-02,  0.0000e+00,  1.1513e-01],\n",
      "        [ 5.4000e+01,  9.6746e-01, -1.4152e-01, -1.3528e-01,  9.0268e-02,  0.0000e+00,  1.1513e-01],\n",
      "        [ 9.2000e+01,  6.6345e-01, -7.6284e-02, -7.2146e-02,  9.0617e-02,  0.0000e+00,  1.1513e-01],\n",
      "        [ 5.2000e+01,  9.7365e-01, -1.1992e-01, -1.2075e-01,  9.6845e-02,  0.0000e+00,  1.1513e-01],\n",
      "        [ 6.4000e+01,  9.9998e-01, -7.5472e-02,  2.6136e-05,  9.9692e-02,  0.0000e+00,  1.1513e-01],\n",
      "        [ 1.0000e+02,  7.1060e-01, -5.5756e-03, -1.1123e-01,  1.0003e-01,  0.0000e+00,  1.1513e-01],\n",
      "        [ 5.3000e+01,  1.0000e+00,  2.5376e-02, -1.1113e-05,  1.0040e-01,  0.0000e+00,  1.1513e-01],\n",
      "        [ 6.3000e+01,  1.0000e+00, -6.5911e-02,  4.0176e-06,  1.0105e-01,  0.0000e+00,  1.1513e-01],\n",
      "        [ 1.0300e+02,  7.4151e-01,  6.0548e-03, -1.1083e-01,  1.0117e-01,  0.0000e+00,  1.1513e-01],\n",
      "        [ 5.1000e+01,  1.0000e+00, -3.2884e-02,  6.3850e-08,  1.0376e-01,  0.0000e+00,  1.1513e-01],\n",
      "        [ 5.0000e+01,  1.0000e+00, -3.0017e-02,  6.3673e-08,  1.0384e-01,  0.0000e+00,  1.1513e-01],\n",
      "        [ 4.9000e+01,  1.0000e+00, -2.8887e-02,  6.3603e-08,  1.0386e-01,  0.0000e+00,  1.1513e-01],\n",
      "        [ 9.8000e+01,  9.5675e-01,  6.2333e-02, -1.3939e-01,  1.0536e-01,  0.0000e+00,  1.1513e-01],\n",
      "        [ 1.1600e+02,  7.8475e-01, -6.8325e-03, -1.8020e-01,  1.0653e-01,  0.0000e+00,  1.1513e-01],\n",
      "        [ 1.1800e+02,  7.8969e-01, -6.9534e-03, -1.7959e-01,  1.0683e-01,  0.0000e+00,  1.1513e-01],\n",
      "        [ 9.9000e+01,  9.5754e-01,  5.5219e-02, -1.3903e-01,  1.0710e-01,  0.0000e+00,  1.1513e-01],\n",
      "        [ 1.1900e+02,  7.9654e-01, -3.8087e-03, -1.8096e-01,  1.0722e-01,  0.0000e+00,  1.1513e-01],\n",
      "        [ 1.5600e+02,  8.2716e-01, -7.7302e-03, -1.8751e-01,  1.0924e-01,  0.0000e+00,  1.1555e-01],\n",
      "        [ 1.0100e+02,  9.5469e-01,  4.4191e-02, -1.4508e-01,  1.0974e-01,  0.0000e+00,  1.1513e-01],\n",
      "        [ 1.0200e+02,  9.5468e-01,  3.9608e-02, -1.4293e-01,  1.1052e-01,  0.0000e+00,  1.1513e-01],\n",
      "        [ 1.0400e+02,  9.3180e-01,  3.1223e-02, -1.7844e-01,  1.1235e-01,  0.0000e+00,  1.1513e-01],\n",
      "        [ 1.0500e+02,  9.2456e-01,  2.5114e-02, -1.8737e-01,  1.1305e-01,  0.0000e+00,  1.1513e-01],\n",
      "        [ 1.0600e+02,  9.2281e-01,  2.2114e-02, -1.9029e-01,  1.1339e-01,  0.0000e+00,  1.1513e-01],\n",
      "        [ 1.0700e+02,  9.2073e-01,  1.8796e-02, -1.9311e-01,  1.1369e-01,  0.0000e+00,  1.1513e-01],\n",
      "        [ 1.5900e+02,  8.9821e-01, -9.6679e-05, -2.1116e-01,  1.1370e-01,  0.0000e+00,  1.1555e-01],\n",
      "        [ 1.0800e+02,  9.1616e-01,  1.6519e-02, -1.9809e-01,  1.1372e-01,  0.0000e+00,  1.1513e-01],\n",
      "        [ 1.5500e+02,  8.9905e-01, -5.6412e-03, -2.1576e-01,  1.1383e-01,  0.0000e+00,  1.1555e-01],\n",
      "        [ 1.5300e+02,  9.0204e-01,  2.5647e-03, -2.1522e-01,  1.1384e-01,  0.0000e+00,  1.1555e-01],\n",
      "        [ 1.1000e+02,  9.1246e-01,  1.1724e-02, -2.0325e-01,  1.1396e-01,  0.0000e+00,  1.1513e-01],\n",
      "        [ 1.0900e+02,  9.1668e-01,  1.4320e-02, -1.9831e-01,  1.1396e-01,  0.0000e+00,  1.1513e-01],\n",
      "        [ 1.5000e+02,  9.0451e-01, -5.3048e-04, -2.1329e-01,  1.1411e-01,  0.0000e+00,  1.1538e-01],\n",
      "        [ 1.1400e+02,  9.1041e-01,  7.6531e-03, -2.0539e-01,  1.1413e-01,  0.0000e+00,  1.1513e-01],\n",
      "        [ 1.1100e+02,  9.1409e-01,  1.0512e-02, -2.0107e-01,  1.1414e-01,  0.0000e+00,  1.1513e-01],\n",
      "        [ 1.4200e+02,  9.0516e-01, -2.2990e-04, -2.1087e-01,  1.1416e-01,  0.0000e+00,  1.1524e-01],\n",
      "        [ 1.4300e+02,  9.0581e-01,  2.5839e-04, -2.1155e-01,  1.1418e-01,  0.0000e+00,  1.1524e-01],\n",
      "        [ 1.1200e+02,  9.1323e-01,  9.2363e-03, -2.0261e-01,  1.1419e-01,  0.0000e+00,  1.1513e-01],\n",
      "        [ 1.1300e+02,  9.1158e-01,  7.3627e-03, -2.0448e-01,  1.1422e-01,  0.0000e+00,  1.1513e-01],\n",
      "        [ 1.4800e+02,  9.0702e-01,  1.1776e-03, -2.0966e-01,  1.1423e-01,  0.0000e+00,  1.1524e-01],\n",
      "        [ 1.1500e+02,  9.1173e-01,  7.0789e-03, -2.0450e-01,  1.1425e-01,  0.0000e+00,  1.1513e-01],\n",
      "        [ 1.3200e+02,  9.0867e-01,  3.0905e-03, -2.0527e-01,  1.1426e-01,  0.0000e+00,  1.1513e-01],\n",
      "        [ 1.2000e+02,  9.1467e-01,  8.0513e-03, -1.9656e-01,  1.1431e-01,  0.0000e+00,  1.1513e-01],\n",
      "        [ 1.1700e+02,  9.1227e-01,  6.4761e-03, -2.0402e-01,  1.1431e-01,  0.0000e+00,  1.1513e-01],\n",
      "        [ 1.3300e+02,  9.1314e-01,  6.9995e-03, -2.0285e-01,  1.1433e-01,  0.0000e+00,  1.1513e-01],\n",
      "        [ 1.3600e+02,  9.0984e-01,  2.9892e-03, -2.0559e-01,  1.1434e-01,  0.0000e+00,  1.1513e-01],\n",
      "        [ 1.4600e+02,  9.0875e-01, -9.3639e-05, -2.0827e-01,  1.1439e-01,  0.0000e+00,  1.1524e-01],\n",
      "        [ 1.3500e+02,  9.1063e-01,  2.2002e-03, -2.0576e-01,  1.1443e-01,  0.0000e+00,  1.1513e-01],\n",
      "        [ 1.4000e+02,  9.0995e-01,  9.4515e-04, -2.0646e-01,  1.1443e-01,  0.0000e+00,  1.1513e-01],\n",
      "        [ 1.4400e+02,  9.0928e-01, -4.1819e-04, -2.0775e-01,  1.1443e-01,  0.0000e+00,  1.1524e-01],\n",
      "        [ 1.4700e+02,  9.0876e-01, -2.1043e-03, -2.0855e-01,  1.1444e-01,  0.0000e+00,  1.1524e-01],\n",
      "        [ 1.3900e+02,  9.1156e-01,  2.5759e-03, -2.0435e-01,  1.1447e-01,  0.0000e+00,  1.1513e-01],\n",
      "        [ 1.3800e+02,  9.1178e-01,  2.6889e-03, -2.0505e-01,  1.1448e-01,  0.0000e+00,  1.1513e-01],\n",
      "        [ 1.2300e+02,  9.1735e-01,  7.3126e-03, -1.9769e-01,  1.1454e-01,  0.0000e+00,  1.1513e-01],\n",
      "        [ 1.2500e+02,  9.1606e-01,  6.0366e-03, -1.9906e-01,  1.1455e-01,  0.0000e+00,  1.1513e-01],\n",
      "        [ 1.2900e+02,  9.1516e-01,  4.5941e-03, -2.0064e-01,  1.1458e-01,  0.0000e+00,  1.1513e-01],\n",
      "        [ 1.3000e+02,  9.1404e-01,  1.5702e-03, -2.0212e-01,  1.1466e-01,  0.0000e+00,  1.1513e-01],\n",
      "        [ 1.2800e+02,  9.1755e-01,  5.2332e-03, -1.9820e-01,  1.1468e-01,  0.0000e+00,  1.1513e-01],\n",
      "        [ 1.2100e+02,  9.2017e-01,  7.2899e-03, -1.9494e-01,  1.1469e-01,  0.0000e+00,  1.1513e-01],\n",
      "        [ 1.2200e+02,  9.2215e-01,  8.5903e-03, -1.9241e-01,  1.1469e-01,  0.0000e+00,  1.1513e-01],\n",
      "        [ 1.3700e+02,  9.1630e-01,  3.7469e-03, -1.9956e-01,  1.1469e-01,  0.0000e+00,  1.1513e-01],\n",
      "        [ 1.2700e+02,  9.1837e-01,  5.6622e-03, -1.9691e-01,  1.1469e-01,  0.0000e+00,  1.1513e-01],\n",
      "        [ 1.2400e+02,  9.1973e-01,  6.7962e-03, -1.9554e-01,  1.1470e-01,  0.0000e+00,  1.1513e-01],\n",
      "        [ 1.4500e+02,  9.1502e-01,  1.8682e-03, -2.0139e-01,  1.1470e-01,  0.0000e+00,  1.1524e-01],\n",
      "        [ 1.3100e+02,  9.1655e-01,  3.6433e-03, -1.9891e-01,  1.1470e-01,  0.0000e+00,  1.1513e-01],\n",
      "        [ 1.2600e+02,  9.1830e-01,  5.1946e-03, -1.9740e-01,  1.1472e-01,  0.0000e+00,  1.1513e-01],\n",
      "        [ 1.3400e+02,  9.2054e-01,  6.3947e-03, -1.9453e-01,  1.1476e-01,  0.0000e+00,  1.1513e-01],\n",
      "        [ 4.8000e+01,  9.1864e-01, -1.0500e-02, -1.9862e-01,  1.1513e-01,  0.0000e+00,  1.1513e-01],\n",
      "        [ 1.7400e+02,  9.3457e-01,  7.1652e-03, -1.7524e-01,  1.1517e-01,  1.0000e+00,  1.1573e-01],\n",
      "        [ 1.7100e+02,  9.3353e-01,  1.9597e-03, -1.6852e-01,  1.1520e-01,  1.0000e+00,  1.1573e-01],\n",
      "        [ 1.4100e+02,  9.2839e-01,  3.9932e-03, -1.8535e-01,  1.1524e-01,  0.0000e+00,  1.1524e-01],\n",
      "        [ 1.6500e+02,  9.3334e-01,  6.0274e-03, -1.7877e-01,  1.1527e-01,  0.0000e+00,  1.1555e-01],\n",
      "        [ 1.4900e+02,  9.3080e-01,  2.8065e-03, -1.8225e-01,  1.1538e-01,  0.0000e+00,  1.1538e-01],\n",
      "        [ 1.5400e+02,  9.3373e-01,  3.5934e-03, -1.7820e-01,  1.1543e-01,  0.0000e+00,  1.1555e-01],\n",
      "        [ 1.5100e+02,  9.3169e-01,  2.6099e-03, -1.8138e-01,  1.1543e-01,  0.0000e+00,  1.1543e-01],\n",
      "        [ 1.6400e+02,  9.2510e-01, -6.3201e-03, -1.8889e-01,  1.1544e-01,  0.0000e+00,  1.1555e-01],\n",
      "        [ 1.6000e+02,  9.2801e-01, -7.6896e-04, -1.8584e-01,  1.1544e-01,  0.0000e+00,  1.1555e-01],\n",
      "        [ 1.6300e+02,  9.3393e-01,  3.0537e-03, -1.7816e-01,  1.1547e-01,  0.0000e+00,  1.1555e-01],\n",
      "        [ 1.6100e+02,  9.3228e-01,  1.2653e-03, -1.7960e-01,  1.1549e-01,  0.0000e+00,  1.1555e-01],\n",
      "        [ 1.5700e+02,  9.3299e-01,  1.6695e-03, -1.7956e-01,  1.1551e-01,  0.0000e+00,  1.1555e-01],\n",
      "        [ 1.6200e+02,  9.3407e-01,  2.2453e-03, -1.7819e-01,  1.1552e-01,  0.0000e+00,  1.1555e-01],\n",
      "        [ 1.5800e+02,  9.3429e-01,  2.1119e-03, -1.7773e-01,  1.1552e-01,  0.0000e+00,  1.1555e-01],\n",
      "        [ 1.5200e+02,  9.3331e-01,  8.5866e-04, -1.7881e-01,  1.1555e-01,  0.0000e+00,  1.1555e-01],\n",
      "        [ 1.6600e+02,  9.3267e-01,  1.6749e-05, -1.7906e-01,  1.1555e-01,  0.0000e+00,  1.1555e-01],\n",
      "        [ 1.6900e+02,  9.3358e-01,  2.2954e-04, -1.7824e-01,  1.1558e-01,  0.0000e+00,  1.1567e-01],\n",
      "        [ 1.7200e+02,  9.3536e-01,  1.5363e-03, -1.7657e-01,  1.1559e-01,  1.0000e+00,  1.1573e-01],\n",
      "        [ 1.6700e+02,  9.3353e-01, -9.4515e-04, -1.7779e-01,  1.1561e-01,  0.0000e+00,  1.1561e-01],\n",
      "        [ 1.7300e+02,  9.3511e-01, -4.3154e-04, -1.7713e-01,  1.1567e-01,  1.0000e+00,  1.1573e-01],\n",
      "        [ 1.6800e+02,  9.3577e-01, -6.0081e-05, -1.7622e-01,  1.1567e-01,  0.0000e+00,  1.1567e-01],\n",
      "        [ 1.7000e+02,  9.3559e-01, -1.5655e-03, -1.7665e-01,  1.1573e-01,  1.0000e+00,  1.1573e-01]])\n"
     ]
    }
   ],
   "source": [
    "lds = all_lambdas(train_x)\n",
    "lambda_thetas     = lds.transpose(-2,-1)[0]\n",
    "lambda_phis       = lds.transpose(-2,-1)[1]\n",
    "lambda_theta_phis = lds.transpose(-2,-1)[2]\n",
    "c = torch.stack((\n",
    "    torch.arange(0,num_queries, dtype=int),\n",
    "    lambda_thetas[0:num_queries],\n",
    "    lambda_phis[0:num_queries],\n",
    "    lambda_theta_phis[0:num_queries],\n",
    "    train_utility.squeeze()[0:num_queries],\n",
    "    (feasible_incumbents==feasible_incumbents.max())[0],\n",
    "    feasible_incumbents[0]\n",
    "),0).transpose(-2,-1)\n",
    "torch.set_printoptions(precision=4,threshold=10_000, linewidth=120)\n",
    "c_sorted = c[c[:, 4].sort()[1]]\n",
    "print(c_sorted)"
   ]
  },
  {
   "cell_type": "code",
   "execution_count": 17,
   "metadata": {},
   "outputs": [
    {
     "data": {
      "image/png": "[encoded data removed]",
      "text/plain": [
       "<IPython.core.display.Image object>"
      ]
     },
     "metadata": {},
     "output_type": "display_data"
    }
   ],
   "source": [
    "gStyle.SetOptStat(0)\n",
    "\n",
    "def plotComparison(histMC, histData):\n",
    "    can = TCanvas(\"can\",\"can\",600,600)\n",
    "    can.Divide(2,2)\n",
    "    can.Draw()\n",
    "    can.cd(1)\n",
    "    histMC.Draw(\"COLZ\")\n",
    "    can.cd(2)\n",
    "    histData.Draw(\"COLZ\")\n",
    "    pad = can.cd(3)\n",
    "    pad.SetRightMargin(0.155)\n",
    "    pad = can.cd(3)\n",
    "    hdiff = diffHist(histMC, histData)\n",
    "    hdiff.Draw(\"COLZ\")\n",
    "    can.Update()\n",
    "    palette = hdiff.GetListOfFunctions().FindObject(\"palette\")\n",
    "    palette.SetX1NDC(0.85)\n",
    "    palette.SetX2NDC(0.9)\n",
    "    can.Modified()\n",
    "    can.Update()\n",
    "    can.cd(4)\n",
    "    nby = histMC.GetNbinsX()\n",
    "    py = histMC.ProjectionY(\"py\",1,nby)\n",
    "    py.Draw(\"HIST\")\n",
    "    return can, hdiff, py\n",
    "\n",
    "bestIndex = int(c_sorted[-1][0].item())\n",
    "can1, hdiff1, py1 = plotComparison(allHistsMC[bestIndex], histsData[0][HIST_INDEX])\n"
   ]
  },
  {
   "cell_type": "code",
   "execution_count": 18,
   "metadata": {},
   "outputs": [
    {
     "name": "stderr",
     "output_type": "stream",
     "text": [
      "Warning in <TCanvas::Constructor>: Deleting canvas with same name: can\n"
     ]
    },
    {
     "data": {
      "image/png": "[encoded data removed]",
      "text/plain": [
       "<IPython.core.display.Image object>"
      ]
     },
     "metadata": {},
     "output_type": "display_data"
    }
   ],
   "source": [
    "worstIndex = int(c_sorted[0][0].item())\n",
    "can2, hdiff2, py2 = plotComparison(allHistsMC[worstIndex], histsData[0][HIST_INDEX])"
   ]
  },
  {
   "cell_type": "code",
   "execution_count": 19,
   "metadata": {},
   "outputs": [
    {
     "data": {
      "image/png": "[encoded data removed]",
      "text/plain": [
       "<IPython.core.display.Image object>"
      ]
     },
     "metadata": {},
     "output_type": "display_data"
    }
   ],
   "source": [
    "base_hists = histMakerMC.builder.base_hists\n",
    "can3 = TCanvas(\"c\",\"C\",900,1200)\n",
    "can3.Divide(3,4)\n",
    "can3.Draw()\n",
    "for i, hist in enumerate(base_hists[0]):\n",
    "    can3.cd(i+1)\n",
    "    if not isinstance(hist, list):\n",
    "        hist.Draw(\"COLZ\")\n",
    "    else:\n",
    "        print(hist)\n"
   ]
  },
  {
   "cell_type": "code",
   "execution_count": 20,
   "metadata": {},
   "outputs": [
    {
     "name": "stderr",
     "output_type": "stream",
     "text": [
      "Warning in <TCanvas::Constructor>: Deleting canvas with same name: c\n"
     ]
    },
    {
     "data": {
      "image/png": "[encoded data removed]",
      "text/plain": [
       "<IPython.core.display.Image object>"
      ]
     },
     "metadata": {},
     "output_type": "display_data"
    }
   ],
   "source": [
    "can4 = TCanvas(\"c\",\"C\",900,1200)\n",
    "can4.Divide(3,4)\n",
    "can4.Draw()\n",
    "for i, hist in enumerate(histsData[0]):\n",
    "    can4.cd(i+1)\n",
    "    if not isinstance(hist, list):\n",
    "        hist.Draw(\"COLZ\")\n",
    "    else:\n",
    "        print(hist)"
   ]
  },
  {
   "cell_type": "code",
   "execution_count": 21,
   "metadata": {},
   "outputs": [
    {
     "name": "stdout",
     "output_type": "stream",
     "text": [
      "0.0704415887594223\n"
     ]
    },
    {
     "name": "stderr",
     "output_type": "stream",
     "text": [
      "Info in <TH3F::SaveAs>: ROOT file pm.root has been created\n"
     ]
    }
   ],
   "source": [
    "from ROOT import TH3F\n",
    "\n",
    "pm = predictive_mean.reshape(101,101,101)\n",
    "pm_min = pm.min()\n",
    "print(pm[100][100][100].item())\n",
    "hpm = TH3F(\"hpm\",\"predictive mean\", 101, 0, 1, 101, 0, 2*math.pi, 101, 0, 2)\n",
    "for binx in range(1,101):\n",
    "    for biny in range(1,101):\n",
    "        for binz in range(1,101):\n",
    "            if pm_min < 0:\n",
    "                hpm.SetBinContent(binx,biny,binz,pm[binx][biny][binz].item()-pm_min)\n",
    "hpm.SaveAs(\"pm.root\")\n"
   ]
  },
  {
   "cell_type": "code",
   "execution_count": 22,
   "metadata": {},
   "outputs": [
    {
     "name": "stdout",
     "output_type": "stream",
     "text": [
      "0\n",
      "1000000\n",
      "2000000\n",
      "3000000\n",
      "4000000\n",
      "5000000\n",
      "6000000\n",
      "7000000\n",
      "8000000\n",
      "9000000\n",
      "10000000\n",
      "11000000\n",
      "12000000\n",
      "13000000\n",
      "14000000\n",
      "15000000\n",
      "16000000\n",
      "17000000\n",
      "18000000\n",
      "19000000\n",
      "20000000\n",
      "21000000\n",
      "22000000\n",
      "23000000\n",
      "24000000\n",
      "25000000\n",
      "26000000\n",
      "27000000\n",
      "28000000\n",
      "29000000\n",
      "30000000\n",
      "31000000\n",
      "32000000\n",
      "33000000\n",
      "34000000\n",
      "35000000\n",
      "36000000\n",
      "37000000\n",
      "38000000\n",
      "39000000\n",
      "40000000\n",
      "41000000\n",
      "42000000\n",
      "43000000\n",
      "44000000\n",
      "45000000\n",
      "46000000\n",
      "47000000\n",
      "48000000\n",
      "49000000\n",
      "50000000\n",
      "51000000\n",
      "52000000\n",
      "53000000\n",
      "54000000\n",
      "55000000\n",
      "56000000\n",
      "57000000\n",
      "58000000\n",
      "59000000\n",
      "60000000\n",
      "61000000\n",
      "62000000\n",
      "63000000\n",
      "64000000\n",
      "65000000\n",
      "66000000\n",
      "67000000\n",
      "68000000\n",
      "69000000\n",
      "70000000\n",
      "71000000\n",
      "72000000\n",
      "73000000\n",
      "74000000\n",
      "75000000\n",
      "76000000\n",
      "77000000\n",
      "78000000\n",
      "79000000\n",
      "0.8638442697396428 0.3621758977410972 0.9367256623619042\n"
     ]
    },
    {
     "data": {
      "text/plain": [
       "array([[0.08093848, 0.01300573, 0.01167959],\n",
       "       [0.01300573, 3.73306069, 0.04867745],\n",
       "       [0.01167959, 0.04867745, 0.27234923]])"
      ]
     },
     "execution_count": 22,
     "metadata": {},
     "output_type": "execute_result"
    }
   ],
   "source": [
    "%%script false\n",
    "\n",
    "from ctypes import c_double\n",
    "\n",
    "rnd_points = []\n",
    "\n",
    "x = c_double(0.0)\n",
    "y = c_double(0.0)\n",
    "z = c_double(0.0)\n",
    "for i in range(80_000_000):\n",
    "    if i % 10000000 == 0:\n",
    "        print(i)\n",
    "    hpm.GetRandom3(x,y,z)\n",
    "    rnd_points.append([x.value,y.value,z.value])\n",
    "\n",
    "print(x.value,y.value,z.value)\n",
    "covariance = np.cov(rnd_points, rowvar=False)\n",
    "covariance"
   ]
  },
  {
   "cell_type": "code",
   "execution_count": 23,
   "metadata": {},
   "outputs": [
    {
     "data": {
      "text/plain": [
       "array([[0.08420339, 0.01142861, 0.01220798],\n",
       "       [0.01142861, 3.8836951 , 0.04476124],\n",
       "       [0.01220798, 0.04476124, 0.28217765]])"
      ]
     },
     "execution_count": 23,
     "metadata": {},
     "output_type": "execute_result"
    }
   ],
   "source": [
    "predictive_mean_2 = predictive_mean - predictive_mean.min()\n",
    "\n",
    "covariance_2 = np.cov(xs, rowvar=False, aweights=predictive_mean_2)\n",
    "covariance_2"
   ]
  },
  {
   "cell_type": "code",
   "execution_count": 24,
   "metadata": {},
   "outputs": [
    {
     "data": {
      "text/plain": [
       "array([[0.29017821, 0.10690466, 0.11048973],\n",
       "       [0.10690466, 1.97070929, 0.21156851],\n",
       "       [0.11048973, 0.21156851, 0.53120396]])"
      ]
     },
     "execution_count": 24,
     "metadata": {},
     "output_type": "execute_result"
    }
   ],
   "source": [
    "np.sqrt(covariance_2)"
   ]
  },
  {
   "cell_type": "code",
   "execution_count": 26,
   "metadata": {},
   "outputs": [],
   "source": [
    "all = all_lambdas(xs)\n",
    "cov_lambda = np.cov(all, rowvar=False, aweights=predictive_mean_2)"
   ]
  },
  {
   "cell_type": "code",
   "execution_count": 45,
   "metadata": {},
   "outputs": [
    {
     "data": {
      "text/plain": [
       "array([[ 0.5282171 ,  0.22751636, -0.08434706],\n",
       "       [ 0.22751636,  0.40082493, -0.0593677 ],\n",
       "       [-0.08434706, -0.0593677 ,  0.27634086]])"
      ]
     },
     "execution_count": 45,
     "metadata": {},
     "output_type": "execute_result"
    }
   ],
   "source": [
    "sgn_lambda = 1.0*(cov_lambda > 0) + -1.0*(cov_lambda < 0)\n",
    "\n",
    "np.multiply(\n",
    "    sgn_lambda, np.sqrt(\n",
    "        np.multiply(\n",
    "            sgn_lambda, cov_lambda\n",
    "        )\n",
    "    )\n",
    ")"
   ]
  },
  {
   "cell_type": "code",
   "execution_count": null,
   "metadata": {},
   "outputs": [],
   "source": []
  },
  {
   "cell_type": "code",
   "execution_count": null,
   "metadata": {},
   "outputs": [],
   "source": []
  }
 ],
 "metadata": {
  "kernelspec": {
   "display_name": "Python 3",
   "language": "python",
   "name": "python3"
  },
  "language_info": {
   "codemirror_mode": {
    "name": "ipython",
    "version": 3
   },
   "file_extension": ".py",
   "mimetype": "text/x-python",
   "name": "python",
   "nbconvert_exporter": "python",
   "pygments_lexer": "ipython3",
   "version": "3.11.4"
  },
  "orig_nbformat": 4
 },
 "nbformat": 4,
 "nbformat_minor": 2
}
