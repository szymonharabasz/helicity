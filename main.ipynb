{
 "cells": [
  {
   "cell_type": "code",
   "execution_count": 1,
   "metadata": {},
   "outputs": [
    {
     "name": "stdout",
     "output_type": "stream",
     "text": [
      "Welcome to JupyROOT 6.28/04\n"
     ]
    }
   ],
   "source": [
    "# %env PYTORCH_ENABLE_MPS_FALLBACK=1\n",
    "\n",
    "from bins import Bins\n",
    "from utils import calcAllChi2, calcOneChi2, HistMaker, diffHist\n",
    "from ROOT import TFile, TH1, TCanvas, TStyle, gStyle, Form\n",
    "import math"
   ]
  },
  {
   "cell_type": "code",
   "execution_count": 2,
   "metadata": {},
   "outputs": [
    {
     "name": "stdout",
     "output_type": "stream",
     "text": [
      "iter 0\n",
      "Before processing events 16:31:38\n",
      "After processing events 16:31:41\n",
      "iter 1\n",
      "Before processing events 16:31:48\n",
      "After processing events 16:31:48\n"
     ]
    }
   ],
   "source": [
    "bins = Bins.readFrom(\"ranges.yml\")\n",
    "histMakerData = HistMaker(\"088_090_ag123ag_2500A_accepted_np.dat\", \"_data\", bins)\n",
    "#histsData = histMakerData.makeHists()\n",
    "histsData = histMakerData.makeHists()\n",
    "#histMakerMC = HistMaker(\"medium_isotropic_eff_ag1230ag_np_9deg.dat\", \"_MC\", bins    )\n",
    "#histMakerMC = HistMaker(\"mar19_diele_inmedium_heli0cm_np.dat\", \"_MC\", bins    )\n",
    "histMakerMC = HistMaker(\"mar19_diele_pi0_heli0cm_np.dat\", \"_MC\", bins    )\n",
    "\n",
    "allHistsMC = []"
   ]
  },
  {
   "cell_type": "code",
   "execution_count": 3,
   "metadata": {},
   "outputs": [],
   "source": [
    "import torch\n",
    "\n",
    "torch.device(\"mps\")\n",
    "torch.manual_seed(0)\n",
    "\n",
    "import gpytorch\n",
    "import botorch\n",
    "\n",
    "import matplotlib.pyplot as plt\n",
    "\n",
    "plt.style.use(\"bmh\")\n",
    "plt.rcParams[\"figure.figsize\"] = (8, 6)\n",
    "\n",
    "from tqdm.notebook import tqdm\n",
    "\n",
    "import warnings"
   ]
  },
  {
   "cell_type": "code",
   "execution_count": 4,
   "metadata": {},
   "outputs": [],
   "source": [
    "TH1.SetDefaultSumw2\n",
    "\n",
    "N_PARAMS = 3"
   ]
  },
  {
   "cell_type": "code",
   "execution_count": 5,
   "metadata": {},
   "outputs": [],
   "source": [
    "#lb = -1\n",
    "#ub = 1\n",
    "\n",
    "#bounds = torch.tensor([[lb]*N_PARAMS, [ub]*N_PARAMS], dtype=torch.float)\n",
    "bounds = torch.tensor([[0, 0,         0],\n",
    "                       [1, 2*math.pi, 2]], dtype=torch.float)\n",
    "\n",
    "grid_r   = torch.linspace(bounds[0][0], bounds[1][0], 101)\n",
    "grid_phi = torch.linspace(bounds[0][1], bounds[1][1], 101)\n",
    "grid_z   = torch.linspace(bounds[0][2], bounds[1][2], 101)\n",
    "\n",
    "grid_x1, grid_x2, grid_x3 = torch.meshgrid(grid_r, grid_phi, grid_z, indexing=\"ij\")\n",
    "\n",
    "xs = torch.vstack([grid_x1.flatten(), grid_x2.flatten(), grid_x3.flatten()]).transpose(-2,-1)"
   ]
  },
  {
   "cell_type": "code",
   "execution_count": 6,
   "metadata": {},
   "outputs": [],
   "source": [
    "class GPModel(gpytorch.models.ExactGP, botorch.models.gpytorch.GPyTorchModel):\n",
    "    _num_outputs = 1\n",
    "\n",
    "    def __init__(self, train_x, train_y, likelihood):\n",
    "        super().__init__(train_x, train_y, likelihood)\n",
    "        self.mean_module = gpytorch.means.ConstantMean()\n",
    "        self.covar_module = gpytorch.kernels.ScaleKernel(\n",
    "            gpytorch.kernels.MaternKernel(nu=2.5, ard_num_dims=1)\n",
    "        )\n",
    "\n",
    "    def forward(self, x):\n",
    "        mean_x = self.mean_module(x)\n",
    "        covar_x = self.covar_module(x)\n",
    "        mean_x = mean_x.to(mps_device)\n",
    "        covar_x = covar_x.to(mps_device)\n",
    "        return gpytorch.distributions.MultivariateNormal(mean_x, covar_x)\n",
    "\n",
    "torch.backends.mps.is_available()\n",
    "#mps_device = torch.device(\"mps\")\n",
    "mps_device = torch.device(\"cpu\")\n",
    "\n",
    "def fit_gp_model(train_x, train_y, num_train_iters=500):\n",
    "    train_x = train_x.to(mps_device)\n",
    "    train_y = train_y.to(mps_device)\n",
    "\n",
    "    # declare the GP\n",
    "    noise = 1e-4\n",
    "\n",
    "    likelihood = gpytorch.likelihoods.GaussianLikelihood()\n",
    "    model = GPModel(train_x, train_y, likelihood)\n",
    "    model.likelihood.noise = noise\n",
    "    likelihood = likelihood.to(mps_device)\n",
    "    model = model.to(mps_device)\n",
    "\n",
    "    # train the hyperparameter (the constant)\n",
    "    optimizer = torch.optim.Adam(model.parameters(), lr=0.01)\n",
    "    mll = gpytorch.mlls.ExactMarginalLogLikelihood(likelihood, model)\n",
    "\n",
    "    model.train()\n",
    "    likelihood.train()\n",
    "\n",
    "    for i in range(num_train_iters):\n",
    "        optimizer.zero_grad()\n",
    "\n",
    "        output = model(train_x)\n",
    "        loss = -mll(output, train_y)\n",
    "\n",
    "        loss.backward()\n",
    "        \n",
    "        optimizer.step()\n",
    "\n",
    "    model.eval()\n",
    "    likelihood.eval()\n",
    "\n",
    "    return model.cpu(), likelihood.cpu()"
   ]
  },
  {
   "cell_type": "code",
   "execution_count": 7,
   "metadata": {},
   "outputs": [],
   "source": [
    "num_queries = 175\n",
    "num_repeats = 1\n",
    "num_samples = 1"
   ]
  },
  {
   "cell_type": "code",
   "execution_count": 8,
   "metadata": {},
   "outputs": [],
   "source": [
    "def lambdas(xx):\n",
    "   # return x[0], x[1], x[2]\n",
    "    r, phi, z = xx[0], xx[1], xx[2]\n",
    "    x = r*math.cos(phi)\n",
    "    y = r*math.sin(phi)\n",
    "    lambda_theta = 0.5 * (2*x + z)\n",
    "    lambda_phi   = 0.25 * (-2 - 2*x + 3*z)\n",
    "    lambda_theta_phi = y/math.sqrt(2.)\n",
    "    return lambda_theta, lambda_phi, lambda_theta_phi\n",
    "\n",
    "def all_lambdas(xx):\n",
    "    def generator(xx):\n",
    "        for x in xx:\n",
    "            lambda_theta, lambda_phi, lambda_theta_phi = lambdas(x)\n",
    "            yield torch.tensor([lambda_theta, lambda_phi, lambda_theta_phi])\n",
    "           # yield torch.tensor([1./(chi2 / ndf)])\n",
    "    return torch.stack([a for a in generator(xx)])\n",
    "    \n",
    "HIST_INDEX = 2\n",
    "\n",
    "def objective(xx):\n",
    "    def generator(xx):\n",
    "        for x in xx:\n",
    "            lambda_theta, lambda_phi, lambda_theta_phi = lambdas(x)\n",
    "\n",
    "            histsMC = histMakerMC.makeHists(lambda_theta, lambda_phi, lambda_theta_phi)\n",
    "            chi2, ndf = calcOneChi2(histsMC[0][HIST_INDEX], histsData[0][HIST_INDEX])\n",
    "            allHistsMC.append(histsMC[0][HIST_INDEX])\n",
    "            if not chi2 or not ndf:\n",
    "                return torch.tensor([0])\n",
    "            yield torch.tensor([1.0/(chi2 / ndf)])\n",
    "           # yield torch.tensor([1./(chi2 / ndf)])\n",
    "    return torch.stack([a for a in generator(xx)])"
   ]
  },
  {
   "cell_type": "code",
   "execution_count": 9,
   "metadata": {},
   "outputs": [
    {
     "name": "stdout",
     "output_type": "stream",
     "text": [
      "trial 0\n",
      "tensor([[0.4963, 4.8269, 0.1770]])\n",
      "torch.Size([1, 3])\n"
     ]
    },
    {
     "data": {
      "application/vnd.jupyter.widget-view+json": {
       "model_id": "3ef1801849534063a77f9f7f0480dee7",
       "version_major": 2,
       "version_minor": 0
      },
      "text/plain": [
       "  0%|          | 0/175 [00:00<?, ?it/s]"
      ]
     },
     "metadata": {},
     "output_type": "display_data"
    }
   ],
   "source": [
    "# -2 is the default value when no feasible has been found\n",
    "default_value = 0\n",
    "feasible_incumbents = torch.ones((num_repeats, num_queries)) * default_value\n",
    "\n",
    "best_fs = []\n",
    "\n",
    "for trial in range(num_repeats):\n",
    "    print(\"trial\", trial)\n",
    "\n",
    "    torch.manual_seed(trial)\n",
    "    train_x = bounds[0] + (bounds[1] - bounds[0]) * torch.rand(num_samples, 3)\n",
    "###                inequality_constraints=[(torch.tensor([0,2]),torch.tensor([-2.0,-1.0],dtype=torch.float),-2.0)],\n",
    "    while -2.0*train_x[0][0] - 1.0*train_x[0][2] < -2:\n",
    "        train_x = bounds[0] + (bounds[1] - bounds[0]) * torch.rand(num_samples, 3)\n",
    "    print(train_x)\n",
    "    print(train_x.shape)\n",
    "    train_utility = objective(train_x).to(mps_device)\n",
    "    train_x = train_x.to(mps_device)\n",
    "\n",
    "    for i in tqdm(range(num_queries)):\n",
    "        feasible_incumbents[trial, i] = train_utility.max()\n",
    "        utility_model, utility_likelihood = fit_gp_model(\n",
    "            train_x, train_utility.squeeze(-1)\n",
    "        )\n",
    "        best_f = train_utility.max()\n",
    "        best_fs.append(best_f.item())\n",
    "                \n",
    "       # policy = botorch.acquisition.monte_carlo.qExpectedImprovement(\n",
    "        policy = botorch.acquisition.analytic.LogExpectedImprovement(\n",
    "       # policy = botorch.acquisition.logei.qLogExpectedImprovement(\n",
    "       # policy = botorch.acquisition.analytic.LogProbabilityOfImprovement(\n",
    "       # policy = botorch.acquisition.analytic.PosteriorMean(\n",
    "            model=utility_model,\n",
    "            best_f=train_utility.max(),\n",
    "        ).to(mps_device)\n",
    "        bounds = bounds.to(mps_device)\n",
    "\n",
    "        with warnings.catch_warnings():\n",
    "            warnings.filterwarnings('ignore', category=RuntimeWarning)\n",
    "            next_x, acq_val = botorch.optim.optimize_acqf(\n",
    "                policy,\n",
    "                bounds=bounds,\n",
    "                q=1,\n",
    "                num_restarts=40,\n",
    "                raw_samples=100,\n",
    "                inequality_constraints=[(torch.tensor([0,2],device=mps_device),torch.tensor([-2.0,-1.0],dtype=torch.float,device=mps_device),-2.0)],\n",
    "            )\n",
    "\n",
    "        next_utility = objective(next_x).to(mps_device)\n",
    "\n",
    "        train_x = torch.cat([train_x, next_x])\n",
    "        train_utility = torch.cat([train_utility, next_utility])"
   ]
  },
  {
   "cell_type": "code",
   "execution_count": 10,
   "metadata": {},
   "outputs": [
    {
     "name": "stdout",
     "output_type": "stream",
     "text": [
      "Writing hist:  hist_0to150_p03p08_MC_iter2\n",
      "Writing hist:  hist_0to150_p03p08_MC_iter3\n",
      "Writing hist:  hist_0to150_p03p08_MC_iter4\n",
      "Writing hist:  hist_0to150_p03p08_MC_iter5\n",
      "Writing hist:  hist_0to150_p03p08_MC_iter6\n",
      "Writing hist:  hist_0to150_p03p08_MC_iter7\n",
      "Writing hist:  hist_0to150_p03p08_MC_iter8\n",
      "Writing hist:  hist_0to150_p03p08_MC_iter9\n",
      "Writing hist:  hist_0to150_p03p08_MC_iter10\n",
      "Writing hist:  hist_0to150_p03p08_MC_iter11\n",
      "Writing hist:  hist_0to150_p03p08_MC_iter12\n",
      "Writing hist:  hist_0to150_p03p08_MC_iter13\n",
      "Writing hist:  hist_0to150_p03p08_MC_iter14\n",
      "Writing hist:  hist_0to150_p03p08_MC_iter15\n",
      "Writing hist:  hist_0to150_p03p08_MC_iter16\n",
      "Writing hist:  hist_0to150_p03p08_MC_iter17\n",
      "Writing hist:  hist_0to150_p03p08_MC_iter18\n",
      "Writing hist:  hist_0to150_p03p08_MC_iter19\n",
      "Writing hist:  hist_0to150_p03p08_MC_iter20\n",
      "Writing hist:  hist_0to150_p03p08_MC_iter21\n",
      "Writing hist:  hist_0to150_p03p08_MC_iter22\n",
      "Writing hist:  hist_0to150_p03p08_MC_iter23\n",
      "Writing hist:  hist_0to150_p03p08_MC_iter24\n",
      "Writing hist:  hist_0to150_p03p08_MC_iter25\n",
      "Writing hist:  hist_0to150_p03p08_MC_iter26\n",
      "Writing hist:  hist_0to150_p03p08_MC_iter27\n",
      "Writing hist:  hist_0to150_p03p08_MC_iter28\n",
      "Writing hist:  hist_0to150_p03p08_MC_iter29\n",
      "Writing hist:  hist_0to150_p03p08_MC_iter30\n",
      "Writing hist:  hist_0to150_p03p08_MC_iter31\n",
      "Writing hist:  hist_0to150_p03p08_MC_iter32\n",
      "Writing hist:  hist_0to150_p03p08_MC_iter33\n",
      "Writing hist:  hist_0to150_p03p08_MC_iter34\n",
      "Writing hist:  hist_0to150_p03p08_MC_iter35\n",
      "Writing hist:  hist_0to150_p03p08_MC_iter36\n",
      "Writing hist:  hist_0to150_p03p08_MC_iter37\n",
      "Writing hist:  hist_0to150_p03p08_MC_iter38\n",
      "Writing hist:  hist_0to150_p03p08_MC_iter39\n",
      "Writing hist:  hist_0to150_p03p08_MC_iter40\n",
      "Writing hist:  hist_0to150_p03p08_MC_iter41\n",
      "Writing hist:  hist_0to150_p03p08_MC_iter42\n",
      "Writing hist:  hist_0to150_p03p08_MC_iter43\n",
      "Writing hist:  hist_0to150_p03p08_MC_iter44\n",
      "Writing hist:  hist_0to150_p03p08_MC_iter45\n",
      "Writing hist:  hist_0to150_p03p08_MC_iter46\n",
      "Writing hist:  hist_0to150_p03p08_MC_iter47\n",
      "Writing hist:  hist_0to150_p03p08_MC_iter48\n",
      "Writing hist:  hist_0to150_p03p08_MC_iter49\n",
      "Writing hist:  hist_0to150_p03p08_MC_iter50\n",
      "Writing hist:  hist_0to150_p03p08_MC_iter51\n",
      "Writing hist:  hist_0to150_p03p08_MC_iter52\n",
      "Writing hist:  hist_0to150_p03p08_MC_iter53\n",
      "Writing hist:  hist_0to150_p03p08_MC_iter54\n",
      "Writing hist:  hist_0to150_p03p08_MC_iter55\n",
      "Writing hist:  hist_0to150_p03p08_MC_iter56\n",
      "Writing hist:  hist_0to150_p03p08_MC_iter57\n",
      "Writing hist:  hist_0to150_p03p08_MC_iter58\n",
      "Writing hist:  hist_0to150_p03p08_MC_iter59\n",
      "Writing hist:  hist_0to150_p03p08_MC_iter60\n",
      "Writing hist:  hist_0to150_p03p08_MC_iter61\n",
      "Writing hist:  hist_0to150_p03p08_MC_iter62\n",
      "Writing hist:  hist_0to150_p03p08_MC_iter63\n",
      "Writing hist:  hist_0to150_p03p08_MC_iter64\n",
      "Writing hist:  hist_0to150_p03p08_MC_iter65\n",
      "Writing hist:  hist_0to150_p03p08_MC_iter66\n",
      "Writing hist:  hist_0to150_p03p08_MC_iter67\n",
      "Writing hist:  hist_0to150_p03p08_MC_iter68\n",
      "Writing hist:  hist_0to150_p03p08_MC_iter69\n",
      "Writing hist:  hist_0to150_p03p08_MC_iter70\n",
      "Writing hist:  hist_0to150_p03p08_MC_iter71\n",
      "Writing hist:  hist_0to150_p03p08_MC_iter72\n",
      "Writing hist:  hist_0to150_p03p08_MC_iter73\n",
      "Writing hist:  hist_0to150_p03p08_MC_iter74\n",
      "Writing hist:  hist_0to150_p03p08_MC_iter75\n",
      "Writing hist:  hist_0to150_p03p08_MC_iter76\n",
      "Writing hist:  hist_0to150_p03p08_MC_iter77\n",
      "Writing hist:  hist_0to150_p03p08_MC_iter78\n",
      "Writing hist:  hist_0to150_p03p08_MC_iter79\n",
      "Writing hist:  hist_0to150_p03p08_MC_iter80\n",
      "Writing hist:  hist_0to150_p03p08_MC_iter81\n",
      "Writing hist:  hist_0to150_p03p08_MC_iter82\n",
      "Writing hist:  hist_0to150_p03p08_MC_iter83\n",
      "Writing hist:  hist_0to150_p03p08_MC_iter84\n",
      "Writing hist:  hist_0to150_p03p08_MC_iter85\n",
      "Writing hist:  hist_0to150_p03p08_MC_iter86\n",
      "Writing hist:  hist_0to150_p03p08_MC_iter87\n",
      "Writing hist:  hist_0to150_p03p08_MC_iter88\n",
      "Writing hist:  hist_0to150_p03p08_MC_iter89\n",
      "Writing hist:  hist_0to150_p03p08_MC_iter90\n",
      "Writing hist:  hist_0to150_p03p08_MC_iter91\n",
      "Writing hist:  hist_0to150_p03p08_MC_iter92\n",
      "Writing hist:  hist_0to150_p03p08_MC_iter93\n",
      "Writing hist:  hist_0to150_p03p08_MC_iter94\n",
      "Writing hist:  hist_0to150_p03p08_MC_iter95\n",
      "Writing hist:  hist_0to150_p03p08_MC_iter96\n",
      "Writing hist:  hist_0to150_p03p08_MC_iter97\n",
      "Writing hist:  hist_0to150_p03p08_MC_iter98\n",
      "Writing hist:  hist_0to150_p03p08_MC_iter99\n",
      "Writing hist:  hist_0to150_p03p08_MC_iter100\n",
      "Writing hist:  hist_0to150_p03p08_MC_iter101\n",
      "Writing hist:  hist_0to150_p03p08_MC_iter102\n",
      "Writing hist:  hist_0to150_p03p08_MC_iter103\n",
      "Writing hist:  hist_0to150_p03p08_MC_iter104\n",
      "Writing hist:  hist_0to150_p03p08_MC_iter105\n",
      "Writing hist:  hist_0to150_p03p08_MC_iter106\n",
      "Writing hist:  hist_0to150_p03p08_MC_iter107\n",
      "Writing hist:  hist_0to150_p03p08_MC_iter108\n",
      "Writing hist:  hist_0to150_p03p08_MC_iter109\n",
      "Writing hist:  hist_0to150_p03p08_MC_iter110\n",
      "Writing hist:  hist_0to150_p03p08_MC_iter111\n",
      "Writing hist:  hist_0to150_p03p08_MC_iter112\n",
      "Writing hist:  hist_0to150_p03p08_MC_iter113\n",
      "Writing hist:  hist_0to150_p03p08_MC_iter114\n",
      "Writing hist:  hist_0to150_p03p08_MC_iter115\n",
      "Writing hist:  hist_0to150_p03p08_MC_iter116\n",
      "Writing hist:  hist_0to150_p03p08_MC_iter117\n",
      "Writing hist:  hist_0to150_p03p08_MC_iter118\n",
      "Writing hist:  hist_0to150_p03p08_MC_iter119\n",
      "Writing hist:  hist_0to150_p03p08_MC_iter120\n",
      "Writing hist:  hist_0to150_p03p08_MC_iter121\n",
      "Writing hist:  hist_0to150_p03p08_MC_iter122\n",
      "Writing hist:  hist_0to150_p03p08_MC_iter123\n",
      "Writing hist:  hist_0to150_p03p08_MC_iter124\n",
      "Writing hist:  hist_0to150_p03p08_MC_iter125\n",
      "Writing hist:  hist_0to150_p03p08_MC_iter126\n",
      "Writing hist:  hist_0to150_p03p08_MC_iter127\n",
      "Writing hist:  hist_0to150_p03p08_MC_iter128\n",
      "Writing hist:  hist_0to150_p03p08_MC_iter129\n",
      "Writing hist:  hist_0to150_p03p08_MC_iter130\n",
      "Writing hist:  hist_0to150_p03p08_MC_iter131\n",
      "Writing hist:  hist_0to150_p03p08_MC_iter132\n",
      "Writing hist:  hist_0to150_p03p08_MC_iter133\n",
      "Writing hist:  hist_0to150_p03p08_MC_iter134\n",
      "Writing hist:  hist_0to150_p03p08_MC_iter135\n",
      "Writing hist:  hist_0to150_p03p08_MC_iter136\n",
      "Writing hist:  hist_0to150_p03p08_MC_iter137\n",
      "Writing hist:  hist_0to150_p03p08_MC_iter138\n",
      "Writing hist:  hist_0to150_p03p08_MC_iter139\n",
      "Writing hist:  hist_0to150_p03p08_MC_iter140\n",
      "Writing hist:  hist_0to150_p03p08_MC_iter141\n",
      "Writing hist:  hist_0to150_p03p08_MC_iter142\n",
      "Writing hist:  hist_0to150_p03p08_MC_iter143\n",
      "Writing hist:  hist_0to150_p03p08_MC_iter144\n",
      "Writing hist:  hist_0to150_p03p08_MC_iter145\n",
      "Writing hist:  hist_0to150_p03p08_MC_iter146\n",
      "Writing hist:  hist_0to150_p03p08_MC_iter147\n",
      "Writing hist:  hist_0to150_p03p08_MC_iter148\n",
      "Writing hist:  hist_0to150_p03p08_MC_iter149\n",
      "Writing hist:  hist_0to150_p03p08_MC_iter150\n",
      "Writing hist:  hist_0to150_p03p08_MC_iter151\n",
      "Writing hist:  hist_0to150_p03p08_MC_iter152\n",
      "Writing hist:  hist_0to150_p03p08_MC_iter153\n",
      "Writing hist:  hist_0to150_p03p08_MC_iter154\n",
      "Writing hist:  hist_0to150_p03p08_MC_iter155\n",
      "Writing hist:  hist_0to150_p03p08_MC_iter156\n",
      "Writing hist:  hist_0to150_p03p08_MC_iter157\n",
      "Writing hist:  hist_0to150_p03p08_MC_iter158\n",
      "Writing hist:  hist_0to150_p03p08_MC_iter159\n",
      "Writing hist:  hist_0to150_p03p08_MC_iter160\n",
      "Writing hist:  hist_0to150_p03p08_MC_iter161\n",
      "Writing hist:  hist_0to150_p03p08_MC_iter162\n",
      "Writing hist:  hist_0to150_p03p08_MC_iter163\n",
      "Writing hist:  hist_0to150_p03p08_MC_iter164\n",
      "Writing hist:  hist_0to150_p03p08_MC_iter165\n",
      "Writing hist:  hist_0to150_p03p08_MC_iter166\n",
      "Writing hist:  hist_0to150_p03p08_MC_iter167\n",
      "Writing hist:  hist_0to150_p03p08_MC_iter168\n",
      "Writing hist:  hist_0to150_p03p08_MC_iter169\n",
      "Writing hist:  hist_0to150_p03p08_MC_iter170\n",
      "Writing hist:  hist_0to150_p03p08_MC_iter171\n",
      "Writing hist:  hist_0to150_p03p08_MC_iter172\n",
      "Writing hist:  hist_0to150_p03p08_MC_iter173\n",
      "Writing hist:  hist_0to150_p03p08_MC_iter174\n",
      "Writing hist:  hist_0to150_p03p08_MC_iter175\n",
      "Writing hist:  hist_0to150_p03p08_MC_iter176\n",
      "Writing hist:  hist_0to150_p03p08_MC_iter177\n",
      "Writing hist:  0 0 Name: hist_0to150_m06p00_data_iter1 Title: hist_0to150_m06p00_data_iter1 NbinsX: 20\n",
      "Writing hist:  0 1 Name: hist_0to150_p00p03_data_iter1 Title: hist_0to150_p00p03_data_iter1 NbinsX: 20\n",
      "Writing hist:  0 2 Name: hist_0to150_p03p08_data_iter1 Title: hist_0to150_p03p08_data_iter1 NbinsX: 20\n",
      "Writing hist:  0 3 Name: hist_150to300_m06p00_data_iter1 Title: hist_150to300_m06p00_data_iter1 NbinsX: 20\n",
      "Writing hist:  0 4 Name: hist_150to300_p00p03_data_iter1 Title: hist_150to300_p00p03_data_iter1 NbinsX: 20\n",
      "Writing hist:  0 5 Name: hist_150to300_p03p08_data_iter1 Title: hist_150to300_p03p08_data_iter1 NbinsX: 20\n",
      "Writing hist:  0 6 Name: hist_300to450_m06p00_data_iter1 Title: hist_300to450_m06p00_data_iter1 NbinsX: 20\n",
      "Writing hist:  0 7 Name: hist_300to450_p00p03_data_iter1 Title: hist_300to450_p00p03_data_iter1 NbinsX: 20\n",
      "Writing hist:  0 8 Name: hist_300to450_p03p08_data_iter1 Title: hist_300to450_p03p08_data_iter1 NbinsX: 20\n",
      "Writing hist:  0 9 Name: hist_450to600_m06p00_data_iter1 Title: hist_450to600_m06p00_data_iter1 NbinsX: 20\n",
      "Writing hist:  0 10 Name: hist_450to600_p00p03_data_iter1 Title: hist_450to600_p00p03_data_iter1 NbinsX: 20\n",
      "Writing hist:  0 11 Name: hist_450to600_p03p08_data_iter1 Title: hist_450to600_p03p08_data_iter1 NbinsX: 20\n",
      "Writing hist:  1 0 Name: hmass_data Title: hmass_data NbinsX: 100\n",
      "Writing hist:  2 0 Name: hz_data Title: hz_data NbinsX: 100\n"
     ]
    }
   ],
   "source": [
    "torch.save(feasible_incumbents, f\"./incumbents.pth\")\n",
    "fout = TFile(\"out_\"+str(HIST_INDEX)+\".root\",\"RECREATE\")\n",
    "fout.cd()\n",
    "for hist in allHistsMC:\n",
    "    print (\"Writing hist: \", hist.GetName())\n",
    "    hist.Write()\n",
    "for j, hists in enumerate(histsData):\n",
    "    for k, hist in enumerate(hists):\n",
    "            hist.Write()\n",
    "            print (\"Writing hist: \", j, k, hist)\n",
    "fout.Close()"
   ]
  },
  {
   "cell_type": "code",
   "execution_count": 11,
   "metadata": {},
   "outputs": [],
   "source": [
    "#t = torch.tensor( [ [-1.0000, -0.4678,  0.5433]])\n",
    "#print(t)\n",
    "#print(t.shape)"
   ]
  },
  {
   "cell_type": "code",
   "execution_count": 12,
   "metadata": {},
   "outputs": [],
   "source": [
    "with torch.no_grad():\n",
    "    predictive_distribution = utility_likelihood(utility_model(xs))\n",
    "    predictive_mean = predictive_distribution.mean\n",
    "    predictive_lower, predictive_upper = predictive_distribution.confidence_region()\n",
    "    acquisition_score = policy(xs.unsqueeze(1))"
   ]
  },
  {
   "cell_type": "code",
   "execution_count": 13,
   "metadata": {},
   "outputs": [
    {
     "data": {
      "application/vnd.jupyter.widget-view+json": {
       "model_id": "7a75c082f6cc4cde943c2a0ad946ae70",
       "version_major": 2,
       "version_minor": 0
      },
      "text/plain": [
       "interactive(children=(IntSlider(value=50, description='x', layout=Layout(width='500px')), Output()), _dom_clas…"
      ]
     },
     "metadata": {},
     "output_type": "display_data"
    },
    {
     "data": {
      "text/plain": [
       "<function __main__.f(x)>"
      ]
     },
     "execution_count": 13,
     "metadata": {},
     "output_type": "execute_result"
    }
   ],
   "source": [
    "from ipywidgets import interact, Layout, IntSlider\n",
    "import numpy as np\n",
    "\n",
    "axis_titles = [r\"R of cone coordinates\", r\"$\\Phi$ of cone coordinates\", r\"Z of cone coordinates\"]\n",
    "\n",
    "def oneplot(ax, tensor, index, cmap, title, transpose=None):\n",
    "        \n",
    "        global xs\n",
    "        tensor_3d = torch.reshape(tensor, (101,101,101))\n",
    "        xs_3d = torch.reshape(xs, (101,101,101,3))\n",
    "        if transpose:\n",
    "               tensor_3d = tensor_3d.transpose(transpose[0],transpose[1])\n",
    "               xs_3d     = xs_3d    .transpose(transpose[0],transpose[1])\n",
    "        if transpose is None:\n",
    "                extent=[\n",
    "                        xs_3d[0][0][0][2],\n",
    "                        xs_3d[0][0][-1][2],\n",
    "                        xs_3d[0][0][0][1],\n",
    "                        xs_3d[0][-1][0][1],\n",
    "                ]\n",
    "        elif transpose == (0,1):\n",
    "                extent=[\n",
    "                        xs_3d[0][0][0][2],\n",
    "                        xs_3d[0][0][-1][2],\n",
    "                        xs_3d[0][0][0][0],\n",
    "                        xs_3d[0][-1][0][0],\n",
    "                ]\n",
    "        elif transpose == (0,2):\n",
    "                extent=[\n",
    "                        xs_3d[0][0][0][0],\n",
    "                        xs_3d[0][0][-1][0],\n",
    "                        xs_3d[0][0][0][1],\n",
    "                        xs_3d[0][-1][0][1],\n",
    "                ]\n",
    "        if transpose is None:\n",
    "                x_title=axis_titles[2]\n",
    "                y_title=axis_titles[1]\n",
    "        elif transpose == (0, 1):\n",
    "                x_title=axis_titles[2]\n",
    "                y_title=axis_titles[0]\n",
    "        elif transpose == (0,2):\n",
    "                x_title=axis_titles[0]\n",
    "                y_title=axis_titles[1]\n",
    "        \n",
    "        pos = ax.imshow(tensor_3d[index], cmap=cmap, interpolation=\"nearest\", origin=\"lower\", \n",
    "                vmin=0, vmax=tensor.max(), extent=extent)\n",
    "        ax.set_aspect((extent[1]-extent[0])/(extent[3]-extent[2]))\n",
    "        ax.set_title(title)\n",
    "        ax.set_xlabel(x_title)\n",
    "        ax.set_ylabel(y_title)\n",
    "        plt.colorbar(pos,fraction=0.046, pad=0.04)\n",
    "\n",
    "def ff(x, transpose):\n",
    "        cmap = \"gist_rainbow\"\n",
    "        fig, ax = plt.subplots(nrows=1, ncols=2, sharey=True)\n",
    "        oneplot(ax[0], predictive_mean, x, cmap, \"value\", transpose)\n",
    "        oneplot(ax[1], predictive_upper-predictive_lower, x, cmap, \"confidence int. width\", transpose)\n",
    "       # oneplot(ax[2], acquisition_score, x, cmap, \"acquisition score\", transpose)\n",
    "\n",
    "def f(x):\n",
    "        ff(x, None)\n",
    "\n",
    "interact(f, x=IntSlider(50, 0, 100, 1, layout=Layout(width='500px')))\n"
   ]
  },
  {
   "cell_type": "code",
   "execution_count": 14,
   "metadata": {},
   "outputs": [
    {
     "data": {
      "application/vnd.jupyter.widget-view+json": {
       "model_id": "947998c6a6b0454e96b1b4ff90831b44",
       "version_major": 2,
       "version_minor": 0
      },
      "text/plain": [
       "interactive(children=(IntSlider(value=50, description='x', layout=Layout(width='500px')), Output()), _dom_clas…"
      ]
     },
     "metadata": {},
     "output_type": "display_data"
    },
    {
     "data": {
      "text/plain": [
       "<function __main__.g(x)>"
      ]
     },
     "execution_count": 14,
     "metadata": {},
     "output_type": "execute_result"
    }
   ],
   "source": [
    "def g(x):\n",
    "        ff(x, (0,1))\n",
    "           \n",
    "interact(g, x=IntSlider(50, 0, 100, 1, layout=Layout(width='500px')))"
   ]
  },
  {
   "cell_type": "code",
   "execution_count": 15,
   "metadata": {},
   "outputs": [
    {
     "data": {
      "application/vnd.jupyter.widget-view+json": {
       "model_id": "6663528a12f345e4acad386644d19a93",
       "version_major": 2,
       "version_minor": 0
      },
      "text/plain": [
       "interactive(children=(IntSlider(value=50, description='x', layout=Layout(width='500px')), Output()), _dom_clas…"
      ]
     },
     "metadata": {},
     "output_type": "display_data"
    },
    {
     "data": {
      "text/plain": [
       "<function __main__.h(x)>"
      ]
     },
     "execution_count": 15,
     "metadata": {},
     "output_type": "execute_result"
    }
   ],
   "source": [
    "def h(x):\n",
    "        ff(x, (0,2))\n",
    "           \n",
    "interact(h, x=IntSlider(50, 0, 100, 1, layout=Layout(width='500px')))"
   ]
  },
  {
   "cell_type": "code",
   "execution_count": 16,
   "metadata": {},
   "outputs": [
    {
     "name": "stdout",
     "output_type": "stream",
     "text": [
      "tensor([[ 2.2000e+01,  1.0000e+00,  1.0000e+00, -1.8131e-15,  3.9234e-03,  0.0000e+00,  2.1974e-02],\n",
      "        [ 2.0000e+01,  1.0000e+00,  1.0000e+00,  1.0200e-13,  3.9234e-03,  0.0000e+00,  2.1974e-02],\n",
      "        [ 2.0000e+00,  1.0000e+00,  1.0000e+00,  0.0000e+00,  3.9234e-03,  0.0000e+00,  2.1974e-02],\n",
      "        [ 3.0000e+00,  1.0000e+00,  1.0000e+00,  0.0000e+00,  3.9234e-03,  0.0000e+00,  2.1974e-02],\n",
      "        [ 5.0000e+00,  1.0000e+00,  1.0000e+00,  0.0000e+00,  3.9234e-03,  0.0000e+00,  2.1974e-02],\n",
      "        [ 4.0000e+00,  1.0000e+00, -1.0000e+00,  0.0000e+00,  5.3093e-03,  0.0000e+00,  2.1974e-02],\n",
      "        [ 9.0000e+00,  1.0000e+00, -1.0000e+00,  1.2363e-07,  5.3093e-03,  0.0000e+00,  2.1974e-02],\n",
      "        [ 1.7100e+02,  4.8854e-01, -7.4427e-01,  6.1692e-01,  6.5114e-03,  1.0000e+00,  3.0822e-02],\n",
      "        [ 2.1000e+01,  9.8885e-02, -5.4944e-01, -7.0364e-01,  9.6433e-03,  0.0000e+00,  2.1974e-02],\n",
      "        [ 1.8000e+01, -2.5681e-01,  3.6944e-01,  3.6842e-02,  1.1324e-02,  0.0000e+00,  2.1974e-02],\n",
      "        [ 1.1000e+01, -4.5103e-01, -2.7449e-01,  6.3110e-01,  1.1919e-02,  0.0000e+00,  2.1974e-02],\n",
      "        [ 7.0000e+00, -1.0365e-21, -5.0000e-01,  2.1515e-22,  1.2535e-02,  0.0000e+00,  2.1974e-02],\n",
      "        [ 1.2000e+01,  4.3767e-12, -5.0000e-01, -1.1819e-13,  1.2535e-02,  0.0000e+00,  2.1974e-02],\n",
      "        [ 1.3000e+01,  3.0297e-21, -5.0000e-01,  1.7208e-42,  1.2535e-02,  0.0000e+00,  2.1974e-02],\n",
      "        [ 1.9000e+01,  5.1287e-13, -5.0000e-01, -5.3250e-13,  1.2535e-02,  0.0000e+00,  2.1974e-02],\n",
      "        [ 6.0000e+00,  2.6726e-14, -5.0000e-01,  3.3042e-21,  1.2535e-02,  0.0000e+00,  2.1974e-02],\n",
      "        [ 1.0000e+01,  3.4740e-14, -5.0000e-01,  3.5154e-14,  1.2535e-02,  0.0000e+00,  2.1974e-02],\n",
      "        [ 1.7000e+01,  1.7411e-14, -5.0000e-01,  5.0972e-14,  1.2535e-02,  0.0000e+00,  2.1974e-02],\n",
      "        [ 1.6000e+01,  4.7726e-01,  3.4394e-01, -3.2118e-01,  1.2691e-02,  0.0000e+00,  2.1974e-02],\n",
      "        [ 1.5900e+02, -1.4068e-01,  2.4875e-01, -3.2122e-01,  1.3832e-02,  1.0000e+00,  3.0822e-02],\n",
      "        [ 1.5000e+01,  5.1518e-01,  3.3515e-01,  3.2001e-01,  1.3890e-02,  0.0000e+00,  2.1974e-02],\n",
      "        [ 1.4000e+01, -5.8682e-01, -2.0659e-01, -5.7256e-01,  1.4557e-02,  0.0000e+00,  2.1974e-02],\n",
      "        [ 0.0000e+00,  1.4517e-01, -3.9563e-01, -3.4861e-01,  1.5522e-02,  0.0000e+00,  1.5522e-02],\n",
      "        [ 8.0000e+00, -9.8062e-01, -9.6886e-03,  1.3853e-01,  1.6780e-02,  0.0000e+00,  2.1974e-02],\n",
      "        [ 1.2300e+02,  4.6289e-01,  1.9433e-01,  4.9171e-14,  1.9819e-02,  1.0000e+00,  3.0822e-02],\n",
      "        [ 6.8000e+01,  4.6124e-01,  1.9186e-01,  2.6201e-27,  1.9920e-02,  0.0000e+00,  3.0708e-02],\n",
      "        [ 9.9000e+01,  4.5760e-01,  1.8641e-01, -7.8069e-14,  2.0142e-02,  1.0000e+00,  3.0822e-02],\n",
      "        [ 7.3000e+01,  4.5213e-01,  1.7820e-01,  4.2142e-17,  2.0476e-02,  0.0000e+00,  3.0708e-02],\n",
      "        [ 1.4400e+02,  4.4711e-01,  1.7066e-01,  4.6406e-11,  2.0783e-02,  1.0000e+00,  3.0822e-02],\n",
      "        [ 1.2900e+02,  4.3996e-01,  1.5993e-01,  1.0183e-05,  2.1218e-02,  1.0000e+00,  3.0822e-02],\n",
      "        [ 1.6600e+02,  4.3940e-01,  1.5907e-01, -1.5522e-09,  2.1253e-02,  1.0000e+00,  3.0822e-02],\n",
      "        [ 1.6000e+02,  9.3146e-01,  1.9696e-01,  1.6231e-01,  2.1291e-02,  1.0000e+00,  3.0822e-02],\n",
      "        [ 1.4800e+02,  6.9957e-01, -2.2917e-01,  4.0259e-01,  2.1450e-02,  1.0000e+00,  3.0822e-02],\n",
      "        [ 1.0000e+00,  8.4721e-02, -2.3128e-01,  9.9134e-02,  2.1974e-02,  0.0000e+00,  2.1974e-02],\n",
      "        [ 1.2700e+02,  4.2728e-01,  1.4091e-01, -4.6968e-06,  2.1980e-02,  1.0000e+00,  3.0822e-02],\n",
      "        [ 1.0900e+02,  7.3496e-01, -2.2304e-01,  3.8015e-01,  2.2214e-02,  1.0000e+00,  3.0822e-02],\n",
      "        [ 1.5500e+02,  4.2239e-01,  1.3358e-01, -1.5327e-06,  2.2270e-02,  1.0000e+00,  3.0822e-02],\n",
      "        [ 1.2200e+02,  4.2055e-01,  1.3083e-01, -6.5550e-13,  2.2378e-02,  1.0000e+00,  3.0822e-02],\n",
      "        [ 2.4000e+01,  4.1864e-01,  1.2796e-01,  5.9885e-24,  2.2490e-02,  0.0000e+00,  2.4803e-02],\n",
      "        [ 1.4500e+02,  4.1515e-01,  1.2276e-01, -1.8243e-05,  2.2691e-02,  1.0000e+00,  3.0822e-02],\n",
      "        [ 1.7000e+02,  4.0428e-01,  1.0643e-01,  3.5135e-06,  2.3309e-02,  1.0000e+00,  3.0822e-02],\n",
      "        [ 1.2400e+02,  4.0315e-01,  1.0473e-01,  2.3120e-17,  2.3372e-02,  1.0000e+00,  3.0822e-02],\n",
      "        [ 1.1200e+02,  9.8135e-01,  1.5597e-01,  8.8221e-02,  2.3559e-02,  1.0000e+00,  3.0822e-02],\n",
      "        [ 1.6200e+02,  9.7262e-01,  1.3760e-01, -1.0772e-01,  2.3579e-02,  1.0000e+00,  3.0822e-02],\n",
      "        [ 2.5000e+01,  3.9739e-01,  9.6080e-02,  1.3947e-15,  2.3687e-02,  0.0000e+00,  2.4803e-02],\n",
      "        [ 1.5000e+02,  3.9558e-01,  9.3475e-02,  1.3848e-07,  2.3780e-02,  1.0000e+00,  3.0822e-02],\n",
      "        [ 1.1400e+02,  9.6845e-01,  1.2433e-01, -1.1648e-01,  2.4087e-02,  1.0000e+00,  3.0822e-02],\n",
      "        [ 1.3100e+02,  9.7617e-01,  1.3981e-01,  1.0050e-01,  2.4302e-02,  1.0000e+00,  3.0822e-02],\n",
      "        [ 1.7200e+02,  2.0650e-01, -1.9023e-01, -3.1749e-06,  2.4434e-02,  1.0000e+00,  3.0822e-02],\n",
      "        [ 1.3700e+02,  1.0000e+00,  1.3067e-01,  5.3740e-08,  2.4695e-02,  1.0000e+00,  3.0822e-02],\n",
      "        [ 7.5000e+01,  9.7722e-01,  1.2977e-01,  9.8915e-02,  2.4783e-02,  0.0000e+00,  3.0708e-02],\n",
      "        [ 2.3000e+01,  3.7526e-01,  6.2889e-02,  1.7036e-15,  2.4803e-02,  0.0000e+00,  2.4803e-02],\n",
      "        [ 1.6700e+02,  9.8003e-01, -2.6837e-01, -1.1202e-01,  2.5050e-02,  1.0000e+00,  3.0822e-02],\n",
      "        [ 1.1500e+02,  1.0000e+00,  1.1894e-01,  3.2421e-04,  2.5251e-02,  1.0000e+00,  3.0822e-02],\n",
      "        [ 1.2000e+02,  9.4865e-01, -2.4579e-01, -1.7699e-01,  2.5346e-02,  1.0000e+00,  3.0822e-02],\n",
      "        [ 1.0600e+02,  1.0000e+00,  1.1677e-01,  5.4599e-08,  2.5351e-02,  1.0000e+00,  3.0822e-02],\n",
      "        [ 1.1800e+02,  1.0000e+00,  1.1615e-01,  5.4637e-08,  2.5380e-02,  1.0000e+00,  3.0822e-02],\n",
      "        [ 7.0000e+01,  9.7006e-01,  1.1520e-01,  1.1411e-01,  2.5402e-02,  0.0000e+00,  3.0708e-02],\n",
      "        [ 1.0100e+02,  9.9999e-01,  1.1437e-01, -5.7681e-06,  2.5463e-02,  1.0000e+00,  3.0822e-02],\n",
      "        [ 1.5300e+02,  9.6093e-01, -2.4760e-01, -1.5484e-01,  2.5528e-02,  1.0000e+00,  3.0822e-02],\n",
      "        [ 7.2000e+01,  9.2189e-01, -2.1983e-01,  2.1474e-01,  2.5826e-02,  0.0000e+00,  3.0708e-02],\n",
      "        [ 1.3800e+02,  8.1958e-01, -1.0827e-01, -3.0305e-01,  2.6058e-02,  1.0000e+00,  3.0822e-02],\n",
      "        [ 1.4300e+02,  1.0000e+00, -2.4951e-01,  7.7241e-08,  2.6303e-02,  1.0000e+00,  3.0822e-02],\n",
      "        [ 1.3600e+02,  9.7779e-01, -2.3707e-01,  1.1668e-01,  2.6345e-02,  1.0000e+00,  3.0822e-02],\n",
      "        [ 1.4900e+02,  9.9996e-01,  9.2541e-02,  6.1913e-06,  2.6459e-02,  1.0000e+00,  3.0822e-02],\n",
      "        [ 6.6000e+01,  1.0000e+00,  9.2163e-02,  1.4950e-13,  2.6476e-02,  0.0000e+00,  3.0708e-02],\n",
      "        [ 1.2100e+02,  9.7743e-01, -2.3358e-01,  1.1744e-01,  2.6489e-02,  1.0000e+00,  3.0822e-02],\n",
      "        [ 1.0400e+02,  9.6566e-01,  5.8674e-02, -1.2597e-01,  2.6728e-02,  1.0000e+00,  3.0822e-02],\n",
      "        [ 1.0800e+02,  9.5443e-01, -2.1084e-01, -1.6452e-01,  2.6764e-02,  1.0000e+00,  3.0822e-02],\n",
      "        [ 1.3000e+02,  9.8111e-01, -2.2733e-01,  1.0706e-01,  2.6842e-02,  1.0000e+00,  3.0822e-02],\n",
      "        [ 1.2600e+02,  1.0000e+00, -2.3399e-01,  7.6282e-08,  2.6980e-02,  1.0000e+00,  3.0822e-02],\n",
      "        [ 1.6100e+02,  9.8331e-01, -2.2378e-01,  1.0071e-01,  2.7041e-02,  1.0000e+00,  3.0822e-02],\n",
      "        [ 1.6900e+02,  1.0000e+00, -2.3251e-01,  7.6190e-08,  2.7043e-02,  1.0000e+00,  3.0822e-02],\n",
      "        [ 1.3300e+02,  1.0000e+00, -2.3146e-01, -1.9999e-06,  2.7088e-02,  1.0000e+00,  3.0822e-02],\n",
      "        [ 1.1700e+02,  1.0000e+00, -2.2854e-01,  4.3271e-05,  2.7211e-02,  1.0000e+00,  3.0822e-02],\n",
      "        [ 1.0700e+02,  1.0000e+00, -2.2786e-01,  5.0004e-11,  2.7239e-02,  1.0000e+00,  3.0822e-02],\n",
      "        [ 1.7400e+02,  9.9927e-01, -2.2677e-01, -7.1564e-06,  2.7282e-02,  1.0000e+00,  3.0822e-02],\n",
      "        [ 1.1100e+02,  1.0000e+00, -2.2438e-01,  7.5688e-08,  2.7383e-02,  1.0000e+00,  3.0822e-02],\n",
      "        [ 9.6000e+01,  1.0000e+00,  6.8476e-02,  5.7584e-08,  2.7492e-02,  1.0000e+00,  3.0822e-02],\n",
      "        [ 1.6300e+02,  6.8385e-01, -1.7218e-01,  8.7685e-02,  2.7560e-02,  1.0000e+00,  3.0822e-02],\n",
      "        [ 1.5400e+02,  1.0000e+00, -2.1821e-01,  0.0000e+00,  2.7635e-02,  1.0000e+00,  3.0822e-02],\n",
      "        [ 1.1600e+02,  1.0000e+00, -2.1818e-01,  7.5304e-08,  2.7636e-02,  1.0000e+00,  3.0822e-02],\n",
      "        [ 1.0200e+02,  9.5824e-01, -1.8490e-01, -1.5590e-01,  2.7690e-02,  1.0000e+00,  3.0822e-02],\n",
      "        [ 1.1300e+02,  1.0000e+00, -2.1494e-01,  1.1671e-05,  2.7766e-02,  1.0000e+00,  3.0822e-02],\n",
      "        [ 1.4000e+02,  6.7860e-01, -1.6264e-01, -6.5292e-02,  2.7833e-02,  1.0000e+00,  3.0822e-02],\n",
      "        [ 1.0300e+02,  1.0000e+00, -2.1161e-01,  7.4898e-08,  2.7897e-02,  1.0000e+00,  3.0822e-02],\n",
      "        [ 1.3200e+02,  1.0000e+00, -2.1139e-01,  5.9469e-13,  2.7906e-02,  1.0000e+00,  3.0822e-02],\n",
      "        [ 6.7000e+01,  9.5707e-01, -1.8570e-01,  1.5809e-01,  2.7911e-02,  0.0000e+00,  3.0708e-02],\n",
      "        [ 1.5200e+02,  6.9235e-01, -1.5979e-01,  8.7369e-02,  2.7964e-02,  1.0000e+00,  3.0822e-02],\n",
      "        [ 1.5100e+02,  6.8052e-01, -1.5366e-01, -7.5939e-02,  2.7998e-02,  1.0000e+00,  3.0822e-02],\n",
      "        [ 1.0500e+02,  1.0000e+00, -2.0871e-01,  7.4719e-08,  2.8010e-02,  1.0000e+00,  3.0822e-02],\n",
      "        [ 1.1000e+02,  9.9999e-01, -2.0669e-01,  1.6621e-05,  2.8088e-02,  1.0000e+00,  3.0822e-02],\n",
      "        [ 7.1000e+01,  1.0000e+00, -2.0630e-01,  2.1990e-11,  2.8103e-02,  0.0000e+00,  3.0708e-02],\n",
      "        [ 1.6800e+02,  9.9972e-01, -2.0536e-01,  1.5989e-05,  2.8137e-02,  1.0000e+00,  3.0822e-02],\n",
      "        [ 1.5800e+02,  6.8981e-01, -1.5236e-01,  8.8190e-02,  2.8140e-02,  1.0000e+00,  3.0822e-02],\n",
      "        [ 1.7300e+02,  1.0000e+00, -2.0263e-01,  2.2117e-05,  2.8241e-02,  1.0000e+00,  3.0822e-02],\n",
      "        [ 1.4700e+02,  9.9983e-01, -2.0147e-01,  4.8011e-07,  2.8284e-02,  1.0000e+00,  3.0822e-02],\n",
      "        [ 6.9000e+01,  1.0000e+00, -2.0053e-01,  6.7769e-11,  2.8320e-02,  0.0000e+00,  3.0708e-02],\n",
      "        [ 1.4100e+02,  1.0000e+00, -1.9987e-01,  1.0147e-11,  2.8344e-02,  1.0000e+00,  3.0822e-02],\n",
      "        [ 7.7000e+01,  9.4196e-01, -2.0410e-02, -1.6961e-01,  2.8348e-02,  0.0000e+00,  3.0708e-02],\n",
      "        [ 8.0000e+01,  9.4740e-01, -2.0944e-02, -1.6174e-01,  2.8498e-02,  0.0000e+00,  3.0708e-02],\n",
      "        [ 6.5000e+01,  9.5610e-01, -1.6616e-01,  1.5848e-01,  2.8533e-02,  0.0000e+00,  3.0708e-02],\n",
      "        [ 1.1900e+02,  6.9327e-01, -1.3780e-01,  6.9633e-02,  2.8591e-02,  1.0000e+00,  3.0822e-02],\n",
      "        [ 9.8000e+01,  1.0000e+00, -1.9195e-01,  7.3683e-08,  2.8630e-02,  1.0000e+00,  3.0822e-02],\n",
      "        [ 8.4000e+01,  9.5228e-01, -2.4239e-02, -1.5449e-01,  2.8685e-02,  0.0000e+00,  3.0708e-02],\n",
      "        [ 1.6400e+02,  7.0164e-01, -1.3772e-01, -3.4747e-05,  2.8745e-02,  1.0000e+00,  3.0822e-02],\n",
      "        [ 1.6500e+02,  7.1425e-01, -1.3840e-01, -2.3493e-06,  2.8799e-02,  1.0000e+00,  3.0822e-02],\n",
      "        [ 1.4600e+02,  6.7583e-01, -1.2611e-01, -1.5785e-06,  2.8818e-02,  1.0000e+00,  3.0822e-02],\n",
      "        [ 7.4000e+01,  1.0000e+00, -1.8567e-01,  2.6354e-12,  2.8847e-02,  0.0000e+00,  3.0708e-02],\n",
      "        [ 1.5600e+02,  6.8767e-01, -1.2623e-01, -3.1340e-05,  2.8881e-02,  1.0000e+00,  3.0822e-02],\n",
      "        [ 8.8000e+01,  9.5753e-01, -2.9263e-02, -1.4631e-01,  2.8911e-02,  0.0000e+00,  3.0708e-02],\n",
      "        [ 1.5700e+02,  6.9765e-01, -1.2663e-01, -6.3925e-07,  2.8929e-02,  1.0000e+00,  3.0822e-02],\n",
      "        [ 2.6000e+01,  8.9900e-01, -5.9473e-02,  2.2573e-01,  2.8950e-02,  0.0000e+00,  2.8950e-02],\n",
      "        [ 1.0000e+02,  1.0000e+00, -1.8227e-01,  7.3085e-08,  2.8961e-02,  1.0000e+00,  3.0822e-02],\n",
      "        [ 9.3000e+01,  9.6242e-01, -2.9288e-02, -1.3775e-01,  2.9049e-02,  0.0000e+00,  3.0708e-02],\n",
      "        [ 1.2500e+02,  6.8361e-01, -1.0812e-01,  6.2948e-02,  2.9055e-02,  1.0000e+00,  3.0822e-02],\n",
      "        [ 1.3400e+02,  6.8453e-01, -1.0716e-01,  5.9796e-02,  2.9082e-02,  1.0000e+00,  3.0822e-02],\n",
      "        [ 1.2800e+02,  6.9198e-01, -1.0632e-01,  6.4368e-02,  2.9119e-02,  1.0000e+00,  3.0822e-02],\n",
      "        [ 1.3500e+02,  6.8759e-01, -1.0506e-01,  5.9144e-02,  2.9125e-02,  1.0000e+00,  3.0822e-02],\n",
      "        [ 1.3900e+02,  6.7934e-01, -5.6812e-02,  6.2862e-14,  2.9213e-02,  1.0000e+00,  3.0822e-02],\n",
      "        [ 1.4200e+02,  6.8148e-01, -7.5949e-02,  5.9511e-02,  2.9267e-02,  1.0000e+00,  3.0822e-02],\n",
      "        [ 9.7000e+01,  9.5923e-01, -1.0406e-01, -1.4864e-01,  2.9274e-02,  1.0000e+00,  3.0822e-02],\n",
      "        [ 6.2000e+01,  9.7330e-01,  1.2945e-02,  1.1402e-01,  2.9325e-02,  0.0000e+00,  3.0441e-02],\n",
      "        [ 2.9000e+01,  9.3850e-01, -6.3523e-02,  1.7821e-01,  2.9772e-02,  0.0000e+00,  3.0395e-02],\n",
      "        [ 3.1000e+01,  9.4576e-01, -5.6722e-02,  1.6711e-01,  2.9909e-02,  0.0000e+00,  3.0395e-02],\n",
      "        [ 3.3000e+01,  9.4677e-01, -5.4511e-02,  1.6540e-01,  2.9922e-02,  0.0000e+00,  3.0395e-02],\n",
      "        [ 6.0000e+01,  9.6957e-01, -1.8903e-02,  1.2358e-01,  2.9975e-02,  0.0000e+00,  3.0423e-02],\n",
      "        [ 3.6000e+01,  9.5049e-01, -5.4561e-02,  1.5966e-01,  2.9998e-02,  0.0000e+00,  3.0395e-02],\n",
      "        [ 3.8000e+01,  9.5224e-01, -4.8496e-02,  1.5643e-01,  3.0001e-02,  0.0000e+00,  3.0395e-02],\n",
      "        [ 4.0000e+01,  9.5512e-01, -4.5058e-02,  1.5149e-01,  3.0034e-02,  0.0000e+00,  3.0395e-02],\n",
      "        [ 4.2000e+01,  9.5796e-01, -4.0142e-02,  1.4637e-01,  3.0048e-02,  0.0000e+00,  3.0395e-02],\n",
      "        [ 4.7000e+01,  9.6209e-01, -3.5888e-02,  1.3885e-01,  3.0082e-02,  0.0000e+00,  3.0395e-02],\n",
      "        [ 4.5000e+01,  9.5825e-01, -4.4977e-02,  1.4621e-01,  3.0095e-02,  0.0000e+00,  3.0395e-02],\n",
      "        [ 5.1000e+01,  9.6551e-01, -3.1941e-02,  1.3228e-01,  3.0098e-02,  0.0000e+00,  3.0395e-02],\n",
      "        [ 5.5000e+01,  9.6745e-01, -2.9415e-02,  1.2842e-01,  3.0100e-02,  0.0000e+00,  3.0401e-02],\n",
      "        [ 4.9000e+01,  9.6306e-01, -3.8603e-02,  1.3726e-01,  3.0129e-02,  0.0000e+00,  3.0395e-02],\n",
      "        [ 5.3000e+01,  9.6759e-01, -3.1861e-02,  1.2830e-01,  3.0135e-02,  0.0000e+00,  3.0401e-02],\n",
      "        [ 5.8000e+01,  9.6826e-01, -3.3934e-02,  1.2711e-01,  3.0173e-02,  0.0000e+00,  3.0417e-02],\n",
      "        [ 3.9000e+01,  1.0000e+00, -2.0864e-02,  3.8128e-13,  3.0289e-02,  0.0000e+00,  3.0395e-02],\n",
      "        [ 5.6000e+01,  1.0000e+00, -2.0912e-02,  1.2245e-13,  3.0290e-02,  0.0000e+00,  3.0401e-02],\n",
      "        [ 3.7000e+01,  1.0000e+00, -2.1554e-02,  1.3626e-13,  3.0302e-02,  0.0000e+00,  3.0395e-02],\n",
      "        [ 3.5000e+01,  1.0000e+00, -2.1735e-02,  4.4817e-12,  3.0305e-02,  0.0000e+00,  3.0395e-02],\n",
      "        [ 3.4000e+01,  1.0000e+00, -2.1892e-02,  4.5375e-14,  3.0308e-02,  0.0000e+00,  3.0395e-02],\n",
      "        [ 3.2000e+01,  1.0000e+00, -2.2310e-02,  1.6648e-13,  3.0316e-02,  0.0000e+00,  3.0395e-02],\n",
      "        [ 4.4000e+01,  1.0000e+00, -2.2810e-02,  2.0325e-14,  3.0326e-02,  0.0000e+00,  3.0395e-02],\n",
      "        [ 4.8000e+01,  1.0000e+00, -2.2961e-02,  1.4547e-13,  3.0328e-02,  0.0000e+00,  3.0395e-02],\n",
      "        [ 3.0000e+01,  1.0000e+00, -2.3321e-02,  2.1371e-14,  3.0335e-02,  0.0000e+00,  3.0395e-02],\n",
      "        [ 4.6000e+01,  1.0000e+00, -2.3422e-02,  1.0626e-12,  3.0337e-02,  0.0000e+00,  3.0395e-02],\n",
      "        [ 4.3000e+01,  1.0000e+00, -2.3968e-02,  3.1508e-13,  3.0347e-02,  0.0000e+00,  3.0395e-02],\n",
      "        [ 5.0000e+01,  1.0000e+00, -2.4354e-02,  3.6029e-14,  3.0354e-02,  0.0000e+00,  3.0395e-02],\n",
      "        [ 5.4000e+01,  1.0000e+00, -2.4377e-02,  1.1928e-11,  3.0354e-02,  0.0000e+00,  3.0401e-02],\n",
      "        [ 4.1000e+01,  1.0000e+00, -2.4638e-02,  8.6250e-14,  3.0359e-02,  0.0000e+00,  3.0395e-02],\n",
      "        [ 9.4000e+01,  1.0000e+00, -2.5364e-02,  6.3385e-08,  3.0372e-02,  0.0000e+00,  3.0708e-02],\n",
      "        [ 2.8000e+01,  1.0000e+00, -2.5826e-02,  7.4437e-14,  3.0380e-02,  0.0000e+00,  3.0395e-02],\n",
      "        [ 2.7000e+01,  1.0000e+00, -2.6736e-02,  5.3174e-15,  3.0395e-02,  0.0000e+00,  3.0395e-02],\n",
      "        [ 5.2000e+01,  1.0000e+00, -2.7046e-02,  1.8310e-13,  3.0401e-02,  0.0000e+00,  3.0401e-02],\n",
      "        [ 5.7000e+01,  1.0000e+00, -2.8013e-02,  1.5421e-13,  3.0417e-02,  0.0000e+00,  3.0417e-02],\n",
      "        [ 5.9000e+01,  1.0000e+00, -2.8372e-02,  3.0461e-13,  3.0423e-02,  0.0000e+00,  3.0423e-02],\n",
      "        [ 6.1000e+01,  1.0000e+00, -2.9427e-02,  6.6947e-13,  3.0441e-02,  0.0000e+00,  3.0441e-02],\n",
      "        [ 6.4000e+01,  1.0000e+00, -1.2282e-01,  1.0197e-12,  3.0450e-02,  0.0000e+00,  3.0708e-02],\n",
      "        [ 8.6000e+01,  1.0000e+00, -3.6662e-02,  6.4084e-08,  3.0550e-02,  0.0000e+00,  3.0708e-02],\n",
      "        [ 8.5000e+01,  1.0000e+00, -3.6791e-02,  6.4092e-08,  3.0551e-02,  0.0000e+00,  3.0708e-02],\n",
      "        [ 9.0000e+01,  1.0000e+00, -3.7064e-02,  6.4108e-08,  3.0555e-02,  0.0000e+00,  3.0708e-02],\n",
      "        [ 9.1000e+01,  1.0000e+00, -3.8333e-02,  6.4187e-08,  3.0572e-02,  0.0000e+00,  3.0708e-02],\n",
      "        [ 8.7000e+01,  1.0000e+00, -3.9186e-02,  6.4240e-08,  3.0584e-02,  0.0000e+00,  3.0708e-02],\n",
      "        [ 8.9000e+01,  1.0000e+00, -3.9839e-02,  6.4280e-08,  3.0592e-02,  0.0000e+00,  3.0708e-02],\n",
      "        [ 8.3000e+01,  1.0000e+00, -4.1183e-02,  6.4363e-08,  3.0609e-02,  0.0000e+00,  3.0708e-02],\n",
      "        [ 8.1000e+01,  1.0000e+00, -4.1332e-02,  6.4372e-08,  3.0611e-02,  0.0000e+00,  3.0708e-02],\n",
      "        [ 8.2000e+01,  1.0000e+00, -4.2024e-02,  6.4415e-08,  3.0619e-02,  0.0000e+00,  3.0708e-02],\n",
      "        [ 7.9000e+01,  1.0000e+00, -4.2069e-02,  6.4418e-08,  3.0620e-02,  0.0000e+00,  3.0708e-02],\n",
      "        [ 7.6000e+01,  1.0000e+00, -4.3124e-02,  6.4483e-08,  3.0632e-02,  0.0000e+00,  3.0708e-02],\n",
      "        [ 7.8000e+01,  1.0000e+00, -4.3837e-02,  6.4527e-08,  3.0641e-02,  0.0000e+00,  3.0708e-02],\n",
      "        [ 9.2000e+01,  1.0000e+00, -4.5966e-02,  6.4659e-08,  3.0664e-02,  0.0000e+00,  3.0708e-02],\n",
      "        [ 6.3000e+01,  1.0000e+00, -5.0391e-02,  4.9423e-14,  3.0708e-02,  0.0000e+00,  3.0708e-02],\n",
      "        [ 9.5000e+01,  1.0000e+00, -8.2031e-02,  6.6888e-08,  3.0822e-02,  1.0000e+00,  3.0822e-02]])\n"
     ]
    }
   ],
   "source": [
    "lds = all_lambdas(train_x)\n",
    "lambda_thetas     = lds.transpose(-2,-1)[0]\n",
    "lambda_phis       = lds.transpose(-2,-1)[1]\n",
    "lambda_theta_phis = lds.transpose(-2,-1)[2]\n",
    "c = torch.stack((\n",
    "    torch.arange(0,num_queries, dtype=int),\n",
    "    lambda_thetas[0:num_queries],\n",
    "    lambda_phis[0:num_queries],\n",
    "    lambda_theta_phis[0:num_queries],\n",
    "    train_utility.squeeze()[0:num_queries],\n",
    "    (feasible_incumbents==feasible_incumbents.max())[0],\n",
    "    feasible_incumbents[0]\n",
    "),0).transpose(-2,-1)\n",
    "torch.set_printoptions(precision=4,threshold=10_000, linewidth=120)\n",
    "c_sorted = c[c[:, 4].sort()[1]]\n",
    "print(c_sorted)"
   ]
  },
  {
   "cell_type": "code",
   "execution_count": 17,
   "metadata": {},
   "outputs": [
    {
     "data": {
      "image/png": "[encoded data removed]",
      "text/plain": [
       "<IPython.core.display.Image object>"
      ]
     },
     "metadata": {},
     "output_type": "display_data"
    }
   ],
   "source": [
    "gStyle.SetOptStat(0)\n",
    "\n",
    "def plotComparison(histMC, histData):\n",
    "    can = TCanvas(\"can\",\"can\",600,600)\n",
    "    can.Divide(2,2)\n",
    "    can.Draw()\n",
    "    can.cd(1)\n",
    "    histMC.Draw(\"COLZ\")\n",
    "    can.cd(2)\n",
    "    histData.Draw(\"COLZ\")\n",
    "    pad = can.cd(3)\n",
    "    pad.SetRightMargin(0.155)\n",
    "    pad = can.cd(3)\n",
    "    hdiff = diffHist(histMC, histData)\n",
    "    hdiff.Draw(\"COLZ\")\n",
    "    can.Update()\n",
    "    palette = hdiff.GetListOfFunctions().FindObject(\"palette\")\n",
    "    palette.SetX1NDC(0.85)\n",
    "    palette.SetX2NDC(0.9)\n",
    "    can.Modified()\n",
    "    can.Update()\n",
    "    can.cd(4)\n",
    "    nby = histMC.GetNbinsX()\n",
    "    py = histMC.ProjectionY(\"py\",1,nby)\n",
    "    py.Draw(\"HIST\")\n",
    "    return can, hdiff, py\n",
    "\n",
    "bestIndex = int(c_sorted[-1][0].item())\n",
    "can1, hdiff1, py1 = plotComparison(allHistsMC[bestIndex], histsData[0][HIST_INDEX])\n"
   ]
  },
  {
   "cell_type": "code",
   "execution_count": 18,
   "metadata": {},
   "outputs": [
    {
     "name": "stderr",
     "output_type": "stream",
     "text": [
      "Warning in <TCanvas::Constructor>: Deleting canvas with same name: can\n"
     ]
    },
    {
     "data": {
      "image/png": "[encoded data removed]",
      "text/plain": [
       "<IPython.core.display.Image object>"
      ]
     },
     "metadata": {},
     "output_type": "display_data"
    }
   ],
   "source": [
    "worstIndex = int(c_sorted[0][0].item())\n",
    "can2, hdiff2, py2 = plotComparison(allHistsMC[worstIndex], histsData[0][HIST_INDEX])"
   ]
  },
  {
   "cell_type": "code",
   "execution_count": 19,
   "metadata": {},
   "outputs": [
    {
     "data": {
      "image/png": "[encoded data removed]",
      "text/plain": [
       "<IPython.core.display.Image object>"
      ]
     },
     "metadata": {},
     "output_type": "display_data"
    }
   ],
   "source": [
    "base_hists = histMakerMC.builder.base_hists\n",
    "can3 = TCanvas(\"c\",\"C\",900,1200)\n",
    "can3.Divide(3,4)\n",
    "can3.Draw()\n",
    "for i, hist in enumerate(base_hists[0]):\n",
    "    can3.cd(i+1)\n",
    "    if not isinstance(hist, list):\n",
    "        hist.Draw(\"COLZ\")\n",
    "    else:\n",
    "        print(hist)\n"
   ]
  },
  {
   "cell_type": "code",
   "execution_count": 20,
   "metadata": {},
   "outputs": [
    {
     "name": "stderr",
     "output_type": "stream",
     "text": [
      "Warning in <TCanvas::Constructor>: Deleting canvas with same name: c\n"
     ]
    },
    {
     "data": {
      "image/png": "[encoded data removed]",
      "text/plain": [
       "<IPython.core.display.Image object>"
      ]
     },
     "metadata": {},
     "output_type": "display_data"
    }
   ],
   "source": [
    "can4 = TCanvas(\"c\",\"C\",900,1200)\n",
    "can4.Divide(3,4)\n",
    "can4.Draw()\n",
    "for i, hist in enumerate(histsData[0]):\n",
    "    can4.cd(i+1)\n",
    "    if not isinstance(hist, list):\n",
    "        hist.Draw(\"COLZ\")\n",
    "    else:\n",
    "        print(hist)"
   ]
  },
  {
   "cell_type": "code",
   "execution_count": 21,
   "metadata": {},
   "outputs": [
    {
     "name": "stdout",
     "output_type": "stream",
     "text": [
      "0.013481471687555313\n"
     ]
    },
    {
     "name": "stderr",
     "output_type": "stream",
     "text": [
      "Info in <TH3F::SaveAs>: ROOT file pm.root has been created\n"
     ]
    }
   ],
   "source": [
    "from ROOT import TH3F\n",
    "\n",
    "pm = predictive_mean.reshape(101,101,101)\n",
    "pm_min = pm.min()\n",
    "print(pm[100][100][100].item())\n",
    "hpm = TH3F(\"hpm\",\"predictive mean\", 101, 0, 1, 101, 0, 2*math.pi, 101, 0, 2)\n",
    "for binx in range(1,101):\n",
    "    for biny in range(1,101):\n",
    "        for binz in range(1,101):\n",
    "            if pm_min < 0:\n",
    "                hpm.SetBinContent(binx,biny,binz,pm[binx][biny][binz].item()-pm_min)\n",
    "hpm.SaveAs(\"pm.root\")\n"
   ]
  },
  {
   "cell_type": "code",
   "execution_count": 23,
   "metadata": {},
   "outputs": [
    {
     "ename": "NameError",
     "evalue": "name 'false' is not defined",
     "output_type": "error",
     "traceback": [
      "\u001b[0;31m---------------------------------------------------------------------------\u001b[0m",
      "\u001b[0;31mNameError\u001b[0m                                 Traceback (most recent call last)",
      "Cell \u001b[0;32mIn[23], line 1\u001b[0m\n\u001b[0;32m----> 1\u001b[0m \u001b[39mif\u001b[39;00m false:\n\u001b[1;32m      3\u001b[0m     \u001b[39mfrom\u001b[39;00m \u001b[39mctypes\u001b[39;00m \u001b[39mimport\u001b[39;00m c_double\n\u001b[1;32m      4\u001b[0m     rnd_points \u001b[39m=\u001b[39m []\n",
      "\u001b[0;31mNameError\u001b[0m: name 'false' is not defined"
     ]
    }
   ],
   "source": [
    "if false:\n",
    "\n",
    "    from ctypes import c_double\n",
    "    rnd_points = []\n",
    "\n",
    "    x = c_double(0.0)\n",
    "    y = c_double(0.0)\n",
    "    z = c_double(0.0)\n",
    "    for i in range(80_000_000):\n",
    "        if i % 10000000 == 0:\n",
    "            print(i)\n",
    "        hpm.GetRandom3(x,y,z)\n",
    "        rnd_points.append([x.value,y.value,z.value])\n",
    "\n",
    "    print(x.value,y.value,z.value)\n",
    "    covariance = np.cov(rnd_points, rowvar=False)\n",
    "    covariance"
   ]
  },
  {
   "cell_type": "code",
   "execution_count": 24,
   "metadata": {},
   "outputs": [
    {
     "data": {
      "text/plain": [
       "array([[ 8.33109069e-02,  1.30650352e-03, -1.78946107e-03],\n",
       "       [ 1.30650352e-03,  3.79466015e+00, -2.35314478e-04],\n",
       "       [-1.78946107e-03, -2.35314478e-04,  2.90950751e-01]])"
      ]
     },
     "execution_count": 24,
     "metadata": {},
     "output_type": "execute_result"
    }
   ],
   "source": [
    "predictive_mean_2 = predictive_mean - predictive_mean.min()\n",
    "\n",
    "covariance_2 = np.cov(xs, rowvar=False, aweights=predictive_mean_2)\n",
    "covariance_2"
   ]
  },
  {
   "cell_type": "code",
   "execution_count": 25,
   "metadata": {},
   "outputs": [
    {
     "name": "stderr",
     "output_type": "stream",
     "text": [
      "/var/folders/96/myz9b61s4gx36c78ytymzp9h0000gn/T/ipykernel_90503/381192192.py:1: RuntimeWarning: invalid value encountered in sqrt\n",
      "  np.sqrt(covariance_2)\n"
     ]
    },
    {
     "data": {
      "text/plain": [
       "array([[0.28863629, 0.03614559,        nan],\n",
       "       [0.03614559, 1.94798874,        nan],\n",
       "       [       nan,        nan, 0.53939851]])"
      ]
     },
     "execution_count": 25,
     "metadata": {},
     "output_type": "execute_result"
    }
   ],
   "source": [
    "np.sqrt(covariance_2)"
   ]
  },
  {
   "cell_type": "code",
   "execution_count": 26,
   "metadata": {},
   "outputs": [],
   "source": [
    "all = all_lambdas(xs)\n",
    "cov_lambda = np.cov(all, rowvar=False, aweights=predictive_mean_2)"
   ]
  },
  {
   "cell_type": "code",
   "execution_count": 27,
   "metadata": {},
   "outputs": [
    {
     "data": {
      "text/plain": [
       "array([[ 0.50738342,  0.20134357,  0.01314537],\n",
       "       [ 0.20134357,  0.43133749, -0.00532863],\n",
       "       [ 0.01314537, -0.00532863,  0.27377691]])"
      ]
     },
     "execution_count": 27,
     "metadata": {},
     "output_type": "execute_result"
    }
   ],
   "source": [
    "sgn_lambda = 1.0*(cov_lambda > 0) + -1.0*(cov_lambda < 0)\n",
    "\n",
    "np.multiply(\n",
    "    sgn_lambda, np.sqrt(\n",
    "        np.multiply(\n",
    "            sgn_lambda, cov_lambda\n",
    "        )\n",
    "    )\n",
    ")"
   ]
  },
  {
   "cell_type": "code",
   "execution_count": 32,
   "metadata": {},
   "outputs": [
    {
     "name": "stdout",
     "output_type": "stream",
     "text": [
      "Final result:\n",
      "lambdas =  tensor([ 1.0000e+00, -8.2031e-02,  6.6888e-08])\n",
      "covariance matrix: \n",
      " [[ 2.57437937e-01  4.05392337e-02  1.72800636e-04]\n",
      " [ 4.05392337e-02  1.86052031e-01 -2.83942452e-05]\n",
      " [ 1.72800636e-04 -2.83942452e-05  7.49537947e-02]]\n"
     ]
    }
   ],
   "source": [
    "print(\"Final result:\")\n",
    "print(\"lambdas = \", c_sorted[-1][1:4])\n",
    "print(\"covariance matrix: \\n\", cov_lambda)"
   ]
  },
  {
   "cell_type": "code",
   "execution_count": null,
   "metadata": {},
   "outputs": [],
   "source": []
  }
 ],
 "metadata": {
  "kernelspec": {
   "display_name": "Python 3",
   "language": "python",
   "name": "python3"
  },
  "language_info": {
   "codemirror_mode": {
    "name": "ipython",
    "version": 3
   },
   "file_extension": ".py",
   "mimetype": "text/x-python",
   "name": "python",
   "nbconvert_exporter": "python",
   "pygments_lexer": "ipython3",
   "version": "3.11.4"
  },
  "orig_nbformat": 4
 },
 "nbformat": 4,
 "nbformat_minor": 2
}
