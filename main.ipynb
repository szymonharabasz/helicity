{
 "cells": [
  {
   "cell_type": "code",
   "execution_count": 17,
   "source": [
    "from bins import Bins\n",
    "from utils import calcAllChi2, calcOneChi2, makeHists\n",
    "from ROOT import TFile, TH1\n",
    "\n",
    "bins = Bins.readFrom(\"ranges.yml\")\n",
    "histsData = makeHists(\"apr12_diele_088_090_ag123ag_2500A_accepted_np_2.dat\", \"_data\", bins)\n",
    "\n",
    "#outfile = TFIle(\"out.root\",\"RECREATE\")\n",
    "allHistsMC = []\n",
    "\n",
    "#calcAllChi2(histsMC, histsData)"
   ],
   "outputs": [
    {
     "output_type": "stream",
     "name": "stdout",
     "text": [
      "iter 9\n",
      "Before processing events 23:13:26\n"
     ]
    },
    {
     "output_type": "display_data",
     "data": {
      "application/vnd.jupyter.widget-view+json": {
       "version_major": 2,
       "version_minor": 0,
       "model_id": "72026e83d2714b7f89b4c8ba76185904"
      },
      "text/plain": [
       "  0%|          | 0/38546 [00:00<?, ?it/s]"
      ]
     },
     "metadata": {}
    },
    {
     "output_type": "stream",
     "name": "stdout",
     "text": [
      "After processing events 23:13:26\n"
     ]
    },
    {
     "output_type": "stream",
     "name": "stderr",
     "text": [
      "Warning in <TROOT::Append>: Replacing existing TH1: hmass_data (Potential memory leak).\n",
      "Warning in <TROOT::Append>: Replacing existing TH1: hz_data (Potential memory leak).\n"
     ]
    }
   ],
   "metadata": {}
  },
  {
   "cell_type": "code",
   "execution_count": 18,
   "source": [
    "import torch\n",
    "\n",
    "torch.manual_seed(0)\n",
    "\n",
    "import gpytorch\n",
    "import botorch\n",
    "\n",
    "import matplotlib.pyplot as plt\n",
    "\n",
    "plt.style.use(\"bmh\")\n",
    "plt.rcParams[\"figure.figsize\"] = (8, 6)\n",
    "\n",
    "from tqdm.notebook import tqdm\n",
    "\n",
    "import warnings"
   ],
   "outputs": [],
   "metadata": {}
  },
  {
   "cell_type": "code",
   "execution_count": 19,
   "source": [
    "TH1.SetDefaultSumw2\n",
    "\n",
    "N_PARAMS = 3\n",
    "\n",
    "grid_x = torch.linspace(-1,1,101)\n",
    "\n",
    "grid_x1, grid_x2, grid_x3 = torch.meshgrid(grid_x, grid_x, grid_x, indexing=\"ij\")\n",
    "\n",
    "xs = torch.vstack([grid_x1.flatten(), grid_x2.flatten(), grid_x3.flatten()]).transpose(-2,-1)"
   ],
   "outputs": [],
   "metadata": {}
  },
  {
   "cell_type": "code",
   "execution_count": 20,
   "source": [
    "lb = -1\n",
    "ub = 1\n",
    "\n",
    "bounds = torch.tensor([[lb]*N_PARAMS, [ub]*N_PARAMS], dtype=torch.float)\n",
    "bounds"
   ],
   "outputs": [
    {
     "output_type": "execute_result",
     "data": {
      "text/plain": [
       "tensor([[-1., -1., -1.],\n",
       "        [ 1.,  1.,  1.]])"
      ]
     },
     "metadata": {},
     "execution_count": 20
    }
   ],
   "metadata": {}
  },
  {
   "cell_type": "code",
   "execution_count": 21,
   "source": [
    "class GPModel(gpytorch.models.ExactGP, botorch.models.gpytorch.GPyTorchModel):\n",
    "    _num_outputs = 1\n",
    "\n",
    "    def __init__(self, train_x, train_y, likelihood):\n",
    "        super().__init__(train_x, train_y, likelihood)\n",
    "        self.mean_module = gpytorch.means.ConstantMean()\n",
    "        self.covar_module = gpytorch.kernels.ScaleKernel(\n",
    "            gpytorch.kernels.MaternKernel(nu=2.5, ard_num_dims=1)\n",
    "        )\n",
    "\n",
    "    def forward(self, x):\n",
    "        mean_x = self.mean_module(x)\n",
    "        covar_x = self.covar_module(x)\n",
    "        return gpytorch.distributions.MultivariateNormal(mean_x, covar_x)\n",
    "\n",
    "\n",
    "def fit_gp_model(train_x, train_y, num_train_iters=500):\n",
    "    # declare the GP\n",
    "    noise = 1e-4\n",
    "\n",
    "    likelihood = gpytorch.likelihoods.GaussianLikelihood()\n",
    "    model = GPModel(train_x, train_y, likelihood)\n",
    "    model.likelihood.noise = noise\n",
    "\n",
    "    # train the hyperparameter (the constant)\n",
    "    optimizer = torch.optim.Adam(model.parameters(), lr=0.01)\n",
    "    mll = gpytorch.mlls.ExactMarginalLogLikelihood(likelihood, model)\n",
    "\n",
    "    model.train()\n",
    "    likelihood.train()\n",
    "\n",
    "    for i in range(num_train_iters):\n",
    "        optimizer.zero_grad()\n",
    "\n",
    "        output = model(train_x)\n",
    "        loss = -mll(output, train_y)\n",
    "\n",
    "        loss.backward()\n",
    "        optimizer.step()\n",
    "\n",
    "    model.eval()\n",
    "    likelihood.eval()\n",
    "\n",
    "    return model, likelihood"
   ],
   "outputs": [],
   "metadata": {}
  },
  {
   "cell_type": "code",
   "execution_count": 22,
   "source": [
    "num_queries = 3\n",
    "num_repeats = 1\n",
    "num_samples = 5"
   ],
   "outputs": [],
   "metadata": {}
  },
  {
   "cell_type": "code",
   "execution_count": 23,
   "source": [
    "def lambdas(x):\n",
    "    return x[0], x[1], x[2]\n",
    "\n",
    "def cost(xx):\n",
    "    def generator(xx):\n",
    "        for x in xx:\n",
    "            lambda_theta, lambda_phi, lambda_theta_phi = lambdas(x)\n",
    "\n",
    "            result = 0\n",
    "\n",
    "            if pow(1-lambda_phi, 2) - pow(lambda_theta-lambda_phi, 2) < 4*pow(lambda_theta_phi, 2):\n",
    "                result = 1\n",
    "            if 1 + lambda_theta + 2*lambda_phi < 0:\n",
    "                result = 1\n",
    "\n",
    "            yield torch.tensor([result])\n",
    "    return torch.stack([a for a in generator(xx)])\n",
    "    \n",
    "def objective(xx):\n",
    "    def generator(xx):\n",
    "        for x in xx:\n",
    "            lambda_theta, lambda_phi, lambda_theta_phi = lambdas(x)\n",
    "\n",
    "            histsMC = makeHists(\"medium_isotropic_eff_ag1230ag_np_9deg.dat\", \"_MC\", bins, lambda_theta, lambda_phi, lambda_theta_phi)\n",
    "            chi2, ndf = calcOneChi2(histsMC[0][0], histsData[0][0])\n",
    "            allHistsMC.append(histsMC[0][0])\n",
    "            if not chi2 or not ndf:\n",
    "                return torch.tensor([0])\n",
    "            yield torch.tensor([1./(chi2 / ndf)])\n",
    "    return torch.stack([a for a in generator(xx)])"
   ],
   "outputs": [],
   "metadata": {}
  },
  {
   "cell_type": "code",
   "execution_count": 24,
   "source": [
    "strategy = \"cei\"  # \"cei\" or \"ei\"\n",
    "strategy = strategy.upper()\n",
    "\n",
    "# -2 is the default value when no feasible has been found\n",
    "default_value = -2\n",
    "feasible_incumbents = torch.ones((num_repeats, num_queries)) * default_value\n",
    "\n",
    "for trial in range(num_repeats):\n",
    "    print(\"trial\", trial)\n",
    "\n",
    "    torch.manual_seed(trial)\n",
    "    train_x = bounds[0] + (bounds[1] - bounds[0]) * torch.rand(num_samples, 3)\n",
    "    train_utility = objective(train_x)\n",
    "    train_cost = cost(train_x)\n",
    "\n",
    "    for i in tqdm(range(num_queries)):\n",
    "        print(\"query\", i)\n",
    "\n",
    "        feasible_flag = (train_cost <= 0).any()\n",
    "\n",
    "        if feasible_flag:\n",
    "            feasible_incumbents[trial, i] = train_utility[train_cost <= 0].max()\n",
    "\n",
    "        utility_model, utility_likelihood = fit_gp_model(\n",
    "            train_x, train_utility.squeeze(-1)\n",
    "        )\n",
    "        cost_model, cost_likelihood = fit_gp_model(train_x, train_cost.squeeze(-1))\n",
    "\n",
    "        if feasible_flag:\n",
    "            best_f = train_utility[train_cost <= 0].max()\n",
    "        else:\n",
    "            best_f = torch.tensor(default_value)\n",
    "\n",
    "        if strategy == \"EI\":\n",
    "            policy = botorch.acquisition.analytic.ExpectedImprovement(\n",
    "                model=utility_model,\n",
    "                best_f=train_utility.max(),\n",
    "            )\n",
    "\n",
    "        if strategy == \"CEI\":\n",
    "            policy = botorch.acquisition.analytic.ConstrainedExpectedImprovement(\n",
    "                model=botorch.models.model_list_gp_regression.ModelListGP(\n",
    "                    utility_model, cost_model\n",
    "                ),\n",
    "                best_f=best_f,\n",
    "                objective_index=0,\n",
    "                constraints={1: [-1,1]}\n",
    "            )\n",
    "        \n",
    "        with warnings.catch_warnings():\n",
    "            warnings.filterwarnings('ignore', category=RuntimeWarning)\n",
    "            next_x, acq_val = botorch.optim.optimize_acqf(\n",
    "                policy,\n",
    "                bounds=bounds,\n",
    "                q=1,\n",
    "                num_restarts=40,\n",
    "                raw_samples=100,\n",
    "            )\n",
    "\n",
    "        next_utility = objective(next_x)\n",
    "        next_cost = cost(next_x)\n",
    "\n",
    "        train_x = torch.cat([train_x, next_x])\n",
    "        train_utility = torch.cat([train_utility, next_utility])\n",
    "        train_cost = torch.cat([train_cost, next_cost])"
   ],
   "outputs": [
    {
     "output_type": "stream",
     "name": "stdout",
     "text": [
      "trial 0\n",
      "iter 10\n",
      "Before processing events 23:14:01\n"
     ]
    },
    {
     "output_type": "display_data",
     "data": {
      "application/vnd.jupyter.widget-view+json": {
       "version_major": 2,
       "version_minor": 0,
       "model_id": "061a10ec18ff4914b739ec6fff57d0aa"
      },
      "text/plain": [
       "  0%|          | 0/1385092 [00:00<?, ?it/s]"
      ]
     },
     "metadata": {}
    },
    {
     "output_type": "stream",
     "name": "stdout",
     "text": [
      "After processing events 23:14:32\n",
      "iter 11\n",
      "Before processing events 23:15:07\n"
     ]
    },
    {
     "output_type": "display_data",
     "data": {
      "application/vnd.jupyter.widget-view+json": {
       "version_major": 2,
       "version_minor": 0,
       "model_id": "8077d08ededa4a2094715f3a7198f464"
      },
      "text/plain": [
       "  0%|          | 0/1385092 [00:00<?, ?it/s]"
      ]
     },
     "metadata": {}
    },
    {
     "output_type": "stream",
     "name": "stdout",
     "text": [
      "After processing events 23:15:38\n",
      "iter 12\n",
      "Before processing events 23:16:13\n"
     ]
    },
    {
     "output_type": "display_data",
     "data": {
      "application/vnd.jupyter.widget-view+json": {
       "version_major": 2,
       "version_minor": 0,
       "model_id": "8c1c45beb1be45fd8f56bfb07d361b34"
      },
      "text/plain": [
       "  0%|          | 0/1385092 [00:00<?, ?it/s]"
      ]
     },
     "metadata": {}
    },
    {
     "output_type": "stream",
     "name": "stdout",
     "text": [
      "After processing events 23:16:44\n",
      "iter 13\n",
      "Before processing events 23:17:18\n"
     ]
    },
    {
     "output_type": "display_data",
     "data": {
      "application/vnd.jupyter.widget-view+json": {
       "version_major": 2,
       "version_minor": 0,
       "model_id": "e855dcfec8034c9c8472545bfc2c63f7"
      },
      "text/plain": [
       "  0%|          | 0/1385092 [00:00<?, ?it/s]"
      ]
     },
     "metadata": {}
    },
    {
     "output_type": "stream",
     "name": "stdout",
     "text": [
      "After processing events 23:17:51\n",
      "iter 14\n",
      "Before processing events 23:18:25\n"
     ]
    },
    {
     "output_type": "display_data",
     "data": {
      "application/vnd.jupyter.widget-view+json": {
       "version_major": 2,
       "version_minor": 0,
       "model_id": "2064a0ab6bc04503aab072cce9be6bd5"
      },
      "text/plain": [
       "  0%|          | 0/1385092 [00:00<?, ?it/s]"
      ]
     },
     "metadata": {}
    },
    {
     "output_type": "stream",
     "name": "stdout",
     "text": [
      "After processing events 23:18:57\n"
     ]
    },
    {
     "output_type": "display_data",
     "data": {
      "application/vnd.jupyter.widget-view+json": {
       "version_major": 2,
       "version_minor": 0,
       "model_id": "af22f6e69e764a2294b98f8f79cdfe25"
      },
      "text/plain": [
       "  0%|          | 0/3 [00:00<?, ?it/s]"
      ]
     },
     "metadata": {}
    },
    {
     "output_type": "stream",
     "name": "stdout",
     "text": [
      "query 0\n",
      "iter 15\n",
      "Before processing events 23:19:33\n"
     ]
    },
    {
     "output_type": "display_data",
     "data": {
      "application/vnd.jupyter.widget-view+json": {
       "version_major": 2,
       "version_minor": 0,
       "model_id": "224b9b8f569a47ecb680b12b7230440e"
      },
      "text/plain": [
       "  0%|          | 0/1385092 [00:00<?, ?it/s]"
      ]
     },
     "metadata": {}
    },
    {
     "output_type": "stream",
     "name": "stdout",
     "text": [
      "After processing events 23:20:05\n",
      "query 1\n",
      "iter 16\n",
      "Before processing events 23:20:41\n"
     ]
    },
    {
     "output_type": "display_data",
     "data": {
      "application/vnd.jupyter.widget-view+json": {
       "version_major": 2,
       "version_minor": 0,
       "model_id": "ab68e83f72e2451c98fae965accfcf79"
      },
      "text/plain": [
       "  0%|          | 0/1385092 [00:00<?, ?it/s]"
      ]
     },
     "metadata": {}
    },
    {
     "output_type": "stream",
     "name": "stdout",
     "text": [
      "After processing events 23:21:12\n",
      "query 2\n",
      "iter 17\n",
      "Before processing events 23:21:48\n"
     ]
    },
    {
     "output_type": "display_data",
     "data": {
      "application/vnd.jupyter.widget-view+json": {
       "version_major": 2,
       "version_minor": 0,
       "model_id": "03359920729d4fbdaac1d8e438b45d2b"
      },
      "text/plain": [
       "  0%|          | 0/1385092 [00:00<?, ?it/s]"
      ]
     },
     "metadata": {}
    },
    {
     "output_type": "stream",
     "name": "stdout",
     "text": [
      "After processing events 23:22:20\n"
     ]
    },
    {
     "output_type": "stream",
     "name": "stderr",
     "text": [
      "Warning in <TROOT::Append>: Replacing existing TH1: hmass_MC (Potential memory leak).\n",
      "Warning in <TROOT::Append>: Replacing existing TH1: hz_MC (Potential memory leak).\n",
      "Warning in <TROOT::Append>: Replacing existing TH1: hmass_MC (Potential memory leak).\n",
      "Warning in <TROOT::Append>: Replacing existing TH1: hz_MC (Potential memory leak).\n",
      "Warning in <TROOT::Append>: Replacing existing TH1: hmass_MC (Potential memory leak).\n",
      "Warning in <TROOT::Append>: Replacing existing TH1: hz_MC (Potential memory leak).\n",
      "Warning in <TROOT::Append>: Replacing existing TH1: hmass_MC (Potential memory leak).\n",
      "Warning in <TROOT::Append>: Replacing existing TH1: hz_MC (Potential memory leak).\n"
     ]
    }
   ],
   "metadata": {}
  },
  {
   "cell_type": "code",
   "execution_count": 25,
   "source": [
    "torch.save(feasible_incumbents, f\"./{strategy}.pth\")\n",
    "fout = TFile(\"out.root\", \"RECREATE\")\n",
    "fout.cd()\n",
    "for hist in allHistsMC:\n",
    "    print (\"Writing hist: \", hist.GetName())\n",
    "    hist.Write()\n",
    "for j, hists in enumerate(histsData):\n",
    "    for k, hist in enumerate(hists):\n",
    "            hist.Write()\n",
    "            print (\"Writing hist: \", j, k, hist)\n",
    "fout.Close()"
   ],
   "outputs": [
    {
     "output_type": "stream",
     "name": "stdout",
     "text": [
      "Writing hist:  hist_0to150_m06m02_MC_iter10\n",
      "Writing hist:  hist_0to150_m06m02_MC_iter11\n",
      "Writing hist:  hist_0to150_m06m02_MC_iter12\n",
      "Writing hist:  hist_0to150_m06m02_MC_iter13\n",
      "Writing hist:  hist_0to150_m06m02_MC_iter14\n",
      "Writing hist:  hist_0to150_m06m02_MC_iter15\n",
      "Writing hist:  hist_0to150_m06m02_MC_iter16\n",
      "Writing hist:  hist_0to150_m06m02_MC_iter17\n",
      "Writing hist:  0 0 Name: hist_0to150_m06m02_data_iter9 Title: hist_0to150_m06m02_data_iter9 NbinsX: 20\n",
      "Writing hist:  0 1 Name: hist_0to150_m02p01_data_iter9 Title: hist_0to150_m02p01_data_iter9 NbinsX: 20\n",
      "Writing hist:  0 2 Name: hist_0to150_p01p08_data_iter9 Title: hist_0to150_p01p08_data_iter9 NbinsX: 20\n",
      "Writing hist:  0 3 Name: hist_150to300_m06m02_data_iter9 Title: hist_150to300_m06m02_data_iter9 NbinsX: 20\n",
      "Writing hist:  0 4 Name: hist_150to300_m02p01_data_iter9 Title: hist_150to300_m02p01_data_iter9 NbinsX: 20\n",
      "Writing hist:  0 5 Name: hist_150to300_p01p08_data_iter9 Title: hist_150to300_p01p08_data_iter9 NbinsX: 20\n",
      "Writing hist:  0 6 Name: hist_300to450_m06m02_data_iter9 Title: hist_300to450_m06m02_data_iter9 NbinsX: 20\n",
      "Writing hist:  0 7 Name: hist_300to450_m02p01_data_iter9 Title: hist_300to450_m02p01_data_iter9 NbinsX: 20\n",
      "Writing hist:  0 8 Name: hist_300to450_p01p08_data_iter9 Title: hist_300to450_p01p08_data_iter9 NbinsX: 20\n",
      "Writing hist:  0 9 Name: hist_450to600_m06m02_data_iter9 Title: hist_450to600_m06m02_data_iter9 NbinsX: 20\n",
      "Writing hist:  0 10 Name: hist_450to600_m02p01_data_iter9 Title: hist_450to600_m02p01_data_iter9 NbinsX: 20\n",
      "Writing hist:  0 11 Name: hist_450to600_p01p08_data_iter9 Title: hist_450to600_p01p08_data_iter9 NbinsX: 20\n",
      "Writing hist:  1 0 Name: hmass_data Title: hmass_data NbinsX: 100\n",
      "Writing hist:  2 0 Name: hz_data Title: hz_data NbinsX: 100\n"
     ]
    }
   ],
   "metadata": {}
  },
  {
   "cell_type": "code",
   "execution_count": 26,
   "source": [
    "t = torch.tensor( [ [-1.0000, -0.4678,  0.5433]])\n",
    "print(t)\n",
    "print(t.shape)\n",
    "cost(t)"
   ],
   "outputs": [
    {
     "output_type": "stream",
     "name": "stdout",
     "text": [
      "tensor([[-1.0000, -0.4678,  0.5433]])\n",
      "torch.Size([1, 3])\n"
     ]
    },
    {
     "output_type": "execute_result",
     "data": {
      "text/plain": [
       "tensor([[1]])"
      ]
     },
     "metadata": {},
     "execution_count": 26
    }
   ],
   "metadata": {}
  },
  {
   "cell_type": "code",
   "execution_count": 27,
   "source": [
    "with torch.no_grad():\n",
    "    predictive_distribution = cost_likelihood(cost_model(xs))\n",
    "    predictive_mean = predictive_distribution.mean\n",
    "    predictive_lower, predictive_upper = predictive_distribution.confidence_region()\n"
   ],
   "outputs": [],
   "metadata": {}
  },
  {
   "cell_type": "code",
   "execution_count": 35,
   "source": [
    "from ipywidgets import interact, Layout, IntSlider\n",
    "import numpy as np\n",
    "\n",
    "def oneplot(ax, tensor, index, cmap):\n",
    "        tensor_3d = torch.reshape(tensor, (101,101,101))\n",
    "        pos = ax.imshow(tensor_3d[index], cmap=cmap, interpolation=\"nearest\", origin=\"lower\", \n",
    "        vmin=tensor.min(), vmax=tensor.max(), extent=[-1,1,-1,1])\n",
    "        plt.colorbar(pos)\n",
    "\n",
    "def f(x):\n",
    "        cmap = \"gist_rainbow\"\n",
    "        fig, ax = plt.subplots(nrows=2, ncols=2, figsize=(6, 6))\n",
    "        oneplot(ax[0][0], predictive_mean, x, cmap)\n",
    "        oneplot(ax[0][1], predictive_lower, x, cmap)\n",
    "        oneplot(ax[1][1], predictive_upper, x, cmap)\n",
    "        oneplot(ax[1][0], predictive_upper-predictive_lower, x, cmap)\n",
    "\n",
    "interact(f, x=IntSlider(50, 0, 100, 1, layout=Layout(width='500px')))\n"
   ],
   "outputs": [
    {
     "output_type": "display_data",
     "data": {
      "application/vnd.jupyter.widget-view+json": {
       "version_major": 2,
       "version_minor": 0,
       "model_id": "7a76a33c200442e6b11adf0f3c6ffeb4"
      },
      "text/plain": [
       "interactive(children=(IntSlider(value=50, description='x', layout=Layout(width='500px')), Output()), _dom_clas…"
      ]
     },
     "metadata": {}
    },
    {
     "output_type": "execute_result",
     "data": {
      "text/plain": [
       "<function __main__.f(x)>"
      ]
     },
     "metadata": {},
     "execution_count": 35
    }
   ],
   "metadata": {}
  },
  {
   "cell_type": "code",
   "execution_count": 29,
   "source": [
    "with torch.no_grad():\n",
    "    predictive_distribution_cost = cost_likelihood(cost_model(xs))\n",
    "    predictive_mean_cost = predictive_distribution.mean\n",
    "    predictive_lower_cost, predictive_upper_cost = predictive_distribution.confidence_region()\n",
    "\n",
    "\n",
    "def g(x):\n",
    "        cmap = \"cool\"\n",
    "        fig, ax = plt.subplots(nrows=2, ncols=2, figsize=(6, 6))\n",
    "        oneplot(ax[0][0], predictive_mean_cost, x, cmap)\n",
    "        oneplot(ax[0][1], predictive_lower_cost, x, cmap)\n",
    "        oneplot(ax[1][1], predictive_upper_cost, x, cmap)\n",
    "        oneplot(ax[1][0], predictive_upper_cost-predictive_lower_cost, x, cmap)\n",
    "\n",
    "\n",
    "interact(g, x=IntSlider(50, 0, 100, 1, layout=Layout(width='500px')))"
   ],
   "outputs": [
    {
     "output_type": "display_data",
     "data": {
      "application/vnd.jupyter.widget-view+json": {
       "version_major": 2,
       "version_minor": 0,
       "model_id": "4577c09d6d854f21ae88acfcc5962783"
      },
      "text/plain": [
       "interactive(children=(IntSlider(value=50, description='x', layout=Layout(width='500px')), Output()), _dom_clas…"
      ]
     },
     "metadata": {}
    },
    {
     "output_type": "execute_result",
     "data": {
      "text/plain": [
       "<function __main__.g(x)>"
      ]
     },
     "metadata": {},
     "execution_count": 29
    }
   ],
   "metadata": {}
  },
  {
   "cell_type": "code",
   "execution_count": 30,
   "source": [
    "a = torch.tensor([1,2,3])\n",
    "b = torch.Tensor([4,5,6])\n",
    "torch.stack([a,b])"
   ],
   "outputs": [
    {
     "output_type": "execute_result",
     "data": {
      "text/plain": [
       "tensor([[1., 2., 3.],\n",
       "        [4., 5., 6.]])"
      ]
     },
     "metadata": {},
     "execution_count": 30
    }
   ],
   "metadata": {}
  },
  {
   "cell_type": "code",
   "execution_count": null,
   "source": [],
   "outputs": [],
   "metadata": {}
  }
 ],
 "metadata": {
  "interpreter": {
   "hash": "99cab06c27f02725e88b2dbe1836c12fd9df359a24b9134df2d5dc04c534a853"
  },
  "kernelspec": {
   "name": "python3",
   "display_name": "Python 3.11.4 64-bit ('pyroot': conda)"
  },
  "language_info": {
   "codemirror_mode": {
    "name": "ipython",
    "version": 3
   },
   "file_extension": ".py",
   "mimetype": "text/x-python",
   "name": "python",
   "nbconvert_exporter": "python",
   "pygments_lexer": "ipython3",
   "version": "3.11.4"
  },
  "orig_nbformat": 4
 },
 "nbformat": 4,
 "nbformat_minor": 2
}