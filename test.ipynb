{
 "cells": [
  {
   "cell_type": "code",
   "execution_count": null,
   "metadata": {},
   "outputs": [],
   "source": []
  },
  {
   "cell_type": "code",
   "execution_count": 1,
   "metadata": {},
   "outputs": [
    {
     "name": "stdout",
     "output_type": "stream",
     "text": [
      "Welcome to JupyROOT 6.28/04\n"
     ]
    }
   ],
   "source": [
    "from eventsreader import SpdmeEventsReader\n",
    "from surrogatedistributionbuilder import SurrogateDistributionBuilder\n",
    "from distributionbuilder import DistributionBuilder\n",
    "from bins import Bins\n",
    "from ROOT import TCanvas, TMath\n",
    "from utils import calcOneChi2\n",
    "import math"
   ]
  },
  {
   "cell_type": "code",
   "execution_count": 2,
   "metadata": {},
   "outputs": [
    {
     "name": "stdout",
     "output_type": "stream",
     "text": [
      "iter 0\n",
      "Before processing events 16:04:18\n",
      "After processing events 16:04:20\n"
     ]
    }
   ],
   "source": [
    "bins = Bins.readFrom(\"ranges.yml\")\n",
    "filenameData = \"apr12_diele_088_090_ag123ag_2500A_accepted_np_2.dat\"\n",
    "readerData = SpdmeEventsReader(filenameData)\n",
    "builderData = DistributionBuilder(\"testData\", readerData.getEvents(), bins)\n",
    "filename = \"medium_isotropic_eff_ag1230ag_np_9deg.dat\"\n",
    "reader = SpdmeEventsReader(filename)\n",
    "builder = SurrogateDistributionBuilder(\"test\", reader.getEvents(), bins)"
   ]
  },
  {
   "cell_type": "code",
   "execution_count": 3,
   "metadata": {},
   "outputs": [
    {
     "name": "stdout",
     "output_type": "stream",
     "text": [
      "iter 1\n",
      "Before processing events 16:04:21\n",
      "After processing events 16:04:21\n"
     ]
    }
   ],
   "source": [
    "# lambda_theta, lambda_phi, lambda_theta_phi = 2.2668e-01, -2.8663e-01, -3.4256e-01\n",
    "# lambda_theta, lambda_phi, lambda_theta_phi = 1, 0, 0\n",
    "#lambda_theta, lambda_phi, lambda_theta_phi = -6.7520e-01,  5.0837e-02,  1.0768e-02\n",
    "lambda_theta, lambda_phi, lambda_theta_phi = -1.0,  0, 0\n",
    "\n",
    "builder.setParameters(lambda_theta, lambda_phi, lambda_theta_phi)\n",
    "hists = builder.getHists()\n",
    "builderData.setParameters(1.0, 0.0, 0.0)\n",
    "histsData = builderData.getHists()"
   ]
  },
  {
   "cell_type": "code",
   "execution_count": 4,
   "metadata": {},
   "outputs": [
    {
     "data": {
      "image/png": "[encoded data removed]",
      "text/plain": [
       "<IPython.core.display.Image object>"
      ]
     },
     "metadata": {},
     "output_type": "display_data"
    }
   ],
   "source": [
    "can3 = TCanvas(\"c\",\"C\",800,400)\n",
    "can3.Divide(2,1)\n",
    "can3.Draw()\n",
    "can3.cd(1)\n",
    "hists[0][1].Draw(\"COLZ\")\n",
    "can3.cd(2)\n",
    "histsData[0][1].Draw(\"COLZ\")"
   ]
  },
  {
   "cell_type": "code",
   "execution_count": 5,
   "metadata": {},
   "outputs": [
    {
     "name": "stdout",
     "output_type": "stream",
     "text": [
      "592.0696972372883 484 0.8174713251808657\n"
     ]
    }
   ],
   "source": [
    "chi2, ndf = calcOneChi2(hists[0][1], histsData[0][1])\n",
    "print(chi2, ndf, 1.0/(chi2 / ndf))"
   ]
  },
  {
   "cell_type": "code",
   "execution_count": 11,
   "metadata": {},
   "outputs": [
    {
     "data": {
      "text/plain": [
       "21"
      ]
     },
     "execution_count": 11,
     "metadata": {},
     "output_type": "execute_result"
    }
   ],
   "source": [
    "import numpy as np\n",
    "np.uint8(21.0)"
   ]
  },
  {
   "cell_type": "code",
   "execution_count": null,
   "metadata": {},
   "outputs": [],
   "source": []
  }
 ],
 "metadata": {
  "kernelspec": {
   "display_name": "Python 3",
   "language": "python",
   "name": "python3"
  },
  "language_info": {
   "codemirror_mode": {
    "name": "ipython",
    "version": 3
   },
   "file_extension": ".py",
   "mimetype": "text/x-python",
   "name": "python",
   "nbconvert_exporter": "python",
   "pygments_lexer": "ipython3",
   "version": "3.11.4"
  },
  "orig_nbformat": 4
 },
 "nbformat": 4,
 "nbformat_minor": 2
}
